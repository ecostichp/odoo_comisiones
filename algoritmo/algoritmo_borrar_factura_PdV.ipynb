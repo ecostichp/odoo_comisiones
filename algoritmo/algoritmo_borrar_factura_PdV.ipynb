{
 "cells": [
  {
   "cell_type": "code",
   "execution_count": null,
   "metadata": {},
   "outputs": [],
   "source": [
    "import xmlrpc.client\n",
    "import os\n",
    "\n",
    "api_url = os.environ.get('ODOO_URL_API')\n",
    "api_db = os.environ.get('ODOO_DB_API')\n",
    "api_username = os.environ.get('ODOO_USERNAME_API')\n",
    "api_clave = os.environ.get('ODOO_CLAVE_API')\n",
    "\n",
    "common = xmlrpc.client.ServerProxy(f'{api_url}/xmlrpc/2/common')\n",
    "uid = common.authenticate(api_db, api_username, api_clave, {})\n",
    "models = xmlrpc.client.ServerProxy(f'{api_url}/xmlrpc/2/object')"
   ]
  },
  {
   "cell_type": "code",
   "execution_count": null,
   "metadata": {},
   "outputs": [],
   "source": [
    "id_to_cancel = 91910"
   ]
  },
  {
   "cell_type": "code",
   "execution_count": null,
   "metadata": {},
   "outputs": [],
   "source": [
    "fact_cancel = models.execute_kw(api_db, uid, api_clave, 'account.move', 'read', [[id_to_cancel]], {'fields': ['l10n_mx_edi_cfdi_sat_state']})\n",
    "\n",
    "if len(fact_cancel) == 0:\n",
    "    print(f'El registro ID:{id_to_cancel} no existe')\n",
    "\n",
    "elif fact_cancel[0]['l10n_mx_edi_cfdi_sat_state'] != 'cancelled':\n",
    "\n",
    "    print(f'El registro ID:{id_to_cancel} no está cancelado correctamente ante el SAT')\n",
    "\n",
    "else:\n",
    "    models.execute_kw(api_db, uid, api_clave, 'account.move', 'write', [[id_to_cancel], \n",
    "            {\n",
    "            'attachment_ids': False,\n",
    "            'l10n_mx_edi_invoice_document_ids': False,\n",
    "            'l10n_mx_edi_payment_document_ids': False,\n",
    "            'l10n_mx_edi_document_ids': False\n",
    "            }])\n",
    "\n",
    "    models.execute_kw(api_db, uid, api_clave, 'account.move', 'unlink', [[id_to_cancel]])\n",
    "\n",
    "    print('La factura se desvinculó con éxito')"
   ]
  },
  {
   "cell_type": "code",
   "execution_count": null,
   "metadata": {},
   "outputs": [],
   "source": [
    "models.execute_kw(api_db, uid, api_clave, 'account.move', 'read', [[id_to_cancel]])"
   ]
  }
 ],
 "metadata": {
  "kernelspec": {
   "display_name": "env_algoritmo-comisiones-Odoo",
   "language": "python",
   "name": "python3"
  },
  "language_info": {
   "codemirror_mode": {
    "name": "ipython",
    "version": 3
   },
   "file_extension": ".py",
   "mimetype": "text/x-python",
   "name": "python",
   "nbconvert_exporter": "python",
   "pygments_lexer": "ipython3",
   "version": "3.11.5"
  }
 },
 "nbformat": 4,
 "nbformat_minor": 2
}
