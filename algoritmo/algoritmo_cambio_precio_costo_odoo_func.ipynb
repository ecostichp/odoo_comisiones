{
 "cells": [
  {
   "cell_type": "code",
   "execution_count": null,
   "metadata": {},
   "outputs": [],
   "source": [
    "import os\n",
    "import xmlrpc.client\n",
    "import pandas as pd"
   ]
  },
  {
   "cell_type": "code",
   "execution_count": null,
   "metadata": {},
   "outputs": [],
   "source": [
    "def api_params_func(test_db: bool = False) -> dict:\n",
    "\n",
    "    api_url = os.environ.get('ODOO_URL_API')\n",
    "    api_db = os.environ.get('ODOO_DB_API')\n",
    "    api_test_db = os.environ.get('ODOO_DB_PRUEBA_API')\n",
    "    api_username = os.environ.get('ODOO_USERNAME_API')\n",
    "    api_clave = os.environ.get('ODOO_CLAVE_API')\n",
    "\n",
    "\n",
    "    api_params = {}\n",
    "    if test_db:\n",
    "        api_params['api_db'] = api_test_db\n",
    "    else:\n",
    "        api_params['api_db'] = api_db\n",
    "\n",
    "\n",
    "    common = xmlrpc.client.ServerProxy(f'{api_url}/xmlrpc/2/common')\n",
    "    uid = common.authenticate(api_params['api_db'], api_username, api_clave, {})\n",
    "    models = xmlrpc.client.ServerProxy(f'{api_url}/xmlrpc/2/object')\n",
    "\n",
    "\n",
    "    api_params['api_clave'] = api_clave\n",
    "    api_params['api_uid'] = uid\n",
    "    api_params['api_models'] = models\n",
    "\n",
    "    return api_params"
   ]
  },
  {
   "cell_type": "code",
   "execution_count": null,
   "metadata": {},
   "outputs": [],
   "source": [
    "def api_call_purchase_orders_func(api_params: dict, compras: list[str]) -> list[ list[dict] | list[str]]:\n",
    "\n",
    "    api_db = api_params['api_db']\n",
    "    api_clave = api_params['api_clave']\n",
    "    uid = api_params['api_uid']\n",
    "    models = api_params['api_models']\n",
    "\n",
    "\n",
    "    upper_compras = list(map(lambda x: x.upper(), set(compras)))\n",
    "\n",
    "    fields_purchase_order = ['state', 'name', 'x_fecha_factura']\n",
    "    purchase_order_ids = models.execute_kw(api_db, uid, api_clave, 'purchase.order', 'search', [[(\"name\", \"in\", upper_compras)]])\n",
    "    purchase_order_json = models.execute_kw(api_db, uid, api_clave, 'purchase.order', 'read', [purchase_order_ids], {'fields':fields_purchase_order})\n",
    "\n",
    "    return purchase_order_json, upper_compras"
   ]
  },
  {
   "cell_type": "code",
   "execution_count": null,
   "metadata": {},
   "outputs": [],
   "source": [
    "def api_call_purchase_lines_func(api_params: dict, purchase_ids: list[int]) -> list[dict]:\n",
    "\n",
    "    api_db = api_params['api_db']\n",
    "    api_clave = api_params['api_clave']\n",
    "    uid = api_params['api_uid']\n",
    "    models = api_params['api_models']\n",
    "\n",
    "\n",
    "    fields_purchase_lines = ['product_id', 'price_unit_discounted', 'order_id']\n",
    "    purchase_lines_ids = models.execute_kw(api_db, uid, api_clave, 'purchase.order.line', 'search', [[(\"order_id\", \"in\", purchase_ids)]])\n",
    "    purchase_lines_json = models.execute_kw(api_db, uid, api_clave, 'purchase.order.line', 'read', [purchase_lines_ids], {'fields':fields_purchase_lines})\n",
    "\n",
    "\n",
    "    return purchase_lines_json"
   ]
  },
  {
   "cell_type": "code",
   "execution_count": null,
   "metadata": {},
   "outputs": [],
   "source": [
    "def api_call_product_product_func(api_params: dict, data_product_ids: list[int]) -> list[dict]:\n",
    "\n",
    "    api_db = api_params['api_db']\n",
    "    api_clave = api_params['api_clave']\n",
    "    uid = api_params['api_uid']\n",
    "    models = api_params['api_models']\n",
    "\n",
    "\n",
    "    fields_product_product = ['product_tmpl_id', 'x_factor_utilidad']\n",
    "    product_product_json = models.execute_kw(api_db, uid, api_clave, 'product.product', 'read', [data_product_ids], {'fields':fields_product_product})\n",
    "\n",
    "\n",
    "    return product_product_json"
   ]
  },
  {
   "cell_type": "code",
   "execution_count": null,
   "metadata": {},
   "outputs": [],
   "source": [
    "def purchases_check_func(purchase_order_json: list[dict], upper_compras: list[str]) -> list[bool, list[int], list[dict]]:\n",
    "\n",
    "    data_purchase_orders = []\n",
    "    purchase_ids = []\n",
    "    not_state_purchase = []\n",
    "    not_fecha_factura_found = []\n",
    "    compra_names = []\n",
    "\n",
    "\n",
    "    for p in purchase_order_json:\n",
    "       \n",
    "        new = {}\n",
    "        new['order_id'] = p['id']\n",
    "        new['fecha_factura'] = p['x_fecha_factura']\n",
    "        data_purchase_orders.append(new)\n",
    "        \n",
    "        purchase_ids.append(p['id'])\n",
    "        compra_names.append(p['name'])\n",
    "\n",
    "        if p['state'] != 'purchase':\n",
    "            not_state_purchase.append(p['name'])\n",
    "\n",
    "        if not p['x_fecha_factura']:\n",
    "            not_fecha_factura_found.append(p['name'])\n",
    "\n",
    "\n",
    "\n",
    "    not_compra_found = []\n",
    "    for c in upper_compras:\n",
    "        if c not in compra_names:\n",
    "            not_compra_found.append(c)\n",
    "\n",
    "\n",
    "    if not_compra_found or not_state_purchase or not_fecha_factura_found:\n",
    "        print('Existen errores en la lista de compras, por favor corrígelos: \\n')\n",
    "        \n",
    "        if not_compra_found:\n",
    "            print('\\t Las siguientes compras no son válidas:', not_compra_found)\n",
    "        if not_state_purchase:\n",
    "            print('\\t Las siguientes compras no tienen el estado como \"Orden de compra\":', not_state_purchase)\n",
    "        if not_fecha_factura_found:\n",
    "            print('\\t Las siguientes compras no cuentan con fecha en el campo \"Fecha factura\":', not_fecha_factura_found)\n",
    "\n",
    "        return False, 0, 0\n",
    "    \n",
    "    else:\n",
    "        return True, purchase_ids, data_purchase_orders"
   ]
  },
  {
   "cell_type": "code",
   "execution_count": null,
   "metadata": {},
   "outputs": [],
   "source": [
    "def purchase_lines_to_dict_func(purchase_lines_json: list[dict]) -> list[dict, int]:\n",
    "\n",
    "    data_purchase_lines = []\n",
    "    data_product_ids = []\n",
    "\n",
    "    for purchase in purchase_lines_json:\n",
    "        new = {}\n",
    "        new['purchase_line_id'] = purchase['id']\n",
    "        new['product_id_pp'] = purchase['product_id'][0]\n",
    "        new['purchase_cost'] = purchase['price_unit_discounted']\n",
    "        new['order_id'] = purchase['order_id'][0]\n",
    "\n",
    "        data_product_ids.append(purchase['product_id'][0])\n",
    "        data_purchase_lines.append(new)\n",
    "\n",
    "    data_product_ids = list(set(data_product_ids))\n",
    "\n",
    "    return data_purchase_lines, data_product_ids"
   ]
  },
  {
   "cell_type": "code",
   "execution_count": null,
   "metadata": {},
   "outputs": [],
   "source": [
    "def product_product_to_dict_func(product_product_json: list[dict]) -> list[dict]:\n",
    "\n",
    "    data_product_lines = []\n",
    "\n",
    "    for product in product_product_json:\n",
    "        new = {}\n",
    "        new['product_id'] = product['product_tmpl_id'][0]\n",
    "        new['product_id_pp'] = product['id']\n",
    "        new['factor_utilidad'] = product['x_factor_utilidad']\n",
    "\n",
    "        data_product_lines.append(new)\n",
    "\n",
    "    return data_product_lines"
   ]
  },
  {
   "cell_type": "code",
   "execution_count": null,
   "metadata": {},
   "outputs": [],
   "source": [
    "def complete_precioycosto_df_func(data_purchase_orders: list[dict], data_purchase_lines: list[dict], data_product_lines: list[dict]) -> pd.DataFrame:\n",
    "    \n",
    "    purchase_orders_df = pd.DataFrame(data_purchase_orders)\n",
    "    purchase_orders_df['fecha_factura'] = pd.to_datetime(purchase_orders_df['fecha_factura'], format='%Y-%m-%d')\n",
    "    \n",
    "    purchase_lines_df = pd.DataFrame(data_purchase_lines)\n",
    "    \n",
    "    purchase_df1 = purchase_lines_df.merge(purchase_orders_df, how='left', on='order_id')\n",
    "    purchase_df = purchase_df1.loc[purchase_df1.sort_values(by='fecha_factura', ascending=False)['product_id_pp'].drop_duplicates().index]\n",
    "\n",
    "    data_product_lines_df = pd.DataFrame(data_product_lines)\n",
    "    \n",
    "    complete_precioycosto_df = purchase_df.merge(data_product_lines_df, how='left', on='product_id_pp')\n",
    "\n",
    "    complete_precioycosto_df['product_price'] = complete_precioycosto_df['purchase_cost'] * complete_precioycosto_df['factor_utilidad']\n",
    "    \n",
    "    return complete_precioycosto_df"
   ]
  },
  {
   "cell_type": "code",
   "execution_count": null,
   "metadata": {},
   "outputs": [],
   "source": [
    "def api_write_new_product_data_func(api_params: dict, complete_precioycosto_df: pd.DataFrame) -> str:\n",
    "\n",
    "    api_db = api_params['api_db']\n",
    "    api_clave = api_params['api_clave']\n",
    "    uid = api_params['api_uid']\n",
    "    models = api_params['api_models']\n",
    "\n",
    "    purchase_line_id_items,\tproduct_id_pp_items, purchase_cost_items, fecha_factura_items, product_id_items, factor_utilidad_items, product_price_items = complete_precioycosto_df.items()\n",
    "\n",
    "    for i in range(len(purchase_line_id_items[1])):\n",
    "        try:\n",
    "            models.execute_kw(api_db, uid, api_clave, 'product.template', 'write', [[int(product_id_items[1].iloc[i])], {'standard_price': float(purchase_cost_items[1].iloc[i]), 'x_fecha_costo': fecha_factura_items[1].iloc[i].strftime(format='%Y-%m-%d'), 'x_tipo_costo': 'ultima_compra', 'list_price': float(product_price_items[1].iloc[i])}])\n",
    "        except Exception as e:\n",
    "            print('Error en el product_id', product_id_items[1].iloc[i], 'de product.template')\n",
    "            print(e)\n",
    "            return\n",
    "    \n",
    "    print('Se ingresaron con éxito los nuevos costos y precios')"
   ]
  },
  {
   "cell_type": "code",
   "execution_count": null,
   "metadata": {},
   "outputs": [],
   "source": [
    "def cambio_precio_costo_odoo(compras: list[str], test_db: bool = False) -> str:\n",
    "\n",
    "    api_params = api_params_func(test_db)\n",
    "\n",
    "    purchase_order_json, upper_compras = api_call_purchase_orders_func(api_params, compras)\n",
    "    purchases_check, purchase_ids, data_purchase_orders = purchases_check_func(purchase_order_json, upper_compras)\n",
    "\n",
    "\n",
    "    if purchases_check:\n",
    "\n",
    "        purchase_lines_json = api_call_purchase_lines_func(api_params, purchase_ids)\n",
    "        data_purchase_lines, data_product_ids = purchase_lines_to_dict_func(purchase_lines_json)\n",
    "\n",
    "        product_product_json = api_call_product_product_func(api_params, data_product_ids)\n",
    "        data_product_lines = product_product_to_dict_func(product_product_json)\n",
    "\n",
    "        complete_precioycosto_df = complete_precioycosto_df_func(data_purchase_orders, data_purchase_lines, data_product_lines)\n",
    "\n",
    "        api_write_new_product_data_func(api_params, complete_precioycosto_df)"
   ]
  },
  {
   "cell_type": "markdown",
   "metadata": {},
   "source": [
    "## Pruebas"
   ]
  },
  {
   "cell_type": "code",
   "execution_count": null,
   "metadata": {},
   "outputs": [],
   "source": [
    "compras = ['p01720', 'P01721']"
   ]
  },
  {
   "cell_type": "code",
   "execution_count": null,
   "metadata": {},
   "outputs": [],
   "source": [
    "api_params = api_params_func(True)\n",
    "\n",
    "purchase_order_json, upper_compras = api_call_purchase_orders_func(api_params, compras)\n",
    "purchases_check, purchase_ids, data_purchase_orders = purchases_check_func(purchase_order_json, upper_compras)\n",
    "\n",
    "if purchases_check:\n",
    "\n",
    "    purchase_lines_json = api_call_purchase_lines_func(api_params, purchase_ids)\n",
    "    data_purchase_lines, data_product_ids = purchase_lines_to_dict_func(purchase_lines_json)\n",
    "\n",
    "    product_product_json = api_call_product_product_func(api_params, data_product_ids)\n",
    "    data_product_lines = product_product_to_dict_func(product_product_json)\n",
    "\n",
    "    complete_precioycosto_df = complete_precioycosto_df_func(data_purchase_orders, data_purchase_lines, data_product_lines)\n",
    "\n",
    "    # api_write_new_product_data_func(api_params, complete_precioycosto_df)"
   ]
  },
  {
   "cell_type": "code",
   "execution_count": null,
   "metadata": {},
   "outputs": [],
   "source": [
    "complete_precioycosto_df"
   ]
  }
 ],
 "metadata": {
  "kernelspec": {
   "display_name": "env_algoritmo-comisiones-Odoo",
   "language": "python",
   "name": "python3"
  },
  "language_info": {
   "codemirror_mode": {
    "name": "ipython",
    "version": 3
   },
   "file_extension": ".py",
   "mimetype": "text/x-python",
   "name": "python",
   "nbconvert_exporter": "python",
   "pygments_lexer": "ipython3",
   "version": "3.11.5"
  }
 },
 "nbformat": 4,
 "nbformat_minor": 2
}
