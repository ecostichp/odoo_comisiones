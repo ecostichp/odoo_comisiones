{
 "cells": [
  {
   "cell_type": "code",
   "execution_count": 1,
   "metadata": {},
   "outputs": [],
   "source": [
    "import os\n",
    "import xmlrpc.client\n",
    "import pandas as pd\n",
    "import numpy as np"
   ]
  },
  {
   "cell_type": "code",
   "execution_count": 7,
   "metadata": {},
   "outputs": [],
   "source": [
    "compras = ['P01690', 'P01691']"
   ]
  },
  {
   "cell_type": "code",
   "execution_count": 2,
   "metadata": {},
   "outputs": [],
   "source": [
    "def api_params_func(test_db: bool = False) -> dict:\n",
    "\n",
    "    api_url = os.environ.get('ODOO_URL_API')\n",
    "    api_db = os.environ.get('ODOO_DB_API')\n",
    "    api_test_db = os.environ.get('ODOO_DB_PRUEBA_API')\n",
    "    api_username = os.environ.get('ODOO_USERNAME_API')\n",
    "    api_clave = os.environ.get('ODOO_CLAVE_API')\n",
    "\n",
    "\n",
    "    api_params = {}\n",
    "    if test_db:\n",
    "        api_params['api_db'] = api_test_db\n",
    "    else:\n",
    "        api_params['api_db'] = api_db\n",
    "\n",
    "\n",
    "    common = xmlrpc.client.ServerProxy(f'{api_url}/xmlrpc/2/common')\n",
    "    uid = common.authenticate(api_params['api_db'], api_username, api_clave, {})\n",
    "    models = xmlrpc.client.ServerProxy(f'{api_url}/xmlrpc/2/object')\n",
    "\n",
    "\n",
    "    api_params['api_clave'] = api_clave\n",
    "    api_params['api_uid'] = uid\n",
    "    api_params['api_models'] = models\n",
    "\n",
    "    return api_params"
   ]
  },
  {
   "cell_type": "code",
   "execution_count": 17,
   "metadata": {},
   "outputs": [],
   "source": [
    "def api_call_func(api_params: dict, compras: list[str]) -> list[dict]:\n",
    "\n",
    "    api_db = api_params['api_db']\n",
    "    api_clave = api_params['api_clave']\n",
    "    uid = api_params['api_uid']\n",
    "    models = api_params['api_models']\n",
    "\n",
    "\n",
    "    fields_purchase_lines = ['product_id', 'price_unit_discounted', 'date_order', 'order_id']\n",
    "    purchase_lines_ids = models.execute_kw(api_db, uid, api_clave, 'purchase.order.line', 'search', [[(\"order_id.name\", \"in\", compras)]])\n",
    "    purchase_lines_json = models.execute_kw(api_db, uid, api_clave, 'purchase.order.line', 'read', [purchase_lines_ids], {'fields':fields_purchase_lines})\n",
    "\n",
    "\n",
    "    return purchase_lines_json"
   ]
  },
  {
   "cell_type": "code",
   "execution_count": 21,
   "metadata": {},
   "outputs": [],
   "source": [
    "api_params = api_params_func(True)\n",
    "purchase_lines_json = api_call_func(api_params, compras)\n",
    "purchase_lines_df = purchase_lines_df_fun(purchase_lines_json)"
   ]
  },
  {
   "cell_type": "code",
   "execution_count": 22,
   "metadata": {},
   "outputs": [
    {
     "data": {
      "text/html": [
       "<div>\n",
       "<style scoped>\n",
       "    .dataframe tbody tr th:only-of-type {\n",
       "        vertical-align: middle;\n",
       "    }\n",
       "\n",
       "    .dataframe tbody tr th {\n",
       "        vertical-align: top;\n",
       "    }\n",
       "\n",
       "    .dataframe thead th {\n",
       "        text-align: right;\n",
       "    }\n",
       "</style>\n",
       "<table border=\"1\" class=\"dataframe\">\n",
       "  <thead>\n",
       "    <tr style=\"text-align: right;\">\n",
       "      <th></th>\n",
       "      <th>purchase_line_id</th>\n",
       "      <th>product_id</th>\n",
       "      <th>purchase_cost_unit</th>\n",
       "      <th>purchase_date_order</th>\n",
       "      <th>purchase_order_id</th>\n",
       "      <th>purchase_order_name</th>\n",
       "    </tr>\n",
       "  </thead>\n",
       "  <tbody>\n",
       "    <tr>\n",
       "      <th>0</th>\n",
       "      <td>10146</td>\n",
       "      <td>12432</td>\n",
       "      <td>66.465</td>\n",
       "      <td>2024-04-16 05:04:45</td>\n",
       "      <td>1704</td>\n",
       "      <td>P01691</td>\n",
       "    </tr>\n",
       "    <tr>\n",
       "      <th>1</th>\n",
       "      <td>10145</td>\n",
       "      <td>27848</td>\n",
       "      <td>8000.000</td>\n",
       "      <td>2024-04-15 18:30:25</td>\n",
       "      <td>1703</td>\n",
       "      <td>P01690</td>\n",
       "    </tr>\n",
       "  </tbody>\n",
       "</table>\n",
       "</div>"
      ],
      "text/plain": [
       "   purchase_line_id  product_id  purchase_cost_unit purchase_date_order  \\\n",
       "0             10146       12432              66.465 2024-04-16 05:04:45   \n",
       "1             10145       27848            8000.000 2024-04-15 18:30:25   \n",
       "\n",
       "   purchase_order_id purchase_order_name  \n",
       "0               1704              P01691  \n",
       "1               1703              P01690  "
      ]
     },
     "execution_count": 22,
     "metadata": {},
     "output_type": "execute_result"
    }
   ],
   "source": [
    "purchase_lines_df"
   ]
  },
  {
   "cell_type": "code",
   "execution_count": 20,
   "metadata": {},
   "outputs": [],
   "source": [
    "def purchase_lines_df_fun(purchase_lines_json: list[dict]) -> pd.DataFrame:\n",
    "\n",
    "    data_purchase_lines = []\n",
    "\n",
    "    for purchase in purchase_lines_json:\n",
    "        new = {}\n",
    "        new['purchase_line_id'] = purchase['id']\n",
    "        new['product_id'] = purchase['product_id'][0]\n",
    "        new['purchase_cost_unit'] = purchase['price_unit_discounted']\n",
    "        new['purchase_date_order'] = purchase['date_order']\n",
    "        new['purchase_order_id'] = purchase['order_id'][0]\n",
    "        new['purchase_order_name'] = purchase['order_id'][1]\n",
    "\n",
    "        data_purchase_lines.append(new)\n",
    "\n",
    "    purchase_lines_df1 = pd.DataFrame(data_purchase_lines)\n",
    "    purchase_lines_df1['purchase_date_order'] = pd.to_datetime(purchase_lines_df1['purchase_date_order'], format='%Y-%m-%d %H:%M:%S')\n",
    "    purchase_lines_df1['purchase_line_id'] = purchase_lines_df1['purchase_line_id'].astype('Int64')\n",
    "    purchase_lines_df1['purchase_order_id'] = purchase_lines_df1['purchase_order_id'].astype('Int64')\n",
    "\n",
    "    purchase_lines_df = purchase_lines_df1.loc[purchase_lines_df1['product_id'].drop_duplicates().index]\n",
    "\n",
    "    return purchase_lines_df"
   ]
  },
  {
   "cell_type": "code",
   "execution_count": 19,
   "metadata": {},
   "outputs": [],
   "source": [
    "def complete_costo_df_fun(purchase_lines_df: pd.DataFrame, product_template_df: pd.DataFrame) -> pd.DataFrame:\n",
    "    \n",
    "    complete_costo_df = product_template_df.merge(purchase_lines_df, how='left', on='product_id')\n",
    "\n",
    "\n",
    "    complete_costo_df.loc[(complete_costo_df['write_date'] > complete_costo_df['purchase_date_order']) | (complete_costo_df['purchase_date_order'].isna()), 'cost_type'] = 'REPS'\n",
    "    complete_costo_df.loc[(complete_costo_df['write_date'] > complete_costo_df['purchase_date_order']) | (complete_costo_df['purchase_date_order'].isna()), 'cost_unit'] = complete_costo_df['product_template_cost']\n",
    "    \n",
    "    complete_costo_df.loc[complete_costo_df['purchase_date_order'] > complete_costo_df['write_date'], 'cost_type'] = 'Compra'\n",
    "    complete_costo_df.loc[complete_costo_df['purchase_date_order'] > complete_costo_df['write_date'], 'cost_unit'] = complete_costo_df['purchase_cost_unit']\n",
    "    \n",
    "    complete_costo_df.loc[complete_costo_df['product_type'] == 'service', 'cost_type'] = 'Servicio'\n",
    "    complete_costo_df.loc[complete_costo_df['product_type'] == 'service', 'cost_unit'] = pd.NA\n",
    "\n",
    "    complete_costo_df['cost_unit'] = complete_costo_df['cost_unit'] * -1\n",
    "\n",
    "\n",
    "    return complete_costo_df\n"
   ]
  },
  {
   "cell_type": "code",
   "execution_count": 20,
   "metadata": {},
   "outputs": [],
   "source": [
    "def costo_func(test_db: bool = False) -> pd.DataFrame:\n",
    "    \n",
    "    api_params = api_params_func(test_db)\n",
    "    purchase_lines_json, product_template_json = api_call_func(api_params)\n",
    "\n",
    "    purchase_lines_df = purchase_lines_df_fun(purchase_lines_json)\n",
    "    product_template_df = product_template_df_fun(product_template_json)\n",
    "\n",
    "\n",
    "    complete_costo_df = complete_costo_df_fun(purchase_lines_df, product_template_df)\n",
    "\n",
    "    return complete_costo_df\n"
   ]
  },
  {
   "cell_type": "markdown",
   "metadata": {},
   "source": [
    "## Pruebas"
   ]
  },
  {
   "cell_type": "code",
   "execution_count": 21,
   "metadata": {},
   "outputs": [],
   "source": [
    "api_params = api_params_func()\n",
    "purchase_lines_json, product_template_json = api_call_func(api_params)\n",
    "\n",
    "purchase_lines_df = purchase_lines_df_fun(purchase_lines_json)\n",
    "product_template_df = product_template_df_fun(product_template_json)\n",
    "\n",
    "complete_costo_df = complete_costo_df = complete_costo_df_fun(purchase_lines_df, product_template_df)\n"
   ]
  }
 ],
 "metadata": {
  "kernelspec": {
   "display_name": "env_algoritmo-comisiones-Odoo",
   "language": "python",
   "name": "python3"
  },
  "language_info": {
   "codemirror_mode": {
    "name": "ipython",
    "version": 3
   },
   "file_extension": ".py",
   "mimetype": "text/x-python",
   "name": "python",
   "nbconvert_exporter": "python",
   "pygments_lexer": "ipython3",
   "version": "3.11.5"
  }
 },
 "nbformat": 4,
 "nbformat_minor": 2
}
