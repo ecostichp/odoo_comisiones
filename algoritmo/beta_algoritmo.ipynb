{
 "cells": [
  {
   "cell_type": "markdown",
   "metadata": {},
   "source": [
    "Se importan las librerías necesarias"
   ]
  },
  {
   "cell_type": "code",
   "execution_count": null,
   "metadata": {},
   "outputs": [],
   "source": [
    "# Librerías para manejo del sistema\n",
    "import os\n",
    "from pathlib import Path\n",
    "\n",
    "# Librerías para manejar accesos a datos (SQL y API)\n",
    "from sqlalchemy import create_engine\n",
    "import xmlrpc.client\n",
    "\n",
    "# Librerías para ciencia de datos\n",
    "import pandas as pd\n",
    "import numpy as np\n",
    "\n",
    "# Librerías para graficación de datos\n",
    "import matplotlib.pyplot as plt\n",
    "import seaborn as sns"
   ]
  },
  {
   "cell_type": "markdown",
   "metadata": {},
   "source": [
    "Se importan variables de entorno"
   ]
  },
  {
   "cell_type": "code",
   "execution_count": null,
   "metadata": {},
   "outputs": [],
   "source": [
    "api_url = os.environ.get('ODOO_URL_API')\n",
    "api_db = os.environ.get('ODOO_DB_API')\n",
    "api_username = os.environ.get('ODOO_USERNAME_API')\n",
    "api_clave = os.environ.get('ODOO_CLAVE_API')"
   ]
  },
  {
   "cell_type": "markdown",
   "metadata": {},
   "source": [
    "Se instancia el objeto engine para manejar el acceso a la base de datos local"
   ]
  },
  {
   "cell_type": "code",
   "execution_count": null,
   "metadata": {},
   "outputs": [],
   "source": [
    "db_file = 'local_db.db'\n",
    "db_file_path_str = str(Path().cwd().parent.joinpath(Path(f'data/{db_file}')))\n",
    "\n",
    "engine = create_engine(f'sqlite:///{db_file_path_str}')"
   ]
  },
  {
   "cell_type": "markdown",
   "metadata": {},
   "source": [
    "Se instancia el objeto models para ejecutar métodos a los modelos del API de Odoo"
   ]
  },
  {
   "cell_type": "code",
   "execution_count": null,
   "metadata": {},
   "outputs": [],
   "source": [
    "common = xmlrpc.client.ServerProxy(f'{api_url}/xmlrpc/2/common')\n",
    "uid = common.authenticate(api_db, api_username, api_clave, {})\n",
    "models = xmlrpc.client.ServerProxy(f'{api_url}/xmlrpc/2/object')"
   ]
  },
  {
   "cell_type": "markdown",
   "metadata": {},
   "source": [
    "Se generan funciones que se usarán durante este proyecto para abstraer código y no caer en repeticiones del mismo"
   ]
  },
  {
   "cell_type": "code",
   "execution_count": null,
   "metadata": {},
   "outputs": [],
   "source": [
    "def if_list_gt0_idex0 (item: dict, key: str) -> None | int:\n",
    "        val = item[key]\n",
    "\n",
    "        if val:\n",
    "            if len(val) == 0:\n",
    "                return None\n",
    "            else:\n",
    "                return val[0]\n",
    "        else:\n",
    "            return None"
   ]
  },
  {
   "cell_type": "markdown",
   "metadata": {},
   "source": [
    "Se buscan los ids de las facturas en el modelo <font color=\"#F414FA\">account.move</font> con los criterios de búsqueda `search_fact`. Esto devuelve una lista de enteros (ids de estas facturas) que se almacena en `fact_doc_ids`.\n",
    "\n",
    "Después, se especifican los campos necesarios de este modelo en `fact_doc_fields` y se genera la lectura de los ids anteriores. Esto devuelve una lista de diccionarios con la información de cada factura que se almacena en `fact_doc_json`"
   ]
  },
  {
   "cell_type": "code",
   "execution_count": null,
   "metadata": {},
   "outputs": [],
   "source": [
    "search_fact = [\"&\", \"&\", \"&\",\n",
    "          (\"state\", \"=\", \"posted\"),\n",
    "          (\"invoice_date\", \">=\", \"2024-01-01\"), \n",
    "          (\"invoice_date\", \"<=\", \"2024-01-31\"), \n",
    "          (\"journal_id\", \"in\", [10, 90, 30, 97])]\n",
    "\n",
    "fact_doc_fields = [\n",
    "          'name',\n",
    "          'invoice_date',\n",
    "          'state',\n",
    "          'reversed_entry_id',\n",
    "          'reversal_move_id',\n",
    "          'journal_id',\n",
    "          'company_id',\n",
    "          'invoice_origin',\n",
    "          'pos_order_ids',\n",
    "          'line_ids',\n",
    "          'partner_id',\n",
    "          'move_type',\n",
    "          'invoice_user_id',\n",
    "          'team_id',\n",
    "          ]\n",
    "\n",
    "fact_doc_ids = models.execute_kw(api_db, uid, api_clave, 'account.move', 'search', [search_fact])\n",
    "fact_doc_json = models.execute_kw(api_db, uid, api_clave, 'account.move', 'read', [fact_doc_ids], {'fields': fact_doc_fields})\n"
   ]
  },
  {
   "cell_type": "markdown",
   "metadata": {},
   "source": [
    "El esquema que se obtiene en el modelo de `fact_doc_json` es un esquema donde cada renglón es una factura. Sin embargo, lo que ocupamos es un esquema donde cada renglón es una línea de producto de cada una de las facturas que se encuentran en `fact_doc_json`.\n",
    "\n",
    "Para hacer esto se preparan los datos con un ciclo <font color=\"#14E4FA\">for</font> donde se manipula `fact_doc_json`. Para cada factura dentro de este modelo, se utiliza el campo llamado <font color=\"#14FA4C\">\"line_ids\"</font> (que son la cantidad de líneas que tiene cada factura) para que con un segundo ciclo \"for\" se genere un diccionario de \"línea de factura\" por cada \"línea de factura\" que tiene cada documento de factura.\n",
    "\n",
    "Este diccionario ya manipulado se ingresa a una lista vacía `data_fact`. La lista ya cargada con todos sus elementos es la que se convierte en el DataFrame `fact_doc_df`. Este data frame sólo tiene información de la factura, no hay información de sus líneas, sólo el id de ellas.\n",
    "\n",
    "Para obtener la información de las líneas de factura se genera `fact_doc_ids`, el cual es el listado de los ids de las líneas de cada factura del trabajo anterior. Esto es importante porque se asegura que las ids de línea vienen únicamente de las ids de las facturas que se especificaron en los criterios de búsqueda generales `search_fact`."
   ]
  },
  {
   "cell_type": "code",
   "execution_count": null,
   "metadata": {},
   "outputs": [],
   "source": [
    "data_fact = []\n",
    "fact_line_ids = []\n",
    "\n",
    "for fact in fact_doc_json:\n",
    "    for line in fact['line_ids']:\n",
    "        new = {}\n",
    "        new['fact_doc_id'] = fact['id']\n",
    "        new['name'] = fact['name']\n",
    "        new['invoice_date'] = fact['invoice_date']\n",
    "        new['state'] = fact['state']\n",
    "        new['invoice_origin'] = fact['invoice_origin']\n",
    "        new['module_origin'] = None\n",
    "        new['pos_doc_id'] = if_list_gt0_idex0(fact, 'pos_order_ids')\n",
    "        new['move_type'] = fact['move_type']\n",
    "        new['reversal_move_id'] = if_list_gt0_idex0(fact, 'reversal_move_id')\n",
    "        new['reversed_entry_id'] = if_list_gt0_idex0(fact, 'reversed_entry_id')\n",
    "        new['journal_id'] = fact['journal_id'][0]\n",
    "        new['company_id'] = fact['company_id'][0]\n",
    "        new['partner_id'] = fact['partner_id'][0]\n",
    "        new['fact_line_id'] = line\n",
    "\n",
    "\n",
    "        if not fact['invoice_origin']:\n",
    "            new['module_origin'] = 'Contabilidad'\n",
    "        elif fact['invoice_origin'][:2] in ['Pd', 'Sh']:\n",
    "                new['module_origin'] = 'PdV'\n",
    "        elif fact['invoice_origin'][0] == 'S':\n",
    "                new['module_origin'] = 'Ventas'\n",
    "\n",
    "\n",
    "        fact_line_ids.append(line)\n",
    "        data_fact.append(new)\n",
    "\n",
    "\n",
    "\n",
    "fact_doc_df = pd.DataFrame(data_fact)\n",
    "\n",
    "\n",
    "fact_doc_df['invoice_date'] = pd.to_datetime(fact_doc_df['invoice_date'], format='%Y-%m-%d')\n",
    "fact_doc_df['pos_doc_id'] = fact_doc_df['pos_doc_id'].astype('Int64')\n",
    "fact_doc_df['reversal_move_id'] = fact_doc_df['reversal_move_id'].astype('Int64')\n",
    "fact_doc_df['reversed_entry_id'] = fact_doc_df['reversed_entry_id'].astype('Int64')\n",
    "fact_doc_df.loc[fact_doc_df['invoice_origin'] == False , ['invoice_origin',]] = pd.NA\n",
    "\n",
    "\n",
    "check_1 =  len(fact_doc_df[fact_doc_df['module_origin'].isna()]) == 0"
   ]
  },
  {
   "cell_type": "markdown",
   "metadata": {},
   "source": [
    "Se especifican los campos necesarios `fact_line_fields` para que con `fact_line_ids` (que se generó arriba) se pueda obtener la información del modelo <font color=\"#F414FA\">account.move.line</font>. Esto devuelve una lista de diccionarios con la información de cada línea de factura que se almacena en `fact_line_json`."
   ]
  },
  {
   "cell_type": "code",
   "execution_count": null,
   "metadata": {},
   "outputs": [],
   "source": [
    "fact_line_fields = [\n",
    "    'product_id',\n",
    "    'quantity',\n",
    "    'price_unit',\n",
    "    'discount',\n",
    "    'account_id',\n",
    "    'price_subtotal',\n",
    "    'sale_line_ids',\n",
    "    'create_date'\n",
    "]\n",
    "\n",
    "fact_line_json = models.execute_kw(api_db, uid, api_clave, 'account.move.line', 'read', [fact_line_ids], {'fields': fact_line_fields})"
   ]
  },
  {
   "cell_type": "markdown",
   "metadata": {},
   "source": [
    "Se preparan los datos con un ciclo <font color=\"#14E4FA\">for</font> donde se manipula `fact_line_json` y se genera un diccionario \"línea de factura\". Este diccionario ya manipulado se ingresa a una lista vacía `data_line_fact`. La lista ya cargada con todos sus elementos es la que se convierte en el DataFrame `fact_line_df`."
   ]
  },
  {
   "cell_type": "code",
   "execution_count": null,
   "metadata": {},
   "outputs": [],
   "source": [
    "data_line_fact = []\n",
    "\n",
    "for fact_line in fact_line_json:\n",
    "    if fact_line['account_id'] and fact_line['account_id'][0] in [85, 197]:\n",
    "        new = {}\n",
    "        new['fact_line_id'] = fact_line['id']\n",
    "        new['create_date'] = fact_line['create_date']\n",
    "        new['product_id'] = fact_line['product_id'][0]\n",
    "        new['quantity'] = fact_line['quantity']\n",
    "        new['price_unit'] = fact_line['price_unit']\n",
    "        new['discount'] = fact_line['discount'] / 100\n",
    "        new['price_subtotal'] = fact_line['price_subtotal']\n",
    "        new['sale_line_id_fact'] = if_list_gt0_idex0(fact_line, 'sale_line_ids')\n",
    "\n",
    "        data_line_fact.append(new)\n",
    "\n",
    "\n",
    "fact_line_df = pd.DataFrame(data_line_fact)\n",
    "\n",
    "\n",
    "fact_line_df['fact_line_id'] = fact_line_df['fact_line_id'].astype('Int64')\n",
    "fact_line_df.loc[fact_line_df['product_id'] == False, ['product_id',]] = pd.NA\n",
    "fact_line_df['product_id'] = fact_line_df['product_id'].astype('Int64')\n",
    "fact_line_df['sale_line_id_fact'] = fact_line_df['sale_line_id_fact'].astype('Int64')\n",
    "fact_line_df['create_date'] = pd.to_datetime(fact_line_df['create_date'])"
   ]
  },
  {
   "cell_type": "markdown",
   "metadata": {},
   "source": [
    "Con los dos dataframe anteriores, se procede a generar un <font color=\"#14E4FA\">merge</font> en unión derecha, esto debido a que queremos despreciar todo los id de línea de `fact_doc_df` que tienen un id del campo <font color=\"#14FA4C\">\"account_id\"</font> diferente a 85 y 197 y que solo se pueden filtrar con la información de `fact_line_df`. Ahora, el dataframe resultante `fact_df` tiene un seguimiento desde la factura hasta cada una de sus líneas con toda la información de ellas. "
   ]
  },
  {
   "cell_type": "code",
   "execution_count": null,
   "metadata": {},
   "outputs": [],
   "source": [
    "fact_df = fact_doc_df.merge(fact_line_df, how='right', on='fact_line_id')"
   ]
  },
  {
   "cell_type": "markdown",
   "metadata": {},
   "source": [
    "Para llegar al modelo <font color=\"#F414FA\">sale.order</font> desde el modelo <font color=\"#F414FA\">account.move</font> es necesario en ocasiones pasar por el modelo <font color=\"#F414FA\">pos.order</font>. \n",
    "\n",
    "Para obtener los ids de este modelo, es importante asegurar que vienen únicamente de las ids de las facturas que se especificaron en los criterios de búsqueda generales `search_fact`. Para ello, hay que acceder al modelo de factura, a un campo llamado <font color=\"#14FA4C\">\"pos_order_ids\"</font> que es donde se encuentra el id del documento pos. Es por esto que no se debe obtener los ids del pos usando un filtro diferente.\n",
    "\n",
    "Se porcede a hacer un <font color=\"#14E4FA\">for</font> en `fact_doc_ids`, donde para cada factura se accesa al campo <font color=\"#14FA4C\">\"pos_order_ids\"</font> y se obtiene el id del documento del pos (PdV). Este id es único para cada factura, y se ingresa a la lista `pos_doc_ids`."
   ]
  },
  {
   "cell_type": "code",
   "execution_count": null,
   "metadata": {},
   "outputs": [],
   "source": [
    "pos_doc_ids = []\n",
    "\n",
    "for fact in fact_doc_json:\n",
    "    if fact['pos_order_ids']:\n",
    "        pos_doc_ids.append(fact['pos_order_ids'][0])"
   ]
  },
  {
   "cell_type": "markdown",
   "metadata": {},
   "source": [
    "Hay facturas que se hacen duplicando facturas que se cancelan. Esto significa que las nuevas facturas no tienen un pos_doc_id y por lo tanto no se encuentra la información que se desea. Sin embargo, estas facturas duplicadas sí tienen en el campo <font color=\"#14FA4C\">\"invoice_origin\"</font> el rastro de qué PdV tienen.\n",
    "\n",
    "Se procede a filtrar estas facturas y hacer una lista de los nombres de ellas. Se guarda esta lista en `pos_doc_name_extra` y con estos nombres se buscan los ids en el modelo <font color=\"#F414FA\">pos.order</font>. Devuelve esta búsqueda un json `pos_doc_json`.\n",
    "\n",
    "Utilizando un ciclo <font color=\"#14E4FA\">for</font>, se utiliza `pos_doc_json` para complementar `pos_doc_ids` con las ids de tipo documento faltantes."
   ]
  },
  {
   "cell_type": "code",
   "execution_count": null,
   "metadata": {},
   "outputs": [],
   "source": [
    "pos_doc_name_extra = list(fact_df.loc[(fact_df['module_origin'] == 'PdV') & (fact_df['pos_doc_id'].isna()), 'invoice_origin'].unique())\n",
    "\n",
    "search_pos = [\n",
    "    (\"name\", \"in\", pos_doc_name_extra),\n",
    "]\n",
    "\n",
    "pos_doc_fields = [\n",
    "    'name'\n",
    "]\n",
    "\n",
    "pos_doc_ids_extra = models.execute_kw(api_db, uid, api_clave, 'pos.order', 'search', [search_pos])\n",
    "pos_doc_json_extra = models.execute_kw(api_db, uid, api_clave, 'pos.order', 'read', [pos_doc_ids_extra], {'fields': pos_doc_fields})\n",
    "\n",
    "for pos in pos_doc_json_extra:\n",
    "    pos_doc_ids.append(pos['id'])"
   ]
  },
  {
   "cell_type": "markdown",
   "metadata": {},
   "source": [
    "Además del trabajo anterior, se ocupa complementar en `fact_df` los ids de documento `pos_doc_ids` de las facturas encontradas en `pos_doc_json_extra`. Se logra esto al generar un for de cada item del json y por \".loc\" se agrega a `fact_df`."
   ]
  },
  {
   "cell_type": "code",
   "execution_count": null,
   "metadata": {},
   "outputs": [],
   "source": [
    "for item in pos_doc_json_extra:\n",
    "    fact_df.loc[fact_df['invoice_origin'] == item['name'], 'pos_doc_id'] = item['id']"
   ]
  },
  {
   "cell_type": "markdown",
   "metadata": {},
   "source": [
    "`pos_doc_ids` son ids tipo documento y no son las mismas que las ids que ocupa el modelo <font color=\"#F414FA\">pos.order.line</font>. Es por esto que aquí primero se hace una búsqueda de los ids tipo línea que tienen un id tipo documento porporcionado por `pos_doc_ids`. Cabe mencionar que no debe haber criterios de búsqueda que cambien los criterios originales.\n",
    "\n",
    "Se especifican los campos necesarios `pos_doc_fields` para utilizarlos en una búsqueda en el modelo <font color=\"#F414FA\">pos.order.line</font>. Esta búsqueda devuelve una lista con todos los ids tipo línea del pos y se almacena en `pos_line_ids`\n",
    "\n",
    "No es necesario accesar al modelo del documento del pos <font color=\"#F414FA\">pos.order</font>, pues la información que se necesita está dentro de cada línea del pos.\n",
    "\n",
    "Con los ids tipo línea `pos_line_ids` se consulta la información de cada línea del pos en el modelo. Esto devuelve una lista de diccionarios que se almacenana en `pos_line_json`"
   ]
  },
  {
   "cell_type": "code",
   "execution_count": null,
   "metadata": {},
   "outputs": [],
   "source": [
    "pos_doc_fields = [\n",
    "    'order_id',\n",
    "    'sale_order_line_id',\n",
    "]\n",
    "\n",
    "\n",
    "pos_line_ids = models.execute_kw(api_db, uid, api_clave, 'pos.order.line', 'search', [[(\"order_id.id\", \"=\", pos_doc_ids)]])\n",
    "pos_line_json = models.execute_kw(api_db, uid, api_clave, 'pos.order.line', 'read', [pos_line_ids], {'fields': pos_doc_fields})"
   ]
  },
  {
   "cell_type": "markdown",
   "metadata": {},
   "source": [
    "Se procede a generar un DataFrame de Pandas. Para esto se preparan los datos con un ciclo <font color=\"#14E4FA\">for</font> donde se manipula `pos_line_json` y se ingresa cada línea del pos ya manipulada a una lista vacía `data_pos_line`. La lista ya cargada con todos sus elementos es la que se convierte en el DataFrame `pos_line_df`. Este dataframe tiene únicamente la información de las líneas del pos y el id del documento del pos. No hay un vínculo con `fact_df`"
   ]
  },
  {
   "cell_type": "code",
   "execution_count": null,
   "metadata": {},
   "outputs": [],
   "source": [
    "data_pos_line = []\n",
    "\n",
    "for pos in pos_line_json:\n",
    "    new = {}\n",
    "    new['pos_line_id'] = pos['id']\n",
    "    new['pos_doc_id'] = pos['order_id'][0]\n",
    "    new['sale_line_id_pos'] = None\n",
    "    \n",
    "    if pos['sale_order_line_id']:\n",
    "        new['sale_line_id_pos'] = pos['sale_order_line_id'][0]\n",
    "\n",
    "    data_pos_line.append(new)\n",
    "\n",
    "dfpos_line = pd.DataFrame(data_pos_line)\n",
    "dfpos_line['sale_line_id_pos'] = dfpos_line['sale_line_id_pos'].astype('Int64')\n",
    "dfpos_line['pos_line_id'] = dfpos_line['pos_line_id'].astype('Int64')"
   ]
  },
  {
   "cell_type": "markdown",
   "metadata": {},
   "source": [
    "Debido a que `fact_df` contiene el total de las facturas de Odoo, se ocupa segmentar sólo las facturas que provienen del módulo de PdV. Esto con el fin de hacer un <font color=\"#14E4FA\">merge</font> entre `fact_df` y `pos_line_df` de manera más sencilla. El resultado se almacena en `fact_pos_doc_df`."
   ]
  },
  {
   "cell_type": "code",
   "execution_count": null,
   "metadata": {},
   "outputs": [],
   "source": [
    "fact_pos_doc_df = fact_df[~fact_df['pos_doc_id'].isna()][['fact_doc_id','name', 'fact_line_id', 'pos_doc_id', 'product_id']]"
   ]
  },
  {
   "cell_type": "markdown",
   "metadata": {},
   "source": [
    "Para aumentar la seguridad del código, es necesario verificar que el total de líneas del modelo <font color=\"#F414FA\">pos.order.line</font> es igual al total de líneas del modelo <font color=\"#F414FA\">account.move.line</font> `check_total_size` y que cada factura tiene el mismo número de líneas que su orden `check_each_document_size`. Esto es necesario para evitar equivocaciones en el <font color=\"#14E4FA\">merge</font> (enmaquetado) de ambos dataframes [`fact_df`, `pos_line_df`], derivado a que no hay un vínculo claro en común.\n",
    "\n",
    "Para lograr `check_total_size`:\n",
    "- Se agrupan ambos dataframes por el campo propio de id de línea, dando como resultado `fact_pos_doc_df` y `group_dfpos_line`.\n",
    "- Se compara el tamaño de ambos grupos y el valor booleano se almacena en `check_total_size`.\n",
    "\n",
    "Para lograr `check_each_document_size`:\n",
    "- se concatenan `fact_pos_doc_df` y `group_dfpos_line` y se almacena en el dataframe `groups_concat`.\n",
    "- se compara el campo id de fac con id del pos y el booleano resultante se almacen una columna nueva de `groups_concat` <font color=\"#14FA4C\">\"lines_per_doc\"</font>.\n",
    "- se filtran los valores <font color=\"#14FA4C\">False</font> de <font color=\"#14FA4C\">\"lines_per_doc\"</font> y al tamaño del resultado se le compara con cero. El resultado se almacena en `check_each_document_size`"
   ]
  },
  {
   "cell_type": "code",
   "execution_count": null,
   "metadata": {},
   "outputs": [],
   "source": [
    "group_fact_pos_df = fact_pos_doc_df.groupby('pos_doc_id').count()['fact_doc_id']\n",
    "group_pos_line_df = dfpos_line.groupby('pos_doc_id').count()['pos_line_id']\n",
    "\n",
    "check_total_size = len(group_fact_pos_df) == len(group_pos_line_df)\n",
    "\n",
    "groups_concat = pd.concat([group_fact_pos_df, group_pos_line_df], axis=1)\n",
    "groups_concat['lines_per_doc'] = groups_concat['fact_doc_id'] == groups_concat['pos_line_id']\n",
    "check_each_document_size = len(groups_concat[~groups_concat['lines_per_doc']]) == 0"
   ]
  },
  {
   "cell_type": "code",
   "execution_count": null,
   "metadata": {},
   "outputs": [],
   "source": [
    "fact_df.loc[fact_df['pos_doc_id'] == 1065]"
   ]
  },
  {
   "cell_type": "markdown",
   "metadata": {},
   "source": [
    "Para poder hacer un <font color=\"#14E4FA\">merge</font> entre `fact_df`, `pos_line_df` se busca hacer un id temporal `id_vinculo` que sirva de vínculo entre ambos dataframes.\n",
    "\n",
    "Para generar `id_vinculo`, se utiliza el único campo en común para ambos dataframes <font color=\"#14FA4C\">\"pos_order_ids\"</font> en `fact_df` y <font color=\"#14FA4C\">\"pos_doc_id\"</font> en `pos_line_df`.\n",
    "\n",
    "Se generó la función `id_vinculo_generator`, la cual recibe tres parámetros: el dataframe, el nombre de la columna donde se almacenan los ids de los documentos del pos y el nombre de la columna donde se almacenan los ids de las líneas de su modelo."
   ]
  },
  {
   "cell_type": "code",
   "execution_count": null,
   "metadata": {},
   "outputs": [],
   "source": [
    "def id_vinculo_generator(df_base: pd.DataFrame, pos_doc_column_name: str, df_id_line_name:str ) -> pd.DataFrame:\n",
    "    \n",
    "    df = df_base.sort_values(by=[pos_doc_column_name, df_id_line_name])\n",
    "    df['id_relative_pos'] = None\n",
    "\n",
    "    pos_orders = df[pos_doc_column_name].unique()\n",
    "\n",
    "    for pos in pos_orders:\n",
    "        mini_df = df.loc[df[pos_doc_column_name] == pos]\n",
    "        df.loc[df[pos_doc_column_name] == pos, 'id_relative_pos'] = [i for i in range(len(mini_df))]\n",
    "\n",
    "\n",
    "    df['id_vinculo'] = df[pos_doc_column_name].astype(str) + '-' + df['id_relative_pos'].astype(str)\n",
    "\n",
    "    return df"
   ]
  },
  {
   "cell_type": "markdown",
   "metadata": {},
   "source": [
    "Se procede a ejecutar la función anterior para cada dataframe. Se guardan sus resultados respectivos en `fact_pos_link_df` y `pos_line_link_df`"
   ]
  },
  {
   "cell_type": "code",
   "execution_count": null,
   "metadata": {},
   "outputs": [],
   "source": [
    "fact_pos_doc_link_df = id_vinculo_generator( fact_pos_doc_df, 'pos_doc_id', 'fact_line_id')\n",
    "pos_line_link_df = id_vinculo_generator(dfpos_line, 'pos_doc_id', 'pos_line_id')"
   ]
  },
  {
   "cell_type": "markdown",
   "metadata": {},
   "source": [
    "Se procede a generar el merge de ambos dataframes de linea, dando como resultado `fac_pos_linked_df`."
   ]
  },
  {
   "cell_type": "code",
   "execution_count": null,
   "metadata": {},
   "outputs": [],
   "source": [
    "fac_pos_linked_df =  fact_pos_doc_link_df.merge(pos_line_link_df, how='outer', on='id_vinculo')"
   ]
  },
  {
   "cell_type": "markdown",
   "metadata": {},
   "source": [
    "Se procede a integrar `fac_pos_linked_df` al dataframe general `fact_df` por medio de un <font color=\"#14E4FA\">merge</font> tipo \"left join\" en su campo de línea de factura <font color=\"#14FA4C\">\"id_x\"</font>, obteniendo `fact_pos_df`. Al haber vinculado <font color=\"#F414FA\">pos.order.line</font> al dataframe general, cada línea de venta (ya sea que venga del módulo de \"Ventas\" o del módulo de \"PdV\") tiene ya un id de línea del modelo <font color=\"#F414FA\">sale.order.line</font>, que es donde se encuentra el nombre de la vendedora."
   ]
  },
  {
   "cell_type": "code",
   "execution_count": null,
   "metadata": {},
   "outputs": [],
   "source": [
    "cols_to_keep = ['fact_line_id', 'pos_line_id', 'sale_line_id_pos']\n",
    "fact_pos_df = fact_df.merge(fac_pos_linked_df[cols_to_keep], how='left', on='fact_line_id')"
   ]
  },
  {
   "cell_type": "markdown",
   "metadata": {},
   "source": [
    "Al haber hecho merge en dos dataframes diferentes en `fact_pos_df`, se tienen los ids del modelo <font color=\"#F414FA\">sale.order.line</font> en diferentes columnas. Se procede a juntar dichos ids en una sóla columna <font color=\"#14FA4C\">\"sale_line_join_id\"</font>.\n",
    "\n",
    "Se genera `ids_sale_line` que es una lista de los ids únicos para poder utilizarlos a posterior."
   ]
  },
  {
   "cell_type": "code",
   "execution_count": null,
   "metadata": {},
   "outputs": [],
   "source": [
    "fact_pos_df['sale_line_id'] = None\n",
    "fact_pos_df.loc[(~fact_pos_df['sale_line_id_fact'].isna() & fact_pos_df['sale_line_id_pos'].isna()), 'sale_line_id'] = fact_pos_df['sale_line_id_fact']\n",
    "fact_pos_df.loc[(fact_pos_df['sale_line_id_fact'].isna() & ~fact_pos_df['sale_line_id_pos'].isna()), 'sale_line_id'] = fact_pos_df['sale_line_id_pos']\n",
    "fact_pos_df['sale_line_id'] = fact_pos_df['sale_line_id'].astype('Int64')\n",
    "\n",
    "fact_pos_df.drop(columns=['sale_line_id_fact', 'sale_line_id_pos'], inplace=True)\n",
    "\n",
    "sale_line_ids = []\n",
    "for sid in fact_pos_df['sale_line_id'].unique()[1:]:\n",
    "    sale_line_ids.append(int(sid))"
   ]
  },
  {
   "cell_type": "markdown",
   "metadata": {},
   "source": [
    "Se especifican los campos necesarios `sale_line_fields` para que con `sale_line_ids` (que se generó arriba) se pueda obtener la información del modelo <font color=\"#F414FA\">sale.order.line</font>. Esto devuelve una lista de diccionarios con la información de cada línea de venta, que se guarda en `sale_line_json`."
   ]
  },
  {
   "cell_type": "code",
   "execution_count": null,
   "metadata": {},
   "outputs": [],
   "source": [
    "sale_line_fields = [\n",
    "    'salesman_id',\n",
    "]\n",
    "\n",
    "sale_line_json = models.execute_kw(api_db, uid, api_clave, 'sale.order.line', 'read', [sale_line_ids], {'fields': sale_line_fields})"
   ]
  },
  {
   "cell_type": "markdown",
   "metadata": {},
   "source": [
    "Se procede a generar el DataFrame `sale_line_df`. Para esto se preparan los datos con un ciclo <font color=\"#14E4FA\">for</font> donde se manipula `sale_line_json`."
   ]
  },
  {
   "cell_type": "code",
   "execution_count": null,
   "metadata": {},
   "outputs": [],
   "source": [
    "data_sale_line = []\n",
    "\n",
    "for sale in sale_line_json:\n",
    "    new = {}\n",
    "    new['sale_line_id'] = sale['id']\n",
    "    new['salesman_id'] = sale['salesman_id'][0]\n",
    "\n",
    "    data_sale_line.append(new)\n",
    "\n",
    "\n",
    "sale_line_df = pd.DataFrame(data_sale_line)\n",
    "sale_line_df['salesman_id'] = sale_line_df['salesman_id'].astype('Int64')"
   ]
  },
  {
   "cell_type": "markdown",
   "metadata": {},
   "source": [
    "Se procede a integrar `sale_line_df` al dataframe general `fact_pos_df` por medio de un <font color=\"#14E4FA\">merge</font> tipo \"left join\" en su campo de línea de sale <font color=\"#14FA4C\">\"sale_line_id\"</font>, obteniendo `complete_df`."
   ]
  },
  {
   "cell_type": "code",
   "execution_count": null,
   "metadata": {},
   "outputs": [],
   "source": [
    "complete_df = fact_pos_df.merge(sale_line_df, how='left', on='sale_line_id').set_index('name')"
   ]
  },
  {
   "cell_type": "markdown",
   "metadata": {},
   "source": [
    "Se filtra las líneas de factura que son de reversiones o notas de crédito/devolución. Estas líneas tienen que cambiar su signo a negativo para que la analítica de sumas y acumulados refleje la realidad en `complete_df`."
   ]
  },
  {
   "cell_type": "code",
   "execution_count": null,
   "metadata": {},
   "outputs": [],
   "source": [
    "complete_df.loc[~complete_df.reversed_entry_id.isna(), ['quantity', 'price_subtotal']] = complete_df.loc[~complete_df.reversed_entry_id.isna(), ['quantity', 'price_subtotal']] * -1"
   ]
  },
  {
   "cell_type": "markdown",
   "metadata": {},
   "source": [
    "Por último, se tienen que corregir todas las líneas de `complete_df` que no tienen información en el campo 'salesman_id' y obtener la información por `fact_doc_json`"
   ]
  },
  {
   "cell_type": "markdown",
   "metadata": {},
   "source": [
    "# <span style=\"color:steelblue\">Check Points<span>"
   ]
  },
  {
   "cell_type": "code",
   "execution_count": null,
   "metadata": {},
   "outputs": [],
   "source": [
    "check_all = check_1 and check_total_size and check_each_document_size\n",
    "print('Todos los check points están correctos:', check_all)"
   ]
  },
  {
   "cell_type": "code",
   "execution_count": null,
   "metadata": {},
   "outputs": [],
   "source": [
    "print('No hay valores sin calificar en module_origin:', check_1)\n",
    "print('Las agrupaciones son del mismo tamaño:', check_total_size)\n",
    "print('No hay diferencias al comparar cantidad de líneas por cada par de documentos:', check_each_document_size)"
   ]
  },
  {
   "cell_type": "markdown",
   "metadata": {},
   "source": [
    "# <span style=\"color:steelblue\">Descripciones DataFrames<span>"
   ]
  },
  {
   "cell_type": "code",
   "execution_count": null,
   "metadata": {},
   "outputs": [],
   "source": [
    "# df_desc = fact_doc_df[['journal_id', 'journal_name']].drop_duplicates().set_index('journal_id')\n",
    "# df_desc"
   ]
  },
  {
   "cell_type": "code",
   "execution_count": null,
   "metadata": {},
   "outputs": [],
   "source": [
    "# df_desc.loc[97]"
   ]
  },
  {
   "cell_type": "code",
   "execution_count": null,
   "metadata": {},
   "outputs": [],
   "source": [
    "# prueba = fact_doc_df[['id', 'name', 'journal_id']]\n",
    "# prueba.merge(df_desc, how='left', on='journal_id').head()"
   ]
  },
  {
   "cell_type": "markdown",
   "metadata": {},
   "source": [
    "## Variables de datos\n",
    "----\n",
    "### Filtros de búsqueda y variables iniciales\n",
    "`search_fact`: Filtro iniciar de búsqueda para documentos de factura\n",
    "\n",
    "----\n",
    "### DataFrames fusionados\n",
    "- `fact_df`: DataFrame <b><font color=\"#4EC2A6\">fact_doc_df</font></b> <font color=\"#FF922C\">+</font> <b><font color=\"#4EC2A6\">fact_line_df</font></b>\n",
    "- `fact_pos_doc_df`: DataFrame <b><font color=\"#4EC2A6\">fact_df</font></b> <font color=\"#FF922C\">+</font> <b><font color=\"#4EC2A6\">pos_line_df</font></b>\n",
    "- `fact_pos_df` DataFrame <b><font color=\"#4EC2A6\">fact_df</font></b> <font color=\"#FF922C\">+</font> <b><font color=\"#4EC2A6\">pos_doc_df</font></b> <font color=\"#FF922C\">+</font> <b><font color=\"#4EC2A6\">pos_line_df</font></b>\n",
    "- `complete_df`: DataFrame <b><font color=\"#4EC2A6\">fact_pos_df</font></b> <font color=\"#FF922C\">+</font> <b><font color=\"#4EC2A6\">sale_line_df</font></b> <b><font color=\"#E8FF00\">Este es el DataFrame completo</font></b>\n",
    "\n",
    "----\n",
    "### Documentos de factura\n",
    "- `fact_doc_fields`:  Campos solicitados para búsqueda\n",
    "- `fact_doc_ids`: Lista de IDs devuelta\n",
    "- `fact_doc_json`: JSON devuelto por Odoo\n",
    "- `fact_doc_df`: DataFrame\n",
    "\n",
    "### Líneas de factura\n",
    "- `fact_line_fields`: Campos solicitados para búsqueda\n",
    "- `fact_line_ids`: Lista de IDs devuelta\n",
    "- `fact_line_json`: JSON devuelto por Odoo\n",
    "- `fact_line_df`: DataFrame\n",
    "\n",
    "----\n",
    "### Documentos de punto de venta\n",
    "- `pos_doc_fields`:  Campos solicitados para búsqueda\n",
    "- `pos_doc_ids`: Lista de IDs devuelta\n",
    "- `pos_doc_json`: JSON devuelto por Odoo\n",
    "- `pos_doc_df`: DataFrame\n",
    "\n",
    "### Líneas de punto de venta\n",
    "- `pos_line_fields`: Campos solicitados para búsqueda\n",
    "- `pos_line_ids`: Lista de IDs devuelta\n",
    "- `pos_line_json`: JSON devuelto por Odoo\n",
    "- `pos_line_df`: DataFrame\n",
    "\n",
    "----\n",
    "### Líneas de ventas\n",
    "- `sale_line_fields`: Campos solicitados para búsqueda\n",
    "- `sale_line_ids`: Lista de IDs devuelta\n",
    "- `sale_line_json`: JSON devuelto por Odoo\n",
    "- `sale_line_df`: DataFrame\n",
    "\n",
    "## Variables y búsquedas complementarias\n",
    "----\n",
    "### Documentos de punto de venta adicionales\n",
    "- `pos_doc_name_extra`: Folios\n",
    "- `pos_doc_ids_extra`: Lista de IDs devuelta\n",
    "- `pos_doc_name_df`: DataFrame complementario de folios"
   ]
  }
 ],
 "metadata": {
  "kernelspec": {
   "display_name": "env_algoritmo-comisiones-Odoo",
   "language": "python",
   "name": "python3"
  },
  "language_info": {
   "codemirror_mode": {
    "name": "ipython",
    "version": 3
   },
   "file_extension": ".py",
   "mimetype": "text/x-python",
   "name": "python",
   "nbconvert_exporter": "python",
   "pygments_lexer": "ipython3",
   "version": "3.11.5"
  }
 },
 "nbformat": 4,
 "nbformat_minor": 2
}
