{
 "cells": [
  {
   "cell_type": "markdown",
   "metadata": {},
   "source": [
    "Se importan las librerías necesarias"
   ]
  },
  {
   "cell_type": "code",
   "execution_count": 1,
   "metadata": {},
   "outputs": [],
   "source": [
    "# Librerías para manejo del sistema\n",
    "import os\n",
    "from pathlib import Path\n",
    "\n",
    "# Librerías para manejar accesos a datos (SQL y API)\n",
    "from sqlalchemy import create_engine\n",
    "import xmlrpc.client\n",
    "\n",
    "# Librerías para ciencia de datos\n",
    "import pandas as pd\n",
    "import numpy as np\n",
    "\n",
    "# Librerías para graficación de datos\n",
    "import matplotlib.pyplot as plt\n",
    "import seaborn as sns"
   ]
  },
  {
   "cell_type": "markdown",
   "metadata": {},
   "source": [
    "Se importan variables de entorno"
   ]
  },
  {
   "cell_type": "code",
   "execution_count": 2,
   "metadata": {},
   "outputs": [],
   "source": [
    "api_url = os.environ.get('ODOO_URL_API')\n",
    "api_db = os.environ.get('ODOO_DB_API')\n",
    "api_username = os.environ.get('ODOO_USERNAME_API')\n",
    "api_clave = os.environ.get('ODOO_CLAVE_API')"
   ]
  },
  {
   "cell_type": "markdown",
   "metadata": {},
   "source": [
    "Se instancia el objeto engine para manejar el acceso a la base de datos local"
   ]
  },
  {
   "cell_type": "code",
   "execution_count": 3,
   "metadata": {},
   "outputs": [],
   "source": [
    "db_file = 'local_db.db'\n",
    "db_file_path_str = str(Path().cwd().parent.joinpath(Path(f'data/{db_file}')))\n",
    "\n",
    "engine = create_engine(f'sqlite:///{db_file_path_str}')"
   ]
  },
  {
   "cell_type": "markdown",
   "metadata": {},
   "source": [
    "Se instancia el objeto models para ejecutar métodos a los modelos del API de Odoo"
   ]
  },
  {
   "cell_type": "code",
   "execution_count": 4,
   "metadata": {},
   "outputs": [],
   "source": [
    "common = xmlrpc.client.ServerProxy(f'{api_url}/xmlrpc/2/common')\n",
    "uid = common.authenticate(api_db, api_username, api_clave, {})\n",
    "models = xmlrpc.client.ServerProxy(f'{api_url}/xmlrpc/2/object')"
   ]
  },
  {
   "cell_type": "markdown",
   "metadata": {},
   "source": [
    "# <span style=\"color:steelblue\">Funciones<span>"
   ]
  },
  {
   "cell_type": "code",
   "execution_count": 5,
   "metadata": {},
   "outputs": [],
   "source": [
    "def if_list_gt0_idex (item: dict, key: str, index:int ) -> None | int:\n",
    "        val = item[key]\n",
    "\n",
    "        if val:\n",
    "            if len(val) == 0:\n",
    "                return None\n",
    "            else:\n",
    "                return val[index]\n",
    "        else:\n",
    "            return None"
   ]
  },
  {
   "cell_type": "markdown",
   "metadata": {},
   "source": [
    "# <span style=\"color:steelblue\">Descripciones DataFrames<span>"
   ]
  },
  {
   "cell_type": "code",
   "execution_count": 6,
   "metadata": {},
   "outputs": [],
   "source": [
    "desc_uripsers_fields = ['name', 'state', 'sale_team_id']\n",
    "descrip_users_json = models.execute_kw(api_db, uid, api_clave, 'res.users', 'search_read', [], {'fields': desc_uripsers_fields})\n",
    "\n",
    "descrip_users_data = []\n",
    "\n",
    "for user in descrip_users_json:\n",
    "    new = {}\n",
    "    new['id'] = user['id']\n",
    "    new['name'] = user['name']\n",
    "    new['state'] = user['state']\n",
    "    new['sale_team_id'] = if_list_gt0_idex(user, 'sale_team_id', 0)\n",
    "    new['sale_team_description'] = if_list_gt0_idex(user, 'sale_team_id', 1)\n",
    "\n",
    "    descrip_users_data.append(new)\n",
    "\n",
    "\n",
    "descrip_users_df = pd.DataFrame(descrip_users_data)\n",
    "descrip_users_df['sale_team_id'] = descrip_users_df['sale_team_id'].astype('Int64')\n",
    "\n",
    "descrip_users_df.loc[descrip_users_df['sale_team_id'].isin([5,6]), 'business_model'] = 'Piso'\n",
    "descrip_users_df.loc[descrip_users_df['sale_team_id'].isin([7,8]), 'business_model'] = 'CE'\n",
    "descrip_users_df.loc[descrip_users_df['sale_team_id'].isin([5,7]), 'warehouse'] = 'A1'\n",
    "descrip_users_df.loc[descrip_users_df['sale_team_id'].isin([6,8]), 'warehouse'] = 'A2'\n",
    "\n",
    "descrip_sales_users_df  = descrip_users_df.loc[~descrip_users_df['sale_team_id'].isna()]"
   ]
  },
  {
   "cell_type": "markdown",
   "metadata": {},
   "source": [
    "# <span style=\"color:steelblue\">Algoritmo<span>"
   ]
  },
  {
   "cell_type": "markdown",
   "metadata": {},
   "source": [
    "Se buscan los ids de las facturas en el modelo <font color=\"#F414FA\">account.move</font> con los criterios de búsqueda `search_fact`. Esto devuelve una lista de enteros (ids de estas facturas) que se almacena en `fact_doc_ids`.\n",
    "\n",
    "Después, se especifican los campos necesarios de este modelo en `fact_doc_fields` y se genera la lectura de los ids anteriores. Esto devuelve una lista de diccionarios con la información de cada factura que se almacena en `fact_doc_json`"
   ]
  },
  {
   "cell_type": "code",
   "execution_count": 7,
   "metadata": {},
   "outputs": [],
   "source": [
    "search_fact = [\"&\", \"&\", \"&\",\n",
    "          (\"state\", \"=\", \"posted\"),\n",
    "          (\"invoice_date\", \">=\", \"2024-02-01\"), \n",
    "          (\"invoice_date\", \"<=\", \"2024-02-29\"), \n",
    "          (\"journal_id\", \"in\", [10, 90, 30, 97])]\n",
    "\n",
    "fact_doc_fields = [\n",
    "          'name',\n",
    "          'invoice_date',\n",
    "          'state',\n",
    "          'reversed_entry_id',\n",
    "          'reversal_move_id',\n",
    "          'journal_id',\n",
    "          'company_id',\n",
    "          'invoice_origin',\n",
    "          'pos_order_ids',\n",
    "          'line_ids',\n",
    "          'partner_id',\n",
    "          'move_type',\n",
    "          'invoice_user_id',\n",
    "          'team_id',\n",
    "          ]\n",
    "\n",
    "fact_doc_ids = models.execute_kw(api_db, uid, api_clave, 'account.move', 'search', [search_fact])\n",
    "fact_doc_json = models.execute_kw(api_db, uid, api_clave, 'account.move', 'read', [fact_doc_ids], {'fields': fact_doc_fields})\n"
   ]
  },
  {
   "cell_type": "markdown",
   "metadata": {},
   "source": [
    "El esquema que se obtiene en el modelo de `fact_doc_json` es un esquema donde cada renglón es una factura. Sin embargo, lo que ocupamos es un esquema donde cada renglón es una línea de producto de cada una de las facturas que se encuentran en `fact_doc_json`.\n",
    "\n",
    "Para hacer esto se preparan los datos con un ciclo <font color=\"#14E4FA\">for</font> donde se manipula `fact_doc_json`. Para cada factura dentro de este modelo, se utiliza el campo llamado <font color=\"#14FA4C\">\"line_ids\"</font> (que son la cantidad de líneas que tiene cada factura) para que con un segundo ciclo \"for\" se genere un diccionario de \"línea de factura\" por cada \"línea de factura\" que tiene cada documento de factura.\n",
    "\n",
    "Este diccionario ya manipulado se ingresa a una lista vacía `data_fact`. La lista ya cargada con todos sus elementos es la que se convierte en el DataFrame `fact_doc_df`. Este data frame sólo tiene información de la factura, no hay información de sus líneas, sólo el id de ellas.\n",
    "\n",
    "Para obtener la información de las líneas de factura se genera `fact_doc_ids`, el cual es el listado de los ids de las líneas de cada factura del trabajo anterior. Esto es importante porque se asegura que las ids de línea vienen únicamente de las ids de las facturas que se especificaron en los criterios de búsqueda generales `search_fact`."
   ]
  },
  {
   "cell_type": "code",
   "execution_count": 8,
   "metadata": {},
   "outputs": [],
   "source": [
    "data_fact = []\n",
    "fact_line_ids = []\n",
    "\n",
    "for fact in fact_doc_json:\n",
    "    for line in fact['line_ids']:\n",
    "        new = {}\n",
    "        new['fact_doc_id'] = fact['id']\n",
    "        new['name'] = fact['name']\n",
    "        new['invoice_date'] = fact['invoice_date']\n",
    "        new['state'] = fact['state']\n",
    "        new['invoice_origin'] = fact['invoice_origin']\n",
    "        new['module_origin'] = None\n",
    "        new['pos_doc_id'] = if_list_gt0_idex(fact, 'pos_order_ids', 0)\n",
    "        new['move_type'] = fact['move_type']\n",
    "        new['reversal_move_id'] = if_list_gt0_idex(fact, 'reversal_move_id', 0)\n",
    "        new['reversed_entry_id'] = if_list_gt0_idex(fact, 'reversed_entry_id', 0)\n",
    "        new['journal_id'] = fact['journal_id'][0]\n",
    "        new['company_id'] = fact['company_id'][0]\n",
    "        new['partner_id'] = fact['partner_id'][0]\n",
    "        new['fact_line_id'] = line\n",
    "\n",
    "        new['invoice_user_id'] = fact['invoice_user_id'][0]\n",
    "        new['team_id'] = if_list_gt0_idex(fact, 'team_id', 0)\n",
    "        \n",
    "\n",
    "        if not fact['invoice_origin']:\n",
    "            new['module_origin'] = 'Contabilidad'\n",
    "        elif fact['invoice_origin'][:2] in ['Pd', 'Sh']:\n",
    "                new['module_origin'] = 'PdV'\n",
    "        elif fact['invoice_origin'][0] == 'S':\n",
    "                new['module_origin'] = 'Ventas'\n",
    "\n",
    "\n",
    "        fact_line_ids.append(line)\n",
    "        data_fact.append(new)\n",
    "\n",
    "\n",
    "\n",
    "fact_doc_df = pd.DataFrame(data_fact)\n",
    "\n",
    "\n",
    "fact_doc_df['invoice_date'] = pd.to_datetime(fact_doc_df['invoice_date'], format='%Y-%m-%d')\n",
    "fact_doc_df['pos_doc_id'] = fact_doc_df['pos_doc_id'].astype('Int64')\n",
    "fact_doc_df['reversal_move_id'] = fact_doc_df['reversal_move_id'].astype('Int64')\n",
    "fact_doc_df['reversed_entry_id'] = fact_doc_df['reversed_entry_id'].astype('Int64')\n",
    "fact_doc_df.loc[fact_doc_df['invoice_origin'] == False , ['invoice_origin',]] = pd.NA\n",
    "\n",
    "\n",
    "check_1 =  len(fact_doc_df[fact_doc_df['module_origin'].isna()]) == 0"
   ]
  },
  {
   "cell_type": "markdown",
   "metadata": {},
   "source": [
    "Se especifican los campos necesarios `fact_line_fields` para que con `fact_line_ids` (que se generó arriba) se pueda obtener la información del modelo <font color=\"#F414FA\">account.move.line</font>. Esto devuelve una lista de diccionarios con la información de cada línea de factura que se almacena en `fact_line_json`."
   ]
  },
  {
   "cell_type": "code",
   "execution_count": 9,
   "metadata": {},
   "outputs": [],
   "source": [
    "fact_line_fields = [\n",
    "    'product_id',\n",
    "    'quantity',\n",
    "    'price_unit',\n",
    "    'discount',\n",
    "    'account_id',\n",
    "    'price_subtotal',\n",
    "    'sale_line_ids',\n",
    "    'create_date'\n",
    "]\n",
    "\n",
    "fact_line_json = models.execute_kw(api_db, uid, api_clave, 'account.move.line', 'read', [fact_line_ids], {'fields': fact_line_fields})"
   ]
  },
  {
   "cell_type": "markdown",
   "metadata": {},
   "source": [
    "Se preparan los datos con un ciclo <font color=\"#14E4FA\">for</font> donde se manipula `fact_line_json` y se genera un diccionario \"línea de factura\". Este diccionario ya manipulado se ingresa a una lista vacía `data_line_fact`. La lista ya cargada con todos sus elementos es la que se convierte en el DataFrame `fact_line_df`."
   ]
  },
  {
   "cell_type": "code",
   "execution_count": 10,
   "metadata": {},
   "outputs": [],
   "source": [
    "data_line_fact = []\n",
    "\n",
    "for fact_line in fact_line_json:\n",
    "    if fact_line['account_id'] and fact_line['account_id'][0] in [85, 197]:\n",
    "        new = {}\n",
    "        new['fact_line_id'] = fact_line['id']\n",
    "        new['create_date'] = fact_line['create_date']\n",
    "        new['product_id'] = fact_line['product_id'][0]\n",
    "        new['quantity'] = fact_line['quantity']\n",
    "        new['price_unit'] = fact_line['price_unit']\n",
    "        new['discount'] = fact_line['discount'] / 100\n",
    "        new['price_subtotal'] = fact_line['price_subtotal']\n",
    "        new['sale_line_id_fact'] = if_list_gt0_idex(fact_line, 'sale_line_ids', 0)\n",
    "\n",
    "        data_line_fact.append(new)\n",
    "\n",
    "\n",
    "fact_line_df = pd.DataFrame(data_line_fact)\n",
    "\n",
    "\n",
    "fact_line_df['fact_line_id'] = fact_line_df['fact_line_id'].astype('Int64')\n",
    "fact_line_df.loc[fact_line_df['product_id'] == False, ['product_id',]] = pd.NA\n",
    "fact_line_df['product_id'] = fact_line_df['product_id'].astype('Int64')\n",
    "fact_line_df['sale_line_id_fact'] = fact_line_df['sale_line_id_fact'].astype('Int64')\n",
    "fact_line_df['create_date'] = pd.to_datetime(fact_line_df['create_date'])"
   ]
  },
  {
   "cell_type": "markdown",
   "metadata": {},
   "source": [
    "Con los dos dataframe anteriores, se procede a generar un <font color=\"#14E4FA\">merge</font> en unión derecha, esto debido a que queremos despreciar todo los id de línea de `fact_doc_df` que tienen un id del campo <font color=\"#14FA4C\">\"account_id\"</font> diferente a 85 y 197 y que solo se pueden filtrar con la información de `fact_line_df`. Ahora, el dataframe resultante `fact_df` tiene un seguimiento desde la factura hasta cada una de sus líneas con toda la información de ellas. "
   ]
  },
  {
   "cell_type": "code",
   "execution_count": 11,
   "metadata": {},
   "outputs": [],
   "source": [
    "fact_df = fact_doc_df.merge(fact_line_df, how='right', on='fact_line_id')"
   ]
  },
  {
   "cell_type": "markdown",
   "metadata": {},
   "source": [
    "Para llegar al modelo <font color=\"#F414FA\">sale.order</font> desde el modelo <font color=\"#F414FA\">account.move</font> es necesario en ocasiones pasar por el modelo <font color=\"#F414FA\">pos.order</font>. \n",
    "\n",
    "Para obtener los ids de este modelo, es importante asegurar que vienen únicamente de las ids de las facturas que se especificaron en los criterios de búsqueda generales `search_fact`. Para ello, hay que acceder al modelo de factura, a un campo llamado <font color=\"#14FA4C\">\"pos_order_ids\"</font> que es donde se encuentra el id del documento pos. Es por esto que no se debe obtener los ids del pos usando un filtro diferente.\n",
    "\n",
    "Se porcede a hacer un <font color=\"#14E4FA\">for</font> en `fact_doc_ids`, donde para cada factura se accesa al campo <font color=\"#14FA4C\">\"pos_order_ids\"</font> y se obtiene el id del documento del pos (PdV). Este id es único para cada factura, y se ingresa a la lista `pos_doc_ids`."
   ]
  },
  {
   "cell_type": "code",
   "execution_count": 12,
   "metadata": {},
   "outputs": [],
   "source": [
    "pos_doc_ids = []\n",
    "\n",
    "for fact in fact_doc_json:\n",
    "    if fact['pos_order_ids']:\n",
    "        pos_doc_ids.append(fact['pos_order_ids'][0])"
   ]
  },
  {
   "cell_type": "markdown",
   "metadata": {},
   "source": [
    "Hay facturas que se hacen duplicando facturas que se cancelan. Esto significa que las nuevas facturas no tienen un pos_doc_id y por lo tanto no se encuentra la información que se desea. Sin embargo, estas facturas duplicadas sí tienen en el campo <font color=\"#14FA4C\">\"invoice_origin\"</font> el rastro de qué PdV tienen.\n",
    "\n",
    "Se procede a filtrar estas facturas y hacer una lista de los nombres de ellas. Se guarda esta lista en `pos_doc_name_extra` y con estos nombres se buscan los ids en el modelo <font color=\"#F414FA\">pos.order</font>. Devuelve esta búsqueda un json `pos_doc_json`.\n",
    "\n",
    "Utilizando un ciclo <font color=\"#14E4FA\">for</font>, se utiliza `pos_doc_json` para complementar `pos_doc_ids` con las ids de tipo documento faltantes."
   ]
  },
  {
   "cell_type": "code",
   "execution_count": 13,
   "metadata": {},
   "outputs": [],
   "source": [
    "pos_doc_name_extra = list(fact_df.loc[(fact_df['module_origin'] == 'PdV') & (fact_df['pos_doc_id'].isna()), 'invoice_origin'].unique())\n",
    "\n",
    "search_pos = [\n",
    "    (\"name\", \"in\", pos_doc_name_extra),\n",
    "]\n",
    "\n",
    "pos_doc_fields = [\n",
    "    'name'\n",
    "]\n",
    "\n",
    "pos_doc_ids_extra = models.execute_kw(api_db, uid, api_clave, 'pos.order', 'search', [search_pos])\n",
    "pos_doc_json_extra = models.execute_kw(api_db, uid, api_clave, 'pos.order', 'read', [pos_doc_ids_extra], {'fields': pos_doc_fields})\n",
    "\n",
    "for pos in pos_doc_json_extra:\n",
    "    pos_doc_ids.append(pos['id'])"
   ]
  },
  {
   "cell_type": "markdown",
   "metadata": {},
   "source": [
    "Además del trabajo anterior, se ocupa complementar en `fact_df` los ids de documento `pos_doc_ids` de las facturas encontradas en `pos_doc_json_extra`. Se logra esto al generar un for de cada item del json y por \".loc\" se agrega a `fact_df`."
   ]
  },
  {
   "cell_type": "code",
   "execution_count": 14,
   "metadata": {},
   "outputs": [],
   "source": [
    "for item in pos_doc_json_extra:\n",
    "    fact_df.loc[fact_df['invoice_origin'] == item['name'], 'pos_doc_id'] = item['id']"
   ]
  },
  {
   "cell_type": "markdown",
   "metadata": {},
   "source": [
    "`pos_doc_ids` son ids tipo documento y no son las mismas que las ids que ocupa el modelo <font color=\"#F414FA\">pos.order.line</font>. Es por esto que aquí primero se hace una búsqueda de los ids tipo línea que tienen un id tipo documento porporcionado por `pos_doc_ids`. Cabe mencionar que no debe haber criterios de búsqueda que cambien los criterios originales.\n",
    "\n",
    "Se especifican los campos necesarios `pos_doc_fields` para utilizarlos en una búsqueda en el modelo <font color=\"#F414FA\">pos.order.line</font>. Esta búsqueda devuelve una lista con todos los ids tipo línea del pos y se almacena en `pos_line_ids`\n",
    "\n",
    "No es necesario accesar al modelo del documento del pos <font color=\"#F414FA\">pos.order</font>, pues la información que se necesita está dentro de cada línea del pos.\n",
    "\n",
    "Con los ids tipo línea `pos_line_ids` se consulta la información de cada línea del pos en el modelo. Esto devuelve una lista de diccionarios que se almacenana en `pos_line_json`"
   ]
  },
  {
   "cell_type": "code",
   "execution_count": 15,
   "metadata": {},
   "outputs": [],
   "source": [
    "pos_line_fields = [\n",
    "    'order_id',\n",
    "    'sale_order_line_id',\n",
    "    'refund_orderline_ids',\n",
    "    'refunded_orderline_id',\n",
    "]\n",
    "\n",
    "\n",
    "pos_line_ids = models.execute_kw(api_db, uid, api_clave, 'pos.order.line', 'search', [[(\"order_id.id\", \"=\", pos_doc_ids)]])\n",
    "pos_line_json = models.execute_kw(api_db, uid, api_clave, 'pos.order.line', 'read', [pos_line_ids], {'fields': pos_line_fields})"
   ]
  },
  {
   "cell_type": "markdown",
   "metadata": {},
   "source": [
    "Se procede a generar un DataFrame de Pandas. Para esto se preparan los datos con un ciclo <font color=\"#14E4FA\">for</font> donde se manipula `pos_line_json` y se ingresa cada línea del pos ya manipulada a una lista vacía `data_pos_line`. La lista ya cargada con todos sus elementos es la que se convierte en el DataFrame `pos_line_df`. Este dataframe tiene únicamente la información de las líneas del pos y el id del documento del pos. No hay un vínculo con `fact_df`"
   ]
  },
  {
   "cell_type": "code",
   "execution_count": 16,
   "metadata": {},
   "outputs": [],
   "source": [
    "data_pos_line = []\n",
    "\n",
    "for pos in pos_line_json:\n",
    "    new = {}\n",
    "    new['pos_line_id'] = pos['id']\n",
    "    new['pos_doc_id'] = pos['order_id'][0]\n",
    "    new['sale_line_id_pos'] = if_list_gt0_idex(pos, 'sale_order_line_id', 0)\n",
    "    new['refund_orderline_ids'] = if_list_gt0_idex(pos, 'refund_orderline_ids', 0)\n",
    "    new['refunded_orderline_id'] = if_list_gt0_idex(pos, 'refunded_orderline_id', 0)\n",
    "    \n",
    "\n",
    "    data_pos_line.append(new)\n",
    "\n",
    "dfpos_line = pd.DataFrame(data_pos_line)\n",
    "dfpos_line['sale_line_id_pos'] = dfpos_line['sale_line_id_pos'].astype('Int64')\n",
    "dfpos_line['pos_line_id'] = dfpos_line['pos_line_id'].astype('Int64')\n",
    "dfpos_line['refund_orderline_ids'] = dfpos_line['refund_orderline_ids'].astype('Int64')\n",
    "dfpos_line['refunded_orderline_id'] = dfpos_line['refunded_orderline_id'].astype('Int64')"
   ]
  },
  {
   "cell_type": "markdown",
   "metadata": {},
   "source": [
    "Debido a que `fact_df` contiene el total de las facturas de Odoo, se ocupa segmentar sólo las facturas que provienen del módulo de PdV. Esto con el fin de hacer un <font color=\"#14E4FA\">merge</font> entre `fact_df` y `pos_line_df` de manera más sencilla. El resultado se almacena en `fact_pos_doc_df`."
   ]
  },
  {
   "cell_type": "code",
   "execution_count": 17,
   "metadata": {},
   "outputs": [],
   "source": [
    "fact_pos_doc_df = fact_df[~fact_df['pos_doc_id'].isna()][['fact_doc_id','name', 'fact_line_id', 'pos_doc_id', 'product_id']]"
   ]
  },
  {
   "cell_type": "markdown",
   "metadata": {},
   "source": [
    "Para aumentar la seguridad del código, es necesario verificar que el total de líneas del modelo <font color=\"#F414FA\">pos.order.line</font> es igual al total de líneas del modelo <font color=\"#F414FA\">account.move.line</font> `check_total_size` y que cada factura tiene el mismo número de líneas que su orden `check_each_document_size`. Esto es necesario para evitar equivocaciones en el <font color=\"#14E4FA\">merge</font> (enmaquetado) de ambos dataframes [`fact_df`, `pos_line_df`], derivado a que no hay un vínculo claro en común.\n",
    "\n",
    "Para lograr `check_total_size`:\n",
    "- Se agrupan ambos dataframes por el campo propio de id de línea, dando como resultado `fact_pos_doc_df` y `group_dfpos_line`.\n",
    "- Se compara el tamaño de ambos grupos y el valor booleano se almacena en `check_total_size`.\n",
    "\n",
    "Para lograr `check_each_document_size`:\n",
    "- se concatenan `fact_pos_doc_df` y `group_dfpos_line` y se almacena en el dataframe `groups_concat`.\n",
    "- se compara el campo id de fac con id del pos y el booleano resultante se almacen una columna nueva de `groups_concat` <font color=\"#14FA4C\">\"lines_per_doc\"</font>.\n",
    "- se filtran los valores <font color=\"#14FA4C\">False</font> de <font color=\"#14FA4C\">\"lines_per_doc\"</font> y al tamaño del resultado se le compara con cero. El resultado se almacena en `check_each_document_size`"
   ]
  },
  {
   "cell_type": "code",
   "execution_count": 18,
   "metadata": {},
   "outputs": [],
   "source": [
    "group_fact_pos_df = fact_pos_doc_df.groupby('pos_doc_id').count()['fact_doc_id']\n",
    "group_pos_line_df = dfpos_line.groupby('pos_doc_id').count()['pos_line_id']\n",
    "\n",
    "check_total_size = len(group_fact_pos_df) == len(group_pos_line_df)\n",
    "\n",
    "groups_concat = pd.concat([group_fact_pos_df, group_pos_line_df], axis=1)\n",
    "groups_concat['lines_per_doc'] = groups_concat['fact_doc_id'] == groups_concat['pos_line_id']\n",
    "check_each_document_size = len(groups_concat[~groups_concat['lines_per_doc']]) == 0"
   ]
  },
  {
   "cell_type": "markdown",
   "metadata": {},
   "source": [
    "Para poder hacer un <font color=\"#14E4FA\">merge</font> entre `fact_df`, `pos_line_df` se busca hacer un id temporal `id_vinculo` que sirva de vínculo entre ambos dataframes.\n",
    "\n",
    "Para generar `id_vinculo`, se utiliza el único campo en común para ambos dataframes <font color=\"#14FA4C\">\"pos_order_ids\"</font> en `fact_df` y <font color=\"#14FA4C\">\"pos_doc_id\"</font> en `pos_line_df`.\n",
    "\n",
    "Se generó la función `id_vinculo_generator`, la cual recibe tres parámetros: el dataframe, el nombre de la columna donde se almacenan los ids de los documentos del pos y el nombre de la columna donde se almacenan los ids de las líneas de su modelo."
   ]
  },
  {
   "cell_type": "code",
   "execution_count": 19,
   "metadata": {},
   "outputs": [],
   "source": [
    "def id_vinculo_generator(df_base: pd.DataFrame, pos_doc_column_name: str, df_id_line_name:str ) -> pd.DataFrame:\n",
    "    \n",
    "    df = df_base.sort_values(by=[pos_doc_column_name, df_id_line_name])\n",
    "    df['id_relative_pos'] = None\n",
    "\n",
    "    pos_orders = df[pos_doc_column_name].unique()\n",
    "\n",
    "    for pos in pos_orders:\n",
    "        mini_df = df.loc[df[pos_doc_column_name] == pos]\n",
    "        df.loc[df[pos_doc_column_name] == pos, 'id_relative_pos'] = [i for i in range(len(mini_df))]\n",
    "\n",
    "\n",
    "    df['id_vinculo'] = df[pos_doc_column_name].astype(str) + '-' + df['id_relative_pos'].astype(str)\n",
    "\n",
    "    return df"
   ]
  },
  {
   "cell_type": "markdown",
   "metadata": {},
   "source": [
    "Se procede a ejecutar la función anterior para cada dataframe. Se guardan sus resultados respectivos en `fact_pos_link_df` y `pos_line_link_df`"
   ]
  },
  {
   "cell_type": "code",
   "execution_count": 20,
   "metadata": {},
   "outputs": [],
   "source": [
    "fact_pos_doc_link_df = id_vinculo_generator( fact_pos_doc_df, 'pos_doc_id', 'fact_line_id')\n",
    "pos_line_link_df = id_vinculo_generator(dfpos_line, 'pos_doc_id', 'pos_line_id')"
   ]
  },
  {
   "cell_type": "markdown",
   "metadata": {},
   "source": [
    "Se procede a generar el merge de ambos dataframes de linea, dando como resultado `fac_pos_linked_df`."
   ]
  },
  {
   "cell_type": "code",
   "execution_count": 21,
   "metadata": {},
   "outputs": [],
   "source": [
    "fac_pos_linked_df =  fact_pos_doc_link_df.merge(pos_line_link_df, how='outer', on='id_vinculo')"
   ]
  },
  {
   "cell_type": "markdown",
   "metadata": {},
   "source": [
    "Se procede a integrar `fac_pos_linked_df` al dataframe general `fact_df` por medio de un <font color=\"#14E4FA\">merge</font> tipo \"left join\" en su campo de línea de factura <font color=\"#14FA4C\">\"id_x\"</font>, obteniendo `fact_pos_df`. Al haber vinculado <font color=\"#F414FA\">pos.order.line</font> al dataframe general, cada línea de venta (ya sea que venga del módulo de \"Ventas\" o del módulo de \"PdV\") tiene ya un id de línea del modelo <font color=\"#F414FA\">sale.order.line</font>, que es donde se encuentra el nombre de la vendedora."
   ]
  },
  {
   "cell_type": "code",
   "execution_count": 22,
   "metadata": {},
   "outputs": [],
   "source": [
    "cols_to_keep = ['fact_line_id', 'pos_line_id', 'sale_line_id_pos', 'refund_orderline_ids', 'refunded_orderline_id']\n",
    "fact_pos_df = fact_df.merge(fac_pos_linked_df[cols_to_keep], how='left', on='fact_line_id')"
   ]
  },
  {
   "cell_type": "markdown",
   "metadata": {},
   "source": [
    "Al haber hecho merge en dos dataframes diferentes en `fact_pos_df`, se tienen los ids del modelo <font color=\"#F414FA\">sale.order.line</font> en diferentes columnas. Se procede a juntar dichos ids en una sóla columna <font color=\"#14FA4C\">\"sale_line_join_id\"</font>.\n",
    "\n",
    "Se genera `ids_sale_line` que es una lista de los ids únicos para poder utilizarlos a posterior."
   ]
  },
  {
   "cell_type": "code",
   "execution_count": 23,
   "metadata": {},
   "outputs": [],
   "source": [
    "fact_pos_df['sale_line_id'] = None\n",
    "fact_pos_df.loc[(~fact_pos_df['sale_line_id_fact'].isna() & fact_pos_df['sale_line_id_pos'].isna()), 'sale_line_id'] = fact_pos_df['sale_line_id_fact']\n",
    "fact_pos_df.loc[(fact_pos_df['sale_line_id_fact'].isna() & ~fact_pos_df['sale_line_id_pos'].isna()), 'sale_line_id'] = fact_pos_df['sale_line_id_pos']\n",
    "fact_pos_df['sale_line_id'] = fact_pos_df['sale_line_id'].astype('Int64')\n",
    "\n",
    "fact_pos_df.drop(columns=['sale_line_id_fact', 'sale_line_id_pos'], inplace=True)\n",
    "\n",
    "sale_line_ids = []\n",
    "for sid in fact_pos_df['sale_line_id'].sort_values(ascending=True).unique()[:-1]:\n",
    "    sale_line_ids.append(int(sid))"
   ]
  },
  {
   "cell_type": "markdown",
   "metadata": {},
   "source": [
    "Se especifican los campos necesarios `sale_line_fields` para que con `sale_line_ids` (que se generó arriba) se pueda obtener la información del modelo <font color=\"#F414FA\">sale.order.line</font>. Esto devuelve una lista de diccionarios con la información de cada línea de venta, que se guarda en `sale_line_json`."
   ]
  },
  {
   "cell_type": "code",
   "execution_count": 24,
   "metadata": {},
   "outputs": [],
   "source": [
    "sale_line_fields = [\n",
    "    'salesman_id',\n",
    "]\n",
    "\n",
    "sale_line_json = models.execute_kw(api_db, uid, api_clave, 'sale.order.line', 'read', [sale_line_ids], {'fields': sale_line_fields})"
   ]
  },
  {
   "cell_type": "markdown",
   "metadata": {},
   "source": [
    "Se procede a generar el DataFrame `sale_line_df`. Para esto se preparan los datos con un ciclo <font color=\"#14E4FA\">for</font> donde se manipula `sale_line_json`."
   ]
  },
  {
   "cell_type": "code",
   "execution_count": 25,
   "metadata": {},
   "outputs": [],
   "source": [
    "data_sale_line = []\n",
    "\n",
    "for sale in sale_line_json:\n",
    "    new = {}\n",
    "    new['sale_line_id'] = sale['id']\n",
    "    new['salesman_id'] = sale['salesman_id'][0]\n",
    "\n",
    "    data_sale_line.append(new)\n",
    "\n",
    "\n",
    "sale_line_df = pd.DataFrame(data_sale_line)\n",
    "sale_line_df['salesman_id'] = sale_line_df['salesman_id'].astype('Int64')"
   ]
  },
  {
   "cell_type": "markdown",
   "metadata": {},
   "source": [
    "Se procede a integrar `sale_line_df` al dataframe general `fact_pos_df` por medio de un <font color=\"#14E4FA\">merge</font> tipo \"left join\" en su campo de línea de sale <font color=\"#14FA4C\">\"sale_line_id\"</font>, obteniendo `complete_df`."
   ]
  },
  {
   "cell_type": "code",
   "execution_count": 26,
   "metadata": {},
   "outputs": [],
   "source": [
    "complete_df = fact_pos_df.merge(sale_line_df, how='left', on='sale_line_id').set_index('name')"
   ]
  },
  {
   "cell_type": "markdown",
   "metadata": {},
   "source": [
    "Se filtra las líneas de factura que son de reversiones o notas de crédito/devolución. Estas líneas tienen que cambiar su signo a negativo para que la analítica de sumas y acumulados refleje la realidad en `complete_df`."
   ]
  },
  {
   "cell_type": "code",
   "execution_count": 27,
   "metadata": {},
   "outputs": [],
   "source": [
    "complete_df.loc[~complete_df.reversed_entry_id.isna(), ['quantity', 'price_subtotal']] = complete_df.loc[~complete_df.reversed_entry_id.isna(), ['quantity', 'price_subtotal']] * -1"
   ]
  },
  {
   "cell_type": "markdown",
   "metadata": {},
   "source": [
    "Ya que se tiene `complete_df`, se ocupa corregir todas las líneas que en el campo 'salesman_id' no tienen información. Primero, de las líneas que vienen directo de contabilidad se toma el campo 'invoice_user_id' y se copia al campo 'salesman_id'."
   ]
  },
  {
   "cell_type": "code",
   "execution_count": 28,
   "metadata": {},
   "outputs": [],
   "source": [
    "complete_df.loc[complete_df['module_origin'] == 'Contabilidad', 'salesman_id'] = complete_df.loc[complete_df['module_origin'] == 'Contabilidad', 'invoice_user_id']"
   ]
  },
  {
   "cell_type": "code",
   "execution_count": 43,
   "metadata": {},
   "outputs": [],
   "source": [
    "for id in complete_df.loc[(complete_df['salesman_id'].isna()) & (complete_df['move_type'] == 'out_invoice') & (~complete_df['pos_line_id'].isna())]['pos_line_id']:\n",
    "    pos_doc_for_line_not_found = complete_df.loc[complete_df['pos_line_id'] == id]['pos_doc_id'].iloc[0]\n",
    "    complete_df.loc[complete_df['pos_line_id'] == id, 'salesman_id'] = complete_df.loc[complete_df['pos_doc_id'] == pos_doc_for_line_not_found]['salesman_id'].iloc[0]"
   ]
  },
  {
   "cell_type": "code",
   "execution_count": 50,
   "metadata": {},
   "outputs": [],
   "source": [
    "for id in complete_df.loc[(complete_df['salesman_id'].isna()) & (complete_df['move_type'] == 'out_refund') & (~complete_df['pos_line_id'].isna())]['pos_line_id']:\n",
    "        refunded_pos_line_id = int(complete_df.loc[complete_df['pos_line_id'] == id]['refunded_orderline_id'].iloc[0])\n",
    "        if complete_df.loc[complete_df['pos_line_id'] == refunded_pos_line_id].empty:\n",
    "            pos_line_json_not_found = models.execute_kw(api_db, uid, api_clave, 'pos.order.line', 'read', [[refunded_pos_line_id]], {'fields': pos_line_fields})\n",
    "            res_id = pos_line_json_not_found[0]['sale_order_line_id']\n",
    "            if res_id:\n",
    "                sale_line_json_pos_not_found = models.execute_kw(api_db, uid, api_clave, 'sale.order.line', 'read', [pos_line_json_not_found[0]['sale_order_line_id'][0]], {'fields': sale_line_fields})\n",
    "                complete_df.loc[complete_df['pos_line_id'] == id, 'salesman_id'] = sale_line_json_pos_not_found[0]['salesman_id'][0]\n",
    "            else:\n",
    "                complete_df.loc[complete_df['pos_line_id'] == id, 'salesman_id'] = pd.NA\n",
    "        else:\n",
    "            complete_df.loc[complete_df['pos_line_id'] == id, 'salesman_id'] = complete_df.loc[complete_df['pos_line_id'] == refunded_pos_line_id]['salesman_id'].iloc[0]"
   ]
  },
  {
   "cell_type": "code",
   "execution_count": 58,
   "metadata": {},
   "outputs": [
    {
     "name": "stdout",
     "output_type": "stream",
     "text": [
      "6922\n",
      "<NA>\n"
     ]
    },
    {
     "ename": "TypeError",
     "evalue": "int() argument must be a string, a bytes-like object or a real number, not 'NAType'",
     "output_type": "error",
     "traceback": [
      "\u001b[1;31m---------------------------------------------------------------------------\u001b[0m",
      "\u001b[1;31mTypeError\u001b[0m                                 Traceback (most recent call last)",
      "Cell \u001b[1;32mIn[58], line 3\u001b[0m\n\u001b[0;32m      1\u001b[0m \u001b[38;5;28;01mfor\u001b[39;00m \u001b[38;5;28mid\u001b[39m \u001b[38;5;129;01min\u001b[39;00m complete_df\u001b[38;5;241m.\u001b[39mloc[complete_df[\u001b[38;5;124m'\u001b[39m\u001b[38;5;124msalesman_id\u001b[39m\u001b[38;5;124m'\u001b[39m]\u001b[38;5;241m.\u001b[39misna()][\u001b[38;5;124m'\u001b[39m\u001b[38;5;124mpos_doc_id\u001b[39m\u001b[38;5;124m'\u001b[39m]:\n\u001b[0;32m      2\u001b[0m         \u001b[38;5;28mprint\u001b[39m(\u001b[38;5;28mid\u001b[39m)\n\u001b[1;32m----> 3\u001b[0m         models\u001b[38;5;241m.\u001b[39mexecute_kw(api_db, uid, api_clave, \u001b[38;5;124m'\u001b[39m\u001b[38;5;124mpos.order\u001b[39m\u001b[38;5;124m'\u001b[39m, \u001b[38;5;124m'\u001b[39m\u001b[38;5;124mread\u001b[39m\u001b[38;5;124m'\u001b[39m, [[\u001b[38;5;28;43mint\u001b[39;49m\u001b[43m(\u001b[49m\u001b[38;5;28;43mid\u001b[39;49m\u001b[43m)\u001b[49m]])\n\u001b[0;32m      4\u001b[0m         \u001b[38;5;66;03m# pos_line_json_not_found = models.execute_kw(api_db, uid, api_clave, 'pos.order', 'read', [[int(id)]], {'fields': ['sale_order_origin_id']})\u001b[39;00m\n\u001b[0;32m      5\u001b[0m         \u001b[38;5;66;03m# sale_line_id_pos_not_found = int(pos_line_json_not_found[0]['sale_order_origin_id'][0])\u001b[39;00m\n\u001b[0;32m      6\u001b[0m         \u001b[38;5;66;03m# sale_line_json_pos_not_found = models.execute_kw(api_db, uid, api_clave, 'sale.order', 'read', [[sale_line_id_pos_not_found]], {'fields': ['user_id']})\u001b[39;00m\n\u001b[0;32m      7\u001b[0m         \u001b[38;5;66;03m# salesman_id_not_found = int(sale_line_json_pos_not_found[0]['user_id'][0])\u001b[39;00m\n\u001b[0;32m      8\u001b[0m         \u001b[38;5;66;03m# complete_df.loc[complete_df['pos_line_id'] == id, 'salesman_id'] = salesman_id_not_found\u001b[39;00m\n",
      "\u001b[1;31mTypeError\u001b[0m: int() argument must be a string, a bytes-like object or a real number, not 'NAType'"
     ]
    }
   ],
   "source": [
    "for id in complete_df.loc[complete_df['salesman_id'].isna()]['pos_line_id']:\n",
    "        pos_line_json_not_found = models.execute_kw(api_db, uid, api_clave, 'pos.order.line', 'read', [[int(id)]], {'fields': ['sale_order_origin_id']})\n",
    "        sale_line_id_pos_not_found = int(pos_line_json_not_found[0]['sale_order_origin_id'][0])\n",
    "        sale_line_json_pos_not_found = models.execute_kw(api_db, uid, api_clave, 'sale.order', 'read', [[sale_line_id_pos_not_found]], {'fields': ['user_id']})\n",
    "        salesman_id_not_found = int(sale_line_json_pos_not_found[0]['user_id'][0])\n",
    "        complete_df.loc[complete_df['pos_line_id'] == id, 'salesman_id'] = salesman_id_not_found"
   ]
  },
  {
   "cell_type": "markdown",
   "metadata": {},
   "source": [
    "Se ocupa mejorar 'salesman_id'"
   ]
  },
  {
   "cell_type": "code",
   "execution_count": null,
   "metadata": {},
   "outputs": [
    {
     "data": {
      "text/html": [
       "<div>\n",
       "<style scoped>\n",
       "    .dataframe tbody tr th:only-of-type {\n",
       "        vertical-align: middle;\n",
       "    }\n",
       "\n",
       "    .dataframe tbody tr th {\n",
       "        vertical-align: top;\n",
       "    }\n",
       "\n",
       "    .dataframe thead th {\n",
       "        text-align: right;\n",
       "    }\n",
       "</style>\n",
       "<table border=\"1\" class=\"dataframe\">\n",
       "  <thead>\n",
       "    <tr style=\"text-align: right;\">\n",
       "      <th></th>\n",
       "      <th>fact_doc_id</th>\n",
       "      <th>invoice_date</th>\n",
       "      <th>state</th>\n",
       "      <th>invoice_origin</th>\n",
       "      <th>module_origin</th>\n",
       "      <th>pos_doc_id</th>\n",
       "      <th>move_type</th>\n",
       "      <th>reversal_move_id</th>\n",
       "      <th>reversed_entry_id</th>\n",
       "      <th>journal_id</th>\n",
       "      <th>...</th>\n",
       "      <th>product_id</th>\n",
       "      <th>quantity</th>\n",
       "      <th>price_unit</th>\n",
       "      <th>discount</th>\n",
       "      <th>price_subtotal</th>\n",
       "      <th>pos_line_id</th>\n",
       "      <th>refund_orderline_ids</th>\n",
       "      <th>refunded_orderline_id</th>\n",
       "      <th>sale_line_id</th>\n",
       "      <th>salesman_id</th>\n",
       "    </tr>\n",
       "    <tr>\n",
       "      <th>name</th>\n",
       "      <th></th>\n",
       "      <th></th>\n",
       "      <th></th>\n",
       "      <th></th>\n",
       "      <th></th>\n",
       "      <th></th>\n",
       "      <th></th>\n",
       "      <th></th>\n",
       "      <th></th>\n",
       "      <th></th>\n",
       "      <th></th>\n",
       "      <th></th>\n",
       "      <th></th>\n",
       "      <th></th>\n",
       "      <th></th>\n",
       "      <th></th>\n",
       "      <th></th>\n",
       "      <th></th>\n",
       "      <th></th>\n",
       "      <th></th>\n",
       "      <th></th>\n",
       "    </tr>\n",
       "  </thead>\n",
       "  <tbody>\n",
       "  </tbody>\n",
       "</table>\n",
       "<p>0 rows × 26 columns</p>\n",
       "</div>"
      ],
      "text/plain": [
       "Empty DataFrame\n",
       "Columns: [fact_doc_id, invoice_date, state, invoice_origin, module_origin, pos_doc_id, move_type, reversal_move_id, reversed_entry_id, journal_id, company_id, partner_id, fact_line_id, invoice_user_id, team_id, create_date, product_id, quantity, price_unit, discount, price_subtotal, pos_line_id, refund_orderline_ids, refunded_orderline_id, sale_line_id, salesman_id]\n",
       "Index: []\n",
       "\n",
       "[0 rows x 26 columns]"
      ]
     },
     "execution_count": 34,
     "metadata": {},
     "output_type": "execute_result"
    }
   ],
   "source": [
    "complete_df.loc[complete_df['salesman_id'].isna()]"
   ]
  },
  {
   "cell_type": "code",
   "execution_count": null,
   "metadata": {},
   "outputs": [],
   "source": [
    "check_salesman_id = len(complete_df.loc[complete_df['salesman_id'].isna()]) == 0\n",
    "check_salesman_id_just_salesteams = len(complete_df.loc[~complete_df['salesman_id'].isin(list(descrip_sales_users_df['id']))]) == 0"
   ]
  },
  {
   "cell_type": "markdown",
   "metadata": {},
   "source": [
    "# <span style=\"color:steelblue\">Check Points<span>"
   ]
  },
  {
   "cell_type": "code",
   "execution_count": null,
   "metadata": {},
   "outputs": [
    {
     "name": "stdout",
     "output_type": "stream",
     "text": [
      "Todos los check points están correctos: False\n"
     ]
    }
   ],
   "source": [
    "check_all = check_1 and check_total_size and check_each_document_size and check_salesman_id and check_salesman_id_just_salesteams\n",
    "print('Todos los check points están correctos:', check_all)"
   ]
  },
  {
   "cell_type": "code",
   "execution_count": null,
   "metadata": {},
   "outputs": [
    {
     "name": "stdout",
     "output_type": "stream",
     "text": [
      "No hay valores sin calificar en module_origin: True\n",
      "Las agrupaciones son del mismo tamaño: True\n",
      "No hay diferencias al comparar cantidad de líneas por cada par de documentos: True\n",
      "En el campo salesman_id sólo hay vendedoras True\n",
      "Las vendedoras són únicamente ids que están dentro de los equipos de ventas False\n"
     ]
    }
   ],
   "source": [
    "print('No hay valores sin calificar en module_origin:', check_1)\n",
    "print('Las agrupaciones son del mismo tamaño:', check_total_size)\n",
    "print('No hay diferencias al comparar cantidad de líneas por cada par de documentos:', check_each_document_size)\n",
    "print('En el campo salesman_id sólo hay vendedoras', check_salesman_id)\n",
    "print('Las vendedoras són únicamente ids que están dentro de los equipos de ventas', check_salesman_id_just_salesteams)"
   ]
  },
  {
   "cell_type": "markdown",
   "metadata": {},
   "source": [
    "## Variables de datos\n",
    "----\n",
    "### Filtros de búsqueda y variables iniciales\n",
    "`search_fact`: Filtro iniciar de búsqueda para documentos de factura\n",
    "\n",
    "----\n",
    "### DataFrames fusionados\n",
    "- `fact_df`: DataFrame <b><font color=\"#4EC2A6\">fact_doc_df</font></b> <font color=\"#FF922C\">+</font> <b><font color=\"#4EC2A6\">fact_line_df</font></b>\n",
    "- `fact_pos_doc_df`: DataFrame <b><font color=\"#4EC2A6\">fact_df</font></b> <font color=\"#FF922C\">+</font> <b><font color=\"#4EC2A6\">pos_line_df</font></b>\n",
    "- `fact_pos_df` DataFrame <b><font color=\"#4EC2A6\">fact_df</font></b> <font color=\"#FF922C\">+</font> <b><font color=\"#4EC2A6\">pos_doc_df</font></b> <font color=\"#FF922C\">+</font> <b><font color=\"#4EC2A6\">pos_line_df</font></b>\n",
    "- `complete_df`: DataFrame <b><font color=\"#4EC2A6\">fact_pos_df</font></b> <font color=\"#FF922C\">+</font> <b><font color=\"#4EC2A6\">sale_line_df</font></b> <b><font color=\"#E8FF00\">Este es el DataFrame completo</font></b>\n",
    "\n",
    "----\n",
    "### Documentos de factura\n",
    "- `fact_doc_fields`:  Campos solicitados para búsqueda\n",
    "- `fact_doc_ids`: Lista de IDs devuelta\n",
    "- `fact_doc_json`: JSON devuelto por Odoo\n",
    "- `fact_doc_df`: DataFrame\n",
    "\n",
    "### Líneas de factura\n",
    "- `fact_line_fields`: Campos solicitados para búsqueda\n",
    "- `fact_line_ids`: Lista de IDs devuelta\n",
    "- `fact_line_json`: JSON devuelto por Odoo\n",
    "- `fact_line_df`: DataFrame\n",
    "\n",
    "----\n",
    "### Documentos de punto de venta\n",
    "- `pos_doc_fields`:  Campos solicitados para búsqueda\n",
    "- `pos_doc_ids`: Lista de IDs devuelta\n",
    "- `pos_doc_json`: JSON devuelto por Odoo\n",
    "- `pos_doc_df`: DataFrame\n",
    "\n",
    "### Líneas de punto de venta\n",
    "- `pos_line_fields`: Campos solicitados para búsqueda\n",
    "- `pos_line_ids`: Lista de IDs devuelta\n",
    "- `pos_line_json`: JSON devuelto por Odoo\n",
    "- `pos_line_df`: DataFrame\n",
    "\n",
    "----\n",
    "### Líneas de ventas\n",
    "- `sale_line_fields`: Campos solicitados para búsqueda\n",
    "- `sale_line_ids`: Lista de IDs devuelta\n",
    "- `sale_line_json`: JSON devuelto por Odoo\n",
    "- `sale_line_df`: DataFrame\n",
    "\n",
    "## Variables y búsquedas complementarias\n",
    "----\n",
    "### Documentos de punto de venta adicionales\n",
    "- `pos_doc_name_extra`: Folios\n",
    "- `pos_doc_ids_extra`: Lista de IDs devuelta\n",
    "- `pos_doc_name_df`: DataFrame complementario de folios"
   ]
  }
 ],
 "metadata": {
  "kernelspec": {
   "display_name": "env_algoritmo-comisiones-Odoo",
   "language": "python",
   "name": "python3"
  },
  "language_info": {
   "codemirror_mode": {
    "name": "ipython",
    "version": 3
   },
   "file_extension": ".py",
   "mimetype": "text/x-python",
   "name": "python",
   "nbconvert_exporter": "python",
   "pygments_lexer": "ipython3",
   "version": "3.11.5"
  }
 },
 "nbformat": 4,
 "nbformat_minor": 2
}
