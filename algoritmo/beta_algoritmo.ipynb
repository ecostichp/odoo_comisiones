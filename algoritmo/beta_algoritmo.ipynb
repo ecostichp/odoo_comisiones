{
 "cells": [
  {
   "cell_type": "markdown",
   "metadata": {},
   "source": [
    "Se importan las librerías necesarias"
   ]
  },
  {
   "cell_type": "code",
   "execution_count": 1,
   "metadata": {},
   "outputs": [],
   "source": [
    "# Librerías para manejo del sistema\n",
    "import os\n",
    "from pathlib import Path\n",
    "\n",
    "# Librerías para manejar accesos a datos (SQL y API)\n",
    "from sqlalchemy import create_engine\n",
    "import xmlrpc.client\n",
    "\n",
    "# Librerías para ciencia de datos\n",
    "import pandas as pd\n",
    "import numpy as np\n",
    "\n",
    "# Librerías para graficación de datos\n",
    "import matplotlib.pyplot as plt\n",
    "import seaborn as sns"
   ]
  },
  {
   "cell_type": "markdown",
   "metadata": {},
   "source": [
    "Se importan variables de entorno"
   ]
  },
  {
   "cell_type": "code",
   "execution_count": 2,
   "metadata": {},
   "outputs": [],
   "source": [
    "api_url = os.environ.get('ODOO_URL_API')\n",
    "api_db = os.environ.get('ODOO_DB_API')\n",
    "api_username = os.environ.get('ODOO_USERNAME_API')\n",
    "api_clave = os.environ.get('ODOO_CLAVE_API')"
   ]
  },
  {
   "cell_type": "markdown",
   "metadata": {},
   "source": [
    "Se instancia el objeto engine para manejar el acceso a la base de datos local"
   ]
  },
  {
   "cell_type": "code",
   "execution_count": 3,
   "metadata": {},
   "outputs": [],
   "source": [
    "db_file = 'local_db.db'\n",
    "db_file_path_str = str(Path().cwd().parent.joinpath(Path(f'data/{db_file}')))\n",
    "\n",
    "engine = create_engine(f'sqlite:///{db_file_path_str}')"
   ]
  },
  {
   "cell_type": "markdown",
   "metadata": {},
   "source": [
    "Se instancia el objeto models para ejecutar métodos a los modelos del API de Odoo"
   ]
  },
  {
   "cell_type": "code",
   "execution_count": 4,
   "metadata": {},
   "outputs": [],
   "source": [
    "common = xmlrpc.client.ServerProxy(f'{api_url}/xmlrpc/2/common')\n",
    "uid = common.authenticate(api_db, api_username, api_clave, {})\n",
    "models = xmlrpc.client.ServerProxy(f'{api_url}/xmlrpc/2/object')"
   ]
  },
  {
   "cell_type": "markdown",
   "metadata": {},
   "source": [
    "# <span style=\"color:steelblue\">Funciones<span>"
   ]
  },
  {
   "cell_type": "code",
   "execution_count": 5,
   "metadata": {},
   "outputs": [],
   "source": [
    "def if_list_gt0_idex (item: dict, key: str, index:int ) -> None | int:\n",
    "        val = item[key]\n",
    "\n",
    "        if val:\n",
    "            if len(val) == 0:\n",
    "                return None\n",
    "            else:\n",
    "                return val[index]\n",
    "        else:\n",
    "            return None"
   ]
  },
  {
   "cell_type": "markdown",
   "metadata": {},
   "source": [
    "# <span style=\"color:steelblue\">Descripciones DataFrames<span>"
   ]
  },
  {
   "cell_type": "code",
   "execution_count": 6,
   "metadata": {},
   "outputs": [],
   "source": [
    "desc_uripsers_fields = ['name', 'state', 'sale_team_id']\n",
    "descrip_users_json = models.execute_kw(api_db, uid, api_clave, 'res.users', 'search_read', [], {'fields': desc_uripsers_fields})\n",
    "\n",
    "descrip_users_data = []\n",
    "\n",
    "for user in descrip_users_json:\n",
    "    new = {}\n",
    "    new['id'] = user['id']\n",
    "    new['name'] = user['name']\n",
    "    new['state'] = user['state']\n",
    "    new['sale_team_id'] = if_list_gt0_idex(user, 'sale_team_id', 0)\n",
    "    new['sale_team_description'] = if_list_gt0_idex(user, 'sale_team_id', 1)\n",
    "\n",
    "    descrip_users_data.append(new)\n",
    "\n",
    "\n",
    "descrip_users_df = pd.DataFrame(descrip_users_data)\n",
    "descrip_users_df['sale_team_id'] = descrip_users_df['sale_team_id'].astype('Int64')\n",
    "\n",
    "descrip_users_df.loc[descrip_users_df['sale_team_id'].isin([5,6]), 'business_model'] = 'Piso'\n",
    "descrip_users_df.loc[descrip_users_df['sale_team_id'].isin([7,8]), 'business_model'] = 'CE'\n",
    "descrip_users_df.loc[descrip_users_df['sale_team_id'].isin([5,7]), 'warehouse'] = 'A1'\n",
    "descrip_users_df.loc[descrip_users_df['sale_team_id'].isin([6,8]), 'warehouse'] = 'A2'\n",
    "\n",
    "descrip_sales_users_df  = descrip_users_df.loc[~descrip_users_df['sale_team_id'].isna()]"
   ]
  },
  {
   "cell_type": "markdown",
   "metadata": {},
   "source": [
    "# <span style=\"color:steelblue\">Algoritmo<span>"
   ]
  },
  {
   "cell_type": "markdown",
   "metadata": {},
   "source": [
    "Se buscan los ids de las facturas en el modelo <font color=\"#F414FA\">account.move</font> con los criterios de búsqueda `search_fact`. Esto devuelve una lista de enteros (ids de estas facturas) que se almacena en `fact_doc_ids`.\n",
    "\n",
    "Después, se especifican los campos necesarios de este modelo en `fact_doc_fields` y se genera la lectura de los ids anteriores. Esto devuelve una lista de diccionarios con la información de cada factura que se almacena en `fact_doc_json`"
   ]
  },
  {
   "cell_type": "code",
   "execution_count": 7,
   "metadata": {},
   "outputs": [],
   "source": [
    "search_fact = [\"&\", \"&\", \"&\",\n",
    "          (\"state\", \"=\", \"posted\"),\n",
    "          (\"invoice_date\", \">=\", \"2024-02-01\"), \n",
    "          (\"invoice_date\", \"<=\", \"2024-02-29\"), \n",
    "          (\"journal_id\", \"in\", [10, 90, 30, 97])]\n",
    "\n",
    "fact_doc_fields = [\n",
    "          'name',\n",
    "          'invoice_date',\n",
    "          'state',\n",
    "          'reversed_entry_id',\n",
    "          'reversal_move_id',\n",
    "          'journal_id',\n",
    "          'company_id',\n",
    "          'invoice_origin',\n",
    "          'pos_order_ids',\n",
    "          'line_ids',\n",
    "          'partner_id',\n",
    "          'move_type',\n",
    "          'invoice_user_id'\n",
    "          ]\n",
    "\n",
    "fact_doc_ids = models.execute_kw(api_db, uid, api_clave, 'account.move', 'search', [search_fact])\n",
    "fact_doc_json = models.execute_kw(api_db, uid, api_clave, 'account.move', 'read', [fact_doc_ids], {'fields': fact_doc_fields})\n"
   ]
  },
  {
   "cell_type": "markdown",
   "metadata": {},
   "source": [
    "El esquema que se obtiene en el modelo de `fact_doc_json` es un esquema donde cada renglón es una factura. Sin embargo, lo que ocupamos es un esquema donde cada renglón es una línea de producto de cada una de las facturas que se encuentran en `fact_doc_json`.\n",
    "\n",
    "Para hacer esto se preparan los datos con un ciclo <font color=\"#14E4FA\">for</font> donde se manipula `fact_doc_json`. Para cada factura dentro de este modelo, se utiliza el campo llamado <font color=\"#14FA4C\">\"line_ids\"</font> (que son la cantidad de líneas que tiene cada factura) para que con un segundo ciclo \"for\" se genere un diccionario de \"línea de factura\" por cada \"línea de factura\" que tiene cada documento de factura.\n",
    "\n",
    "Este diccionario ya manipulado se ingresa a una lista vacía `data_fact`. La lista ya cargada con todos sus elementos es la que se convierte en el DataFrame `fact_doc_df`. Este data frame sólo tiene información de la factura, no hay información de sus líneas, sólo el id de ellas.\n",
    "\n",
    "Para obtener la información de las líneas de factura se genera `fact_doc_ids`, el cual es el listado de los ids de las líneas de cada factura del trabajo anterior. Esto es importante porque se asegura que las ids de línea vienen únicamente de las ids de las facturas que se especificaron en los criterios de búsqueda generales `search_fact`."
   ]
  },
  {
   "cell_type": "code",
   "execution_count": 8,
   "metadata": {},
   "outputs": [],
   "source": [
    "data_fact = []\n",
    "fact_line_ids = []\n",
    "\n",
    "for fact in fact_doc_json:\n",
    "    for line in fact['line_ids']:\n",
    "        new = {}\n",
    "        new['fact_doc_id'] = fact['id']\n",
    "        new['name'] = fact['name']\n",
    "        new['invoice_date'] = fact['invoice_date']\n",
    "        new['state'] = fact['state']\n",
    "        new['invoice_origin'] = fact['invoice_origin']\n",
    "        new['module_origin'] = None\n",
    "        new['pos_doc_id'] = if_list_gt0_idex(fact, 'pos_order_ids', 0)\n",
    "        new['move_type'] = fact['move_type']\n",
    "        new['reversal_move_id'] = if_list_gt0_idex(fact, 'reversal_move_id', 0)\n",
    "        new['reversed_entry_id'] = if_list_gt0_idex(fact, 'reversed_entry_id', 0)\n",
    "        new['journal_id'] = fact['journal_id'][0]\n",
    "        new['company_id'] = fact['company_id'][0]\n",
    "        new['partner_id'] = fact['partner_id'][0]\n",
    "        new['fact_line_id'] = line\n",
    "        new['invoice_user_id'] = fact['invoice_user_id'][0]\n",
    "\n",
    "        if not fact['invoice_origin']:\n",
    "            new['module_origin'] = 'Contabilidad'\n",
    "        elif fact['invoice_origin'][:2] in ['Pd', 'Sh']:\n",
    "                new['module_origin'] = 'PdV'\n",
    "        elif fact['invoice_origin'][0] == 'S':\n",
    "                new['module_origin'] = 'Ventas'\n",
    "\n",
    "\n",
    "        fact_line_ids.append(line)\n",
    "        data_fact.append(new)\n",
    "\n",
    "\n",
    "\n",
    "fact_doc_df = pd.DataFrame(data_fact)\n",
    "\n",
    "\n",
    "fact_doc_df['invoice_date'] = pd.to_datetime(fact_doc_df['invoice_date'], format='%Y-%m-%d')\n",
    "fact_doc_df['pos_doc_id'] = fact_doc_df['pos_doc_id'].astype('Int64')\n",
    "fact_doc_df['reversal_move_id'] = fact_doc_df['reversal_move_id'].astype('Int64')\n",
    "fact_doc_df['reversed_entry_id'] = fact_doc_df['reversed_entry_id'].astype('Int64')\n",
    "fact_doc_df.loc[fact_doc_df['invoice_origin'] == False , ['invoice_origin',]] = pd.NA\n",
    "\n",
    "\n",
    "check_1 =  len(fact_doc_df[fact_doc_df['module_origin'].isna()]) == 0"
   ]
  },
  {
   "cell_type": "markdown",
   "metadata": {},
   "source": [
    "Se especifican los campos necesarios `fact_line_fields` para que con `fact_line_ids` (que se generó arriba) se pueda obtener la información del modelo <font color=\"#F414FA\">account.move.line</font>. Esto devuelve una lista de diccionarios con la información de cada línea de factura que se almacena en `fact_line_json`."
   ]
  },
  {
   "cell_type": "code",
   "execution_count": 9,
   "metadata": {},
   "outputs": [],
   "source": [
    "fact_line_fields = [\n",
    "    'product_id',\n",
    "    'quantity',\n",
    "    'price_unit',\n",
    "    'discount',\n",
    "    'account_id',\n",
    "    'price_subtotal',\n",
    "    'sale_line_ids'\n",
    "]\n",
    "\n",
    "fact_line_json = models.execute_kw(api_db, uid, api_clave, 'account.move.line', 'read', [fact_line_ids], {'fields': fact_line_fields})"
   ]
  },
  {
   "cell_type": "markdown",
   "metadata": {},
   "source": [
    "Se preparan los datos con un ciclo <font color=\"#14E4FA\">for</font> donde se manipula `fact_line_json` y se genera un diccionario \"línea de factura\". Este diccionario ya manipulado se ingresa a una lista vacía `data_line_fact`. La lista ya cargada con todos sus elementos es la que se convierte en el DataFrame `fact_line_df`."
   ]
  },
  {
   "cell_type": "code",
   "execution_count": 10,
   "metadata": {},
   "outputs": [],
   "source": [
    "data_line_fact = []\n",
    "\n",
    "for fact_line in fact_line_json:\n",
    "    if fact_line['account_id'] and fact_line['account_id'][0] in [85, 197]:\n",
    "        new = {}\n",
    "        new['fact_line_id'] = fact_line['id']\n",
    "        new['product_id'] = fact_line['product_id'][0]\n",
    "        new['quantity'] = fact_line['quantity']\n",
    "        new['price_unit'] = fact_line['price_unit']\n",
    "        new['discount'] = fact_line['discount'] / 100\n",
    "        new['price_subtotal'] = fact_line['price_subtotal']\n",
    "        new['sale_line_id_fact'] = if_list_gt0_idex(fact_line, 'sale_line_ids', 0)\n",
    "\n",
    "        data_line_fact.append(new)\n",
    "\n",
    "\n",
    "fact_line_df = pd.DataFrame(data_line_fact)\n",
    "\n",
    "\n",
    "fact_line_df['fact_line_id'] = fact_line_df['fact_line_id'].astype('Int64')\n",
    "fact_line_df.loc[fact_line_df['product_id'] == False, ['product_id',]] = pd.NA\n",
    "fact_line_df['product_id'] = fact_line_df['product_id'].astype('Int64')\n",
    "fact_line_df['sale_line_id_fact'] = fact_line_df['sale_line_id_fact'].astype('Int64')"
   ]
  },
  {
   "cell_type": "markdown",
   "metadata": {},
   "source": [
    "Con los dos dataframe anteriores, se procede a generar un <font color=\"#14E4FA\">merge</font> en unión derecha, esto debido a que queremos despreciar todo los id de línea de `fact_doc_df` que tienen un id del campo <font color=\"#14FA4C\">\"account_id\"</font> diferente a 85 y 197 y que solo se pueden filtrar con la información de `fact_line_df`. Ahora, el dataframe resultante `fact_df` tiene un seguimiento desde la factura hasta cada una de sus líneas con toda la información de ellas. "
   ]
  },
  {
   "cell_type": "code",
   "execution_count": 11,
   "metadata": {},
   "outputs": [],
   "source": [
    "fact_df = fact_doc_df.merge(fact_line_df, how='right', on='fact_line_id')"
   ]
  },
  {
   "cell_type": "markdown",
   "metadata": {},
   "source": [
    "Para llegar al modelo <font color=\"#F414FA\">sale.order</font> desde el modelo <font color=\"#F414FA\">account.move</font> es necesario en ocasiones pasar por el modelo <font color=\"#F414FA\">pos.order</font>. \n",
    "\n",
    "Para obtener los ids de este modelo, es importante asegurar que vienen únicamente de las ids de las facturas que se especificaron en los criterios de búsqueda generales `search_fact`. Para ello, hay que acceder al modelo de factura, a un campo llamado <font color=\"#14FA4C\">\"pos_order_ids\"</font> que es donde se encuentra el id del documento pos. Es por esto que no se debe obtener los ids del pos usando un filtro diferente.\n",
    "\n",
    "Se porcede a hacer un <font color=\"#14E4FA\">for</font> en `fact_doc_ids`, donde para cada factura se accesa al campo <font color=\"#14FA4C\">\"pos_order_ids\"</font> y se obtiene el id del documento del pos (PdV). Este id es único para cada factura, y se ingresa a la lista `pos_doc_ids`."
   ]
  },
  {
   "cell_type": "code",
   "execution_count": 12,
   "metadata": {},
   "outputs": [],
   "source": [
    "pos_doc_ids = []\n",
    "\n",
    "for fact in fact_doc_json:\n",
    "    if fact['pos_order_ids']:\n",
    "        pos_doc_ids.append(fact['pos_order_ids'][0])"
   ]
  },
  {
   "cell_type": "markdown",
   "metadata": {},
   "source": [
    "Hay facturas que se hacen duplicando facturas que se cancelan. Esto significa que las nuevas facturas no tienen un pos_doc_id y por lo tanto no se encuentra la información que se desea. Sin embargo, estas facturas duplicadas sí tienen en el campo <font color=\"#14FA4C\">\"invoice_origin\"</font> el rastro de qué PdV tienen.\n",
    "\n",
    "Se procede a filtrar estas facturas y hacer una lista de los nombres de ellas. Se guarda esta lista en `pos_doc_name_extra` y con estos nombres se buscan los ids en el modelo <font color=\"#F414FA\">pos.order</font>. Devuelve esta búsqueda un json `pos_doc_json`.\n",
    "\n",
    "Utilizando un ciclo <font color=\"#14E4FA\">for</font>, se utiliza `pos_doc_json` para complementar `pos_doc_ids` con las ids de tipo documento faltantes."
   ]
  },
  {
   "cell_type": "code",
   "execution_count": 13,
   "metadata": {},
   "outputs": [],
   "source": [
    "pos_doc_name_extra = list(fact_df.loc[(fact_df['module_origin'] == 'PdV') & (fact_df['pos_doc_id'].isna()), 'invoice_origin'].unique())\n",
    "\n",
    "search_pos = [\n",
    "    (\"name\", \"in\", pos_doc_name_extra),\n",
    "]\n",
    "\n",
    "pos_doc_fields = [\n",
    "    'name'\n",
    "]\n",
    "\n",
    "pos_doc_ids_extra = models.execute_kw(api_db, uid, api_clave, 'pos.order', 'search', [search_pos])\n",
    "pos_doc_json_extra = models.execute_kw(api_db, uid, api_clave, 'pos.order', 'read', [pos_doc_ids_extra], {'fields': pos_doc_fields})\n",
    "\n",
    "for pos in pos_doc_json_extra:\n",
    "    pos_doc_ids.append(pos['id'])"
   ]
  },
  {
   "cell_type": "markdown",
   "metadata": {},
   "source": [
    "Además del trabajo anterior, se ocupa complementar en `fact_df` los ids de documento `pos_doc_ids` de las facturas encontradas en `pos_doc_json_extra`. Se logra esto al generar un for de cada item del json y por \".loc\" se agrega a `fact_df`."
   ]
  },
  {
   "cell_type": "code",
   "execution_count": 14,
   "metadata": {},
   "outputs": [],
   "source": [
    "for item in pos_doc_json_extra:\n",
    "    fact_df.loc[fact_df['invoice_origin'] == item['name'], 'pos_doc_id'] = item['id']"
   ]
  },
  {
   "cell_type": "markdown",
   "metadata": {},
   "source": [
    "`pos_doc_ids` son ids tipo documento y no son las mismas que las ids que ocupa el modelo <font color=\"#F414FA\">pos.order.line</font>. Es por esto que aquí primero se hace una búsqueda de los ids tipo línea que tienen un id tipo documento porporcionado por `pos_doc_ids`. Cabe mencionar que no debe haber criterios de búsqueda que cambien los criterios originales.\n",
    "\n",
    "Se especifican los campos necesarios `pos_doc_fields` para utilizarlos en una búsqueda en el modelo <font color=\"#F414FA\">pos.order.line</font>. Esta búsqueda devuelve una lista con todos los ids tipo línea del pos y se almacena en `pos_line_ids`\n",
    "\n",
    "No es necesario accesar al modelo del documento del pos <font color=\"#F414FA\">pos.order</font>, pues la información que se necesita está dentro de cada línea del pos.\n",
    "\n",
    "Con los ids tipo línea `pos_line_ids` se consulta la información de cada línea del pos en el modelo. Esto devuelve una lista de diccionarios que se almacenana en `pos_line_json`"
   ]
  },
  {
   "cell_type": "code",
   "execution_count": 15,
   "metadata": {},
   "outputs": [],
   "source": [
    "pos_line_fields = [\n",
    "    'order_id',\n",
    "    'sale_order_line_id',\n",
    "    'refund_orderline_ids',\n",
    "    'refunded_orderline_id',\n",
    "]\n",
    "\n",
    "\n",
    "pos_line_ids = models.execute_kw(api_db, uid, api_clave, 'pos.order.line', 'search', [[(\"order_id.id\", \"=\", pos_doc_ids)]])\n",
    "pos_line_json = models.execute_kw(api_db, uid, api_clave, 'pos.order.line', 'read', [pos_line_ids], {'fields': pos_line_fields})"
   ]
  },
  {
   "cell_type": "markdown",
   "metadata": {},
   "source": [
    "Se procede a generar un DataFrame de Pandas. Para esto se preparan los datos con un ciclo <font color=\"#14E4FA\">for</font> donde se manipula `pos_line_json` y se ingresa cada línea del pos ya manipulada a una lista vacía `data_pos_line`. La lista ya cargada con todos sus elementos es la que se convierte en el DataFrame `pos_line_df`. Este dataframe tiene únicamente la información de las líneas del pos y el id del documento del pos. No hay un vínculo con `fact_df`"
   ]
  },
  {
   "cell_type": "code",
   "execution_count": 16,
   "metadata": {},
   "outputs": [],
   "source": [
    "data_pos_line = []\n",
    "\n",
    "for pos in pos_line_json:\n",
    "    new = {}\n",
    "    new['pos_line_id'] = pos['id']\n",
    "    new['pos_doc_id'] = pos['order_id'][0]\n",
    "    new['sale_line_id_pos'] = if_list_gt0_idex(pos, 'sale_order_line_id', 0)\n",
    "    new['refund_orderline_ids'] = if_list_gt0_idex(pos, 'refund_orderline_ids', 0)\n",
    "    new['refunded_orderline_id'] = if_list_gt0_idex(pos, 'refunded_orderline_id', 0)\n",
    "    \n",
    "\n",
    "    data_pos_line.append(new)\n",
    "\n",
    "dfpos_line = pd.DataFrame(data_pos_line)\n",
    "dfpos_line['sale_line_id_pos'] = dfpos_line['sale_line_id_pos'].astype('Int64')\n",
    "dfpos_line['pos_line_id'] = dfpos_line['pos_line_id'].astype('Int64')\n",
    "dfpos_line['refund_orderline_ids'] = dfpos_line['refund_orderline_ids'].astype('Int64')\n",
    "dfpos_line['refunded_orderline_id'] = dfpos_line['refunded_orderline_id'].astype('Int64')"
   ]
  },
  {
   "cell_type": "markdown",
   "metadata": {},
   "source": [
    "Debido a que `fact_df` contiene el total de las facturas de Odoo, se ocupa segmentar sólo las facturas que provienen del módulo de PdV. Esto con el fin de hacer un <font color=\"#14E4FA\">merge</font> entre `fact_df` y `pos_line_df` de manera más sencilla. El resultado se almacena en `fact_pos_doc_df`."
   ]
  },
  {
   "cell_type": "code",
   "execution_count": 17,
   "metadata": {},
   "outputs": [],
   "source": [
    "fact_pos_doc_df = fact_df[~fact_df['pos_doc_id'].isna()][['fact_doc_id','name', 'fact_line_id', 'pos_doc_id', 'product_id']]"
   ]
  },
  {
   "cell_type": "markdown",
   "metadata": {},
   "source": [
    "Para aumentar la seguridad del código, es necesario verificar que el total de líneas del modelo <font color=\"#F414FA\">pos.order.line</font> es igual al total de líneas del modelo <font color=\"#F414FA\">account.move.line</font> `check_total_size` y que cada factura tiene el mismo número de líneas que su orden `check_each_document_size`. Esto es necesario para evitar equivocaciones en el <font color=\"#14E4FA\">merge</font> (enmaquetado) de ambos dataframes [`fact_df`, `pos_line_df`], derivado a que no hay un vínculo claro en común.\n",
    "\n",
    "Para lograr `check_total_size`:\n",
    "- Se agrupan ambos dataframes por el campo propio de id de línea, dando como resultado `fact_pos_doc_df` y `group_dfpos_line`.\n",
    "- Se compara el tamaño de ambos grupos y el valor booleano se almacena en `check_total_size`.\n",
    "\n",
    "Para lograr `check_each_document_size`:\n",
    "- se concatenan `fact_pos_doc_df` y `group_dfpos_line` y se almacena en el dataframe `groups_concat`.\n",
    "- se compara el campo id de fac con id del pos y el booleano resultante se almacen una columna nueva de `groups_concat` <font color=\"#14FA4C\">\"lines_per_doc\"</font>.\n",
    "- se filtran los valores <font color=\"#14FA4C\">False</font> de <font color=\"#14FA4C\">\"lines_per_doc\"</font> y al tamaño del resultado se le compara con cero. El resultado se almacena en `check_each_document_size`"
   ]
  },
  {
   "cell_type": "code",
   "execution_count": 18,
   "metadata": {},
   "outputs": [],
   "source": [
    "group_fact_pos_df = fact_pos_doc_df.groupby('pos_doc_id').count()['fact_doc_id']\n",
    "group_pos_line_df = dfpos_line.groupby('pos_doc_id').count()['pos_line_id']\n",
    "\n",
    "check_total_size = len(group_fact_pos_df) == len(group_pos_line_df)\n",
    "\n",
    "groups_concat = pd.concat([group_fact_pos_df, group_pos_line_df], axis=1)\n",
    "groups_concat['lines_per_doc'] = groups_concat['fact_doc_id'] == groups_concat['pos_line_id']\n",
    "check_each_document_size = len(groups_concat[~groups_concat['lines_per_doc']]) == 0"
   ]
  },
  {
   "cell_type": "markdown",
   "metadata": {},
   "source": [
    "Para poder hacer un <font color=\"#14E4FA\">merge</font> entre `fact_df`, `pos_line_df` se busca hacer un id temporal `id_vinculo` que sirva de vínculo entre ambos dataframes.\n",
    "\n",
    "Para generar `id_vinculo`, se utiliza el único campo en común para ambos dataframes <font color=\"#14FA4C\">\"pos_order_ids\"</font> en `fact_df` y <font color=\"#14FA4C\">\"pos_doc_id\"</font> en `pos_line_df`.\n",
    "\n",
    "Se generó la función `id_vinculo_generator`, la cual recibe tres parámetros: el dataframe, el nombre de la columna donde se almacenan los ids de los documentos del pos y el nombre de la columna donde se almacenan los ids de las líneas de su modelo."
   ]
  },
  {
   "cell_type": "code",
   "execution_count": 19,
   "metadata": {},
   "outputs": [],
   "source": [
    "def id_vinculo_generator(df_base: pd.DataFrame, pos_doc_column_name: str, df_id_line_name:str ) -> pd.DataFrame:\n",
    "    \n",
    "    df = df_base.sort_values(by=[pos_doc_column_name, df_id_line_name])\n",
    "    df['id_relative_pos'] = None\n",
    "\n",
    "    pos_orders = df[pos_doc_column_name].unique()\n",
    "\n",
    "    for pos in pos_orders:\n",
    "        mini_df = df.loc[df[pos_doc_column_name] == pos]\n",
    "        df.loc[df[pos_doc_column_name] == pos, 'id_relative_pos'] = [i for i in range(len(mini_df))]\n",
    "\n",
    "\n",
    "    df['id_vinculo'] = df[pos_doc_column_name].astype(str) + '-' + df['id_relative_pos'].astype(str)\n",
    "\n",
    "    return df"
   ]
  },
  {
   "cell_type": "markdown",
   "metadata": {},
   "source": [
    "Se procede a ejecutar la función anterior para cada dataframe. Se guardan sus resultados respectivos en `fact_pos_link_df` y `pos_line_link_df`"
   ]
  },
  {
   "cell_type": "code",
   "execution_count": 20,
   "metadata": {},
   "outputs": [],
   "source": [
    "fact_pos_doc_link_df = id_vinculo_generator( fact_pos_doc_df, 'pos_doc_id', 'fact_line_id')\n",
    "pos_line_link_df = id_vinculo_generator(dfpos_line, 'pos_doc_id', 'pos_line_id')"
   ]
  },
  {
   "cell_type": "markdown",
   "metadata": {},
   "source": [
    "Se procede a generar el merge de ambos dataframes de linea, dando como resultado `fac_pos_linked_df`."
   ]
  },
  {
   "cell_type": "code",
   "execution_count": 21,
   "metadata": {},
   "outputs": [],
   "source": [
    "fac_pos_linked_df =  fact_pos_doc_link_df.merge(pos_line_link_df, how='outer', on='id_vinculo')"
   ]
  },
  {
   "cell_type": "markdown",
   "metadata": {},
   "source": [
    "Se procede a integrar `fac_pos_linked_df` al dataframe general `fact_df` por medio de un <font color=\"#14E4FA\">merge</font> tipo \"left join\" en su campo de línea de factura <font color=\"#14FA4C\">\"id_x\"</font>, obteniendo `fact_pos_df`. Al haber vinculado <font color=\"#F414FA\">pos.order.line</font> al dataframe general, cada línea de venta (ya sea que venga del módulo de \"Ventas\" o del módulo de \"PdV\") tiene ya un id de línea del modelo <font color=\"#F414FA\">sale.order.line</font>, que es donde se encuentra el nombre de la vendedora."
   ]
  },
  {
   "cell_type": "code",
   "execution_count": 22,
   "metadata": {},
   "outputs": [],
   "source": [
    "cols_to_keep = ['fact_line_id', 'pos_line_id', 'sale_line_id_pos', 'refund_orderline_ids', 'refunded_orderline_id']\n",
    "fact_pos_df = fact_df.merge(fac_pos_linked_df[cols_to_keep], how='left', on='fact_line_id')"
   ]
  },
  {
   "cell_type": "markdown",
   "metadata": {},
   "source": [
    "Al haber hecho merge en dos dataframes diferentes en `fact_pos_df`, se tienen los ids del modelo <font color=\"#F414FA\">sale.order.line</font> en diferentes columnas. Se procede a juntar dichos ids en una sóla columna <font color=\"#14FA4C\">\"sale_line_join_id\"</font>.\n",
    "\n",
    "Se genera `ids_sale_line` que es una lista de los ids únicos para poder utilizarlos a posterior."
   ]
  },
  {
   "cell_type": "code",
   "execution_count": 226,
   "metadata": {},
   "outputs": [
    {
     "ename": "KeyError",
     "evalue": "'sale_line_id_fact'",
     "output_type": "error",
     "traceback": [
      "\u001b[1;31m---------------------------------------------------------------------------\u001b[0m",
      "\u001b[1;31mKeyError\u001b[0m                                  Traceback (most recent call last)",
      "File \u001b[1;32mc:\\Users\\Lic.Costich\\Documents\\programacion\\odoo_comisiones\\env_comisiones-Odoo\\Lib\\site-packages\\pandas\\core\\indexes\\base.py:3805\u001b[0m, in \u001b[0;36mIndex.get_loc\u001b[1;34m(self, key)\u001b[0m\n\u001b[0;32m   3804\u001b[0m \u001b[38;5;28;01mtry\u001b[39;00m:\n\u001b[1;32m-> 3805\u001b[0m     \u001b[38;5;28;01mreturn\u001b[39;00m \u001b[38;5;28;43mself\u001b[39;49m\u001b[38;5;241;43m.\u001b[39;49m\u001b[43m_engine\u001b[49m\u001b[38;5;241;43m.\u001b[39;49m\u001b[43mget_loc\u001b[49m\u001b[43m(\u001b[49m\u001b[43mcasted_key\u001b[49m\u001b[43m)\u001b[49m\n\u001b[0;32m   3806\u001b[0m \u001b[38;5;28;01mexcept\u001b[39;00m \u001b[38;5;167;01mKeyError\u001b[39;00m \u001b[38;5;28;01mas\u001b[39;00m err:\n",
      "File \u001b[1;32mindex.pyx:167\u001b[0m, in \u001b[0;36mpandas._libs.index.IndexEngine.get_loc\u001b[1;34m()\u001b[0m\n",
      "File \u001b[1;32mindex.pyx:196\u001b[0m, in \u001b[0;36mpandas._libs.index.IndexEngine.get_loc\u001b[1;34m()\u001b[0m\n",
      "File \u001b[1;32mpandas\\\\_libs\\\\hashtable_class_helper.pxi:7081\u001b[0m, in \u001b[0;36mpandas._libs.hashtable.PyObjectHashTable.get_item\u001b[1;34m()\u001b[0m\n",
      "File \u001b[1;32mpandas\\\\_libs\\\\hashtable_class_helper.pxi:7089\u001b[0m, in \u001b[0;36mpandas._libs.hashtable.PyObjectHashTable.get_item\u001b[1;34m()\u001b[0m\n",
      "\u001b[1;31mKeyError\u001b[0m: 'sale_line_id_fact'",
      "\nThe above exception was the direct cause of the following exception:\n",
      "\u001b[1;31mKeyError\u001b[0m                                  Traceback (most recent call last)",
      "Cell \u001b[1;32mIn[226], line 2\u001b[0m\n\u001b[0;32m      1\u001b[0m fact_pos_df[\u001b[38;5;124m'\u001b[39m\u001b[38;5;124msale_line_id\u001b[39m\u001b[38;5;124m'\u001b[39m] \u001b[38;5;241m=\u001b[39m \u001b[38;5;28;01mNone\u001b[39;00m\n\u001b[1;32m----> 2\u001b[0m fact_pos_df\u001b[38;5;241m.\u001b[39mloc[(\u001b[38;5;241m~\u001b[39mfact_pos_df[\u001b[38;5;124m'\u001b[39m\u001b[38;5;124msale_line_id_fact\u001b[39m\u001b[38;5;124m'\u001b[39m]\u001b[38;5;241m.\u001b[39misna() \u001b[38;5;241m&\u001b[39m fact_pos_df[\u001b[38;5;124m'\u001b[39m\u001b[38;5;124msale_line_id_pos\u001b[39m\u001b[38;5;124m'\u001b[39m]\u001b[38;5;241m.\u001b[39misna()), \u001b[38;5;124m'\u001b[39m\u001b[38;5;124msale_line_id\u001b[39m\u001b[38;5;124m'\u001b[39m] \u001b[38;5;241m=\u001b[39m \u001b[43mfact_pos_df\u001b[49m\u001b[43m[\u001b[49m\u001b[38;5;124;43m'\u001b[39;49m\u001b[38;5;124;43msale_line_id_fact\u001b[39;49m\u001b[38;5;124;43m'\u001b[39;49m\u001b[43m]\u001b[49m\n\u001b[0;32m      3\u001b[0m fact_pos_df\u001b[38;5;241m.\u001b[39mloc[(fact_pos_df[\u001b[38;5;124m'\u001b[39m\u001b[38;5;124msale_line_id_fact\u001b[39m\u001b[38;5;124m'\u001b[39m]\u001b[38;5;241m.\u001b[39misna() \u001b[38;5;241m&\u001b[39m \u001b[38;5;241m~\u001b[39mfact_pos_df[\u001b[38;5;124m'\u001b[39m\u001b[38;5;124msale_line_id_pos\u001b[39m\u001b[38;5;124m'\u001b[39m]\u001b[38;5;241m.\u001b[39misna()), \u001b[38;5;124m'\u001b[39m\u001b[38;5;124msale_line_id\u001b[39m\u001b[38;5;124m'\u001b[39m] \u001b[38;5;241m=\u001b[39m fact_pos_df[\u001b[38;5;124m'\u001b[39m\u001b[38;5;124msale_line_id_pos\u001b[39m\u001b[38;5;124m'\u001b[39m]\n\u001b[0;32m      4\u001b[0m fact_pos_df[\u001b[38;5;124m'\u001b[39m\u001b[38;5;124msale_line_id\u001b[39m\u001b[38;5;124m'\u001b[39m] \u001b[38;5;241m=\u001b[39m fact_pos_df[\u001b[38;5;124m'\u001b[39m\u001b[38;5;124msale_line_id\u001b[39m\u001b[38;5;124m'\u001b[39m]\u001b[38;5;241m.\u001b[39mastype(\u001b[38;5;124m'\u001b[39m\u001b[38;5;124mInt64\u001b[39m\u001b[38;5;124m'\u001b[39m)\n",
      "File \u001b[1;32mc:\\Users\\Lic.Costich\\Documents\\programacion\\odoo_comisiones\\env_comisiones-Odoo\\Lib\\site-packages\\pandas\\core\\frame.py:4090\u001b[0m, in \u001b[0;36mDataFrame.__getitem__\u001b[1;34m(self, key)\u001b[0m\n\u001b[0;32m   4088\u001b[0m \u001b[38;5;28;01mif\u001b[39;00m \u001b[38;5;28mself\u001b[39m\u001b[38;5;241m.\u001b[39mcolumns\u001b[38;5;241m.\u001b[39mnlevels \u001b[38;5;241m>\u001b[39m \u001b[38;5;241m1\u001b[39m:\n\u001b[0;32m   4089\u001b[0m     \u001b[38;5;28;01mreturn\u001b[39;00m \u001b[38;5;28mself\u001b[39m\u001b[38;5;241m.\u001b[39m_getitem_multilevel(key)\n\u001b[1;32m-> 4090\u001b[0m indexer \u001b[38;5;241m=\u001b[39m \u001b[38;5;28;43mself\u001b[39;49m\u001b[38;5;241;43m.\u001b[39;49m\u001b[43mcolumns\u001b[49m\u001b[38;5;241;43m.\u001b[39;49m\u001b[43mget_loc\u001b[49m\u001b[43m(\u001b[49m\u001b[43mkey\u001b[49m\u001b[43m)\u001b[49m\n\u001b[0;32m   4091\u001b[0m \u001b[38;5;28;01mif\u001b[39;00m is_integer(indexer):\n\u001b[0;32m   4092\u001b[0m     indexer \u001b[38;5;241m=\u001b[39m [indexer]\n",
      "File \u001b[1;32mc:\\Users\\Lic.Costich\\Documents\\programacion\\odoo_comisiones\\env_comisiones-Odoo\\Lib\\site-packages\\pandas\\core\\indexes\\base.py:3812\u001b[0m, in \u001b[0;36mIndex.get_loc\u001b[1;34m(self, key)\u001b[0m\n\u001b[0;32m   3807\u001b[0m     \u001b[38;5;28;01mif\u001b[39;00m \u001b[38;5;28misinstance\u001b[39m(casted_key, \u001b[38;5;28mslice\u001b[39m) \u001b[38;5;129;01mor\u001b[39;00m (\n\u001b[0;32m   3808\u001b[0m         \u001b[38;5;28misinstance\u001b[39m(casted_key, abc\u001b[38;5;241m.\u001b[39mIterable)\n\u001b[0;32m   3809\u001b[0m         \u001b[38;5;129;01mand\u001b[39;00m \u001b[38;5;28many\u001b[39m(\u001b[38;5;28misinstance\u001b[39m(x, \u001b[38;5;28mslice\u001b[39m) \u001b[38;5;28;01mfor\u001b[39;00m x \u001b[38;5;129;01min\u001b[39;00m casted_key)\n\u001b[0;32m   3810\u001b[0m     ):\n\u001b[0;32m   3811\u001b[0m         \u001b[38;5;28;01mraise\u001b[39;00m InvalidIndexError(key)\n\u001b[1;32m-> 3812\u001b[0m     \u001b[38;5;28;01mraise\u001b[39;00m \u001b[38;5;167;01mKeyError\u001b[39;00m(key) \u001b[38;5;28;01mfrom\u001b[39;00m \u001b[38;5;21;01merr\u001b[39;00m\n\u001b[0;32m   3813\u001b[0m \u001b[38;5;28;01mexcept\u001b[39;00m \u001b[38;5;167;01mTypeError\u001b[39;00m:\n\u001b[0;32m   3814\u001b[0m     \u001b[38;5;66;03m# If we have a listlike key, _check_indexing_error will raise\u001b[39;00m\n\u001b[0;32m   3815\u001b[0m     \u001b[38;5;66;03m#  InvalidIndexError. Otherwise we fall through and re-raise\u001b[39;00m\n\u001b[0;32m   3816\u001b[0m     \u001b[38;5;66;03m#  the TypeError.\u001b[39;00m\n\u001b[0;32m   3817\u001b[0m     \u001b[38;5;28mself\u001b[39m\u001b[38;5;241m.\u001b[39m_check_indexing_error(key)\n",
      "\u001b[1;31mKeyError\u001b[0m: 'sale_line_id_fact'"
     ]
    }
   ],
   "source": [
    "fact_pos_df['sale_line_id'] = None\n",
    "fact_pos_df.loc[(~fact_pos_df['sale_line_id_fact'].isna() & fact_pos_df['sale_line_id_pos'].isna()), 'sale_line_id'] = fact_pos_df['sale_line_id_fact']\n",
    "fact_pos_df.loc[(fact_pos_df['sale_line_id_fact'].isna() & ~fact_pos_df['sale_line_id_pos'].isna()), 'sale_line_id'] = fact_pos_df['sale_line_id_pos']\n",
    "fact_pos_df['sale_line_id'] = fact_pos_df['sale_line_id'].astype('Int64')\n",
    "\n",
    "fact_pos_df.drop(columns=['sale_line_id_fact', 'sale_line_id_pos'], inplace=True)\n",
    "\n",
    "sale_line_ids = []\n",
    "for sid in (~fact_pos_df['sale_line_id'].isna()).unique():\n",
    "    sale_line_ids.append(int(sid))"
   ]
  },
  {
   "cell_type": "markdown",
   "metadata": {},
   "source": [
    "Se especifican los campos necesarios `sale_line_fields` para que con `sale_line_ids` (que se generó arriba) se pueda obtener la información del modelo <font color=\"#F414FA\">sale.order.line</font>. Esto devuelve una lista de diccionarios con la información de cada línea de venta, que se guarda en `sale_line_json`."
   ]
  },
  {
   "cell_type": "code",
   "execution_count": 24,
   "metadata": {},
   "outputs": [],
   "source": [
    "sale_line_fields = [\n",
    "    'salesman_id',\n",
    "]\n",
    "\n",
    "sale_line_json = models.execute_kw(api_db, uid, api_clave, 'sale.order.line', 'read', [sale_line_ids], {'fields': sale_line_fields})"
   ]
  },
  {
   "cell_type": "markdown",
   "metadata": {},
   "source": [
    "Se procede a generar el DataFrame `sale_line_df`. Para esto se preparan los datos con un ciclo <font color=\"#14E4FA\">for</font> donde se manipula `sale_line_json`."
   ]
  },
  {
   "cell_type": "code",
   "execution_count": 25,
   "metadata": {},
   "outputs": [],
   "source": [
    "data_sale_line = []\n",
    "\n",
    "for sale in sale_line_json:\n",
    "    new = {}\n",
    "    new['sale_line_id'] = sale['id']\n",
    "    new['salesman_id'] = sale['salesman_id'][0]\n",
    "\n",
    "    data_sale_line.append(new)\n",
    "\n",
    "\n",
    "sale_line_df = pd.DataFrame(data_sale_line)\n",
    "sale_line_df['salesman_id'] = sale_line_df['salesman_id'].astype('Int64')"
   ]
  },
  {
   "cell_type": "markdown",
   "metadata": {},
   "source": [
    "Se procede a integrar `sale_line_df` al dataframe general `fact_pos_df` por medio de un <font color=\"#14E4FA\">merge</font> tipo \"left join\" en su campo de línea de sale <font color=\"#14FA4C\">\"sale_line_id\"</font>, obteniendo `complete_df`."
   ]
  },
  {
   "cell_type": "code",
   "execution_count": 199,
   "metadata": {},
   "outputs": [],
   "source": [
    "complete_df = fact_pos_df.merge(sale_line_df, how='left', on='sale_line_id').set_index('name')"
   ]
  },
  {
   "cell_type": "markdown",
   "metadata": {},
   "source": [
    "Se filtra las líneas de factura que son de reversiones o notas de crédito/devolución. Estas líneas tienen que cambiar su signo a negativo para que la analítica de sumas y acumulados refleje la realidad en `complete_df`."
   ]
  },
  {
   "cell_type": "code",
   "execution_count": 200,
   "metadata": {},
   "outputs": [],
   "source": [
    "complete_df.loc[complete_df['move_type'] == 'out_refund', ['quantity', 'price_subtotal']] = complete_df.loc[complete_df['move_type'] == 'out_refund', ['quantity', 'price_subtotal']] * -1"
   ]
  },
  {
   "cell_type": "markdown",
   "metadata": {},
   "source": [
    "Se ocupa corregir todas las líneas que en el campo 'salesman_id' no tienen información en `complete_df`. \n",
    "\n",
    "Se empieza con las líneas donde el campo 'module_origin' vengan de contabilidad o ventas. Debido a que en estas líneas el campo 'invoice_user_id' sí refleja a la vendedora de manera correcta, sólo se copia  'invoice_user_id' al campo 'salesman_id'."
   ]
  },
  {
   "cell_type": "code",
   "execution_count": 201,
   "metadata": {},
   "outputs": [],
   "source": [
    "complete_df.loc[complete_df['module_origin'] != 'PdV', 'salesman_id'] = complete_df.loc[complete_df['module_origin'] != 'PdV', 'invoice_user_id']"
   ]
  },
  {
   "cell_type": "markdown",
   "metadata": {},
   "source": [
    "Se sigue con todas las líneas que no tienen 'salesman_id', que son movimientos tipo \"out-invoice\" y que sí tienen 'pos_line_id' para ser buscadas en `pos_line_json`.\n",
    "\n",
    "Debido a que son facturas, estás líneas sin 'salesman_id' son adiciones que la cajera hizo al documento pos. Se trata de encontrar una línea hermana en este mismo documento, así que se trae del json todas las líneas que coinciden con el campo 'pos_doc_id'. Se busca una línea hermana que no tenga que tenga información en el campo 'sale_line_id' y se busca esta línea de venta en `complete_df`. Se copia el campo 'salesman_id' de esta línea hermana a la línea original. Para evitar que pase esto mismo con cada línea que pueda tener el documento pos, se genera un \"break\"."
   ]
  },
  {
   "cell_type": "code",
   "execution_count": 206,
   "metadata": {},
   "outputs": [],
   "source": [
    "pos_doc_id_not_saleline, pos_line_id_not_saleline = complete_df.loc[(complete_df['salesman_id'].isna()) &(complete_df['module_origin'] == 'PdV') & (complete_df['move_type'] == 'out_invoice') & (~complete_df['pos_line_id'].isna()), ['pos_doc_id', 'pos_line_id']].items()\n",
    "\n",
    "for i in range(len(pos_line_id_not_saleline[1])):\n",
    "    for pos in pos_line_json:\n",
    "        if pos['order_id'][0] == pos_doc_id_not_saleline[1].iloc[i]:\n",
    "            if pos['sale_order_line_id']:\n",
    "                complete_df.loc[complete_df['pos_line_id'] == pos_line_id_not_saleline[1].iloc[i], 'salesman_id'] = complete_df.loc[complete_df['sale_line_id'] == pos['sale_order_line_id'][0], 'salesman_id'].iloc[0]\n",
    "                break"
   ]
  },
  {
   "cell_type": "markdown",
   "metadata": {},
   "source": [
    "Ahora se corrigen todas las líneas que no tienen 'salesman_id', que son movimientos tipo \"out-refund\" y que sí tienen 'pos_line_id' para ser buscadas en `pos_line_json`.\n",
    "\n",
    "Debido a que esta línea de devoluciones no siempre viene de facturas de este mes o puede que vengan de faturas cancelada, `pos_line_json` no tiene información sobre sus líneas 'refunded' o devueltas. Por lo tanto, se genera un ciclo \"for\" para buscar el campo 'refunded_orderline_id' en cada \"id\" de `pos_line_json`:\n",
    "    \n",
    "-> Si existe la línea 'refunded' en 'pos_line_id':\n",
    "    Se copia el campo 'salesman_id' de la línea original a la línea de devolución.\n",
    "\n",
    "-> Si no existe la línea 'refunded' en 'pos_line_id':\n",
    "    Se genera una llamada a la API de Odoo por el pos_line_id original, si este devuelve que hay información en su campo 'sale_order_line_id', se genera una segunda llamada a la API de Odoo por el sale_line_id y traemos el campo 'salesman_id'. Este campo 'salesman_id' de la línea original se copia la línea de devolución."
   ]
  },
  {
   "cell_type": "code",
   "execution_count": 228,
   "metadata": {},
   "outputs": [
    {
     "name": "stdout",
     "output_type": "stream",
     "text": [
      "{'id': 17638, 'company_id': [1, 'La Casa Del Carpintero De Los Cabos'], 'name': 'PdV SJC/10524', 'skip_change': False, 'notice': False, 'product_id': [11598, '[16309] Pija Drywall 8 x 1\" 15419  (Kg) *16309*'], 'attribute_value_ids': [], 'custom_attribute_value_ids': [], 'price_unit': 125.0, 'qty': 0.5, 'price_subtotal': 62.5, 'price_subtotal_incl': 72.5, 'price_extra': 0.0, 'margin': 25.27, 'margin_percent': 0.4043, 'total_cost': 37.23, 'is_total_cost_computed': True, 'discount': 0.0, 'order_id': [7047, 'PdV SJC/4058'], 'tax_ids': [14], 'tax_ids_after_fiscal_position': [14], 'pack_lot_ids': [], 'product_uom_id': [1, 'Unidades'], 'currency_id': [32, 'MXN'], 'full_product_name': 'Pija Drywall 8 x 1\" 15419  (Kg) *16309*', 'customer_note': False, 'refund_orderline_ids': [17696], 'refunded_orderline_id': False, 'refunded_qty': 0.5, 'uuid': 'ef7fadbe-b7f1-4110-896b-7fdacb5e2a4a', 'combo_parent_id': False, 'combo_line_ids': [], 'display_name': '[16309] Pija Drywall 8 x 1\" 15419  (Kg) *16309*', 'create_uid': [238, 'Karely Guadalupe Green Ceseña'], 'create_date': '2024-02-26 17:51:42', 'write_uid': [238, 'Karely Guadalupe Green Ceseña'], 'write_date': '2024-02-26 17:51:42', 'sale_order_origin_id': [9887, 'S09887'], 'sale_order_line_id': [26939, 'S09887 - [16309] Pija Drywall 8 x 1\" 15419  (Kg) *16309* (Mostrador)'], 'down_payment_details': False}\n",
      "[26939, 'S09887 - [16309] Pija Drywall 8 x 1\" 15419  (Kg) *16309* (Mostrador)'] weppp\n",
      "res_id \n",
      "17638\n",
      "{'id': 16466, 'company_id': [1, 'La Casa Del Carpintero De Los Cabos'], 'name': 'PdV SJC/9786', 'skip_change': False, 'notice': False, 'product_id': [13192, '[11270] Dis. Made 10\" 60Dt 1\" Trup #18308 *11270*'], 'attribute_value_ids': [], 'custom_attribute_value_ids': [], 'price_unit': 373.99, 'qty': 1.0, 'price_subtotal': 299.19, 'price_subtotal_incl': 347.06, 'price_extra': 0.0, 'margin': 69.04, 'margin_percent': 0.2308, 'total_cost': 230.15, 'is_total_cost_computed': True, 'discount': 20.0, 'order_id': [6584, 'PdV SJC/3793'], 'tax_ids': [14], 'tax_ids_after_fiscal_position': [14], 'pack_lot_ids': [], 'product_uom_id': [1, 'Unidades'], 'currency_id': [32, 'MXN'], 'full_product_name': 'Dis. Made 10\" 60Dt 1\" Trup #18308 *11270*', 'customer_note': False, 'refund_orderline_ids': [16613], 'refunded_orderline_id': False, 'refunded_qty': 1.0, 'uuid': 'b510310a-5e2b-47ef-aba3-dd952c62cd9e', 'combo_parent_id': False, 'combo_line_ids': [], 'display_name': '[11270] Dis. Made 10\" 60Dt 1\" Trup #18308 *11270*', 'create_uid': [238, 'Karely Guadalupe Green Ceseña'], 'create_date': '2024-02-22 16:06:40', 'write_uid': [238, 'Karely Guadalupe Green Ceseña'], 'write_date': '2024-02-22 16:06:40', 'sale_order_origin_id': [9279, 'S09279'], 'sale_order_line_id': [25404, 'S09279 - [11270] Dis. Made 10\" 60Dt 1\" Trup #18308 *11270* (Mostrador)'], 'down_payment_details': False}\n",
      "[25404, 'S09279 - [11270] Dis. Made 10\" 60Dt 1\" Trup #18308 *11270* (Mostrador)'] weppp\n",
      "res_id \n",
      "16466\n",
      "{'id': 16199, 'company_id': [1, 'La Casa Del Carpintero De Los Cabos'], 'name': 'PdV SJC/9621', 'skip_change': False, 'notice': False, 'product_id': [8506, '[40861] Lija Dis. C/Vel. 5\" G- 40 Fan. *40861*'], 'attribute_value_ids': [], 'custom_attribute_value_ids': [], 'price_unit': 15.39, 'qty': 300.0, 'price_subtotal': 3693.6, 'price_subtotal_incl': 4284.58, 'price_extra': 0.0, 'margin': 852.6, 'margin_percent': 0.2308, 'total_cost': 2841.0, 'is_total_cost_computed': True, 'discount': 20.0, 'order_id': [6516, 'PdV SJC/3754'], 'tax_ids': [14], 'tax_ids_after_fiscal_position': [14], 'pack_lot_ids': [], 'product_uom_id': [1, 'Unidades'], 'currency_id': [32, 'MXN'], 'full_product_name': 'Lija Dis. C/Vel. 5\" G- 40 Fan. *40861*', 'customer_note': False, 'refund_orderline_ids': [16307], 'refunded_orderline_id': False, 'refunded_qty': 300.0, 'uuid': '055663e3-5f81-4a6a-8b64-c682363aa2f4', 'combo_parent_id': False, 'combo_line_ids': [], 'display_name': '[40861] Lija Dis. C/Vel. 5\" G- 40 Fan. *40861*', 'create_uid': [238, 'Karely Guadalupe Green Ceseña'], 'create_date': '2024-02-21 20:38:55', 'write_uid': [238, 'Karely Guadalupe Green Ceseña'], 'write_date': '2024-02-21 20:38:55', 'sale_order_origin_id': False, 'sale_order_line_id': False, 'down_payment_details': False}\n",
      "False weppp\n",
      "{'id': 16200, 'company_id': [1, 'La Casa Del Carpintero De Los Cabos'], 'name': 'PdV SJC/9622', 'skip_change': False, 'notice': False, 'product_id': [8092, '[895] Lija Dis. C/Vel. 5\" G-320 C#14 *895*'], 'attribute_value_ids': [], 'custom_attribute_value_ids': [], 'price_unit': 7.21, 'qty': 300.0, 'price_subtotal': 1730.4, 'price_subtotal_incl': 2007.26, 'price_extra': 0.0, 'margin': 398.40000000000003, 'margin_percent': 0.23020000000000002, 'total_cost': 1332.0, 'is_total_cost_computed': True, 'discount': 20.0, 'order_id': [6516, 'PdV SJC/3754'], 'tax_ids': [14], 'tax_ids_after_fiscal_position': [14], 'pack_lot_ids': [], 'product_uom_id': [1, 'Unidades'], 'currency_id': [32, 'MXN'], 'full_product_name': 'Lija Dis. C/Vel. 5\" G-320 C#14 *895*', 'customer_note': False, 'refund_orderline_ids': [16308], 'refunded_orderline_id': False, 'refunded_qty': 300.0, 'uuid': '83ad3ca6-6c6c-48f5-b19d-ac2645617b71', 'combo_parent_id': False, 'combo_line_ids': [], 'display_name': '[895] Lija Dis. C/Vel. 5\" G-320 C#14 *895*', 'create_uid': [238, 'Karely Guadalupe Green Ceseña'], 'create_date': '2024-02-21 20:38:55', 'write_uid': [238, 'Karely Guadalupe Green Ceseña'], 'write_date': '2024-02-21 20:38:55', 'sale_order_origin_id': False, 'sale_order_line_id': False, 'down_payment_details': False}\n",
      "False weppp\n",
      "{'id': 16201, 'company_id': [1, 'La Casa Del Carpintero De Los Cabos'], 'name': 'PdV SJC/9623', 'skip_change': False, 'notice': False, 'product_id': [8433, '[3255] Lija Dis. C/Vel. 5\" G- 60 Fan. C#6 *3255*'], 'attribute_value_ids': [], 'custom_attribute_value_ids': [], 'price_unit': 13.45, 'qty': 300.0, 'price_subtotal': 3228.0, 'price_subtotal_incl': 3744.48, 'price_extra': 0.0, 'margin': 744.0, 'margin_percent': 0.2305, 'total_cost': 2484.0, 'is_total_cost_computed': True, 'discount': 20.0, 'order_id': [6516, 'PdV SJC/3754'], 'tax_ids': [14], 'tax_ids_after_fiscal_position': [14], 'pack_lot_ids': [], 'product_uom_id': [1, 'Unidades'], 'currency_id': [32, 'MXN'], 'full_product_name': 'Lija Dis. C/Vel. 5\" G- 60 Fan. C#6 *3255*', 'customer_note': False, 'refund_orderline_ids': [16309], 'refunded_orderline_id': False, 'refunded_qty': 300.0, 'uuid': '661f8a2f-a6e6-4709-b17e-45f853dfa907', 'combo_parent_id': False, 'combo_line_ids': [], 'display_name': '[3255] Lija Dis. C/Vel. 5\" G- 60 Fan. C#6 *3255*', 'create_uid': [238, 'Karely Guadalupe Green Ceseña'], 'create_date': '2024-02-21 20:38:55', 'write_uid': [238, 'Karely Guadalupe Green Ceseña'], 'write_date': '2024-02-21 20:38:55', 'sale_order_origin_id': False, 'sale_order_line_id': False, 'down_payment_details': False}\n",
      "False weppp\n",
      "{'id': 16202, 'company_id': [1, 'La Casa Del Carpintero De Los Cabos'], 'name': 'PdV SJC/9624', 'skip_change': False, 'notice': False, 'product_id': [10255, '[13820] Dis.Lamin. 4.5\"*7/8\" G-120 #45580/533222 *13820*'], 'attribute_value_ids': [], 'custom_attribute_value_ids': [], 'price_unit': 61.26, 'qty': 4.0, 'price_subtotal': 220.54, 'price_subtotal_incl': 255.83, 'price_extra': 0.0, 'margin': 69.74, 'margin_percent': 0.31620000000000004, 'total_cost': 150.8, 'is_total_cost_computed': True, 'discount': 10.0, 'order_id': [6516, 'PdV SJC/3754'], 'tax_ids': [14], 'tax_ids_after_fiscal_position': [14], 'pack_lot_ids': [], 'product_uom_id': [1, 'Unidades'], 'currency_id': [32, 'MXN'], 'full_product_name': 'Dis.Lamin. 4.5\"*7/8\" G-120 #45580/533222 *13820*', 'customer_note': False, 'refund_orderline_ids': [16310], 'refunded_orderline_id': False, 'refunded_qty': 4.0, 'uuid': 'e261375f-bff4-4ba7-9ce3-ea6dc656a8fa', 'combo_parent_id': False, 'combo_line_ids': [], 'display_name': '[13820] Dis.Lamin. 4.5\"*7/8\" G-120 #45580/533222 *13820*', 'create_uid': [238, 'Karely Guadalupe Green Ceseña'], 'create_date': '2024-02-21 20:38:55', 'write_uid': [238, 'Karely Guadalupe Green Ceseña'], 'write_date': '2024-02-21 20:38:55', 'sale_order_origin_id': False, 'sale_order_line_id': False, 'down_payment_details': False}\n",
      "False weppp\n",
      "{'id': 16203, 'company_id': [1, 'La Casa Del Carpintero De Los Cabos'], 'name': 'PdV SJC/9625', 'skip_change': False, 'notice': False, 'product_id': [8301, '[3053] Lija D/Agua Fan. #320 *3053*'], 'attribute_value_ids': [], 'custom_attribute_value_ids': [], 'price_unit': 11.1, 'qty': 100.0, 'price_subtotal': 999.0, 'price_subtotal_incl': 1158.84, 'price_extra': 0.0, 'margin': 316.0, 'margin_percent': 0.3163, 'total_cost': 683.0, 'is_total_cost_computed': True, 'discount': 10.0, 'order_id': [6516, 'PdV SJC/3754'], 'tax_ids': [14], 'tax_ids_after_fiscal_position': [14], 'pack_lot_ids': [], 'product_uom_id': [1, 'Unidades'], 'currency_id': [32, 'MXN'], 'full_product_name': 'Lija D/Agua Fan. #320 *3053*', 'customer_note': False, 'refund_orderline_ids': [16311], 'refunded_orderline_id': False, 'refunded_qty': 100.0, 'uuid': 'b690b058-9e66-4485-a563-6a0a1360f6ee', 'combo_parent_id': False, 'combo_line_ids': [], 'display_name': '[3053] Lija D/Agua Fan. #320 *3053*', 'create_uid': [238, 'Karely Guadalupe Green Ceseña'], 'create_date': '2024-02-21 20:38:55', 'write_uid': [238, 'Karely Guadalupe Green Ceseña'], 'write_date': '2024-02-21 20:38:55', 'sale_order_origin_id': False, 'sale_order_line_id': False, 'down_payment_details': False}\n",
      "False weppp\n",
      "{'id': 16204, 'company_id': [1, 'La Casa Del Carpintero De Los Cabos'], 'name': 'PdV SJC/9626', 'skip_change': False, 'notice': False, 'product_id': [10351, '[25849] Disco Laminado Z-40 Inox 4 1/2 #72952 *25849*'], 'attribute_value_ids': [], 'custom_attribute_value_ids': [], 'price_unit': 64.5, 'qty': 3.0, 'price_subtotal': 174.15, 'price_subtotal_incl': 202.01, 'price_extra': 0.0, 'margin': 55.08, 'margin_percent': 0.3163, 'total_cost': 119.07, 'is_total_cost_computed': True, 'discount': 10.0, 'order_id': [6516, 'PdV SJC/3754'], 'tax_ids': [14], 'tax_ids_after_fiscal_position': [14], 'pack_lot_ids': [], 'product_uom_id': [1, 'Unidades'], 'currency_id': [32, 'MXN'], 'full_product_name': 'Disco Laminado Z-40 Inox 4 1/2 #72952 *25849*', 'customer_note': False, 'refund_orderline_ids': [16312], 'refunded_orderline_id': False, 'refunded_qty': 3.0, 'uuid': '300a91fe-a53d-4fb1-8309-b6b700cbaa29', 'combo_parent_id': False, 'combo_line_ids': [], 'display_name': '[25849] Disco Laminado Z-40 Inox 4 1/2 #72952 *25849*', 'create_uid': [238, 'Karely Guadalupe Green Ceseña'], 'create_date': '2024-02-21 20:38:55', 'write_uid': [238, 'Karely Guadalupe Green Ceseña'], 'write_date': '2024-02-21 20:38:55', 'sale_order_origin_id': False, 'sale_order_line_id': False, 'down_payment_details': False}\n",
      "False weppp\n",
      "{'id': 16205, 'company_id': [1, 'La Casa Del Carpintero De Los Cabos'], 'name': 'PdV SJC/9627', 'skip_change': False, 'notice': False, 'product_id': [8511, '[3047] Lija D/Agua Fan. #80 *3047*'], 'attribute_value_ids': [], 'custom_attribute_value_ids': [], 'price_unit': 15.44, 'qty': 100.0, 'price_subtotal': 1235.2, 'price_subtotal_incl': 1432.83, 'price_extra': 0.0, 'margin': 285.2, 'margin_percent': 0.23090000000000002, 'total_cost': 950.0, 'is_total_cost_computed': True, 'discount': 20.0, 'order_id': [6516, 'PdV SJC/3754'], 'tax_ids': [14], 'tax_ids_after_fiscal_position': [14], 'pack_lot_ids': [], 'product_uom_id': [1, 'Unidades'], 'currency_id': [32, 'MXN'], 'full_product_name': 'Lija D/Agua Fan. #80 *3047*', 'customer_note': False, 'refund_orderline_ids': [16313], 'refunded_orderline_id': False, 'refunded_qty': 100.0, 'uuid': 'e29fd363-be23-4d95-b0f8-8dd6663579f7', 'combo_parent_id': False, 'combo_line_ids': [], 'display_name': '[3047] Lija D/Agua Fan. #80 *3047*', 'create_uid': [238, 'Karely Guadalupe Green Ceseña'], 'create_date': '2024-02-21 20:38:55', 'write_uid': [238, 'Karely Guadalupe Green Ceseña'], 'write_date': '2024-02-21 20:38:55', 'sale_order_origin_id': False, 'sale_order_line_id': False, 'down_payment_details': False}\n",
      "False weppp\n",
      "{'id': 16206, 'company_id': [1, 'La Casa Del Carpintero De Los Cabos'], 'name': 'PdV SJC/9628', 'skip_change': False, 'notice': False, 'product_id': [8352, '[3049] Lija D/Agua Fan. #120 *3049*'], 'attribute_value_ids': [], 'custom_attribute_value_ids': [], 'price_unit': 11.93, 'qty': 150.0, 'price_subtotal': 1431.6000000000001, 'price_subtotal_incl': 1660.66, 'price_extra': 0.0, 'margin': 330.6, 'margin_percent': 0.23090000000000002, 'total_cost': 1101.0, 'is_total_cost_computed': True, 'discount': 20.0, 'order_id': [6516, 'PdV SJC/3754'], 'tax_ids': [14], 'tax_ids_after_fiscal_position': [14], 'pack_lot_ids': [], 'product_uom_id': [1, 'Unidades'], 'currency_id': [32, 'MXN'], 'full_product_name': 'Lija D/Agua Fan. #120 *3049*', 'customer_note': False, 'refund_orderline_ids': [16314], 'refunded_orderline_id': False, 'refunded_qty': 150.0, 'uuid': '0542fcc4-c90c-4ebe-8708-bc48b81f4d2e', 'combo_parent_id': False, 'combo_line_ids': [], 'display_name': '[3049] Lija D/Agua Fan. #120 *3049*', 'create_uid': [238, 'Karely Guadalupe Green Ceseña'], 'create_date': '2024-02-21 20:38:55', 'write_uid': [238, 'Karely Guadalupe Green Ceseña'], 'write_date': '2024-02-21 20:38:55', 'sale_order_origin_id': False, 'sale_order_line_id': False, 'down_payment_details': False}\n",
      "False weppp\n",
      "{'id': 16207, 'company_id': [1, 'La Casa Del Carpintero De Los Cabos'], 'name': 'PdV SJC/9629', 'skip_change': False, 'notice': False, 'product_id': [8341, '[3051] Lija D/Agua Fan. #180 *3051*'], 'attribute_value_ids': [], 'custom_attribute_value_ids': [], 'price_unit': 11.55, 'qty': 100.0, 'price_subtotal': 924.0, 'price_subtotal_incl': 1071.84, 'price_extra': 0.0, 'margin': 213.0, 'margin_percent': 0.2305, 'total_cost': 711.0, 'is_total_cost_computed': True, 'discount': 20.0, 'order_id': [6516, 'PdV SJC/3754'], 'tax_ids': [14], 'tax_ids_after_fiscal_position': [14], 'pack_lot_ids': [], 'product_uom_id': [1, 'Unidades'], 'currency_id': [32, 'MXN'], 'full_product_name': 'Lija D/Agua Fan. #180 *3051*', 'customer_note': False, 'refund_orderline_ids': [16315], 'refunded_orderline_id': False, 'refunded_qty': 100.0, 'uuid': '0ba4c27a-19da-4260-87f7-b961b19fd6f6', 'combo_parent_id': False, 'combo_line_ids': [], 'display_name': '[3051] Lija D/Agua Fan. #180 *3051*', 'create_uid': [238, 'Karely Guadalupe Green Ceseña'], 'create_date': '2024-02-21 20:38:55', 'write_uid': [238, 'Karely Guadalupe Green Ceseña'], 'write_date': '2024-02-21 20:38:55', 'sale_order_origin_id': False, 'sale_order_line_id': False, 'down_payment_details': False}\n",
      "False weppp\n",
      "{'id': 16208, 'company_id': [1, 'La Casa Del Carpintero De Los Cabos'], 'name': 'PdV SJC/9630', 'skip_change': False, 'notice': False, 'product_id': [8275, '[3052] Lija D/Agua Fan. #220 *3052*'], 'attribute_value_ids': [], 'custom_attribute_value_ids': [], 'price_unit': 10.51, 'qty': 200.0, 'price_subtotal': 1681.6000000000001, 'price_subtotal_incl': 1950.66, 'price_extra': 0.0, 'margin': 387.6, 'margin_percent': 0.2305, 'total_cost': 1294.0, 'is_total_cost_computed': True, 'discount': 20.0, 'order_id': [6516, 'PdV SJC/3754'], 'tax_ids': [14], 'tax_ids_after_fiscal_position': [14], 'pack_lot_ids': [], 'product_uom_id': [1, 'Unidades'], 'currency_id': [32, 'MXN'], 'full_product_name': 'Lija D/Agua Fan. #220 *3052*', 'customer_note': False, 'refund_orderline_ids': [16316], 'refunded_orderline_id': False, 'refunded_qty': 200.0, 'uuid': '37fa41b0-6d94-44ab-9951-b8a719749685', 'combo_parent_id': False, 'combo_line_ids': [], 'display_name': '[3052] Lija D/Agua Fan. #220 *3052*', 'create_uid': [238, 'Karely Guadalupe Green Ceseña'], 'create_date': '2024-02-21 20:38:55', 'write_uid': [238, 'Karely Guadalupe Green Ceseña'], 'write_date': '2024-02-21 20:38:55', 'sale_order_origin_id': False, 'sale_order_line_id': False, 'down_payment_details': False}\n",
      "False weppp\n",
      "{'id': 16209, 'company_id': [1, 'La Casa Del Carpintero De Los Cabos'], 'name': 'PdV SJC/9631', 'skip_change': False, 'notice': False, 'product_id': [12763, '[7568] Respaldo P/Lijadora BO5030 Mk #743081-8 *7568*'], 'attribute_value_ids': [], 'custom_attribute_value_ids': [], 'price_unit': 266.5, 'qty': 5.0, 'price_subtotal': 1199.25, 'price_subtotal_incl': 1391.13, 'price_extra': 0.0, 'margin': 379.25, 'margin_percent': 0.31620000000000004, 'total_cost': 820.0, 'is_total_cost_computed': True, 'discount': 10.0, 'order_id': [6516, 'PdV SJC/3754'], 'tax_ids': [14], 'tax_ids_after_fiscal_position': [14], 'pack_lot_ids': [], 'product_uom_id': [1, 'Unidades'], 'currency_id': [32, 'MXN'], 'full_product_name': 'Respaldo P/Lijadora BO5030 Mk #743081-8 *7568*', 'customer_note': False, 'refund_orderline_ids': [16317], 'refunded_orderline_id': False, 'refunded_qty': 5.0, 'uuid': '8a9350bd-7446-46e1-a71a-7ea83d40dd2c', 'combo_parent_id': False, 'combo_line_ids': [], 'display_name': '[7568] Respaldo P/Lijadora BO5030 Mk #743081-8 *7568*', 'create_uid': [238, 'Karely Guadalupe Green Ceseña'], 'create_date': '2024-02-21 20:38:55', 'write_uid': [238, 'Karely Guadalupe Green Ceseña'], 'write_date': '2024-02-21 20:38:55', 'sale_order_origin_id': False, 'sale_order_line_id': False, 'down_payment_details': False}\n",
      "False weppp\n",
      "{'id': 16210, 'company_id': [1, 'La Casa Del Carpintero De Los Cabos'], 'name': 'PdV SJC/9632', 'skip_change': False, 'notice': False, 'product_id': [12805, '[11448] Base P/Lijadora Dewalt #N329079 *11448*'], 'attribute_value_ids': [], 'custom_attribute_value_ids': [], 'price_unit': 274.58, 'qty': 10.0, 'price_subtotal': 2471.2200000000003, 'price_subtotal_incl': 2866.62, 'price_extra': 0.0, 'margin': 781.52, 'margin_percent': 0.31620000000000004, 'total_cost': 1689.7, 'is_total_cost_computed': True, 'discount': 10.0, 'order_id': [6516, 'PdV SJC/3754'], 'tax_ids': [14], 'tax_ids_after_fiscal_position': [14], 'pack_lot_ids': [], 'product_uom_id': [1, 'Unidades'], 'currency_id': [32, 'MXN'], 'full_product_name': 'Base P/Lijadora Dewalt #N329079 *11448*', 'customer_note': False, 'refund_orderline_ids': [16318], 'refunded_orderline_id': False, 'refunded_qty': 10.0, 'uuid': '48193e36-815c-4cc9-8820-ddeb3c96f58f', 'combo_parent_id': False, 'combo_line_ids': [], 'display_name': '[11448] Base P/Lijadora Dewalt #N329079 *11448*', 'create_uid': [238, 'Karely Guadalupe Green Ceseña'], 'create_date': '2024-02-21 20:38:55', 'write_uid': [238, 'Karely Guadalupe Green Ceseña'], 'write_date': '2024-02-21 20:38:55', 'sale_order_origin_id': False, 'sale_order_line_id': False, 'down_payment_details': False}\n",
      "False weppp\n",
      "{'id': 16211, 'company_id': [1, 'La Casa Del Carpintero De Los Cabos'], 'name': 'PdV SJC/9633', 'skip_change': False, 'notice': False, 'product_id': [11014, '[13342] Sil.Pens 100% Uso General Transp 280ml *13342*'], 'attribute_value_ids': [], 'custom_attribute_value_ids': [], 'price_unit': 95.81, 'qty': 25.0, 'price_subtotal': 2155.73, 'price_subtotal_incl': 2500.65, 'price_extra': 0.0, 'margin': 681.73, 'margin_percent': 0.31620000000000004, 'total_cost': 1474.0, 'is_total_cost_computed': True, 'discount': 10.0, 'order_id': [6516, 'PdV SJC/3754'], 'tax_ids': [14], 'tax_ids_after_fiscal_position': [14], 'pack_lot_ids': [], 'product_uom_id': [1, 'Unidades'], 'currency_id': [32, 'MXN'], 'full_product_name': 'Sil.Pens 100% Uso General Transp 280ml *13342*', 'customer_note': False, 'refund_orderline_ids': [16319], 'refunded_orderline_id': False, 'refunded_qty': 25.0, 'uuid': '6f4993ef-62ae-4401-a41d-d71f10b9028a', 'combo_parent_id': False, 'combo_line_ids': [], 'display_name': '[13342] Sil.Pens 100% Uso General Transp 280ml *13342*', 'create_uid': [238, 'Karely Guadalupe Green Ceseña'], 'create_date': '2024-02-21 20:38:55', 'write_uid': [238, 'Karely Guadalupe Green Ceseña'], 'write_date': '2024-02-21 20:38:55', 'sale_order_origin_id': False, 'sale_order_line_id': False, 'down_payment_details': False}\n",
      "False weppp\n",
      "{'id': 16212, 'company_id': [1, 'La Casa Del Carpintero De Los Cabos'], 'name': 'PdV SJC/9634', 'skip_change': False, 'notice': False, 'product_id': [11170, '[12362] Sil.Pens 100% Uso General Blanco 280ml *12362*'], 'attribute_value_ids': [], 'custom_attribute_value_ids': [], 'price_unit': 106.45, 'qty': 10.0, 'price_subtotal': 958.0500000000001, 'price_subtotal_incl': 1111.34, 'price_extra': 0.0, 'margin': 302.95, 'margin_percent': 0.31620000000000004, 'total_cost': 655.1, 'is_total_cost_computed': True, 'discount': 10.0, 'order_id': [6516, 'PdV SJC/3754'], 'tax_ids': [14], 'tax_ids_after_fiscal_position': [14], 'pack_lot_ids': [], 'product_uom_id': [1, 'Unidades'], 'currency_id': [32, 'MXN'], 'full_product_name': 'Sil.Pens 100% Uso General Blanco 280ml *12362*', 'customer_note': False, 'refund_orderline_ids': [16320], 'refunded_orderline_id': False, 'refunded_qty': 10.0, 'uuid': '0773cc0c-4c00-43aa-b89a-438e211883c5', 'combo_parent_id': False, 'combo_line_ids': [], 'display_name': '[12362] Sil.Pens 100% Uso General Blanco 280ml *12362*', 'create_uid': [238, 'Karely Guadalupe Green Ceseña'], 'create_date': '2024-02-21 20:38:55', 'write_uid': [238, 'Karely Guadalupe Green Ceseña'], 'write_date': '2024-02-21 20:38:55', 'sale_order_origin_id': False, 'sale_order_line_id': False, 'down_payment_details': False}\n",
      "False weppp\n",
      "{'id': 16213, 'company_id': [1, 'La Casa Del Carpintero De Los Cabos'], 'name': 'PdV SJC/9635', 'skip_change': False, 'notice': False, 'product_id': [11915, '[40440] Aceite Aflojatodo WD-40 (8oz) WD008 *40440*'], 'attribute_value_ids': [], 'custom_attribute_value_ids': [], 'price_unit': 161.23, 'qty': 5.0, 'price_subtotal': 725.54, 'price_subtotal_incl': 841.63, 'price_extra': 0.0, 'margin': 229.44, 'margin_percent': 0.31620000000000004, 'total_cost': 496.1, 'is_total_cost_computed': True, 'discount': 10.0, 'order_id': [6516, 'PdV SJC/3754'], 'tax_ids': [14], 'tax_ids_after_fiscal_position': [14], 'pack_lot_ids': [], 'product_uom_id': [1, 'Unidades'], 'currency_id': [32, 'MXN'], 'full_product_name': 'Aceite Aflojatodo WD-40 (8oz) WD008 *40440*', 'customer_note': False, 'refund_orderline_ids': [16321], 'refunded_orderline_id': False, 'refunded_qty': 5.0, 'uuid': '9bae938f-e08c-4fed-a9e7-da13580b34e7', 'combo_parent_id': False, 'combo_line_ids': [], 'display_name': '[40440] Aceite Aflojatodo WD-40 (8oz) WD008 *40440*', 'create_uid': [238, 'Karely Guadalupe Green Ceseña'], 'create_date': '2024-02-21 20:38:55', 'write_uid': [238, 'Karely Guadalupe Green Ceseña'], 'write_date': '2024-02-21 20:38:55', 'sale_order_origin_id': False, 'sale_order_line_id': False, 'down_payment_details': False}\n",
      "False weppp\n",
      "{'id': 16214, 'company_id': [1, 'La Casa Del Carpintero De Los Cabos'], 'name': 'PdV SJC/9636', 'skip_change': False, 'notice': False, 'product_id': [12011, '[550069] Cinta Masking  1-1/2\" #2090 3M CE *550069*'], 'attribute_value_ids': [], 'custom_attribute_value_ids': [], 'price_unit': 162.84, 'qty': 72.0, 'price_subtotal': 9379.58, 'price_subtotal_incl': 10880.31, 'price_extra': 0.0, 'margin': 1563.26, 'margin_percent': 0.16670000000000001, 'total_cost': 7816.32, 'is_total_cost_computed': True, 'discount': 20.0, 'order_id': [6516, 'PdV SJC/3754'], 'tax_ids': [14], 'tax_ids_after_fiscal_position': [14], 'pack_lot_ids': [], 'product_uom_id': [1, 'Unidades'], 'currency_id': [32, 'MXN'], 'full_product_name': 'Cinta Masking  1-1/2\" #2090 3M CE *550069*', 'customer_note': False, 'refund_orderline_ids': [16322], 'refunded_orderline_id': False, 'refunded_qty': 72.0, 'uuid': 'a75c2270-d949-477b-9ee3-75af4574608c', 'combo_parent_id': False, 'combo_line_ids': [], 'display_name': '[550069] Cinta Masking  1-1/2\" #2090 3M CE *550069*', 'create_uid': [238, 'Karely Guadalupe Green Ceseña'], 'create_date': '2024-02-21 20:38:55', 'write_uid': [238, 'Karely Guadalupe Green Ceseña'], 'write_date': '2024-02-21 20:38:55', 'sale_order_origin_id': False, 'sale_order_line_id': False, 'down_payment_details': False}\n",
      "False weppp\n",
      "{'id': 16215, 'company_id': [1, 'La Casa Del Carpintero De Los Cabos'], 'name': 'PdV SJC/9637', 'skip_change': False, 'notice': False, 'product_id': [10213, '[9537] Sil.Pens Acrilastic Blanco 300ml *9537*'], 'attribute_value_ids': [], 'custom_attribute_value_ids': [], 'price_unit': 59.31, 'qty': 5.0, 'price_subtotal': 266.9, 'price_subtotal_incl': 309.6, 'price_extra': 0.0, 'margin': 84.4, 'margin_percent': 0.31620000000000004, 'total_cost': 182.5, 'is_total_cost_computed': True, 'discount': 10.0, 'order_id': [6516, 'PdV SJC/3754'], 'tax_ids': [14], 'tax_ids_after_fiscal_position': [14], 'pack_lot_ids': [], 'product_uom_id': [1, 'Unidades'], 'currency_id': [32, 'MXN'], 'full_product_name': 'Sil.Pens Acrilastic Blanco 300ml *9537*', 'customer_note': False, 'refund_orderline_ids': [16323], 'refunded_orderline_id': False, 'refunded_qty': 5.0, 'uuid': '22ea2ffd-1425-4ff8-b978-80296edcf051', 'combo_parent_id': False, 'combo_line_ids': [], 'display_name': '[9537] Sil.Pens Acrilastic Blanco 300ml *9537*', 'create_uid': [238, 'Karely Guadalupe Green Ceseña'], 'create_date': '2024-02-21 20:38:55', 'write_uid': [238, 'Karely Guadalupe Green Ceseña'], 'write_date': '2024-02-21 20:38:55', 'sale_order_origin_id': False, 'sale_order_line_id': False, 'down_payment_details': False}\n",
      "False weppp\n",
      "{'id': 16216, 'company_id': [1, 'La Casa Del Carpintero De Los Cabos'], 'name': 'PdV SJC/9638', 'skip_change': False, 'notice': False, 'product_id': [10343, '[12325] Sil.Pens Acrilastic Canela 300ml *12325*'], 'attribute_value_ids': [], 'custom_attribute_value_ids': [], 'price_unit': 64.3, 'qty': 5.0, 'price_subtotal': 289.35, 'price_subtotal_incl': 335.65000000000003, 'price_extra': 0.0, 'margin': 91.5, 'margin_percent': 0.31620000000000004, 'total_cost': 197.85, 'is_total_cost_computed': True, 'discount': 10.0, 'order_id': [6516, 'PdV SJC/3754'], 'tax_ids': [14], 'tax_ids_after_fiscal_position': [14], 'pack_lot_ids': [], 'product_uom_id': [1, 'Unidades'], 'currency_id': [32, 'MXN'], 'full_product_name': 'Sil.Pens Acrilastic Canela 300ml *12325*', 'customer_note': False, 'refund_orderline_ids': [16324], 'refunded_orderline_id': False, 'refunded_qty': 5.0, 'uuid': '5f1ca5f8-5c36-42c9-b8ef-d9154a789fe8', 'combo_parent_id': False, 'combo_line_ids': [], 'display_name': '[12325] Sil.Pens Acrilastic Canela 300ml *12325*', 'create_uid': [238, 'Karely Guadalupe Green Ceseña'], 'create_date': '2024-02-21 20:38:55', 'write_uid': [238, 'Karely Guadalupe Green Ceseña'], 'write_date': '2024-02-21 20:38:55', 'sale_order_origin_id': False, 'sale_order_line_id': False, 'down_payment_details': False}\n",
      "False weppp\n",
      "{'id': 16217, 'company_id': [1, 'La Casa Del Carpintero De Los Cabos'], 'name': 'PdV SJC/9639', 'skip_change': False, 'notice': False, 'product_id': [10346, '[206] Sil.Pens Acrilastic Hueso 300ml *206*'], 'attribute_value_ids': [], 'custom_attribute_value_ids': [], 'price_unit': 64.3, 'qty': 5.0, 'price_subtotal': 289.35, 'price_subtotal_incl': 335.65000000000003, 'price_extra': 0.0, 'margin': 91.5, 'margin_percent': 0.31620000000000004, 'total_cost': 197.85, 'is_total_cost_computed': True, 'discount': 10.0, 'order_id': [6516, 'PdV SJC/3754'], 'tax_ids': [14], 'tax_ids_after_fiscal_position': [14], 'pack_lot_ids': [], 'product_uom_id': [1, 'Unidades'], 'currency_id': [32, 'MXN'], 'full_product_name': 'Sil.Pens Acrilastic Hueso 300ml *206*', 'customer_note': False, 'refund_orderline_ids': [16325], 'refunded_orderline_id': False, 'refunded_qty': 5.0, 'uuid': '73587d3b-af65-4f7f-a9a8-ce50d343aad2', 'combo_parent_id': False, 'combo_line_ids': [], 'display_name': '[206] Sil.Pens Acrilastic Hueso 300ml *206*', 'create_uid': [238, 'Karely Guadalupe Green Ceseña'], 'create_date': '2024-02-21 20:38:55', 'write_uid': [238, 'Karely Guadalupe Green Ceseña'], 'write_date': '2024-02-21 20:38:55', 'sale_order_origin_id': False, 'sale_order_line_id': False, 'down_payment_details': False}\n",
      "False weppp\n",
      "{'id': 16218, 'company_id': [1, 'La Casa Del Carpintero De Los Cabos'], 'name': 'PdV SJC/9640', 'skip_change': False, 'notice': False, 'product_id': [10344, '[16203] Sil.Pens Acrilastic Bronce 300ml *16203*'], 'attribute_value_ids': [], 'custom_attribute_value_ids': [], 'price_unit': 64.3, 'qty': 5.0, 'price_subtotal': 289.35, 'price_subtotal_incl': 335.65000000000003, 'price_extra': 0.0, 'margin': 91.5, 'margin_percent': 0.31620000000000004, 'total_cost': 197.85, 'is_total_cost_computed': True, 'discount': 10.0, 'order_id': [6516, 'PdV SJC/3754'], 'tax_ids': [14], 'tax_ids_after_fiscal_position': [14], 'pack_lot_ids': [], 'product_uom_id': [1, 'Unidades'], 'currency_id': [32, 'MXN'], 'full_product_name': 'Sil.Pens Acrilastic Bronce 300ml *16203*', 'customer_note': False, 'refund_orderline_ids': [16326], 'refunded_orderline_id': False, 'refunded_qty': 5.0, 'uuid': '34b1c4e1-c781-417d-9617-73784d214cc0', 'combo_parent_id': False, 'combo_line_ids': [], 'display_name': '[16203] Sil.Pens Acrilastic Bronce 300ml *16203*', 'create_uid': [238, 'Karely Guadalupe Green Ceseña'], 'create_date': '2024-02-21 20:38:55', 'write_uid': [238, 'Karely Guadalupe Green Ceseña'], 'write_date': '2024-02-21 20:38:55', 'sale_order_origin_id': False, 'sale_order_line_id': False, 'down_payment_details': False}\n",
      "False weppp\n",
      "{'id': 16219, 'company_id': [1, 'La Casa Del Carpintero De Los Cabos'], 'name': 'PdV SJC/9641', 'skip_change': False, 'notice': False, 'product_id': [10347, '[7767] Sil.Pens Acrilastic Beige 300ml *7767*'], 'attribute_value_ids': [], 'custom_attribute_value_ids': [], 'price_unit': 64.3, 'qty': 5.0, 'price_subtotal': 289.35, 'price_subtotal_incl': 335.65000000000003, 'price_extra': 0.0, 'margin': 91.5, 'margin_percent': 0.31620000000000004, 'total_cost': 197.85, 'is_total_cost_computed': True, 'discount': 10.0, 'order_id': [6516, 'PdV SJC/3754'], 'tax_ids': [14], 'tax_ids_after_fiscal_position': [14], 'pack_lot_ids': [], 'product_uom_id': [1, 'Unidades'], 'currency_id': [32, 'MXN'], 'full_product_name': 'Sil.Pens Acrilastic Beige 300ml *7767*', 'customer_note': False, 'refund_orderline_ids': [16327], 'refunded_orderline_id': False, 'refunded_qty': 5.0, 'uuid': 'b72e3f48-071c-4b8c-8a35-f152b49f0cec', 'combo_parent_id': False, 'combo_line_ids': [], 'display_name': '[7767] Sil.Pens Acrilastic Beige 300ml *7767*', 'create_uid': [238, 'Karely Guadalupe Green Ceseña'], 'create_date': '2024-02-21 20:38:55', 'write_uid': [238, 'Karely Guadalupe Green Ceseña'], 'write_date': '2024-02-21 20:38:55', 'sale_order_origin_id': False, 'sale_order_line_id': False, 'down_payment_details': False}\n",
      "False weppp\n",
      "{'id': 16220, 'company_id': [1, 'La Casa Del Carpintero De Los Cabos'], 'name': 'PdV SJC/9642', 'skip_change': False, 'notice': False, 'product_id': [11621, '[12343] Cinta Aislante 3M  Scotch SUPER33 *12343*'], 'attribute_value_ids': [], 'custom_attribute_value_ids': [], 'price_unit': 138.13, 'qty': 20.0, 'price_subtotal': 2210.08, 'price_subtotal_incl': 2563.69, 'price_extra': 0.0, 'margin': 510.08, 'margin_percent': 0.2308, 'total_cost': 1700.0, 'is_total_cost_computed': True, 'discount': 20.0, 'order_id': [6516, 'PdV SJC/3754'], 'tax_ids': [14], 'tax_ids_after_fiscal_position': [14], 'pack_lot_ids': [], 'product_uom_id': [1, 'Unidades'], 'currency_id': [32, 'MXN'], 'full_product_name': 'Cinta Aislante 3M  Scotch SUPER33 *12343*', 'customer_note': False, 'refund_orderline_ids': [16328], 'refunded_orderline_id': False, 'refunded_qty': 20.0, 'uuid': '603b9a49-90a3-48d1-8c31-205a037de600', 'combo_parent_id': False, 'combo_line_ids': [], 'display_name': '[12343] Cinta Aislante 3M  Scotch SUPER33 *12343*', 'create_uid': [238, 'Karely Guadalupe Green Ceseña'], 'create_date': '2024-02-21 20:38:55', 'write_uid': [238, 'Karely Guadalupe Green Ceseña'], 'write_date': '2024-02-21 20:38:55', 'sale_order_origin_id': False, 'sale_order_line_id': False, 'down_payment_details': False}\n",
      "False weppp\n",
      "{'id': 16221, 'company_id': [1, 'La Casa Del Carpintero De Los Cabos'], 'name': 'PdV SJC/9643', 'skip_change': False, 'notice': False, 'product_id': [13002, '[8812] Rodillera Truper #Rod-L 12951 *8812*'], 'attribute_value_ids': [], 'custom_attribute_value_ids': [], 'price_unit': 321.49, 'qty': 3.0, 'price_subtotal': 868.02, 'price_subtotal_incl': 1006.9, 'price_extra': 0.0, 'margin': 274.5, 'margin_percent': 0.31620000000000004, 'total_cost': 593.52, 'is_total_cost_computed': True, 'discount': 10.0, 'order_id': [6516, 'PdV SJC/3754'], 'tax_ids': [14], 'tax_ids_after_fiscal_position': [14], 'pack_lot_ids': [], 'product_uom_id': [1, 'Unidades'], 'currency_id': [32, 'MXN'], 'full_product_name': 'Rodillera Truper #Rod-L 12951 *8812*', 'customer_note': False, 'refund_orderline_ids': [16329], 'refunded_orderline_id': False, 'refunded_qty': 3.0, 'uuid': '16fca5e5-f046-4d33-9162-4bb856d08f76', 'combo_parent_id': False, 'combo_line_ids': [], 'display_name': '[8812] Rodillera Truper #Rod-L 12951 *8812*', 'create_uid': [238, 'Karely Guadalupe Green Ceseña'], 'create_date': '2024-02-21 20:38:55', 'write_uid': [238, 'Karely Guadalupe Green Ceseña'], 'write_date': '2024-02-21 20:38:55', 'sale_order_origin_id': False, 'sale_order_line_id': False, 'down_payment_details': False}\n",
      "False weppp\n",
      "{'id': 16222, 'company_id': [1, 'La Casa Del Carpintero De Los Cabos'], 'name': 'PdV SJC/9644', 'skip_change': False, 'notice': False, 'product_id': [10177, '[24337] Disco Laminado Z-80 Inox 4 1/2 #72954 *24337*'], 'attribute_value_ids': [], 'custom_attribute_value_ids': [], 'price_unit': 61.28, 'qty': 15.0, 'price_subtotal': 827.28, 'price_subtotal_incl': 959.64, 'price_extra': 0.0, 'margin': 261.63, 'margin_percent': 0.3163, 'total_cost': 565.65, 'is_total_cost_computed': True, 'discount': 10.0, 'order_id': [6516, 'PdV SJC/3754'], 'tax_ids': [14], 'tax_ids_after_fiscal_position': [14], 'pack_lot_ids': [], 'product_uom_id': [1, 'Unidades'], 'currency_id': [32, 'MXN'], 'full_product_name': 'Disco Laminado Z-80 Inox 4 1/2 #72954 *24337*', 'customer_note': False, 'refund_orderline_ids': [16330], 'refunded_orderline_id': False, 'refunded_qty': 15.0, 'uuid': '5c0dabc2-3052-444b-91d2-8bd302dfdee8', 'combo_parent_id': False, 'combo_line_ids': [], 'display_name': '[24337] Disco Laminado Z-80 Inox 4 1/2 #72954 *24337*', 'create_uid': [238, 'Karely Guadalupe Green Ceseña'], 'create_date': '2024-02-21 20:38:55', 'write_uid': [238, 'Karely Guadalupe Green Ceseña'], 'write_date': '2024-02-21 20:38:55', 'sale_order_origin_id': False, 'sale_order_line_id': False, 'down_payment_details': False}\n",
      "False weppp\n",
      "{'id': 16223, 'company_id': [1, 'La Casa Del Carpintero De Los Cabos'], 'name': 'PdV SJC/9645', 'skip_change': False, 'notice': False, 'product_id': [12442, '[14833] Thinner Sayer D-0002 (4Lt) Estandar *14833*'], 'attribute_value_ids': [], 'custom_attribute_value_ids': [], 'price_unit': 202.5, 'qty': 4.0, 'price_subtotal': 648.0, 'price_subtotal_incl': 751.6800000000001, 'price_extra': 0.0, 'margin': 108.0, 'margin_percent': 0.16670000000000001, 'total_cost': 540.0, 'is_total_cost_computed': True, 'discount': 20.0, 'order_id': [6516, 'PdV SJC/3754'], 'tax_ids': [14], 'tax_ids_after_fiscal_position': [14], 'pack_lot_ids': [], 'product_uom_id': [1, 'Unidades'], 'currency_id': [32, 'MXN'], 'full_product_name': 'Thinner Sayer D-0002 (4Lt) Estandar *14833*', 'customer_note': False, 'refund_orderline_ids': [16331], 'refunded_orderline_id': False, 'refunded_qty': 4.0, 'uuid': 'e5bd3d4a-01ee-4b06-b8b1-69a8098e80b2', 'combo_parent_id': False, 'combo_line_ids': [], 'display_name': '[14833] Thinner Sayer D-0002 (4Lt) Estandar *14833*', 'create_uid': [238, 'Karely Guadalupe Green Ceseña'], 'create_date': '2024-02-21 20:38:55', 'write_uid': [238, 'Karely Guadalupe Green Ceseña'], 'write_date': '2024-02-21 20:38:55', 'sale_order_origin_id': False, 'sale_order_line_id': False, 'down_payment_details': False}\n",
      "False weppp\n",
      "{'id': 16224, 'company_id': [1, 'La Casa Del Carpintero De Los Cabos'], 'name': 'PdV SJC/9646', 'skip_change': False, 'notice': False, 'product_id': [13314, '[1045] Diluyente Sayer D-8000 (4Lt) Americano *1045*'], 'attribute_value_ids': [], 'custom_attribute_value_ids': [], 'price_unit': 386.1, 'qty': 4.0, 'price_subtotal': 1235.52, 'price_subtotal_incl': 1433.2, 'price_extra': 0.0, 'margin': 205.92000000000002, 'margin_percent': 0.16670000000000001, 'total_cost': 1029.6, 'is_total_cost_computed': True, 'discount': 20.0, 'order_id': [6516, 'PdV SJC/3754'], 'tax_ids': [14], 'tax_ids_after_fiscal_position': [14], 'pack_lot_ids': [], 'product_uom_id': [1, 'Unidades'], 'currency_id': [32, 'MXN'], 'full_product_name': 'Diluyente Sayer D-8000 (4Lt) Americano *1045*', 'customer_note': False, 'refund_orderline_ids': [16332], 'refunded_orderline_id': False, 'refunded_qty': 4.0, 'uuid': '15252c41-2749-4e22-bd2f-c06db3db6f64', 'combo_parent_id': False, 'combo_line_ids': [], 'display_name': '[1045] Diluyente Sayer D-8000 (4Lt) Americano *1045*', 'create_uid': [238, 'Karely Guadalupe Green Ceseña'], 'create_date': '2024-02-21 20:38:55', 'write_uid': [238, 'Karely Guadalupe Green Ceseña'], 'write_date': '2024-02-21 20:38:55', 'sale_order_origin_id': False, 'sale_order_line_id': False, 'down_payment_details': False}\n",
      "False weppp\n",
      "{'id': 15901, 'company_id': [1, 'La Casa Del Carpintero De Los Cabos'], 'name': 'PdV SJC/9458', 'skip_change': False, 'notice': False, 'product_id': [11925, '[25252] Guardapolvo (1.20) Bronce Autom 84120BM *25252*'], 'attribute_value_ids': [], 'custom_attribute_value_ids': [], 'price_unit': 162.74, 'qty': 1.0, 'price_subtotal': 162.74, 'price_subtotal_incl': 188.78, 'price_extra': 0.0, 'margin': 62.59, 'margin_percent': 0.3846, 'total_cost': 100.15, 'is_total_cost_computed': True, 'discount': 0.0, 'order_id': [6396, 'PdV SJC/3695'], 'tax_ids': [14], 'tax_ids_after_fiscal_position': [14], 'pack_lot_ids': [], 'product_uom_id': [1, 'Unidades'], 'currency_id': [32, 'MXN'], 'full_product_name': 'Guardapolvo (1.20) Bronce Autom 84120BM *25252*', 'customer_note': False, 'refund_orderline_ids': [16085], 'refunded_orderline_id': False, 'refunded_qty': 1.0, 'uuid': '4a554b6a-be4e-4a79-a530-2aac8dc100d8', 'combo_parent_id': False, 'combo_line_ids': [], 'display_name': '[25252] Guardapolvo (1.20) Bronce Autom 84120BM *25252*', 'create_uid': [238, 'Karely Guadalupe Green Ceseña'], 'create_date': '2024-02-21 15:11:41', 'write_uid': [238, 'Karely Guadalupe Green Ceseña'], 'write_date': '2024-02-21 15:11:41', 'sale_order_origin_id': [9030, 'S09030'], 'sale_order_line_id': [24504, 'S09030 - [25252] Guardapolvo (1.20) Bronce Autom 84120BM *25252* (ELMER MONZON HERNANDEZ)'], 'down_payment_details': False}\n",
      "[24504, 'S09030 - [25252] Guardapolvo (1.20) Bronce Autom 84120BM *25252* (ELMER MONZON HERNANDEZ)'] weppp\n",
      "res_id \n",
      "15901\n",
      "{'id': 14029, 'company_id': [1, 'La Casa Del Carpintero De Los Cabos'], 'name': 'PdV SJC/8355', 'skip_change': False, 'notice': False, 'product_id': [13973, '[4320] Broca P/Router MK Bisel 45° 5/8\" D-02484 *4320*'], 'attribute_value_ids': [], 'custom_attribute_value_ids': [], 'price_unit': 901.88, 'qty': 1.0, 'price_subtotal': 901.88, 'price_subtotal_incl': 1046.18, 'price_extra': 0.0, 'margin': 346.88, 'margin_percent': 0.3846, 'total_cost': 555.0, 'is_total_cost_computed': True, 'discount': 0.0, 'order_id': [5638, 'PdV SJC/3261'], 'tax_ids': [14], 'tax_ids_after_fiscal_position': [14], 'pack_lot_ids': [], 'product_uom_id': [1, 'Unidades'], 'currency_id': [32, 'MXN'], 'full_product_name': 'Broca P/Router MK Bisel 45° 5/8\" D-02484 *4320*', 'customer_note': False, 'refund_orderline_ids': [14047], 'refunded_orderline_id': False, 'refunded_qty': 1.0, 'uuid': '731e3193-2f09-419a-b4aa-461f8715fb51', 'combo_parent_id': False, 'combo_line_ids': [], 'display_name': '[4320] Broca P/Router MK Bisel 45° 5/8\" D-02484 *4320*', 'create_uid': [238, 'Karely Guadalupe Green Ceseña'], 'create_date': '2024-02-14 19:35:17', 'write_uid': [238, 'Karely Guadalupe Green Ceseña'], 'write_date': '2024-02-14 19:35:17', 'sale_order_origin_id': [8029, 'S08029'], 'sale_order_line_id': [21826, 'S08029 - [4320] Broca P/Router MK Bisel 45° 5/8\" D-02484 *4320* (Mostrador)'], 'down_payment_details': False}\n",
      "[21826, 'S08029 - [4320] Broca P/Router MK Bisel 45° 5/8\" D-02484 *4320* (Mostrador)'] weppp\n",
      "res_id \n",
      "14029\n",
      "{'id': 13501, 'company_id': [1, 'La Casa Del Carpintero De Los Cabos'], 'name': 'PdV SJC/8003', 'skip_change': False, 'notice': False, 'product_id': [12716, '[3619] Pala Cuad. (Pcl-P) Truper 17176 *3619*'], 'attribute_value_ids': [], 'custom_attribute_value_ids': [], 'price_unit': 258.46, 'qty': 4.0, 'price_subtotal': 827.07, 'price_subtotal_incl': 959.4, 'price_extra': 0.0, 'margin': 190.87, 'margin_percent': 0.2308, 'total_cost': 636.2, 'is_total_cost_computed': True, 'discount': 20.0, 'order_id': [5420, 'PdV SJC/3126'], 'tax_ids': [14], 'tax_ids_after_fiscal_position': [14], 'pack_lot_ids': [], 'product_uom_id': [1, 'Unidades'], 'currency_id': [32, 'MXN'], 'full_product_name': 'Pala Cuad. (Pcl-P) Truper 17176 *3619*', 'customer_note': False, 'refund_orderline_ids': [14041], 'refunded_orderline_id': False, 'refunded_qty': 4.0, 'uuid': '1978090c-a866-459e-bcae-3e00e3764021', 'combo_parent_id': False, 'combo_line_ids': [], 'display_name': '[3619] Pala Cuad. (Pcl-P) Truper 17176 *3619*', 'create_uid': [229, 'Yamileth Marianda González Oje'], 'create_date': '2024-02-13 00:20:55', 'write_uid': [229, 'Yamileth Marianda González Oje'], 'write_date': '2024-02-13 00:20:55', 'sale_order_origin_id': [7695, 'S07695'], 'sale_order_line_id': [20985, 'S07695 - [3619] Pala Cuad. (Pcl-P) Truper 17176 *3619* (PRESTIGE HOMES)'], 'down_payment_details': False}\n",
      "[20985, 'S07695 - [3619] Pala Cuad. (Pcl-P) Truper 17176 *3619* (PRESTIGE HOMES)'] weppp\n",
      "res_id \n",
      "13501\n",
      "{'id': 13502, 'company_id': [1, 'La Casa Del Carpintero De Los Cabos'], 'name': 'PdV SJC/8004', 'skip_change': False, 'notice': False, 'product_id': [13642, '[24721] Barreta P/1\"x150cm, Escoplo 72mm#10756 *24721*'], 'attribute_value_ids': [], 'custom_attribute_value_ids': [], 'price_unit': 586.27, 'qty': 1.0, 'price_subtotal': 469.02, 'price_subtotal_incl': 544.0600000000001, 'price_extra': 0.0, 'margin': 108.24000000000001, 'margin_percent': 0.2308, 'total_cost': 360.78, 'is_total_cost_computed': True, 'discount': 20.0, 'order_id': [5420, 'PdV SJC/3126'], 'tax_ids': [14], 'tax_ids_after_fiscal_position': [14], 'pack_lot_ids': [], 'product_uom_id': [1, 'Unidades'], 'currency_id': [32, 'MXN'], 'full_product_name': 'Barreta P/1\"x150cm, Escoplo 72mm#10756 *24721*', 'customer_note': False, 'refund_orderline_ids': [14042], 'refunded_orderline_id': False, 'refunded_qty': 1.0, 'uuid': '96ac461c-12d0-49ba-8bed-95ef5fb819ae', 'combo_parent_id': False, 'combo_line_ids': [], 'display_name': '[24721] Barreta P/1\"x150cm, Escoplo 72mm#10756 *24721*', 'create_uid': [229, 'Yamileth Marianda González Oje'], 'create_date': '2024-02-13 00:20:55', 'write_uid': [229, 'Yamileth Marianda González Oje'], 'write_date': '2024-02-13 00:20:55', 'sale_order_origin_id': [7695, 'S07695'], 'sale_order_line_id': [20987, 'S07695 - [24721] Barreta P/1\"x150cm, Escoplo 72mm#10756 *24721* (PRESTIGE HOMES)'], 'down_payment_details': False}\n",
      "[20987, 'S07695 - [24721] Barreta P/1\"x150cm, Escoplo 72mm#10756 *24721* (PRESTIGE HOMES)'] weppp\n",
      "res_id \n",
      "13502\n",
      "{'id': 13503, 'company_id': [1, 'La Casa Del Carpintero De Los Cabos'], 'name': 'PdV SJC/8005', 'skip_change': False, 'notice': False, 'product_id': [14327, '[30032] Carretilla 5.5 Trup CAT-50FF Imp #10252 *30032*'], 'attribute_value_ids': [], 'custom_attribute_value_ids': [], 'price_unit': 1733.57, 'qty': 2.0, 'price_subtotal': 2773.71, 'price_subtotal_incl': 3217.5, 'price_extra': 0.0, 'margin': 640.09, 'margin_percent': 0.2308, 'total_cost': 2133.62, 'is_total_cost_computed': True, 'discount': 20.0, 'order_id': [5420, 'PdV SJC/3126'], 'tax_ids': [14], 'tax_ids_after_fiscal_position': [14], 'pack_lot_ids': [], 'product_uom_id': [1, 'Unidades'], 'currency_id': [32, 'MXN'], 'full_product_name': 'Carretilla 5.5 Trup CAT-50FF Imp #10252 *30032*', 'customer_note': False, 'refund_orderline_ids': [14043], 'refunded_orderline_id': False, 'refunded_qty': 2.0, 'uuid': '2038b5f7-2874-4e70-a151-9094d75ff0e5', 'combo_parent_id': False, 'combo_line_ids': [], 'display_name': '[30032] Carretilla 5.5 Trup CAT-50FF Imp #10252 *30032*', 'create_uid': [229, 'Yamileth Marianda González Oje'], 'create_date': '2024-02-13 00:20:55', 'write_uid': [229, 'Yamileth Marianda González Oje'], 'write_date': '2024-02-13 00:20:55', 'sale_order_origin_id': [7695, 'S07695'], 'sale_order_line_id': [20997, 'S07695 - [30032] Carretilla 5.5 Trup CAT-50FF Imp #10252 *30032* (PRESTIGE HOMES)'], 'down_payment_details': False}\n",
      "[20997, 'S07695 - [30032] Carretilla 5.5 Trup CAT-50FF Imp #10252 *30032* (PRESTIGE HOMES)'] weppp\n",
      "res_id \n",
      "13503\n",
      "{'id': 13970, 'company_id': [1, 'La Casa Del Carpintero De Los Cabos'], 'name': 'PdV SJC/8315', 'skip_change': False, 'notice': False, 'product_id': [9397, '[121490] Punta PH3 x2\" Truper Expert #12149 (5pz) *121490*'], 'attribute_value_ids': [], 'custom_attribute_value_ids': [], 'price_unit': 35.3, 'qty': 1.0, 'price_subtotal': 35.300000000000004, 'price_subtotal_incl': 40.95, 'price_extra': 0.0, 'margin': 13.58, 'margin_percent': 0.38470000000000004, 'total_cost': 21.72, 'is_total_cost_computed': True, 'discount': 0.0, 'order_id': [5609, 'PdV SJC/3242'], 'tax_ids': [14], 'tax_ids_after_fiscal_position': [14], 'pack_lot_ids': [], 'product_uom_id': [1, 'Unidades'], 'currency_id': [32, 'MXN'], 'full_product_name': 'Punta PH3 x2\" Truper Expert #12149 (5pz) *121490*', 'customer_note': False, 'refund_orderline_ids': [14015], 'refunded_orderline_id': False, 'refunded_qty': 1.0, 'uuid': 'c725319d-a6b7-4a55-9d69-36c7608ef5d2', 'combo_parent_id': False, 'combo_line_ids': [], 'display_name': '[121490] Punta PH3 x2\" Truper Expert #12149 (5pz) *121490*', 'create_uid': [238, 'Karely Guadalupe Green Ceseña'], 'create_date': '2024-02-14 17:44:20', 'write_uid': [238, 'Karely Guadalupe Green Ceseña'], 'write_date': '2024-02-14 17:44:20', 'sale_order_origin_id': [7973, 'S07973'], 'sale_order_line_id': [21734, 'S07973 - [121490] Punta PH3 x2\" Truper Expert #12149 (5pz) *121490* (Mostrador)'], 'down_payment_details': False}\n",
      "[21734, 'S07973 - [121490] Punta PH3 x2\" Truper Expert #12149 (5pz) *121490* (Mostrador)'] weppp\n",
      "res_id \n",
      "13970\n",
      "{'id': 13607, 'company_id': [1, 'La Casa Del Carpintero De Los Cabos'], 'name': 'PdV SJC/8064', 'skip_change': False, 'notice': False, 'product_id': [14520, '[195] Sellador Sayer NS-44/300 (19L) Concentra *195*'], 'attribute_value_ids': [], 'custom_attribute_value_ids': [], 'price_unit': 3065.75, 'qty': 2.0, 'price_subtotal': 4905.2, 'price_subtotal_incl': 5690.03, 'price_extra': 0.0, 'margin': 817.54, 'margin_percent': 0.16670000000000001, 'total_cost': 4087.66, 'is_total_cost_computed': True, 'discount': 20.0, 'order_id': [5461, 'PdV SJC/3153'], 'tax_ids': [14], 'tax_ids_after_fiscal_position': [14], 'pack_lot_ids': [], 'product_uom_id': [1, 'Unidades'], 'currency_id': [32, 'MXN'], 'full_product_name': 'Sellador Sayer NS-44/300 (19L) Concentra *195*', 'customer_note': False, 'refund_orderline_ids': [13893], 'refunded_orderline_id': False, 'refunded_qty': 2.0, 'uuid': '343c937c-7a78-4a72-9712-bbdf626f681a', 'combo_parent_id': False, 'combo_line_ids': [], 'display_name': '[195] Sellador Sayer NS-44/300 (19L) Concentra *195*', 'create_uid': [238, 'Karely Guadalupe Green Ceseña'], 'create_date': '2024-02-13 17:13:52', 'write_uid': [238, 'Karely Guadalupe Green Ceseña'], 'write_date': '2024-02-13 17:13:52', 'sale_order_origin_id': [7775, 'S07775'], 'sale_order_line_id': [21170, 'S07775 - [195] Sellador Sayer NS-44/300 (19L) Concentra *195* (MANTENIMIENTO Y REMODELACION CABAÑAS)'], 'down_payment_details': False}\n",
      "[21170, 'S07775 - [195] Sellador Sayer NS-44/300 (19L) Concentra *195* (MANTENIMIENTO Y REMODELACION CABAÑAS)'] weppp\n",
      "res_id \n",
      "13607\n",
      "{'id': 13608, 'company_id': [1, 'La Casa Del Carpintero De Los Cabos'], 'name': 'PdV SJC/8065', 'skip_change': False, 'notice': False, 'product_id': [14370, '[9471] Diluyente Sayer D-8000 (20L) Americano *9471*'], 'attribute_value_ids': [], 'custom_attribute_value_ids': [], 'price_unit': 1797.9, 'qty': 4.0, 'price_subtotal': 5753.28, 'price_subtotal_incl': 6673.8, 'price_extra': 0.0, 'margin': 958.88, 'margin_percent': 0.16670000000000001, 'total_cost': 4794.4, 'is_total_cost_computed': True, 'discount': 20.0, 'order_id': [5461, 'PdV SJC/3153'], 'tax_ids': [14], 'tax_ids_after_fiscal_position': [14], 'pack_lot_ids': [], 'product_uom_id': [1, 'Unidades'], 'currency_id': [32, 'MXN'], 'full_product_name': 'Diluyente Sayer D-8000 (20L) Americano *9471*', 'customer_note': False, 'refund_orderline_ids': [13894], 'refunded_orderline_id': False, 'refunded_qty': 4.0, 'uuid': '53a63a47-6653-4bfe-9620-f3b20cf8a3a7', 'combo_parent_id': False, 'combo_line_ids': [], 'display_name': '[9471] Diluyente Sayer D-8000 (20L) Americano *9471*', 'create_uid': [238, 'Karely Guadalupe Green Ceseña'], 'create_date': '2024-02-13 17:13:52', 'write_uid': [238, 'Karely Guadalupe Green Ceseña'], 'write_date': '2024-02-13 17:13:52', 'sale_order_origin_id': [7775, 'S07775'], 'sale_order_line_id': [21171, 'S07775 - [9471] Diluyente Sayer D-8000 (20L) Americano *9471* (MANTENIMIENTO Y REMODELACION CABAÑAS)'], 'down_payment_details': False}\n",
      "[21171, 'S07775 - [9471] Diluyente Sayer D-8000 (20L) Americano *9471* (MANTENIMIENTO Y REMODELACION CABAÑAS)'] weppp\n",
      "res_id \n",
      "13608\n",
      "{'id': 13609, 'company_id': [1, 'La Casa Del Carpintero De Los Cabos'], 'name': 'PdV SJC/8066', 'skip_change': False, 'notice': False, 'product_id': [14063, '[13169] Thinner Sayer D-0002 (20L) Estandar *13169*'], 'attribute_value_ids': [], 'custom_attribute_value_ids': [], 'price_unit': 940.95, 'qty': 2.0, 'price_subtotal': 1505.52, 'price_subtotal_incl': 1746.4, 'price_extra': 0.0, 'margin': 250.92000000000002, 'margin_percent': 0.16670000000000001, 'total_cost': 1254.6, 'is_total_cost_computed': True, 'discount': 20.0, 'order_id': [5461, 'PdV SJC/3153'], 'tax_ids': [14], 'tax_ids_after_fiscal_position': [14], 'pack_lot_ids': [], 'product_uom_id': [1, 'Unidades'], 'currency_id': [32, 'MXN'], 'full_product_name': 'Thinner Sayer D-0002 (20L) Estandar *13169*', 'customer_note': False, 'refund_orderline_ids': [13895], 'refunded_orderline_id': False, 'refunded_qty': 2.0, 'uuid': 'd9a5668c-9486-4e41-8ecf-e379559b2fc1', 'combo_parent_id': False, 'combo_line_ids': [], 'display_name': '[13169] Thinner Sayer D-0002 (20L) Estandar *13169*', 'create_uid': [238, 'Karely Guadalupe Green Ceseña'], 'create_date': '2024-02-13 17:13:52', 'write_uid': [238, 'Karely Guadalupe Green Ceseña'], 'write_date': '2024-02-13 17:13:52', 'sale_order_origin_id': [7775, 'S07775'], 'sale_order_line_id': [21172, 'S07775 - [13169] Thinner Sayer D-0002 (20L) Estandar *13169* (MANTENIMIENTO Y REMODELACION CABAÑAS)'], 'down_payment_details': False}\n",
      "[21172, 'S07775 - [13169] Thinner Sayer D-0002 (20L) Estandar *13169* (MANTENIMIENTO Y REMODELACION CABAÑAS)'] weppp\n",
      "res_id \n",
      "13609\n",
      "{'id': 13610, 'company_id': [1, 'La Casa Del Carpintero De Los Cabos'], 'name': 'PdV SJC/8067', 'skip_change': False, 'notice': False, 'product_id': [8101, '[3389] Lija Dis. C/Vel. 5\" G- 80 Fan. C#7 *3389*'], 'attribute_value_ids': [], 'custom_attribute_value_ids': [], 'price_unit': 7.56, 'qty': 100.0, 'price_subtotal': 604.8000000000001, 'price_subtotal_incl': 701.57, 'price_extra': 0.0, 'margin': 139.8, 'margin_percent': 0.23120000000000002, 'total_cost': 465.0, 'is_total_cost_computed': True, 'discount': 20.0, 'order_id': [5461, 'PdV SJC/3153'], 'tax_ids': [14], 'tax_ids_after_fiscal_position': [14], 'pack_lot_ids': [], 'product_uom_id': [1, 'Unidades'], 'currency_id': [32, 'MXN'], 'full_product_name': 'Lija Dis. C/Vel. 5\" G- 80 Fan. C#7 *3389*', 'customer_note': False, 'refund_orderline_ids': [13896], 'refunded_orderline_id': False, 'refunded_qty': 100.0, 'uuid': '8e29337b-ae03-4835-afcf-c7003670604e', 'combo_parent_id': False, 'combo_line_ids': [], 'display_name': '[3389] Lija Dis. C/Vel. 5\" G- 80 Fan. C#7 *3389*', 'create_uid': [238, 'Karely Guadalupe Green Ceseña'], 'create_date': '2024-02-13 17:13:52', 'write_uid': [238, 'Karely Guadalupe Green Ceseña'], 'write_date': '2024-02-13 17:13:52', 'sale_order_origin_id': [7775, 'S07775'], 'sale_order_line_id': [21173, 'S07775 - [3389] Lija Dis. C/Vel. 5\" G- 80 Fan. C#7 *3389* (MANTENIMIENTO Y REMODELACION CABAÑAS)'], 'down_payment_details': False}\n",
      "[21173, 'S07775 - [3389] Lija Dis. C/Vel. 5\" G- 80 Fan. C#7 *3389* (MANTENIMIENTO Y REMODELACION CABAÑAS)'] weppp\n",
      "res_id \n",
      "13610\n",
      "{'id': 13611, 'company_id': [1, 'La Casa Del Carpintero De Los Cabos'], 'name': 'PdV SJC/8068', 'skip_change': False, 'notice': False, 'product_id': [13806, '[12719] Plasti Sayer KF-0500 (4Lt) C/Catali Rojo *12719*'], 'attribute_value_ids': [], 'custom_attribute_value_ids': [], 'price_unit': 662.88, 'qty': 2.0, 'price_subtotal': 1060.6100000000001, 'price_subtotal_incl': 1230.31, 'price_extra': 0.0, 'margin': 176.77, 'margin_percent': 0.16670000000000001, 'total_cost': 883.84, 'is_total_cost_computed': True, 'discount': 20.0, 'order_id': [5461, 'PdV SJC/3153'], 'tax_ids': [14], 'tax_ids_after_fiscal_position': [14], 'pack_lot_ids': [], 'product_uom_id': [1, 'Unidades'], 'currency_id': [32, 'MXN'], 'full_product_name': 'Plasti Sayer KF-0500 (4Lt) C/Catali Rojo *12719*', 'customer_note': False, 'refund_orderline_ids': [13897], 'refunded_orderline_id': False, 'refunded_qty': 2.0, 'uuid': '341e08f7-6fa2-4374-a679-8af52ab1f7af', 'combo_parent_id': False, 'combo_line_ids': [], 'display_name': '[12719] Plasti Sayer KF-0500 (4Lt) C/Catali Rojo *12719*', 'create_uid': [238, 'Karely Guadalupe Green Ceseña'], 'create_date': '2024-02-13 17:13:52', 'write_uid': [238, 'Karely Guadalupe Green Ceseña'], 'write_date': '2024-02-13 17:13:52', 'sale_order_origin_id': [7775, 'S07775'], 'sale_order_line_id': [21174, 'S07775 - [12719] Plasti Sayer KF-0500 (4Lt) C/Catali Rojo *12719* (MANTENIMIENTO Y REMODELACION CABAÑAS)'], 'down_payment_details': False}\n",
      "[21174, 'S07775 - [12719] Plasti Sayer KF-0500 (4Lt) C/Catali Rojo *12719* (MANTENIMIENTO Y REMODELACION CABAÑAS)'] weppp\n",
      "res_id \n",
      "13611\n",
      "{'id': 13612, 'company_id': [1, 'La Casa Del Carpintero De Los Cabos'], 'name': 'PdV SJC/8069', 'skip_change': False, 'notice': False, 'product_id': [14446, '[9547] Diluyente Sayer D-0500 (20L) P/Poliureta *9547*'], 'attribute_value_ids': [], 'custom_attribute_value_ids': [], 'price_unit': 2296.2, 'qty': 1.0, 'price_subtotal': 1836.96, 'price_subtotal_incl': 2130.87, 'price_extra': 0.0, 'margin': 306.16, 'margin_percent': 0.16670000000000001, 'total_cost': 1530.8, 'is_total_cost_computed': True, 'discount': 20.0, 'order_id': [5461, 'PdV SJC/3153'], 'tax_ids': [14], 'tax_ids_after_fiscal_position': [14], 'pack_lot_ids': [], 'product_uom_id': [1, 'Unidades'], 'currency_id': [32, 'MXN'], 'full_product_name': 'Diluyente Sayer D-0500 (20L) P/Poliureta *9547*', 'customer_note': False, 'refund_orderline_ids': [13898], 'refunded_orderline_id': False, 'refunded_qty': 1.0, 'uuid': 'eee1a77a-7394-4c1e-b680-b1149c2d813f', 'combo_parent_id': False, 'combo_line_ids': [], 'display_name': '[9547] Diluyente Sayer D-0500 (20L) P/Poliureta *9547*', 'create_uid': [238, 'Karely Guadalupe Green Ceseña'], 'create_date': '2024-02-13 17:13:52', 'write_uid': [238, 'Karely Guadalupe Green Ceseña'], 'write_date': '2024-02-13 17:13:52', 'sale_order_origin_id': [7775, 'S07775'], 'sale_order_line_id': [21181, 'S07775 - [9547] Diluyente Sayer D-0500 (20L) P/Poliureta *9547* (MANTENIMIENTO Y REMODELACION CABAÑAS)'], 'down_payment_details': False}\n",
      "[21181, 'S07775 - [9547] Diluyente Sayer D-0500 (20L) P/Poliureta *9547* (MANTENIMIENTO Y REMODELACION CABAÑAS)'] weppp\n",
      "res_id \n",
      "13612\n",
      "{'id': 13672, 'company_id': [1, 'La Casa Del Carpintero De Los Cabos'], 'name': 'PdV SJC/8112', 'skip_change': False, 'notice': False, 'product_id': [11172, '[16292] Pija Drywall 8 x 1 1/4\" 15420  (Kg) *16292*'], 'attribute_value_ids': [], 'custom_attribute_value_ids': [], 'price_unit': 98.31, 'qty': 0.25, 'price_subtotal': 24.580000000000002, 'price_subtotal_incl': 28.51, 'price_extra': 0.0, 'margin': 8.19, 'margin_percent': 0.3332, 'total_cost': 16.39, 'is_total_cost_computed': True, 'discount': 0.0, 'order_id': [5493, 'PdV SJC/3175'], 'tax_ids': [14], 'tax_ids_after_fiscal_position': [14], 'pack_lot_ids': [], 'product_uom_id': [1, 'Unidades'], 'currency_id': [32, 'MXN'], 'full_product_name': 'Pija Drywall 8 x 1 1/4\" 15420  (Kg) *16292*', 'customer_note': False, 'refund_orderline_ids': [13738], 'refunded_orderline_id': False, 'refunded_qty': 0.25, 'uuid': '2ab145ca-4570-47f6-b1be-5806d071976d', 'combo_parent_id': False, 'combo_line_ids': [], 'display_name': '[16292] Pija Drywall 8 x 1 1/4\" 15420  (Kg) *16292*', 'create_uid': [238, 'Karely Guadalupe Green Ceseña'], 'create_date': '2024-02-13 18:42:11', 'write_uid': [238, 'Karely Guadalupe Green Ceseña'], 'write_date': '2024-02-13 18:42:11', 'sale_order_origin_id': [7820, 'S07820'], 'sale_order_line_id': [21279, 'S07820 - [16292] Pija Drywall 8 x 1 1/4\" 15420  (Kg) *16292* (Mostrador)'], 'down_payment_details': False}\n",
      "[21279, 'S07820 - [16292] Pija Drywall 8 x 1 1/4\" 15420  (Kg) *16292* (Mostrador)'] weppp\n",
      "res_id \n",
      "13672\n",
      "{'id': 13673, 'company_id': [1, 'La Casa Del Carpintero De Los Cabos'], 'name': 'PdV SJC/8113', 'skip_change': False, 'notice': False, 'product_id': [9512, '[972] Brocha Exito (Rubi) 2 1/2\" *972*'], 'attribute_value_ids': [], 'custom_attribute_value_ids': [], 'price_unit': 48.34, 'qty': 1.0, 'price_subtotal': 48.34, 'price_subtotal_incl': 56.07, 'price_extra': 0.0, 'margin': 18.59, 'margin_percent': 0.3846, 'total_cost': 29.75, 'is_total_cost_computed': True, 'discount': 0.0, 'order_id': [5493, 'PdV SJC/3175'], 'tax_ids': [14], 'tax_ids_after_fiscal_position': [14], 'pack_lot_ids': [], 'product_uom_id': [1, 'Unidades'], 'currency_id': [32, 'MXN'], 'full_product_name': 'Brocha Exito (Rubi) 2 1/2\" *972*', 'customer_note': False, 'refund_orderline_ids': [13739], 'refunded_orderline_id': False, 'refunded_qty': 1.0, 'uuid': '9135a4bc-bf72-4241-bd8e-0216be75b7ac', 'combo_parent_id': False, 'combo_line_ids': [], 'display_name': '[972] Brocha Exito (Rubi) 2 1/2\" *972*', 'create_uid': [238, 'Karely Guadalupe Green Ceseña'], 'create_date': '2024-02-13 18:42:11', 'write_uid': [238, 'Karely Guadalupe Green Ceseña'], 'write_date': '2024-02-13 18:42:11', 'sale_order_origin_id': [7820, 'S07820'], 'sale_order_line_id': [21280, 'S07820 - [972] Brocha Exito (Rubi) 2 1/2\" *972* (Mostrador)'], 'down_payment_details': False}\n",
      "[21280, 'S07820 - [972] Brocha Exito (Rubi) 2 1/2\" *972* (Mostrador)'] weppp\n",
      "res_id \n",
      "13673\n",
      "{'id': 13674, 'company_id': [1, 'La Casa Del Carpintero De Los Cabos'], 'name': 'PdV SJC/8114', 'skip_change': False, 'notice': False, 'product_id': [7841, '[5286] Tornillo C/Redonda 1/4* 1 1/2\"  C#101 *5286*'], 'attribute_value_ids': [], 'custom_attribute_value_ids': [], 'price_unit': 2.88, 'qty': 12.0, 'price_subtotal': 34.56, 'price_subtotal_incl': 40.09, 'price_extra': 0.0, 'margin': 13.32, 'margin_percent': 0.3854, 'total_cost': 21.24, 'is_total_cost_computed': True, 'discount': 0.0, 'order_id': [5493, 'PdV SJC/3175'], 'tax_ids': [14], 'tax_ids_after_fiscal_position': [14], 'pack_lot_ids': [], 'product_uom_id': [1, 'Unidades'], 'currency_id': [32, 'MXN'], 'full_product_name': 'Tornillo C/Redonda 1/4* 1 1/2\"  C#101 *5286*', 'customer_note': False, 'refund_orderline_ids': [13740], 'refunded_orderline_id': False, 'refunded_qty': 12.0, 'uuid': '2d10c810-8034-4df5-b813-b0ea87c8a9f9', 'combo_parent_id': False, 'combo_line_ids': [], 'display_name': '[5286] Tornillo C/Redonda 1/4* 1 1/2\"  C#101 *5286*', 'create_uid': [238, 'Karely Guadalupe Green Ceseña'], 'create_date': '2024-02-13 18:42:11', 'write_uid': [238, 'Karely Guadalupe Green Ceseña'], 'write_date': '2024-02-13 18:42:11', 'sale_order_origin_id': [7820, 'S07820'], 'sale_order_line_id': [21281, 'S07820 - [5286] Tornillo C/Redonda 1/4* 1 1/2\"  C#101 *5286* (Mostrador)'], 'down_payment_details': False}\n",
      "[21281, 'S07820 - [5286] Tornillo C/Redonda 1/4* 1 1/2\"  C#101 *5286* (Mostrador)'] weppp\n",
      "res_id \n",
      "13674\n",
      "{'id': 13675, 'company_id': [1, 'La Casa Del Carpintero De Los Cabos'], 'name': 'PdV SJC/8115', 'skip_change': False, 'notice': False, 'product_id': [12537, '[12028] Barniz Sayer LT-0117 (1Lt) Caoba Ingles *12028*'], 'attribute_value_ids': [], 'custom_attribute_value_ids': [], 'price_unit': 214.17, 'qty': 1.0, 'price_subtotal': 214.17000000000002, 'price_subtotal_incl': 248.44, 'price_extra': 0.0, 'margin': 71.39, 'margin_percent': 0.33330000000000004, 'total_cost': 142.78, 'is_total_cost_computed': True, 'discount': 0.0, 'order_id': [5493, 'PdV SJC/3175'], 'tax_ids': [14], 'tax_ids_after_fiscal_position': [14], 'pack_lot_ids': [], 'product_uom_id': [1, 'Unidades'], 'currency_id': [32, 'MXN'], 'full_product_name': 'Barniz Sayer LT-0117 (1Lt) Caoba Ingles *12028*', 'customer_note': False, 'refund_orderline_ids': [13741], 'refunded_orderline_id': False, 'refunded_qty': 1.0, 'uuid': '755962f5-6c8b-416b-87d5-e131f27f9fff', 'combo_parent_id': False, 'combo_line_ids': [], 'display_name': '[12028] Barniz Sayer LT-0117 (1Lt) Caoba Ingles *12028*', 'create_uid': [238, 'Karely Guadalupe Green Ceseña'], 'create_date': '2024-02-13 18:42:11', 'write_uid': [238, 'Karely Guadalupe Green Ceseña'], 'write_date': '2024-02-13 18:42:11', 'sale_order_origin_id': [7820, 'S07820'], 'sale_order_line_id': [21282, 'S07820 - [12028] Barniz Sayer LT-0117 (1Lt) Caoba Ingles *12028* (Mostrador)'], 'down_payment_details': False}\n",
      "[21282, 'S07820 - [12028] Barniz Sayer LT-0117 (1Lt) Caoba Ingles *12028* (Mostrador)'] weppp\n",
      "res_id \n",
      "13675\n",
      "{'id': 13426, 'company_id': [1, 'La Casa Del Carpintero De Los Cabos'], 'name': 'PdV SJC/7954', 'skip_change': False, 'notice': False, 'product_id': [9051, '[16439] Bis. Dex #7209 3x3\" Arq S/Bal CS (Par) *16439*'], 'attribute_value_ids': [], 'custom_attribute_value_ids': [], 'price_unit': 53.56, 'qty': 1.0, 'price_subtotal': 53.56, 'price_subtotal_incl': 62.13, 'price_extra': 0.0, 'margin': 20.6, 'margin_percent': 0.3846, 'total_cost': 32.96, 'is_total_cost_computed': True, 'discount': 0.0, 'order_id': [5373, 'PdV SJC/3098'], 'tax_ids': [14], 'tax_ids_after_fiscal_position': [14], 'pack_lot_ids': [], 'product_uom_id': [1, 'Unidades'], 'currency_id': [32, 'MXN'], 'full_product_name': 'Bis. Dex #7209 3x3\" Arq S/Bal CS (Par) *16439*', 'customer_note': False, 'refund_orderline_ids': [13442], 'refunded_orderline_id': False, 'refunded_qty': 1.0, 'uuid': 'f3453e04-8bdf-429c-97a5-7553fd9e941f', 'combo_parent_id': False, 'combo_line_ids': [], 'display_name': '[16439] Bis. Dex #7209 3x3\" Arq S/Bal CS (Par) *16439*', 'create_uid': [229, 'Yamileth Marianda González Oje'], 'create_date': '2024-02-12 21:37:45', 'write_uid': [229, 'Yamileth Marianda González Oje'], 'write_date': '2024-02-12 21:37:45', 'sale_order_origin_id': [7656, 'S07656'], 'sale_order_line_id': [20863, 'S07656 - [16439] Bis. Dex #7209 3x3\" Arq S/Bal CS (Par) *16439* (JOLMAN MIGUEL BAZ MUÑOZ)'], 'down_payment_details': False}\n",
      "[20863, 'S07656 - [16439] Bis. Dex #7209 3x3\" Arq S/Bal CS (Par) *16439* (JOLMAN MIGUEL BAZ MUÑOZ)'] weppp\n",
      "res_id \n",
      "13426\n",
      "{'id': 13427, 'company_id': [1, 'La Casa Del Carpintero De Los Cabos'], 'name': 'PdV SJC/7955', 'skip_change': False, 'notice': False, 'product_id': [12078, '[68860] Chapa Dexter Barza S/LLave LA 6686 *68860*'], 'attribute_value_ids': [], 'custom_attribute_value_ids': [], 'price_unit': 181.9, 'qty': 1.0, 'price_subtotal': 181.9, 'price_subtotal_incl': 211.0, 'price_extra': 0.0, 'margin': 69.96000000000001, 'margin_percent': 0.3846, 'total_cost': 111.94, 'is_total_cost_computed': True, 'discount': 0.0, 'order_id': [5373, 'PdV SJC/3098'], 'tax_ids': [14], 'tax_ids_after_fiscal_position': [14], 'pack_lot_ids': [], 'product_uom_id': [1, 'Unidades'], 'currency_id': [32, 'MXN'], 'full_product_name': 'Chapa Dexter Barza S/LLave LA 6686 *68860*', 'customer_note': False, 'refund_orderline_ids': [13443], 'refunded_orderline_id': False, 'refunded_qty': 1.0, 'uuid': '0632e55b-143a-4eba-baaa-783d0cfea4c3', 'combo_parent_id': False, 'combo_line_ids': [], 'display_name': '[68860] Chapa Dexter Barza S/LLave LA 6686 *68860*', 'create_uid': [229, 'Yamileth Marianda González Oje'], 'create_date': '2024-02-12 21:37:45', 'write_uid': [229, 'Yamileth Marianda González Oje'], 'write_date': '2024-02-12 21:37:45', 'sale_order_origin_id': [7656, 'S07656'], 'sale_order_line_id': [20864, 'S07656 - [68860] Chapa Dexter Barza S/LLave LA 6686 *68860* (JOLMAN MIGUEL BAZ MUÑOZ)'], 'down_payment_details': False}\n",
      "[20864, 'S07656 - [68860] Chapa Dexter Barza S/LLave LA 6686 *68860* (JOLMAN MIGUEL BAZ MUÑOZ)'] weppp\n",
      "res_id \n",
      "13427\n",
      "{'id': 12431, 'company_id': [1, 'La Casa Del Carpintero De Los Cabos'], 'name': 'PdV SJC/7360', 'skip_change': False, 'notice': False, 'product_id': [10078, '[12975] Thinner Sayer D-0002 (1Lt) Estandar *12975*'], 'attribute_value_ids': [], 'custom_attribute_value_ids': [], 'price_unit': 51.64, 'qty': 2.0, 'price_subtotal': 103.28, 'price_subtotal_incl': 119.8, 'price_extra': 0.0, 'margin': 34.42, 'margin_percent': 0.33330000000000004, 'total_cost': 68.86, 'is_total_cost_computed': True, 'discount': 0.0, 'order_id': [4960, 'PdV SJC/2857'], 'tax_ids': [14], 'tax_ids_after_fiscal_position': [14], 'pack_lot_ids': [], 'product_uom_id': [1, 'Unidades'], 'currency_id': [32, 'MXN'], 'full_product_name': 'Thinner Sayer D-0002 (1Lt) Estandar *12975*', 'customer_note': False, 'refund_orderline_ids': [12554], 'refunded_orderline_id': False, 'refunded_qty': 2.0, 'uuid': '6e9b1fa6-672d-4429-aabb-60d80526f5ff', 'combo_parent_id': False, 'combo_line_ids': [], 'display_name': '[12975] Thinner Sayer D-0002 (1Lt) Estandar *12975*', 'create_uid': [229, 'Yamileth Marianda González Oje'], 'create_date': '2024-02-08 23:33:17', 'write_uid': [229, 'Yamileth Marianda González Oje'], 'write_date': '2024-02-08 23:33:17', 'sale_order_origin_id': [7114, 'S07114'], 'sale_order_line_id': [19493, 'S07114 - [12975] Thinner Sayer D-0002 (1Lt) Estandar *12975* (ELEMENTO MOB AND DECO)'], 'down_payment_details': False}\n",
      "[19493, 'S07114 - [12975] Thinner Sayer D-0002 (1Lt) Estandar *12975* (ELEMENTO MOB AND DECO)'] weppp\n",
      "res_id \n",
      "12431\n",
      "{'id': 12432, 'company_id': [1, 'La Casa Del Carpintero De Los Cabos'], 'name': 'PdV SJC/7361', 'skip_change': False, 'notice': False, 'product_id': [12208, '[12867] Laca Sayer LI-0103 (1Lt) Ind Amaril Ocre *12867*'], 'attribute_value_ids': [], 'custom_attribute_value_ids': [], 'price_unit': 172.89, 'qty': 1.0, 'price_subtotal': 172.89000000000001, 'price_subtotal_incl': 200.55, 'price_extra': 0.0, 'margin': 57.63, 'margin_percent': 0.33330000000000004, 'total_cost': 115.26, 'is_total_cost_computed': True, 'discount': 0.0, 'order_id': [4960, 'PdV SJC/2857'], 'tax_ids': [14], 'tax_ids_after_fiscal_position': [14], 'pack_lot_ids': [], 'product_uom_id': [1, 'Unidades'], 'currency_id': [32, 'MXN'], 'full_product_name': 'Laca Sayer LI-0103 (1Lt) Ind Amaril Ocre *12867*', 'customer_note': False, 'refund_orderline_ids': [12555], 'refunded_orderline_id': False, 'refunded_qty': 1.0, 'uuid': 'edca5e5f-b8ce-44d4-b743-b533de2ad09d', 'combo_parent_id': False, 'combo_line_ids': [], 'display_name': '[12867] Laca Sayer LI-0103 (1Lt) Ind Amaril Ocre *12867*', 'create_uid': [229, 'Yamileth Marianda González Oje'], 'create_date': '2024-02-08 23:33:17', 'write_uid': [229, 'Yamileth Marianda González Oje'], 'write_date': '2024-02-08 23:33:17', 'sale_order_origin_id': [7114, 'S07114'], 'sale_order_line_id': [19494, 'S07114 - [12867] Laca Sayer LI-0103 (1Lt) Ind Amaril Ocre *12867* (ELEMENTO MOB AND DECO)'], 'down_payment_details': False}\n",
      "[19494, 'S07114 - [12867] Laca Sayer LI-0103 (1Lt) Ind Amaril Ocre *12867* (ELEMENTO MOB AND DECO)'] weppp\n",
      "res_id \n",
      "12432\n",
      "{'id': 12544, 'company_id': [1, 'La Casa Del Carpintero De Los Cabos'], 'name': 'PdV SJC/7441', 'skip_change': False, 'notice': False, 'product_id': [12141, '[11330] Tin/Ace Man-Sayer TS-6105 (1Lt) Amar Oro *11330*'], 'attribute_value_ids': [], 'custom_attribute_value_ids': [], 'price_unit': 169.98, 'qty': 2.0, 'price_subtotal': 339.96, 'price_subtotal_incl': 394.35, 'price_extra': 0.0, 'margin': 113.32000000000001, 'margin_percent': 0.33330000000000004, 'total_cost': 226.64, 'is_total_cost_computed': True, 'discount': 0.0, 'order_id': [5012, 'PdV SJC/2894'], 'tax_ids': [14], 'tax_ids_after_fiscal_position': [14], 'pack_lot_ids': [], 'product_uom_id': [1, 'Unidades'], 'currency_id': [32, 'MXN'], 'full_product_name': 'Tin/Ace Man-Sayer TS-6105 (1Lt) Amar Oro *11330*', 'customer_note': False, 'refund_orderline_ids': [12551], 'refunded_orderline_id': False, 'refunded_qty': 2.0, 'uuid': '661dc825-fe59-44fd-ae49-0849cd8e525f', 'combo_parent_id': False, 'combo_line_ids': [], 'display_name': '[11330] Tin/Ace Man-Sayer TS-6105 (1Lt) Amar Oro *11330*', 'create_uid': [229, 'Yamileth Marianda González Oje'], 'create_date': '2024-02-09 17:08:51', 'write_uid': [229, 'Yamileth Marianda González Oje'], 'write_date': '2024-02-09 17:08:51', 'sale_order_origin_id': [7192, 'S07192'], 'sale_order_line_id': [19710, 'S07192 - [11330] Tin/Ace Man-Sayer TS-6105 (1Lt) Amar Oro *11330* (JULIO CESAR REZA GONZALEZ)'], 'down_payment_details': False}\n",
      "[19710, 'S07192 - [11330] Tin/Ace Man-Sayer TS-6105 (1Lt) Amar Oro *11330* (JULIO CESAR REZA GONZALEZ)'] weppp\n",
      "res_id \n",
      "12544\n",
      "{'id': 12315, 'company_id': [1, 'La Casa Del Carpintero De Los Cabos'], 'name': 'PdV SJC/7266', 'skip_change': False, 'notice': False, 'product_id': [9617, '[1666] Grapa Truper ET-50 1/2\" #17968 *1666*'], 'attribute_value_ids': [], 'custom_attribute_value_ids': [], 'price_unit': 40.64, 'qty': 3.0, 'price_subtotal': 121.92, 'price_subtotal_incl': 141.43, 'price_extra': 0.0, 'margin': 46.89, 'margin_percent': 0.3846, 'total_cost': 75.03, 'is_total_cost_computed': True, 'discount': 0.0, 'order_id': [4918, 'PdV SJC/2831'], 'tax_ids': [14], 'tax_ids_after_fiscal_position': [14], 'pack_lot_ids': [], 'product_uom_id': [1, 'Unidades'], 'currency_id': [32, 'MXN'], 'full_product_name': 'Grapa Truper ET-50 1/2\" #17968 *1666*', 'customer_note': False, 'refund_orderline_ids': [12420], 'refunded_orderline_id': False, 'refunded_qty': 3.0, 'uuid': '215620eb-010d-40bb-863f-da1324add93f', 'combo_parent_id': False, 'combo_line_ids': [], 'display_name': '[1666] Grapa Truper ET-50 1/2\" #17968 *1666*', 'create_uid': [229, 'Yamileth Marianda González Oje'], 'create_date': '2024-02-08 21:22:30', 'write_uid': [229, 'Yamileth Marianda González Oje'], 'write_date': '2024-02-08 21:22:30', 'sale_order_origin_id': [7054, 'S07054'], 'sale_order_line_id': [19286, 'S07054 - [1666] Grapa Truper ET-50 1/2\" #17968 *1666* (SUGEY GABRIELA BOJADO VELAZQUEZ)'], 'down_payment_details': False}\n",
      "[19286, 'S07054 - [1666] Grapa Truper ET-50 1/2\" #17968 *1666* (SUGEY GABRIELA BOJADO VELAZQUEZ)'] weppp\n",
      "res_id \n",
      "12315\n",
      "{'id': 12316, 'company_id': [1, 'La Casa Del Carpintero De Los Cabos'], 'name': 'PdV SJC/7267', 'skip_change': False, 'notice': False, 'product_id': [11371, '[2993] Clavo P/Clav Neum 1\" C-18 Trup #18263 *2993*'], 'attribute_value_ids': [], 'custom_attribute_value_ids': [], 'price_unit': 119.78, 'qty': 1.0, 'price_subtotal': 119.78, 'price_subtotal_incl': 138.94, 'price_extra': 0.0, 'margin': 46.07, 'margin_percent': 0.3846, 'total_cost': 73.71, 'is_total_cost_computed': True, 'discount': 0.0, 'order_id': [4918, 'PdV SJC/2831'], 'tax_ids': [14], 'tax_ids_after_fiscal_position': [14], 'pack_lot_ids': [], 'product_uom_id': [1, 'Unidades'], 'currency_id': [32, 'MXN'], 'full_product_name': 'Clavo P/Clav Neum 1\" C-18 Trup #18263 *2993*', 'customer_note': False, 'refund_orderline_ids': [12421], 'refunded_orderline_id': False, 'refunded_qty': 1.0, 'uuid': 'e115ab6e-369b-43c0-9c9e-638175368b61', 'combo_parent_id': False, 'combo_line_ids': [], 'display_name': '[2993] Clavo P/Clav Neum 1\" C-18 Trup #18263 *2993*', 'create_uid': [229, 'Yamileth Marianda González Oje'], 'create_date': '2024-02-08 21:22:30', 'write_uid': [229, 'Yamileth Marianda González Oje'], 'write_date': '2024-02-08 21:22:30', 'sale_order_origin_id': [7054, 'S07054'], 'sale_order_line_id': [19287, 'S07054 - [2993] Clavo P/Clav Neum 1\" C-18 Trup #18263 *2993* (SUGEY GABRIELA BOJADO VELAZQUEZ)'], 'down_payment_details': False}\n",
      "[19287, 'S07054 - [2993] Clavo P/Clav Neum 1\" C-18 Trup #18263 *2993* (SUGEY GABRIELA BOJADO VELAZQUEZ)'] weppp\n",
      "res_id \n",
      "12316\n",
      "{'id': 12317, 'company_id': [1, 'La Casa Del Carpintero De Los Cabos'], 'name': 'PdV SJC/7268', 'skip_change': False, 'notice': False, 'product_id': [13776, '[10781] Clavadora Neumatica Pro C-23 Trup #13179 *10781*'], 'attribute_value_ids': [], 'custom_attribute_value_ids': [], 'price_unit': 637.8, 'qty': 1.0, 'price_subtotal': 510.24, 'price_subtotal_incl': 591.88, 'price_extra': 0.0, 'margin': 85.04, 'margin_percent': 0.16670000000000001, 'total_cost': 425.2, 'is_total_cost_computed': True, 'discount': 20.0, 'order_id': [4918, 'PdV SJC/2831'], 'tax_ids': [14], 'tax_ids_after_fiscal_position': [14], 'pack_lot_ids': [], 'product_uom_id': [1, 'Unidades'], 'currency_id': [32, 'MXN'], 'full_product_name': 'Clavadora Neumatica Pro C-23 Trup #13179 *10781*', 'customer_note': False, 'refund_orderline_ids': [12422], 'refunded_orderline_id': False, 'refunded_qty': 1.0, 'uuid': '840f7529-e916-4a9a-a137-a3697078f00b', 'combo_parent_id': False, 'combo_line_ids': [], 'display_name': '[10781] Clavadora Neumatica Pro C-23 Trup #13179 *10781*', 'create_uid': [229, 'Yamileth Marianda González Oje'], 'create_date': '2024-02-08 21:22:30', 'write_uid': [229, 'Yamileth Marianda González Oje'], 'write_date': '2024-02-08 21:22:30', 'sale_order_origin_id': [7054, 'S07054'], 'sale_order_line_id': [19288, 'S07054 - [10781] Clavadora Neumatica Pro C-23 Trup #13179 *10781* (SUGEY GABRIELA BOJADO VELAZQUEZ)'], 'down_payment_details': False}\n",
      "[19288, 'S07054 - [10781] Clavadora Neumatica Pro C-23 Trup #13179 *10781* (SUGEY GABRIELA BOJADO VELAZQUEZ)'] weppp\n",
      "res_id \n",
      "12317\n",
      "{'id': 12318, 'company_id': [1, 'La Casa Del Carpintero De Los Cabos'], 'name': 'PdV SJC/7269', 'skip_change': False, 'notice': False, 'product_id': [11077, '[18262] Clavo P/Clav Neum 3/4\" C-18 Trup #18262 *18262*'], 'attribute_value_ids': [], 'custom_attribute_value_ids': [], 'price_unit': 99.6, 'qty': 1.0, 'price_subtotal': 99.60000000000001, 'price_subtotal_incl': 115.54, 'price_extra': 0.0, 'margin': 38.31, 'margin_percent': 0.3846, 'total_cost': 61.29, 'is_total_cost_computed': True, 'discount': 0.0, 'order_id': [4918, 'PdV SJC/2831'], 'tax_ids': [14], 'tax_ids_after_fiscal_position': [14], 'pack_lot_ids': [], 'product_uom_id': [1, 'Unidades'], 'currency_id': [32, 'MXN'], 'full_product_name': 'Clavo P/Clav Neum 3/4\" C-18 Trup #18262 *18262*', 'customer_note': False, 'refund_orderline_ids': [12423], 'refunded_orderline_id': False, 'refunded_qty': 1.0, 'uuid': '5911b7dd-f81e-4e2e-9d14-269ff99bd734', 'combo_parent_id': False, 'combo_line_ids': [], 'display_name': '[18262] Clavo P/Clav Neum 3/4\" C-18 Trup #18262 *18262*', 'create_uid': [229, 'Yamileth Marianda González Oje'], 'create_date': '2024-02-08 21:22:30', 'write_uid': [229, 'Yamileth Marianda González Oje'], 'write_date': '2024-02-08 21:22:30', 'sale_order_origin_id': [7054, 'S07054'], 'sale_order_line_id': [19289, 'S07054 - [18262] Clavo P/Clav Neum 3/4\" C-18 Trup #18262 *18262* (SUGEY GABRIELA BOJADO VELAZQUEZ)'], 'down_payment_details': False}\n",
      "[19289, 'S07054 - [18262] Clavo P/Clav Neum 3/4\" C-18 Trup #18262 *18262* (SUGEY GABRIELA BOJADO VELAZQUEZ)'] weppp\n",
      "res_id \n",
      "12318\n",
      "{'id': 12319, 'company_id': [1, 'La Casa Del Carpintero De Los Cabos'], 'name': 'PdV SJC/7270', 'skip_change': False, 'notice': False, 'product_id': [11205, '[8032] Clavo P/Clav Neum 3/4\" C-23 Trup #13404 *8032*'], 'attribute_value_ids': [], 'custom_attribute_value_ids': [], 'price_unit': 107.93, 'qty': 1.0, 'price_subtotal': 107.93, 'price_subtotal_incl': 125.2, 'price_extra': 0.0, 'margin': 41.51, 'margin_percent': 0.3846, 'total_cost': 66.42, 'is_total_cost_computed': True, 'discount': 0.0, 'order_id': [4918, 'PdV SJC/2831'], 'tax_ids': [14], 'tax_ids_after_fiscal_position': [14], 'pack_lot_ids': [], 'product_uom_id': [1, 'Unidades'], 'currency_id': [32, 'MXN'], 'full_product_name': 'Clavo P/Clav Neum 3/4\" C-23 Trup #13404 *8032*', 'customer_note': False, 'refund_orderline_ids': [12424], 'refunded_orderline_id': False, 'refunded_qty': 1.0, 'uuid': 'f6a5632f-440a-444e-83aa-6d75e0ba2311', 'combo_parent_id': False, 'combo_line_ids': [], 'display_name': '[8032] Clavo P/Clav Neum 3/4\" C-23 Trup #13404 *8032*', 'create_uid': [229, 'Yamileth Marianda González Oje'], 'create_date': '2024-02-08 21:22:30', 'write_uid': [229, 'Yamileth Marianda González Oje'], 'write_date': '2024-02-08 21:22:30', 'sale_order_origin_id': [7054, 'S07054'], 'sale_order_line_id': [19290, 'S07054 - [8032] Clavo P/Clav Neum 3/4\" C-23 Trup #13404 *8032* (SUGEY GABRIELA BOJADO VELAZQUEZ)'], 'down_payment_details': False}\n",
      "[19290, 'S07054 - [8032] Clavo P/Clav Neum 3/4\" C-23 Trup #13404 *8032* (SUGEY GABRIELA BOJADO VELAZQUEZ)'] weppp\n",
      "res_id \n",
      "12319\n",
      "{'id': 12320, 'company_id': [1, 'La Casa Del Carpintero De Los Cabos'], 'name': 'PdV SJC/7271', 'skip_change': False, 'notice': False, 'product_id': [11561, '[8025] Clavo P/Clav Neum 1\" C-23 Trup #13407 *8025*'], 'attribute_value_ids': [], 'custom_attribute_value_ids': [], 'price_unit': 132.39, 'qty': 1.0, 'price_subtotal': 132.39000000000001, 'price_subtotal_incl': 153.57, 'price_extra': 0.0, 'margin': 50.92, 'margin_percent': 0.3846, 'total_cost': 81.47, 'is_total_cost_computed': True, 'discount': 0.0, 'order_id': [4918, 'PdV SJC/2831'], 'tax_ids': [14], 'tax_ids_after_fiscal_position': [14], 'pack_lot_ids': [], 'product_uom_id': [1, 'Unidades'], 'currency_id': [32, 'MXN'], 'full_product_name': 'Clavo P/Clav Neum 1\" C-23 Trup #13407 *8025*', 'customer_note': False, 'refund_orderline_ids': [12425], 'refunded_orderline_id': False, 'refunded_qty': 1.0, 'uuid': '00afbb15-36a7-4011-8fcc-80d67b5278a0', 'combo_parent_id': False, 'combo_line_ids': [], 'display_name': '[8025] Clavo P/Clav Neum 1\" C-23 Trup #13407 *8025*', 'create_uid': [229, 'Yamileth Marianda González Oje'], 'create_date': '2024-02-08 21:22:30', 'write_uid': [229, 'Yamileth Marianda González Oje'], 'write_date': '2024-02-08 21:22:30', 'sale_order_origin_id': [7054, 'S07054'], 'sale_order_line_id': [19291, 'S07054 - [8025] Clavo P/Clav Neum 1\" C-23 Trup #13407 *8025* (SUGEY GABRIELA BOJADO VELAZQUEZ)'], 'down_payment_details': False}\n",
      "[19291, 'S07054 - [8025] Clavo P/Clav Neum 1\" C-23 Trup #13407 *8025* (SUGEY GABRIELA BOJADO VELAZQUEZ)'] weppp\n",
      "res_id \n",
      "12320\n",
      "{'id': 11987, 'company_id': [1, 'La Casa Del Carpintero De Los Cabos'], 'name': 'PdV SJC/7064', 'skip_change': False, 'notice': False, 'product_id': [10527, '[1418] Chapa Ph P/Cajon #21-C #1 *1418*'], 'attribute_value_ids': [], 'custom_attribute_value_ids': [], 'price_unit': 71.92, 'qty': 1.0, 'price_subtotal': 61.13, 'price_subtotal_incl': 70.91, 'price_extra': 0.0, 'margin': 16.87, 'margin_percent': 0.276, 'total_cost': 44.26, 'is_total_cost_computed': True, 'discount': 15.0, 'order_id': [4791, 'PdV SJC/2754'], 'tax_ids': [14], 'tax_ids_after_fiscal_position': [14], 'pack_lot_ids': [], 'product_uom_id': [1, 'Unidades'], 'currency_id': [32, 'MXN'], 'full_product_name': 'Chapa Ph P/Cajon #21-C #1 *1418*', 'customer_note': False, 'refund_orderline_ids': [12413], 'refunded_orderline_id': False, 'refunded_qty': 1.0, 'uuid': '046950bc-9a4b-4fa0-aefb-c06225e7b5ad', 'combo_parent_id': False, 'combo_line_ids': [], 'display_name': '[1418] Chapa Ph P/Cajon #21-C #1 *1418*', 'create_uid': [229, 'Yamileth Marianda González Oje'], 'create_date': '2024-02-07 23:26:42', 'write_uid': [229, 'Yamileth Marianda González Oje'], 'write_date': '2024-02-07 23:26:42', 'sale_order_origin_id': [6858, 'S06858'], 'sale_order_line_id': [18700, 'S06858 - [1418] Chapa Ph P/Cajon #21-C #1 *1418* (CONSTRUCTORA MALVER)'], 'down_payment_details': False}\n",
      "[18700, 'S06858 - [1418] Chapa Ph P/Cajon #21-C #1 *1418* (CONSTRUCTORA MALVER)'] weppp\n",
      "res_id \n",
      "11987\n",
      "{'id': 11988, 'company_id': [1, 'La Casa Del Carpintero De Los Cabos'], 'name': 'PdV SJC/7065', 'skip_change': False, 'notice': False, 'product_id': [11172, '[16292] Pija Drywall 8 x 1 1/4\" 15420  (Kg) *16292*'], 'attribute_value_ids': [], 'custom_attribute_value_ids': [], 'price_unit': 98.31, 'qty': 0.25, 'price_subtotal': 20.89, 'price_subtotal_incl': 24.23, 'price_extra': 0.0, 'margin': 4.5, 'margin_percent': 0.2154, 'total_cost': 16.39, 'is_total_cost_computed': True, 'discount': 15.0, 'order_id': [4791, 'PdV SJC/2754'], 'tax_ids': [14], 'tax_ids_after_fiscal_position': [14], 'pack_lot_ids': [], 'product_uom_id': [1, 'Unidades'], 'currency_id': [32, 'MXN'], 'full_product_name': 'Pija Drywall 8 x 1 1/4\" 15420  (Kg) *16292*', 'customer_note': False, 'refund_orderline_ids': [12414], 'refunded_orderline_id': False, 'refunded_qty': 0.25, 'uuid': 'cc76c696-55fb-417f-bdce-de4b71d2ecc7', 'combo_parent_id': False, 'combo_line_ids': [], 'display_name': '[16292] Pija Drywall 8 x 1 1/4\" 15420  (Kg) *16292*', 'create_uid': [229, 'Yamileth Marianda González Oje'], 'create_date': '2024-02-07 23:26:42', 'write_uid': [229, 'Yamileth Marianda González Oje'], 'write_date': '2024-02-07 23:26:42', 'sale_order_origin_id': [6858, 'S06858'], 'sale_order_line_id': [18701, 'S06858 - [16292] Pija Drywall 8 x 1 1/4\" 15420  (Kg) *16292* (CONSTRUCTORA MALVER)'], 'down_payment_details': False}\n",
      "[18701, 'S06858 - [16292] Pija Drywall 8 x 1 1/4\" 15420  (Kg) *16292* (CONSTRUCTORA MALVER)'] weppp\n",
      "res_id \n",
      "11988\n",
      "{'id': 11989, 'company_id': [1, 'La Casa Del Carpintero De Los Cabos'], 'name': 'PdV SJC/7066', 'skip_change': False, 'notice': False, 'product_id': [10900, '[3752] Ficha Plana P/Lamina  (Kg) *3752*'], 'attribute_value_ids': [], 'custom_attribute_value_ids': [], 'price_unit': 89.29, 'qty': 0.25, 'price_subtotal': 18.97, 'price_subtotal_incl': 22.01, 'price_extra': 0.0, 'margin': 5.23, 'margin_percent': 0.2757, 'total_cost': 13.74, 'is_total_cost_computed': True, 'discount': 15.0, 'order_id': [4791, 'PdV SJC/2754'], 'tax_ids': [14], 'tax_ids_after_fiscal_position': [14], 'pack_lot_ids': [], 'product_uom_id': [1, 'Unidades'], 'currency_id': [32, 'MXN'], 'full_product_name': 'Ficha Plana P/Lamina  (Kg) *3752*', 'customer_note': False, 'refund_orderline_ids': [12415], 'refunded_orderline_id': False, 'refunded_qty': 0.25, 'uuid': '564c838c-2918-498f-aa5d-59c92d3bad8c', 'combo_parent_id': False, 'combo_line_ids': [], 'display_name': '[3752] Ficha Plana P/Lamina  (Kg) *3752*', 'create_uid': [229, 'Yamileth Marianda González Oje'], 'create_date': '2024-02-07 23:26:42', 'write_uid': [229, 'Yamileth Marianda González Oje'], 'write_date': '2024-02-07 23:26:42', 'sale_order_origin_id': [6858, 'S06858'], 'sale_order_line_id': [18702, 'S06858 - [3752] Ficha Plana P/Lamina  (Kg) *3752* (CONSTRUCTORA MALVER)'], 'down_payment_details': False}\n",
      "[18702, 'S06858 - [3752] Ficha Plana P/Lamina  (Kg) *3752* (CONSTRUCTORA MALVER)'] weppp\n",
      "res_id \n",
      "11989\n",
      "{'id': 11990, 'company_id': [1, 'La Casa Del Carpintero De Los Cabos'], 'name': 'PdV SJC/7067', 'skip_change': False, 'notice': False, 'product_id': [13843, '[65181] Chapa P/Baño Dexter Deluxe #6519 N *65181*'], 'attribute_value_ids': [], 'custom_attribute_value_ids': [], 'price_unit': 746.09, 'qty': 1.0, 'price_subtotal': 634.1800000000001, 'price_subtotal_incl': 735.65, 'price_extra': 0.0, 'margin': 175.05, 'margin_percent': 0.276, 'total_cost': 459.13, 'is_total_cost_computed': True, 'discount': 15.0, 'order_id': [4791, 'PdV SJC/2754'], 'tax_ids': [14], 'tax_ids_after_fiscal_position': [14], 'pack_lot_ids': [], 'product_uom_id': [1, 'Unidades'], 'currency_id': [32, 'MXN'], 'full_product_name': 'Chapa P/Baño Dexter Deluxe #6519 N *65181*', 'customer_note': False, 'refund_orderline_ids': [12416], 'refunded_orderline_id': False, 'refunded_qty': 1.0, 'uuid': 'f398f941-ef5c-4509-bf8d-8ea25c8e7b10', 'combo_parent_id': False, 'combo_line_ids': [], 'display_name': '[65181] Chapa P/Baño Dexter Deluxe #6519 N *65181*', 'create_uid': [229, 'Yamileth Marianda González Oje'], 'create_date': '2024-02-07 23:26:42', 'write_uid': [229, 'Yamileth Marianda González Oje'], 'write_date': '2024-02-07 23:26:42', 'sale_order_origin_id': [6858, 'S06858'], 'sale_order_line_id': [18703, 'S06858 - [65181] Chapa P/Baño Dexter Deluxe #6519 N *65181* (CONSTRUCTORA MALVER)'], 'down_payment_details': False}\n",
      "[18703, 'S06858 - [65181] Chapa P/Baño Dexter Deluxe #6519 N *65181* (CONSTRUCTORA MALVER)'] weppp\n",
      "res_id \n",
      "11990\n",
      "{'id': 11991, 'company_id': [1, 'La Casa Del Carpintero De Los Cabos'], 'name': 'PdV SJC/7068', 'skip_change': False, 'notice': False, 'product_id': [10213, '[9537] Sil.Pens Acrilastic Blanco 300ml *9537*'], 'attribute_value_ids': [], 'custom_attribute_value_ids': [], 'price_unit': 59.31, 'qty': 1.0, 'price_subtotal': 50.410000000000004, 'price_subtotal_incl': 58.480000000000004, 'price_extra': 0.0, 'margin': 13.91, 'margin_percent': 0.27590000000000003, 'total_cost': 36.5, 'is_total_cost_computed': True, 'discount': 15.0, 'order_id': [4791, 'PdV SJC/2754'], 'tax_ids': [14], 'tax_ids_after_fiscal_position': [14], 'pack_lot_ids': [], 'product_uom_id': [1, 'Unidades'], 'currency_id': [32, 'MXN'], 'full_product_name': 'Sil.Pens Acrilastic Blanco 300ml *9537*', 'customer_note': False, 'refund_orderline_ids': [12417], 'refunded_orderline_id': False, 'refunded_qty': 1.0, 'uuid': '2ac385c5-cfbc-4f25-a951-c974e4af4871', 'combo_parent_id': False, 'combo_line_ids': [], 'display_name': '[9537] Sil.Pens Acrilastic Blanco 300ml *9537*', 'create_uid': [229, 'Yamileth Marianda González Oje'], 'create_date': '2024-02-07 23:26:42', 'write_uid': [229, 'Yamileth Marianda González Oje'], 'write_date': '2024-02-07 23:26:42', 'sale_order_origin_id': [6858, 'S06858'], 'sale_order_line_id': [18704, 'S06858 - [9537] Sil.Pens Acrilastic Blanco 300ml *9537* (CONSTRUCTORA MALVER)'], 'down_payment_details': False}\n",
      "[18704, 'S06858 - [9537] Sil.Pens Acrilastic Blanco 300ml *9537* (CONSTRUCTORA MALVER)'] weppp\n",
      "res_id \n",
      "11991\n",
      "{'id': 11992, 'company_id': [1, 'La Casa Del Carpintero De Los Cabos'], 'name': 'PdV SJC/7069', 'skip_change': False, 'notice': False, 'product_id': [9821, '[8983] Resanador Sayer RL-0014 (1/4) Nogal *8983*'], 'attribute_value_ids': [], 'custom_attribute_value_ids': [], 'price_unit': 43.02, 'qty': 1.0, 'price_subtotal': 36.57, 'price_subtotal_incl': 42.42, 'price_extra': 0.0, 'margin': 7.890000000000001, 'margin_percent': 0.21580000000000002, 'total_cost': 28.68, 'is_total_cost_computed': True, 'discount': 15.0, 'order_id': [4791, 'PdV SJC/2754'], 'tax_ids': [14], 'tax_ids_after_fiscal_position': [14], 'pack_lot_ids': [], 'product_uom_id': [1, 'Unidades'], 'currency_id': [32, 'MXN'], 'full_product_name': 'Resanador Sayer RL-0014 (1/4) Nogal *8983*', 'customer_note': False, 'refund_orderline_ids': [12418], 'refunded_orderline_id': False, 'refunded_qty': 1.0, 'uuid': '0fdf568a-9e65-44db-a3dd-794a7bbe8b5a', 'combo_parent_id': False, 'combo_line_ids': [], 'display_name': '[8983] Resanador Sayer RL-0014 (1/4) Nogal *8983*', 'create_uid': [229, 'Yamileth Marianda González Oje'], 'create_date': '2024-02-07 23:26:42', 'write_uid': [229, 'Yamileth Marianda González Oje'], 'write_date': '2024-02-07 23:26:42', 'sale_order_origin_id': [6858, 'S06858'], 'sale_order_line_id': [18705, 'S06858 - [8983] Resanador Sayer RL-0014 (1/4) Nogal *8983* (CONSTRUCTORA MALVER)'], 'down_payment_details': False}\n",
      "[18705, 'S06858 - [8983] Resanador Sayer RL-0014 (1/4) Nogal *8983* (CONSTRUCTORA MALVER)'] weppp\n",
      "res_id \n",
      "11992\n",
      "{'id': 11993, 'company_id': [1, 'La Casa Del Carpintero De Los Cabos'], 'name': 'PdV SJC/7070', 'skip_change': False, 'notice': False, 'product_id': [10512, '[44465] Alambre Galv C-12.5 Trup ALG-125 #44465 *44465*'], 'attribute_value_ids': [], 'custom_attribute_value_ids': [], 'price_unit': 71.27, 'qty': 1.0, 'price_subtotal': 60.58, 'price_subtotal_incl': 70.27, 'price_extra': 0.0, 'margin': 16.72, 'margin_percent': 0.276, 'total_cost': 43.86, 'is_total_cost_computed': True, 'discount': 15.0, 'order_id': [4791, 'PdV SJC/2754'], 'tax_ids': [14], 'tax_ids_after_fiscal_position': [14], 'pack_lot_ids': [], 'product_uom_id': [1, 'Unidades'], 'currency_id': [32, 'MXN'], 'full_product_name': 'Alambre Galv C-12.5 Trup ALG-125 #44465 *44465*', 'customer_note': False, 'refund_orderline_ids': [12419], 'refunded_orderline_id': False, 'refunded_qty': 1.0, 'uuid': '8baef889-72b1-4fc5-b834-33b3f3062bff', 'combo_parent_id': False, 'combo_line_ids': [], 'display_name': '[44465] Alambre Galv C-12.5 Trup ALG-125 #44465 *44465*', 'create_uid': [229, 'Yamileth Marianda González Oje'], 'create_date': '2024-02-07 23:26:42', 'write_uid': [229, 'Yamileth Marianda González Oje'], 'write_date': '2024-02-07 23:26:42', 'sale_order_origin_id': [6858, 'S06858'], 'sale_order_line_id': [18706, 'S06858 - [44465] Alambre Galv C-12.5 Trup ALG-125 #44465 *44465* (CONSTRUCTORA MALVER)'], 'down_payment_details': False}\n",
      "[18706, 'S06858 - [44465] Alambre Galv C-12.5 Trup ALG-125 #44465 *44465* (CONSTRUCTORA MALVER)'] weppp\n",
      "res_id \n",
      "11993\n",
      "{'id': 12221, 'company_id': [1, 'La Casa Del Carpintero De Los Cabos'], 'name': 'PdV SJC/7203', 'skip_change': False, 'notice': False, 'product_id': [9380, '[8196] Jal. Pte. Rish #64557-N 8124 64/NSC *8196*'], 'attribute_value_ids': [], 'custom_attribute_value_ids': [], 'price_unit': 34.42, 'qty': 4.0, 'price_subtotal': 137.68, 'price_subtotal_incl': 159.71, 'price_extra': 0.0, 'margin': 52.96, 'margin_percent': 0.38470000000000004, 'total_cost': 84.72, 'is_total_cost_computed': True, 'discount': 0.0, 'order_id': [4885, 'PdV SJC/2812'], 'tax_ids': [14], 'tax_ids_after_fiscal_position': [14], 'pack_lot_ids': [], 'product_uom_id': [1, 'Unidades'], 'currency_id': [32, 'MXN'], 'full_product_name': 'Jal. Pte. Rish #64557-N 8124 64/NSC *8196*', 'customer_note': False, 'refund_orderline_ids': [12403], 'refunded_orderline_id': False, 'refunded_qty': 4.0, 'uuid': '42fcfaf1-959b-4144-aeaa-44c10741a4f2', 'combo_parent_id': False, 'combo_line_ids': [], 'display_name': '[8196] Jal. Pte. Rish #64557-N 8124 64/NSC *8196*', 'create_uid': [229, 'Yamileth Marianda González Oje'], 'create_date': '2024-02-08 20:05:20', 'write_uid': [229, 'Yamileth Marianda González Oje'], 'write_date': '2024-02-08 20:05:20', 'sale_order_origin_id': [7007, 'S07007'], 'sale_order_line_id': [19153, 'S07007 - [8196] Jal. Pte. Rish #64557-N 8124 64/NSC *8196* (TH CANCELERIA Y CRISTAL)'], 'down_payment_details': False}\n",
      "[19153, 'S07007 - [8196] Jal. Pte. Rish #64557-N 8124 64/NSC *8196* (TH CANCELERIA Y CRISTAL)'] weppp\n",
      "res_id \n",
      "12221\n",
      "{'id': 12222, 'company_id': [1, 'La Casa Del Carpintero De Los Cabos'], 'name': 'PdV SJC/7204', 'skip_change': False, 'notice': False, 'product_id': [9600, '[12594] Bis. Bidi. 110° Piston Inter #3664 (Par) *12594*'], 'attribute_value_ids': [], 'custom_attribute_value_ids': [], 'price_unit': 39.73, 'qty': 3.0, 'price_subtotal': 119.19, 'price_subtotal_incl': 138.26, 'price_extra': 0.0, 'margin': 45.84, 'margin_percent': 0.3846, 'total_cost': 73.35, 'is_total_cost_computed': True, 'discount': 0.0, 'order_id': [4885, 'PdV SJC/2812'], 'tax_ids': [14], 'tax_ids_after_fiscal_position': [14], 'pack_lot_ids': [], 'product_uom_id': [1, 'Unidades'], 'currency_id': [32, 'MXN'], 'full_product_name': 'Bis. Bidi. 110° Piston Inter #3664 (Par) *12594*', 'customer_note': False, 'refund_orderline_ids': [12404], 'refunded_orderline_id': False, 'refunded_qty': 3.0, 'uuid': 'ea46f3d2-6ee2-4e6a-92b2-c90b64d48322', 'combo_parent_id': False, 'combo_line_ids': [], 'display_name': '[12594] Bis. Bidi. 110° Piston Inter #3664 (Par) *12594*', 'create_uid': [229, 'Yamileth Marianda González Oje'], 'create_date': '2024-02-08 20:05:20', 'write_uid': [229, 'Yamileth Marianda González Oje'], 'write_date': '2024-02-08 20:05:20', 'sale_order_origin_id': [7007, 'S07007'], 'sale_order_line_id': [19154, 'S07007 - [12594] Bis. Bidi. 110° Piston Inter #3664 (Par) *12594* (TH CANCELERIA Y CRISTAL)'], 'down_payment_details': False}\n",
      "[19154, 'S07007 - [12594] Bis. Bidi. 110° Piston Inter #3664 (Par) *12594* (TH CANCELERIA Y CRISTAL)'] weppp\n",
      "res_id \n",
      "12222\n",
      "{'id': 10027, 'company_id': [1, 'La Casa Del Carpintero De Los Cabos'], 'name': 'PdV SJC/5893', 'skip_change': False, 'notice': False, 'product_id': [11679, '[2026] Pata D/Chiva Niquel Sat 6868 Dex *2026*'], 'attribute_value_ids': [], 'custom_attribute_value_ids': [], 'price_unit': 140.61, 'qty': 5.0, 'price_subtotal': 703.0500000000001, 'price_subtotal_incl': 815.54, 'price_extra': 0.0, 'margin': 270.4, 'margin_percent': 0.3846, 'total_cost': 432.65, 'is_total_cost_computed': True, 'discount': 0.0, 'order_id': [4003, 'PdV SJC/2277'], 'tax_ids': [14], 'tax_ids_after_fiscal_position': [14], 'pack_lot_ids': [], 'product_uom_id': [1, 'Unidades'], 'currency_id': [32, 'MXN'], 'full_product_name': 'Pata D/Chiva Niquel Sat 6868 Dex *2026*', 'customer_note': False, 'refund_orderline_ids': [10172], 'refunded_orderline_id': False, 'refunded_qty': 5.0, 'uuid': 'c83980e9-bd52-4df3-8c16-338017c09286', 'combo_parent_id': False, 'combo_line_ids': [], 'display_name': '[2026] Pata D/Chiva Niquel Sat 6868 Dex *2026*', 'create_uid': [229, 'Yamileth Marianda González Oje'], 'create_date': '2024-02-01 21:03:58', 'write_uid': [229, 'Yamileth Marianda González Oje'], 'write_date': '2024-02-01 21:03:58', 'sale_order_origin_id': [5763, 'S05763'], 'sale_order_line_id': [15803, 'S05763 - [2026] Pata D/Chiva Niquel Sat 6868 Dex *2026* (Mostrador)'], 'down_payment_details': False}\n",
      "[15803, 'S05763 - [2026] Pata D/Chiva Niquel Sat 6868 Dex *2026* (Mostrador)'] weppp\n",
      "res_id \n",
      "10027\n",
      "{'id': 10028, 'company_id': [1, 'La Casa Del Carpintero De Los Cabos'], 'name': 'PdV SJC/5894', 'skip_change': False, 'notice': False, 'product_id': [11545, '[1098] Diluyente Sayer D-8000 (1Lt) Americano *1098*'], 'attribute_value_ids': [], 'custom_attribute_value_ids': [], 'price_unit': 120.95, 'qty': 1.0, 'price_subtotal': 120.95, 'price_subtotal_incl': 140.3, 'price_extra': 0.0, 'margin': 40.32, 'margin_percent': 0.33340000000000003, 'total_cost': 80.63, 'is_total_cost_computed': True, 'discount': 0.0, 'order_id': [4003, 'PdV SJC/2277'], 'tax_ids': [14], 'tax_ids_after_fiscal_position': [14], 'pack_lot_ids': [], 'product_uom_id': [1, 'Unidades'], 'currency_id': [32, 'MXN'], 'full_product_name': 'Diluyente Sayer D-8000 (1Lt) Americano *1098*', 'customer_note': False, 'refund_orderline_ids': [10173], 'refunded_orderline_id': False, 'refunded_qty': 1.0, 'uuid': '19547f5a-6e8f-4863-a49e-2b004fa54bf6', 'combo_parent_id': False, 'combo_line_ids': [], 'display_name': '[1098] Diluyente Sayer D-8000 (1Lt) Americano *1098*', 'create_uid': [229, 'Yamileth Marianda González Oje'], 'create_date': '2024-02-01 21:03:58', 'write_uid': [229, 'Yamileth Marianda González Oje'], 'write_date': '2024-02-01 21:03:58', 'sale_order_origin_id': [5763, 'S05763'], 'sale_order_line_id': [15804, 'S05763 - [1098] Diluyente Sayer D-8000 (1Lt) Americano *1098* (Mostrador)'], 'down_payment_details': False}\n",
      "[15804, 'S05763 - [1098] Diluyente Sayer D-8000 (1Lt) Americano *1098* (Mostrador)'] weppp\n",
      "res_id \n",
      "10028\n",
      "{'id': 625, 'company_id': [1, 'La Casa Del Carpintero De Los Cabos'], 'name': 'PdV SJC/0352', 'skip_change': False, 'notice': False, 'product_id': [9062, '[2260] Gancho P/Decm. 20cm 1-GEA20C-C Cromo *2260*'], 'attribute_value_ids': [], 'custom_attribute_value_ids': [], 'price_unit': 25.11, 'qty': 30.0, 'price_subtotal': 753.3000000000001, 'price_subtotal_incl': 873.83, 'price_extra': 0.0, 'margin': 251.1, 'margin_percent': 0.33330000000000004, 'total_cost': 502.2, 'is_total_cost_computed': True, 'discount': 0.0, 'order_id': [254, 'PdV SJC/0141'], 'tax_ids': [14], 'tax_ids_after_fiscal_position': [14], 'pack_lot_ids': [], 'product_uom_id': [1, 'Unidades'], 'currency_id': [32, 'MXN'], 'full_product_name': 'Gancho P/Decm. 20cm 1-GEA20C-C Cromo *2260*', 'customer_note': False, 'refund_orderline_ids': [9629], 'refunded_orderline_id': False, 'refunded_qty': 30.0, 'uuid': 'c38fc822-0a6b-4d2e-8a0f-c77fba1e092e', 'combo_parent_id': False, 'combo_line_ids': [], 'display_name': '[2260] Gancho P/Decm. 20cm 1-GEA20C-C Cromo *2260*', 'create_uid': [229, 'Yamileth Marianda González Oje'], 'create_date': '2024-01-03 23:05:35', 'write_uid': [229, 'Yamileth Marianda González Oje'], 'write_date': '2024-01-03 23:05:35', 'sale_order_origin_id': [371, 'S00371'], 'sale_order_line_id': [972, 'S00371 - [2260] Gancho P/Decm. 20cm 1-GEA20C-C Cromo *2260* (Evangelina Sarabia Serna)'], 'down_payment_details': False}\n",
      "[972, 'S00371 - [2260] Gancho P/Decm. 20cm 1-GEA20C-C Cromo *2260* (Evangelina Sarabia Serna)'] weppp\n",
      "res_id \n",
      "625\n",
      "{'id': 626, 'company_id': [1, 'La Casa Del Carpintero De Los Cabos'], 'name': 'PdV SJC/0353', 'skip_change': False, 'notice': False, 'product_id': [9018, '[2262] Gancho P/Decm. 15cm 1-GEA15C-C Cromo *2262*'], 'attribute_value_ids': [], 'custom_attribute_value_ids': [], 'price_unit': 24.08, 'qty': 30.0, 'price_subtotal': 722.4, 'price_subtotal_incl': 837.98, 'price_extra': 0.0, 'margin': 240.9, 'margin_percent': 0.3335, 'total_cost': 481.5, 'is_total_cost_computed': True, 'discount': 0.0, 'order_id': [254, 'PdV SJC/0141'], 'tax_ids': [14], 'tax_ids_after_fiscal_position': [14], 'pack_lot_ids': [], 'product_uom_id': [1, 'Unidades'], 'currency_id': [32, 'MXN'], 'full_product_name': 'Gancho P/Decm. 15cm 1-GEA15C-C Cromo *2262*', 'customer_note': False, 'refund_orderline_ids': [9630], 'refunded_orderline_id': False, 'refunded_qty': 30.0, 'uuid': '7ec366d9-4284-4d9c-82ac-9c097834f848', 'combo_parent_id': False, 'combo_line_ids': [], 'display_name': '[2262] Gancho P/Decm. 15cm 1-GEA15C-C Cromo *2262*', 'create_uid': [229, 'Yamileth Marianda González Oje'], 'create_date': '2024-01-03 23:05:35', 'write_uid': [229, 'Yamileth Marianda González Oje'], 'write_date': '2024-01-03 23:05:35', 'sale_order_origin_id': [371, 'S00371'], 'sale_order_line_id': [973, 'S00371 - [2262] Gancho P/Decm. 15cm 1-GEA15C-C Cromo *2262* (Evangelina Sarabia Serna)'], 'down_payment_details': False}\n",
      "[973, 'S00371 - [2262] Gancho P/Decm. 15cm 1-GEA15C-C Cromo *2262* (Evangelina Sarabia Serna)'] weppp\n",
      "res_id \n",
      "626\n",
      "{'id': 627, 'company_id': [1, 'La Casa Del Carpintero De Los Cabos'], 'name': 'PdV SJC/0354', 'skip_change': False, 'notice': False, 'product_id': [9385, '[11662] Jal. Pte. #7990 D/Acero 96/156mm *11662*'], 'attribute_value_ids': [], 'custom_attribute_value_ids': [], 'price_unit': 34.66, 'qty': 2.0, 'price_subtotal': 69.32000000000001, 'price_subtotal_incl': 80.41, 'price_extra': 0.0, 'margin': 26.66, 'margin_percent': 0.3846, 'total_cost': 42.66, 'is_total_cost_computed': True, 'discount': 0.0, 'order_id': [254, 'PdV SJC/0141'], 'tax_ids': [14], 'tax_ids_after_fiscal_position': [14], 'pack_lot_ids': [], 'product_uom_id': [1, 'Unidades'], 'currency_id': [32, 'MXN'], 'full_product_name': 'Jal. Pte. #7990 D/Acero 96/156mm *11662*', 'customer_note': False, 'refund_orderline_ids': [9631], 'refunded_orderline_id': False, 'refunded_qty': 2.0, 'uuid': '9942da3d-fc42-4811-8139-4a71a0b78be5', 'combo_parent_id': False, 'combo_line_ids': [], 'display_name': '[11662] Jal. Pte. #7990 D/Acero 96/156mm *11662*', 'create_uid': [229, 'Yamileth Marianda González Oje'], 'create_date': '2024-01-03 23:05:35', 'write_uid': [229, 'Yamileth Marianda González Oje'], 'write_date': '2024-01-03 23:05:35', 'sale_order_origin_id': [371, 'S00371'], 'sale_order_line_id': [974, 'S00371 - [11662] Jal. Pte. #7990 D/Acero 96/156mm *11662* (Evangelina Sarabia Serna)'], 'down_payment_details': False}\n",
      "[974, 'S00371 - [11662] Jal. Pte. #7990 D/Acero 96/156mm *11662* (Evangelina Sarabia Serna)'] weppp\n",
      "res_id \n",
      "627\n"
     ]
    }
   ],
   "source": [
    "pos_line_id_not_saleline, refunded_id_not_saleline = complete_df.loc[(complete_df['salesman_id'].isna()) &(complete_df['module_origin'] == 'PdV') & (complete_df['move_type'] == 'out_refund') & (~complete_df['pos_line_id'].isna()), ['pos_line_id', 'refunded_orderline_id']].items()\n",
    "\n",
    "for i in range(len(pos_line_id_not_saleline[1])):\n",
    "    if not complete_df.loc[complete_df['pos_line_id'] == refunded_id_not_saleline[1].iloc[i]].empty:\n",
    "        complete_df.loc[complete_df['refunded_orderline_id'] == refunded_id_not_saleline[1].iloc[i], 'salesman_id'] = complete_df.loc[complete_df['pos_line_id'] == refunded_id_not_saleline[1].iloc[i], 'salesman_id'].iloc[0]\n",
    "    else:\n",
    "        pos_line_json_not_found = models.execute_kw(api_db, uid, api_clave, 'pos.order.line', 'read', [[int(refunded_id_not_saleline[1].iloc[i])]])\n",
    "        res_id = pos_line_json_not_found[0]['sale_order_line_id']\n",
    "        print(pos_line_json_not_found[0])\n",
    "        print(res_id, 'weppp')\n",
    "        if res_id:\n",
    "            print('res_id', '')\n",
    "            print(refunded_id_not_saleline[1].iloc[i])\n",
    "                # sale_line_json_pos_not_found = models.execute_kw(api_db, uid, api_clave, 'sale.order.line', 'read', [pos_line_json_not_found[0]['sale_order_line_id'][0]], {'fields': sale_line_fields})\n",
    "                # complete_df.loc[complete_df['pos_line_id'] == id, 'salesman_id'] = sale_line_json_pos_not_found[0]['salesman_id'][0]"
   ]
  },
  {
   "cell_type": "code",
   "execution_count": null,
   "metadata": {},
   "outputs": [],
   "source": [
    "for id in complete_df.loc[(complete_df['salesman_id'].isna()) & (complete_df['move_type'] == 'out_refund') & (~complete_df['pos_line_id'].isna())]['pos_line_id']:\n",
    "        refunded_pos_line_id = int(complete_df.loc[complete_df['pos_line_id'] == id]['refunded_orderline_id'].iloc[0])\n",
    "        if complete_df.loc[complete_df['pos_line_id'] == refunded_pos_line_id].empty:\n",
    "            pos_line_json_not_found = models.execute_kw(api_db, uid, api_clave, 'pos.order.line', 'read', [[refunded_pos_line_id]], {'fields': pos_line_fields})\n",
    "            res_id = pos_line_json_not_found[0]['sale_order_line_id']\n",
    "            if res_id:\n",
    "                sale_line_json_pos_not_found = models.execute_kw(api_db, uid, api_clave, 'sale.order.line', 'read', [pos_line_json_not_found[0]['sale_order_line_id'][0]], {'fields': sale_line_fields})\n",
    "                complete_df.loc[complete_df['pos_line_id'] == id, 'salesman_id'] = sale_line_json_pos_not_found[0]['salesman_id'][0]\n",
    "            else:\n",
    "                complete_df.loc[complete_df['pos_line_id'] == id, 'salesman_id'] = pd.NA\n",
    "        else:\n",
    "            complete_df.loc[complete_df['pos_line_id'] == id, 'salesman_id'] = complete_df.loc[complete_df['pos_line_id'] == refunded_pos_line_id]['salesman_id'].iloc[0]"
   ]
  },
  {
   "cell_type": "markdown",
   "metadata": {},
   "source": [
    "Se corrigen las líneas que no tienen 'salesman_id' y no tienen 'pos_line_id'"
   ]
  },
  {
   "cell_type": "code",
   "execution_count": 205,
   "metadata": {},
   "outputs": [
    {
     "data": {
      "text/html": [
       "<div>\n",
       "<style scoped>\n",
       "    .dataframe tbody tr th:only-of-type {\n",
       "        vertical-align: middle;\n",
       "    }\n",
       "\n",
       "    .dataframe tbody tr th {\n",
       "        vertical-align: top;\n",
       "    }\n",
       "\n",
       "    .dataframe thead th {\n",
       "        text-align: right;\n",
       "    }\n",
       "</style>\n",
       "<table border=\"1\" class=\"dataframe\">\n",
       "  <thead>\n",
       "    <tr style=\"text-align: right;\">\n",
       "      <th></th>\n",
       "      <th>fact_doc_id</th>\n",
       "      <th>invoice_date</th>\n",
       "      <th>state</th>\n",
       "      <th>invoice_origin</th>\n",
       "      <th>module_origin</th>\n",
       "      <th>pos_doc_id</th>\n",
       "      <th>move_type</th>\n",
       "      <th>reversal_move_id</th>\n",
       "      <th>reversed_entry_id</th>\n",
       "      <th>journal_id</th>\n",
       "      <th>...</th>\n",
       "      <th>product_id</th>\n",
       "      <th>quantity</th>\n",
       "      <th>price_unit</th>\n",
       "      <th>discount</th>\n",
       "      <th>price_subtotal</th>\n",
       "      <th>pos_line_id</th>\n",
       "      <th>refund_orderline_ids</th>\n",
       "      <th>refunded_orderline_id</th>\n",
       "      <th>sale_line_id</th>\n",
       "      <th>salesman_id</th>\n",
       "    </tr>\n",
       "    <tr>\n",
       "      <th>name</th>\n",
       "      <th></th>\n",
       "      <th></th>\n",
       "      <th></th>\n",
       "      <th></th>\n",
       "      <th></th>\n",
       "      <th></th>\n",
       "      <th></th>\n",
       "      <th></th>\n",
       "      <th></th>\n",
       "      <th></th>\n",
       "      <th></th>\n",
       "      <th></th>\n",
       "      <th></th>\n",
       "      <th></th>\n",
       "      <th></th>\n",
       "      <th></th>\n",
       "      <th></th>\n",
       "      <th></th>\n",
       "      <th></th>\n",
       "      <th></th>\n",
       "      <th></th>\n",
       "    </tr>\n",
       "  </thead>\n",
       "  <tbody>\n",
       "    <tr>\n",
       "      <th>RF2-CC/2024/00037</th>\n",
       "      <td>31572</td>\n",
       "      <td>2024-02-26</td>\n",
       "      <td>posted</td>\n",
       "      <td>PdV SJC/3989</td>\n",
       "      <td>PdV</td>\n",
       "      <td>6922</td>\n",
       "      <td>out_refund</td>\n",
       "      <td>&lt;NA&gt;</td>\n",
       "      <td>30736</td>\n",
       "      <td>90</td>\n",
       "      <td>...</td>\n",
       "      <td>11014</td>\n",
       "      <td>-2.0</td>\n",
       "      <td>95.81</td>\n",
       "      <td>0.0</td>\n",
       "      <td>-191.62</td>\n",
       "      <td>&lt;NA&gt;</td>\n",
       "      <td>&lt;NA&gt;</td>\n",
       "      <td>&lt;NA&gt;</td>\n",
       "      <td>&lt;NA&gt;</td>\n",
       "      <td>&lt;NA&gt;</td>\n",
       "    </tr>\n",
       "    <tr>\n",
       "      <th>RF1-CC/2024/00020</th>\n",
       "      <td>28178</td>\n",
       "      <td>2024-02-20</td>\n",
       "      <td>posted</td>\n",
       "      <td>PdV CSL/1868</td>\n",
       "      <td>PdV</td>\n",
       "      <td>4670</td>\n",
       "      <td>out_refund</td>\n",
       "      <td>&lt;NA&gt;</td>\n",
       "      <td>20332</td>\n",
       "      <td>10</td>\n",
       "      <td>...</td>\n",
       "      <td>13257</td>\n",
       "      <td>-1.0</td>\n",
       "      <td>332.43</td>\n",
       "      <td>0.0</td>\n",
       "      <td>-332.43</td>\n",
       "      <td>&lt;NA&gt;</td>\n",
       "      <td>&lt;NA&gt;</td>\n",
       "      <td>&lt;NA&gt;</td>\n",
       "      <td>&lt;NA&gt;</td>\n",
       "      <td>&lt;NA&gt;</td>\n",
       "    </tr>\n",
       "    <tr>\n",
       "      <th>RF2-CC/2024/00032</th>\n",
       "      <td>27361</td>\n",
       "      <td>2024-02-19</td>\n",
       "      <td>posted</td>\n",
       "      <td>PdV SJC/3356</td>\n",
       "      <td>PdV</td>\n",
       "      <td>5795</td>\n",
       "      <td>out_refund</td>\n",
       "      <td>&lt;NA&gt;</td>\n",
       "      <td>25639</td>\n",
       "      <td>90</td>\n",
       "      <td>...</td>\n",
       "      <td>8796</td>\n",
       "      <td>-1.0</td>\n",
       "      <td>21.66</td>\n",
       "      <td>0.0</td>\n",
       "      <td>-21.66</td>\n",
       "      <td>&lt;NA&gt;</td>\n",
       "      <td>&lt;NA&gt;</td>\n",
       "      <td>&lt;NA&gt;</td>\n",
       "      <td>&lt;NA&gt;</td>\n",
       "      <td>&lt;NA&gt;</td>\n",
       "    </tr>\n",
       "  </tbody>\n",
       "</table>\n",
       "<p>3 rows × 26 columns</p>\n",
       "</div>"
      ],
      "text/plain": [
       "                   fact_doc_id invoice_date   state invoice_origin  \\\n",
       "name                                                                 \n",
       "RF2-CC/2024/00037        31572   2024-02-26  posted   PdV SJC/3989   \n",
       "RF1-CC/2024/00020        28178   2024-02-20  posted   PdV CSL/1868   \n",
       "RF2-CC/2024/00032        27361   2024-02-19  posted   PdV SJC/3356   \n",
       "\n",
       "                  module_origin  pos_doc_id   move_type  reversal_move_id  \\\n",
       "name                                                                        \n",
       "RF2-CC/2024/00037           PdV        6922  out_refund              <NA>   \n",
       "RF1-CC/2024/00020           PdV        4670  out_refund              <NA>   \n",
       "RF2-CC/2024/00032           PdV        5795  out_refund              <NA>   \n",
       "\n",
       "                   reversed_entry_id  journal_id  ...  product_id  quantity  \\\n",
       "name                                              ...                         \n",
       "RF2-CC/2024/00037              30736          90  ...       11014      -2.0   \n",
       "RF1-CC/2024/00020              20332          10  ...       13257      -1.0   \n",
       "RF2-CC/2024/00032              25639          90  ...        8796      -1.0   \n",
       "\n",
       "                   price_unit  discount  price_subtotal pos_line_id  \\\n",
       "name                                                                  \n",
       "RF2-CC/2024/00037       95.81       0.0         -191.62        <NA>   \n",
       "RF1-CC/2024/00020      332.43       0.0         -332.43        <NA>   \n",
       "RF2-CC/2024/00032       21.66       0.0          -21.66        <NA>   \n",
       "\n",
       "                   refund_orderline_ids  refunded_orderline_id  sale_line_id  \\\n",
       "name                                                                           \n",
       "RF2-CC/2024/00037                  <NA>                   <NA>          <NA>   \n",
       "RF1-CC/2024/00020                  <NA>                   <NA>          <NA>   \n",
       "RF2-CC/2024/00032                  <NA>                   <NA>          <NA>   \n",
       "\n",
       "                   salesman_id  \n",
       "name                            \n",
       "RF2-CC/2024/00037         <NA>  \n",
       "RF1-CC/2024/00020         <NA>  \n",
       "RF2-CC/2024/00032         <NA>  \n",
       "\n",
       "[3 rows x 26 columns]"
      ]
     },
     "execution_count": 205,
     "metadata": {},
     "output_type": "execute_result"
    }
   ],
   "source": [
    "complete_df.loc[(complete_df['salesman_id'].isna()) & (complete_df['pos_line_id'].isna())]\n"
   ]
  },
  {
   "cell_type": "markdown",
   "metadata": {},
   "source": [
    "Se ocupa mejorar 'salesman_id'"
   ]
  },
  {
   "cell_type": "code",
   "execution_count": null,
   "metadata": {},
   "outputs": [],
   "source": [
    "check_salesman_id = len(complete_df.loc[complete_df['salesman_id'].isna()]) == 0\n",
    "check_salesman_id_just_salesteams = len(complete_df.loc[~complete_df['salesman_id'].isin(list(descrip_sales_users_df['id']))]) == 0"
   ]
  },
  {
   "cell_type": "markdown",
   "metadata": {},
   "source": [
    "# <span style=\"color:steelblue\">Check Points<span>"
   ]
  },
  {
   "cell_type": "code",
   "execution_count": null,
   "metadata": {},
   "outputs": [
    {
     "name": "stdout",
     "output_type": "stream",
     "text": [
      "Todos los check points están correctos: False\n"
     ]
    }
   ],
   "source": [
    "check_all = check_1 and check_total_size and check_each_document_size and check_salesman_id and check_salesman_id_just_salesteams\n",
    "print('Todos los check points están correctos:', check_all)"
   ]
  },
  {
   "cell_type": "code",
   "execution_count": null,
   "metadata": {},
   "outputs": [
    {
     "name": "stdout",
     "output_type": "stream",
     "text": [
      "No hay valores sin calificar en module_origin: True\n",
      "Las agrupaciones son del mismo tamaño: True\n",
      "No hay diferencias al comparar cantidad de líneas por cada par de documentos: True\n",
      "En el campo salesman_id sólo hay vendedoras True\n",
      "Las vendedoras són únicamente ids que están dentro de los equipos de ventas False\n"
     ]
    }
   ],
   "source": [
    "print('No hay valores sin calificar en module_origin:', check_1)\n",
    "print('Las agrupaciones son del mismo tamaño:', check_total_size)\n",
    "print('No hay diferencias al comparar cantidad de líneas por cada par de documentos:', check_each_document_size)\n",
    "print('En el campo salesman_id sólo hay vendedoras', check_salesman_id)\n",
    "print('Las vendedoras són únicamente ids que están dentro de los equipos de ventas', check_salesman_id_just_salesteams)"
   ]
  },
  {
   "cell_type": "markdown",
   "metadata": {},
   "source": [
    "## Variables de datos\n",
    "----\n",
    "### Filtros de búsqueda y variables iniciales\n",
    "`search_fact`: Filtro iniciar de búsqueda para documentos de factura\n",
    "\n",
    "----\n",
    "### DataFrames fusionados\n",
    "- `fact_df`: DataFrame <b><font color=\"#4EC2A6\">fact_doc_df</font></b> <font color=\"#FF922C\">+</font> <b><font color=\"#4EC2A6\">fact_line_df</font></b>\n",
    "- `fact_pos_doc_df`: DataFrame <b><font color=\"#4EC2A6\">fact_df</font></b> <font color=\"#FF922C\">+</font> <b><font color=\"#4EC2A6\">pos_line_df</font></b>\n",
    "- `fact_pos_df` DataFrame <b><font color=\"#4EC2A6\">fact_df</font></b> <font color=\"#FF922C\">+</font> <b><font color=\"#4EC2A6\">pos_doc_df</font></b> <font color=\"#FF922C\">+</font> <b><font color=\"#4EC2A6\">pos_line_df</font></b>\n",
    "- `complete_df`: DataFrame <b><font color=\"#4EC2A6\">fact_pos_df</font></b> <font color=\"#FF922C\">+</font> <b><font color=\"#4EC2A6\">sale_line_df</font></b> <b><font color=\"#E8FF00\">Este es el DataFrame completo</font></b>\n",
    "\n",
    "----\n",
    "### Documentos de factura\n",
    "- `fact_doc_fields`:  Campos solicitados para búsqueda\n",
    "- `fact_doc_ids`: Lista de IDs devuelta\n",
    "- `fact_doc_json`: JSON devuelto por Odoo\n",
    "- `fact_doc_df`: DataFrame\n",
    "\n",
    "### Líneas de factura\n",
    "- `fact_line_fields`: Campos solicitados para búsqueda\n",
    "- `fact_line_ids`: Lista de IDs devuelta\n",
    "- `fact_line_json`: JSON devuelto por Odoo\n",
    "- `fact_line_df`: DataFrame\n",
    "\n",
    "----\n",
    "### Documentos de punto de venta\n",
    "- `pos_doc_fields`:  Campos solicitados para búsqueda\n",
    "- `pos_doc_ids`: Lista de IDs devuelta\n",
    "- `pos_doc_json`: JSON devuelto por Odoo\n",
    "- `pos_doc_df`: DataFrame\n",
    "\n",
    "### Líneas de punto de venta\n",
    "- `pos_line_fields`: Campos solicitados para búsqueda\n",
    "- `pos_line_ids`: Lista de IDs devuelta\n",
    "- `pos_line_json`: JSON devuelto por Odoo\n",
    "- `pos_line_df`: DataFrame\n",
    "\n",
    "----\n",
    "### Líneas de ventas\n",
    "- `sale_line_fields`: Campos solicitados para búsqueda\n",
    "- `sale_line_ids`: Lista de IDs devuelta\n",
    "- `sale_line_json`: JSON devuelto por Odoo\n",
    "- `sale_line_df`: DataFrame\n",
    "\n",
    "## Variables y búsquedas complementarias\n",
    "----\n",
    "### Documentos de punto de venta adicionales\n",
    "- `pos_doc_name_extra`: Folios\n",
    "- `pos_doc_ids_extra`: Lista de IDs devuelta\n",
    "- `pos_doc_name_df`: DataFrame complementario de folios"
   ]
  }
 ],
 "metadata": {
  "kernelspec": {
   "display_name": "env_algoritmo-comisiones-Odoo",
   "language": "python",
   "name": "python3"
  },
  "language_info": {
   "codemirror_mode": {
    "name": "ipython",
    "version": 3
   },
   "file_extension": ".py",
   "mimetype": "text/x-python",
   "name": "python",
   "nbconvert_exporter": "python",
   "pygments_lexer": "ipython3",
   "version": "3.11.5"
  }
 },
 "nbformat": 4,
 "nbformat_minor": 2
}
