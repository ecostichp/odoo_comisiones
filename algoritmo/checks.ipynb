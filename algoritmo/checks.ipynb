{
 "cells": [
  {
   "cell_type": "code",
   "execution_count": null,
   "metadata": {},
   "outputs": [],
   "source": [
    "from wep import complete_df, fact_doc_json\n",
    "import pandas as pd\n",
    "import numpy as np"
   ]
  },
  {
   "cell_type": "code",
   "execution_count": null,
   "metadata": {},
   "outputs": [],
   "source": [
    "complete_df.loc[complete_df['fact_line_id'] == 33437]"
   ]
  },
  {
   "cell_type": "code",
   "execution_count": null,
   "metadata": {},
   "outputs": [],
   "source": [
    "complete_df.loc[complete_df['fact_doc_id'] == 8234]"
   ]
  },
  {
   "cell_type": "code",
   "execution_count": 1,
   "metadata": {},
   "outputs": [
    {
     "ename": "NameError",
     "evalue": "name 'complete_df' is not defined",
     "output_type": "error",
     "traceback": [
      "\u001b[1;31m---------------------------------------------------------------------------\u001b[0m",
      "\u001b[1;31mNameError\u001b[0m                                 Traceback (most recent call last)",
      "Cell \u001b[1;32mIn[1], line 1\u001b[0m\n\u001b[1;32m----> 1\u001b[0m \u001b[43mcomplete_df\u001b[49m\u001b[38;5;241m.\u001b[39mloc[complete_df[\u001b[38;5;124m'\u001b[39m\u001b[38;5;124mpos_doc_id\u001b[39m\u001b[38;5;124m'\u001b[39m] \u001b[38;5;241m==\u001b[39m \u001b[38;5;241m1949\u001b[39m]\n\u001b[0;32m      2\u001b[0m complete_df\u001b[38;5;241m.\u001b[39mloc[complete_df[\u001b[38;5;124m'\u001b[39m\u001b[38;5;124mpos_doc_id\u001b[39m\u001b[38;5;124m'\u001b[39m] \u001b[38;5;241m==\u001b[39m \u001b[38;5;241m2099\u001b[39m]\n",
      "\u001b[1;31mNameError\u001b[0m: name 'complete_df' is not defined"
     ]
    }
   ],
   "source": [
    "\n",
    "complete_df.loc[complete_df['pos_doc_id'] == 1949]\n",
    "complete_df.loc[complete_df['pos_doc_id'] == 2099]"
   ]
  }
 ],
 "metadata": {
  "kernelspec": {
   "display_name": "env_comisiones-Odoo",
   "language": "python",
   "name": "python3"
  },
  "language_info": {
   "codemirror_mode": {
    "name": "ipython",
    "version": 3
   },
   "file_extension": ".py",
   "mimetype": "text/x-python",
   "name": "python",
   "nbconvert_exporter": "python",
   "pygments_lexer": "ipython3",
   "version": "3.11.5"
  }
 },
 "nbformat": 4,
 "nbformat_minor": 2
}
