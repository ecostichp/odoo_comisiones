{
 "cells": [
  {
   "cell_type": "code",
   "execution_count": 1,
   "metadata": {},
   "outputs": [],
   "source": [
    "import pandas as pd\n",
    "import numpy as np\n",
    "\n",
    "from algoritmo_ventas_mes import ventas_mes_func\n",
    "from algoritmo_cobranza_mes import cobranza_mes_func\n",
    "\n",
    "from descriptions import descrip_sales_users_df, descrip_product_df, descrip_partner_df\n",
    "\n",
    "pd.options.display.float_format = '{:,.2f}'.format\n",
    "\n",
    "ventas_enero = ventas_mes_func(1)\n",
    "ventas_febrero = ventas_mes_func(2)\n",
    "ventas_marzo = ventas_mes_func(3)\n",
    "ventas_abril = ventas_mes_func(4)\n",
    "\n",
    "ventas_global = pd.concat([ventas_enero, ventas_febrero, ventas_marzo, ventas_abril], ignore_index=True)\n",
    "\n",
    "cobranza_enero = cobranza_mes_func(1)\n",
    "cobranza_febrero = cobranza_mes_func(2)\n",
    "cobranza_marzo = cobranza_mes_func(3)\n",
    "cobranza_abril = cobranza_mes_func(4)\n",
    "\n",
    "cobranza_global = pd.concat([cobranza_enero, cobranza_febrero, cobranza_marzo, cobranza_abril], ignore_index=True)"
   ]
  },
  {
   "cell_type": "code",
   "execution_count": null,
   "metadata": {},
   "outputs": [],
   "source": [
    "ventas_global['Mes'] = ventas_global['invoice_date'].dt.month\n",
    "ven_group_mes = ventas_global[['Mes', 'price_subtotal']].groupby('Mes').sum().reset_index()"
   ]
  },
  {
   "cell_type": "code",
   "execution_count": null,
   "metadata": {},
   "outputs": [],
   "source": [
    "cobranza_global['Mes'] = cobranza_global['pay_date'].dt.month\n",
    "cob_group_mes = cobranza_global[['Mes', 'pay_amount']].groupby('Mes').sum().reset_index()"
   ]
  },
  {
   "cell_type": "code",
   "execution_count": null,
   "metadata": {},
   "outputs": [],
   "source": [
    "comp_ven_vs_cob = pd.merge(ven_group_mes, cob_group_mes, how='outer', on='Mes')\n",
    "comp_ven_vs_cob.columns = ['Mes', 'Ventas', 'Cobranza']\n",
    "comp_ven_vs_cob.loc[:, ['Mes']] = 'Enero', 'Febrero', 'Marzo', 'Abril'\n",
    "\n",
    "comp_ven_vs_cob"
   ]
  }
 ],
 "metadata": {
  "kernelspec": {
   "display_name": "env_algoritmo-comisiones-Odoo",
   "language": "python",
   "name": "python3"
  },
  "language_info": {
   "codemirror_mode": {
    "name": "ipython",
    "version": 3
   },
   "file_extension": ".py",
   "mimetype": "text/x-python",
   "name": "python",
   "nbconvert_exporter": "python",
   "pygments_lexer": "ipython3",
   "version": "3.11.5"
  }
 },
 "nbformat": 4,
 "nbformat_minor": 2
}
