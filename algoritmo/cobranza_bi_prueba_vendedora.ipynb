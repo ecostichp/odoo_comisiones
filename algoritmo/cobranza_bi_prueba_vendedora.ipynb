{
 "cells": [
  {
   "cell_type": "code",
   "execution_count": 1,
   "metadata": {},
   "outputs": [],
   "source": [
    "import pandas as pd\n",
    "import numpy as np\n",
    "\n",
    "from algoritmo_ventas_mes import ventas_mes_func\n",
    "from algoritmo_cobranza_mes import cobranza_mes_func\n",
    "\n",
    "from descriptions import descrip_sales_users_df, descrip_product_df\n",
    "\n",
    "pd.options.display.float_format = '{:,.2f}'.format\n",
    "\n",
    "ventas_enero = ventas_mes_func(1)\n",
    "ventas_febrero = ventas_mes_func(2)\n",
    "ventas_marzo = ventas_mes_func(3)\n",
    "ventas_abril = ventas_mes_func(4)\n",
    "\n",
    "ventas_global = pd.concat([ventas_enero, ventas_febrero, ventas_marzo, ventas_abril], ignore_index=True)\n",
    "\n",
    "cobranza_enero = cobranza_mes_func(1)\n",
    "cobranza_febrero = cobranza_mes_func(2)\n",
    "cobranza_marzo = cobranza_mes_func(3)\n",
    "cobranza_abril = cobranza_mes_func(4)\n",
    "\n",
    "cobranza_global = pd.concat([ventas_enero, ventas_febrero, ventas_marzo, ventas_abril], ignore_index=True)"
   ]
  }
 ],
 "metadata": {
  "kernelspec": {
   "display_name": "env_algoritmo-comisiones-Odoo",
   "language": "python",
   "name": "python3"
  },
  "language_info": {
   "codemirror_mode": {
    "name": "ipython",
    "version": 3
   },
   "file_extension": ".py",
   "mimetype": "text/x-python",
   "name": "python",
   "nbconvert_exporter": "python",
   "pygments_lexer": "ipython3",
   "version": "3.11.5"
  }
 },
 "nbformat": 4,
 "nbformat_minor": 2
}
