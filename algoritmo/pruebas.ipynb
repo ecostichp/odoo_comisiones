{
 "cells": [
  {
   "cell_type": "code",
   "execution_count": 1,
   "metadata": {},
   "outputs": [],
   "source": [
    "from wep import api_db, uid, api_clave, models, complete_df\n",
    "import pandas as pd\n",
    "import numpy as np\n",
    "import matplotlib.pyplot as plt\n",
    "import seaborn as sns"
   ]
  },
  {
   "cell_type": "code",
   "execution_count": 2,
   "metadata": {},
   "outputs": [],
   "source": [
    "from wep import descrip_sales_users_df"
   ]
  },
  {
   "cell_type": "code",
   "execution_count": 3,
   "metadata": {},
   "outputs": [
    {
     "data": {
      "text/plain": [
       "fact_doc_id                            44900\n",
       "invoice_date             2024-03-22 00:00:00\n",
       "state                                 posted\n",
       "invoice_origin                          <NA>\n",
       "module_origin                   Contabilidad\n",
       "pos_doc_id                              <NA>\n",
       "move_type                        out_invoice\n",
       "reversal_move_id                        <NA>\n",
       "reversed_entry_id                       <NA>\n",
       "journal_id                                10\n",
       "company_id                                 1\n",
       "partner_id                               231\n",
       "fact_line_id                          168366\n",
       "invoice_user_id                            2\n",
       "team_id                                  8.0\n",
       "create_date              2024-03-22 20:52:50\n",
       "product_id                             28950\n",
       "quantity                                 1.0\n",
       "price_unit                               1.0\n",
       "discount                                 0.0\n",
       "price_subtotal                           1.0\n",
       "pos_line_id                             <NA>\n",
       "refund_orderline_ids                    <NA>\n",
       "refunded_orderline_id                   <NA>\n",
       "sale_line_id                            <NA>\n",
       "salesman_id                                2\n",
       "Name: F1-CC/2024/04034, dtype: object"
      ]
     },
     "execution_count": 3,
     "metadata": {},
     "output_type": "execute_result"
    }
   ],
   "source": [
    "complete_df.loc['F1-CC/2024/04034']"
   ]
  }
 ],
 "metadata": {
  "kernelspec": {
   "display_name": "env_algoritmo-comisiones-Odoo",
   "language": "python",
   "name": "python3"
  },
  "language_info": {
   "codemirror_mode": {
    "name": "ipython",
    "version": 3
   },
   "file_extension": ".py",
   "mimetype": "text/x-python",
   "name": "python",
   "nbconvert_exporter": "python",
   "pygments_lexer": "ipython3",
   "version": "3.11.5"
  }
 },
 "nbformat": 4,
 "nbformat_minor": 2
}
