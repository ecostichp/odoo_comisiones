{
 "cells": [
  {
   "cell_type": "code",
   "execution_count": null,
   "metadata": {},
   "outputs": [],
   "source": [
    "from wep import complete_df, fact_doc_json\n",
    "import pandas as pd\n",
    "import numpy as np"
   ]
  },
  {
   "cell_type": "code",
   "execution_count": null,
   "metadata": {},
   "outputs": [],
   "source": [
    "complete_df.info()"
   ]
  },
  {
   "cell_type": "code",
   "execution_count": null,
   "metadata": {},
   "outputs": [],
   "source": [
    "complete_df.loc[~complete_df['reversed_entry_id'].isna()].head()"
   ]
  },
  {
   "cell_type": "code",
   "execution_count": null,
   "metadata": {},
   "outputs": [],
   "source": [
    "# ventas_mes = complete_df[['salesman_id', 'quantity', 'price_subtotal']].groupby('salesman_id', dropna=False).sum()\n",
    "ventas_mes = complete_df[['salesman_id', 'quantity', 'price_subtotal']].groupby('salesman_id').sum()\n",
    "\n",
    "pd.concat(\n",
    "    [\n",
    "    ventas_mes['quantity'].map('{:,.2f}'.format), \n",
    "    ventas_mes['price_subtotal'].map('${:,.2f}'.format)\n",
    "    ], \n",
    "    axis=1\n",
    ")"
   ]
  },
  {
   "cell_type": "code",
   "execution_count": null,
   "metadata": {},
   "outputs": [],
   "source": [
    "cols = ['quantity', 'price_subtotal']\n",
    "\n",
    "wep = complete_df.loc[complete_df['salesman_id'] == 205, cols].groupby('name').sum()\n",
    "wep\n",
    "# wep.to_excel('wep.xlsx')"
   ]
  },
  {
   "cell_type": "code",
   "execution_count": null,
   "metadata": {},
   "outputs": [],
   "source": [
    "# complete_df.loc[complete_df['module_origin'] == 'Contabilidad'].groupby('name').count()\n",
    "wep2 = complete_df.loc[complete_df['module_origin'] == 'Contabilidad', 'fact_doc_id'].unique()\n",
    "wep2"
   ]
  },
  {
   "cell_type": "code",
   "execution_count": null,
   "metadata": {},
   "outputs": [],
   "source": [
    "for f in fact_doc_json:\n",
    "    if f['id'] in wep2:\n",
    "        print(f)"
   ]
  },
  {
   "cell_type": "code",
   "execution_count": null,
   "metadata": {},
   "outputs": [],
   "source": [
    "len(complete_df.loc[complete_df['salesman_id'].isna()]['fact_doc_id'].unique())"
   ]
  }
 ],
 "metadata": {
  "kernelspec": {
   "display_name": "env_algoritmo-comisiones-Odoo",
   "language": "python",
   "name": "python3"
  },
  "language_info": {
   "codemirror_mode": {
    "name": "ipython",
    "version": 3
   },
   "file_extension": ".py",
   "mimetype": "text/x-python",
   "name": "python",
   "nbconvert_exporter": "python",
   "pygments_lexer": "ipython3",
   "version": "3.11.5"
  }
 },
 "nbformat": 4,
 "nbformat_minor": 2
}
