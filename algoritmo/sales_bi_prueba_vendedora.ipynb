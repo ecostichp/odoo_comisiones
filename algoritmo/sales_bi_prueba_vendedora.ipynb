{
 "cells": [
  {
   "cell_type": "code",
   "execution_count": 1,
   "metadata": {},
   "outputs": [],
   "source": [
    "from algoritmo_ventas import ventas_df_func\n",
    "from descriptions import descrip_sales_users_df, descrip_product_df\n",
    "\n",
    "import pandas as pd\n",
    "import numpy as np\n",
    "import matplotlib.pyplot as plt\n",
    "import seaborn as sns\n",
    "\n",
    "pd.options.display.float_format = '{:,.2f}'.format\n",
    "\n",
    "ventas_enero = ventas_df_func(1)\n",
    "ventas_febrero = ventas_df_func(2)\n",
    "ventas_marzo = ventas_df_func(3)\n",
    "ventas_abril = ventas_df_func(4)"
   ]
  },
  {
   "cell_type": "code",
   "execution_count": 2,
   "metadata": {},
   "outputs": [],
   "source": [
    "ventas = ventas_enero\n",
    "vend_id = 227\n",
    "\n",
    "vend_nom = descrip_sales_users_df.loc[descrip_sales_users_df['id'] == vend_id]['name'].iloc[0]\n",
    "vendedora_df = ventas[ventas['salesperson_id'] == vend_id]"
   ]
  },
  {
   "cell_type": "markdown",
   "metadata": {},
   "source": [
    "¿Cuál es la órden de venta dónde más vendió y cuánto?"
   ]
  },
  {
   "cell_type": "code",
   "execution_count": 3,
   "metadata": {},
   "outputs": [
    {
     "data": {
      "text/plain": [
       "'Patricia Flores Pantaleón vendió $5,951.13 en la orden PdV SJC/1639'"
      ]
     },
     "execution_count": 3,
     "metadata": {},
     "output_type": "execute_result"
    }
   ],
   "source": [
    "wep = vendedora_df[['invoice_origin','price_subtotal']].groupby('invoice_origin').sum().sort_values(by=['price_subtotal'],ascending=False).iloc[0]\n",
    "\n",
    "f\"{vend_nom} vendió ${wep['price_subtotal']:,.2f} en la orden {wep.name}\""
   ]
  },
  {
   "cell_type": "markdown",
   "metadata": {},
   "source": [
    "Dame la orden de venta mas grande por vendedora"
   ]
  },
  {
   "cell_type": "code",
   "execution_count": 4,
   "metadata": {},
   "outputs": [
    {
     "name": "stdout",
     "output_type": "stream",
     "text": [
      "Angela Carrillo Cárdenas vendió $4,765.66 en la orden PdV SJC/0051\n",
      "Brenda Luz Acosta Lopez vendió $93,850.60 en la orden S04049\n",
      "Gladiz Melisa Galvez Espinoza vendió $16,691.65 en la orden Shop/0117\n",
      "Irma Carvajal Flores vendió $86,033.75 en la orden S01744\n",
      "Karla Jaqueline Rivera Hernández vendió $39,308.96 en la orden PdV SJC/0298\n",
      "Leticia Terán Salinas vendió $11,071.39 en la orden PdV CSL/1414\n",
      "Mariana Araceli Carvajal Flores vendió $710.04 en la orden Shop/0036\n",
      "Mayra Angelica Parada Manjarrez vendió $117,387.87 en la orden S01538\n",
      "Nadia Santos Nava vendió $11,349.71 en la orden PdV SJC/1108\n",
      "Patricia Flores Pantaleón vendió $5,951.13 en la orden PdV SJC/1639\n",
      "Reyna Arriaga Flores vendió $26,318.95 en la orden PdV CSL/0925\n",
      "Viviana Montaño Inzunza vendió $6,631.81 en la orden Shop/0011\n",
      "Yamilet Blanco Salas vendió $35,633.84 en la orden S01762\n",
      "Yanin Becerril Barriga vendió $7,768.16 en la orden PdV CSL/1179\n",
      "Yolanda Alejandra Rodriguez González vendió $14,429.30 en la orden PdV SJC/0987\n"
     ]
    }
   ],
   "source": [
    "for id in descrip_sales_users_df['id']:\n",
    "    vend_id_for = id\n",
    "    vend_nom_for = descrip_sales_users_df.loc[descrip_sales_users_df['id'] == vend_id_for]['name'].iloc[0]\n",
    "\n",
    "    vendedora_df_for = ventas[ventas['salesperson_id'] == vend_id_for]\n",
    "    if not vendedora_df_for[['invoice_origin','price_subtotal']].groupby('invoice_origin').sum().sort_values(by=['price_subtotal'],ascending=False).empty:\n",
    "        wep = vendedora_df_for[['invoice_origin','price_subtotal']].groupby('invoice_origin').sum().sort_values(by=['price_subtotal'],ascending=False).iloc[0]\n",
    "        print(f\"{vend_nom_for} vendió ${wep['price_subtotal']:,.2f} en la orden {wep.name}\")"
   ]
  },
  {
   "cell_type": "markdown",
   "metadata": {},
   "source": [
    "¿Cuáles son los 5 artículos que más vende? Por Cantidad"
   ]
  },
  {
   "cell_type": "code",
   "execution_count": 5,
   "metadata": {},
   "outputs": [
    {
     "name": "stdout",
     "output_type": "stream",
     "text": [
      "Patricia Flores Pantaleón\n"
     ]
    },
    {
     "data": {
      "text/html": [
       "<div>\n",
       "<style scoped>\n",
       "    .dataframe tbody tr th:only-of-type {\n",
       "        vertical-align: middle;\n",
       "    }\n",
       "\n",
       "    .dataframe tbody tr th {\n",
       "        vertical-align: top;\n",
       "    }\n",
       "\n",
       "    .dataframe thead th {\n",
       "        text-align: right;\n",
       "    }\n",
       "</style>\n",
       "<table border=\"1\" class=\"dataframe\">\n",
       "  <thead>\n",
       "    <tr style=\"text-align: right;\">\n",
       "      <th></th>\n",
       "      <th>product_id</th>\n",
       "      <th>quantity</th>\n",
       "      <th>prod_descripción</th>\n",
       "      <th>prod_código</th>\n",
       "      <th>prod_línea</th>\n",
       "    </tr>\n",
       "  </thead>\n",
       "  <tbody>\n",
       "    <tr>\n",
       "      <th>0</th>\n",
       "      <td>7503</td>\n",
       "      <td>1,703.00</td>\n",
       "      <td>Pija C/Pl 6*5/8 P/Bisagra (Fhsb658) *9917*</td>\n",
       "      <td>9917</td>\n",
       "      <td>126</td>\n",
       "    </tr>\n",
       "    <tr>\n",
       "      <th>1</th>\n",
       "      <td>7601</td>\n",
       "      <td>1,700.00</td>\n",
       "      <td>Pija Autorr. C/Rondana 8*2\" Galv. (Klap6 *13154*</td>\n",
       "      <td>13154</td>\n",
       "      <td>126</td>\n",
       "    </tr>\n",
       "    <tr>\n",
       "      <th>2</th>\n",
       "      <td>7511</td>\n",
       "      <td>710.00</td>\n",
       "      <td>Taq. Plastico El-Pro 1/4\" Blanco TQ-01 *10179*</td>\n",
       "      <td>10179</td>\n",
       "      <td>45</td>\n",
       "    </tr>\n",
       "    <tr>\n",
       "      <th>3</th>\n",
       "      <td>7750</td>\n",
       "      <td>500.00</td>\n",
       "      <td>Cubrebocas 3 capas quirúrgico Negro (Pz) *49507*</td>\n",
       "      <td>49507</td>\n",
       "      <td>131</td>\n",
       "    </tr>\n",
       "    <tr>\n",
       "      <th>4</th>\n",
       "      <td>7613</td>\n",
       "      <td>330.00</td>\n",
       "      <td>Taq. Plastico El-Pro 3/8\" Blanco TQ-03 *10711*</td>\n",
       "      <td>10711</td>\n",
       "      <td>45</td>\n",
       "    </tr>\n",
       "  </tbody>\n",
       "</table>\n",
       "</div>"
      ],
      "text/plain": [
       "   product_id  quantity                                  prod_descripción  \\\n",
       "0        7503  1,703.00        Pija C/Pl 6*5/8 P/Bisagra (Fhsb658) *9917*   \n",
       "1        7601  1,700.00  Pija Autorr. C/Rondana 8*2\" Galv. (Klap6 *13154*   \n",
       "2        7511    710.00    Taq. Plastico El-Pro 1/4\" Blanco TQ-01 *10179*   \n",
       "3        7750    500.00  Cubrebocas 3 capas quirúrgico Negro (Pz) *49507*   \n",
       "4        7613    330.00    Taq. Plastico El-Pro 3/8\" Blanco TQ-03 *10711*   \n",
       "\n",
       "  prod_código prod_línea  \n",
       "0        9917        126  \n",
       "1       13154        126  \n",
       "2       10179         45  \n",
       "3       49507        131  \n",
       "4       10711         45  "
      ]
     },
     "execution_count": 5,
     "metadata": {},
     "output_type": "execute_result"
    }
   ],
   "source": [
    "wep = vendedora_df[['product_id','quantity']].groupby('product_id').sum().sort_values(by=['quantity'],ascending=False).iloc[0:5]\n",
    "print(f\"{vend_nom}\")\n",
    "wep.merge(descrip_product_df, how='left', on= 'product_id')\n"
   ]
  },
  {
   "cell_type": "markdown",
   "metadata": {},
   "source": [
    "¿Cuáles son los 5 artículos que más vende? Por precio"
   ]
  },
  {
   "cell_type": "code",
   "execution_count": 6,
   "metadata": {},
   "outputs": [
    {
     "name": "stdout",
     "output_type": "stream",
     "text": [
      "Patricia Flores Pantaleón\n"
     ]
    },
    {
     "data": {
      "text/html": [
       "<div>\n",
       "<style scoped>\n",
       "    .dataframe tbody tr th:only-of-type {\n",
       "        vertical-align: middle;\n",
       "    }\n",
       "\n",
       "    .dataframe tbody tr th {\n",
       "        vertical-align: top;\n",
       "    }\n",
       "\n",
       "    .dataframe thead th {\n",
       "        text-align: right;\n",
       "    }\n",
       "</style>\n",
       "<table border=\"1\" class=\"dataframe\">\n",
       "  <thead>\n",
       "    <tr style=\"text-align: right;\">\n",
       "      <th></th>\n",
       "      <th>product_id</th>\n",
       "      <th>price_subtotal</th>\n",
       "      <th>prod_descripción</th>\n",
       "      <th>prod_código</th>\n",
       "      <th>prod_línea</th>\n",
       "    </tr>\n",
       "  </thead>\n",
       "  <tbody>\n",
       "    <tr>\n",
       "      <th>0</th>\n",
       "      <td>28544</td>\n",
       "      <td>4,202.55</td>\n",
       "      <td>Tope Herralum #1159 media luna *23548*</td>\n",
       "      <td>23548</td>\n",
       "      <td>000CE</td>\n",
       "    </tr>\n",
       "    <tr>\n",
       "      <th>1</th>\n",
       "      <td>9625</td>\n",
       "      <td>3,974.88</td>\n",
       "      <td>Lija Ban. 4*24 Gd. 80 *3034*</td>\n",
       "      <td>3034</td>\n",
       "      <td>00FAN</td>\n",
       "    </tr>\n",
       "    <tr>\n",
       "      <th>2</th>\n",
       "      <td>28512</td>\n",
       "      <td>3,847.24</td>\n",
       "      <td>Cilindro Llave P/Vidrio Tem 9mm #1230 CE *24053*</td>\n",
       "      <td>24053</td>\n",
       "      <td>000CE</td>\n",
       "    </tr>\n",
       "    <tr>\n",
       "      <th>3</th>\n",
       "      <td>11598</td>\n",
       "      <td>2,728.78</td>\n",
       "      <td>Pija Drywall 8 x 1\" 15419  (Kg) *16309*</td>\n",
       "      <td>16309</td>\n",
       "      <td>102</td>\n",
       "    </tr>\n",
       "    <tr>\n",
       "      <th>4</th>\n",
       "      <td>14125</td>\n",
       "      <td>2,079.60</td>\n",
       "      <td>Impregnante Sayer HI-0115 (4Lt) Nogal Cl *13757*</td>\n",
       "      <td>13757</td>\n",
       "      <td>0SAYG</td>\n",
       "    </tr>\n",
       "  </tbody>\n",
       "</table>\n",
       "</div>"
      ],
      "text/plain": [
       "   product_id  price_subtotal  \\\n",
       "0       28544        4,202.55   \n",
       "1        9625        3,974.88   \n",
       "2       28512        3,847.24   \n",
       "3       11598        2,728.78   \n",
       "4       14125        2,079.60   \n",
       "\n",
       "                                   prod_descripción prod_código prod_línea  \n",
       "0            Tope Herralum #1159 media luna *23548*       23548      000CE  \n",
       "1                      Lija Ban. 4*24 Gd. 80 *3034*        3034      00FAN  \n",
       "2  Cilindro Llave P/Vidrio Tem 9mm #1230 CE *24053*       24053      000CE  \n",
       "3           Pija Drywall 8 x 1\" 15419  (Kg) *16309*       16309        102  \n",
       "4  Impregnante Sayer HI-0115 (4Lt) Nogal Cl *13757*       13757      0SAYG  "
      ]
     },
     "execution_count": 6,
     "metadata": {},
     "output_type": "execute_result"
    }
   ],
   "source": [
    "wep = vendedora_df[['product_id','price_subtotal']].groupby('product_id').sum().sort_values(by=['price_subtotal'],ascending=False).iloc[0:5]\n",
    "print(f\"{vend_nom}\")\n",
    "wep.merge(descrip_product_df, how='left', on= 'product_id')\n"
   ]
  },
  {
   "cell_type": "markdown",
   "metadata": {},
   "source": [
    "¿Cuáles son los mejores 3 clientes de la vendedora? 1ro por cantidad de productos vendidos, 2do por subtotal de venta y el último por cantidad de OV en el mes."
   ]
  },
  {
   "cell_type": "code",
   "execution_count": 7,
   "metadata": {},
   "outputs": [],
   "source": [
    "wep = vendedora_df[['partner_id','quantity','price_subtotal']].groupby('partner_id').agg({'quantity':['sum',],'price_subtotal':['sum',]})\n",
    "\n",
    "cprod = wep[('quantity', 'sum')].sort_values(ascending=False)\n",
    "cprod_name = cprod.keys()[0]\n",
    "cprod_cant = cprod.loc[cprod_name]\n",
    "csub = wep[('price_subtotal', 'sum')].sort_values(ascending=False)\n",
    "csub_name = csub.keys()[0]\n",
    "csub_cant = csub.loc[csub_name]\n",
    "\n",
    "\n",
    "wep = vendedora_df[['partner_id','invoice_origin']].groupby(['partner_id', 'invoice_origin']).count().reset_index().groupby('partner_id').count()\n",
    "\n",
    "cov = wep['invoice_origin'].sort_values(ascending=False)\n",
    "cov_name = cov.keys()[0]\n",
    "cov_cant = cov.loc[cov_name]\n"
   ]
  },
  {
   "cell_type": "code",
   "execution_count": 8,
   "metadata": {},
   "outputs": [
    {
     "name": "stdout",
     "output_type": "stream",
     "text": [
      "La vendedora Patricia Flores Pantaleón tiene a sus 3 mejores clientes de la siguiente manera:\n",
      "\tEl cliente 16253 es el cliente que más órdenes de venta tiene, siendo un total de 285.00 órdenes\n",
      "\tEl cliente 16253 es el cliente que más cantidad de producto, siendo un total de 3,279.75 artículos vendidos\n",
      "\tEl cliente 16253 es el cliente que más facturó, siendo un total de $77,481.61 pesos en el mes de enero\n"
     ]
    }
   ],
   "source": [
    "print(f'La vendedora {vend_nom} tiene a sus 3 mejores clientes de la siguiente manera:')\n",
    "print(f'\\tEl cliente {cov_name} es el cliente que más órdenes de venta tiene, siendo un total de {cov_cant:,.2f} órdenes')\n",
    "print(f'\\tEl cliente {cprod_name} es el cliente que más cantidad de producto, siendo un total de {cprod_cant:,.2f} artículos vendidos')\n",
    "print(f'\\tEl cliente {csub_name} es el cliente que más facturó, siendo un total de ${csub_cant:,.2f} pesos en el mes de enero')"
   ]
  },
  {
   "cell_type": "markdown",
   "metadata": {},
   "source": [
    "Ahora resuelve de nuevo la pregunta anterir, sin tomar al cliente MOSTRADOR"
   ]
  },
  {
   "cell_type": "code",
   "execution_count": 9,
   "metadata": {},
   "outputs": [],
   "source": [
    "wep = vendedora_df.loc[vendedora_df['partner_id'] != 16253, ['partner_id','quantity','price_subtotal']].groupby('partner_id').agg({'quantity':['sum',],'price_subtotal':['sum',]})\n",
    "\n",
    "cprod = wep[('quantity', 'sum')].sort_values(ascending=False)\n",
    "cprod_name = cprod.keys()[0]\n",
    "cprod_cant = cprod.loc[cprod_name]\n",
    "csub = wep[('price_subtotal', 'sum')].sort_values(ascending=False)\n",
    "csub_name = csub.keys()[0]\n",
    "csub_cant = csub.loc[csub_name]\n",
    "\n",
    "\n",
    "wep = vendedora_df.loc[vendedora_df['partner_id'] != 16253, ['partner_id','invoice_origin']].groupby(['partner_id', 'invoice_origin']).count().reset_index().groupby('partner_id').count()\n",
    "\n",
    "cov = wep['invoice_origin'].sort_values(ascending=False)\n",
    "cov_name = cov.keys()[0]\n",
    "cov_cant = cov.loc[cov_name]\n"
   ]
  },
  {
   "cell_type": "code",
   "execution_count": 10,
   "metadata": {},
   "outputs": [
    {
     "name": "stdout",
     "output_type": "stream",
     "text": [
      "La vendedora Patricia Flores Pantaleón tiene a sus 3 mejores clientes de la siguiente manera:\n",
      "\tEl cliente 13732 es el cliente que más órdenes de venta tiene, siendo un total de 9.00 órdenes\n",
      "\tEl cliente 14894 es el cliente que más cantidad de producto, siendo un total de 2,371.75 artículos vendidos\n",
      "\tEl cliente 14807 es el cliente que más facturó, siendo un total de $11,850.28 pesos en el mes de enero\n"
     ]
    }
   ],
   "source": [
    "print(f'La vendedora {vend_nom} tiene a sus 3 mejores clientes de la siguiente manera:')\n",
    "print(f'\\tEl cliente {cov_name} es el cliente que más órdenes de venta tiene, siendo un total de {cov_cant:,.2f} órdenes')\n",
    "print(f'\\tEl cliente {cprod_name} es el cliente que más cantidad de producto, siendo un total de {cprod_cant:,.2f} artículos vendidos')\n",
    "print(f'\\tEl cliente {csub_name} es el cliente que más facturó, siendo un total de ${csub_cant:,.2f} pesos en el mes de enero')"
   ]
  }
 ],
 "metadata": {
  "kernelspec": {
   "display_name": "env_algoritmo-comisiones-Odoo",
   "language": "python",
   "name": "python3"
  },
  "language_info": {
   "codemirror_mode": {
    "name": "ipython",
    "version": 3
   },
   "file_extension": ".py",
   "mimetype": "text/x-python",
   "name": "python",
   "nbconvert_exporter": "python",
   "pygments_lexer": "ipython3",
   "version": "3.11.5"
  }
 },
 "nbformat": 4,
 "nbformat_minor": 2
}
