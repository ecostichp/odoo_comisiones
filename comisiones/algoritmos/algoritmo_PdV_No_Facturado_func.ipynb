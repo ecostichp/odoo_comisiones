{
 "cells": [
  {
   "cell_type": "code",
   "execution_count": null,
   "metadata": {},
   "outputs": [],
   "source": [
    "import os\n",
    "import xmlrpc.client\n",
    "import pandas as pd\n",
    "import numpy as np\n",
    "from datetime import datetime, timedelta"
   ]
  },
  {
   "cell_type": "code",
   "execution_count": null,
   "metadata": {},
   "outputs": [],
   "source": [
    "def api_params_func(test_db: bool = False) -> dict:\n",
    "\n",
    "    api_url = os.environ.get('ODOO_URL_API')\n",
    "    api_db = os.environ.get('ODOO_DB_API')\n",
    "    api_test_db = os.environ.get('ODOO_DB_PRUEBA_API')\n",
    "    api_username = os.environ.get('ODOO_USERNAME_API')\n",
    "    api_clave = os.environ.get('ODOO_CLAVE_API')\n",
    "\n",
    "\n",
    "    api_params = {}\n",
    "    if test_db:\n",
    "        api_params['api_db'] = api_test_db\n",
    "    else:\n",
    "        api_params['api_db'] = api_db\n",
    "\n",
    "\n",
    "    common = xmlrpc.client.ServerProxy(f'{api_url}/xmlrpc/2/common')\n",
    "    uid = common.authenticate(api_params['api_db'], api_username, api_clave, {})\n",
    "    models = xmlrpc.client.ServerProxy(f'{api_url}/xmlrpc/2/object')\n",
    "\n",
    "\n",
    "    api_params['api_clave'] = api_clave\n",
    "    api_params['api_uid'] = uid\n",
    "    api_params['api_models'] = models\n",
    "\n",
    "    return api_params"
   ]
  },
  {
   "cell_type": "code",
   "execution_count": null,
   "metadata": {},
   "outputs": [],
   "source": [
    "def search_orders_sin_factura_func(mes: int) -> list[str]:\n",
    "    \n",
    "    if type(mes) != int or mes < 1 or mes > 12:\n",
    "        raise Exception (f'El mes es incorrecto. El párametro \"mes\" debe ser un número entero entre 1 y 12. Escribiste: {mes}')\n",
    "    \n",
    "    param_dia_ini = datetime(2024, mes, 1)\n",
    "    param_dia_fin = datetime(2024, mes + 1, 1) - timedelta(days= 1)\n",
    "\n",
    "    search_orders_sin_factura = [\n",
    "        \"&\", \"&\",\n",
    "            (\"date_order\", \">=\", param_dia_ini.strftime('%Y-%m-%d')),\n",
    "            (\"date_order\", \"<=\", param_dia_fin.strftime('%Y-%m-%d')),\n",
    "        \"&\",\n",
    "            (\"account_move\", \"=\", False),\n",
    "            (\"amount_total\", \"!=\", 0)\n",
    "        ]\n",
    "\n",
    "    return search_orders_sin_factura"
   ]
  },
  {
   "cell_type": "code",
   "execution_count": null,
   "metadata": {},
   "outputs": [],
   "source": [
    "def api_call_pos_orders_func(api_params: dict, search_orders_sin_factura: list[str] ) -> list[dict]:\n",
    "    \n",
    "    api_db = api_params['api_db']\n",
    "    api_clave = api_params['api_clave']\n",
    "    uid = api_params['api_uid']\n",
    "    models = api_params['api_models']\n",
    "\n",
    "\n",
    "    search_orders_sin_factura = search_orders_sin_factura\n",
    "\n",
    "\n",
    "    pos_doc_fields =[\n",
    "                    'name',\n",
    "                    'date_order',\n",
    "                    'partner_id',\n",
    "                    'session_id',\n",
    "                    'refunded_order_ids'\n",
    "                    ] \n",
    "\n",
    "    pos_doc_ids = models.execute_kw(api_db, uid, api_clave, 'pos.order', 'search', [search_orders_sin_factura])\n",
    "    pos_doc_json = models.execute_kw(api_db, uid, api_clave, 'pos.order', 'read', [pos_doc_ids], {'fields': pos_doc_fields})\n",
    "\n",
    "    \n",
    "\n",
    "    return pos_doc_json"
   ]
  },
  {
   "cell_type": "code",
   "execution_count": null,
   "metadata": {},
   "outputs": [],
   "source": [
    "def pos_doc_sin_factura_df_func(pos_doc_json: list[dict]) -> list[pd.DataFrame, int]:\n",
    "    \n",
    "    data_pos_ids = []\n",
    "    data_pos_refunded_ids = []\n",
    "\n",
    "    for pos in pos_doc_json:\n",
    "        new = {}\n",
    "        new['pos_doc_id'] = pos['id']\n",
    "        new['pos_doc_name'] = pos['name']\n",
    "        new['refunded_pos_id'] = pos['refunded_order_ids'][0] if pos['refunded_order_ids'] else pd.NA\n",
    "        new['pos_doc_date'] = pos['date_order']\n",
    "        new['partner_id'] = pos['partner_id'][0]\n",
    "        new['partner_name'] = pos['partner_id'][1]\n",
    "        new['PdV_session'] = pos['session_id'][1]\n",
    "\n",
    "        if pos['refunded_order_ids']:\n",
    "            data_pos_refunded_ids.append(pos['refunded_order_ids'][0])\n",
    "    \n",
    "        data_pos_ids.append(new)\n",
    "\n",
    "    pos_doc_sin_factura_df = pd.DataFrame(data_pos_ids)\n",
    "\n",
    "    pos_doc_sin_factura_df['pos_doc_date'] = pd.to_datetime(pos_doc_sin_factura_df['pos_doc_date'], format='%Y-%m-%d %H:%M:%S')\n",
    "    \n",
    "    return pos_doc_sin_factura_df, data_pos_refunded_ids"
   ]
  },
  {
   "cell_type": "code",
   "execution_count": null,
   "metadata": {},
   "outputs": [],
   "source": [
    "def api_call_account_move_func(api_params: dict, data_pos_refunded_ids: list[int] ) -> list[dict]:\n",
    "    \n",
    "    api_db = api_params['api_db']\n",
    "    api_clave = api_params['api_clave']\n",
    "    uid = api_params['api_uid']\n",
    "    models = api_params['api_models']\n",
    "\n",
    "\n",
    "    fact_doc_fields = [\n",
    "                    'name',\n",
    "                    'state',\n",
    "                    'pos_order_ids'\n",
    "                    ] \n",
    "\n",
    "    fact_doc_ids = models.execute_kw(api_db, uid, api_clave, 'account.move', 'search', [[(\"pos_order_ids\", \"in\", data_pos_refunded_ids)]])\n",
    "    fact_doc_json = models.execute_kw(api_db, uid, api_clave, 'account.move', 'read', [fact_doc_ids], {'fields': fact_doc_fields})\n",
    "  \n",
    "    return fact_doc_json"
   ]
  },
  {
   "cell_type": "code",
   "execution_count": null,
   "metadata": {},
   "outputs": [],
   "source": [
    "def fact_doc_state_df_func(fact_doc_json: list[dict]) -> pd.DataFrame:\n",
    "    \n",
    "    data_fact_ids = []\n",
    "\n",
    "    for fact in fact_doc_json:\n",
    "        new = {}\n",
    "        new['fact_doc_id'] = fact['id']\n",
    "        new['fact_doc_name'] = fact['name']\n",
    "        new['fact_doc_state'] = fact['state']\n",
    "        new['pos_doc_id'] = fact['pos_order_ids'][0]\n",
    "\n",
    "        data_fact_ids.append(new)\n",
    "\n",
    "    fact_doc_state_df = pd.DataFrame(data_fact_ids)\n",
    "    fact_doc_state_df['fact_doc_id'] = fact_doc_state_df['fact_doc_id'].astype('Int64')\n",
    "\n",
    "    return fact_doc_state_df"
   ]
  },
  {
   "cell_type": "code",
   "execution_count": null,
   "metadata": {},
   "outputs": [],
   "source": [
    "api_params = api_params_func()\n",
    "search_orders_sin_factura = search_orders_sin_factura_func(4)\n",
    "\n",
    "pos_doc_json = api_call_pos_orders_func(api_params, search_orders_sin_factura)\n",
    "\n",
    "pos_doc_sin_factura_df, data_pos_refunded_ids = pos_doc_sin_factura_df_func(pos_doc_json)\n",
    "\n",
    "fact_doc_json = api_call_account_move_func(api_params, data_pos_refunded_ids)\n",
    "fact_doc_state_df = fact_doc_state_df_func(fact_doc_json)"
   ]
  },
  {
   "cell_type": "code",
   "execution_count": null,
   "metadata": {},
   "outputs": [],
   "source": [
    "fact_doc_state_df"
   ]
  },
  {
   "cell_type": "code",
   "execution_count": null,
   "metadata": {},
   "outputs": [],
   "source": [
    "complete_df1 = pos_doc_sin_factura_df.merge(fact_doc_state_df, how='left', left_on='refunded_pos_id', right_on='pos_doc_id')\n",
    "complete_df = complete_df1.loc[(complete_df1['fact_doc_state'] != \"cancel\")].drop(columns=['pos_doc_id_y'])\n",
    "complete_df"
   ]
  },
  {
   "cell_type": "code",
   "execution_count": null,
   "metadata": {},
   "outputs": [],
   "source": [
    "complete_df1"
   ]
  }
 ],
 "metadata": {
  "kernelspec": {
   "display_name": "env_algoritmo-comisiones-Odoo",
   "language": "python",
   "name": "python3"
  },
  "language_info": {
   "codemirror_mode": {
    "name": "ipython",
    "version": 3
   },
   "file_extension": ".py",
   "mimetype": "text/x-python",
   "name": "python",
   "nbconvert_exporter": "python",
   "pygments_lexer": "ipython3",
   "version": "3.11.5"
  }
 },
 "nbformat": 4,
 "nbformat_minor": 2
}
