{
 "cells": [
  {
   "cell_type": "code",
   "execution_count": 39,
   "metadata": {},
   "outputs": [],
   "source": [
    "import os\n",
    "from pathlib import Path\n",
    "from sqlalchemy import create_engine\n",
    "\n",
    "import xmlrpc.client\n",
    "import pandas as pd\n",
    "pd.options.display.float_format = '{:,.2f}'.format\n",
    "\n",
    "from IPython.display import display\n",
    "\n",
    "api_url = os.environ.get('ODOO_URL_API')\n",
    "api_db = os.environ.get('ODOO_DB_API')\n",
    "api_username = os.environ.get('ODOO_USERNAME_API')\n",
    "api_clave = os.environ.get('ODOO_CLAVE_API')\n",
    "\n",
    "common = xmlrpc.client.ServerProxy(f'{api_url}/xmlrpc/2/common')\n",
    "uid = common.authenticate(api_db, api_username, api_clave, {})\n",
    "models = xmlrpc.client.ServerProxy(f'{api_url}/xmlrpc/2/object')\n",
    "\n",
    "db_file = 'comisiones.db'\n",
    "db_file_path_str = str(Path().cwd().parent.parent.joinpath(f'data/{db_file}'))\n",
    "\n",
    "engine = create_engine(f'sqlite:///{db_file_path_str}')"
   ]
  },
  {
   "cell_type": "markdown",
   "metadata": {},
   "source": [
    "# Generar los DataFrames"
   ]
  },
  {
   "cell_type": "code",
   "execution_count": 40,
   "metadata": {},
   "outputs": [],
   "source": [
    "with engine.connect() as conn, conn.begin():  \n",
    "    ventas_enero = pd.read_sql_table('ventas_enero', conn, dtype_backend='numpy_nullable')\n",
    "    ventas_febrero = pd.read_sql_table('ventas_febrero', conn, dtype_backend='numpy_nullable')\n",
    "    ventas_marzo = pd.read_sql_table('ventas_marzo', conn, dtype_backend='numpy_nullable')\n",
    "    ventas_abril = pd.read_sql_table('ventas_abril', conn, dtype_backend='numpy_nullable')\n",
    "    ventas_mayo = pd.read_sql_table('ventas_mayo', conn, dtype_backend='numpy_nullable')\n",
    "    ventas_junio = pd.read_sql_table('ventas_junio', conn, dtype_backend='numpy_nullable')\n",
    "    ventas_año = pd.read_sql_table('ventas_año', conn, dtype_backend='numpy_nullable')\n",
    "\n",
    "engine.dispose()"
   ]
  },
  {
   "cell_type": "code",
   "execution_count": 41,
   "metadata": {},
   "outputs": [],
   "source": [
    "db_file1 = 'proveedores_oficiales.xlsx'\n",
    "db_file1_path_str = str(Path().cwd().parent.parent.joinpath(f'data/compras/{db_file1}'))\n",
    "\n",
    "proveedores = pd.read_excel(db_file1_path_str, dtype_backend='numpy_nullable')\n",
    "prov_oficiales = proveedores.loc[proveedores['oficial'] == 1][['partner_id', 'partner_name']]\n",
    "prov_locales = proveedores.loc[proveedores['oficial'] == 0][['partner_id', 'partner_name']]"
   ]
  },
  {
   "cell_type": "code",
   "execution_count": 42,
   "metadata": {},
   "outputs": [],
   "source": [
    "db_file2 = 'productos_sin_compra.xlsx'\n",
    "db_file2_path_str = str(Path().cwd().parent.parent.joinpath(f'data/compras/{db_file2}'))\n",
    "\n",
    "productos_sin_compra = pd.read_excel(db_file2_path_str, dtype_backend='numpy_nullable')\n",
    "\n",
    "productos_sin_compra['tolerance_order_date'] = productos_sin_compra['order_date']"
   ]
  },
  {
   "cell_type": "code",
   "execution_count": 43,
   "metadata": {},
   "outputs": [],
   "source": [
    "fields_compras_doc = ['name', 'state','partner_id', 'partner_ref', 'date_approve', 'x_fecha_factura', 'user_id', 'create_uid']\n",
    "\n",
    "ids_compras_doc = models.execute_kw(api_db, uid, api_clave, 'purchase.order', 'search', [[(\"state\", \"in\", (\"purchase\", \"done\"))]])\n",
    "json_compras_doc = models.execute_kw(api_db, uid, api_clave, 'purchase.order', 'read', [ids_compras_doc], {'fields': fields_compras_doc})"
   ]
  },
  {
   "cell_type": "code",
   "execution_count": 44,
   "metadata": {},
   "outputs": [],
   "source": [
    "data_compras_doc = []\n",
    "\n",
    "for compra in json_compras_doc:\n",
    "    new = {}\n",
    "    new['order_id'] = compra['id']\n",
    "    new['order_name'] = compra['name']\n",
    "    new['order_state'] = compra['state']\n",
    "    new['order_date'] = compra['date_approve'] if compra['date_approve'] else pd.NA\n",
    "    new['partner_id'] = compra['partner_id'][0]\n",
    "    new['partner_name'] = compra['partner_id'][1]\n",
    "    new['partner_fact_ref'] = compra['partner_ref']\n",
    "    new['partner_fact_date'] = compra['x_fecha_factura'] if compra['x_fecha_factura'] else pd.NA\n",
    "    new['capturista'] = compra['create_uid'][1] if compra['create_uid'] else pd.NA\n",
    "    new['vendedora'] = compra['user_id'][1] if compra['user_id'] else pd.NA\n",
    "\n",
    "    data_compras_doc.append(new)\n",
    "\n",
    "compras_doc = pd.DataFrame(data_compras_doc)\n",
    "compras_doc['order_date'] = pd.to_datetime(compras_doc['order_date'], format='%Y-%m-%d %H:%M:%S')\n",
    "compras_doc['partner_fact_date'] = pd.to_datetime(compras_doc['partner_fact_date'], format='%Y-%m-%d')"
   ]
  },
  {
   "cell_type": "code",
   "execution_count": 45,
   "metadata": {},
   "outputs": [],
   "source": [
    "fields_compras_line = ['order_id', 'date_approve', 'partner_id','product_id', 'product_qty', 'price_unit_discounted']\n",
    "\n",
    "ids_compras_line = models.execute_kw(api_db, uid, api_clave, 'purchase.order.line', 'search', [[(\"order_id.id\", \"in\", ids_compras_doc)]])\n",
    "json_compras_line = models.execute_kw(api_db, uid, api_clave, 'purchase.order.line', 'read', [ids_compras_line], {'fields': fields_compras_line})"
   ]
  },
  {
   "cell_type": "code",
   "execution_count": 46,
   "metadata": {},
   "outputs": [],
   "source": [
    "data_compras_line = []\n",
    "\n",
    "for line in json_compras_line:\n",
    "    new = {}\n",
    "    new['line_id'] = line['id']\n",
    "    new['order_id'] = line['order_id'][0]\n",
    "    new['order_name'] = line['order_id'][1]\n",
    "    new['order_date'] = line['date_approve'] if line['date_approve'] else pd.NA\n",
    "    new['partner_id'] = line['partner_id'][0]\n",
    "    new['partner_name'] = line['partner_id'][1]\n",
    "    new['product_id_pp'] = line['product_id'][0]\n",
    "    new['product_name'] = line['product_id'][1]\n",
    "    new['product_qty'] = line['product_qty']\n",
    "    new['product_price'] = line['price_unit_discounted']\n",
    "    \n",
    "    data_compras_line.append(new)\n",
    "\n",
    "compras_linea = pd.DataFrame(data_compras_line)\n",
    "compras_linea['order_date'] = pd.to_datetime(compras_linea['order_date'], format='%Y-%m-%d %H:%M:%S')\n",
    "\n",
    "compras_linea['oficial'] = compras_linea['partner_id'].isin(prov_oficiales['partner_id'])"
   ]
  },
  {
   "cell_type": "code",
   "execution_count": 47,
   "metadata": {},
   "outputs": [],
   "source": [
    "compras_odoo = pd.merge(\n",
    "                    compras_linea,\n",
    "                    compras_doc[['order_id', 'partner_fact_ref', 'partner_fact_date', 'capturista', 'vendedora']], \n",
    "                    how='left', \n",
    "                    on='order_id'\n",
    "                )\n",
    "\n",
    "compras_odoo['tolerance_order_date'] = compras_odoo['order_date'].dt.normalize() - pd.Timedelta(days=5)\n",
    "\n",
    "cols_to_Int64 = ['line_id', 'order_id', 'partner_id', 'product_id_pp']\n",
    "compras_odoo[cols_to_Int64] = compras_odoo[cols_to_Int64].astype('Int64')\n",
    "\n",
    "compras_odoo['product_qty'] = compras_odoo['product_qty'].astype('Float64')\n",
    "compras_odoo['vendedora'] = compras_odoo['vendedora'].convert_dtypes()\n",
    "\n",
    "compras = pd.concat([compras_odoo, productos_sin_compra])"
   ]
  },
  {
   "cell_type": "markdown",
   "metadata": {},
   "source": [
    "# Checks"
   ]
  },
  {
   "cell_type": "code",
   "execution_count": 48,
   "metadata": {},
   "outputs": [
    {
     "name": "stdout",
     "output_type": "stream",
     "text": [
      "Todo correcto con check1\n"
     ]
    }
   ],
   "source": [
    "# Línea para comprobrar que el 100% de los proveedores de Odoo están calificados en la lista de proveedores oficiales\n",
    "\n",
    "check1 = (compras_doc[~compras_doc['partner_id'].isin(proveedores['partner_id'])]).drop_duplicates('partner_id')\n",
    "\n",
    "if not check1.empty:\n",
    "    print('Hay proveedores no calificados')\n",
    "    display(check1)\n",
    "\n",
    "else:\n",
    "    print('Todo correcto con check1')\n"
   ]
  },
  {
   "cell_type": "code",
   "execution_count": 49,
   "metadata": {},
   "outputs": [
    {
     "name": "stdout",
     "output_type": "stream",
     "text": [
      "Hay 24 renglones sin costo de la venta.\n",
      "Los productos sin costo son los siguientes:\n"
     ]
    },
    {
     "data": {
      "text/html": [
       "<div>\n",
       "<style scoped>\n",
       "    .dataframe tbody tr th:only-of-type {\n",
       "        vertical-align: middle;\n",
       "    }\n",
       "\n",
       "    .dataframe tbody tr th {\n",
       "        vertical-align: top;\n",
       "    }\n",
       "\n",
       "    .dataframe thead th {\n",
       "        text-align: right;\n",
       "    }\n",
       "</style>\n",
       "<table border=\"1\" class=\"dataframe\">\n",
       "  <thead>\n",
       "    <tr style=\"text-align: right;\">\n",
       "      <th></th>\n",
       "      <th>product_id</th>\n",
       "      <th>product_name_x</th>\n",
       "    </tr>\n",
       "  </thead>\n",
       "  <tbody>\n",
       "    <tr>\n",
       "      <th>10061</th>\n",
       "      <td>14757</td>\n",
       "      <td>Nuevo *0*</td>\n",
       "    </tr>\n",
       "    <tr>\n",
       "      <th>10282</th>\n",
       "      <td>28586</td>\n",
       "      <td>Anticipo</td>\n",
       "    </tr>\n",
       "    <tr>\n",
       "      <th>13415</th>\n",
       "      <td>28638</td>\n",
       "      <td>Servicios de Facturación</td>\n",
       "    </tr>\n",
       "    <tr>\n",
       "      <th>18005</th>\n",
       "      <td>4</td>\n",
       "      <td>Anticipo (PdV)</td>\n",
       "    </tr>\n",
       "    <tr>\n",
       "      <th>65138</th>\n",
       "      <td>29663</td>\n",
       "      <td>Toallas Multiusos Scott 10Rollos *5630*</td>\n",
       "    </tr>\n",
       "    <tr>\n",
       "      <th>65406</th>\n",
       "      <td>29660</td>\n",
       "      <td>Pinza Para Chofer 8\" Urrea 278G *5609*</td>\n",
       "    </tr>\n",
       "    <tr>\n",
       "      <th>65454</th>\n",
       "      <td>29664</td>\n",
       "      <td>Guantes Trup Látex Rugoso Unitalla #14248 *5634*</td>\n",
       "    </tr>\n",
       "  </tbody>\n",
       "</table>\n",
       "</div>"
      ],
      "text/plain": [
       "       product_id                                     product_name_x\n",
       "10061       14757                                          Nuevo *0*\n",
       "10282       28586                                           Anticipo\n",
       "13415       28638                           Servicios de Facturación\n",
       "18005           4                                     Anticipo (PdV)\n",
       "65138       29663            Toallas Multiusos Scott 10Rollos *5630*\n",
       "65406       29660             Pinza Para Chofer 8\" Urrea 278G *5609*\n",
       "65454       29664   Guantes Trup Látex Rugoso Unitalla #14248 *5634*"
      ]
     },
     "metadata": {},
     "output_type": "display_data"
    }
   ],
   "source": [
    "check_costo_venta = (\n",
    "    pd.merge_asof(\n",
    "        left = ventas_año.sort_values('invoice_date'),\n",
    "        right = compras.sort_values('tolerance_order_date'), \n",
    "        \n",
    "        left_by = 'product_id', \n",
    "        right_by = 'product_id_pp', \n",
    "        \n",
    "        left_on = 'invoice_date', \n",
    "        right_on = 'tolerance_order_date', \n",
    "\n",
    "        direction = 'backward')\n",
    ")\n",
    "\n",
    "check2 = check_costo_venta[check_costo_venta['product_price'].isna()][['product_id', 'product_name_x']]\n",
    "\n",
    "print(f'Hay {len(check2)} renglones sin costo de la venta.')\n",
    "\n",
    "if not check2.empty:\n",
    "    print('Los productos sin costo son los siguientes:')\n",
    "    display(check2.drop_duplicates('product_id'))\n",
    "\n",
    "else:\n",
    "    print('Todo correcto con check2')"
   ]
  },
  {
   "cell_type": "markdown",
   "metadata": {},
   "source": [
    "# Preliminares... obtener los segmentos a trabajar"
   ]
  },
  {
   "cell_type": "markdown",
   "metadata": {},
   "source": [
    "Sacar los productos que se compran con varios proveedores"
   ]
  },
  {
   "cell_type": "code",
   "execution_count": 50,
   "metadata": {},
   "outputs": [
    {
     "name": "stdout",
     "output_type": "stream",
     "text": [
      "Se han comprado un total de 5079 productos en Odoo:\n",
      "    - 221 productos con más de un proveedor 4.35%\n",
      "    - 4858 productos con un único proveedor 95.65%\n"
     ]
    }
   ],
   "source": [
    "prod_comprados_odoo = (compras_odoo[['partner_id', 'partner_name', 'product_id_pp', 'product_name']]\n",
    "                    .sort_values('partner_id').groupby('product_id_pp')\n",
    "                    .agg({'product_name': ['first'], 'partner_id': ['mean', 'first']})\n",
    "                    ).reset_index()\n",
    "\n",
    "prod_comprados_odoo['diff'] = prod_comprados_odoo[('partner_id', 'mean')]  == prod_comprados_odoo[('partner_id', 'first')]\n",
    "\n",
    "ids_productos_varios_prov = prod_comprados_odoo.loc[prod_comprados_odoo['diff'] == False]['product_id_pp']\n",
    "ids_productos_unicos_prov = prod_comprados_odoo.loc[prod_comprados_odoo['diff'] == True]['product_id_pp']\n",
    "\n",
    "print(f\"Se han comprado un total de {len(prod_comprados_odoo['product_id_pp'])} productos en Odoo:\")\n",
    "print(f'    - {len(ids_productos_varios_prov)} productos con más de un proveedor', f\"{len(ids_productos_varios_prov)/len(prod_comprados_odoo['product_id_pp'])*100:.2f}%\")\n",
    "print(f'    - {len(ids_productos_unicos_prov)} productos con un único proveedor', f\"{len(ids_productos_unicos_prov)/len(prod_comprados_odoo['product_id_pp'])*100:.2f}%\")"
   ]
  },
  {
   "cell_type": "markdown",
   "metadata": {},
   "source": [
    "De los productos comprados a más de un proveedor, se obtienen los que no han cambiado su costo en el tiempo"
   ]
  },
  {
   "cell_type": "code",
   "execution_count": 51,
   "metadata": {},
   "outputs": [
    {
     "name": "stdout",
     "output_type": "stream",
     "text": [
      "De los 221 productos comprados con varios proveedores:\n",
      "    - 5 productos no han cambiado su costo, representan a un 2.26%\n",
      "    - 216 productos sí han cambiado su costo, representan a un 97.74%\n"
     ]
    }
   ],
   "source": [
    "compras_prod_varios_prov = compras_odoo[compras_odoo['product_id_pp'].isin(ids_productos_varios_prov)]\n",
    "\n",
    "\n",
    "compras_prod_varios_prov_agrupado = compras_prod_varios_prov.groupby('product_id_pp').agg({'product_name':['first'], 'line_id':['count'], 'product_price':['first', 'mean']}).reset_index()\n",
    "compras_prod_varios_prov_agrupado['diff'] = compras_prod_varios_prov_agrupado[('product_price', 'first')] == compras_prod_varios_prov_agrupado[('product_price', 'mean')]\n",
    "\n",
    "ids_prod_varios_prov_costo_sin_cambios = compras_prod_varios_prov_agrupado.loc[compras_prod_varios_prov_agrupado['diff'] == True]['product_id_pp']\n",
    "ids_prod_varios_prov_costo_con_cambios = compras_prod_varios_prov_agrupado.loc[compras_prod_varios_prov_agrupado['diff'] == False]['product_id_pp']\n",
    "\n",
    "\n",
    "print(f'De los {len(ids_productos_varios_prov)} productos comprados con varios proveedores:')\n",
    "print(f'    - {len(ids_prod_varios_prov_costo_sin_cambios)} productos no han cambiado su costo, representan a un {len(ids_prod_varios_prov_costo_sin_cambios)/len(ids_productos_varios_prov)*100:.2f}%')\n",
    "print(f'    - {len(ids_prod_varios_prov_costo_con_cambios)} productos sí han cambiado su costo, representan a un {len(ids_prod_varios_prov_costo_con_cambios)/len(ids_productos_varios_prov)*100:.2f}%')\n"
   ]
  },
  {
   "cell_type": "markdown",
   "metadata": {},
   "source": [
    "### Productos fase A del costo de ventas"
   ]
  },
  {
   "cell_type": "markdown",
   "metadata": {},
   "source": [
    "Se concatena los productos comprados a un único proveedor ('ids_productos_unicos_prov') y los productos comprados a varios proveedores que no han cambiado su precio ('ids_prod_varios_prov_costo_sin_cambios')"
   ]
  },
  {
   "cell_type": "code",
   "execution_count": 52,
   "metadata": {},
   "outputs": [],
   "source": [
    "ids_prod_fase_A = pd.concat([ids_productos_unicos_prov, ids_prod_varios_prov_costo_sin_cambios]).sort_values()"
   ]
  },
  {
   "cell_type": "markdown",
   "metadata": {},
   "source": [
    "### Productos fase B del costo de ventas"
   ]
  },
  {
   "cell_type": "markdown",
   "metadata": {},
   "source": [
    "Resto de los productos comprados a varios proveedores, es decir, los que sí han cambiado su precio ('ids_prod_varios_prov_costo_con_cambios')"
   ]
  },
  {
   "cell_type": "code",
   "execution_count": 53,
   "metadata": {},
   "outputs": [],
   "source": [
    "ids_prod_fase_B = ids_prod_varios_prov_costo_con_cambios"
   ]
  },
  {
   "cell_type": "code",
   "execution_count": 54,
   "metadata": {},
   "outputs": [
    {
     "name": "stdout",
     "output_type": "stream",
     "text": [
      "Líneas de venta:\n",
      "    4282 de productos comprados con varios proveedores 6.54%\n",
      "    61173 de productos comprados con un único proveedores 93.46%\n",
      "\n",
      "Líneas de compra:\n",
      "    1498 de productos comprados con varios proveedores 7.32%\n",
      "    18956 de productos comprado con un único proveedores 92.68%\n"
     ]
    }
   ],
   "source": [
    "# Borrar lína: sólo para explicar\n",
    "\n",
    "ventas_productos_varios_prov = ventas_año[ventas_año['product_id'].isin(ids_productos_varios_prov)]\n",
    "ventas_productos_unico_prov = ventas_año[~ventas_año['product_id'].isin(ids_productos_varios_prov)]\n",
    "\n",
    "compras_productos_varios_prov = compras[compras['product_id_pp'].isin(ids_productos_varios_prov)]\n",
    "compras_productos_unico_prov = compras[~compras['product_id_pp'].isin(ids_productos_varios_prov)]\n",
    "\n",
    "print('Líneas de venta:')\n",
    "print(f'    {len(ventas_productos_varios_prov)} de productos comprados con varios proveedores', f'{len(ventas_productos_varios_prov)/len(ventas_año)*100:.2f}%')\n",
    "print(f'    {len(ventas_productos_unico_prov)} de productos comprados con un único proveedores', f'{len(ventas_productos_unico_prov)/len(ventas_año)*100:.2f}%')\n",
    "\n",
    "print('\\nLíneas de compra:')\n",
    "print(f'    {len(compras_productos_varios_prov)} de productos comprados con varios proveedores', f'{len(compras_productos_varios_prov)/len(compras)*100:.2f}%')\n",
    "print(f'    {len(compras_productos_unico_prov)} de productos comprado con un único proveedores', f'{len(compras_productos_unico_prov)/len(compras)*100:.2f}%')"
   ]
  },
  {
   "cell_type": "markdown",
   "metadata": {},
   "source": [
    "En el dataframe de compras de productos con varios proveedores, obtener el segmento de productos donde no cambia el precio (aunque sí cambie el proveedor) y el segmento donde sí cambie."
   ]
  },
  {
   "cell_type": "code",
   "execution_count": 55,
   "metadata": {},
   "outputs": [
    {
     "name": "stdout",
     "output_type": "stream",
     "text": [
      "De los 18956 productos con un único proveedor, 8125 no han variado su precio = 82.73%\n"
     ]
    },
    {
     "data": {
      "text/html": [
       "<div>\n",
       "<style scoped>\n",
       "    .dataframe tbody tr th:only-of-type {\n",
       "        vertical-align: middle;\n",
       "    }\n",
       "\n",
       "    .dataframe tbody tr th {\n",
       "        vertical-align: top;\n",
       "    }\n",
       "\n",
       "    .dataframe thead tr th {\n",
       "        text-align: left;\n",
       "    }\n",
       "\n",
       "    .dataframe thead tr:last-of-type th {\n",
       "        text-align: right;\n",
       "    }\n",
       "</style>\n",
       "<table border=\"1\" class=\"dataframe\">\n",
       "  <thead>\n",
       "    <tr>\n",
       "      <th></th>\n",
       "      <th>product_name</th>\n",
       "      <th>line_id</th>\n",
       "      <th colspan=\"2\" halign=\"left\">product_price</th>\n",
       "      <th>wep</th>\n",
       "    </tr>\n",
       "    <tr>\n",
       "      <th></th>\n",
       "      <th>first</th>\n",
       "      <th>count</th>\n",
       "      <th>first</th>\n",
       "      <th>mean</th>\n",
       "      <th></th>\n",
       "    </tr>\n",
       "    <tr>\n",
       "      <th>product_id_pp</th>\n",
       "      <th></th>\n",
       "      <th></th>\n",
       "      <th></th>\n",
       "      <th></th>\n",
       "      <th></th>\n",
       "    </tr>\n",
       "  </thead>\n",
       "  <tbody>\n",
       "    <tr>\n",
       "      <th>7381</th>\n",
       "      <td>[90104] Encendedor 50P YA-0093 Sayer Lack (50p...</td>\n",
       "      <td>1</td>\n",
       "      <td>0.00</td>\n",
       "      <td>0.00</td>\n",
       "      <td>True</td>\n",
       "    </tr>\n",
       "    <tr>\n",
       "      <th>7384</th>\n",
       "      <td>Carretilla Con Zoclo Alto Negra #2095 Herralum...</td>\n",
       "      <td>0</td>\n",
       "      <td>11.46</td>\n",
       "      <td>11.46</td>\n",
       "      <td>True</td>\n",
       "    </tr>\n",
       "    <tr>\n",
       "      <th>7389</th>\n",
       "      <td>[14704] Cono Colador Sayer YA-0086 Desechable ...</td>\n",
       "      <td>1</td>\n",
       "      <td>2.50</td>\n",
       "      <td>2.50</td>\n",
       "      <td>True</td>\n",
       "    </tr>\n",
       "    <tr>\n",
       "      <th>7390</th>\n",
       "      <td>Manguera Flexible Tipo T 648P *25341*</td>\n",
       "      <td>0</td>\n",
       "      <td>0.01</td>\n",
       "      <td>0.01</td>\n",
       "      <td>True</td>\n",
       "    </tr>\n",
       "    <tr>\n",
       "      <th>7393</th>\n",
       "      <td>[90103] Lapiz P/Carpintero YA-0099 Sayer (pz) ...</td>\n",
       "      <td>1</td>\n",
       "      <td>0.00</td>\n",
       "      <td>0.00</td>\n",
       "      <td>True</td>\n",
       "    </tr>\n",
       "    <tr>\n",
       "      <th>...</th>\n",
       "      <td>...</td>\n",
       "      <td>...</td>\n",
       "      <td>...</td>\n",
       "      <td>...</td>\n",
       "      <td>...</td>\n",
       "    </tr>\n",
       "    <tr>\n",
       "      <th>29657</th>\n",
       "      <td>[5592] Caja De Distribución 3 Barras 8 Servici...</td>\n",
       "      <td>1</td>\n",
       "      <td>1,204.31</td>\n",
       "      <td>1,204.31</td>\n",
       "      <td>True</td>\n",
       "    </tr>\n",
       "    <tr>\n",
       "      <th>29658</th>\n",
       "      <td>[5593] Fotocelda Hasta 100w  Led O Fluorescent...</td>\n",
       "      <td>1</td>\n",
       "      <td>64.66</td>\n",
       "      <td>64.66</td>\n",
       "      <td>True</td>\n",
       "    </tr>\n",
       "    <tr>\n",
       "      <th>29659</th>\n",
       "      <td>[5606] Soporte metálico para aire acondicionad...</td>\n",
       "      <td>1</td>\n",
       "      <td>362.07</td>\n",
       "      <td>362.07</td>\n",
       "      <td>True</td>\n",
       "    </tr>\n",
       "    <tr>\n",
       "      <th>29661</th>\n",
       "      <td>[5623] Clavo P/Clav Neum 1 3/16\" C-18 Trup #18...</td>\n",
       "      <td>1</td>\n",
       "      <td>89.22</td>\n",
       "      <td>89.22</td>\n",
       "      <td>True</td>\n",
       "    </tr>\n",
       "    <tr>\n",
       "      <th>29662</th>\n",
       "      <td>[5626] Grillete de Acero 5/8\" #44972 Truper *5...</td>\n",
       "      <td>1</td>\n",
       "      <td>61.29</td>\n",
       "      <td>61.29</td>\n",
       "      <td>True</td>\n",
       "    </tr>\n",
       "  </tbody>\n",
       "</table>\n",
       "<p>8125 rows × 5 columns</p>\n",
       "</div>"
      ],
      "text/plain": [
       "                                                    product_name line_id  \\\n",
       "                                                           first   count   \n",
       "product_id_pp                                                              \n",
       "7381           [90104] Encendedor 50P YA-0093 Sayer Lack (50p...       1   \n",
       "7384           Carretilla Con Zoclo Alto Negra #2095 Herralum...       0   \n",
       "7389           [14704] Cono Colador Sayer YA-0086 Desechable ...       1   \n",
       "7390                       Manguera Flexible Tipo T 648P *25341*       0   \n",
       "7393           [90103] Lapiz P/Carpintero YA-0099 Sayer (pz) ...       1   \n",
       "...                                                          ...     ...   \n",
       "29657          [5592] Caja De Distribución 3 Barras 8 Servici...       1   \n",
       "29658          [5593] Fotocelda Hasta 100w  Led O Fluorescent...       1   \n",
       "29659          [5606] Soporte metálico para aire acondicionad...       1   \n",
       "29661          [5623] Clavo P/Clav Neum 1 3/16\" C-18 Trup #18...       1   \n",
       "29662          [5626] Grillete de Acero 5/8\" #44972 Truper *5...       1   \n",
       "\n",
       "              product_price            wep  \n",
       "                      first     mean        \n",
       "product_id_pp                               \n",
       "7381                   0.00     0.00  True  \n",
       "7384                  11.46    11.46  True  \n",
       "7389                   2.50     2.50  True  \n",
       "7390                   0.01     0.01  True  \n",
       "7393                   0.00     0.00  True  \n",
       "...                     ...      ...   ...  \n",
       "29657              1,204.31 1,204.31  True  \n",
       "29658                 64.66    64.66  True  \n",
       "29659                362.07   362.07  True  \n",
       "29661                 89.22    89.22  True  \n",
       "29662                 61.29    61.29  True  \n",
       "\n",
       "[8125 rows x 5 columns]"
      ]
     },
     "execution_count": 55,
     "metadata": {},
     "output_type": "execute_result"
    }
   ],
   "source": [
    "# Borrar lína: es sólo para explicar que porcentaje de productos con proveedor único han mantenido el precio durante el tiempo\n",
    "a = compras_productos_unico_prov.sort_values(by='product_price').groupby('product_id_pp').agg({'product_name':['first'], 'line_id':['count'], 'product_price':['first', 'mean']})\n",
    "a['wep'] = a[('product_price', 'first')] == a[('product_price', 'mean')]\n",
    "\n",
    "print(f\"De los {len(compras_productos_unico_prov)} productos con un único proveedor, {len(a.loc[a['wep'] == True])} no han variado su precio =\", f\"{len(a.loc[a['wep'] == True])/len(a)*100:.2f}%\")\n",
    "a.loc[a['wep'] == True]"
   ]
  },
  {
   "cell_type": "code",
   "execution_count": 56,
   "metadata": {},
   "outputs": [
    {
     "name": "stdout",
     "output_type": "stream",
     "text": [
      "De los 18956 productos con un único proveedor, 1683 sí han variado su precio = 17.14%\n"
     ]
    },
    {
     "data": {
      "text/html": [
       "<div>\n",
       "<style scoped>\n",
       "    .dataframe tbody tr th:only-of-type {\n",
       "        vertical-align: middle;\n",
       "    }\n",
       "\n",
       "    .dataframe tbody tr th {\n",
       "        vertical-align: top;\n",
       "    }\n",
       "\n",
       "    .dataframe thead tr th {\n",
       "        text-align: left;\n",
       "    }\n",
       "\n",
       "    .dataframe thead tr:last-of-type th {\n",
       "        text-align: right;\n",
       "    }\n",
       "</style>\n",
       "<table border=\"1\" class=\"dataframe\">\n",
       "  <thead>\n",
       "    <tr>\n",
       "      <th></th>\n",
       "      <th>product_name</th>\n",
       "      <th>line_id</th>\n",
       "      <th colspan=\"2\" halign=\"left\">product_price</th>\n",
       "      <th>wep</th>\n",
       "      <th>wep2</th>\n",
       "    </tr>\n",
       "    <tr>\n",
       "      <th></th>\n",
       "      <th>first</th>\n",
       "      <th>count</th>\n",
       "      <th>first</th>\n",
       "      <th>mean</th>\n",
       "      <th></th>\n",
       "      <th></th>\n",
       "    </tr>\n",
       "    <tr>\n",
       "      <th>product_id_pp</th>\n",
       "      <th></th>\n",
       "      <th></th>\n",
       "      <th></th>\n",
       "      <th></th>\n",
       "      <th></th>\n",
       "      <th></th>\n",
       "    </tr>\n",
       "  </thead>\n",
       "  <tbody>\n",
       "    <tr>\n",
       "      <th>7388</th>\n",
       "      <td>[20457] Sudadera Ejetutiva S (1 PZ) YA-0001 *2...</td>\n",
       "      <td>2</td>\n",
       "      <td>0.00</td>\n",
       "      <td>215.00</td>\n",
       "      <td>False</td>\n",
       "      <td>inf</td>\n",
       "    </tr>\n",
       "    <tr>\n",
       "      <th>7391</th>\n",
       "      <td>[90110] Flexometro Sayer Lack 6P YA-0094 (6 pz...</td>\n",
       "      <td>2</td>\n",
       "      <td>0.00</td>\n",
       "      <td>76.49</td>\n",
       "      <td>False</td>\n",
       "      <td>inf</td>\n",
       "    </tr>\n",
       "    <tr>\n",
       "      <th>28075</th>\n",
       "      <td>[188] SOGA SEDA 1\" Trenzada *188*</td>\n",
       "      <td>1</td>\n",
       "      <td>74.03</td>\n",
       "      <td>6,232.02</td>\n",
       "      <td>False</td>\n",
       "      <td>84.18</td>\n",
       "    </tr>\n",
       "    <tr>\n",
       "      <th>10585</th>\n",
       "      <td>[87411] Guante Neo. Grandes Truper 14271 *87411*</td>\n",
       "      <td>9</td>\n",
       "      <td>2.54</td>\n",
       "      <td>41.68</td>\n",
       "      <td>False</td>\n",
       "      <td>16.41</td>\n",
       "    </tr>\n",
       "    <tr>\n",
       "      <th>28929</th>\n",
       "      <td>[2973] Gaveta Apilable De Plástico 41x31x18 cm...</td>\n",
       "      <td>6</td>\n",
       "      <td>4.75</td>\n",
       "      <td>55.56</td>\n",
       "      <td>False</td>\n",
       "      <td>11.70</td>\n",
       "    </tr>\n",
       "    <tr>\n",
       "      <th>...</th>\n",
       "      <td>...</td>\n",
       "      <td>...</td>\n",
       "      <td>...</td>\n",
       "      <td>...</td>\n",
       "      <td>...</td>\n",
       "      <td>...</td>\n",
       "    </tr>\n",
       "    <tr>\n",
       "      <th>8596</th>\n",
       "      <td>[10900] Rondana Plana 1\" C#109 *10900*</td>\n",
       "      <td>2</td>\n",
       "      <td>10.70</td>\n",
       "      <td>10.70</td>\n",
       "      <td>False</td>\n",
       "      <td>1.00</td>\n",
       "    </tr>\n",
       "    <tr>\n",
       "      <th>28751</th>\n",
       "      <td>[2497] Cepillo Para Impermeabilizar Cerdas de ...</td>\n",
       "      <td>3</td>\n",
       "      <td>53.92</td>\n",
       "      <td>53.92</td>\n",
       "      <td>False</td>\n",
       "      <td>1.00</td>\n",
       "    </tr>\n",
       "    <tr>\n",
       "      <th>12341</th>\n",
       "      <td>Varilla Roscada 5/8\" (100Cm) *5423*</td>\n",
       "      <td>2</td>\n",
       "      <td>125.34</td>\n",
       "      <td>125.34</td>\n",
       "      <td>False</td>\n",
       "      <td>1.00</td>\n",
       "    </tr>\n",
       "    <tr>\n",
       "      <th>8301</th>\n",
       "      <td>[3053] Lija D/Agua Fan. #320 *3053*</td>\n",
       "      <td>21</td>\n",
       "      <td>6.83</td>\n",
       "      <td>6.83</td>\n",
       "      <td>False</td>\n",
       "      <td>1.00</td>\n",
       "    </tr>\n",
       "    <tr>\n",
       "      <th>29609</th>\n",
       "      <td>[5438] Polipasto de cadena de 1Ton #16824 Trup...</td>\n",
       "      <td>3</td>\n",
       "      <td>1,590.52</td>\n",
       "      <td>1,590.52</td>\n",
       "      <td>False</td>\n",
       "      <td>1.00</td>\n",
       "    </tr>\n",
       "  </tbody>\n",
       "</table>\n",
       "<p>1683 rows × 6 columns</p>\n",
       "</div>"
      ],
      "text/plain": [
       "                                                    product_name line_id  \\\n",
       "                                                           first   count   \n",
       "product_id_pp                                                              \n",
       "7388           [20457] Sudadera Ejetutiva S (1 PZ) YA-0001 *2...       2   \n",
       "7391           [90110] Flexometro Sayer Lack 6P YA-0094 (6 pz...       2   \n",
       "28075                          [188] SOGA SEDA 1\" Trenzada *188*       1   \n",
       "10585           [87411] Guante Neo. Grandes Truper 14271 *87411*       9   \n",
       "28929          [2973] Gaveta Apilable De Plástico 41x31x18 cm...       6   \n",
       "...                                                          ...     ...   \n",
       "8596                      [10900] Rondana Plana 1\" C#109 *10900*       2   \n",
       "28751          [2497] Cepillo Para Impermeabilizar Cerdas de ...       3   \n",
       "12341                        Varilla Roscada 5/8\" (100Cm) *5423*       2   \n",
       "8301                         [3053] Lija D/Agua Fan. #320 *3053*      21   \n",
       "29609          [5438] Polipasto de cadena de 1Ton #16824 Trup...       3   \n",
       "\n",
       "              product_price             wep  wep2  \n",
       "                      first     mean               \n",
       "product_id_pp                                      \n",
       "7388                   0.00   215.00  False   inf  \n",
       "7391                   0.00    76.49  False   inf  \n",
       "28075                 74.03 6,232.02  False 84.18  \n",
       "10585                  2.54    41.68  False 16.41  \n",
       "28929                  4.75    55.56  False 11.70  \n",
       "...                     ...      ...    ...   ...  \n",
       "8596                  10.70    10.70  False  1.00  \n",
       "28751                 53.92    53.92  False  1.00  \n",
       "12341                125.34   125.34  False  1.00  \n",
       "8301                   6.83     6.83  False  1.00  \n",
       "29609              1,590.52 1,590.52  False  1.00  \n",
       "\n",
       "[1683 rows x 6 columns]"
      ]
     },
     "execution_count": 56,
     "metadata": {},
     "output_type": "execute_result"
    }
   ],
   "source": [
    "# Borrar lína: es sólo para explicar por qué decido llevarlos a merge_asof dirección \"backward\"\n",
    "a = compras_productos_unico_prov.sort_values(by='product_price').groupby('product_id_pp').agg({'product_name':['first'], 'line_id':['count'], 'product_price':['first', 'mean']})\n",
    "a['wep'] = a[('product_price', 'first')] == a[('product_price', 'mean')]\n",
    "a['wep2'] = a[('product_price', 'mean')] / a[('product_price', 'first')]\n",
    "\n",
    "print(f\"De los {len(compras_productos_unico_prov)} productos con un único proveedor, {len(a.loc[a['wep'] == False])} sí han variado su precio =\", f\"{len(a.loc[a['wep'] == False])/len(a)*100:.2f}%\")\n",
    "a.loc[a['wep'] == False].sort_values(by='wep2', ascending=False)"
   ]
  },
  {
   "cell_type": "markdown",
   "metadata": {},
   "source": [
    "# Fase A: punto focal \"Líneas de venta\"\n",
    "## Productos comprados con un único proveedor y\n",
    "## Productos comprados a varios proveedores que no cambiaron su precio en el tiempo"
   ]
  },
  {
   "cell_type": "markdown",
   "metadata": {},
   "source": [
    "Se obtiene el costo de venta en el dataframe 'ventas_año' donde  los renglones de venta coinciden con los 'ids_prod_fase_A', su contraparte es el total de las compras.\n",
    "Estas ventas no son de tipo \"especial\", sino venta normal y se trata de encontrar un \"Último costo\". Es por esto que no se usa tolerancia y la dirección es \"backward\"."
   ]
  },
  {
   "cell_type": "code",
   "execution_count": 57,
   "metadata": {},
   "outputs": [],
   "source": [
    "costo_venta_fase_A = (\n",
    "    pd.merge_asof(\n",
    "        left = ventas_año.loc[ventas_año['product_id'].isin(ids_prod_fase_A)].sort_values('invoice_date'),\n",
    "        right = compras.sort_values('tolerance_order_date'), \n",
    "        \n",
    "        left_by = 'product_id', \n",
    "        right_by = 'product_id_pp', \n",
    "        \n",
    "        left_on = 'invoice_date', \n",
    "        right_on = 'tolerance_order_date', \n",
    "\n",
    "        direction = 'backward')\n",
    ")"
   ]
  },
  {
   "cell_type": "code",
   "execution_count": 58,
   "metadata": {},
   "outputs": [
    {
     "data": {
      "text/plain": [
       "56581"
      ]
     },
     "execution_count": 58,
     "metadata": {},
     "output_type": "execute_result"
    }
   ],
   "source": [
    "len(ventas_año.loc[ventas_año['product_id'].isin(ids_prod_fase_A)].sort_values('invoice_date'))"
   ]
  },
  {
   "cell_type": "code",
   "execution_count": 66,
   "metadata": {},
   "outputs": [
    {
     "data": {
      "text/plain": [
       "56581"
      ]
     },
     "execution_count": 66,
     "metadata": {},
     "output_type": "execute_result"
    }
   ],
   "source": [
    "len(costo_venta_fase_A)"
   ]
  },
  {
   "cell_type": "markdown",
   "metadata": {},
   "source": [
    "# Fase B: punto focal \"Líneas de compra\"\n",
    "## Productos comprados a varios proveedores que sí cambiaron su precio en el tiempo"
   ]
  },
  {
   "cell_type": "markdown",
   "metadata": {},
   "source": [
    "### 1er vuelta: productos que con un match sencillo, coinciden en 3 condiciones [producto, vendedora, cantidad]"
   ]
  },
  {
   "cell_type": "markdown",
   "metadata": {},
   "source": [
    "Se estudian las líneas de compras con 'ids_prod_fase_)"
   ]
  },
  {
   "cell_type": "code",
   "execution_count": 60,
   "metadata": {},
   "outputs": [
    {
     "name": "stdout",
     "output_type": "stream",
     "text": [
      "Son un total de 13084 líneas de compra en Odoo. No se están contando las líneas de costo inicial del SAE.\n",
      "\n",
      "En la fase B, quedan sólo 1411 de ellas 10.78%\n"
     ]
    }
   ],
   "source": [
    "compras_fase_b = compras_odoo.loc[compras_odoo['product_id_pp'].isin(ids_prod_fase_B)]\n",
    "print(f'Son un total de {len(compras_odoo)} líneas de compra en Odoo. No se están contando las líneas de costo inicial del SAE.')\n",
    "\n",
    "print(f'\\nEn la fase B, quedan sólo {len(compras_fase_b)} de ellas {len(compras_fase_b)/len(compras_odoo)*100:.2f}%')"
   ]
  },
  {
   "cell_type": "markdown",
   "metadata": {},
   "source": [
    "Debido a que el punto focal son las compras, no se puede hablar de un costo de la venta, sino de un \"match entre ids\".  \n",
    "Se obtiene el match de líneas de compra de fase B donde  los renglones de coinciden con los 'ids_productos_varios_prov_costo_con_cambios'. Su contraparte es el total de ventas_año.  \n",
    "Debido a que estas compras son para ventas de tipo \"Especial\", se trata de buscar una venta exacta con las 3 condiciones descritas anteriormente. Se usa una tolerancia de 5 días, con dirección \"nearest\"."
   ]
  },
  {
   "cell_type": "code",
   "execution_count": 61,
   "metadata": {},
   "outputs": [],
   "source": [
    "match_1ro = (\n",
    "    pd.merge_asof(\n",
    "        left = compras_fase_b.sort_values('order_date'), \n",
    "        right = ventas_año.sort_values('invoice_date'),\n",
    "        \n",
    "        left_by = ['product_id_pp', 'vendedora', 'product_qty'], \n",
    "        right_by = ['product_id', 'salesperson_name', 'quantity'], \n",
    "        \n",
    "        left_on = 'order_date', \n",
    "        right_on = 'invoice_date', \n",
    "\n",
    "        tolerance = pd.Timedelta(days=5),\n",
    "        \n",
    "        direction = 'nearest')\n",
    ")"
   ]
  },
  {
   "cell_type": "markdown",
   "metadata": {},
   "source": [
    "Se descartan del merge anterior los match donde hay líneas de compras unidos a líneas de venta repetidas"
   ]
  },
  {
   "cell_type": "code",
   "execution_count": 62,
   "metadata": {},
   "outputs": [
    {
     "name": "stdout",
     "output_type": "stream",
     "text": [
      "Son 25 líneas de compras que se unieron a líneas repetidad de fact_line_id\n"
     ]
    }
   ],
   "source": [
    "ids_fact_line_repetidas = match_1ro.loc[(~match_1ro['fact_line_id'].isna()) & (match_1ro['fact_line_id'].duplicated()), 'fact_line_id']\n",
    "ids_order_line_con_fact_line_repetidas = match_1ro.loc[match_1ro['fact_line_id'].isin(ids_fact_line_repetidas), 'line_id']\n",
    "\n",
    "print(f'Son {len(ids_order_line_con_fact_line_repetidas)} líneas de compras que se unieron a líneas repetidad de fact_line_id')\n"
   ]
  },
  {
   "cell_type": "markdown",
   "metadata": {},
   "source": [
    "Segmentas del merge 'match_1ro_fase_b' los match que se pueden usar, delimitas el trabajo faltante"
   ]
  },
  {
   "cell_type": "code",
   "execution_count": 63,
   "metadata": {},
   "outputs": [
    {
     "name": "stdout",
     "output_type": "stream",
     "text": [
      "Son un total de 1411 líneas de compra en la fase B.\n",
      "   En el 1er match se emparejaron 739 de ellas 52.37%\n",
      "   Quedan por emparejar 672 de líneas 47.63%\n"
     ]
    }
   ],
   "source": [
    "match_1ro_compras_ok = match_1ro.loc[(~match_1ro['fact_line_id'].isna()) & (~match_1ro['line_id'].isin(ids_order_line_con_fact_line_repetidas)), ['fact_line_id', 'line_id']]\n",
    "match_1ro_compras_faltantes = match_1ro.loc[~match_1ro['line_id'].isin(match_1ro_compras_ok['line_id'])]\n",
    "\n",
    "print(f'Son un total de {len(compras_fase_b)} líneas de compra en la fase B.')\n",
    "\n",
    "print(f'   En el 1er match se emparejaron {len(match_1ro_compras_ok)} de ellas {len(match_1ro_compras_ok)/len(compras_fase_b)*100:.2f}%')\n",
    "print(f'   Quedan por emparejar {len(match_1ro_compras_faltantes)} de líneas {len(match_1ro_compras_faltantes)/len(compras_fase_b)*100:.2f}%')"
   ]
  },
  {
   "cell_type": "code",
   "execution_count": 64,
   "metadata": {},
   "outputs": [
    {
     "ename": "NameError",
     "evalue": "name 'ventas_prod_varios_prov_after_merge1' is not defined",
     "output_type": "error",
     "traceback": [
      "\u001b[1;31m---------------------------------------------------------------------------\u001b[0m",
      "\u001b[1;31mNameError\u001b[0m                                 Traceback (most recent call last)",
      "Cell \u001b[1;32mIn[64], line 12\u001b[0m\n\u001b[0;32m      8\u001b[0m \u001b[38;5;28;01mfor\u001b[39;00m i \u001b[38;5;129;01min\u001b[39;00m \u001b[38;5;28mrange\u001b[39m(\u001b[38;5;28mlen\u001b[39m(match_1ro_compras_faltantes)):\n\u001b[0;32m     10\u001b[0m     compra_df_for \u001b[38;5;241m=\u001b[39m match_1ro_compras_faltantes\u001b[38;5;241m.\u001b[39miloc[i]\n\u001b[1;32m---> 12\u001b[0m     mini_df \u001b[38;5;241m=\u001b[39m \u001b[43mventas_prod_varios_prov_after_merge1\u001b[49m\u001b[38;5;241m.\u001b[39mloc[\n\u001b[0;32m     13\u001b[0m                 \u001b[38;5;241m~\u001b[39m(ventas_prod_varios_prov_after_merge1[\u001b[38;5;124m'\u001b[39m\u001b[38;5;124mfact_line_id\u001b[39m\u001b[38;5;124m'\u001b[39m]\u001b[38;5;241m.\u001b[39misin(lista_ventas_merged))\n\u001b[0;32m     14\u001b[0m                 \u001b[38;5;241m&\u001b[39m (ventas_prod_varios_prov_after_merge1[\u001b[38;5;124m'\u001b[39m\u001b[38;5;124mproduct_id\u001b[39m\u001b[38;5;124m'\u001b[39m] \u001b[38;5;241m==\u001b[39m compra_df_for[\u001b[38;5;124m'\u001b[39m\u001b[38;5;124mproduct_id_pp\u001b[39m\u001b[38;5;124m'\u001b[39m])\n\u001b[0;32m     15\u001b[0m                 \u001b[38;5;241m&\u001b[39m (ventas_prod_varios_prov_after_merge1[\u001b[38;5;124m'\u001b[39m\u001b[38;5;124msalesperson_name\u001b[39m\u001b[38;5;124m'\u001b[39m] \u001b[38;5;241m==\u001b[39m compra_df_for[\u001b[38;5;124m'\u001b[39m\u001b[38;5;124mvendedora\u001b[39m\u001b[38;5;124m'\u001b[39m])\n\u001b[0;32m     16\u001b[0m                 \u001b[38;5;241m&\u001b[39m (ventas_prod_varios_prov_after_merge1[\u001b[38;5;124m'\u001b[39m\u001b[38;5;124mquantity\u001b[39m\u001b[38;5;124m'\u001b[39m] \u001b[38;5;241m==\u001b[39m compra_df_for[\u001b[38;5;124m'\u001b[39m\u001b[38;5;124mproduct_qty\u001b[39m\u001b[38;5;124m'\u001b[39m])\n\u001b[0;32m     17\u001b[0m                 \u001b[38;5;241m&\u001b[39m (ventas_prod_varios_prov_after_merge1[\u001b[38;5;124m'\u001b[39m\u001b[38;5;124minvoice_date\u001b[39m\u001b[38;5;124m'\u001b[39m] \u001b[38;5;241m>\u001b[39m\u001b[38;5;241m=\u001b[39m compra_df_for[\u001b[38;5;124m'\u001b[39m\u001b[38;5;124morder_date\u001b[39m\u001b[38;5;124m'\u001b[39m] \u001b[38;5;241m-\u001b[39m pd\u001b[38;5;241m.\u001b[39mTimedelta(days\u001b[38;5;241m=\u001b[39m\u001b[38;5;241m15\u001b[39m))\n\u001b[0;32m     18\u001b[0m                 \u001b[38;5;241m&\u001b[39m (ventas_prod_varios_prov_after_merge1[\u001b[38;5;124m'\u001b[39m\u001b[38;5;124minvoice_date\u001b[39m\u001b[38;5;124m'\u001b[39m] \u001b[38;5;241m<\u001b[39m\u001b[38;5;241m=\u001b[39m compra_df_for[\u001b[38;5;124m'\u001b[39m\u001b[38;5;124morder_date\u001b[39m\u001b[38;5;124m'\u001b[39m] \u001b[38;5;241m+\u001b[39m pd\u001b[38;5;241m.\u001b[39mTimedelta(days\u001b[38;5;241m=\u001b[39m\u001b[38;5;241m3\u001b[39m))\n\u001b[0;32m     19\u001b[0m             ]\n\u001b[0;32m     21\u001b[0m     \u001b[38;5;28;01mif\u001b[39;00m \u001b[38;5;129;01mnot\u001b[39;00m mini_df\u001b[38;5;241m.\u001b[39mempty:\n\u001b[0;32m     22\u001b[0m         lista_ventas_merged\u001b[38;5;241m.\u001b[39mappend(mini_df[\u001b[38;5;124m'\u001b[39m\u001b[38;5;124mfact_line_id\u001b[39m\u001b[38;5;124m'\u001b[39m]\u001b[38;5;241m.\u001b[39miloc[\u001b[38;5;241m0\u001b[39m])\n",
      "\u001b[1;31mNameError\u001b[0m: name 'ventas_prod_varios_prov_after_merge1' is not defined"
     ]
    }
   ],
   "source": [
    "# For para dar tratamiento a las líneas de compra que tuvieron tuvieron match con una misma línea de venta\n",
    "wep_igual_uno = []\n",
    "wep_muchas = []\n",
    "wep_vacias = []\n",
    "\n",
    "lista_ventas_merged = []\n",
    "\n",
    "for i in range(len(match_1ro_compras_faltantes)):\n",
    "\n",
    "    compra_df_for = match_1ro_compras_faltantes.iloc[i]\n",
    "\n",
    "    mini_df = ventas_prod_varios_prov_after_merge1.loc[\n",
    "                ~(ventas_prod_varios_prov_after_merge1['fact_line_id'].isin(lista_ventas_merged))\n",
    "                & (ventas_prod_varios_prov_after_merge1['product_id'] == compra_df_for['product_id_pp'])\n",
    "                & (ventas_prod_varios_prov_after_merge1['salesperson_name'] == compra_df_for['vendedora'])\n",
    "                & (ventas_prod_varios_prov_after_merge1['quantity'] == compra_df_for['product_qty'])\n",
    "                & (ventas_prod_varios_prov_after_merge1['invoice_date'] >= compra_df_for['order_date'] - pd.Timedelta(days=15))\n",
    "                & (ventas_prod_varios_prov_after_merge1['invoice_date'] <= compra_df_for['order_date'] + pd.Timedelta(days=3))\n",
    "            ]\n",
    "\n",
    "    if not mini_df.empty:\n",
    "        lista_ventas_merged.append(mini_df['fact_line_id'].iloc[0])\n",
    "\n",
    "    if len(mini_df) == 1:\n",
    "        wep_igual_uno.append(compra_df_for['line_id'])\n",
    "\n",
    "    if len(mini_df) > 1:\n",
    "        wep_muchas.append(compra_df_for['line_id'])\n",
    "    \n",
    "    if mini_df.empty:\n",
    "        wep_vacias.append(compra_df_for['line_id'])\n",
    "\n",
    "print(len(wep_igual_uno), 'wep_igual_uno')\n",
    "print(len(wep_muchas), 'wep_muchas')\n",
    "print(len(wep_vacias), 'wep_vacias')\n",
    "lista_ventas_merged"
   ]
  },
  {
   "cell_type": "markdown",
   "metadata": {},
   "source": [
    "# No seguir  \n",
    "Se ocupa terminar el costo de ventas: estas líneas son para obtener la \"Utilidad\" y el \"Margen de Contribución\"."
   ]
  },
  {
   "cell_type": "code",
   "execution_count": null,
   "metadata": {},
   "outputs": [],
   "source": [
    "# #Borrar esta línea, es provisional. Se tienen que corregir usando pd.NaN\n",
    "\n",
    "# for i in range(len(ventas_año['price_subtotal'])):\n",
    "#     ventas_año['price_subtotal'].iloc[i] = 0.01 if ventas_año['price_subtotal'].iloc[i] == 0 else ventas_año['price_subtotal'].iloc[i]"
   ]
  },
  {
   "cell_type": "code",
   "execution_count": null,
   "metadata": {},
   "outputs": [],
   "source": [
    "# ventas_año['costo_date_dif'] = ((ventas_año['invoice_date'] - ventas_año['costo_order_date']).dt.days).astype('Int64')\n",
    "# ventas_año['costo_subtotal'] = ventas_año['quantity'] * ventas_año['costo_producto']\n",
    "# ventas_año['utilidad_subtotal'] = ventas_año['price_subtotal'] - ventas_año['costo_subtotal']\n",
    "# ventas_año['utilidad_%'] = ((ventas_año['price_subtotal'] / ventas_año['costo_subtotal']) - 1) * 100\n",
    "# ventas_año['marg_util_%'] = (ventas_año['utilidad_subtotal'] / ventas_año['price_subtotal']) * 100\n",
    "\n",
    "\n",
    "# cols_ventas = ['fact_doc_id', 'name', 'invoice_date', 'partner_id',\n",
    "#        'partner_name', 'salesperson_id', 'salesperson_name', 'sale_team_description', 'business_model',\n",
    "#        'product_id', 'product_name', 'quantity', 'price_subtotal',\n",
    "#        'costo_subtotal', 'costo_order_date', 'costo_order_line_id',\n",
    "#        'costo_date_dif', 'utilidad_subtotal', 'utilidad_%', 'marg_util_%', 'costo_producto']\n",
    "\n",
    "# ventas = ventas_año[cols_ventas]"
   ]
  }
 ],
 "metadata": {
  "kernelspec": {
   "display_name": "env_algoritmo-comisiones-Odoo",
   "language": "python",
   "name": "python3"
  },
  "language_info": {
   "codemirror_mode": {
    "name": "ipython",
    "version": 3
   },
   "file_extension": ".py",
   "mimetype": "text/x-python",
   "name": "python",
   "nbconvert_exporter": "python",
   "pygments_lexer": "ipython3",
   "version": "3.11.5"
  }
 },
 "nbformat": 4,
 "nbformat_minor": 2
}
