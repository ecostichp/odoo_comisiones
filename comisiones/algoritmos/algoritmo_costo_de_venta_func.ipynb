{
 "cells": [
  {
   "cell_type": "code",
   "execution_count": 2,
   "metadata": {},
   "outputs": [],
   "source": [
    "import os\n",
    "from pathlib import Path\n",
    "from sqlalchemy import create_engine\n",
    "\n",
    "import xmlrpc.client\n",
    "import pandas as pd\n",
    "pd.options.display.float_format = '{:,.2f}'.format\n",
    "\n",
    "from IPython.display import display\n",
    "\n",
    "api_url = os.environ.get('ODOO_URL_API')\n",
    "api_db = os.environ.get('ODOO_DB_API')\n",
    "api_username = os.environ.get('ODOO_USERNAME_API')\n",
    "api_clave = os.environ.get('ODOO_CLAVE_API')\n",
    "\n",
    "common = xmlrpc.client.ServerProxy(f'{api_url}/xmlrpc/2/common')\n",
    "uid = common.authenticate(api_db, api_username, api_clave, {})\n",
    "models = xmlrpc.client.ServerProxy(f'{api_url}/xmlrpc/2/object')\n",
    "\n",
    "db_file = 'comisiones.db'\n",
    "db_file_path_str = str(Path().cwd().parent.parent.joinpath(f'data/{db_file}'))\n",
    "\n",
    "engine = create_engine(f'sqlite:///{db_file_path_str}')"
   ]
  },
  {
   "cell_type": "markdown",
   "metadata": {},
   "source": [
    "# Generar los DataFrames"
   ]
  },
  {
   "cell_type": "code",
   "execution_count": 3,
   "metadata": {},
   "outputs": [],
   "source": [
    "with engine.connect() as conn, conn.begin():  \n",
    "    ventas_enero = pd.read_sql_table('ventas_enero', conn, dtype_backend='numpy_nullable')\n",
    "    ventas_febrero = pd.read_sql_table('ventas_febrero', conn, dtype_backend='numpy_nullable')\n",
    "    ventas_marzo = pd.read_sql_table('ventas_marzo', conn, dtype_backend='numpy_nullable')\n",
    "    ventas_abril = pd.read_sql_table('ventas_abril', conn, dtype_backend='numpy_nullable')\n",
    "    ventas_mayo = pd.read_sql_table('ventas_mayo', conn, dtype_backend='numpy_nullable')\n",
    "    ventas_junio = pd.read_sql_table('ventas_junio', conn, dtype_backend='numpy_nullable')\n",
    "    ventas_año = pd.read_sql_table('ventas_año', conn, dtype_backend='numpy_nullable')\n",
    "\n",
    "engine.dispose()"
   ]
  },
  {
   "cell_type": "code",
   "execution_count": 4,
   "metadata": {},
   "outputs": [],
   "source": [
    "ventas_año = ventas_año[ventas_año['invoice_date'].dt.month < 7]"
   ]
  },
  {
   "cell_type": "code",
   "execution_count": 5,
   "metadata": {},
   "outputs": [],
   "source": [
    "db_file1 = 'proveedores_oficiales.xlsx'\n",
    "db_file1_path_str = str(Path().cwd().parent.parent.joinpath(f'data/compras/{db_file1}'))\n",
    "\n",
    "proveedores = pd.read_excel(db_file1_path_str, dtype_backend='numpy_nullable')\n",
    "prov_oficiales = proveedores.loc[proveedores['oficial'] == 1][['partner_id', 'partner_name']]\n",
    "prov_locales = proveedores.loc[proveedores['oficial'] == 0][['partner_id', 'partner_name']]"
   ]
  },
  {
   "cell_type": "code",
   "execution_count": 6,
   "metadata": {},
   "outputs": [],
   "source": [
    "db_file2 = 'productos_sin_compra.xlsx'\n",
    "db_file2_path_str = str(Path().cwd().parent.parent.joinpath(f'data/compras/{db_file2}'))\n",
    "\n",
    "productos_sin_compra = pd.read_excel(db_file2_path_str, dtype_backend='numpy_nullable')\n",
    "\n",
    "productos_sin_compra['tolerance_order_date'] = productos_sin_compra['order_date']"
   ]
  },
  {
   "cell_type": "code",
   "execution_count": 7,
   "metadata": {},
   "outputs": [],
   "source": [
    "fields_compras_doc = ['name', 'state','partner_id', 'partner_ref', 'date_approve', 'x_fecha_factura', 'user_id', 'create_uid']\n",
    "\n",
    "ids_compras_doc = models.execute_kw(api_db, uid, api_clave, 'purchase.order', 'search', [[(\"state\", \"in\", (\"purchase\", \"done\"))]])\n",
    "json_compras_doc = models.execute_kw(api_db, uid, api_clave, 'purchase.order', 'read', [ids_compras_doc], {'fields': fields_compras_doc})"
   ]
  },
  {
   "cell_type": "code",
   "execution_count": 8,
   "metadata": {},
   "outputs": [],
   "source": [
    "data_compras_doc = []\n",
    "\n",
    "for compra in json_compras_doc:\n",
    "    new = {}\n",
    "    new['order_id'] = compra['id']\n",
    "    new['order_name'] = compra['name']\n",
    "    new['order_state'] = compra['state']\n",
    "    new['order_date'] = compra['date_approve'] if compra['date_approve'] else pd.NA\n",
    "    new['partner_id'] = compra['partner_id'][0]\n",
    "    new['partner_name'] = compra['partner_id'][1]\n",
    "    new['partner_fact_ref'] = compra['partner_ref']\n",
    "    new['partner_fact_date'] = compra['x_fecha_factura'] if compra['x_fecha_factura'] else pd.NA\n",
    "    new['capturista'] = compra['create_uid'][1] if compra['create_uid'] else pd.NA\n",
    "    new['vendedora'] = compra['user_id'][1] if compra['user_id'] else pd.NA\n",
    "\n",
    "    data_compras_doc.append(new)\n",
    "\n",
    "compras_doc = pd.DataFrame(data_compras_doc)\n",
    "compras_doc['order_date'] = pd.to_datetime(compras_doc['order_date'], format='%Y-%m-%d %H:%M:%S')\n",
    "compras_doc['partner_fact_date'] = pd.to_datetime(compras_doc['partner_fact_date'], format='%Y-%m-%d')"
   ]
  },
  {
   "cell_type": "code",
   "execution_count": 9,
   "metadata": {},
   "outputs": [],
   "source": [
    "fields_compras_line = ['order_id', 'date_approve', 'partner_id','product_id', 'product_qty', 'price_unit_discounted']\n",
    "\n",
    "ids_compras_line = models.execute_kw(api_db, uid, api_clave, 'purchase.order.line', 'search', [[(\"order_id.id\", \"in\", ids_compras_doc)]])\n",
    "json_compras_line = models.execute_kw(api_db, uid, api_clave, 'purchase.order.line', 'read', [ids_compras_line], {'fields': fields_compras_line})"
   ]
  },
  {
   "cell_type": "code",
   "execution_count": 10,
   "metadata": {},
   "outputs": [],
   "source": [
    "data_compras_line = []\n",
    "\n",
    "for line in json_compras_line:\n",
    "    new = {}\n",
    "    new['line_id'] = line['id']\n",
    "    new['order_id'] = line['order_id'][0]\n",
    "    new['order_name'] = line['order_id'][1]\n",
    "    new['order_date'] = line['date_approve'] if line['date_approve'] else pd.NA\n",
    "    new['partner_id'] = line['partner_id'][0]\n",
    "    new['partner_name'] = line['partner_id'][1]\n",
    "    new['product_id_pp'] = line['product_id'][0]\n",
    "    new['product_name'] = line['product_id'][1]\n",
    "    new['product_qty'] = line['product_qty']\n",
    "    new['product_price'] = line['price_unit_discounted']\n",
    "    \n",
    "    data_compras_line.append(new)\n",
    "\n",
    "compras_linea = pd.DataFrame(data_compras_line)\n",
    "compras_linea['order_date'] = pd.to_datetime(compras_linea['order_date'], format='%Y-%m-%d %H:%M:%S')\n",
    "\n",
    "compras_linea['oficial'] = compras_linea['partner_id'].isin(prov_oficiales['partner_id'])"
   ]
  },
  {
   "cell_type": "code",
   "execution_count": 11,
   "metadata": {},
   "outputs": [],
   "source": [
    "compras_odoo = pd.merge(\n",
    "                    compras_linea,\n",
    "                    compras_doc[['order_id', 'partner_fact_ref', 'partner_fact_date', 'capturista', 'vendedora']], \n",
    "                    how='left', \n",
    "                    on='order_id'\n",
    "                )\n",
    "\n",
    "compras_odoo['tolerance_order_date'] = compras_odoo['order_date'].dt.normalize() - pd.Timedelta(days=5)\n",
    "\n",
    "cols_to_Int64 = ['line_id', 'order_id', 'partner_id', 'product_id_pp']\n",
    "compras_odoo[cols_to_Int64] = compras_odoo[cols_to_Int64].astype('Int64')\n",
    "\n",
    "compras_odoo['product_qty'] = compras_odoo['product_qty'].astype('Float64')\n",
    "compras_odoo['vendedora'] = compras_odoo['vendedora'].convert_dtypes()\n",
    "\n",
    "compras = pd.concat([compras_odoo, productos_sin_compra])"
   ]
  },
  {
   "cell_type": "markdown",
   "metadata": {},
   "source": [
    "# Checks"
   ]
  },
  {
   "cell_type": "code",
   "execution_count": 12,
   "metadata": {},
   "outputs": [
    {
     "name": "stdout",
     "output_type": "stream",
     "text": [
      "Todo correcto con check1\n"
     ]
    }
   ],
   "source": [
    "# Línea para comprobrar que el 100% de los proveedores de Odoo están calificados en la lista de proveedores oficiales\n",
    "\n",
    "check1 = (compras_doc[~compras_doc['partner_id'].isin(proveedores['partner_id'])]).drop_duplicates('partner_id')\n",
    "\n",
    "if not check1.empty:\n",
    "    print('Hay proveedores no calificados')\n",
    "    display(check1)\n",
    "\n",
    "else:\n",
    "    print('Todo correcto con check1')\n"
   ]
  },
  {
   "cell_type": "code",
   "execution_count": 13,
   "metadata": {},
   "outputs": [
    {
     "name": "stdout",
     "output_type": "stream",
     "text": [
      "Hay 21 renglones sin costo de la venta.\n",
      "Los productos sin costo son los siguientes:\n"
     ]
    },
    {
     "data": {
      "text/html": [
       "<div>\n",
       "<style scoped>\n",
       "    .dataframe tbody tr th:only-of-type {\n",
       "        vertical-align: middle;\n",
       "    }\n",
       "\n",
       "    .dataframe tbody tr th {\n",
       "        vertical-align: top;\n",
       "    }\n",
       "\n",
       "    .dataframe thead th {\n",
       "        text-align: right;\n",
       "    }\n",
       "</style>\n",
       "<table border=\"1\" class=\"dataframe\">\n",
       "  <thead>\n",
       "    <tr style=\"text-align: right;\">\n",
       "      <th></th>\n",
       "      <th>product_id</th>\n",
       "      <th>product_name_x</th>\n",
       "    </tr>\n",
       "  </thead>\n",
       "  <tbody>\n",
       "    <tr>\n",
       "      <th>10061</th>\n",
       "      <td>14757</td>\n",
       "      <td>Nuevo *0*</td>\n",
       "    </tr>\n",
       "    <tr>\n",
       "      <th>10282</th>\n",
       "      <td>28586</td>\n",
       "      <td>Anticipo</td>\n",
       "    </tr>\n",
       "    <tr>\n",
       "      <th>13415</th>\n",
       "      <td>28638</td>\n",
       "      <td>Servicios de Facturación</td>\n",
       "    </tr>\n",
       "    <tr>\n",
       "      <th>18005</th>\n",
       "      <td>4</td>\n",
       "      <td>Anticipo (PdV)</td>\n",
       "    </tr>\n",
       "  </tbody>\n",
       "</table>\n",
       "</div>"
      ],
      "text/plain": [
       "       product_id            product_name_x\n",
       "10061       14757                 Nuevo *0*\n",
       "10282       28586                  Anticipo\n",
       "13415       28638  Servicios de Facturación\n",
       "18005           4            Anticipo (PdV)"
      ]
     },
     "metadata": {},
     "output_type": "display_data"
    }
   ],
   "source": [
    "check_costo_venta = (\n",
    "    pd.merge_asof(\n",
    "        left = ventas_año.sort_values('invoice_date'),\n",
    "        right = compras.sort_values('tolerance_order_date'), \n",
    "        \n",
    "        left_by = 'product_id', \n",
    "        right_by = 'product_id_pp', \n",
    "        \n",
    "        left_on = 'invoice_date', \n",
    "        right_on = 'tolerance_order_date', \n",
    "\n",
    "        direction = 'backward')\n",
    ")\n",
    "\n",
    "check2 = check_costo_venta[check_costo_venta['product_price'].isna()][['product_id', 'product_name_x']]\n",
    "\n",
    "print(f'Hay {len(check2)} renglones sin costo de la venta.')\n",
    "\n",
    "if not check2.empty:\n",
    "    print('Los productos sin costo son los siguientes:')\n",
    "    display(check2.drop_duplicates('product_id'))\n",
    "\n",
    "else:\n",
    "    print('Todo correcto con check2')"
   ]
  },
  {
   "cell_type": "markdown",
   "metadata": {},
   "source": [
    "# Preliminares... obtener los segmentos a trabajar"
   ]
  },
  {
   "cell_type": "markdown",
   "metadata": {},
   "source": [
    "Sacar los productos que se compran con varios proveedores"
   ]
  },
  {
   "cell_type": "code",
   "execution_count": 14,
   "metadata": {},
   "outputs": [
    {
     "name": "stdout",
     "output_type": "stream",
     "text": [
      "Se han comprado un total de 5088 productos en Odoo:\n",
      "    - 221 productos con más de un proveedor 4.34%\n",
      "    - 4867 productos con un único proveedor 95.66%\n"
     ]
    }
   ],
   "source": [
    "prod_comprados_odoo = ( compras_odoo[['partner_id', 'partner_name', 'product_id_pp', 'product_name']]\n",
    "                        .sort_values('partner_id')\n",
    "                        .groupby('product_id_pp')\n",
    "                        .agg({'product_name': ['first'], 'partner_id': ['mean', 'first']})\n",
    "                    ).reset_index()\n",
    "\n",
    "prod_comprados_odoo['diff'] = prod_comprados_odoo[('partner_id', 'mean')]  == prod_comprados_odoo[('partner_id', 'first')]\n",
    "\n",
    "ids_productos_varios_prov = prod_comprados_odoo.loc[prod_comprados_odoo['diff'] == False]['product_id_pp']\n",
    "ids_productos_unicos_prov = prod_comprados_odoo.loc[prod_comprados_odoo['diff'] == True]['product_id_pp']\n",
    "\n",
    "print(f\"Se han comprado un total de {len(prod_comprados_odoo['product_id_pp'])} productos en Odoo:\")\n",
    "print(f'    - {len(ids_productos_varios_prov)} productos con más de un proveedor', f\"{len(ids_productos_varios_prov)/len(prod_comprados_odoo['product_id_pp'])*100:.2f}%\")\n",
    "print(f'    - {len(ids_productos_unicos_prov)} productos con un único proveedor', f\"{len(ids_productos_unicos_prov)/len(prod_comprados_odoo['product_id_pp'])*100:.2f}%\")"
   ]
  },
  {
   "cell_type": "markdown",
   "metadata": {},
   "source": [
    "De los productos comprados a más de un proveedor, se obtienen los que no han cambiado su costo en el tiempo"
   ]
  },
  {
   "cell_type": "code",
   "execution_count": 15,
   "metadata": {},
   "outputs": [
    {
     "name": "stdout",
     "output_type": "stream",
     "text": [
      "De los 221 productos comprados con varios proveedores:\n",
      "    - 6 productos no han cambiado su costo, representan a un 2.71%\n",
      "    - 215 productos sí han cambiado su costo, representan a un 97.29%\n"
     ]
    }
   ],
   "source": [
    "compras_prod_varios_prov = compras_odoo[compras_odoo['product_id_pp'].isin(ids_productos_varios_prov)]\n",
    "\n",
    "\n",
    "compras_prod_varios_prov_agrupado = (compras_prod_varios_prov\n",
    "                                     .sort_values('partner_id')\n",
    "                                     .groupby('product_id_pp')\n",
    "                                     .agg({'product_name':['first'], 'line_id':['count'], 'product_price':['first', 'mean']})\n",
    "                                    ).reset_index()\n",
    "\n",
    "compras_prod_varios_prov_agrupado['diff'] = compras_prod_varios_prov_agrupado[('product_price', 'first')] == compras_prod_varios_prov_agrupado[('product_price', 'mean')]\n",
    "\n",
    "ids_prod_varios_prov_costo_sin_cambios = compras_prod_varios_prov_agrupado.loc[compras_prod_varios_prov_agrupado['diff'] == True]['product_id_pp']\n",
    "ids_prod_varios_prov_costo_con_cambios = compras_prod_varios_prov_agrupado.loc[compras_prod_varios_prov_agrupado['diff'] == False]['product_id_pp']\n",
    "\n",
    "\n",
    "print(f'De los {len(ids_productos_varios_prov)} productos comprados con varios proveedores:')\n",
    "print(f'    - {len(ids_prod_varios_prov_costo_sin_cambios)} productos no han cambiado su costo, representan a un {len(ids_prod_varios_prov_costo_sin_cambios)/len(ids_productos_varios_prov)*100:.2f}%')\n",
    "print(f'    - {len(ids_prod_varios_prov_costo_con_cambios)} productos sí han cambiado su costo, representan a un {len(ids_prod_varios_prov_costo_con_cambios)/len(ids_productos_varios_prov)*100:.2f}%')\n"
   ]
  },
  {
   "cell_type": "markdown",
   "metadata": {},
   "source": [
    "### Productos fase A del costo de ventas"
   ]
  },
  {
   "cell_type": "markdown",
   "metadata": {},
   "source": [
    "Se concatena los productos comprados a un único proveedor ('ids_productos_unicos_prov') y los productos comprados a varios proveedores que no han cambiado su precio ('ids_prod_varios_prov_costo_sin_cambios')  "
   ]
  },
  {
   "cell_type": "code",
   "execution_count": 16,
   "metadata": {},
   "outputs": [],
   "source": [
    "ids_prod_fase_A = pd.concat([ids_productos_unicos_prov, ids_prod_varios_prov_costo_sin_cambios]).sort_values()"
   ]
  },
  {
   "cell_type": "markdown",
   "metadata": {},
   "source": [
    "Se definen los dataframes de ventas y compras para la fase A, donde al ser productos de venta \"diaria\" se utiliza el data frame de compras en general."
   ]
  },
  {
   "cell_type": "code",
   "execution_count": 17,
   "metadata": {},
   "outputs": [],
   "source": [
    "ventas_fase_A = ventas_año[ventas_año['product_id'].isin(ids_prod_fase_A)]\n",
    "compras_fase_A = compras[compras['product_id_pp'].isin(ids_prod_fase_A)]"
   ]
  },
  {
   "cell_type": "markdown",
   "metadata": {},
   "source": [
    "### Productos fase B del costo de ventas"
   ]
  },
  {
   "cell_type": "markdown",
   "metadata": {},
   "source": [
    "Resto de los productos que no pertenecen a la fase A.  \n",
    "Se definen los dataframes de ventas y compras para la fase B, donde al ser productos de venta \"especial\" se utiliza el data frame de compras_odoo."
   ]
  },
  {
   "cell_type": "code",
   "execution_count": 18,
   "metadata": {},
   "outputs": [],
   "source": [
    "ventas_fase_B = ventas_año[~ventas_año['product_id'].isin(ids_prod_fase_A)]\n",
    "compras_fase_B = compras_odoo[~compras_odoo['product_id_pp'].isin(ids_prod_fase_A)]"
   ]
  },
  {
   "cell_type": "markdown",
   "metadata": {},
   "source": [
    "# Fase A: punto focal \"Líneas de venta\"\n",
    "## Productos comprados con un único proveedor y\n",
    "## Productos comprados a varios proveedores que no cambiaron su precio en el tiempo"
   ]
  },
  {
   "cell_type": "markdown",
   "metadata": {},
   "source": [
    "Se obtiene el costo de venta en el dataframe 'ventas_año' donde  los renglones de venta coinciden con los 'ids_prod_fase_A', su contraparte es el total de las compras.\n",
    "Estas ventas no son de tipo \"especial\", sino venta normal y se trata de encontrar un \"Último costo\". Es por esto que no se usa tolerancia y la dirección es \"backward\"."
   ]
  },
  {
   "cell_type": "code",
   "execution_count": 19,
   "metadata": {},
   "outputs": [],
   "source": [
    "costo_venta_fase_A = (\n",
    "    pd.merge_asof(\n",
    "        left = ventas_fase_A.sort_values('invoice_date'),\n",
    "        right = compras_fase_A.sort_values('tolerance_order_date'), \n",
    "        \n",
    "        left_by = 'product_id', \n",
    "        right_by = 'product_id_pp', \n",
    "        \n",
    "        left_on = 'invoice_date', \n",
    "        right_on = 'tolerance_order_date', \n",
    "\n",
    "        direction = 'backward')\n",
    ")"
   ]
  },
  {
   "cell_type": "markdown",
   "metadata": {},
   "source": [
    "# Fase B: punto focal \"Líneas de compra\"\n",
    "## Productos comprados a varios proveedores que sí cambiaron su precio en el tiempo"
   ]
  },
  {
   "cell_type": "markdown",
   "metadata": {},
   "source": [
    "### 1er vuelta: productos que con un match sencillo, coinciden en 3 condiciones [producto, vendedora, cantidad]"
   ]
  },
  {
   "cell_type": "markdown",
   "metadata": {},
   "source": [
    "Se estudian las líneas de compras con 'ids_prod_fase_B'"
   ]
  },
  {
   "cell_type": "code",
   "execution_count": 20,
   "metadata": {},
   "outputs": [
    {
     "name": "stdout",
     "output_type": "stream",
     "text": [
      "Son un total de 13113 líneas de compra en Odoo. (Aquí no hay líneas del SAE)\n",
      "\n",
      "En la fase B, quedan sólo 1415 de ellas 10.79%\n"
     ]
    }
   ],
   "source": [
    "print(f'Son un total de {len(compras_odoo)} líneas de compra en Odoo. (Aquí no hay líneas del SAE)')\n",
    "\n",
    "print(f'\\nEn la fase B, quedan sólo {len(compras_fase_B)} de ellas {len(compras_fase_B)/len(compras_odoo)*100:.2f}%')"
   ]
  },
  {
   "cell_type": "markdown",
   "metadata": {},
   "source": [
    "Debido a que el punto focal son las compras, no se puede hablar de un costo de la venta, sino de un \"match entre ids\".  \n",
    "Se obtiene el match de líneas de compra de fase B donde  los renglones de coinciden con los 'ids_productos_varios_prov_costo_con_cambios'. Su contraparte es el total de ventas_año con ids de producto de fase B.  \n",
    "Debido a que estas compras son para ventas de tipo \"Especial\", se trata de buscar una venta exacta con las 3 condiciones descritas anteriormente. Se usa una tolerancia y con dirección \"nearest\"."
   ]
  },
  {
   "cell_type": "code",
   "execution_count": 21,
   "metadata": {},
   "outputs": [],
   "source": [
    "match_1ro = (\n",
    "    pd.merge_asof(\n",
    "        left = compras_fase_B.sort_values('order_date'), \n",
    "        right = ventas_fase_B.sort_values('invoice_date'),\n",
    "        \n",
    "        left_by = ['product_id_pp', 'vendedora', 'product_qty'], \n",
    "        right_by = ['product_id', 'salesperson_name', 'quantity'], \n",
    "        \n",
    "        left_on = 'order_date', \n",
    "        right_on = 'invoice_date', \n",
    "\n",
    "        tolerance = pd.Timedelta(days=3),\n",
    "        \n",
    "        direction = 'nearest')\n",
    ")"
   ]
  },
  {
   "cell_type": "markdown",
   "metadata": {},
   "source": [
    "Se descartan del merge anterior los match donde hay líneas de compras unidos a líneas de venta repetidas"
   ]
  },
  {
   "cell_type": "code",
   "execution_count": 22,
   "metadata": {},
   "outputs": [
    {
     "name": "stdout",
     "output_type": "stream",
     "text": [
      "Son 17 líneas de compras que se unieron a líneas repetidad de fact_line_id\n"
     ]
    }
   ],
   "source": [
    "ids_fact_line_repetidas = match_1ro.loc[(~match_1ro['fact_line_id'].isna()) & (match_1ro['fact_line_id'].duplicated()), 'fact_line_id']\n",
    "ids_order_line_con_fact_line_repetidas = match_1ro.loc[match_1ro['fact_line_id'].isin(ids_fact_line_repetidas), 'line_id']\n",
    "\n",
    "print(f'Son {len(ids_order_line_con_fact_line_repetidas)} líneas de compras que se unieron a líneas repetidad de fact_line_id')\n"
   ]
  },
  {
   "cell_type": "markdown",
   "metadata": {},
   "source": [
    "Se procede a segmentar del merge 'match_1ro_fase_b' los match que sí se pueden usar y delimitas el trabajo faltante"
   ]
  },
  {
   "cell_type": "code",
   "execution_count": 23,
   "metadata": {},
   "outputs": [
    {
     "name": "stdout",
     "output_type": "stream",
     "text": [
      "Son un total de 1415 líneas de compra en la fase B.\n",
      "   En el 1er match se emparejaron 653 de ellas 46.15%\n",
      "   Quedan por emparejar 762 de líneas 53.85%\n"
     ]
    }
   ],
   "source": [
    "match_1ro_compras_ok = match_1ro.loc[(~match_1ro['fact_line_id'].isna()) & (~match_1ro['line_id'].isin(ids_order_line_con_fact_line_repetidas)), ['fact_line_id', 'line_id']]\n",
    "\n",
    "match_1ro_compras_faltantes = compras_fase_B.loc[~compras_fase_B['line_id'].isin(match_1ro_compras_ok['line_id'])]\n",
    "match_1ro_ventas_faltantes = ventas_fase_B.loc[~ventas_fase_B['fact_line_id'].isin(match_1ro_compras_ok['fact_line_id'])]\n",
    "\n",
    "print(f'Son un total de {len(compras_fase_B)} líneas de compra en la fase B.')\n",
    "\n",
    "print(f'   En el 1er match se emparejaron {len(match_1ro_compras_ok)} de ellas {len(match_1ro_compras_ok)/len(compras_fase_B)*100:.2f}%')\n",
    "print(f'   Quedan por emparejar {len(match_1ro_compras_faltantes)} de líneas {len(match_1ro_compras_faltantes)/len(compras_fase_B)*100:.2f}%')"
   ]
  },
  {
   "cell_type": "markdown",
   "metadata": {},
   "source": [
    "### ¡WEP! 2da vuelta: productos que tuvieron líneas repetidas de venta y los que no se mercharon!!"
   ]
  },
  {
   "cell_type": "code",
   "execution_count": 24,
   "metadata": {},
   "outputs": [
    {
     "name": "stdout",
     "output_type": "stream",
     "text": [
      "116 wep_igual_uno\n",
      "6 wep_muchas\n",
      "640 wep_vacias\n"
     ]
    },
    {
     "data": {
      "text/html": [
       "<div>\n",
       "<style scoped>\n",
       "    .dataframe tbody tr th:only-of-type {\n",
       "        vertical-align: middle;\n",
       "    }\n",
       "\n",
       "    .dataframe tbody tr th {\n",
       "        vertical-align: top;\n",
       "    }\n",
       "\n",
       "    .dataframe thead th {\n",
       "        text-align: right;\n",
       "    }\n",
       "</style>\n",
       "<table border=\"1\" class=\"dataframe\">\n",
       "  <thead>\n",
       "    <tr style=\"text-align: right;\">\n",
       "      <th></th>\n",
       "      <th>fact_line_id</th>\n",
       "      <th>line_id</th>\n",
       "    </tr>\n",
       "  </thead>\n",
       "  <tbody>\n",
       "    <tr>\n",
       "      <th>0</th>\n",
       "      <td>418659</td>\n",
       "      <td>19867</td>\n",
       "    </tr>\n",
       "    <tr>\n",
       "      <th>1</th>\n",
       "      <td>398906</td>\n",
       "      <td>19053</td>\n",
       "    </tr>\n",
       "    <tr>\n",
       "      <th>2</th>\n",
       "      <td>390209</td>\n",
       "      <td>18533</td>\n",
       "    </tr>\n",
       "    <tr>\n",
       "      <th>3</th>\n",
       "      <td>386825</td>\n",
       "      <td>18372</td>\n",
       "    </tr>\n",
       "    <tr>\n",
       "      <th>4</th>\n",
       "      <td>386826</td>\n",
       "      <td>18373</td>\n",
       "    </tr>\n",
       "    <tr>\n",
       "      <th>...</th>\n",
       "      <td>...</td>\n",
       "      <td>...</td>\n",
       "    </tr>\n",
       "    <tr>\n",
       "      <th>117</th>\n",
       "      <td>10436</td>\n",
       "      <td>168</td>\n",
       "    </tr>\n",
       "    <tr>\n",
       "      <th>118</th>\n",
       "      <td>10437</td>\n",
       "      <td>169</td>\n",
       "    </tr>\n",
       "    <tr>\n",
       "      <th>119</th>\n",
       "      <td>5693</td>\n",
       "      <td>144</td>\n",
       "    </tr>\n",
       "    <tr>\n",
       "      <th>120</th>\n",
       "      <td>11303</td>\n",
       "      <td>65</td>\n",
       "    </tr>\n",
       "    <tr>\n",
       "      <th>121</th>\n",
       "      <td>11002</td>\n",
       "      <td>5</td>\n",
       "    </tr>\n",
       "  </tbody>\n",
       "</table>\n",
       "<p>122 rows × 2 columns</p>\n",
       "</div>"
      ],
      "text/plain": [
       "     fact_line_id  line_id\n",
       "0          418659    19867\n",
       "1          398906    19053\n",
       "2          390209    18533\n",
       "3          386825    18372\n",
       "4          386826    18373\n",
       "..            ...      ...\n",
       "117         10436      168\n",
       "118         10437      169\n",
       "119          5693      144\n",
       "120         11303       65\n",
       "121         11002        5\n",
       "\n",
       "[122 rows x 2 columns]"
      ]
     },
     "execution_count": 24,
     "metadata": {},
     "output_type": "execute_result"
    }
   ],
   "source": [
    "# For para dar tratamiento a las líneas de compra que tuvieron tuvieron match con una misma línea de venta\n",
    "wep_igual_uno = []\n",
    "wep_muchas = []\n",
    "wep_vacias = []\n",
    "\n",
    "ids_ventas_a_descontar = []\n",
    "lista_ventas_merged = []\n",
    "\n",
    "for i in range(len(match_1ro_compras_faltantes)):\n",
    "\n",
    "    linea_compra = match_1ro_compras_faltantes.iloc[i]\n",
    "\n",
    "    mini_df = match_1ro_ventas_faltantes.loc[\n",
    "                ~(match_1ro_ventas_faltantes['fact_line_id'].isin(ids_ventas_a_descontar))\n",
    "                & (match_1ro_ventas_faltantes['product_id'] == linea_compra['product_id_pp'])\n",
    "                & (match_1ro_ventas_faltantes['salesperson_name'] == linea_compra['vendedora'])\n",
    "                & (match_1ro_ventas_faltantes['quantity'] == linea_compra['product_qty'])\n",
    "                & (match_1ro_ventas_faltantes['invoice_date'] >= linea_compra['order_date'] - pd.Timedelta(days=15))\n",
    "                & (match_1ro_ventas_faltantes['invoice_date'] <= linea_compra['order_date'] + pd.Timedelta(days=5))\n",
    "            ]\n",
    "\n",
    "    if not mini_df.empty:\n",
    "        ids_ventas_a_descontar.append(mini_df['fact_line_id'].iloc[0])\n",
    "        lista_ventas_merged.append([mini_df['fact_line_id'].iloc[0], linea_compra['line_id']])\n",
    "\n",
    "    if len(mini_df) == 1:\n",
    "        wep_igual_uno.append(linea_compra['line_id'])\n",
    "\n",
    "    if len(mini_df) > 1:\n",
    "        wep_muchas.append(linea_compra['line_id'])\n",
    "    \n",
    "    if mini_df.empty:\n",
    "        wep_vacias.append(linea_compra['line_id'])\n",
    "\n",
    "print(len(wep_igual_uno), 'wep_igual_uno')\n",
    "print(len(wep_muchas), 'wep_muchas')\n",
    "print(len(wep_vacias), 'wep_vacias')\n",
    "\n",
    "match_2do_compras_ok = pd.DataFrame(lista_ventas_merged, columns=['fact_line_id', 'line_id'])\n",
    "match_2do_compras_ok"
   ]
  },
  {
   "cell_type": "code",
   "execution_count": 37,
   "metadata": {},
   "outputs": [
    {
     "data": {
      "text/html": [
       "<div>\n",
       "<style scoped>\n",
       "    .dataframe tbody tr th:only-of-type {\n",
       "        vertical-align: middle;\n",
       "    }\n",
       "\n",
       "    .dataframe tbody tr th {\n",
       "        vertical-align: top;\n",
       "    }\n",
       "\n",
       "    .dataframe thead th {\n",
       "        text-align: right;\n",
       "    }\n",
       "</style>\n",
       "<table border=\"1\" class=\"dataframe\">\n",
       "  <thead>\n",
       "    <tr style=\"text-align: right;\">\n",
       "      <th></th>\n",
       "      <th>line_id</th>\n",
       "      <th>order_id</th>\n",
       "      <th>order_name</th>\n",
       "      <th>order_date</th>\n",
       "      <th>partner_id</th>\n",
       "      <th>partner_name</th>\n",
       "      <th>product_id_pp</th>\n",
       "      <th>product_name</th>\n",
       "      <th>product_qty</th>\n",
       "      <th>product_price</th>\n",
       "      <th>oficial</th>\n",
       "      <th>partner_fact_ref</th>\n",
       "      <th>partner_fact_date</th>\n",
       "      <th>capturista</th>\n",
       "      <th>vendedora</th>\n",
       "      <th>tolerance_order_date</th>\n",
       "    </tr>\n",
       "  </thead>\n",
       "  <tbody>\n",
       "    <tr>\n",
       "      <th>8332</th>\n",
       "      <td>5554</td>\n",
       "      <td>1114</td>\n",
       "      <td>P01102 (SJCFCO 6464)</td>\n",
       "      <td>2024-03-09 00:28:01</td>\n",
       "      <td>5326</td>\n",
       "      <td>Madereria El Pino De Los Cabos</td>\n",
       "      <td>13371</td>\n",
       "      <td>[12749] Triplay Pino 1/4  4'*8'  1/Cara *12749*</td>\n",
       "      <td>5.00</td>\n",
       "      <td>267.25</td>\n",
       "      <td>False</td>\n",
       "      <td>SJCFCO 6464</td>\n",
       "      <td>NaT</td>\n",
       "      <td>Alexa Yadira Mazariegos Zunun</td>\n",
       "      <td>Brenda Luz Acosta Lopez</td>\n",
       "      <td>2024-03-04</td>\n",
       "    </tr>\n",
       "  </tbody>\n",
       "</table>\n",
       "</div>"
      ],
      "text/plain": [
       "      line_id  order_id            order_name          order_date  partner_id  \\\n",
       "8332     5554      1114  P01102 (SJCFCO 6464) 2024-03-09 00:28:01        5326   \n",
       "\n",
       "                        partner_name  product_id_pp  \\\n",
       "8332  Madereria El Pino De Los Cabos          13371   \n",
       "\n",
       "                                         product_name  product_qty  \\\n",
       "8332  [12749] Triplay Pino 1/4  4'*8'  1/Cara *12749*         5.00   \n",
       "\n",
       "      product_price  oficial partner_fact_ref partner_fact_date  \\\n",
       "8332         267.25    False      SJCFCO 6464               NaT   \n",
       "\n",
       "                         capturista                vendedora  \\\n",
       "8332  Alexa Yadira Mazariegos Zunun  Brenda Luz Acosta Lopez   \n",
       "\n",
       "     tolerance_order_date  \n",
       "8332           2024-03-04  "
      ]
     },
     "execution_count": 37,
     "metadata": {},
     "output_type": "execute_result"
    }
   ],
   "source": [
    "match_1ro_compras_faltantes[match_1ro_compras_faltantes['line_id'] == 5554]"
   ]
  },
  {
   "cell_type": "code",
   "execution_count": 39,
   "metadata": {},
   "outputs": [
    {
     "data": {
      "text/html": [
       "<div>\n",
       "<style scoped>\n",
       "    .dataframe tbody tr th:only-of-type {\n",
       "        vertical-align: middle;\n",
       "    }\n",
       "\n",
       "    .dataframe tbody tr th {\n",
       "        vertical-align: top;\n",
       "    }\n",
       "\n",
       "    .dataframe thead th {\n",
       "        text-align: right;\n",
       "    }\n",
       "</style>\n",
       "<table border=\"1\" class=\"dataframe\">\n",
       "  <thead>\n",
       "    <tr style=\"text-align: right;\">\n",
       "      <th></th>\n",
       "      <th>fact_doc_id</th>\n",
       "      <th>name</th>\n",
       "      <th>invoice_date</th>\n",
       "      <th>state</th>\n",
       "      <th>invoice_origin</th>\n",
       "      <th>module_origin</th>\n",
       "      <th>pos_doc_id</th>\n",
       "      <th>move_type</th>\n",
       "      <th>reversal_move_id</th>\n",
       "      <th>reversed_entry_id</th>\n",
       "      <th>...</th>\n",
       "      <th>warehouse</th>\n",
       "      <th>fact_line_id</th>\n",
       "      <th>product_id</th>\n",
       "      <th>product_name</th>\n",
       "      <th>prod_codigo</th>\n",
       "      <th>prod_linea</th>\n",
       "      <th>quantity</th>\n",
       "      <th>price_unit</th>\n",
       "      <th>discount</th>\n",
       "      <th>price_subtotal</th>\n",
       "    </tr>\n",
       "  </thead>\n",
       "  <tbody>\n",
       "    <tr>\n",
       "      <th>22684</th>\n",
       "      <td>37812</td>\n",
       "      <td>F2-VS/2024/00516</td>\n",
       "      <td>2024-03-06</td>\n",
       "      <td>posted</td>\n",
       "      <td>S06268</td>\n",
       "      <td>Ventas</td>\n",
       "      <td>&lt;NA&gt;</td>\n",
       "      <td>out_invoice</td>\n",
       "      <td>&lt;NA&gt;</td>\n",
       "      <td>&lt;NA&gt;</td>\n",
       "      <td>...</td>\n",
       "      <td>A2</td>\n",
       "      <td>140903</td>\n",
       "      <td>13371</td>\n",
       "      <td>Triplay Pino 1/4  4'*8'  1/Cara *12749*</td>\n",
       "      <td>12749</td>\n",
       "      <td>00MAD</td>\n",
       "      <td>5.00</td>\n",
       "      <td>409.31</td>\n",
       "      <td>0.00</td>\n",
       "      <td>2,046.55</td>\n",
       "    </tr>\n",
       "    <tr>\n",
       "      <th>23669</th>\n",
       "      <td>39160</td>\n",
       "      <td>F2-VS/2024/00548</td>\n",
       "      <td>2024-03-08</td>\n",
       "      <td>posted</td>\n",
       "      <td>S12079</td>\n",
       "      <td>Ventas</td>\n",
       "      <td>&lt;NA&gt;</td>\n",
       "      <td>out_invoice</td>\n",
       "      <td>&lt;NA&gt;</td>\n",
       "      <td>&lt;NA&gt;</td>\n",
       "      <td>...</td>\n",
       "      <td>A2</td>\n",
       "      <td>146483</td>\n",
       "      <td>13371</td>\n",
       "      <td>Triplay Pino 1/4  4'*8'  1/Cara *12749*</td>\n",
       "      <td>12749</td>\n",
       "      <td>00MAD</td>\n",
       "      <td>5.00</td>\n",
       "      <td>409.31</td>\n",
       "      <td>0.00</td>\n",
       "      <td>2,046.55</td>\n",
       "    </tr>\n",
       "  </tbody>\n",
       "</table>\n",
       "<p>2 rows × 30 columns</p>\n",
       "</div>"
      ],
      "text/plain": [
       "       fact_doc_id              name invoice_date   state invoice_origin  \\\n",
       "22684        37812  F2-VS/2024/00516   2024-03-06  posted         S06268   \n",
       "23669        39160  F2-VS/2024/00548   2024-03-08  posted         S12079   \n",
       "\n",
       "      module_origin  pos_doc_id    move_type  reversal_move_id  \\\n",
       "22684        Ventas        <NA>  out_invoice              <NA>   \n",
       "23669        Ventas        <NA>  out_invoice              <NA>   \n",
       "\n",
       "       reversed_entry_id  ...  warehouse  fact_line_id  product_id  \\\n",
       "22684               <NA>  ...         A2        140903       13371   \n",
       "23669               <NA>  ...         A2        146483       13371   \n",
       "\n",
       "                                  product_name  prod_codigo prod_linea  \\\n",
       "22684  Triplay Pino 1/4  4'*8'  1/Cara *12749*        12749      00MAD   \n",
       "23669  Triplay Pino 1/4  4'*8'  1/Cara *12749*        12749      00MAD   \n",
       "\n",
       "       quantity  price_unit discount price_subtotal  \n",
       "22684      5.00      409.31     0.00       2,046.55  \n",
       "23669      5.00      409.31     0.00       2,046.55  \n",
       "\n",
       "[2 rows x 30 columns]"
      ]
     },
     "execution_count": 39,
     "metadata": {},
     "output_type": "execute_result"
    }
   ],
   "source": [
    "match_1ro_ventas_faltantes[\n",
    "    (match_1ro_ventas_faltantes['product_id'] == 13371)\n",
    "    & (match_1ro_ventas_faltantes['salesperson_name'] == 'Brenda Luz Acosta Lopez')\n",
    "    & (match_1ro_ventas_faltantes['quantity'] == 5)\n",
    "    ]"
   ]
  },
  {
   "cell_type": "code",
   "execution_count": 25,
   "metadata": {},
   "outputs": [
    {
     "data": {
      "text/plain": [
       "[13595, 11569, 9901, 5554, 4147, 1190]"
      ]
     },
     "execution_count": 25,
     "metadata": {},
     "output_type": "execute_result"
    }
   ],
   "source": [
    "wep_muchas"
   ]
  },
  {
   "cell_type": "code",
   "execution_count": 26,
   "metadata": {},
   "outputs": [
    {
     "name": "stdout",
     "output_type": "stream",
     "text": [
      "Son un total de 1415 líneas de compra en la fase B.\n",
      "   En el 1er match se emparejaron 653 de ellas 46.15%\n",
      "   En el 2do match se emparejaron 122 de ellas 8.62%\n",
      "   Quedan por emparejar 640 de líneas 45.23%\n"
     ]
    }
   ],
   "source": [
    "match_2do_compras_faltantes = compras_fase_B.loc[(~compras_fase_B['line_id'].isin(match_1ro_compras_ok['line_id'])) & (~compras_fase_B['line_id'].isin(match_2do_compras_ok['line_id']))]\n",
    "match_2do_ventas_faltantes = ventas_fase_B.loc[(~ventas_fase_B['fact_line_id'].isin(match_1ro_compras_ok['fact_line_id'])) & (~ventas_fase_B['fact_line_id'].isin(match_2do_compras_ok['fact_line_id']))]\n",
    "\n",
    "print(f'Son un total de {len(compras_fase_B)} líneas de compra en la fase B.')\n",
    "\n",
    "print(f'   En el 1er match se emparejaron {len(match_1ro_compras_ok)} de ellas {len(match_1ro_compras_ok)/len(compras_fase_B)*100:.2f}%')\n",
    "print(f'   En el 2do match se emparejaron {len(match_2do_compras_ok)} de ellas {len(match_2do_compras_ok)/len(compras_fase_B)*100:.2f}%')\n",
    "print(f'   Quedan por emparejar {len(match_2do_compras_faltantes)} de líneas {len(match_2do_compras_faltantes)/len(compras_fase_B)*100:.2f}%')"
   ]
  },
  {
   "cell_type": "code",
   "execution_count": 27,
   "metadata": {},
   "outputs": [],
   "source": [
    "match_fase_B = pd.concat([match_1ro_compras_ok, match_2do_compras_ok]).rename(columns={'fact_line_id': 'fact_line_id_match','line_id': 'line_id_match' })\n",
    "match_fase_B\n",
    "\n",
    "costo_venta_fase_B = (\n",
    "    match_fase_B.merge(\n",
    "        ventas_fase_B,\n",
    "        how='left',\n",
    "        left_on='fact_line_id_match',\n",
    "        right_on='fact_line_id'\n",
    "    ).merge(\n",
    "        compras_fase_B,\n",
    "        how='left',\n",
    "        left_on='line_id_match',\n",
    "        right_on='line_id'\n",
    "    )\n",
    ")\n",
    "\n",
    "costo_venta_fase_B.drop(columns=['fact_line_id_match', 'line_id_match'], inplace=True)"
   ]
  },
  {
   "cell_type": "code",
   "execution_count": 28,
   "metadata": {},
   "outputs": [],
   "source": [
    "ventas_merged = pd.concat([costo_venta_fase_A, costo_venta_fase_B])"
   ]
  },
  {
   "cell_type": "code",
   "execution_count": 29,
   "metadata": {},
   "outputs": [],
   "source": [
    "# desktop_path = Path.home().joinpath('desktop')\n",
    "# archivo_path = desktop_path.joinpath('lineas_faltantes_costo_ventas' + '.xlsx')\n",
    "\n",
    "# writer = pd.ExcelWriter(archivo_path, engine=\"openpyxl\")\n",
    "\n",
    "# match_2do_compras_faltantes.to_excel(writer, sheet_name='comp_falt')\n",
    "# match_2do_ventas_faltantes.to_excel(writer, sheet_name='vent_falt')\n",
    "# ventas_merged.to_excel(writer, sheet_name='vent_merged')\n",
    "# ventas_año.to_excel(writer, sheet_name='total_ventas')\n",
    "\n",
    "# writer.close()\n",
    "# writer.handles = None"
   ]
  },
  {
   "cell_type": "code",
   "execution_count": 30,
   "metadata": {},
   "outputs": [],
   "source": [
    "lista_capturistas = [\n",
    "    'Rosario Martinez Zarate',\n",
    "    'Mariana Araceli Carvajal Flores',\n",
    "    'Alexa Yadira Mazariegos Zunun',\n",
    "    'Elsa Ivette Diaz Leyva',\n",
    "    'Dulce Guadalupe Pedroza Valenzuela',\n",
    "]\n",
    "\n",
    "# match_2do_compras_faltantes[(~match_2do_compras_faltantes['vendedora'].isin(lista_capturistas))]"
   ]
  },
  {
   "cell_type": "markdown",
   "metadata": {},
   "source": [
    "# No seguir  \n",
    "Se ocupa terminar el costo de ventas: estas líneas son para obtener la \"Utilidad\" y el \"Margen de Contribución\"."
   ]
  },
  {
   "cell_type": "code",
   "execution_count": 31,
   "metadata": {},
   "outputs": [],
   "source": [
    "# #Borrar esta línea, es provisional. Se tienen que corregir usando pd.NaN\n",
    "\n",
    "# for i in range(len(ventas_año['price_subtotal'])):\n",
    "#     ventas_año['price_subtotal'].iloc[i] = 0.01 if ventas_año['price_subtotal'].iloc[i] == 0 else ventas_año['price_subtotal'].iloc[i]"
   ]
  },
  {
   "cell_type": "code",
   "execution_count": 32,
   "metadata": {},
   "outputs": [],
   "source": [
    "# ventas_año['costo_date_dif'] = ((ventas_año['invoice_date'] - ventas_año['costo_order_date']).dt.days).astype('Int64')\n",
    "# ventas_año['costo_subtotal'] = ventas_año['quantity'] * ventas_año['costo_producto']\n",
    "# ventas_año['utilidad_subtotal'] = ventas_año['price_subtotal'] - ventas_año['costo_subtotal']\n",
    "# ventas_año['utilidad_%'] = ((ventas_año['price_subtotal'] / ventas_año['costo_subtotal']) - 1) * 100\n",
    "# ventas_año['marg_util_%'] = (ventas_año['utilidad_subtotal'] / ventas_año['price_subtotal']) * 100\n",
    "\n",
    "\n",
    "# cols_ventas = ['fact_doc_id', 'name', 'invoice_date', 'partner_id',\n",
    "#        'partner_name', 'salesperson_id', 'salesperson_name', 'sale_team_description', 'business_model',\n",
    "#        'product_id', 'product_name', 'quantity', 'price_subtotal',\n",
    "#        'costo_subtotal', 'costo_order_date', 'costo_order_line_id',\n",
    "#        'costo_date_dif', 'utilidad_subtotal', 'utilidad_%', 'marg_util_%', 'costo_producto']\n",
    "\n",
    "# ventas = ventas_año[cols_ventas]"
   ]
  }
 ],
 "metadata": {
  "kernelspec": {
   "display_name": "env_algoritmo-comisiones-Odoo",
   "language": "python",
   "name": "python3"
  },
  "language_info": {
   "codemirror_mode": {
    "name": "ipython",
    "version": 3
   },
   "file_extension": ".py",
   "mimetype": "text/x-python",
   "name": "python",
   "nbconvert_exporter": "python",
   "pygments_lexer": "ipython3",
   "version": "3.11.5"
  }
 },
 "nbformat": 4,
 "nbformat_minor": 2
}
