{
 "cells": [
  {
   "cell_type": "code",
   "execution_count": 1,
   "metadata": {},
   "outputs": [],
   "source": [
    "import os\n",
    "from pathlib import Path\n",
    "from sqlalchemy import create_engine\n",
    "\n",
    "import xmlrpc.client\n",
    "import pandas as pd\n",
    "pd.options.display.float_format = '{:,.2f}'.format\n",
    "\n",
    "from IPython.display import display\n",
    "\n",
    "api_url = os.environ.get('ODOO_URL_API')\n",
    "api_db = os.environ.get('ODOO_DB_API')\n",
    "api_username = os.environ.get('ODOO_USERNAME_API')\n",
    "api_clave = os.environ.get('ODOO_CLAVE_API')\n",
    "\n",
    "common = xmlrpc.client.ServerProxy(f'{api_url}/xmlrpc/2/common')\n",
    "uid = common.authenticate(api_db, api_username, api_clave, {})\n",
    "models = xmlrpc.client.ServerProxy(f'{api_url}/xmlrpc/2/object')\n",
    "\n",
    "db_file = 'comisiones.db'\n",
    "db_file_path_str = str(Path().cwd().parent.parent.joinpath(f'data/{db_file}'))\n",
    "\n",
    "engine = create_engine(f'sqlite:///{db_file_path_str}')"
   ]
  },
  {
   "cell_type": "markdown",
   "metadata": {},
   "source": [
    "# Generar los DataFrames"
   ]
  },
  {
   "cell_type": "code",
   "execution_count": 2,
   "metadata": {},
   "outputs": [],
   "source": [
    "with engine.connect() as conn, conn.begin():  \n",
    "    ventas_enero = pd.read_sql_table('ventas_enero', conn, dtype_backend='numpy_nullable')\n",
    "    ventas_febrero = pd.read_sql_table('ventas_febrero', conn, dtype_backend='numpy_nullable')\n",
    "    ventas_marzo = pd.read_sql_table('ventas_marzo', conn, dtype_backend='numpy_nullable')\n",
    "    ventas_abril = pd.read_sql_table('ventas_abril', conn, dtype_backend='numpy_nullable')\n",
    "    ventas_mayo = pd.read_sql_table('ventas_mayo', conn, dtype_backend='numpy_nullable')\n",
    "    ventas_junio = pd.read_sql_table('ventas_junio', conn, dtype_backend='numpy_nullable')\n",
    "    ventas_año = pd.read_sql_table('ventas_año', conn, dtype_backend='numpy_nullable')\n",
    "\n",
    "engine.dispose()"
   ]
  },
  {
   "cell_type": "code",
   "execution_count": 3,
   "metadata": {},
   "outputs": [],
   "source": [
    "db_file1 = 'proveedores_oficiales.xlsx'\n",
    "db_file1_path_str = str(Path().cwd().parent.parent.joinpath(f'data/compras/{db_file1}'))\n",
    "\n",
    "proveedores = pd.read_excel(db_file1_path_str, dtype_backend='numpy_nullable')\n",
    "prov_oficiales = proveedores.loc[proveedores['oficial'] == 1][['partner_id', 'partner_name']]\n",
    "prov_locales = proveedores.loc[proveedores['oficial'] == 0][['partner_id', 'partner_name']]"
   ]
  },
  {
   "cell_type": "code",
   "execution_count": 4,
   "metadata": {},
   "outputs": [],
   "source": [
    "db_file2 = 'productos_sin_compra.xlsx'\n",
    "db_file2_path_str = str(Path().cwd().parent.parent.joinpath(f'data/compras/{db_file2}'))\n",
    "\n",
    "productos_sin_compra = pd.read_excel(db_file2_path_str, dtype_backend='numpy_nullable')"
   ]
  },
  {
   "cell_type": "code",
   "execution_count": 5,
   "metadata": {},
   "outputs": [],
   "source": [
    "fields_compras_doc = ['name', 'state','partner_id', 'partner_ref', 'date_approve', 'x_fecha_factura', 'user_id', 'create_uid']\n",
    "\n",
    "ids_compras_doc = models.execute_kw(api_db, uid, api_clave, 'purchase.order', 'search', [[(\"state\", \"in\", (\"purchase\", \"done\"))]])\n",
    "json_compras_doc = models.execute_kw(api_db, uid, api_clave, 'purchase.order', 'read', [ids_compras_doc], {'fields': fields_compras_doc})"
   ]
  },
  {
   "cell_type": "code",
   "execution_count": 6,
   "metadata": {},
   "outputs": [],
   "source": [
    "data_compras_doc = []\n",
    "\n",
    "for compra in json_compras_doc:\n",
    "    new = {}\n",
    "    new['order_id'] = compra['id']\n",
    "    new['order_name'] = compra['name']\n",
    "    new['order_state'] = compra['state']\n",
    "    new['order_date'] = compra['date_approve'] if compra['date_approve'] else pd.NA\n",
    "    new['partner_id'] = compra['partner_id'][0]\n",
    "    new['partner_name'] = compra['partner_id'][1]\n",
    "    new['partner_fact_ref'] = compra['partner_ref']\n",
    "    new['partner_fact_date'] = compra['x_fecha_factura'] if compra['x_fecha_factura'] else pd.NA\n",
    "    new['capturista'] = compra['create_uid'][1] if compra['create_uid'] else pd.NA\n",
    "    new['vendedora'] = compra['user_id'][1] if compra['user_id'] else pd.NA\n",
    "\n",
    "    data_compras_doc.append(new)\n",
    "\n",
    "compras_doc = pd.DataFrame(data_compras_doc)\n",
    "compras_doc['order_date'] = pd.to_datetime(compras_doc['order_date'], format='%Y-%m-%d %H:%M:%S')\n",
    "compras_doc['partner_fact_date'] = pd.to_datetime(compras_doc['partner_fact_date'], format='%Y-%m-%d')"
   ]
  },
  {
   "cell_type": "code",
   "execution_count": 7,
   "metadata": {},
   "outputs": [],
   "source": [
    "fields_compras_line = ['order_id', 'date_approve', 'partner_id','product_id', 'product_qty', 'price_unit_discounted']\n",
    "\n",
    "ids_compras_line = models.execute_kw(api_db, uid, api_clave, 'purchase.order.line', 'search', [[(\"order_id.id\", \"in\", ids_compras_doc)]])\n",
    "json_compras_line = models.execute_kw(api_db, uid, api_clave, 'purchase.order.line', 'read', [ids_compras_line], {'fields': fields_compras_line})"
   ]
  },
  {
   "cell_type": "code",
   "execution_count": 8,
   "metadata": {},
   "outputs": [],
   "source": [
    "data_compras_line = []\n",
    "\n",
    "for line in json_compras_line:\n",
    "    new = {}\n",
    "    new['line_id'] = line['id']\n",
    "    new['order_id'] = line['order_id'][0]\n",
    "    new['order_name'] = line['order_id'][1]\n",
    "    new['order_date'] = line['date_approve'] if line['date_approve'] else pd.NA\n",
    "    new['partner_id'] = line['partner_id'][0]\n",
    "    new['partner_name'] = line['partner_id'][1]\n",
    "    new['product_id_pp'] = line['product_id'][0]\n",
    "    new['product_name'] = line['product_id'][1]\n",
    "    new['product_qty'] = line['product_qty']\n",
    "    new['product_price'] = line['price_unit_discounted']\n",
    "    \n",
    "    data_compras_line.append(new)\n",
    "\n",
    "compras_linea = pd.DataFrame(data_compras_line)\n",
    "compras_linea['order_date'] = pd.to_datetime(compras_linea['order_date'], format='%Y-%m-%d %H:%M:%S')\n",
    "\n",
    "compras_linea['oficial'] = compras_linea['partner_id'].isin(prov_oficiales['partner_id'])"
   ]
  },
  {
   "cell_type": "code",
   "execution_count": 207,
   "metadata": {},
   "outputs": [],
   "source": [
    "compras_odoo = pd.merge(\n",
    "                    compras_linea,\n",
    "                    compras_doc[['order_id', 'partner_fact_ref', 'partner_fact_date', 'capturista', 'vendedora']], \n",
    "                    how='left', \n",
    "                    on='order_id'\n",
    "                )\n",
    "\n",
    "compras_odoo['tolerance_order_date'] = compras_odoo['order_date'].dt.normalize() - pd.Timedelta(days=5)\n",
    "\n",
    "cols_to_Int64 = ['line_id', 'order_id', 'partner_id', 'product_id_pp']\n",
    "compras_odoo[cols_to_Int64] = compras_odoo[cols_to_Int64].astype('Int64')\n",
    "\n",
    "compras_odoo['product_qty'] = compras_odoo['product_qty'].astype('Float64')\n",
    "compras_odoo['vendedora'] = compras_odoo['vendedora'].convert_dtypes()\n",
    "\n",
    "compras = pd.concat([compras_odoo, productos_sin_compra])"
   ]
  },
  {
   "cell_type": "markdown",
   "metadata": {},
   "source": [
    "# Checks"
   ]
  },
  {
   "cell_type": "code",
   "execution_count": 10,
   "metadata": {},
   "outputs": [
    {
     "name": "stdout",
     "output_type": "stream",
     "text": [
      "Todo correcto con check1\n"
     ]
    }
   ],
   "source": [
    "# Línea para comprobrar que el 100% de los proveedores de Odoo están calificados en la lista de proveedores oficiales\n",
    "\n",
    "check1 = (compras_doc[~compras_doc['partner_id'].isin(proveedores['partner_id'])]).drop_duplicates('partner_id')\n",
    "\n",
    "if not check1.empty:\n",
    "    print('Hay proveedores no calificados')\n",
    "    display(check1)\n",
    "\n",
    "else:\n",
    "    print('Todo correcto con check1')\n"
   ]
  },
  {
   "cell_type": "code",
   "execution_count": 11,
   "metadata": {},
   "outputs": [
    {
     "name": "stdout",
     "output_type": "stream",
     "text": [
      "Hay 21 renglones sin costo de la venta.\n",
      "Los productos sin costo son los siguientes:\n"
     ]
    },
    {
     "data": {
      "text/html": [
       "<div>\n",
       "<style scoped>\n",
       "    .dataframe tbody tr th:only-of-type {\n",
       "        vertical-align: middle;\n",
       "    }\n",
       "\n",
       "    .dataframe tbody tr th {\n",
       "        vertical-align: top;\n",
       "    }\n",
       "\n",
       "    .dataframe thead th {\n",
       "        text-align: right;\n",
       "    }\n",
       "</style>\n",
       "<table border=\"1\" class=\"dataframe\">\n",
       "  <thead>\n",
       "    <tr style=\"text-align: right;\">\n",
       "      <th></th>\n",
       "      <th>product_id</th>\n",
       "      <th>product_name_x</th>\n",
       "    </tr>\n",
       "  </thead>\n",
       "  <tbody>\n",
       "    <tr>\n",
       "      <th>10061</th>\n",
       "      <td>14757</td>\n",
       "      <td>Nuevo *0*</td>\n",
       "    </tr>\n",
       "    <tr>\n",
       "      <th>10282</th>\n",
       "      <td>28586</td>\n",
       "      <td>Anticipo</td>\n",
       "    </tr>\n",
       "    <tr>\n",
       "      <th>13415</th>\n",
       "      <td>28638</td>\n",
       "      <td>Servicios de Facturación</td>\n",
       "    </tr>\n",
       "    <tr>\n",
       "      <th>18005</th>\n",
       "      <td>4</td>\n",
       "      <td>Anticipo (PdV)</td>\n",
       "    </tr>\n",
       "  </tbody>\n",
       "</table>\n",
       "</div>"
      ],
      "text/plain": [
       "       product_id            product_name_x\n",
       "10061       14757                 Nuevo *0*\n",
       "10282       28586                  Anticipo\n",
       "13415       28638  Servicios de Facturación\n",
       "18005           4            Anticipo (PdV)"
      ]
     },
     "metadata": {},
     "output_type": "display_data"
    }
   ],
   "source": [
    "check_costo_venta = (\n",
    "    pd.merge_asof(\n",
    "        left = ventas_año.sort_values('invoice_date'),\n",
    "        right = compras.sort_values('tolerance_order_date'), \n",
    "        \n",
    "        left_by = 'product_id', \n",
    "        right_by = 'product_id_pp', \n",
    "        \n",
    "        left_on = 'invoice_date', \n",
    "        right_on = 'tolerance_order_date', \n",
    "\n",
    "        direction = 'backward')\n",
    ")\n",
    "\n",
    "check2 = check_costo_venta[check_costo_venta['product_price'].isna()][['product_id', 'product_name_x']]\n",
    "\n",
    "print(f'Hay {len(check2)} renglones sin costo de la venta.')\n",
    "\n",
    "if not check2.empty:\n",
    "    print('Los productos sin costo son los siguientes:')\n",
    "    display(check2.drop_duplicates('product_id'))\n",
    "\n",
    "else:\n",
    "    print('Todo correcto con check2')"
   ]
  },
  {
   "cell_type": "markdown",
   "metadata": {},
   "source": [
    "# Preliminares... obtener los segmentos a trabajar"
   ]
  },
  {
   "cell_type": "markdown",
   "metadata": {},
   "source": [
    "Sacar los productos que se compran con varios proveedores"
   ]
  },
  {
   "cell_type": "code",
   "execution_count": 169,
   "metadata": {},
   "outputs": [
    {
     "name": "stdout",
     "output_type": "stream",
     "text": [
      "Se han comprado un total de 5051 productos en Odoo:\n",
      "    - 213 productos con más de un proveedor 4.22%\n",
      "    - 4838 productos con un único proveedor 95.78%\n"
     ]
    }
   ],
   "source": [
    "prod_comprados_odoo = (compras_odoo[['partner_id', 'partner_name', 'product_id_pp', 'product_name']]\n",
    "                    .sort_values('partner_id').groupby('product_id_pp')\n",
    "                    .agg({'product_name': ['first'], 'partner_id': ['mean', 'first']})\n",
    "                    ).reset_index()\n",
    "\n",
    "prod_comprados_odoo['diff'] = prod_comprados_odoo[('partner_id', 'mean')]  == prod_comprados_odoo[('partner_id', 'first')]\n",
    "\n",
    "ids_productos_varios_prov = prod_comprados_odoo.loc[prod_comprados_odoo['diff'] == False]['product_id_pp']\n",
    "ids_productos_unicos_prov = prod_comprados_odoo.loc[prod_comprados_odoo['diff'] == True]['product_id_pp']\n",
    "\n",
    "print(f\"Se han comprado un total de {len(prod_comprados_odoo['product_id_pp'])} productos en Odoo:\")\n",
    "print(f'    - {len(ids_productos_varios_prov)} productos con más de un proveedor', f\"{len(ids_productos_varios_prov)/len(prod_comprados_odoo['product_id_pp'])*100:.2f}%\")\n",
    "print(f'    - {len(ids_productos_unicos_prov)} productos con un único proveedor', f\"{len(ids_productos_unicos_prov)/len(prod_comprados_odoo['product_id_pp'])*100:.2f}%\")"
   ]
  },
  {
   "cell_type": "markdown",
   "metadata": {},
   "source": [
    "De los productos comprados a más de un proveedor, se obtienen los que no han cambiado su costo en el tiempo"
   ]
  },
  {
   "cell_type": "code",
   "execution_count": 178,
   "metadata": {},
   "outputs": [
    {
     "name": "stdout",
     "output_type": "stream",
     "text": [
      "De los 213 productos comprados con varios proveedores:\n",
      "    - 5 productos no han cambiado su costo, representan a un 2.35%\n",
      "    - 208 productos sí han cambiado su costo, representan a un 97.65%\n"
     ]
    }
   ],
   "source": [
    "compras_prod_varios_prov = compras_odoo[compras_odoo['product_id_pp'].isin(ids_productos_varios_prov)]\n",
    "\n",
    "\n",
    "compras_prod_varios_prov_agrupado = compras_prod_varios_prov.groupby('product_id_pp').agg({'product_name':['first'], 'line_id':['count'], 'product_price':['first', 'mean']}).reset_index()\n",
    "compras_prod_varios_prov_agrupado['diff'] = compras_prod_varios_prov_agrupado[('product_price', 'first')] == compras_prod_varios_prov_agrupado[('product_price', 'mean')]\n",
    "\n",
    "ids_prod_varios_prov_costo_sin_cambios = compras_prod_varios_prov_agrupado.loc[compras_prod_varios_prov_agrupado['diff'] == True]['product_id_pp']\n",
    "ids_prod_varios_prov_costo_con_cambios = compras_prod_varios_prov_agrupado.loc[compras_prod_varios_prov_agrupado['diff'] == False]['product_id_pp']\n",
    "\n",
    "\n",
    "print(f'De los {len(ids_productos_varios_prov)} productos comprados con varios proveedores:')\n",
    "print(f'    - {len(ids_prod_varios_prov_costo_sin_cambios)} productos no han cambiado su costo, representan a un {len(ids_prod_varios_prov_costo_sin_cambios)/len(ids_productos_varios_prov)*100:.2f}%')\n",
    "print(f'    - {len(ids_prod_varios_prov_costo_con_cambios)} productos sí han cambiado su costo, representan a un {len(ids_prod_varios_prov_costo_con_cambios)/len(ids_productos_varios_prov)*100:.2f}%')\n"
   ]
  },
  {
   "cell_type": "markdown",
   "metadata": {},
   "source": [
    "### Productos fase A del costo de ventas"
   ]
  },
  {
   "cell_type": "markdown",
   "metadata": {},
   "source": [
    "Se concatena los productos comprados a un único proveedor ('ids_productos_unicos_prov') y los productos comprados a varios proveedores que no han cambiado su precio ('ids_prod_varios_prov_costo_sin_cambios')"
   ]
  },
  {
   "cell_type": "code",
   "execution_count": 179,
   "metadata": {},
   "outputs": [],
   "source": [
    "ids_prod_fase_A = pd.concat([ids_productos_unicos_prov, ids_prod_varios_prov_costo_sin_cambios]).sort_values()"
   ]
  },
  {
   "cell_type": "markdown",
   "metadata": {},
   "source": [
    "### Productos fase B del costo de ventas"
   ]
  },
  {
   "cell_type": "markdown",
   "metadata": {},
   "source": [
    "Resto de los productos comprados a varios proveedores, es decir, los que sí han cambiado su precio ('ids_prod_varios_prov_costo_con_cambios')"
   ]
  },
  {
   "cell_type": "code",
   "execution_count": 180,
   "metadata": {},
   "outputs": [],
   "source": [
    "ids_prod_fase_B = ids_prod_varios_prov_costo_con_cambios"
   ]
  },
  {
   "cell_type": "code",
   "execution_count": 143,
   "metadata": {},
   "outputs": [
    {
     "name": "stdout",
     "output_type": "stream",
     "text": [
      "Líneas de venta:\n",
      "    4119 de productos comprados con varios proveedores 6.34%\n",
      "    60851 de productos comprados con un único proveedores 93.66%\n",
      "\n",
      "Líneas de compra:\n",
      "    1450 de productos comprados con varios proveedores 7.15%\n",
      "    18835 de productos comprado con un único proveedores 92.85%\n"
     ]
    }
   ],
   "source": [
    "# Borrar lína: sólo para explicar\n",
    "\n",
    "ventas_productos_varios_prov = ventas_año[ventas_año['product_id'].isin(ids_productos_varios_prov)]\n",
    "ventas_productos_unico_prov = ventas_año[~ventas_año['product_id'].isin(ids_productos_varios_prov)]\n",
    "\n",
    "compras_productos_varios_prov = compras[compras['product_id_pp'].isin(ids_productos_varios_prov)]\n",
    "compras_productos_unico_prov = compras[~compras['product_id_pp'].isin(ids_productos_varios_prov)]\n",
    "\n",
    "print('Líneas de venta:')\n",
    "print(f'    {len(ventas_productos_varios_prov)} de productos comprados con varios proveedores', f'{len(ventas_productos_varios_prov)/len(ventas_año)*100:.2f}%')\n",
    "print(f'    {len(ventas_productos_unico_prov)} de productos comprados con un único proveedores', f'{len(ventas_productos_unico_prov)/len(ventas_año)*100:.2f}%')\n",
    "\n",
    "print('\\nLíneas de compra:')\n",
    "print(f'    {len(compras_productos_varios_prov)} de productos comprados con varios proveedores', f'{len(compras_productos_varios_prov)/len(compras)*100:.2f}%')\n",
    "print(f'    {len(compras_productos_unico_prov)} de productos comprado con un único proveedores', f'{len(compras_productos_unico_prov)/len(compras)*100:.2f}%')"
   ]
  },
  {
   "cell_type": "markdown",
   "metadata": {},
   "source": [
    "En el dataframe de compras de productos con varios proveedores, obtener el segmento de productos donde no cambia el precio (aunque sí cambie el proveedor) y el segmento donde sí cambie."
   ]
  },
  {
   "cell_type": "code",
   "execution_count": 82,
   "metadata": {},
   "outputs": [
    {
     "name": "stdout",
     "output_type": "stream",
     "text": [
      "De los 18835 productos con un único proveedor, 8129 no han variado su precio = 82.83%\n"
     ]
    },
    {
     "data": {
      "text/html": [
       "<div>\n",
       "<style scoped>\n",
       "    .dataframe tbody tr th:only-of-type {\n",
       "        vertical-align: middle;\n",
       "    }\n",
       "\n",
       "    .dataframe tbody tr th {\n",
       "        vertical-align: top;\n",
       "    }\n",
       "\n",
       "    .dataframe thead tr th {\n",
       "        text-align: left;\n",
       "    }\n",
       "\n",
       "    .dataframe thead tr:last-of-type th {\n",
       "        text-align: right;\n",
       "    }\n",
       "</style>\n",
       "<table border=\"1\" class=\"dataframe\">\n",
       "  <thead>\n",
       "    <tr>\n",
       "      <th></th>\n",
       "      <th>product_name</th>\n",
       "      <th>line_id</th>\n",
       "      <th colspan=\"2\" halign=\"left\">product_price</th>\n",
       "      <th>wep</th>\n",
       "    </tr>\n",
       "    <tr>\n",
       "      <th></th>\n",
       "      <th>first</th>\n",
       "      <th>count</th>\n",
       "      <th>first</th>\n",
       "      <th>mean</th>\n",
       "      <th></th>\n",
       "    </tr>\n",
       "    <tr>\n",
       "      <th>product_id_pp</th>\n",
       "      <th></th>\n",
       "      <th></th>\n",
       "      <th></th>\n",
       "      <th></th>\n",
       "      <th></th>\n",
       "    </tr>\n",
       "  </thead>\n",
       "  <tbody>\n",
       "    <tr>\n",
       "      <th>7381</th>\n",
       "      <td>[90104] Encendedor 50P YA-0093 Sayer Lack (50p...</td>\n",
       "      <td>1</td>\n",
       "      <td>0.00</td>\n",
       "      <td>0.00</td>\n",
       "      <td>True</td>\n",
       "    </tr>\n",
       "    <tr>\n",
       "      <th>7384</th>\n",
       "      <td>Carretilla Con Zoclo Alto Negra #2095 Herralum...</td>\n",
       "      <td>0</td>\n",
       "      <td>11.46</td>\n",
       "      <td>11.46</td>\n",
       "      <td>True</td>\n",
       "    </tr>\n",
       "    <tr>\n",
       "      <th>7389</th>\n",
       "      <td>Cono Colador Sayer YA-0086 Desechable *14704*</td>\n",
       "      <td>1</td>\n",
       "      <td>2.50</td>\n",
       "      <td>2.50</td>\n",
       "      <td>True</td>\n",
       "    </tr>\n",
       "    <tr>\n",
       "      <th>7390</th>\n",
       "      <td>Manguera Flexible Tipo T 648P *25341*</td>\n",
       "      <td>0</td>\n",
       "      <td>0.01</td>\n",
       "      <td>0.01</td>\n",
       "      <td>True</td>\n",
       "    </tr>\n",
       "    <tr>\n",
       "      <th>7393</th>\n",
       "      <td>[90103] Lapiz P/Carpintero YA-0099 Sayer (pz) ...</td>\n",
       "      <td>1</td>\n",
       "      <td>0.00</td>\n",
       "      <td>0.00</td>\n",
       "      <td>True</td>\n",
       "    </tr>\n",
       "    <tr>\n",
       "      <th>...</th>\n",
       "      <td>...</td>\n",
       "      <td>...</td>\n",
       "      <td>...</td>\n",
       "      <td>...</td>\n",
       "      <td>...</td>\n",
       "    </tr>\n",
       "    <tr>\n",
       "      <th>29654</th>\n",
       "      <td>[5581] Juego Llaves Torx De Seguridad T10-T50 ...</td>\n",
       "      <td>1</td>\n",
       "      <td>318.00</td>\n",
       "      <td>318.00</td>\n",
       "      <td>True</td>\n",
       "    </tr>\n",
       "    <tr>\n",
       "      <th>29655</th>\n",
       "      <td>[5590] Juego De Brocas Planas (6 Pz) Adir 9418...</td>\n",
       "      <td>1</td>\n",
       "      <td>189.66</td>\n",
       "      <td>189.66</td>\n",
       "      <td>True</td>\n",
       "    </tr>\n",
       "    <tr>\n",
       "      <th>29656</th>\n",
       "      <td>[5591] Juego De Brocas Dewalt (21Pz) Dw1361 *5...</td>\n",
       "      <td>1</td>\n",
       "      <td>896.55</td>\n",
       "      <td>896.55</td>\n",
       "      <td>True</td>\n",
       "    </tr>\n",
       "    <tr>\n",
       "      <th>29657</th>\n",
       "      <td>[5592] Caja De Distribución 3 Barras 8 Servici...</td>\n",
       "      <td>1</td>\n",
       "      <td>1,204.31</td>\n",
       "      <td>1,204.31</td>\n",
       "      <td>True</td>\n",
       "    </tr>\n",
       "    <tr>\n",
       "      <th>29658</th>\n",
       "      <td>[5593] Fotocelda Hasta 100w  Led O Fluorescent...</td>\n",
       "      <td>1</td>\n",
       "      <td>64.66</td>\n",
       "      <td>64.66</td>\n",
       "      <td>True</td>\n",
       "    </tr>\n",
       "  </tbody>\n",
       "</table>\n",
       "<p>8129 rows × 5 columns</p>\n",
       "</div>"
      ],
      "text/plain": [
       "                                                    product_name line_id  \\\n",
       "                                                           first   count   \n",
       "product_id_pp                                                              \n",
       "7381           [90104] Encendedor 50P YA-0093 Sayer Lack (50p...       1   \n",
       "7384           Carretilla Con Zoclo Alto Negra #2095 Herralum...       0   \n",
       "7389               Cono Colador Sayer YA-0086 Desechable *14704*       1   \n",
       "7390                       Manguera Flexible Tipo T 648P *25341*       0   \n",
       "7393           [90103] Lapiz P/Carpintero YA-0099 Sayer (pz) ...       1   \n",
       "...                                                          ...     ...   \n",
       "29654          [5581] Juego Llaves Torx De Seguridad T10-T50 ...       1   \n",
       "29655          [5590] Juego De Brocas Planas (6 Pz) Adir 9418...       1   \n",
       "29656          [5591] Juego De Brocas Dewalt (21Pz) Dw1361 *5...       1   \n",
       "29657          [5592] Caja De Distribución 3 Barras 8 Servici...       1   \n",
       "29658          [5593] Fotocelda Hasta 100w  Led O Fluorescent...       1   \n",
       "\n",
       "              product_price            wep  \n",
       "                      first     mean        \n",
       "product_id_pp                               \n",
       "7381                   0.00     0.00  True  \n",
       "7384                  11.46    11.46  True  \n",
       "7389                   2.50     2.50  True  \n",
       "7390                   0.01     0.01  True  \n",
       "7393                   0.00     0.00  True  \n",
       "...                     ...      ...   ...  \n",
       "29654                318.00   318.00  True  \n",
       "29655                189.66   189.66  True  \n",
       "29656                896.55   896.55  True  \n",
       "29657              1,204.31 1,204.31  True  \n",
       "29658                 64.66    64.66  True  \n",
       "\n",
       "[8129 rows x 5 columns]"
      ]
     },
     "execution_count": 82,
     "metadata": {},
     "output_type": "execute_result"
    }
   ],
   "source": [
    "# Borrar lína: es sólo para explicar que porcentaje de productos con proveedor único han mantenido el precio durante el tiempo\n",
    "a = compras_productos_unico_prov.sort_values(by='product_price').groupby('product_id_pp').agg({'product_name':['first'], 'line_id':['count'], 'product_price':['first', 'mean']})\n",
    "a['wep'] = a[('product_price', 'first')] == a[('product_price', 'mean')]\n",
    "\n",
    "print(f\"De los {len(compras_productos_unico_prov)} productos con un único proveedor, {len(a.loc[a['wep'] == True])} no han variado su precio =\", f\"{len(a.loc[a['wep'] == True])/len(a)*100:.2f}%\")\n",
    "a.loc[a['wep'] == True]"
   ]
  },
  {
   "cell_type": "code",
   "execution_count": 84,
   "metadata": {},
   "outputs": [
    {
     "name": "stdout",
     "output_type": "stream",
     "text": [
      "De los 18835 productos con un único proveedor, 1672 sí han variado su precio = 17.04%\n"
     ]
    },
    {
     "data": {
      "text/html": [
       "<div>\n",
       "<style scoped>\n",
       "    .dataframe tbody tr th:only-of-type {\n",
       "        vertical-align: middle;\n",
       "    }\n",
       "\n",
       "    .dataframe tbody tr th {\n",
       "        vertical-align: top;\n",
       "    }\n",
       "\n",
       "    .dataframe thead tr th {\n",
       "        text-align: left;\n",
       "    }\n",
       "\n",
       "    .dataframe thead tr:last-of-type th {\n",
       "        text-align: right;\n",
       "    }\n",
       "</style>\n",
       "<table border=\"1\" class=\"dataframe\">\n",
       "  <thead>\n",
       "    <tr>\n",
       "      <th></th>\n",
       "      <th>product_name</th>\n",
       "      <th>line_id</th>\n",
       "      <th colspan=\"2\" halign=\"left\">product_price</th>\n",
       "      <th>wep</th>\n",
       "      <th>wep2</th>\n",
       "    </tr>\n",
       "    <tr>\n",
       "      <th></th>\n",
       "      <th>first</th>\n",
       "      <th>count</th>\n",
       "      <th>first</th>\n",
       "      <th>mean</th>\n",
       "      <th></th>\n",
       "      <th></th>\n",
       "    </tr>\n",
       "    <tr>\n",
       "      <th>product_id_pp</th>\n",
       "      <th></th>\n",
       "      <th></th>\n",
       "      <th></th>\n",
       "      <th></th>\n",
       "      <th></th>\n",
       "      <th></th>\n",
       "    </tr>\n",
       "  </thead>\n",
       "  <tbody>\n",
       "    <tr>\n",
       "      <th>7388</th>\n",
       "      <td>[20457] Sudadera Ejetutiva S (1 PZ) YA-0001 *2...</td>\n",
       "      <td>2</td>\n",
       "      <td>0.00</td>\n",
       "      <td>215.00</td>\n",
       "      <td>False</td>\n",
       "      <td>inf</td>\n",
       "    </tr>\n",
       "    <tr>\n",
       "      <th>7391</th>\n",
       "      <td>[90110] Flexometro Sayer Lack 6P YA-0094 (6 pz...</td>\n",
       "      <td>2</td>\n",
       "      <td>0.00</td>\n",
       "      <td>76.49</td>\n",
       "      <td>False</td>\n",
       "      <td>inf</td>\n",
       "    </tr>\n",
       "    <tr>\n",
       "      <th>28075</th>\n",
       "      <td>[188] SOGA SEDA 1\" Trenzada *188*</td>\n",
       "      <td>1</td>\n",
       "      <td>74.03</td>\n",
       "      <td>6,232.02</td>\n",
       "      <td>False</td>\n",
       "      <td>84.18</td>\n",
       "    </tr>\n",
       "    <tr>\n",
       "      <th>10585</th>\n",
       "      <td>[87411] Guante Neo. Grandes Truper 14271 *87411*</td>\n",
       "      <td>9</td>\n",
       "      <td>2.54</td>\n",
       "      <td>41.68</td>\n",
       "      <td>False</td>\n",
       "      <td>16.41</td>\n",
       "    </tr>\n",
       "    <tr>\n",
       "      <th>28929</th>\n",
       "      <td>[2973] Gaveta Apilable De Plástico 41x31x18 cm...</td>\n",
       "      <td>6</td>\n",
       "      <td>4.75</td>\n",
       "      <td>55.56</td>\n",
       "      <td>False</td>\n",
       "      <td>11.70</td>\n",
       "    </tr>\n",
       "    <tr>\n",
       "      <th>...</th>\n",
       "      <td>...</td>\n",
       "      <td>...</td>\n",
       "      <td>...</td>\n",
       "      <td>...</td>\n",
       "      <td>...</td>\n",
       "      <td>...</td>\n",
       "    </tr>\n",
       "    <tr>\n",
       "      <th>11954</th>\n",
       "      <td>[143277] Tubo P/Closet Oval 2.44mts Negro #431...</td>\n",
       "      <td>2</td>\n",
       "      <td>102.22</td>\n",
       "      <td>102.22</td>\n",
       "      <td>False</td>\n",
       "      <td>1.00</td>\n",
       "    </tr>\n",
       "    <tr>\n",
       "      <th>10977</th>\n",
       "      <td>[14406] Aerosol Sayer EA-0500 (425Ml) Rojo Chi...</td>\n",
       "      <td>4</td>\n",
       "      <td>58.24</td>\n",
       "      <td>58.24</td>\n",
       "      <td>False</td>\n",
       "      <td>1.00</td>\n",
       "    </tr>\n",
       "    <tr>\n",
       "      <th>10874</th>\n",
       "      <td>[47032] Duo Desarmadores 1/4x4\" #19622 *47032*</td>\n",
       "      <td>3</td>\n",
       "      <td>53.92</td>\n",
       "      <td>53.92</td>\n",
       "      <td>False</td>\n",
       "      <td>1.00</td>\n",
       "    </tr>\n",
       "    <tr>\n",
       "      <th>9920</th>\n",
       "      <td>Jal. Bot. #3817 30Mm Niq.Sat.   C#41 *13589*</td>\n",
       "      <td>2</td>\n",
       "      <td>30.43</td>\n",
       "      <td>30.43</td>\n",
       "      <td>False</td>\n",
       "      <td>1.00</td>\n",
       "    </tr>\n",
       "    <tr>\n",
       "      <th>9822</th>\n",
       "      <td>[1041] Resanador Sayer RL-0016 (1/4) Maple *1041*</td>\n",
       "      <td>2</td>\n",
       "      <td>28.68</td>\n",
       "      <td>28.68</td>\n",
       "      <td>False</td>\n",
       "      <td>1.00</td>\n",
       "    </tr>\n",
       "  </tbody>\n",
       "</table>\n",
       "<p>1672 rows × 6 columns</p>\n",
       "</div>"
      ],
      "text/plain": [
       "                                                    product_name line_id  \\\n",
       "                                                           first   count   \n",
       "product_id_pp                                                              \n",
       "7388           [20457] Sudadera Ejetutiva S (1 PZ) YA-0001 *2...       2   \n",
       "7391           [90110] Flexometro Sayer Lack 6P YA-0094 (6 pz...       2   \n",
       "28075                          [188] SOGA SEDA 1\" Trenzada *188*       1   \n",
       "10585           [87411] Guante Neo. Grandes Truper 14271 *87411*       9   \n",
       "28929          [2973] Gaveta Apilable De Plástico 41x31x18 cm...       6   \n",
       "...                                                          ...     ...   \n",
       "11954          [143277] Tubo P/Closet Oval 2.44mts Negro #431...       2   \n",
       "10977          [14406] Aerosol Sayer EA-0500 (425Ml) Rojo Chi...       4   \n",
       "10874             [47032] Duo Desarmadores 1/4x4\" #19622 *47032*       3   \n",
       "9920                Jal. Bot. #3817 30Mm Niq.Sat.   C#41 *13589*       2   \n",
       "9822           [1041] Resanador Sayer RL-0016 (1/4) Maple *1041*       2   \n",
       "\n",
       "              product_price             wep  wep2  \n",
       "                      first     mean               \n",
       "product_id_pp                                      \n",
       "7388                   0.00   215.00  False   inf  \n",
       "7391                   0.00    76.49  False   inf  \n",
       "28075                 74.03 6,232.02  False 84.18  \n",
       "10585                  2.54    41.68  False 16.41  \n",
       "28929                  4.75    55.56  False 11.70  \n",
       "...                     ...      ...    ...   ...  \n",
       "11954                102.22   102.22  False  1.00  \n",
       "10977                 58.24    58.24  False  1.00  \n",
       "10874                 53.92    53.92  False  1.00  \n",
       "9920                  30.43    30.43  False  1.00  \n",
       "9822                  28.68    28.68  False  1.00  \n",
       "\n",
       "[1672 rows x 6 columns]"
      ]
     },
     "execution_count": 84,
     "metadata": {},
     "output_type": "execute_result"
    }
   ],
   "source": [
    "# Borrar lína: es sólo para explicar por qué decido llevarlos a merge_asof dirección \"backward\"\n",
    "a = compras_productos_unico_prov.sort_values(by='product_price').groupby('product_id_pp').agg({'product_name':['first'], 'line_id':['count'], 'product_price':['first', 'mean']})\n",
    "a['wep'] = a[('product_price', 'first')] == a[('product_price', 'mean')]\n",
    "a['wep2'] = a[('product_price', 'mean')] / a[('product_price', 'first')]\n",
    "\n",
    "print(f\"De los {len(compras_productos_unico_prov)} productos con un único proveedor, {len(a.loc[a['wep'] == False])} sí han variado su precio =\", f\"{len(a.loc[a['wep'] == False])/len(a)*100:.2f}%\")\n",
    "a.loc[a['wep'] == False].sort_values(by='wep2', ascending=False)"
   ]
  },
  {
   "cell_type": "markdown",
   "metadata": {},
   "source": [
    "# Fase A: punto focal \"Líneas de venta\"\n",
    "## Productos comprados con un único proveedor y\n",
    "## Productos comprados a varios proveedores que no cambiaron su precio en el tiempo"
   ]
  },
  {
   "cell_type": "markdown",
   "metadata": {},
   "source": [
    "Se obtiene el costo de venta en el dataframe 'ventas_año' donde  los renglones de venta coinciden con los 'ids_prod_fase_A', su contraparte es el total de las compras.\n",
    "Estas ventas no son de tipo \"especial\", sino venta normal y se trata de encontrar un \"Último costo\". Es por esto que no se usa tolerancia y la dirección es \"backward\"."
   ]
  },
  {
   "cell_type": "code",
   "execution_count": 112,
   "metadata": {},
   "outputs": [],
   "source": [
    "costo_venta_fase_A = (\n",
    "    pd.merge_asof(\n",
    "        left = ventas_año.loc[ventas_año['product_id'].isin(ids_prod_fase_A)].sort_values('invoice_date'),\n",
    "        right = compras.sort_values('tolerance_order_date'), \n",
    "        \n",
    "        left_by = 'product_id', \n",
    "        right_by = 'product_id_pp', \n",
    "        \n",
    "        left_on = 'invoice_date', \n",
    "        right_on = 'tolerance_order_date', \n",
    "\n",
    "        direction = 'backward')\n",
    ")"
   ]
  },
  {
   "cell_type": "code",
   "execution_count": 237,
   "metadata": {},
   "outputs": [
    {
     "data": {
      "text/plain": [
       "56262"
      ]
     },
     "execution_count": 237,
     "metadata": {},
     "output_type": "execute_result"
    }
   ],
   "source": [
    "len(ventas_año.loc[ventas_año['product_id'].isin(ids_prod_fase_A)])"
   ]
  },
  {
   "cell_type": "code",
   "execution_count": 243,
   "metadata": {},
   "outputs": [
    {
     "data": {
      "text/html": [
       "<div>\n",
       "<style scoped>\n",
       "    .dataframe tbody tr th:only-of-type {\n",
       "        vertical-align: middle;\n",
       "    }\n",
       "\n",
       "    .dataframe tbody tr th {\n",
       "        vertical-align: top;\n",
       "    }\n",
       "\n",
       "    .dataframe thead th {\n",
       "        text-align: right;\n",
       "    }\n",
       "</style>\n",
       "<table border=\"1\" class=\"dataframe\">\n",
       "  <thead>\n",
       "    <tr style=\"text-align: right;\">\n",
       "      <th></th>\n",
       "      <th>fact_doc_id</th>\n",
       "      <th>name</th>\n",
       "      <th>invoice_date</th>\n",
       "      <th>state</th>\n",
       "      <th>invoice_origin</th>\n",
       "      <th>module_origin</th>\n",
       "      <th>pos_doc_id</th>\n",
       "      <th>move_type</th>\n",
       "      <th>reversal_move_id</th>\n",
       "      <th>reversed_entry_id</th>\n",
       "      <th>...</th>\n",
       "      <th>product_id_pp</th>\n",
       "      <th>product_name_y</th>\n",
       "      <th>product_qty</th>\n",
       "      <th>product_price</th>\n",
       "      <th>oficial</th>\n",
       "      <th>partner_fact_ref</th>\n",
       "      <th>partner_fact_date</th>\n",
       "      <th>capturista</th>\n",
       "      <th>vendedora</th>\n",
       "      <th>tolerance_order_date</th>\n",
       "    </tr>\n",
       "  </thead>\n",
       "  <tbody>\n",
       "  </tbody>\n",
       "</table>\n",
       "<p>0 rows × 46 columns</p>\n",
       "</div>"
      ],
      "text/plain": [
       "Empty DataFrame\n",
       "Columns: [fact_doc_id, name, invoice_date, state, invoice_origin, module_origin, pos_doc_id, move_type, reversal_move_id, reversed_entry_id, journal_id, company_id, partner_id_x, partner_name_x, salesperson_id, salesperson_name, active, sale_team_id, sale_team_description, business_model, warehouse, fact_line_id, product_id, product_name_x, prod_codigo, prod_linea, quantity, price_unit, discount, price_subtotal, line_id, order_id, order_name, order_date, partner_id_y, partner_name_y, product_id_pp, product_name_y, product_qty, product_price, oficial, partner_fact_ref, partner_fact_date, capturista, vendedora, tolerance_order_date]\n",
       "Index: []\n",
       "\n",
       "[0 rows x 46 columns]"
      ]
     },
     "execution_count": 243,
     "metadata": {},
     "output_type": "execute_result"
    }
   ],
   "source": [
    "costo_venta_fase_A[costo_venta_fase_A['fact_line_id'].isna()]"
   ]
  },
  {
   "cell_type": "markdown",
   "metadata": {},
   "source": [
    "# Fase B: punto focal \"Líneas de compra\"\n",
    "## Productos comprados a varios proveedores que sí cambiaron su precio en el tiempo"
   ]
  },
  {
   "cell_type": "markdown",
   "metadata": {},
   "source": [
    "### 1er vuelta: productos que con un match sencillo, coinciden en 3 condiciones [producto, vendedora, cantidad]"
   ]
  },
  {
   "cell_type": "markdown",
   "metadata": {},
   "source": [
    "Se estudian las líneas de compras con 'ids_prod_fase_)"
   ]
  },
  {
   "cell_type": "code",
   "execution_count": 209,
   "metadata": {},
   "outputs": [
    {
     "name": "stdout",
     "output_type": "stream",
     "text": [
      "Son un total de 12915 líneas de compra en Odoo. No se están contando las líneas de costo inicial del SAE.\n",
      "\n",
      "En la fase B, quedan sólo 1370 de ellas 10.61%\n"
     ]
    }
   ],
   "source": [
    "compras_fase_b = compras_odoo.loc[compras_odoo['product_id_pp'].isin(ids_prod_fase_B)]\n",
    "print(f'Son un total de {len(compras_odoo)} líneas de compra en Odoo. No se están contando las líneas de costo inicial del SAE.')\n",
    "\n",
    "print(f'\\nEn la fase B, quedan sólo {len(compras_fase_b)} de ellas {len(compras_fase_b)/len(compras_odoo)*100:.2f}%')"
   ]
  },
  {
   "cell_type": "markdown",
   "metadata": {},
   "source": [
    "Debido a que el punto focal son las compras, no se puede hablar de un costo de la venta, sino de un \"match entre ids\".  \n",
    "Se obtiene el match de líneas de compra de fase B donde  los renglones de coinciden con los 'ids_productos_varios_prov_costo_con_cambios'. Su contraparte es el total de ventas_año.  \n",
    "Debido a que estas compras son para ventas de tipo \"Especial\", se trata de buscar una venta exacta con las 3 condiciones descritas anteriormente. Se usa una tolerancia de 5 días, con dirección \"nearest\"."
   ]
  },
  {
   "cell_type": "code",
   "execution_count": 213,
   "metadata": {},
   "outputs": [],
   "source": [
    "match_1ro = (\n",
    "    pd.merge_asof(\n",
    "        left = compras_fase_b.sort_values('order_date'), \n",
    "        right = ventas_año.sort_values('invoice_date'),\n",
    "        \n",
    "        left_by = ['product_id_pp', 'vendedora', 'product_qty'], \n",
    "        right_by = ['product_id', 'salesperson_name', 'quantity'], \n",
    "        \n",
    "        left_on = 'order_date', \n",
    "        right_on = 'invoice_date', \n",
    "\n",
    "        tolerance = pd.Timedelta(days=5),\n",
    "        \n",
    "        direction = 'nearest')\n",
    ")"
   ]
  },
  {
   "cell_type": "markdown",
   "metadata": {},
   "source": [
    "Se descartan del merge anterior los match donde hay líneas de compras unidos a líneas de venta repetidas"
   ]
  },
  {
   "cell_type": "code",
   "execution_count": 214,
   "metadata": {},
   "outputs": [
    {
     "name": "stdout",
     "output_type": "stream",
     "text": [
      "Son 25 líneas de compras que se unieron a líneas repetidad de fact_line_id\n"
     ]
    }
   ],
   "source": [
    "ids_fact_line_repetidas = match_1ro.loc[(~match_1ro['fact_line_id'].isna()) & (match_1ro['fact_line_id'].duplicated()), 'fact_line_id']\n",
    "ids_order_line_con_fact_line_repetidas = match_1ro.loc[match_1ro['fact_line_id'].isin(ids_fact_line_repetidas), 'line_id']\n",
    "\n",
    "print(f'Son {len(ids_order_line_con_fact_line_repetidas)} líneas de compras que se unieron a líneas repetidad de fact_line_id')\n"
   ]
  },
  {
   "cell_type": "markdown",
   "metadata": {},
   "source": [
    "Segmentas del merge 'match_1ro_fase_b' los match que se pueden usar, delimitas el trabajo faltante"
   ]
  },
  {
   "cell_type": "code",
   "execution_count": 229,
   "metadata": {},
   "outputs": [
    {
     "name": "stdout",
     "output_type": "stream",
     "text": [
      "Son un total de 1370 líneas de compra en la fase B.\n",
      "   En el 1er match se emparejaron 731 de ellas 53.36%\n",
      "   Quedan por emparejar 639 de líneas 46.64%\n"
     ]
    }
   ],
   "source": [
    "match_1ro_compras_ok = match_1ro.loc[(~match_1ro['fact_line_id'].isna()) & (~match_1ro['line_id'].isin(ids_order_line_con_fact_line_repetidas)), ['fact_line_id', 'line_id']]\n",
    "match_1ro_compras_faltantes = match_1ro.loc[~match_1ro['line_id'].isin(match_1ro_compras_ok['line_id'])]\n",
    "\n",
    "print(f'Son un total de {len(compras_fase_b)} líneas de compra en la fase B.')\n",
    "\n",
    "print(f'   En el 1er match se emparejaron {len(match_1ro_compras_ok)} de ellas {len(match_1ro_compras_ok)/len(compras_fase_b)*100:.2f}%')\n",
    "print(f'   Quedan por emparejar {len(match_1ro_compras_faltantes)} de líneas {len(match_1ro_compras_faltantes)/len(compras_fase_b)*100:.2f}%')"
   ]
  },
  {
   "cell_type": "code",
   "execution_count": null,
   "metadata": {},
   "outputs": [],
   "source": [
    "# For para dar tratamiento a las líneas de compra que tuvieron tuvieron match con una misma línea de venta\n",
    "wep_igual_uno = []\n",
    "wep_muchas = []\n",
    "wep_vacias = []\n",
    "\n",
    "lista_ventas_merged = []\n",
    "\n",
    "for i in range(len(match_1ro_compras_faltantes)):\n",
    "\n",
    "    compra_df_for = match_1ro_compras_faltantes.iloc[i]\n",
    "\n",
    "    mini_df = ventas_prod_varios_prov_after_merge1.loc[\n",
    "                ~(ventas_prod_varios_prov_after_merge1['fact_line_id'].isin(lista_ventas_merged))\n",
    "                & (ventas_prod_varios_prov_after_merge1['product_id'] == compra_df_for['product_id_pp'])\n",
    "                & (ventas_prod_varios_prov_after_merge1['salesperson_name'] == compra_df_for['vendedora'])\n",
    "                & (ventas_prod_varios_prov_after_merge1['quantity'] == compra_df_for['product_qty'])\n",
    "                & (ventas_prod_varios_prov_after_merge1['invoice_date'] >= compra_df_for['order_date'] - pd.Timedelta(days=15))\n",
    "                & (ventas_prod_varios_prov_after_merge1['invoice_date'] <= compra_df_for['order_date'] + pd.Timedelta(days=3))\n",
    "            ]\n",
    "\n",
    "    if not mini_df.empty:\n",
    "        lista_ventas_merged.append(mini_df['fact_line_id'].iloc[0])\n",
    "\n",
    "    if len(mini_df) == 1:\n",
    "        wep_igual_uno.append(compra_df_for['line_id'])\n",
    "\n",
    "    if len(mini_df) > 1:\n",
    "        wep_muchas.append(compra_df_for['line_id'])\n",
    "    \n",
    "    if mini_df.empty:\n",
    "        wep_vacias.append(compra_df_for['line_id'])\n",
    "\n",
    "print(len(wep_igual_uno), 'wep_igual_uno')\n",
    "print(len(wep_muchas), 'wep_muchas')\n",
    "print(len(wep_vacias), 'wep_vacias')\n",
    "lista_ventas_merged"
   ]
  },
  {
   "cell_type": "markdown",
   "metadata": {},
   "source": [
    "# No seguir  \n",
    "Se ocupa terminar el costo de ventas: estas líneas son para obtener la \"Utilidad\" y el \"Margen de Contribución\"."
   ]
  },
  {
   "cell_type": "code",
   "execution_count": null,
   "metadata": {},
   "outputs": [],
   "source": [
    "# #Borrar esta línea, es provisional. Se tienen que corregir usando pd.NaN\n",
    "\n",
    "# for i in range(len(ventas_año['price_subtotal'])):\n",
    "#     ventas_año['price_subtotal'].iloc[i] = 0.01 if ventas_año['price_subtotal'].iloc[i] == 0 else ventas_año['price_subtotal'].iloc[i]"
   ]
  },
  {
   "cell_type": "code",
   "execution_count": null,
   "metadata": {},
   "outputs": [],
   "source": [
    "# ventas_año['costo_date_dif'] = ((ventas_año['invoice_date'] - ventas_año['costo_order_date']).dt.days).astype('Int64')\n",
    "# ventas_año['costo_subtotal'] = ventas_año['quantity'] * ventas_año['costo_producto']\n",
    "# ventas_año['utilidad_subtotal'] = ventas_año['price_subtotal'] - ventas_año['costo_subtotal']\n",
    "# ventas_año['utilidad_%'] = ((ventas_año['price_subtotal'] / ventas_año['costo_subtotal']) - 1) * 100\n",
    "# ventas_año['marg_util_%'] = (ventas_año['utilidad_subtotal'] / ventas_año['price_subtotal']) * 100\n",
    "\n",
    "\n",
    "# cols_ventas = ['fact_doc_id', 'name', 'invoice_date', 'partner_id',\n",
    "#        'partner_name', 'salesperson_id', 'salesperson_name', 'sale_team_description', 'business_model',\n",
    "#        'product_id', 'product_name', 'quantity', 'price_subtotal',\n",
    "#        'costo_subtotal', 'costo_order_date', 'costo_order_line_id',\n",
    "#        'costo_date_dif', 'utilidad_subtotal', 'utilidad_%', 'marg_util_%', 'costo_producto']\n",
    "\n",
    "# ventas = ventas_año[cols_ventas]"
   ]
  }
 ],
 "metadata": {
  "kernelspec": {
   "display_name": "env_algoritmo-comisiones-Odoo",
   "language": "python",
   "name": "python3"
  },
  "language_info": {
   "codemirror_mode": {
    "name": "ipython",
    "version": 3
   },
   "file_extension": ".py",
   "mimetype": "text/x-python",
   "name": "python",
   "nbconvert_exporter": "python",
   "pygments_lexer": "ipython3",
   "version": "3.11.5"
  }
 },
 "nbformat": 4,
 "nbformat_minor": 2
}
