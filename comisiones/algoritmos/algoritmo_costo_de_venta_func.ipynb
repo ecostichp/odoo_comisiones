{
 "cells": [
  {
   "cell_type": "code",
   "execution_count": 1,
   "metadata": {},
   "outputs": [],
   "source": [
    "import os\n",
    "from pathlib import Path\n",
    "from sqlalchemy import create_engine\n",
    "\n",
    "import xmlrpc.client\n",
    "import pandas as pd\n",
    "pd.options.display.float_format = '{:,.2f}'.format\n",
    "\n",
    "from IPython.display import display\n",
    "\n",
    "api_url = os.environ.get('ODOO_URL_API')\n",
    "api_db = os.environ.get('ODOO_DB_API')\n",
    "api_username = os.environ.get('ODOO_USERNAME_API')\n",
    "api_clave = os.environ.get('ODOO_CLAVE_API')\n",
    "\n",
    "common = xmlrpc.client.ServerProxy(f'{api_url}/xmlrpc/2/common')\n",
    "uid = common.authenticate(api_db, api_username, api_clave, {})\n",
    "models = xmlrpc.client.ServerProxy(f'{api_url}/xmlrpc/2/object')\n",
    "\n",
    "db_file = 'comisiones.db'\n",
    "db_file_path_str = str(Path().cwd().parent.parent.joinpath(f'data/{db_file}'))\n",
    "\n",
    "engine = create_engine(f'sqlite:///{db_file_path_str}')"
   ]
  },
  {
   "cell_type": "markdown",
   "metadata": {},
   "source": [
    "# Generar los DataFrames"
   ]
  },
  {
   "cell_type": "code",
   "execution_count": 2,
   "metadata": {},
   "outputs": [],
   "source": [
    "with engine.connect() as conn, conn.begin():  \n",
    "    ventas_enero = pd.read_sql_table('ventas_enero', conn, dtype_backend='numpy_nullable')\n",
    "    ventas_febrero = pd.read_sql_table('ventas_febrero', conn, dtype_backend='numpy_nullable')\n",
    "    ventas_marzo = pd.read_sql_table('ventas_marzo', conn, dtype_backend='numpy_nullable')\n",
    "    ventas_abril = pd.read_sql_table('ventas_abril', conn, dtype_backend='numpy_nullable')\n",
    "    ventas_mayo = pd.read_sql_table('ventas_mayo', conn, dtype_backend='numpy_nullable')\n",
    "    ventas_junio = pd.read_sql_table('ventas_junio', conn, dtype_backend='numpy_nullable')\n",
    "    ventas_año = pd.read_sql_table('ventas_año', conn, dtype_backend='numpy_nullable')\n",
    "\n",
    "engine.dispose()"
   ]
  },
  {
   "cell_type": "code",
   "execution_count": 3,
   "metadata": {},
   "outputs": [],
   "source": [
    "ventas_año = ventas_año[ventas_año['invoice_date'].dt.month < 7]"
   ]
  },
  {
   "cell_type": "code",
   "execution_count": 4,
   "metadata": {},
   "outputs": [],
   "source": [
    "db_file1 = 'proveedores_oficiales.xlsx'\n",
    "db_file1_path_str = str(Path().cwd().parent.parent.joinpath(f'data/compras/{db_file1}'))\n",
    "\n",
    "proveedores = pd.read_excel(db_file1_path_str, dtype_backend='numpy_nullable')\n",
    "prov_oficiales = proveedores.loc[proveedores['oficial'] == 1][['partner_id', 'partner_name']]\n",
    "prov_locales = proveedores.loc[proveedores['oficial'] == 0][['partner_id', 'partner_name']]"
   ]
  },
  {
   "cell_type": "code",
   "execution_count": 5,
   "metadata": {},
   "outputs": [],
   "source": [
    "db_file2 = 'productos_sin_compra.xlsx'\n",
    "db_file2_path_str = str(Path().cwd().parent.parent.joinpath(f'data/compras/{db_file2}'))\n",
    "\n",
    "productos_sin_compra = pd.read_excel(db_file2_path_str, dtype_backend='numpy_nullable')\n",
    "\n",
    "productos_sin_compra['tolerance_order_date'] = productos_sin_compra['order_date']"
   ]
  },
  {
   "cell_type": "code",
   "execution_count": 48,
   "metadata": {},
   "outputs": [],
   "source": [
    "db_file3 = 'fase_c.xlsx'\n",
    "db_file3_path_str = str(Path().cwd().parent.parent.joinpath(f'data/comisiones/{db_file3}'))\n",
    "\n",
    "fase_c = pd.read_excel(db_file3_path_str, dtype_backend='numpy_nullable')\n",
    "\n",
    "fase_c['fase'] = fase_c['fase'].str.upper()\n",
    "\n",
    "fase_c_OK = fase_c.loc[fase_c['fase'] == 'OK']\n",
    "fase_c_B = fase_c.loc[fase_c['fase'] == 'B']\n",
    "fase_c_C = fase_c.loc[fase_c['fase'] == 'C']\n",
    "fase_c_D = fase_c.loc[fase_c['fase'] == 'D']\n",
    "fase_c_E = fase_c.loc[fase_c['fase'] == 'E']"
   ]
  },
  {
   "cell_type": "code",
   "execution_count": 6,
   "metadata": {},
   "outputs": [],
   "source": [
    "fields_compras_doc = ['name', 'state','partner_id', 'partner_ref', 'date_approve', 'x_fecha_factura', 'user_id', 'create_uid']\n",
    "\n",
    "ids_compras_doc = models.execute_kw(api_db, uid, api_clave, 'purchase.order', 'search', [[(\"state\", \"in\", (\"purchase\", \"done\"))]])\n",
    "json_compras_doc = models.execute_kw(api_db, uid, api_clave, 'purchase.order', 'read', [ids_compras_doc], {'fields': fields_compras_doc})"
   ]
  },
  {
   "cell_type": "code",
   "execution_count": 7,
   "metadata": {},
   "outputs": [],
   "source": [
    "data_compras_doc = []\n",
    "\n",
    "for compra in json_compras_doc:\n",
    "    new = {}\n",
    "    new['order_id'] = compra['id']\n",
    "    new['order_name'] = compra['name']\n",
    "    new['order_state'] = compra['state']\n",
    "    new['order_date'] = compra['date_approve'] if compra['date_approve'] else pd.NA\n",
    "    new['partner_id'] = compra['partner_id'][0]\n",
    "    new['partner_name'] = compra['partner_id'][1]\n",
    "    new['partner_fact_ref'] = compra['partner_ref']\n",
    "    new['partner_fact_date'] = compra['x_fecha_factura'] if compra['x_fecha_factura'] else pd.NA\n",
    "    new['capturista'] = compra['create_uid'][1] if compra['create_uid'] else pd.NA\n",
    "    new['vendedora'] = compra['user_id'][1] if compra['user_id'] else pd.NA\n",
    "\n",
    "    data_compras_doc.append(new)\n",
    "\n",
    "compras_doc = pd.DataFrame(data_compras_doc)\n",
    "compras_doc['order_date'] = pd.to_datetime(compras_doc['order_date'], format='%Y-%m-%d %H:%M:%S')\n",
    "compras_doc['partner_fact_date'] = pd.to_datetime(compras_doc['partner_fact_date'], format='%Y-%m-%d')"
   ]
  },
  {
   "cell_type": "code",
   "execution_count": 8,
   "metadata": {},
   "outputs": [],
   "source": [
    "fields_compras_line = ['order_id', 'date_approve', 'partner_id','product_id', 'product_qty', 'price_unit_discounted']\n",
    "\n",
    "ids_compras_line = models.execute_kw(api_db, uid, api_clave, 'purchase.order.line', 'search', [[(\"order_id.id\", \"in\", ids_compras_doc)]])\n",
    "json_compras_line = models.execute_kw(api_db, uid, api_clave, 'purchase.order.line', 'read', [ids_compras_line], {'fields': fields_compras_line})"
   ]
  },
  {
   "cell_type": "code",
   "execution_count": 9,
   "metadata": {},
   "outputs": [],
   "source": [
    "data_compras_line = []\n",
    "\n",
    "for line in json_compras_line:\n",
    "    new = {}\n",
    "    new['line_id'] = line['id']\n",
    "    new['order_id'] = line['order_id'][0]\n",
    "    new['order_name'] = line['order_id'][1]\n",
    "    new['order_date'] = line['date_approve'] if line['date_approve'] else pd.NA\n",
    "    new['partner_id'] = line['partner_id'][0]\n",
    "    new['partner_name'] = line['partner_id'][1]\n",
    "    new['product_id_pp'] = line['product_id'][0]\n",
    "    new['product_name'] = line['product_id'][1]\n",
    "    new['product_qty'] = line['product_qty']\n",
    "    new['product_price'] = line['price_unit_discounted']\n",
    "    \n",
    "    data_compras_line.append(new)\n",
    "\n",
    "compras_linea = pd.DataFrame(data_compras_line)\n",
    "compras_linea['order_date'] = pd.to_datetime(compras_linea['order_date'], format='%Y-%m-%d %H:%M:%S')\n",
    "\n",
    "compras_linea['oficial'] = compras_linea['partner_id'].isin(prov_oficiales['partner_id'])"
   ]
  },
  {
   "cell_type": "code",
   "execution_count": 10,
   "metadata": {},
   "outputs": [],
   "source": [
    "compras_odoo = pd.merge(\n",
    "                    compras_linea,\n",
    "                    compras_doc[['order_id', 'partner_fact_ref', 'partner_fact_date', 'capturista', 'vendedora']], \n",
    "                    how='left', \n",
    "                    on='order_id'\n",
    "                )\n",
    "\n",
    "compras_odoo['tolerance_order_date'] = compras_odoo['order_date'].dt.normalize() - pd.Timedelta(days=5)\n",
    "\n",
    "cols_to_Int64 = ['line_id', 'order_id', 'partner_id', 'product_id_pp']\n",
    "compras_odoo[cols_to_Int64] = compras_odoo[cols_to_Int64].astype('Int64')\n",
    "\n",
    "compras_odoo['product_qty'] = compras_odoo['product_qty'].astype('Float64')\n",
    "compras_odoo['vendedora'] = compras_odoo['vendedora'].convert_dtypes()\n",
    "\n",
    "compras = pd.concat([compras_odoo, productos_sin_compra])"
   ]
  },
  {
   "cell_type": "markdown",
   "metadata": {},
   "source": [
    "# Checks"
   ]
  },
  {
   "cell_type": "code",
   "execution_count": 11,
   "metadata": {},
   "outputs": [
    {
     "name": "stdout",
     "output_type": "stream",
     "text": [
      "Todo correcto con check1\n"
     ]
    }
   ],
   "source": [
    "# Línea para comprobrar que el 100% de los proveedores de Odoo están calificados en la lista de proveedores oficiales\n",
    "\n",
    "check1 = (compras_doc[~compras_doc['partner_id'].isin(proveedores['partner_id'])]).drop_duplicates('partner_id')\n",
    "\n",
    "if not check1.empty:\n",
    "    print('Hay proveedores no calificados')\n",
    "    display(check1)\n",
    "\n",
    "else:\n",
    "    print('Todo correcto con check1')\n"
   ]
  },
  {
   "cell_type": "code",
   "execution_count": 12,
   "metadata": {},
   "outputs": [
    {
     "name": "stdout",
     "output_type": "stream",
     "text": [
      "Hay 21 renglones sin costo de la venta.\n",
      "Los productos sin costo son los siguientes:\n"
     ]
    },
    {
     "data": {
      "text/html": [
       "<div>\n",
       "<style scoped>\n",
       "    .dataframe tbody tr th:only-of-type {\n",
       "        vertical-align: middle;\n",
       "    }\n",
       "\n",
       "    .dataframe tbody tr th {\n",
       "        vertical-align: top;\n",
       "    }\n",
       "\n",
       "    .dataframe thead th {\n",
       "        text-align: right;\n",
       "    }\n",
       "</style>\n",
       "<table border=\"1\" class=\"dataframe\">\n",
       "  <thead>\n",
       "    <tr style=\"text-align: right;\">\n",
       "      <th></th>\n",
       "      <th>product_id</th>\n",
       "      <th>product_name_x</th>\n",
       "    </tr>\n",
       "  </thead>\n",
       "  <tbody>\n",
       "    <tr>\n",
       "      <th>10061</th>\n",
       "      <td>14757</td>\n",
       "      <td>Nuevo *0*</td>\n",
       "    </tr>\n",
       "    <tr>\n",
       "      <th>10282</th>\n",
       "      <td>28586</td>\n",
       "      <td>Anticipo</td>\n",
       "    </tr>\n",
       "    <tr>\n",
       "      <th>13415</th>\n",
       "      <td>28638</td>\n",
       "      <td>Servicios de Facturación</td>\n",
       "    </tr>\n",
       "    <tr>\n",
       "      <th>18005</th>\n",
       "      <td>4</td>\n",
       "      <td>Anticipo (PdV)</td>\n",
       "    </tr>\n",
       "  </tbody>\n",
       "</table>\n",
       "</div>"
      ],
      "text/plain": [
       "       product_id            product_name_x\n",
       "10061       14757                 Nuevo *0*\n",
       "10282       28586                  Anticipo\n",
       "13415       28638  Servicios de Facturación\n",
       "18005           4            Anticipo (PdV)"
      ]
     },
     "metadata": {},
     "output_type": "display_data"
    }
   ],
   "source": [
    "check_costo_venta = (\n",
    "    pd.merge_asof(\n",
    "        left = ventas_año.sort_values('invoice_date'),\n",
    "        right = compras.sort_values('tolerance_order_date'), \n",
    "        \n",
    "        left_by = 'product_id', \n",
    "        right_by = 'product_id_pp', \n",
    "        \n",
    "        left_on = 'invoice_date', \n",
    "        right_on = 'tolerance_order_date', \n",
    "\n",
    "        direction = 'backward')\n",
    ")\n",
    "\n",
    "check2 = check_costo_venta[check_costo_venta['product_price'].isna()][['product_id', 'product_name_x']]\n",
    "\n",
    "print(f'Hay {len(check2)} renglones sin costo de la venta.')\n",
    "\n",
    "if not check2.empty:\n",
    "    print('Los productos sin costo son los siguientes:')\n",
    "    display(check2.drop_duplicates('product_id'))\n",
    "\n",
    "else:\n",
    "    print('Todo correcto con check2')"
   ]
  },
  {
   "cell_type": "markdown",
   "metadata": {},
   "source": [
    "# Preliminares... obtener los segmentos a trabajar"
   ]
  },
  {
   "cell_type": "markdown",
   "metadata": {},
   "source": [
    "Sacar los productos que se compran con varios proveedores"
   ]
  },
  {
   "cell_type": "code",
   "execution_count": 13,
   "metadata": {},
   "outputs": [
    {
     "name": "stdout",
     "output_type": "stream",
     "text": [
      "Se han comprado un total de 5192 productos en Odoo:\n",
      "    - 231 productos con más de un proveedor 4.45%\n",
      "    - 4961 productos con un único proveedor 95.55%\n"
     ]
    }
   ],
   "source": [
    "prod_comprados_odoo = ( compras_odoo[['partner_id', 'partner_name', 'product_id_pp', 'product_name']]\n",
    "                        .sort_values('partner_id')\n",
    "                        .groupby('product_id_pp')\n",
    "                        .agg({'product_name': ['first'], 'partner_id': ['mean', 'first']})\n",
    "                    ).reset_index()\n",
    "\n",
    "prod_comprados_odoo['diff'] = prod_comprados_odoo[('partner_id', 'mean')]  == prod_comprados_odoo[('partner_id', 'first')]\n",
    "\n",
    "ids_productos_varios_prov = prod_comprados_odoo.loc[prod_comprados_odoo['diff'] == False]['product_id_pp']\n",
    "ids_productos_unicos_prov = prod_comprados_odoo.loc[prod_comprados_odoo['diff'] == True]['product_id_pp']\n",
    "\n",
    "print(f\"Se han comprado un total de {len(prod_comprados_odoo['product_id_pp'])} productos en Odoo:\")\n",
    "print(f'    - {len(ids_productos_varios_prov)} productos con más de un proveedor', f\"{len(ids_productos_varios_prov)/len(prod_comprados_odoo['product_id_pp'])*100:.2f}%\")\n",
    "print(f'    - {len(ids_productos_unicos_prov)} productos con un único proveedor', f\"{len(ids_productos_unicos_prov)/len(prod_comprados_odoo['product_id_pp'])*100:.2f}%\")"
   ]
  },
  {
   "cell_type": "markdown",
   "metadata": {},
   "source": [
    "De los productos comprados a más de un proveedor, se obtienen los que no han cambiado su costo en el tiempo"
   ]
  },
  {
   "cell_type": "code",
   "execution_count": 14,
   "metadata": {},
   "outputs": [
    {
     "name": "stdout",
     "output_type": "stream",
     "text": [
      "De los 231 productos comprados con varios proveedores:\n",
      "    - 7 productos no han cambiado su costo, representan a un 3.03%\n",
      "    - 224 productos sí han cambiado su costo, representan a un 96.97%\n"
     ]
    }
   ],
   "source": [
    "compras_prod_varios_prov = compras_odoo[compras_odoo['product_id_pp'].isin(ids_productos_varios_prov)]\n",
    "\n",
    "\n",
    "compras_prod_varios_prov_agrupado = (compras_prod_varios_prov\n",
    "                                     .sort_values('partner_id')\n",
    "                                     .groupby('product_id_pp')\n",
    "                                     .agg({'product_name':['first'], 'line_id':['count'], 'product_price':['first', 'mean']})\n",
    "                                    ).reset_index()\n",
    "\n",
    "compras_prod_varios_prov_agrupado['diff'] = compras_prod_varios_prov_agrupado[('product_price', 'first')] == compras_prod_varios_prov_agrupado[('product_price', 'mean')]\n",
    "\n",
    "ids_prod_varios_prov_costo_sin_cambios = compras_prod_varios_prov_agrupado.loc[compras_prod_varios_prov_agrupado['diff'] == True]['product_id_pp']\n",
    "ids_prod_varios_prov_costo_con_cambios = compras_prod_varios_prov_agrupado.loc[compras_prod_varios_prov_agrupado['diff'] == False]['product_id_pp']\n",
    "\n",
    "\n",
    "print(f'De los {len(ids_productos_varios_prov)} productos comprados con varios proveedores:')\n",
    "print(f'    - {len(ids_prod_varios_prov_costo_sin_cambios)} productos no han cambiado su costo, representan a un {len(ids_prod_varios_prov_costo_sin_cambios)/len(ids_productos_varios_prov)*100:.2f}%')\n",
    "print(f'    - {len(ids_prod_varios_prov_costo_con_cambios)} productos sí han cambiado su costo, representan a un {len(ids_prod_varios_prov_costo_con_cambios)/len(ids_productos_varios_prov)*100:.2f}%')\n"
   ]
  },
  {
   "cell_type": "markdown",
   "metadata": {},
   "source": [
    "### Eliminar del universo de compras y ventas las líneas merchadas en la fase C 'OK' (las cuales las hizo un humano y se presumen correctas)"
   ]
  },
  {
   "cell_type": "code",
   "execution_count": 52,
   "metadata": {},
   "outputs": [],
   "source": [
    "ventas_por_calificar = ventas_año[~ventas_año['fact_line_id'].isin(fase_c_OK['fact_line_id'])]\n",
    "compras_por_calificar = compras[~compras['line_id'].isin(fase_c_OK['line_id'])]"
   ]
  },
  {
   "cell_type": "markdown",
   "metadata": {},
   "source": [
    "Se concatena los productos comprados a un único proveedor ('ids_productos_unicos_prov') y los productos comprados a varios proveedores que no han cambiado su precio ('ids_prod_varios_prov_costo_sin_cambios')  "
   ]
  },
  {
   "cell_type": "markdown",
   "metadata": {},
   "source": [
    "### Productos fase A del costo de ventas"
   ]
  },
  {
   "cell_type": "markdown",
   "metadata": {},
   "source": [
    "Se concatena los productos comprados a un único proveedor ('ids_productos_unicos_prov') y los productos comprados a varios proveedores que no han cambiado su precio ('ids_prod_varios_prov_costo_sin_cambios')  "
   ]
  },
  {
   "cell_type": "code",
   "execution_count": 15,
   "metadata": {},
   "outputs": [],
   "source": [
    "ids_prod_fase_A = pd.concat([ids_productos_unicos_prov, ids_prod_varios_prov_costo_sin_cambios]).sort_values()"
   ]
  },
  {
   "cell_type": "markdown",
   "metadata": {},
   "source": [
    "Se definen los dataframes de ventas y compras para la fase A, donde al ser productos de venta \"diaria\" se utiliza el data frame de compras en general."
   ]
  },
  {
   "cell_type": "code",
   "execution_count": 53,
   "metadata": {},
   "outputs": [],
   "source": [
    "ventas_fase_A = ventas_por_calificar[ventas_por_calificar['product_id'].isin(ids_prod_fase_A)]\n",
    "compras_fase_A = compras_por_calificar[compras_por_calificar['product_id_pp'].isin(ids_prod_fase_A)]"
   ]
  },
  {
   "cell_type": "markdown",
   "metadata": {},
   "source": [
    "### Productos fase B del costo de ventas"
   ]
  },
  {
   "cell_type": "markdown",
   "metadata": {},
   "source": [
    "Resto de los productos que no pertenecen a la fase A.  \n",
    "Se definen los dataframes de ventas y compras para la fase B, donde al ser productos de venta \"especial\" se utiliza el data frame de compras_odoo."
   ]
  },
  {
   "cell_type": "code",
   "execution_count": 54,
   "metadata": {},
   "outputs": [],
   "source": [
    "ventas_fase_B = ventas_por_calificar[~ventas_por_calificar['product_id'].isin(ids_prod_fase_A)]\n",
    "compras_fase_B = compras_por_calificar[~compras_por_calificar['product_id_pp'].isin(ids_prod_fase_A)]"
   ]
  },
  {
   "cell_type": "markdown",
   "metadata": {},
   "source": [
    "# Fase A: punto focal \"Líneas de venta\"\n",
    "## Productos comprados con un único proveedor y\n",
    "## Productos comprados a varios proveedores que no cambiaron su precio en el tiempo"
   ]
  },
  {
   "cell_type": "markdown",
   "metadata": {},
   "source": [
    "Se obtiene el costo de venta en el dataframe 'ventas_año' donde  los renglones de venta coinciden con los 'ids_prod_fase_A', su contraparte es el total de las compras.\n",
    "Estas ventas no son de tipo \"especial\", sino venta normal y se trata de encontrar un \"Último costo\". Es por esto que no se usa tolerancia y la dirección es \"backward\"."
   ]
  },
  {
   "cell_type": "code",
   "execution_count": 18,
   "metadata": {},
   "outputs": [],
   "source": [
    "costo_venta_fase_A = (\n",
    "    pd.merge_asof(\n",
    "        left = ventas_fase_A.sort_values('invoice_date'),\n",
    "        right = compras_fase_A.sort_values('tolerance_order_date'), \n",
    "        \n",
    "        left_by = 'product_id', \n",
    "        right_by = 'product_id_pp', \n",
    "        \n",
    "        left_on = 'invoice_date', \n",
    "        right_on = 'tolerance_order_date', \n",
    "\n",
    "        direction = 'backward')\n",
    ")"
   ]
  },
  {
   "cell_type": "markdown",
   "metadata": {},
   "source": [
    "# Fase B: punto focal \"Líneas de compra\"\n",
    "## Productos comprados a varios proveedores que sí cambiaron su precio en el tiempo"
   ]
  },
  {
   "cell_type": "markdown",
   "metadata": {},
   "source": [
    "### 1er vuelta: productos que con un match sencillo, coinciden en 3 condiciones [producto, vendedora, cantidad]"
   ]
  },
  {
   "cell_type": "markdown",
   "metadata": {},
   "source": [
    "Se estudian las líneas de compras con 'ids_prod_fase_B'"
   ]
  },
  {
   "cell_type": "code",
   "execution_count": 19,
   "metadata": {},
   "outputs": [
    {
     "name": "stdout",
     "output_type": "stream",
     "text": [
      "Son un total de 13541 líneas de compra en Odoo. (Aquí no hay líneas del SAE)\n",
      "\n",
      "En la fase B, quedan sólo 1482 de ellas 10.94%\n"
     ]
    }
   ],
   "source": [
    "print(f'Son un total de {len(compras_odoo)} líneas de compra en Odoo. (Aquí no hay líneas del SAE)')\n",
    "\n",
    "print(f'\\nEn la fase B, quedan sólo {len(compras_fase_B)} de ellas {len(compras_fase_B)/len(compras_odoo)*100:.2f}%')"
   ]
  },
  {
   "cell_type": "markdown",
   "metadata": {},
   "source": [
    "Debido a que el punto focal son las compras, no se puede hablar de un costo de la venta, sino de un \"match entre ids\".  \n",
    "Se obtiene el match de líneas de compra de fase B donde  los renglones de coinciden con los 'ids_productos_varios_prov_costo_con_cambios'. Su contraparte es el total de ventas_año con ids de producto de fase B.  \n",
    "Debido a que estas compras son para ventas de tipo \"Especial\", se trata de buscar una venta exacta con las 3 condiciones descritas anteriormente. Se usa una tolerancia y con dirección \"nearest\"."
   ]
  },
  {
   "cell_type": "code",
   "execution_count": 20,
   "metadata": {},
   "outputs": [],
   "source": [
    "match_1ro = (\n",
    "    pd.merge_asof(\n",
    "        left = compras_fase_B.sort_values('order_date'), \n",
    "        right = ventas_fase_B.sort_values('invoice_date'),\n",
    "        \n",
    "        left_by = ['product_id_pp', 'vendedora', 'product_qty'], \n",
    "        right_by = ['product_id', 'salesperson_name', 'quantity'], \n",
    "        \n",
    "        left_on = 'order_date', \n",
    "        right_on = 'invoice_date', \n",
    "\n",
    "        tolerance = pd.Timedelta(days=5),\n",
    "        \n",
    "        direction = 'nearest')\n",
    ")"
   ]
  },
  {
   "cell_type": "markdown",
   "metadata": {},
   "source": [
    "Se descartan del merge anterior los match donde hay líneas de compras unidos a líneas de venta repetidas"
   ]
  },
  {
   "cell_type": "code",
   "execution_count": 21,
   "metadata": {},
   "outputs": [
    {
     "name": "stdout",
     "output_type": "stream",
     "text": [
      "Son 25 líneas de compras que se unieron a líneas repetidad de fact_line_id\n"
     ]
    }
   ],
   "source": [
    "ids_fact_line_repetidas = match_1ro.loc[(~match_1ro['fact_line_id'].isna()) & (match_1ro['fact_line_id'].duplicated()), 'fact_line_id']\n",
    "ids_order_line_con_fact_line_repetidas = match_1ro.loc[match_1ro['fact_line_id'].isin(ids_fact_line_repetidas), 'line_id']\n",
    "\n",
    "print(f'Son {len(ids_order_line_con_fact_line_repetidas)} líneas de compras que se unieron a líneas repetidad de fact_line_id')\n"
   ]
  },
  {
   "cell_type": "markdown",
   "metadata": {},
   "source": [
    "Se procede a segmentar del merge 'match_1ro_fase_b' los match que sí se pueden usar y delimitas el trabajo faltante"
   ]
  },
  {
   "cell_type": "code",
   "execution_count": 22,
   "metadata": {},
   "outputs": [
    {
     "name": "stdout",
     "output_type": "stream",
     "text": [
      "Son un total de 1482 líneas de compra en la fase B.\n",
      "   En el 1er match se emparejaron 754 de ellas 50.88%\n",
      "   Quedan por emparejar 728 de líneas 49.12%\n"
     ]
    }
   ],
   "source": [
    "match_1ro_compras_ok = match_1ro.loc[(~match_1ro['fact_line_id'].isna()) & (~match_1ro['line_id'].isin(ids_order_line_con_fact_line_repetidas)), ['fact_line_id', 'line_id']]\n",
    "\n",
    "match_1ro_compras_faltantes = compras_fase_B.loc[~compras_fase_B['line_id'].isin(match_1ro_compras_ok['line_id'])]\n",
    "match_1ro_ventas_faltantes = ventas_fase_B.loc[~ventas_fase_B['fact_line_id'].isin(match_1ro_compras_ok['fact_line_id'])]\n",
    "\n",
    "print(f'Son un total de {len(compras_fase_B)} líneas de compra en la fase B.')\n",
    "\n",
    "print(f'   En el 1er match se emparejaron {len(match_1ro_compras_ok)} de ellas {len(match_1ro_compras_ok)/len(compras_fase_B)*100:.2f}%')\n",
    "print(f'   Quedan por emparejar {len(match_1ro_compras_faltantes)} de líneas {len(match_1ro_compras_faltantes)/len(compras_fase_B)*100:.2f}%')"
   ]
  },
  {
   "cell_type": "markdown",
   "metadata": {},
   "source": [
    "### ¡WEP! 2da vuelta: productos que tuvieron líneas repetidas de venta y los que no se mercharon!!"
   ]
  },
  {
   "cell_type": "code",
   "execution_count": 23,
   "metadata": {},
   "outputs": [
    {
     "name": "stdout",
     "output_type": "stream",
     "text": [
      "668 wep_vacias\n",
      "60 merchadas\n"
     ]
    }
   ],
   "source": [
    "# For para dar tratamiento a las líneas de compra que tuvieron tuvieron match con una misma línea de venta\n",
    "wep_vacias = []\n",
    "\n",
    "ids_ventas_a_descontar = []\n",
    "lista_ventas_merged = []\n",
    "\n",
    "for i in range(len(match_1ro_compras_faltantes)):\n",
    "\n",
    "    linea_compra = match_1ro_compras_faltantes.iloc[i]\n",
    "\n",
    "    mini_df = match_1ro_ventas_faltantes.loc[\n",
    "                ~(match_1ro_ventas_faltantes['fact_line_id'].isin(ids_ventas_a_descontar))\n",
    "                & (match_1ro_ventas_faltantes['product_id'] == linea_compra['product_id_pp'])\n",
    "                & (match_1ro_ventas_faltantes['salesperson_name'] == linea_compra['vendedora'])\n",
    "                & (match_1ro_ventas_faltantes['quantity'] == linea_compra['product_qty'])\n",
    "                & (match_1ro_ventas_faltantes['invoice_date'] >= linea_compra['order_date'] - pd.Timedelta(days=5))\n",
    "                & (match_1ro_ventas_faltantes['invoice_date'] <= linea_compra['order_date'] + pd.Timedelta(days=15))\n",
    "            ]\n",
    "\n",
    "# Línea para quitar del siguiente mini_df de ventas\n",
    "    if len(mini_df) == 1:\n",
    "        venta = mini_df['fact_line_id'].iloc[0]\n",
    "        compra = linea_compra['line_id']\n",
    "        \n",
    "        ids_ventas_a_descontar.append(venta)\n",
    "        lista_ventas_merged.append([venta, compra])\n",
    "\n",
    "    if len(mini_df) > 1:\n",
    "        mini_df_varios = mini_df.copy()\n",
    "        mini_df_varios['diff'] = abs(mini_df_varios['invoice_date'] - linea_compra['order_date'])\n",
    "        venta = mini_df_varios.sort_values('diff')['fact_line_id'].iloc[0]\n",
    "        compra = linea_compra['line_id']\n",
    "\n",
    "        ids_ventas_a_descontar.append(venta)\n",
    "        lista_ventas_merged.append([venta, compra])\n",
    "\n",
    "    if mini_df.empty:\n",
    "        wep_vacias.append(linea_compra['line_id'])\n",
    "\n",
    "print(len(wep_vacias), 'wep_vacias')\n",
    "\n",
    "match_2do_compras_ok = pd.DataFrame(lista_ventas_merged, columns=['fact_line_id', 'line_id'])\n",
    "print(len(match_2do_compras_ok), 'merchadas')"
   ]
  },
  {
   "cell_type": "code",
   "execution_count": 24,
   "metadata": {},
   "outputs": [
    {
     "name": "stdout",
     "output_type": "stream",
     "text": [
      "Son un total de 1482 líneas de compra en la fase B.\n",
      "   En el 1er match se emparejaron 754 de ellas 50.88%\n",
      "   En el 2do match se emparejaron 60 de ellas 4.05%\n",
      "   Quedan por emparejar 668 de líneas 45.07%\n"
     ]
    }
   ],
   "source": [
    "match_2do_compras_faltantes = compras_fase_B.loc[\n",
    "                                    (~compras_fase_B['line_id'].isin(match_1ro_compras_ok['line_id'])) \n",
    "                                    & (~compras_fase_B['line_id'].isin(match_2do_compras_ok['line_id']))\n",
    "                                ]\n",
    "match_2do_ventas_faltantes = ventas_fase_B.loc[\n",
    "                                    (~ventas_fase_B['fact_line_id'].isin(match_1ro_compras_ok['fact_line_id'])) \n",
    "                                    & (~ventas_fase_B['fact_line_id'].isin(match_2do_compras_ok['fact_line_id']))\n",
    "                                ]\n",
    "\n",
    "print(f'Son un total de {len(compras_fase_B)} líneas de compra en la fase B.')\n",
    "\n",
    "print(f'   En el 1er match se emparejaron {len(match_1ro_compras_ok)} de ellas {len(match_1ro_compras_ok)/len(compras_fase_B)*100:.2f}%')\n",
    "print(f'   En el 2do match se emparejaron {len(match_2do_compras_ok)} de ellas {len(match_2do_compras_ok)/len(compras_fase_B)*100:.2f}%')\n",
    "print(f'   Quedan por emparejar {len(match_2do_compras_faltantes)} de líneas {len(match_2do_compras_faltantes)/len(compras_fase_B)*100:.2f}%')"
   ]
  },
  {
   "cell_type": "code",
   "execution_count": 25,
   "metadata": {},
   "outputs": [
    {
     "name": "stdout",
     "output_type": "stream",
     "text": [
      "600 wep_vacias\n",
      "68 merchadas\n"
     ]
    }
   ],
   "source": [
    "# For para dar tratamiento a las líneas de compra que tuvieron tuvieron match con una misma línea de venta\n",
    "wep_vacias = []\n",
    "\n",
    "ids_ventas_a_descontar = []\n",
    "lista_ventas_merged = []\n",
    "\n",
    "for i in range(len(match_2do_compras_faltantes)):\n",
    "\n",
    "    linea_compra = match_2do_compras_faltantes.iloc[i]\n",
    "\n",
    "    mini_df = match_2do_ventas_faltantes.loc[\n",
    "                ~(match_2do_ventas_faltantes['fact_line_id'].isin(ids_ventas_a_descontar))\n",
    "                & (match_2do_ventas_faltantes['product_id'] == linea_compra['product_id_pp'])\n",
    "                & (match_2do_ventas_faltantes['quantity'] == linea_compra['product_qty'])\n",
    "                & (match_2do_ventas_faltantes['invoice_date'] >= linea_compra['order_date'] - pd.Timedelta(days=5))\n",
    "                & (match_2do_ventas_faltantes['invoice_date'] <= linea_compra['order_date'] + pd.Timedelta(days=10))\n",
    "            ]\n",
    "\n",
    "# Línea para quitar del siguiente mini_df de ventas\n",
    "    if len(mini_df) == 1:\n",
    "        venta = mini_df['fact_line_id'].iloc[0]\n",
    "        compra = linea_compra['line_id']\n",
    "        \n",
    "        ids_ventas_a_descontar.append(venta)\n",
    "        lista_ventas_merged.append([venta, compra])\n",
    "\n",
    "    if len(mini_df) > 1:\n",
    "        mini_df_varios = mini_df.copy()\n",
    "        mini_df_varios['diff'] = abs(mini_df_varios['invoice_date'] - linea_compra['order_date'])\n",
    "        venta = mini_df_varios.sort_values('diff')['fact_line_id'].iloc[0]\n",
    "        compra = linea_compra['line_id']\n",
    "\n",
    "        ids_ventas_a_descontar.append(venta)\n",
    "        lista_ventas_merged.append([venta, compra])\n",
    "\n",
    "    if mini_df.empty:\n",
    "        wep_vacias.append(linea_compra['line_id'])\n",
    "\n",
    "print(len(wep_vacias), 'wep_vacias')\n",
    "\n",
    "match_3ro_compras_ok = pd.DataFrame(lista_ventas_merged, columns=['fact_line_id', 'line_id'])\n",
    "print(len(match_3ro_compras_ok), 'merchadas')"
   ]
  },
  {
   "cell_type": "code",
   "execution_count": 26,
   "metadata": {},
   "outputs": [
    {
     "name": "stdout",
     "output_type": "stream",
     "text": [
      "Son un total de 1482 líneas de compra en la fase B.\n",
      "   En el 1er match se emparejaron 754 de ellas 50.88%\n",
      "   En el 2do match se emparejaron 60 de ellas 4.05%\n",
      "   En el 3ro match se emparejaron 68 de ellas 4.59%\n",
      "   Quedan por emparejar 600 de líneas 40.49%\n"
     ]
    }
   ],
   "source": [
    "match_3ro_compras_faltantes = compras_fase_B.loc[\n",
    "                                (~compras_fase_B['line_id'].isin(match_1ro_compras_ok['line_id']))\n",
    "                                & (~compras_fase_B['line_id'].isin(match_2do_compras_ok['line_id']))\n",
    "                                & (~compras_fase_B['line_id'].isin(match_3ro_compras_ok['line_id']))\n",
    "                            ]\n",
    "match_3ro_ventas_faltantes = ventas_fase_B.loc[\n",
    "                                (~ventas_fase_B['fact_line_id'].isin(match_1ro_compras_ok['fact_line_id'])) \n",
    "                                & (~ventas_fase_B['fact_line_id'].isin(match_2do_compras_ok['fact_line_id']))\n",
    "                                & (~ventas_fase_B['fact_line_id'].isin(match_3ro_compras_ok['fact_line_id']))\n",
    "                            ]\n",
    "\n",
    "print(f'Son un total de {len(compras_fase_B)} líneas de compra en la fase B.')\n",
    "\n",
    "print(f'   En el 1er match se emparejaron {len(match_1ro_compras_ok)} de ellas {len(match_1ro_compras_ok)/len(compras_fase_B)*100:.2f}%')\n",
    "print(f'   En el 2do match se emparejaron {len(match_2do_compras_ok)} de ellas {len(match_2do_compras_ok)/len(compras_fase_B)*100:.2f}%')\n",
    "print(f'   En el 3ro match se emparejaron {len(match_3ro_compras_ok)} de ellas {len(match_3ro_compras_ok)/len(compras_fase_B)*100:.2f}%')\n",
    "print(f'   Quedan por emparejar {len(match_3ro_compras_faltantes)} de líneas {len(match_3ro_compras_faltantes)/len(compras_fase_B)*100:.2f}%')"
   ]
  },
  {
   "cell_type": "code",
   "execution_count": 27,
   "metadata": {},
   "outputs": [
    {
     "data": {
      "text/html": [
       "<div>\n",
       "<style scoped>\n",
       "    .dataframe tbody tr th:only-of-type {\n",
       "        vertical-align: middle;\n",
       "    }\n",
       "\n",
       "    .dataframe tbody tr th {\n",
       "        vertical-align: top;\n",
       "    }\n",
       "\n",
       "    .dataframe thead th {\n",
       "        text-align: right;\n",
       "    }\n",
       "</style>\n",
       "<table border=\"1\" class=\"dataframe\">\n",
       "  <thead>\n",
       "    <tr style=\"text-align: right;\">\n",
       "      <th></th>\n",
       "      <th>line_id</th>\n",
       "      <th>order_id</th>\n",
       "      <th>order_name</th>\n",
       "      <th>order_date</th>\n",
       "      <th>partner_id</th>\n",
       "      <th>partner_name</th>\n",
       "      <th>product_id_pp</th>\n",
       "      <th>product_name</th>\n",
       "      <th>product_qty</th>\n",
       "      <th>product_price</th>\n",
       "      <th>oficial</th>\n",
       "      <th>partner_fact_ref</th>\n",
       "      <th>partner_fact_date</th>\n",
       "      <th>capturista</th>\n",
       "      <th>vendedora</th>\n",
       "      <th>tolerance_order_date</th>\n",
       "    </tr>\n",
       "  </thead>\n",
       "  <tbody>\n",
       "    <tr>\n",
       "      <th>3</th>\n",
       "      <td>20888</td>\n",
       "      <td>3408</td>\n",
       "      <td>P03392 (SJCFCO 17970)</td>\n",
       "      <td>2024-07-10 18:37:17</td>\n",
       "      <td>5326</td>\n",
       "      <td>Madereria El Pino De Los Cabos</td>\n",
       "      <td>26891</td>\n",
       "      <td>[40082] Pegamento Titebond  Waterproof Verde 4...</td>\n",
       "      <td>2.00</td>\n",
       "      <td>762.93</td>\n",
       "      <td>False</td>\n",
       "      <td>SJCFCO 17970</td>\n",
       "      <td>2024-07-10</td>\n",
       "      <td>Alexa Yadira Mazariegos Zunun</td>\n",
       "      <td>Yamilet Blanco Salas</td>\n",
       "      <td>2024-07-05</td>\n",
       "    </tr>\n",
       "    <tr>\n",
       "      <th>13</th>\n",
       "      <td>20868</td>\n",
       "      <td>3404</td>\n",
       "      <td>P03388 (SJCFCO 17953)</td>\n",
       "      <td>2024-07-10 17:57:39</td>\n",
       "      <td>5326</td>\n",
       "      <td>Madereria El Pino De Los Cabos</td>\n",
       "      <td>13697</td>\n",
       "      <td>[13748] Triplay Pino 1/2  4'*8' 0/Caras *13748*</td>\n",
       "      <td>60.00</td>\n",
       "      <td>422.41</td>\n",
       "      <td>False</td>\n",
       "      <td>SJCFCO 17953</td>\n",
       "      <td>2024-07-10</td>\n",
       "      <td>Alexa Yadira Mazariegos Zunun</td>\n",
       "      <td>Yamilet Blanco Salas</td>\n",
       "      <td>2024-07-05</td>\n",
       "    </tr>\n",
       "    <tr>\n",
       "      <th>14</th>\n",
       "      <td>20869</td>\n",
       "      <td>3404</td>\n",
       "      <td>P03388 (SJCFCO 17953)</td>\n",
       "      <td>2024-07-10 17:57:39</td>\n",
       "      <td>5326</td>\n",
       "      <td>Madereria El Pino De Los Cabos</td>\n",
       "      <td>13671</td>\n",
       "      <td>[13902] Polin 4\" X 4\" X 12' *13902*</td>\n",
       "      <td>20.00</td>\n",
       "      <td>387.93</td>\n",
       "      <td>False</td>\n",
       "      <td>SJCFCO 17953</td>\n",
       "      <td>2024-07-10</td>\n",
       "      <td>Alexa Yadira Mazariegos Zunun</td>\n",
       "      <td>Yamilet Blanco Salas</td>\n",
       "      <td>2024-07-05</td>\n",
       "    </tr>\n",
       "    <tr>\n",
       "      <th>19</th>\n",
       "      <td>20858</td>\n",
       "      <td>3397</td>\n",
       "      <td>P03381 (B 87614)</td>\n",
       "      <td>2024-07-10 00:25:12</td>\n",
       "      <td>5290</td>\n",
       "      <td>Maria Reyna Navarrete Cortez</td>\n",
       "      <td>13811</td>\n",
       "      <td>[3651] Triplay Pino 1/2  4'*8'  1/Cara *3651*</td>\n",
       "      <td>20.00</td>\n",
       "      <td>478.69</td>\n",
       "      <td>False</td>\n",
       "      <td>B 87614</td>\n",
       "      <td>2024-07-09</td>\n",
       "      <td>Alexa Yadira Mazariegos Zunun</td>\n",
       "      <td>Mayra Angelica Parada Manjarrez</td>\n",
       "      <td>2024-07-05</td>\n",
       "    </tr>\n",
       "    <tr>\n",
       "      <th>22</th>\n",
       "      <td>20853</td>\n",
       "      <td>3393</td>\n",
       "      <td>P03377 (2000005991981511)</td>\n",
       "      <td>2024-07-09 23:14:09</td>\n",
       "      <td>5128</td>\n",
       "      <td>Mercado Libre</td>\n",
       "      <td>12805</td>\n",
       "      <td>[11448] Base P/Lijadora Dewalt #N329079 *11448*</td>\n",
       "      <td>10.00</td>\n",
       "      <td>151.04</td>\n",
       "      <td>False</td>\n",
       "      <td>2000005991981511</td>\n",
       "      <td>2024-07-09</td>\n",
       "      <td>Elsa Ivette Diaz Leyva</td>\n",
       "      <td>Mayra Angelica Parada Manjarrez</td>\n",
       "      <td>2024-07-04</td>\n",
       "    </tr>\n",
       "    <tr>\n",
       "      <th>...</th>\n",
       "      <td>...</td>\n",
       "      <td>...</td>\n",
       "      <td>...</td>\n",
       "      <td>...</td>\n",
       "      <td>...</td>\n",
       "      <td>...</td>\n",
       "      <td>...</td>\n",
       "      <td>...</td>\n",
       "      <td>...</td>\n",
       "      <td>...</td>\n",
       "      <td>...</td>\n",
       "      <td>...</td>\n",
       "      <td>...</td>\n",
       "      <td>...</td>\n",
       "      <td>...</td>\n",
       "      <td>...</td>\n",
       "    </tr>\n",
       "    <tr>\n",
       "      <th>13415</th>\n",
       "      <td>135</td>\n",
       "      <td>91</td>\n",
       "      <td>P00080 (C 259462)</td>\n",
       "      <td>2024-01-08 23:24:24</td>\n",
       "      <td>5321</td>\n",
       "      <td>El Gran Tlapalero</td>\n",
       "      <td>13552</td>\n",
       "      <td>[2489] Chapa Ph P/Perfil Alum #550-AN #585 CE ...</td>\n",
       "      <td>5.00</td>\n",
       "      <td>327.47</td>\n",
       "      <td>False</td>\n",
       "      <td>C 259462</td>\n",
       "      <td>NaT</td>\n",
       "      <td>&lt;NA&gt;</td>\n",
       "      <td>Brenda Luz Acosta Lopez</td>\n",
       "      <td>2024-01-03</td>\n",
       "    </tr>\n",
       "    <tr>\n",
       "      <th>13419</th>\n",
       "      <td>132</td>\n",
       "      <td>89</td>\n",
       "      <td>P00078 (B 83278)</td>\n",
       "      <td>2024-01-08 22:19:12</td>\n",
       "      <td>5290</td>\n",
       "      <td>Maria Reyna Navarrete Cortez</td>\n",
       "      <td>13811</td>\n",
       "      <td>[3651] Triplay Pino 1/2  4'*8'  1/Cara *3651*</td>\n",
       "      <td>5.00</td>\n",
       "      <td>443.34</td>\n",
       "      <td>False</td>\n",
       "      <td>B 83278</td>\n",
       "      <td>NaT</td>\n",
       "      <td>&lt;NA&gt;</td>\n",
       "      <td>Mayra Angelica Parada Manjarrez</td>\n",
       "      <td>2024-01-03</td>\n",
       "    </tr>\n",
       "    <tr>\n",
       "      <th>13420</th>\n",
       "      <td>130</td>\n",
       "      <td>88</td>\n",
       "      <td>P00077 (IWAYYB 12428)</td>\n",
       "      <td>2024-01-08 22:17:27</td>\n",
       "      <td>5281</td>\n",
       "      <td>Nueva Wal Mart De Mexico</td>\n",
       "      <td>12446</td>\n",
       "      <td>[10695] Brasso Liquido 200mls *10695*</td>\n",
       "      <td>8.00</td>\n",
       "      <td>151.72</td>\n",
       "      <td>False</td>\n",
       "      <td>IWAYYB 12428</td>\n",
       "      <td>NaT</td>\n",
       "      <td>&lt;NA&gt;</td>\n",
       "      <td>Irma Carvajal Flores</td>\n",
       "      <td>2024-01-03</td>\n",
       "    </tr>\n",
       "    <tr>\n",
       "      <th>13421</th>\n",
       "      <td>129</td>\n",
       "      <td>87</td>\n",
       "      <td>P00076 (IWAJY 697677)</td>\n",
       "      <td>2024-01-08 22:15:35</td>\n",
       "      <td>5281</td>\n",
       "      <td>Nueva Wal Mart De Mexico</td>\n",
       "      <td>12446</td>\n",
       "      <td>[10695] Brasso Liquido 200mls *10695*</td>\n",
       "      <td>12.00</td>\n",
       "      <td>151.72</td>\n",
       "      <td>False</td>\n",
       "      <td>IWAJY 697677</td>\n",
       "      <td>NaT</td>\n",
       "      <td>&lt;NA&gt;</td>\n",
       "      <td>Irma Carvajal Flores</td>\n",
       "      <td>2024-01-03</td>\n",
       "    </tr>\n",
       "    <tr>\n",
       "      <th>13482</th>\n",
       "      <td>58</td>\n",
       "      <td>44</td>\n",
       "      <td>P00037 (C 259720)</td>\n",
       "      <td>2024-01-03 23:49:14</td>\n",
       "      <td>5321</td>\n",
       "      <td>El Gran Tlapalero</td>\n",
       "      <td>10856</td>\n",
       "      <td>[528] Tope Ph Media Luna #54-C #1464 *528*</td>\n",
       "      <td>50.00</td>\n",
       "      <td>53.93</td>\n",
       "      <td>False</td>\n",
       "      <td>C 259720</td>\n",
       "      <td>NaT</td>\n",
       "      <td>&lt;NA&gt;</td>\n",
       "      <td>Irma Carvajal Flores</td>\n",
       "      <td>2023-12-29</td>\n",
       "    </tr>\n",
       "  </tbody>\n",
       "</table>\n",
       "<p>371 rows × 16 columns</p>\n",
       "</div>"
      ],
      "text/plain": [
       "       line_id  order_id                 order_name          order_date  \\\n",
       "3        20888      3408      P03392 (SJCFCO 17970) 2024-07-10 18:37:17   \n",
       "13       20868      3404      P03388 (SJCFCO 17953) 2024-07-10 17:57:39   \n",
       "14       20869      3404      P03388 (SJCFCO 17953) 2024-07-10 17:57:39   \n",
       "19       20858      3397           P03381 (B 87614) 2024-07-10 00:25:12   \n",
       "22       20853      3393  P03377 (2000005991981511) 2024-07-09 23:14:09   \n",
       "...        ...       ...                        ...                 ...   \n",
       "13415      135        91          P00080 (C 259462) 2024-01-08 23:24:24   \n",
       "13419      132        89           P00078 (B 83278) 2024-01-08 22:19:12   \n",
       "13420      130        88      P00077 (IWAYYB 12428) 2024-01-08 22:17:27   \n",
       "13421      129        87      P00076 (IWAJY 697677) 2024-01-08 22:15:35   \n",
       "13482       58        44          P00037 (C 259720) 2024-01-03 23:49:14   \n",
       "\n",
       "       partner_id                    partner_name  product_id_pp  \\\n",
       "3            5326  Madereria El Pino De Los Cabos          26891   \n",
       "13           5326  Madereria El Pino De Los Cabos          13697   \n",
       "14           5326  Madereria El Pino De Los Cabos          13671   \n",
       "19           5290    Maria Reyna Navarrete Cortez          13811   \n",
       "22           5128                   Mercado Libre          12805   \n",
       "...           ...                             ...            ...   \n",
       "13415        5321               El Gran Tlapalero          13552   \n",
       "13419        5290    Maria Reyna Navarrete Cortez          13811   \n",
       "13420        5281        Nueva Wal Mart De Mexico          12446   \n",
       "13421        5281        Nueva Wal Mart De Mexico          12446   \n",
       "13482        5321               El Gran Tlapalero          10856   \n",
       "\n",
       "                                            product_name  product_qty  \\\n",
       "3      [40082] Pegamento Titebond  Waterproof Verde 4...         2.00   \n",
       "13       [13748] Triplay Pino 1/2  4'*8' 0/Caras *13748*        60.00   \n",
       "14                   [13902] Polin 4\" X 4\" X 12' *13902*        20.00   \n",
       "19         [3651] Triplay Pino 1/2  4'*8'  1/Cara *3651*        20.00   \n",
       "22       [11448] Base P/Lijadora Dewalt #N329079 *11448*        10.00   \n",
       "...                                                  ...          ...   \n",
       "13415  [2489] Chapa Ph P/Perfil Alum #550-AN #585 CE ...         5.00   \n",
       "13419      [3651] Triplay Pino 1/2  4'*8'  1/Cara *3651*         5.00   \n",
       "13420              [10695] Brasso Liquido 200mls *10695*         8.00   \n",
       "13421              [10695] Brasso Liquido 200mls *10695*        12.00   \n",
       "13482         [528] Tope Ph Media Luna #54-C #1464 *528*        50.00   \n",
       "\n",
       "       product_price  oficial  partner_fact_ref partner_fact_date  \\\n",
       "3             762.93    False      SJCFCO 17970        2024-07-10   \n",
       "13            422.41    False      SJCFCO 17953        2024-07-10   \n",
       "14            387.93    False      SJCFCO 17953        2024-07-10   \n",
       "19            478.69    False           B 87614        2024-07-09   \n",
       "22            151.04    False  2000005991981511        2024-07-09   \n",
       "...              ...      ...               ...               ...   \n",
       "13415         327.47    False          C 259462               NaT   \n",
       "13419         443.34    False           B 83278               NaT   \n",
       "13420         151.72    False      IWAYYB 12428               NaT   \n",
       "13421         151.72    False      IWAJY 697677               NaT   \n",
       "13482          53.93    False          C 259720               NaT   \n",
       "\n",
       "                          capturista                        vendedora  \\\n",
       "3      Alexa Yadira Mazariegos Zunun             Yamilet Blanco Salas   \n",
       "13     Alexa Yadira Mazariegos Zunun             Yamilet Blanco Salas   \n",
       "14     Alexa Yadira Mazariegos Zunun             Yamilet Blanco Salas   \n",
       "19     Alexa Yadira Mazariegos Zunun  Mayra Angelica Parada Manjarrez   \n",
       "22            Elsa Ivette Diaz Leyva  Mayra Angelica Parada Manjarrez   \n",
       "...                              ...                              ...   \n",
       "13415                           <NA>          Brenda Luz Acosta Lopez   \n",
       "13419                           <NA>  Mayra Angelica Parada Manjarrez   \n",
       "13420                           <NA>             Irma Carvajal Flores   \n",
       "13421                           <NA>             Irma Carvajal Flores   \n",
       "13482                           <NA>             Irma Carvajal Flores   \n",
       "\n",
       "      tolerance_order_date  \n",
       "3               2024-07-05  \n",
       "13              2024-07-05  \n",
       "14              2024-07-05  \n",
       "19              2024-07-05  \n",
       "22              2024-07-04  \n",
       "...                    ...  \n",
       "13415           2024-01-03  \n",
       "13419           2024-01-03  \n",
       "13420           2024-01-03  \n",
       "13421           2024-01-03  \n",
       "13482           2023-12-29  \n",
       "\n",
       "[371 rows x 16 columns]"
      ]
     },
     "execution_count": 27,
     "metadata": {},
     "output_type": "execute_result"
    }
   ],
   "source": [
    "lista_capturistas = [\n",
    "         'Elsa Ivette Diaz Leyva',\n",
    "         'Alexa Yadira Mazariegos Zunun',\n",
    "         'Dulce Guadalupe Pedroza Valenzuela',\n",
    "         'Mariana Araceli Carvajal Flores',\n",
    "         'Rosario Martinez Zarate',\n",
    "      ]\n",
    "\n",
    "match_3ro_compras_faltantes.loc[~match_3ro_compras_faltantes['vendedora'].isin(lista_capturistas)]\n"
   ]
  },
  {
   "cell_type": "code",
   "execution_count": 28,
   "metadata": {},
   "outputs": [],
   "source": [
    "match_fase_B = pd.concat([match_1ro_compras_ok, match_2do_compras_ok, match_3ro_compras_ok]).rename(columns={'fact_line_id': 'fact_line_id_match','line_id': 'line_id_match' })\n",
    "\n",
    "costo_venta_fase_B = (\n",
    "    match_fase_B.merge(\n",
    "        ventas_fase_B,\n",
    "        how='left',\n",
    "        left_on='fact_line_id_match',\n",
    "        right_on='fact_line_id'\n",
    "    ).merge(\n",
    "        compras_fase_B,\n",
    "        how='left',\n",
    "        left_on='line_id_match',\n",
    "        right_on='line_id'\n",
    "    )\n",
    ")\n",
    "\n",
    "costo_venta_fase_B.drop(columns=['fact_line_id_match', 'line_id_match'], inplace=True)"
   ]
  },
  {
   "cell_type": "code",
   "execution_count": 55,
   "metadata": {},
   "outputs": [],
   "source": [
    "match_fase_C = fase_c_OK[['fact_line_id', 'line_id']].rename(columns={'fact_line_id': 'fact_line_id_match','line_id': 'line_id_match' })\n",
    "\n",
    "costo_venta_fase_C = (\n",
    "    match_fase_C.merge(\n",
    "        ventas_año,\n",
    "        how='left',\n",
    "        left_on='fact_line_id_match',\n",
    "        right_on='fact_line_id'\n",
    "    ).merge(\n",
    "        compras,\n",
    "        how='left',\n",
    "        left_on='line_id_match',\n",
    "        right_on='line_id'\n",
    "    )\n",
    ")\n",
    "\n",
    "costo_venta_fase_C.drop(columns=['fact_line_id_match', 'line_id_match'], inplace=True)"
   ]
  },
  {
   "cell_type": "code",
   "execution_count": 58,
   "metadata": {},
   "outputs": [],
   "source": [
    "costo_venta = pd.concat([costo_venta_fase_A, costo_venta_fase_B, costo_venta_fase_C])"
   ]
  },
  {
   "cell_type": "markdown",
   "metadata": {},
   "source": [
    "Línea para guardar el archivo resultante de la fase C"
   ]
  },
  {
   "cell_type": "code",
   "execution_count": 30,
   "metadata": {},
   "outputs": [],
   "source": [
    "# desktop_path = Path.home().joinpath('desktop')\n",
    "# archivo_path = desktop_path.joinpath('lineas_faltantes_costo_ventas' + '.xlsx')\n",
    "\n",
    "# writer = pd.ExcelWriter(archivo_path, engine=\"openpyxl\")\n",
    "\n",
    "# match_3ro_compras_faltantes.to_excel(writer, sheet_name='comp_falt')\n",
    "# match_3ro_ventas_faltantes.to_excel(writer, sheet_name='vent_falt')\n",
    "# ventas_merged.to_excel(writer, sheet_name='vent_merged')\n",
    "# ventas_año.to_excel(writer, sheet_name='total_ventas')\n",
    "\n",
    "# writer.close()\n",
    "# writer.handles = None"
   ]
  },
  {
   "cell_type": "markdown",
   "metadata": {},
   "source": [
    "# Mejoras a la fase B"
   ]
  },
  {
   "cell_type": "markdown",
   "metadata": {},
   "source": [
    "Chequeo de mini_data_frame"
   ]
  },
  {
   "cell_type": "code",
   "execution_count": 31,
   "metadata": {},
   "outputs": [],
   "source": [
    "# wep_linea_compra_check = match_1ro_compras_faltantes[match_1ro_compras_faltantes['line_id'] == 18337].iloc[0]\n",
    "\n",
    "# lic_check = match_1ro_ventas_faltantes.loc[\n",
    "#                 (match_1ro_ventas_faltantes['product_id'] == wep_linea_compra_check['product_id_pp'])\n",
    "#                 & (match_1ro_ventas_faltantes['salesperson_name'] == wep_linea_compra_check['vendedora'])\n",
    "#                 & (match_1ro_ventas_faltantes['invoice_date'] >= wep_linea_compra_check['order_date'] - pd.Timedelta(days=5))\n",
    "#                 & (match_1ro_ventas_faltantes['invoice_date'] <= wep_linea_compra_check['order_date'] + pd.Timedelta(days=15))\n",
    "#             ]\n",
    "\n",
    "# lic_check['diff'] = abs(lic_check['invoice_date'] - wep_linea_compra_check['order_date'])\n",
    "# lic_check_sort = lic_check.sort_values('diff').reset_index()\n",
    "# lic_check_sort['cumsum'] = lic_check_sort['quantity'].cumsum()\n",
    "# display(wep_linea_compra_check)\n",
    "# display(lic_check_sort)\n",
    "\n",
    "# display(lic_check_sort[lic_check_sort['cumsum'] == wep_linea_compra_check['product_qty']])\n",
    "\n",
    "# lic_check_sort[lic_check_sort['cumsum'] == wep_linea_compra_check['product_qty']].index"
   ]
  },
  {
   "cell_type": "markdown",
   "metadata": {},
   "source": [
    "Chequeo de mini_data_frame (Con ciclo for)"
   ]
  },
  {
   "cell_type": "code",
   "execution_count": 32,
   "metadata": {},
   "outputs": [],
   "source": [
    "# for i in range(len(match_1ro_compras_faltantes)):\n",
    "\n",
    "#     wep_linea_compra = match_1ro_compras_faltantes.iloc[i]\n",
    "\n",
    "#     lic = match_1ro_ventas_faltantes.loc[\n",
    "#                     (match_1ro_ventas_faltantes['product_id'] == wep_linea_compra['product_id_pp'])\n",
    "#                     & (match_1ro_ventas_faltantes['salesperson_name'] == wep_linea_compra['vendedora'])\n",
    "#                     & (match_1ro_ventas_faltantes['invoice_date'] >= wep_linea_compra['order_date'] - pd.Timedelta(days=5))\n",
    "#                     & (match_1ro_ventas_faltantes['invoice_date'] <= wep_linea_compra['order_date'] + pd.Timedelta(days=15))\n",
    "#                 ]\n",
    "    \n",
    "#     if not lic.empty:\n",
    "\n",
    "#         lic['diff'] = abs(lic['invoice_date'] - wep_linea_compra['order_date'])\n",
    "#         lic_sort = lic.sort_values('diff').reset_index()\n",
    "#         lic_sort['cumsum'] = lic_sort['quantity'].cumsum()\n",
    "#         display(wep_linea_compra)\n",
    "#         display(lic_sort)\n",
    "#         lic_sort[lic_sort['cumsum'] == wep_linea_compra['product_qty']].index"
   ]
  },
  {
   "cell_type": "markdown",
   "metadata": {},
   "source": [
    "# No seguir  \n",
    "Se ocupa terminar el costo de ventas: estas líneas son para obtener la \"Utilidad\" y el \"Margen de Contribución\"."
   ]
  },
  {
   "cell_type": "code",
   "execution_count": 33,
   "metadata": {},
   "outputs": [],
   "source": [
    "# #Borrar esta línea, es provisional. Se tienen que corregir usando pd.NaN\n",
    "\n",
    "# for i in range(len(ventas_año['price_subtotal'])):\n",
    "#     ventas_año['price_subtotal'].iloc[i] = 0.01 if ventas_año['price_subtotal'].iloc[i] == 0 else ventas_año['price_subtotal'].iloc[i]"
   ]
  },
  {
   "cell_type": "code",
   "execution_count": 34,
   "metadata": {},
   "outputs": [],
   "source": [
    "# ventas_año['costo_date_dif'] = ((ventas_año['invoice_date'] - ventas_año['costo_order_date']).dt.days).astype('Int64')\n",
    "# ventas_año['costo_subtotal'] = ventas_año['quantity'] * ventas_año['costo_producto']\n",
    "# ventas_año['utilidad_subtotal'] = ventas_año['price_subtotal'] - ventas_año['costo_subtotal']\n",
    "# ventas_año['utilidad_%'] = ((ventas_año['price_subtotal'] / ventas_año['costo_subtotal']) - 1) * 100\n",
    "# ventas_año['marg_util_%'] = (ventas_año['utilidad_subtotal'] / ventas_año['price_subtotal']) * 100\n",
    "\n",
    "\n",
    "# cols_ventas = ['fact_doc_id', 'name', 'invoice_date', 'partner_id',\n",
    "#        'partner_name', 'salesperson_id', 'salesperson_name', 'sale_team_description', 'business_model',\n",
    "#        'product_id', 'product_name', 'quantity', 'price_subtotal',\n",
    "#        'costo_subtotal', 'costo_order_date', 'costo_order_line_id',\n",
    "#        'costo_date_dif', 'utilidad_subtotal', 'utilidad_%', 'marg_util_%', 'costo_producto']\n",
    "\n",
    "# ventas = ventas_año[cols_ventas]"
   ]
  }
 ],
 "metadata": {
  "kernelspec": {
   "display_name": "env_algoritmo-comisiones-Odoo",
   "language": "python",
   "name": "python3"
  },
  "language_info": {
   "codemirror_mode": {
    "name": "ipython",
    "version": 3
   },
   "file_extension": ".py",
   "mimetype": "text/x-python",
   "name": "python",
   "nbconvert_exporter": "python",
   "pygments_lexer": "ipython3",
   "version": "3.11.5"
  }
 },
 "nbformat": 4,
 "nbformat_minor": 2
}
