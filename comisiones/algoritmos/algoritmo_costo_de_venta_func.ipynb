{
 "cells": [
  {
   "cell_type": "code",
   "execution_count": 1,
   "metadata": {},
   "outputs": [],
   "source": [
    "import os\n",
    "from pathlib import Path\n",
    "from sqlalchemy import create_engine\n",
    "\n",
    "import xmlrpc.client\n",
    "import pandas as pd\n",
    "pd.options.display.float_format = '{:,.2f}'.format\n",
    "\n",
    "from IPython.display import display\n",
    "\n",
    "api_url = os.environ.get('ODOO_URL_API')\n",
    "api_db = os.environ.get('ODOO_DB_API')\n",
    "api_username = os.environ.get('ODOO_USERNAME_API')\n",
    "api_clave = os.environ.get('ODOO_CLAVE_API')\n",
    "\n",
    "common = xmlrpc.client.ServerProxy(f'{api_url}/xmlrpc/2/common')\n",
    "uid = common.authenticate(api_db, api_username, api_clave, {})\n",
    "models = xmlrpc.client.ServerProxy(f'{api_url}/xmlrpc/2/object')\n",
    "\n",
    "db_file = 'comisiones.db'\n",
    "db_file_path_str = str(Path().cwd().parent.parent.joinpath(f'data/{db_file}'))\n",
    "\n",
    "engine = create_engine(f'sqlite:///{db_file_path_str}')"
   ]
  },
  {
   "cell_type": "markdown",
   "metadata": {},
   "source": [
    "# Generar los DataFrames"
   ]
  },
  {
   "cell_type": "code",
   "execution_count": 2,
   "metadata": {},
   "outputs": [],
   "source": [
    "with engine.connect() as conn, conn.begin():  \n",
    "    ventas_enero = pd.read_sql_table('ventas_enero', conn, dtype_backend='numpy_nullable')\n",
    "    ventas_febrero = pd.read_sql_table('ventas_febrero', conn, dtype_backend='numpy_nullable')\n",
    "    ventas_marzo = pd.read_sql_table('ventas_marzo', conn, dtype_backend='numpy_nullable')\n",
    "    ventas_abril = pd.read_sql_table('ventas_abril', conn, dtype_backend='numpy_nullable')\n",
    "    ventas_mayo = pd.read_sql_table('ventas_mayo', conn, dtype_backend='numpy_nullable')\n",
    "    ventas_junio = pd.read_sql_table('ventas_junio', conn, dtype_backend='numpy_nullable')\n",
    "    ventas_año = pd.read_sql_table('ventas_año', conn, dtype_backend='numpy_nullable')\n",
    "\n",
    "engine.dispose()"
   ]
  },
  {
   "cell_type": "code",
   "execution_count": 3,
   "metadata": {},
   "outputs": [],
   "source": [
    "db_file1 = 'proveedores_oficiales.xlsx'\n",
    "db_file1_path_str = str(Path().cwd().parent.parent.joinpath(f'data/compras/{db_file1}'))\n",
    "\n",
    "proveedores = pd.read_excel(db_file1_path_str, dtype_backend='numpy_nullable')\n",
    "prov_oficiales = proveedores.loc[proveedores['oficial'] == 1][['partner_id', 'partner_name']]\n",
    "prov_locales = proveedores.loc[proveedores['oficial'] == 0][['partner_id', 'partner_name']]"
   ]
  },
  {
   "cell_type": "code",
   "execution_count": 4,
   "metadata": {},
   "outputs": [],
   "source": [
    "db_file2 = 'productos_sin_compra.xlsx'\n",
    "db_file2_path_str = str(Path().cwd().parent.parent.joinpath(f'data/compras/{db_file2}'))\n",
    "\n",
    "productos_sin_compra = pd.read_excel(db_file2_path_str, dtype_backend='numpy_nullable')"
   ]
  },
  {
   "cell_type": "code",
   "execution_count": 5,
   "metadata": {},
   "outputs": [],
   "source": [
    "fields_compras_doc = ['name', 'state','partner_id', 'partner_ref', 'date_approve', 'x_fecha_factura', 'user_id', 'create_uid']\n",
    "\n",
    "ids_compras_doc = models.execute_kw(api_db, uid, api_clave, 'purchase.order', 'search', [[(\"state\", \"in\", (\"purchase\", \"done\"))]])\n",
    "json_compras_doc = models.execute_kw(api_db, uid, api_clave, 'purchase.order', 'read', [ids_compras_doc], {'fields': fields_compras_doc})"
   ]
  },
  {
   "cell_type": "code",
   "execution_count": 6,
   "metadata": {},
   "outputs": [],
   "source": [
    "data_compras_doc = []\n",
    "\n",
    "for compra in json_compras_doc:\n",
    "    new = {}\n",
    "    new['order_id'] = compra['id']\n",
    "    new['order_name'] = compra['name']\n",
    "    new['order_state'] = compra['state']\n",
    "    new['order_date'] = compra['date_approve'] if compra['date_approve'] else pd.NA\n",
    "    new['partner_id'] = compra['partner_id'][0]\n",
    "    new['partner_name'] = compra['partner_id'][1]\n",
    "    new['partner_fact_ref'] = compra['partner_ref']\n",
    "    new['partner_fact_date'] = compra['x_fecha_factura'] if compra['x_fecha_factura'] else pd.NA\n",
    "    new['capturista'] = compra['create_uid'][1] if compra['create_uid'] else pd.NA\n",
    "    new['vendedora'] = compra['user_id'][1] if compra['user_id'] else pd.NA\n",
    "\n",
    "    data_compras_doc.append(new)\n",
    "\n",
    "compras_doc = pd.DataFrame(data_compras_doc)\n",
    "compras_doc['order_date'] = pd.to_datetime(compras_doc['order_date'], format='%Y-%m-%d %H:%M:%S')\n",
    "compras_doc['partner_fact_date'] = pd.to_datetime(compras_doc['partner_fact_date'], format='%Y-%m-%d')"
   ]
  },
  {
   "cell_type": "code",
   "execution_count": 7,
   "metadata": {},
   "outputs": [],
   "source": [
    "fields_compras_line = ['order_id', 'date_approve', 'partner_id','product_id', 'product_qty', 'price_unit_discounted']\n",
    "\n",
    "ids_compras_line = models.execute_kw(api_db, uid, api_clave, 'purchase.order.line', 'search', [[(\"order_id.id\", \"in\", ids_compras_doc)]])\n",
    "json_compras_line = models.execute_kw(api_db, uid, api_clave, 'purchase.order.line', 'read', [ids_compras_line], {'fields': fields_compras_line})"
   ]
  },
  {
   "cell_type": "code",
   "execution_count": 8,
   "metadata": {},
   "outputs": [],
   "source": [
    "data_compras_line = []\n",
    "\n",
    "for line in json_compras_line:\n",
    "    new = {}\n",
    "    new['line_id'] = line['id']\n",
    "    new['order_id'] = line['order_id'][0]\n",
    "    new['order_name'] = line['order_id'][1]\n",
    "    new['order_date'] = line['date_approve'] if line['date_approve'] else pd.NA\n",
    "    new['partner_id'] = line['partner_id'][0]\n",
    "    new['partner_name'] = line['partner_id'][1]\n",
    "    new['product_id_pp'] = line['product_id'][0]\n",
    "    new['product_name'] = line['product_id'][1]\n",
    "    new['product_qty'] = line['product_qty']\n",
    "    new['product_price'] = line['price_unit_discounted']\n",
    "    \n",
    "    data_compras_line.append(new)\n",
    "\n",
    "compras_linea = pd.DataFrame(data_compras_line)\n",
    "compras_linea['order_date'] = pd.to_datetime(compras_linea['order_date'], format='%Y-%m-%d %H:%M:%S')\n",
    "\n",
    "compras_linea['oficial'] = compras_linea['partner_id'].isin(prov_oficiales['partner_id'])"
   ]
  },
  {
   "cell_type": "code",
   "execution_count": 9,
   "metadata": {},
   "outputs": [],
   "source": [
    "compras_odoo = pd.merge(\n",
    "                    compras_linea,\n",
    "                    compras_doc[['order_id', 'partner_fact_ref', 'partner_fact_date', 'capturista', 'vendedora']], \n",
    "                    how='left', \n",
    "                    on='order_id'\n",
    "                )\n",
    "\n",
    "compras = pd.concat([compras_odoo, productos_sin_compra])\n",
    "\n",
    "cols_to_Int64 = ['line_id', 'order_id', 'partner_id', 'product_id_pp']\n",
    "compras[cols_to_Int64] = compras[cols_to_Int64].astype('Int64')\n",
    "\n",
    "compras['tolerance_order_date'] = compras['order_date'].dt.normalize() - pd.Timedelta(days=5)"
   ]
  },
  {
   "cell_type": "markdown",
   "metadata": {},
   "source": [
    "# Checks"
   ]
  },
  {
   "cell_type": "code",
   "execution_count": 10,
   "metadata": {},
   "outputs": [
    {
     "name": "stdout",
     "output_type": "stream",
     "text": [
      "Todo correcto con check1\n"
     ]
    }
   ],
   "source": [
    "# Línea para comprobrar que el 100% de los proveedores de Odoo están calificados en la lista de proveedores oficiales\n",
    "\n",
    "check1 = (compras_doc[~compras_doc['partner_id'].isin(proveedores['partner_id'])]).drop_duplicates('partner_id')\n",
    "\n",
    "if not check1.empty:\n",
    "    print('Hay proveedores no calificados')\n",
    "    display(check1)\n",
    "\n",
    "else:\n",
    "    print('Todo correcto con check1')\n"
   ]
  },
  {
   "cell_type": "code",
   "execution_count": 11,
   "metadata": {},
   "outputs": [
    {
     "name": "stdout",
     "output_type": "stream",
     "text": [
      "Hay 21 renglones sin costo de la venta.\n",
      "Los productos sin costo son los siguientes:\n"
     ]
    },
    {
     "data": {
      "text/html": [
       "<div>\n",
       "<style scoped>\n",
       "    .dataframe tbody tr th:only-of-type {\n",
       "        vertical-align: middle;\n",
       "    }\n",
       "\n",
       "    .dataframe tbody tr th {\n",
       "        vertical-align: top;\n",
       "    }\n",
       "\n",
       "    .dataframe thead th {\n",
       "        text-align: right;\n",
       "    }\n",
       "</style>\n",
       "<table border=\"1\" class=\"dataframe\">\n",
       "  <thead>\n",
       "    <tr style=\"text-align: right;\">\n",
       "      <th></th>\n",
       "      <th>product_id</th>\n",
       "      <th>product_name_x</th>\n",
       "    </tr>\n",
       "  </thead>\n",
       "  <tbody>\n",
       "    <tr>\n",
       "      <th>10061</th>\n",
       "      <td>14757</td>\n",
       "      <td>Nuevo *0*</td>\n",
       "    </tr>\n",
       "    <tr>\n",
       "      <th>10282</th>\n",
       "      <td>28586</td>\n",
       "      <td>Anticipo</td>\n",
       "    </tr>\n",
       "    <tr>\n",
       "      <th>13415</th>\n",
       "      <td>28638</td>\n",
       "      <td>Servicios de Facturación</td>\n",
       "    </tr>\n",
       "    <tr>\n",
       "      <th>18005</th>\n",
       "      <td>4</td>\n",
       "      <td>Anticipo (PdV)</td>\n",
       "    </tr>\n",
       "  </tbody>\n",
       "</table>\n",
       "</div>"
      ],
      "text/plain": [
       "       product_id            product_name_x\n",
       "10061       14757                 Nuevo *0*\n",
       "10282       28586                  Anticipo\n",
       "13415       28638  Servicios de Facturación\n",
       "18005           4            Anticipo (PdV)"
      ]
     },
     "metadata": {},
     "output_type": "display_data"
    }
   ],
   "source": [
    "check_costo_venta = (\n",
    "    pd.merge_asof(\n",
    "        left = ventas_año.sort_values('invoice_date'),\n",
    "        right = compras.sort_values('tolerance_order_date'), \n",
    "        \n",
    "        left_by = 'product_id', \n",
    "        right_by = 'product_id_pp', \n",
    "        \n",
    "        left_on = 'invoice_date', \n",
    "        right_on = 'tolerance_order_date', \n",
    "\n",
    "        direction = 'backward')\n",
    ")\n",
    "\n",
    "check2 = check_costo_venta[check_costo_venta['product_price'].isna()][['product_id', 'product_name_x']]\n",
    "\n",
    "print(f'Hay {len(check2)} renglones sin costo de la venta.')\n",
    "\n",
    "if not check2.empty:\n",
    "    print('Los productos sin costo son los siguientes:')\n",
    "    display(check2.drop_duplicates('product_id'))\n",
    "\n",
    "else:\n",
    "    print('Todo correcto con check2')"
   ]
  },
  {
   "cell_type": "markdown",
   "metadata": {},
   "source": [
    "# Primera ronda"
   ]
  },
  {
   "cell_type": "markdown",
   "metadata": {},
   "source": [
    "### Sacar los productos con compras a varios proveedores"
   ]
  },
  {
   "cell_type": "code",
   "execution_count": 12,
   "metadata": {},
   "outputs": [],
   "source": [
    "productos_varios_prov = (compras_odoo[['partner_id', 'partner_name', 'product_id_pp', 'product_name']]\n",
    "                    .sort_values('partner_id').groupby('product_id_pp')\n",
    "                    .agg({'product_name': ['first'], 'partner_id': ['mean', 'first']})\n",
    "                    )\n",
    "\n",
    "productos_varios_prov.columns = ['product_name', 'mean', 'first']\n",
    "productos_varios_prov['diff'] = productos_varios_prov['mean']  == productos_varios_prov['first']\n",
    "\n",
    "productos_varios_prov_ids = productos_varios_prov.loc[productos_varios_prov['diff'] == False].reset_index()['product_id_pp']\n",
    "\n",
    "ventas_productos_varios_prov = ventas_año[ventas_año['product_id'].isin(productos_varios_prov_ids)]\n",
    "compras_productos_varios_prov = compras[compras['product_id_pp'].isin(productos_varios_prov_ids)]\n",
    "\n",
    "ventas_año_diff = ventas_año[~ventas_año['product_id'].isin(productos_varios_prov_ids)]"
   ]
  },
  {
   "cell_type": "code",
   "execution_count": 13,
   "metadata": {},
   "outputs": [],
   "source": [
    "costo_venta = (\n",
    "    pd.merge_asof(\n",
    "        left = ventas_año.sort_values('invoice_date'),\n",
    "        right = compras.sort_values('tolerance_order_date'), \n",
    "        \n",
    "        left_by = 'product_id', \n",
    "        right_by = 'product_id_pp', \n",
    "        \n",
    "        left_on = 'invoice_date', \n",
    "        right_on = 'tolerance_order_date', \n",
    "\n",
    "        # tolerance = pd.Timedelta(days=1),\n",
    "        \n",
    "        direction = 'backward')\n",
    ")"
   ]
  },
  {
   "cell_type": "code",
   "execution_count": 14,
   "metadata": {},
   "outputs": [
    {
     "ename": "NameError",
     "evalue": "name 'compras_prod_varios_prov' is not defined",
     "output_type": "error",
     "traceback": [
      "\u001b[1;31m---------------------------------------------------------------------------\u001b[0m",
      "\u001b[1;31mNameError\u001b[0m                                 Traceback (most recent call last)",
      "Cell \u001b[1;32mIn[14], line 1\u001b[0m\n\u001b[1;32m----> 1\u001b[0m compras_prod_varios_prov[\u001b[38;5;124m'\u001b[39m\u001b[38;5;124mproduct_qty\u001b[39m\u001b[38;5;124m'\u001b[39m] \u001b[38;5;241m=\u001b[39m \u001b[43mcompras_prod_varios_prov\u001b[49m[\u001b[38;5;124m'\u001b[39m\u001b[38;5;124mproduct_qty\u001b[39m\u001b[38;5;124m'\u001b[39m]\u001b[38;5;241m.\u001b[39mastype(\u001b[38;5;124m'\u001b[39m\u001b[38;5;124mFloat64\u001b[39m\u001b[38;5;124m'\u001b[39m)\n\u001b[0;32m      2\u001b[0m compras_prod_varios_prov[\u001b[38;5;124m'\u001b[39m\u001b[38;5;124mvendedora\u001b[39m\u001b[38;5;124m'\u001b[39m] \u001b[38;5;241m=\u001b[39m compras_prod_varios_prov[\u001b[38;5;124m'\u001b[39m\u001b[38;5;124mvendedora\u001b[39m\u001b[38;5;124m'\u001b[39m]\u001b[38;5;241m.\u001b[39mconvert_dtypes()\n",
      "\u001b[1;31mNameError\u001b[0m: name 'compras_prod_varios_prov' is not defined"
     ]
    }
   ],
   "source": [
    "compras_prod_varios_prov['product_qty'] = compras_prod_varios_prov['product_qty'].astype('Float64')\n",
    "compras_prod_varios_prov['vendedora'] = compras_prod_varios_prov['vendedora'].convert_dtypes()"
   ]
  },
  {
   "cell_type": "code",
   "execution_count": null,
   "metadata": {},
   "outputs": [],
   "source": [
    "# Checar si es mejor primero (ronda 1 de concatenación), sacar de las compras los 212 'prod_varios_prov_ids', para que se quede el resto del DF en esa columna como NaN y en una\n",
    "# segunda vuelta calificar por niveles el resto de los renglones NaN\n",
    "\n",
    "v = pd.concat([ventas_año_diff, ventas_prod_varios_prov]).sort_values(by='invoice_date')"
   ]
  },
  {
   "cell_type": "markdown",
   "metadata": {},
   "source": [
    "### 2da vuelta al costo de ventas"
   ]
  },
  {
   "cell_type": "code",
   "execution_count": null,
   "metadata": {},
   "outputs": [],
   "source": [
    "compras_prod_varios_prov_odoo = compras_prod_varios_prov[~compras_prod_varios_prov['line_id'].isna()]"
   ]
  },
  {
   "cell_type": "code",
   "execution_count": null,
   "metadata": {},
   "outputs": [],
   "source": [
    "# ventas_costo_venta_prod_varios_prov = (\n",
    "#     pd.merge_asof(\n",
    "#         left = ventas_prod_varios_prov.sort_values('invoice_date'),\n",
    "#         right = compras_prod_varios_prov.sort_values('order_date'), \n",
    "        \n",
    "#         left_by = ['product_id', 'salesperson_name', 'quantity'], \n",
    "#         right_by = ['product_id_pp', 'vendedora', 'product_qty'], \n",
    "        \n",
    "#         left_on = 'invoice_date', \n",
    "#         right_on = 'order_date', \n",
    "\n",
    "#         tolerance = pd.Timedelta(days=5),\n",
    "        \n",
    "#         direction = 'nearest')\n",
    "# )"
   ]
  },
  {
   "cell_type": "code",
   "execution_count": null,
   "metadata": {},
   "outputs": [],
   "source": [
    "compras_costo_venta_prod_varios_prov = (\n",
    "    pd.merge_asof(\n",
    "        left = compras_prod_varios_prov_odoo.sort_values('order_date'), \n",
    "        right = ventas_prod_varios_prov.sort_values('invoice_date'),\n",
    "        \n",
    "        left_by = ['product_id_pp', 'vendedora', 'product_qty'], \n",
    "        right_by = ['product_id', 'salesperson_name', 'quantity'], \n",
    "        \n",
    "        left_on = 'order_date', \n",
    "        right_on = 'invoice_date', \n",
    "\n",
    "        tolerance = pd.Timedelta(days=5),\n",
    "        \n",
    "        direction = 'nearest')\n",
    ")\n",
    "\n",
    "ids_fact_line_repetidas = compras_costo_venta_prod_varios_prov.loc[(~compras_costo_venta_prod_varios_prov['fact_line_id'].isna()) & (compras_costo_venta_prod_varios_prov['fact_line_id'].duplicated()), 'fact_line_id']\n",
    "ids_order_line_con_ids_fact_line_repetidas = compras_costo_venta_prod_varios_prov.loc[compras_costo_venta_prod_varios_prov['fact_line_id'].isin(ids_fact_line_repetidas), 'line_id']\n",
    "costo_ventas_2da_vuelta_merge1 = compras_costo_venta_prod_varios_prov.loc[(~compras_costo_venta_prod_varios_prov['fact_line_id'].isna()) & (~compras_costo_venta_prod_varios_prov['line_id'].isin(ids_order_line_con_ids_fact_line_repetidas)), ['fact_line_id', 'line_id']]\n",
    "\n",
    "ventas_prod_varios_prov_after_merge1 = ventas_prod_varios_prov.loc[~ventas_prod_varios_prov['fact_line_id'].isin(costo_ventas_2da_vuelta_merge1['fact_line_id'])]\n",
    "compras_prod_varios_prov_odoo_after_merge1 = compras_prod_varios_prov_odoo.loc[~compras_prod_varios_prov_odoo['line_id'].isin(costo_ventas_2da_vuelta_merge1['line_id'])]"
   ]
  },
  {
   "cell_type": "code",
   "execution_count": null,
   "metadata": {},
   "outputs": [],
   "source": [
    "#Sólo para explicación, borrar\n",
    "print(len(ventas_prod_varios_prov.loc[~ventas_prod_varios_prov['fact_line_id'].isin(costo_ventas_2da_vuelta_merge1['fact_line_id'])]))\n",
    "print(len(compras_prod_varios_prov_odoo.loc[~compras_prod_varios_prov_odoo['line_id'].isin(costo_ventas_2da_vuelta_merge1['line_id'])]))"
   ]
  },
  {
   "cell_type": "code",
   "execution_count": null,
   "metadata": {},
   "outputs": [],
   "source": [
    "# For para dar tratamiento a las líneas de compra que tuvieron tuvieron match con una misma línea de venta\n",
    "wep_igual_uno = []\n",
    "wep_muchas = []\n",
    "wep_vacias = []\n",
    "\n",
    "lista_ventas_merged = []\n",
    "\n",
    "for i in range(len(compras_prod_varios_prov_odoo_after_merge1)):\n",
    "\n",
    "    compra_df_for = compras_prod_varios_prov_odoo_after_merge1.iloc[i]\n",
    "\n",
    "    mini_df = ventas_prod_varios_prov_after_merge1.loc[\n",
    "                ~(ventas_prod_varios_prov_after_merge1['fact_line_id'].isin(lista_ventas_merged))\n",
    "                & (ventas_prod_varios_prov_after_merge1['product_id'] == compra_df_for['product_id_pp'])\n",
    "                & (ventas_prod_varios_prov_after_merge1['salesperson_name'] == compra_df_for['vendedora'])\n",
    "                & (ventas_prod_varios_prov_after_merge1['quantity'] == compra_df_for['product_qty'])\n",
    "                & (ventas_prod_varios_prov_after_merge1['invoice_date'] >= compra_df_for['order_date'] - pd.Timedelta(days=15))\n",
    "                & (ventas_prod_varios_prov_after_merge1['invoice_date'] <= compra_df_for['order_date'] + pd.Timedelta(days=3))\n",
    "            ]\n",
    "\n",
    "    if not mini_df.empty:\n",
    "        lista_ventas_merged.append(mini_df['fact_line_id'].iloc[0])\n",
    "\n",
    "    if len(mini_df) == 1:\n",
    "        wep_igual_uno.append(compra_df_for['line_id'])\n",
    "\n",
    "    if len(mini_df) > 1:\n",
    "        wep_muchas.append(compra_df_for['line_id'])\n",
    "    \n",
    "    if mini_df.empty:\n",
    "        wep_vacias.append(compra_df_for['line_id'])\n",
    "\n",
    "print(len(wep_igual_uno), 'wep_igual_uno')\n",
    "print(len(wep_muchas), 'wep_muchas')\n",
    "print(len(wep_vacias), 'wep_vacias')\n",
    "lista_ventas_merged"
   ]
  },
  {
   "cell_type": "code",
   "execution_count": null,
   "metadata": {},
   "outputs": [],
   "source": [
    "a = compras_prod_varios_prov_odoo_after_merge1[~compras_prod_varios_prov_odoo_after_merge1['line_id'].isin(wep_igual_uno)].groupby('product_id_pp').agg({'product_name':['first'], 'line_id':['count'], 'product_price':['first', 'mean']})\n",
    "a['wep'] = a[('product_price', 'first')] == a[('product_price', 'mean')]\n",
    "a.loc[a['wep'] == False]"
   ]
  },
  {
   "cell_type": "code",
   "execution_count": null,
   "metadata": {},
   "outputs": [],
   "source": [
    "a = compras_prod_varios_prov_odoo_after_merge1.groupby('product_id_pp').agg({'product_name':['first'], 'line_id':['count'], 'product_price':['first', 'mean']})\n",
    "a['wep'] = a[('product_price', 'first')] == a[('product_price', 'mean')]\n",
    "a.loc[a['wep'] == False, ('line_id', 'count')].sum()\n",
    "a.loc[a['wep'] == False]"
   ]
  },
  {
   "cell_type": "code",
   "execution_count": null,
   "metadata": {},
   "outputs": [],
   "source": [
    "wep_igual_uno = []\n",
    "wep_muchas = []\n",
    "wep_vacias = []\n",
    "\n",
    "for i in range(len(ventas_prod_varios_prov_after_merge1)):\n",
    "    \n",
    "    ventas = ventas_prod_varios_prov_after_merge1.iloc[i]\n",
    "\n",
    "    mini_df = compras_prod_varios_prov_odoo_after_merge1.loc[\n",
    "                (compras_prod_varios_prov_odoo_after_merge1['product_id_pp'] == ventas['product_id'])\n",
    "                & (compras_prod_varios_prov_odoo_after_merge1['vendedora'] == ventas['salesperson_name'])\n",
    "                & (compras_prod_varios_prov_odoo_after_merge1['product_qty'] == ventas['quantity'])\n",
    "                & (compras_prod_varios_prov_odoo_after_merge1['order_date'] >= ventas['invoice_date'] - pd.Timedelta(days=5))\n",
    "                & (compras_prod_varios_prov_odoo_after_merge1['order_date'] <= ventas['invoice_date'] + pd.Timedelta(days=5))\n",
    "            ]\n",
    "\n",
    "    if len(mini_df) == 1:\n",
    "        wep_igual_uno.append(i)\n",
    "\n",
    "    if len(mini_df) > 1:\n",
    "        wep_muchas.append(i)\n",
    "    \n",
    "    if mini_df.empty:\n",
    "        wep_vacias.append(i)\n",
    "\n",
    "print(len(wep_igual_uno), 'wep_igual_uno')\n",
    "print(len(wep_muchas), 'wep_muchas')\n",
    "print(len(wep_vacias), 'wep_vacias')"
   ]
  },
  {
   "cell_type": "markdown",
   "metadata": {},
   "source": [
    "Después de corregir el costo de la venta... las siguientes líneas ya son de utilidades"
   ]
  },
  {
   "cell_type": "code",
   "execution_count": null,
   "metadata": {},
   "outputs": [],
   "source": [
    "# #Borrar esta línea, es provisional. Se tienen que corregir usando pd.NaN\n",
    "\n",
    "# for i in range(len(ventas_año['price_subtotal'])):\n",
    "#     ventas_año['price_subtotal'].iloc[i] = 0.01 if ventas_año['price_subtotal'].iloc[i] == 0 else ventas_año['price_subtotal'].iloc[i]"
   ]
  },
  {
   "cell_type": "code",
   "execution_count": null,
   "metadata": {},
   "outputs": [],
   "source": [
    "# ventas_año['costo_date_dif'] = ((ventas_año['invoice_date'] - ventas_año['costo_order_date']).dt.days).astype('Int64')\n",
    "# ventas_año['costo_subtotal'] = ventas_año['quantity'] * ventas_año['costo_producto']\n",
    "# ventas_año['utilidad_subtotal'] = ventas_año['price_subtotal'] - ventas_año['costo_subtotal']\n",
    "# ventas_año['utilidad_%'] = ((ventas_año['price_subtotal'] / ventas_año['costo_subtotal']) - 1) * 100\n",
    "# ventas_año['marg_util_%'] = (ventas_año['utilidad_subtotal'] / ventas_año['price_subtotal']) * 100\n",
    "\n",
    "\n",
    "# cols_ventas = ['fact_doc_id', 'name', 'invoice_date', 'partner_id',\n",
    "#        'partner_name', 'salesperson_id', 'salesperson_name', 'sale_team_description', 'business_model',\n",
    "#        'product_id', 'product_name', 'quantity', 'price_subtotal',\n",
    "#        'costo_subtotal', 'costo_order_date', 'costo_order_line_id',\n",
    "#        'costo_date_dif', 'utilidad_subtotal', 'utilidad_%', 'marg_util_%', 'costo_producto']\n",
    "\n",
    "# ventas = ventas_año[cols_ventas]"
   ]
  }
 ],
 "metadata": {
  "kernelspec": {
   "display_name": "env_algoritmo-comisiones-Odoo",
   "language": "python",
   "name": "python3"
  },
  "language_info": {
   "codemirror_mode": {
    "name": "ipython",
    "version": 3
   },
   "file_extension": ".py",
   "mimetype": "text/x-python",
   "name": "python",
   "nbconvert_exporter": "python",
   "pygments_lexer": "ipython3",
   "version": "3.11.5"
  }
 },
 "nbformat": 4,
 "nbformat_minor": 2
}
