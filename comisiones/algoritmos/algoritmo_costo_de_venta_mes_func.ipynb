{
 "cells": [
  {
   "cell_type": "code",
   "execution_count": 3,
   "metadata": {},
   "outputs": [],
   "source": [
    "import os\n",
    "from pathlib import Path\n",
    "import xmlrpc.client\n",
    "import pandas as pd\n",
    "from sqlalchemy import create_engine"
   ]
  },
  {
   "cell_type": "code",
   "execution_count": 4,
   "metadata": {},
   "outputs": [],
   "source": [
    "def api_params_func(test_db: bool = False) -> dict:\n",
    "\n",
    "    api_url = os.environ.get('ODOO_URL_API')\n",
    "    api_db = os.environ.get('ODOO_DB_API')\n",
    "    api_test_db = os.environ.get('ODOO_DB_PRUEBA_API')\n",
    "    api_username = os.environ.get('ODOO_USERNAME_API')\n",
    "    api_clave = os.environ.get('ODOO_CLAVE_API')\n",
    "\n",
    "\n",
    "    api_params = {}\n",
    "    if test_db:\n",
    "        api_params['api_db'] = api_test_db\n",
    "    else:\n",
    "        api_params['api_db'] = api_db\n",
    "\n",
    "\n",
    "    common = xmlrpc.client.ServerProxy(f'{api_url}/xmlrpc/2/common')\n",
    "    uid = common.authenticate(api_params['api_db'], api_username, api_clave, {})\n",
    "    models = xmlrpc.client.ServerProxy(f'{api_url}/xmlrpc/2/object')\n",
    "\n",
    "\n",
    "    api_params['api_clave'] = api_clave\n",
    "    api_params['api_uid'] = uid\n",
    "    api_params['api_models'] = models\n",
    "\n",
    "    return api_params"
   ]
  },
  {
   "cell_type": "code",
   "execution_count": 3,
   "metadata": {},
   "outputs": [],
   "source": [
    "db_file = 'comisiones.db'\n",
    "db_file_path_str = str(Path().cwd().parent.parent.joinpath(f'data/{db_file}'))\n",
    "\n",
    "engine = create_engine(f'sqlite:///{db_file_path_str}')\n",
    "\n",
    "with engine.connect() as conn, conn.begin():  \n",
    "    \n",
    "    ultimo_costo_sae = pd.read_sql_table('ultimo_costo_sae', conn, dtype_backend='numpy_nullable')\n",
    "    ventas_año = pd.read_sql_table('ventas_año', conn, dtype_backend='numpy_nullable')\n",
    "\n",
    "engine.dispose()"
   ]
  },
  {
   "cell_type": "code",
   "execution_count": 21,
   "metadata": {},
   "outputs": [
    {
     "data": {
      "text/plain": [
       "Timedelta('0 days 07:00:00')"
      ]
     },
     "execution_count": 21,
     "metadata": {},
     "output_type": "execute_result"
    }
   ],
   "source": [
    "pd.Timedelta(hours=7)"
   ]
  },
  {
   "cell_type": "code",
   "execution_count": 6,
   "metadata": {},
   "outputs": [],
   "source": [
    "def search_costo_ventas_func(mes: int) -> list[int, str]:\n",
    "    \n",
    "    if type(mes) != int or mes < 1 or mes > 12:\n",
    "        raise Exception (f'El mes es incorrecto. El párametro \"mes\" debe ser un número entero entre 1 y 12. Escribiste: {mes}')\n",
    "    \n",
    "\n",
    "    param_dia_ini = pd.Timestamp(2024, mes, 1)\n",
    "    param_dia_fin = datetime(2024, mes + 1, 1) - timedelta(days= 1)\n",
    "\n",
    "    param_dia_hr_ini = param_dia_ini + timedelta(hours=7)\n",
    "    param_dia_hr_fin = param_dia_fin + timedelta(hours=31) - timedelta(seconds= 1)\n",
    "    \n",
    "    search_costo_vasdfasdfsadentas = [\n",
    "        \"&\",\n",
    "            (\"payment_date\", \">=\", param_dia_hr_ini.strftime('%Y-%m-%d %H:%M:%S')),\n",
    "            (\"payment_date\", \"<=\", param_dia_hr_fin.strftime('%Y-%m-%d %H:%M:%S')),\n",
    "        ]\n",
    "        \n",
    "    # De 01/06/2024 00:00:00 al 31/06/2024 23:59:59\"\n",
    "    search_costo_ventas = [\n",
    "        \"&\", \"&\",\n",
    "        (\"state\", \"in\", [\"purchase\", \"done\"]),\n",
    "        (\"date_approve\", \">=\", \"2024-06-01 07:00:00\"),\n",
    "        (\"date_approve\", \"<=\", \"2024-07-01 06:59:59\")\n",
    "    ]\n",
    "\n",
    "    return mes, search_costo_ventas"
   ]
  },
  {
   "cell_type": "markdown",
   "metadata": {},
   "source": [
    "# Pruebas"
   ]
  },
  {
   "cell_type": "code",
   "execution_count": 14,
   "metadata": {},
   "outputs": [],
   "source": [
    "api_params = api_params_func()\n",
    "search_costo_ventas = search_costo_ventas_func(1)"
   ]
  }
 ],
 "metadata": {
  "kernelspec": {
   "display_name": "env_comisiones-Odoo",
   "language": "python",
   "name": "python3"
  },
  "language_info": {
   "codemirror_mode": {
    "name": "ipython",
    "version": 3
   },
   "file_extension": ".py",
   "mimetype": "text/x-python",
   "name": "python",
   "nbconvert_exporter": "python",
   "pygments_lexer": "ipython3",
   "version": "3.11.5"
  }
 },
 "nbformat": 4,
 "nbformat_minor": 2
}
