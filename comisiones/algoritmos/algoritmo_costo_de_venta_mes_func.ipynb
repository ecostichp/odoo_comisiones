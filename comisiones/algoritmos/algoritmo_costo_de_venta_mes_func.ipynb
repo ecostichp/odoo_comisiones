{
 "cells": [
  {
   "cell_type": "code",
   "execution_count": 1,
   "metadata": {},
   "outputs": [],
   "source": [
    "import os\n",
    "from pathlib import Path\n",
    "import xmlrpc.client\n",
    "import pandas as pd\n",
    "from sqlalchemy import create_engine"
   ]
  },
  {
   "cell_type": "code",
   "execution_count": 2,
   "metadata": {},
   "outputs": [],
   "source": [
    "def api_params_func(test_db: bool = False) -> dict:\n",
    "\n",
    "    api_url = os.environ.get('ODOO_URL_API')\n",
    "    api_db = os.environ.get('ODOO_DB_API')\n",
    "    api_test_db = os.environ.get('ODOO_DB_PRUEBA_API')\n",
    "    api_username = os.environ.get('ODOO_USERNAME_API')\n",
    "    api_clave = os.environ.get('ODOO_CLAVE_API')\n",
    "\n",
    "\n",
    "    api_params = {}\n",
    "    if test_db:\n",
    "        api_params['api_db'] = api_test_db\n",
    "    else:\n",
    "        api_params['api_db'] = api_db\n",
    "\n",
    "\n",
    "    common = xmlrpc.client.ServerProxy(f'{api_url}/xmlrpc/2/common')\n",
    "    uid = common.authenticate(api_params['api_db'], api_username, api_clave, {})\n",
    "    models = xmlrpc.client.ServerProxy(f'{api_url}/xmlrpc/2/object')\n",
    "\n",
    "\n",
    "    api_params['api_clave'] = api_clave\n",
    "    api_params['api_uid'] = uid\n",
    "    api_params['api_models'] = models\n",
    "\n",
    "    return api_params"
   ]
  },
  {
   "cell_type": "code",
   "execution_count": 3,
   "metadata": {},
   "outputs": [],
   "source": [
    "db_file = 'comisiones.db'\n",
    "db_file_path_str = str(Path().cwd().parent.parent.joinpath(f'data/{db_file}'))\n",
    "\n",
    "engine = create_engine(f'sqlite:///{db_file_path_str}')\n",
    "\n",
    "with engine.connect() as conn, conn.begin():  \n",
    "    \n",
    "    ultimo_costo_sae = pd.read_sql_table('ultimo_costo_sae', conn, dtype_backend='numpy_nullable')\n",
    "    ventas_año = pd.read_sql_table('ventas_año', conn, dtype_backend='numpy_nullable')\n",
    "\n",
    "engine.dispose()"
   ]
  },
  {
   "cell_type": "code",
   "execution_count": null,
   "metadata": {},
   "outputs": [],
   "source": [
    "def search_pay_func(mes: int) -> list[str]:\n",
    "    \n",
    "    if type(mes) != int or mes < 1 or mes > 12:\n",
    "        raise Exception (f'El mes es incorrecto. El párametro \"mes\" debe ser un número entero entre 1 y 12. Escribiste: {mes}')\n",
    "    \n",
    "\n",
    "    param_dia_ini = datetime(2024, mes, 1)\n",
    "    param_dia_fin = datetime(2024, mes + 1, 1) - timedelta(days= 1)\n",
    "\n",
    "    search_pay_acc = [\n",
    "        \"&\", \"&\", \"&\",\n",
    "            (\"partner_type\", \"=\", \"customer\"),\n",
    "            (\"is_internal_transfer\", \"=\", False),\n",
    "            (\"state\", \"=\", \"posted\"),\n",
    "        \"&\",\n",
    "            (\"date\", \">=\", param_dia_ini.strftime('%Y-%m-%d')),\n",
    "            (\"date\", \"<=\", param_dia_fin.strftime('%Y-%m-%d')),\n",
    "        ]\n",
    "\n",
    "\n",
    "    param_dia_ini_pos = param_dia_ini + timedelta(hours=7)\n",
    "    param_dia_fin_pos = param_dia_fin + timedelta(hours=31) - timedelta(seconds= 1)\n",
    "    \n",
    "    search_pay_pos = [\n",
    "        \"&\",\n",
    "            (\"payment_date\", \">=\", param_dia_ini_pos.strftime('%Y-%m-%d %H:%M:%S')),\n",
    "            (\"payment_date\", \"<=\", param_dia_fin_pos.strftime('%Y-%m-%d %H:%M:%S')),\n",
    "        ]\n",
    "    \n",
    "\n",
    "    return search_pay_acc, search_pay_pos"
   ]
  },
  {
   "cell_type": "markdown",
   "metadata": {},
   "source": [
    "# Pruebas"
   ]
  },
  {
   "cell_type": "code",
   "execution_count": null,
   "metadata": {},
   "outputs": [],
   "source": []
  },
  {
   "cell_type": "code",
   "execution_count": null,
   "metadata": {},
   "outputs": [],
   "source": [
    "api_params = api_params_func()\n",
    "search_costo_ventas = search_costo_ventas_func(2)"
   ]
  }
 ],
 "metadata": {
  "kernelspec": {
   "display_name": "env_comisiones-Odoo",
   "language": "python",
   "name": "python3"
  },
  "language_info": {
   "codemirror_mode": {
    "name": "ipython",
    "version": 3
   },
   "file_extension": ".py",
   "mimetype": "text/x-python",
   "name": "python",
   "nbconvert_exporter": "python",
   "pygments_lexer": "ipython3",
   "version": "3.11.5"
  }
 },
 "nbformat": 4,
 "nbformat_minor": 2
}
