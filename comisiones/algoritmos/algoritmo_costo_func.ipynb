{
 "cells": [
  {
   "cell_type": "code",
   "execution_count": null,
   "metadata": {},
   "outputs": [],
   "source": [
    "import os\n",
    "import xmlrpc.client\n",
    "import pandas as pd\n",
    "import numpy as np\n",
    "from datetime import datetime, timedelta"
   ]
  },
  {
   "cell_type": "code",
   "execution_count": null,
   "metadata": {},
   "outputs": [],
   "source": [
    "def api_params_func(test_db: bool = False) -> dict:\n",
    "\n",
    "    api_url = os.environ.get('ODOO_URL_API')\n",
    "    api_db = os.environ.get('ODOO_DB_API')\n",
    "    api_test_db = os.environ.get('ODOO_DB_PRUEBA_API')\n",
    "    api_username = os.environ.get('ODOO_USERNAME_API')\n",
    "    api_clave = os.environ.get('ODOO_CLAVE_API')\n",
    "\n",
    "\n",
    "    api_params = {}\n",
    "    if test_db:\n",
    "        api_params['api_db'] = api_test_db\n",
    "    else:\n",
    "        api_params['api_db'] = api_db\n",
    "\n",
    "\n",
    "    common = xmlrpc.client.ServerProxy(f'{api_url}/xmlrpc/2/common')\n",
    "    uid = common.authenticate(api_params['api_db'], api_username, api_clave, {})\n",
    "    models = xmlrpc.client.ServerProxy(f'{api_url}/xmlrpc/2/object')\n",
    "\n",
    "\n",
    "    api_params['api_clave'] = api_clave\n",
    "    api_params['api_uid'] = uid\n",
    "    api_params['api_models'] = models\n",
    "\n",
    "    return api_params"
   ]
  },
  {
   "cell_type": "code",
   "execution_count": null,
   "metadata": {},
   "outputs": [],
   "source": [
    "def api_call_func(api_params: dict) -> list[dict]:\n",
    "\n",
    "    api_db = api_params['api_db']\n",
    "    api_clave = api_params['api_clave']\n",
    "    uid = api_params['api_uid']\n",
    "    models = api_params['api_models']\n",
    "\n",
    "\n",
    "    fields_purchase_lines = ['product_id', 'price_unit', 'date_order', 'order_id']\n",
    "    purchase_lines_ids = models.execute_kw(api_db, uid, api_clave, 'purchase.order.line', 'search', [[(\"date_order\", \">=\", (datetime.today() - timedelta(days = 100)).strftime(\"%Y-%m-%d\"))]])\n",
    "    purchase_lines_json = models.execute_kw(api_db, uid, api_clave, 'purchase.order.line', 'read', [purchase_lines_ids], {'fields':fields_purchase_lines})\n",
    "\n",
    "\n",
    "    fields_product_template = ['name', 'type', 'standard_price', 'list_price', 'write_date']\n",
    "    product_template_ids = models.execute_kw(api_db, uid, api_clave, 'product.template', 'search', [[]])\n",
    "    product_template_json = models.execute_kw(api_db, uid, api_clave, 'product.template', 'read', [product_template_ids], {'fields':fields_product_template})\n",
    "\n",
    "\n",
    "    return purchase_lines_json, product_template_json"
   ]
  },
  {
   "cell_type": "code",
   "execution_count": null,
   "metadata": {},
   "outputs": [],
   "source": [
    "def purchase_lines_df_fun(purchase_lines_json: list[dict]) -> pd.DataFrame:\n",
    "\n",
    "    data_purchase_lines = []\n",
    "\n",
    "    for purchase in purchase_lines_json:\n",
    "        new = {}\n",
    "        new['purchase_line_id'] = purchase['id']\n",
    "        new['product_id'] = purchase['product_id'][0]\n",
    "        new['purchase_cost_unit'] = purchase['price_unit']\n",
    "        new['purchase_date_order'] = purchase['date_order']\n",
    "        new['purchase_order_id'] = purchase['order_id'][0]\n",
    "\n",
    "        data_purchase_lines.append(new)\n",
    "\n",
    "    purchase_lines_df1 = pd.DataFrame(data_purchase_lines)\n",
    "    purchase_lines_df1['purchase_date_order'] = pd.to_datetime(purchase_lines_df1['purchase_date_order'], format='%Y-%m-%d %H:%M:%S')\n",
    "    purchase_lines_df1['purchase_line_id'] = purchase_lines_df1['purchase_line_id'].astype('Int64')\n",
    "    purchase_lines_df1['purchase_order_id'] = purchase_lines_df1['purchase_order_id'].astype('Int64')\n",
    "\n",
    "    purchase_lines_df = purchase_lines_df1.loc[purchase_lines_df1['product_id'].drop_duplicates().index]\n",
    "\n",
    "    return purchase_lines_df"
   ]
  },
  {
   "cell_type": "code",
   "execution_count": null,
   "metadata": {},
   "outputs": [],
   "source": [
    "def product_template_df_fun(product_template_json: list[dict]) -> pd.DataFrame:\n",
    "    \n",
    "    data_product_template = []\n",
    "\n",
    "    for product in product_template_json:\n",
    "        new = {}\n",
    "        new['product_id'] = product['id']\n",
    "        new['product_type'] = product['type']\n",
    "        new['product_description'] = product['name']\n",
    "        new['product_template_cost'] = product['standard_price']\n",
    "        new['product_price'] = product['list_price']\n",
    "        new['write_date'] = product['write_date']\n",
    "\n",
    "        data_product_template.append(new)\n",
    "\n",
    "    product_template_df = pd.DataFrame(data_product_template)\n",
    "    product_template_df['write_date'] = pd.to_datetime(product_template_df['write_date'], format='%Y-%m-%d %H:%M:%S')\n",
    "    product_template_df['product_id'] = product_template_df['product_id'].astype('Int64')\n",
    "\n",
    "    return product_template_df"
   ]
  },
  {
   "cell_type": "code",
   "execution_count": null,
   "metadata": {},
   "outputs": [],
   "source": [
    "def complete_costo_df_fun(purchase_lines_df: pd.DataFrame, product_template_df: pd.DataFrame) -> pd.DataFrame:\n",
    "    \n",
    "    complete_costo_df = product_template_df.merge(purchase_lines_df, how='left', on='product_id')\n",
    "\n",
    "\n",
    "    complete_costo_df.loc[(complete_costo_df['write_date'] > complete_costo_df['purchase_date_order']) | (complete_costo_df['purchase_date_order'].isna()), 'cost_type'] = 'REPS'\n",
    "    complete_costo_df.loc[(complete_costo_df['write_date'] > complete_costo_df['purchase_date_order']) | (complete_costo_df['purchase_date_order'].isna()), 'cost_unit'] = complete_costo_df['product_template_cost']\n",
    "    \n",
    "    complete_costo_df.loc[complete_costo_df['purchase_date_order'] > complete_costo_df['write_date'], 'cost_type'] = 'Compra'\n",
    "    complete_costo_df.loc[complete_costo_df['purchase_date_order'] > complete_costo_df['write_date'], 'cost_unit'] = complete_costo_df['purchase_cost_unit']\n",
    "    \n",
    "    complete_costo_df.loc[complete_costo_df['product_type'] == 'service', 'cost_type'] = 'Servicio'\n",
    "    complete_costo_df.loc[complete_costo_df['product_type'] == 'service', 'cost_unit'] = pd.NA\n",
    "\n",
    "    complete_costo_df['cost_unit'] = complete_costo_df['cost_unit'] * -1\n",
    "\n",
    "\n",
    "    return complete_costo_df\n"
   ]
  },
  {
   "cell_type": "code",
   "execution_count": null,
   "metadata": {},
   "outputs": [],
   "source": [
    "def costo_func(test_db: bool = False) -> pd.DataFrame:\n",
    "    \n",
    "    api_params = api_params_func(test_db)\n",
    "    purchase_lines_json, product_template_json = api_call_func(api_params)\n",
    "\n",
    "    purchase_lines_df = purchase_lines_df_fun(purchase_lines_json)\n",
    "    product_template_df = product_template_df_fun(product_template_json)\n",
    "\n",
    "\n",
    "    complete_costo_df = complete_costo_df_fun(purchase_lines_df, product_template_df)\n",
    "\n",
    "    return complete_costo_df\n"
   ]
  },
  {
   "cell_type": "markdown",
   "metadata": {},
   "source": [
    "## Pruebas"
   ]
  },
  {
   "cell_type": "code",
   "execution_count": null,
   "metadata": {},
   "outputs": [],
   "source": [
    "api_params = api_params_func()\n",
    "purchase_lines_json, product_template_json = api_call_func(api_params)\n",
    "\n",
    "purchase_lines_df = purchase_lines_df_fun(purchase_lines_json)\n",
    "product_template_df = product_template_df_fun(product_template_json)\n",
    "\n",
    "complete_costo_df = complete_costo_df = complete_costo_df_fun(purchase_lines_df, product_template_df)\n"
   ]
  }
 ],
 "metadata": {
  "kernelspec": {
   "display_name": "env_algoritmo-comisiones-Odoo",
   "language": "python",
   "name": "python3"
  },
  "language_info": {
   "codemirror_mode": {
    "name": "ipython",
    "version": 3
   },
   "file_extension": ".py",
   "mimetype": "text/x-python",
   "name": "python",
   "nbconvert_exporter": "python",
   "pygments_lexer": "ipython3",
   "version": "3.11.5"
  }
 },
 "nbformat": 4,
 "nbformat_minor": 2
}
