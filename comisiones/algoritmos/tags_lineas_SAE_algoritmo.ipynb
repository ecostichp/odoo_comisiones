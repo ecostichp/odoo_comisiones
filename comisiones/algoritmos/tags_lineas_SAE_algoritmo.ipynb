{
 "cells": [
  {
   "cell_type": "code",
   "execution_count": null,
   "metadata": {},
   "outputs": [],
   "source": [
    "import os\n",
    "from sys import path\n",
    "from pathlib import Path\n",
    "import xmlrpc.client\n",
    "\n",
    "import pandas as pd\n",
    "import numpy as np\n",
    "pd.options.display.float_format = '{:,.2f}'.format\n",
    "\n",
    "# Se genera la ruta absoluta al directorio \"Comisiones\"\n",
    "path_package = Path.cwd().parent.__str__()\n",
    "\n",
    "# Se agrega la ruta al directorio sys.path\n",
    "path.append(path_package)\n",
    "\n",
    "\n",
    "from descriptions.descriptions import descrip_product_df\n",
    "\n",
    "\n",
    "api_url = os.environ.get('ODOO_URL_API')\n",
    "# api_db = os.environ.get('ODOO_DB_API')\n",
    "api_db = os.environ.get('ODOO_DB_PRUEBA_API')\n",
    "api_username = os.environ.get('ODOO_USERNAME_API')\n",
    "api_clave = os.environ.get('ODOO_CLAVE_API')\n",
    "\n",
    "common = xmlrpc.client.ServerProxy(f'{api_url}/xmlrpc/2/common')\n",
    "uid = common.authenticate(api_db, api_username, api_clave, {})\n",
    "models = xmlrpc.client.ServerProxy(f'{api_url}/xmlrpc/2/object')"
   ]
  },
  {
   "cell_type": "code",
   "execution_count": null,
   "metadata": {},
   "outputs": [],
   "source": [
    "wep = models.execute_kw(api_db, uid, api_clave, 'product.tag', 'read', [[3]])\n",
    "wep\n",
    "\n",
    "# models.execute_kw(api_db, uid, api_clave, 'product.tag', 'create', [[{'name': \"Galón\"}, {'name': \"Litro\"}]])"
   ]
  },
  {
   "cell_type": "code",
   "execution_count": null,
   "metadata": {},
   "outputs": [],
   "source": [
    "say_lista_cubeta = list(descrip_product_df.loc[descrip_product_df['prod_línea'] == '0SAYC', 'product_id'])\n",
    "say_lista_galon = list(descrip_product_df.loc[descrip_product_df['prod_línea'] == '0SAYG', 'product_id'])\n",
    "say_lista_litro = list(descrip_product_df.loc[descrip_product_df['prod_línea'] == '0SAYL', 'product_id'])\n",
    "\n",
    "models.execute_kw(api_db, uid, api_clave, 'product.template', 'write', [say_lista_cubeta, {'product_tag_ids': [2,3]}])\n",
    "models.execute_kw(api_db, uid, api_clave, 'product.template', 'write', [say_lista_galon, {'product_tag_ids': [2,4]}])\n",
    "models.execute_kw(api_db, uid, api_clave, 'product.template', 'write', [say_lista_litro, {'product_tag_ids': [2,5]}])"
   ]
  }
 ],
 "metadata": {
  "kernelspec": {
   "display_name": "env_algoritmo-comisiones-Odoo",
   "language": "python",
   "name": "python3"
  },
  "language_info": {
   "codemirror_mode": {
    "name": "ipython",
    "version": 3
   },
   "file_extension": ".py",
   "mimetype": "text/x-python",
   "name": "python",
   "nbconvert_exporter": "python",
   "pygments_lexer": "ipython3",
   "version": "3.11.5"
  }
 },
 "nbformat": 4,
 "nbformat_minor": 2
}
