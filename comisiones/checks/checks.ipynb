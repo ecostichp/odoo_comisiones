{
 "cells": [
  {
   "cell_type": "code",
   "execution_count": 1,
   "metadata": {},
   "outputs": [],
   "source": [
    "from sys import path\n",
    "from pathlib import Path\n",
    "\n",
    "import pandas as pd\n",
    "import numpy as np\n",
    "pd.options.display.float_format = '{:,.2f}'.format\n",
    "\n",
    "# Se genera la ruta absoluta al directorio \"Comisiones\"\n",
    "path_package = str(Path.cwd().parent)\n",
    "\n",
    "# Se agrega la ruta al directorio sys.path\n",
    "path.append(path_package)\n",
    "\n",
    "\n",
    "from algoritmos.algoritmo_ventas_mes import ventas_mes_func\n",
    "from algoritmos.algoritmo_cobranza_mes import cobranza_mes_func\n",
    "\n",
    "from descriptions.descriptions import descrip_sales_users_df, descrip_product_df, descrip_partner_df"
   ]
  },
  {
   "cell_type": "code",
   "execution_count": null,
   "metadata": {},
   "outputs": [],
   "source": [
    "ventas_enero = ventas_mes_func(1)\n",
    "ventas_febrero = ventas_mes_func(2)\n",
    "ventas_marzo = ventas_mes_func(3)\n",
    "ventas_abril = ventas_mes_func(4)\n",
    "ventas_mayo = ventas_mes_func(5)\n",
    "\n",
    "ventas_año = pd.concat([ventas_enero, ventas_febrero, ventas_marzo, ventas_abril, ventas_mayo], ignore_index=True)\n",
    "\n",
    "cobranza_enero = cobranza_mes_func(1)\n",
    "cobranza_febrero = cobranza_mes_func(2)\n",
    "cobranza_marzo = cobranza_mes_func(3)\n",
    "cobranza_abril = cobranza_mes_func(4)\n",
    "cobranza_mayo = cobranza_mes_func(5)\n",
    "\n",
    "cobranza_año = pd.concat([cobranza_enero, cobranza_febrero, cobranza_marzo, cobranza_abril, cobranza_mayo], ignore_index=True)"
   ]
  },
  {
   "cell_type": "code",
   "execution_count": null,
   "metadata": {},
   "outputs": [
    {
     "data": {
      "text/html": [
       "<div>\n",
       "<style scoped>\n",
       "    .dataframe tbody tr th:only-of-type {\n",
       "        vertical-align: middle;\n",
       "    }\n",
       "\n",
       "    .dataframe tbody tr th {\n",
       "        vertical-align: top;\n",
       "    }\n",
       "\n",
       "    .dataframe thead th {\n",
       "        text-align: right;\n",
       "    }\n",
       "</style>\n",
       "<table border=\"1\" class=\"dataframe\">\n",
       "  <thead>\n",
       "    <tr style=\"text-align: right;\">\n",
       "      <th></th>\n",
       "      <th>fact_doc_id</th>\n",
       "      <th>invoice_date</th>\n",
       "      <th>state</th>\n",
       "      <th>invoice_origin</th>\n",
       "      <th>module_origin</th>\n",
       "      <th>pos_doc_id</th>\n",
       "      <th>move_type</th>\n",
       "      <th>reversal_move_id</th>\n",
       "      <th>reversed_entry_id</th>\n",
       "      <th>journal_id</th>\n",
       "      <th>...</th>\n",
       "      <th>product_id</th>\n",
       "      <th>quantity</th>\n",
       "      <th>price_unit</th>\n",
       "      <th>discount</th>\n",
       "      <th>price_subtotal</th>\n",
       "      <th>pos_line_id</th>\n",
       "      <th>refund_orderline_ids</th>\n",
       "      <th>refunded_orderline_id</th>\n",
       "      <th>sale_line_id</th>\n",
       "      <th>salesman_id</th>\n",
       "    </tr>\n",
       "    <tr>\n",
       "      <th>name</th>\n",
       "      <th></th>\n",
       "      <th></th>\n",
       "      <th></th>\n",
       "      <th></th>\n",
       "      <th></th>\n",
       "      <th></th>\n",
       "      <th></th>\n",
       "      <th></th>\n",
       "      <th></th>\n",
       "      <th></th>\n",
       "      <th></th>\n",
       "      <th></th>\n",
       "      <th></th>\n",
       "      <th></th>\n",
       "      <th></th>\n",
       "      <th></th>\n",
       "      <th></th>\n",
       "      <th></th>\n",
       "      <th></th>\n",
       "      <th></th>\n",
       "      <th></th>\n",
       "    </tr>\n",
       "  </thead>\n",
       "  <tbody>\n",
       "  </tbody>\n",
       "</table>\n",
       "<p>0 rows × 26 columns</p>\n",
       "</div>"
      ],
      "text/plain": [
       "Empty DataFrame\n",
       "Columns: [fact_doc_id, invoice_date, state, invoice_origin, module_origin, pos_doc_id, move_type, reversal_move_id, reversed_entry_id, journal_id, company_id, partner_id, fact_line_id, invoice_user_id, team_id, create_date, product_id, quantity, price_unit, discount, price_subtotal, pos_line_id, refund_orderline_ids, refunded_orderline_id, sale_line_id, salesman_id]\n",
       "Index: []\n",
       "\n",
       "[0 rows x 26 columns]"
      ]
     },
     "execution_count": 4,
     "metadata": {},
     "output_type": "execute_result"
    }
   ],
   "source": [
    "ventas_año.loc[ventas_año['fact_line_id'] == 33437]\n",
    "ventas_año.loc[ventas_año['fact_doc_id'] == 8234]"
   ]
  },
  {
   "cell_type": "code",
   "execution_count": null,
   "metadata": {},
   "outputs": [
    {
     "data": {
      "text/html": [
       "<div>\n",
       "<style scoped>\n",
       "    .dataframe tbody tr th:only-of-type {\n",
       "        vertical-align: middle;\n",
       "    }\n",
       "\n",
       "    .dataframe tbody tr th {\n",
       "        vertical-align: top;\n",
       "    }\n",
       "\n",
       "    .dataframe thead th {\n",
       "        text-align: right;\n",
       "    }\n",
       "</style>\n",
       "<table border=\"1\" class=\"dataframe\">\n",
       "  <thead>\n",
       "    <tr style=\"text-align: right;\">\n",
       "      <th></th>\n",
       "      <th>fact_doc_id</th>\n",
       "      <th>invoice_date</th>\n",
       "      <th>state</th>\n",
       "      <th>invoice_origin</th>\n",
       "      <th>module_origin</th>\n",
       "      <th>pos_doc_id</th>\n",
       "      <th>move_type</th>\n",
       "      <th>reversal_move_id</th>\n",
       "      <th>reversed_entry_id</th>\n",
       "      <th>journal_id</th>\n",
       "      <th>...</th>\n",
       "      <th>product_id</th>\n",
       "      <th>quantity</th>\n",
       "      <th>price_unit</th>\n",
       "      <th>discount</th>\n",
       "      <th>price_subtotal</th>\n",
       "      <th>pos_line_id</th>\n",
       "      <th>refund_orderline_ids</th>\n",
       "      <th>refunded_orderline_id</th>\n",
       "      <th>sale_line_id</th>\n",
       "      <th>salesman_id</th>\n",
       "    </tr>\n",
       "    <tr>\n",
       "      <th>name</th>\n",
       "      <th></th>\n",
       "      <th></th>\n",
       "      <th></th>\n",
       "      <th></th>\n",
       "      <th></th>\n",
       "      <th></th>\n",
       "      <th></th>\n",
       "      <th></th>\n",
       "      <th></th>\n",
       "      <th></th>\n",
       "      <th></th>\n",
       "      <th></th>\n",
       "      <th></th>\n",
       "      <th></th>\n",
       "      <th></th>\n",
       "      <th></th>\n",
       "      <th></th>\n",
       "      <th></th>\n",
       "      <th></th>\n",
       "      <th></th>\n",
       "      <th></th>\n",
       "    </tr>\n",
       "  </thead>\n",
       "  <tbody>\n",
       "  </tbody>\n",
       "</table>\n",
       "<p>0 rows × 26 columns</p>\n",
       "</div>"
      ],
      "text/plain": [
       "Empty DataFrame\n",
       "Columns: [fact_doc_id, invoice_date, state, invoice_origin, module_origin, pos_doc_id, move_type, reversal_move_id, reversed_entry_id, journal_id, company_id, partner_id, fact_line_id, invoice_user_id, team_id, create_date, product_id, quantity, price_unit, discount, price_subtotal, pos_line_id, refund_orderline_ids, refunded_orderline_id, sale_line_id, salesman_id]\n",
       "Index: []\n",
       "\n",
       "[0 rows x 26 columns]"
      ]
     },
     "execution_count": 5,
     "metadata": {},
     "output_type": "execute_result"
    }
   ],
   "source": [
    "\n",
    "ventas_año.loc[ventas_año['pos_doc_id'] == 1949]\n",
    "ventas_año.loc[ventas_año['pos_doc_id'] == 2099]"
   ]
  },
  {
   "cell_type": "code",
   "execution_count": null,
   "metadata": {},
   "outputs": [],
   "source": [
    "# Fue en marzo, una orden del PdV que nunca se facturó. Checar que cada PdV tenga factura\n",
    "ventas_año.loc[ventas_año['pos_doc_id'] == 9876]"
   ]
  },
  {
   "cell_type": "markdown",
   "metadata": {},
   "source": [
    "Anticipos"
   ]
  },
  {
   "cell_type": "code",
   "execution_count": null,
   "metadata": {},
   "outputs": [],
   "source": [
    "# En febrero\n",
    "ventas_año.loc[ventas_año['pos_doc_id'] == 4019]\n",
    "# En marzo\n",
    "ventas_año.loc[ventas_año['pos_doc_id'] == 6833]"
   ]
  },
  {
   "cell_type": "markdown",
   "metadata": {},
   "source": [
    "En enero Sandra no existía, por lo tanto ocupo conciderar cuando una vendedora no está y manejar los 'Empty'"
   ]
  },
  {
   "cell_type": "markdown",
   "metadata": {},
   "source": [
    "Preparar algoritmo de factura cancelada, ov cancelada (como el de NC)"
   ]
  },
  {
   "cell_type": "markdown",
   "metadata": {},
   "source": [
    "Todas las OV que entras a PdV tienen que estar facturadas"
   ]
  },
  {
   "cell_type": "markdown",
   "metadata": {},
   "source": [
    "Facturas canceladas que dices \"publicado\""
   ]
  },
  {
   "cell_type": "markdown",
   "metadata": {},
   "source": [
    "PdV que tiene devolución, hacen un nuevo PdV y no están cancelando la factura del PdV original. Hacen el reembolso del PdV original y en PdV sí queda, pero la factura en contabilidad se les olvida cancelar (PdV CSL/4826 REEMBOLSO)"
   ]
  },
  {
   "cell_type": "markdown",
   "metadata": {},
   "source": [
    "PdV reembolso no son con el mismo método de pago. El original dice efectivo (ejemplo), el reembolso dice crédito, el algoritmo no los puede empatar.\n",
    "\n",
    "Qué pasa cuando es reembolso parcial?\n",
    "Es mejor devolver con crédito cliente o con el mismo método? (F1-CC/2024/06291)"
   ]
  }
 ],
 "metadata": {
  "kernelspec": {
   "display_name": "env_comisiones-Odoo",
   "language": "python",
   "name": "python3"
  },
  "language_info": {
   "codemirror_mode": {
    "name": "ipython",
    "version": 3
   },
   "file_extension": ".py",
   "mimetype": "text/x-python",
   "name": "python",
   "nbconvert_exporter": "python",
   "pygments_lexer": "ipython3",
   "version": "3.11.5"
  }
 },
 "nbformat": 4,
 "nbformat_minor": 2
}
