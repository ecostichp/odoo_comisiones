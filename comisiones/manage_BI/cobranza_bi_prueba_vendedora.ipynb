{
 "cells": [
  {
   "cell_type": "code",
   "execution_count": 1,
   "metadata": {},
   "outputs": [],
   "source": [
    "from sys import path\n",
    "from pathlib import Path\n",
    "\n",
    "import pandas as pd\n",
    "import numpy as np\n",
    "pd.options.display.float_format = '{:,.2f}'.format\n",
    "\n",
    "# Se genera la ruta absoluta al directorio \"Comisiones\"\n",
    "path_package = str(Path.cwd().parent)\n",
    "\n",
    "# Se agrega la ruta al directorio sys.path\n",
    "path.append(path_package)\n",
    "\n",
    "\n",
    "from algoritmos.algoritmo_cobranza_mes import cobranza_mes_func\n",
    "\n",
    "from descriptions.descriptions import descrip_sales_users_df, descrip_product_df, descrip_partner_df"
   ]
  },
  {
   "cell_type": "code",
   "execution_count": 2,
   "metadata": {},
   "outputs": [],
   "source": [
    "cobranza_enero = cobranza_mes_func(1)\n",
    "cobranza_febrero = cobranza_mes_func(2)\n",
    "cobranza_marzo = cobranza_mes_func(3)\n",
    "cobranza_abril = cobranza_mes_func(4)\n",
    "cobranza_mayo = cobranza_mes_func(5)\n",
    "\n",
    "cobranza_año = pd.concat([cobranza_enero, cobranza_febrero, cobranza_marzo, cobranza_abril, cobranza_mayo], ignore_index=True)"
   ]
  },
  {
   "cell_type": "code",
   "execution_count": 3,
   "metadata": {},
   "outputs": [],
   "source": [
    "from sqlalchemy import create_engine\n",
    "from pathlib import Path\n",
    "\n",
    "import pandas as pd\n",
    "import numpy as np\n",
    "\n",
    "pd.options.display.float_format = '{:,.2f}'.format\n",
    "\n",
    "db_file = 'comisiones.db'\n",
    "db_file_path_str = str(Path().cwd().parent.parent.joinpath(f'data/{db_file}'))\n",
    "\n",
    "engine = create_engine(f'sqlite:///{db_file_path_str}')"
   ]
  },
  {
   "cell_type": "code",
   "execution_count": 27,
   "metadata": {},
   "outputs": [],
   "source": [
    "with engine.connect() as conn, conn.begin():  \n",
    "    ventas_año = pd.read_sql_table('ventas_año', conn, dtype_backend='numpy_nullable')\n",
    "\n",
    "engine.dispose()"
   ]
  },
  {
   "cell_type": "code",
   "execution_count": 45,
   "metadata": {},
   "outputs": [],
   "source": [
    "wep = (cobranza_año.merge(\n",
    "              ventas_año[['fact_doc_id', 'salesperson_id', 'salesperson_name', 'active',\n",
    "              'sale_team_id', 'sale_team_description', 'business_model', 'warehouse']], how='left', on='fact_doc_id')).merge(\n",
    "                     descrip_partner_df, how='left', left_on= 'fact_doc_cliente', right_on= 'partner_id'\n",
    "                     )[[\n",
    "                     'fact_doc_id', 'fact_doc_name', 'fact_doc_cliente', 'partner_name', 'fact_doc_date', 'fact_doc_total', \n",
    "                     'fact_doc_deuda', 'pay_journal', 'ref', 'pay_amount', 'pay_date', 'pay_pos', 'salesperson_id', 'salesperson_name', \n",
    "                     'active', 'sale_team_id', 'sale_team_description', 'business_model', 'warehouse']]\n",
    "\n",
    "wep.columns = ['fact_doc_id', 'fact_doc_name', 'fact_doc_cliente_id', 'fact_doc_cliente_name',\n",
    "       'fact_doc_date', 'fact_doc_total', 'fact_doc_deuda', 'pay_journal',\n",
    "       'ref', 'pay_amount', 'pay_date', 'pay_pos', 'salesperson_id',\n",
    "       'salesperson_name', 'active', 'sale_team_id', 'sale_team_description',\n",
    "       'business_model', 'warehouse']"
   ]
  }
 ],
 "metadata": {
  "kernelspec": {
   "display_name": "env_algoritmo-comisiones-Odoo",
   "language": "python",
   "name": "python3"
  },
  "language_info": {
   "codemirror_mode": {
    "name": "ipython",
    "version": 3
   },
   "file_extension": ".py",
   "mimetype": "text/x-python",
   "name": "python",
   "nbconvert_exporter": "python",
   "pygments_lexer": "ipython3",
   "version": "3.11.5"
  }
 },
 "nbformat": 4,
 "nbformat_minor": 2
}
