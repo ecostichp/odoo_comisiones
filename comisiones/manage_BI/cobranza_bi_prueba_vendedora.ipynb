{
 "cells": [
  {
   "cell_type": "code",
   "execution_count": null,
   "metadata": {},
   "outputs": [],
   "source": [
    "from sqlalchemy import create_engine\n",
    "from pathlib import Path\n",
    "import pandas as pd\n",
    "\n",
    "pd.options.display.float_format = '{:,.2f}'.format\n",
    "\n",
    "\n",
    "db_file = 'comisiones.db'\n",
    "db_file_path_str = str(Path().cwd().parent.parent.joinpath(f'data/{db_file}'))\n",
    "\n",
    "engine = create_engine(f'sqlite:///{db_file_path_str}')"
   ]
  },
  {
   "cell_type": "code",
   "execution_count": null,
   "metadata": {},
   "outputs": [],
   "source": [
    "with engine.connect() as conn, conn.begin():  \n",
    "    cobranza_enero = pd.read_sql_table('cobranza_enero', conn, dtype_backend='numpy_nullable')\n",
    "    cobranza_febrero = pd.read_sql_table('cobranza_febrero', conn, dtype_backend='numpy_nullable')\n",
    "    cobranza_marzo = pd.read_sql_table('cobranza_marzo', conn, dtype_backend='numpy_nullable')\n",
    "    cobranza_abril = pd.read_sql_table('cobranza_abril', conn, dtype_backend='numpy_nullable')\n",
    "    cobranza_mayo = pd.read_sql_table('cobranza_mayo', conn, dtype_backend='numpy_nullable')\n",
    "    cobranza_año = pd.read_sql_table('cobranza_año', conn, dtype_backend='numpy_nullable')\n",
    "\n",
    "engine.dispose()"
   ]
  },
  {
   "cell_type": "code",
   "execution_count": null,
   "metadata": {},
   "outputs": [],
   "source": [
    "cobranza_año"
   ]
  }
 ],
 "metadata": {
  "kernelspec": {
   "display_name": "env_algoritmo-comisiones-Odoo",
   "language": "python",
   "name": "python3"
  },
  "language_info": {
   "codemirror_mode": {
    "name": "ipython",
    "version": 3
   },
   "file_extension": ".py",
   "mimetype": "text/x-python",
   "name": "python",
   "nbconvert_exporter": "python",
   "pygments_lexer": "ipython3",
   "version": "3.11.5"
  }
 },
 "nbformat": 4,
 "nbformat_minor": 2
}
