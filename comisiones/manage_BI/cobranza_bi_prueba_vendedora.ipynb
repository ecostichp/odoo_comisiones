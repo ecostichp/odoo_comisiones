{
 "cells": [
  {
   "cell_type": "code",
   "execution_count": 1,
   "metadata": {},
   "outputs": [],
   "source": [
    "from sys import path\n",
    "from pathlib import Path\n",
    "\n",
    "import pandas as pd\n",
    "import numpy as np\n",
    "pd.options.display.float_format = '{:,.2f}'.format\n",
    "\n",
    "# Se genera la ruta absoluta al directorio \"Comisiones\"\n",
    "path_package = str(Path.cwd().parent)\n",
    "\n",
    "# Se agrega la ruta al directorio sys.path\n",
    "path.append(path_package)\n",
    "\n",
    "\n",
    "from algoritmos.algoritmo_cobranza_mes import cobranza_mes_func\n",
    "\n",
    "from descriptions.descriptions import descrip_sales_users_df, descrip_product_df, descrip_partner_df"
   ]
  },
  {
   "cell_type": "code",
   "execution_count": null,
   "metadata": {},
   "outputs": [],
   "source": [
    "cobranza_enero = cobranza_mes_func(1)\n",
    "cobranza_febrero = cobranza_mes_func(2)\n",
    "cobranza_marzo = cobranza_mes_func(3)\n",
    "cobranza_abril = cobranza_mes_func(4)\n",
    "cobranza_mayo = cobranza_mes_func(5)\n",
    "\n",
    "cobranza_año = pd.concat([cobranza_enero, cobranza_febrero, cobranza_marzo, cobranza_abril, cobranza_mayo], ignore_index=True)"
   ]
  },
  {
   "cell_type": "code",
   "execution_count": null,
   "metadata": {},
   "outputs": [],
   "source": [
    "cobranza_año['Mes'] = cobranza_año['pay_date'].dt.month\n",
    "cob_group_mes = cobranza_año[['Mes', 'pay_amount']].groupby('Mes').sum().reset_index()"
   ]
  }
 ],
 "metadata": {
  "kernelspec": {
   "display_name": "env_algoritmo-comisiones-Odoo",
   "language": "python",
   "name": "python3"
  },
  "language_info": {
   "codemirror_mode": {
    "name": "ipython",
    "version": 3
   },
   "file_extension": ".py",
   "mimetype": "text/x-python",
   "name": "python",
   "nbconvert_exporter": "python",
   "pygments_lexer": "ipython3",
   "version": "3.11.5"
  }
 },
 "nbformat": 4,
 "nbformat_minor": 2
}
