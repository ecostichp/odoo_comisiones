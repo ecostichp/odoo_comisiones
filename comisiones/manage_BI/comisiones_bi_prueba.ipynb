{
 "cells": [
  {
   "cell_type": "code",
   "execution_count": null,
   "metadata": {},
   "outputs": [],
   "source": [
    "from sqlalchemy import create_engine\n",
    "from pathlib import Path\n",
    "\n",
    "import pandas as pd\n",
    "pd.options.display.float_format = '{:,.2f}'.format\n",
    "\n",
    "project_name = Path.cwd().parent.parent.name\n",
    "data_projetc_path = Path.home().joinpath(f'Dropbox/La Casa Del Carpintero/Departamento de Programación/data_projects_git/data_{project_name}')\n",
    "db_file = 'comisiones.db'\n",
    "db_file_path_str = str(data_projetc_path.joinpath(db_file))\n",
    "\n",
    "engine = create_engine(f'sqlite:///{db_file_path_str}')"
   ]
  },
  {
   "cell_type": "code",
   "execution_count": null,
   "metadata": {},
   "outputs": [],
   "source": [
    "with engine.connect() as conn, conn.begin():  \n",
    "    comisiones_2024 = pd.read_sql_table('comisiones_2024', conn, dtype_backend='numpy_nullable')\n",
    "\n",
    "engine.dispose()\n"
   ]
  },
  {
   "cell_type": "markdown",
   "metadata": {},
   "source": [
    "## Algo de <span style=\"color: steelblue\">BI</span>"
   ]
  },
  {
   "cell_type": "code",
   "execution_count": null,
   "metadata": {},
   "outputs": [],
   "source": [
    "a = comisiones_2024.agg({\n",
    "    'comision_$':['sum'],\n",
    "    'bono_venta_$':['sum']\n",
    "})\n",
    "\n",
    "a"
   ]
  },
  {
   "cell_type": "code",
   "execution_count": null,
   "metadata": {},
   "outputs": [],
   "source": [
    "b = comisiones_2024[\n",
    "            comisiones_2024['salesperson_id'].isin([206, 208, 209])\n",
    "        ].agg({'facturacion':['sum']})\n",
    "b"
   ]
  },
  {
   "cell_type": "code",
   "execution_count": null,
   "metadata": {},
   "outputs": [],
   "source": [
    "print('Porcentaje de comisión de la venta para vendedoras')\n",
    "(a.values[0][0] + a.values[0][1]) / b.values[0][0] * 100"
   ]
  },
  {
   "cell_type": "code",
   "execution_count": null,
   "metadata": {},
   "outputs": [],
   "source": [
    "comisiones_2024[\n",
    "        ['business_model', 'comision_$', 'bono_venta_$']\n",
    "    ].groupby('business_model').sum()"
   ]
  },
  {
   "cell_type": "code",
   "execution_count": null,
   "metadata": {},
   "outputs": [],
   "source": [
    "comisiones_2024.loc[\n",
    "        comisiones_2024['salesperson_id'] == 211\n",
    "    ]"
   ]
  }
 ],
 "metadata": {
  "kernelspec": {
   "display_name": "env_algoritmo-comisiones-Odoo",
   "language": "python",
   "name": "python3"
  },
  "language_info": {
   "codemirror_mode": {
    "name": "ipython",
    "version": 3
   },
   "file_extension": ".py",
   "mimetype": "text/x-python",
   "name": "python",
   "nbconvert_exporter": "python",
   "pygments_lexer": "ipython3",
   "version": "3.11.5"
  }
 },
 "nbformat": 4,
 "nbformat_minor": 2
}
