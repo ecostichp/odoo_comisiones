{
 "cells": [
  {
   "cell_type": "code",
   "execution_count": null,
   "metadata": {},
   "outputs": [],
   "source": [
    "from pathlib import Path\n",
    "from sqlalchemy import create_engine\n",
    "\n",
    "import pandas as pd\n",
    "pd.options.display.float_format = '{:,.2f}'.format\n",
    "\n",
    "project_name = Path.cwd().parent.parent.name\n",
    "data_projetc_path = Path.home().joinpath(f'Dropbox/La Casa Del Carpintero/Departamento de Programación/data_projects_git/data_{project_name}')\n",
    "db_file = 'comisiones.db'\n",
    "db_file_path_str = str(data_projetc_path.joinpath(db_file))\n",
    "\n",
    "engine = create_engine(f'sqlite:///{db_file_path_str}')"
   ]
  },
  {
   "cell_type": "code",
   "execution_count": null,
   "metadata": {},
   "outputs": [],
   "source": [
    "with engine.connect() as conn, conn.begin():  \n",
    "    ventas_enero = pd.read_sql_table('ventas_1_2024', conn, dtype_backend='numpy_nullable')\n",
    "    ventas_febrero = pd.read_sql_table('ventas_2_2024', conn, dtype_backend='numpy_nullable')\n",
    "    ventas_marzo = pd.read_sql_table('ventas_3_2024', conn, dtype_backend='numpy_nullable')\n",
    "    ventas_abril = pd.read_sql_table('ventas_4_2024', conn, dtype_backend='numpy_nullable')\n",
    "    ventas_mayo = pd.read_sql_table('ventas_5_2024', conn, dtype_backend='numpy_nullable')\n",
    "    ventas_junio = pd.read_sql_table('ventas_6_2024', conn, dtype_backend='numpy_nullable')\n",
    "    ventas_julio = pd.read_sql_table('ventas_7_2024', conn, dtype_backend='numpy_nullable')\n",
    "    ventas_año = pd.read_sql_table('ventas_año_2024', conn, dtype_backend='numpy_nullable')\n",
    "\n",
    "engine.dispose()"
   ]
  },
  {
   "cell_type": "code",
   "execution_count": null,
   "metadata": {},
   "outputs": [],
   "source": [
    "df = ventas_julio\n",
    "mes = 7"
   ]
  },
  {
   "cell_type": "markdown",
   "metadata": {},
   "source": [
    "## Algo de <span style=\"color: steelblue\">BI</span>"
   ]
  },
  {
   "cell_type": "code",
   "execution_count": null,
   "metadata": {},
   "outputs": [],
   "source": [
    "compras_linea = df.groupby(['prod_linea', 'prod_codigo']).agg({'quantity':['count', 'sum', 'max', 'min', 'mean'], 'product_name':['first']})\n",
    "# compras_linea"
   ]
  },
  {
   "cell_type": "code",
   "execution_count": null,
   "metadata": {},
   "outputs": [],
   "source": [
    "compras_linea_sale_team = df.groupby(['prod_linea', 'sale_team_description', 'prod_codigo']).agg({'quantity':['count', 'sum', 'max', 'min', 'mean'], 'product_name':['first']})\n",
    "# compras_linea_sale_team"
   ]
  },
  {
   "cell_type": "code",
   "execution_count": null,
   "metadata": {},
   "outputs": [],
   "source": [
    "compras_linea_vendedora = df.groupby(['prod_linea', 'name', 'prod_codigo']).agg({'quantity':['count', 'sum', 'max', 'min', 'mean'], 'product_name':['first']})\n",
    "# compras_linea_vendedora"
   ]
  },
  {
   "cell_type": "code",
   "execution_count": null,
   "metadata": {},
   "outputs": [],
   "source": [
    "compras_almacen = df.groupby(['warehouse', 'prod_linea', 'prod_codigo']).agg({'quantity':['count', 'sum', 'max', 'min', 'mean'], 'product_name':['first']})\n",
    "# compras_almacen"
   ]
  },
  {
   "cell_type": "code",
   "execution_count": null,
   "metadata": {},
   "outputs": [],
   "source": [
    "compras_modelo_negocios = df.groupby(['business_model', 'prod_linea', 'prod_codigo']).agg({'quantity':['count', 'sum', 'max', 'min', 'mean'], 'product_name':['first']})\n",
    "# compras_modelo_negocios"
   ]
  },
  {
   "cell_type": "code",
   "execution_count": null,
   "metadata": {},
   "outputs": [],
   "source": [
    "compras_folio_ventas = df.groupby(['sale_team_description', 'prod_linea', 'prod_codigo']).agg({'quantity':['count', 'sum', 'max', 'min', 'mean'], 'product_name':['first']})\n",
    "# compras_folio_ventas"
   ]
  },
  {
   "cell_type": "code",
   "execution_count": null,
   "metadata": {},
   "outputs": [],
   "source": [
    "compras_vendedora = df.groupby(['name', 'prod_linea', 'prod_codigo']).agg({'quantity':['count', 'sum', 'max', 'min', 'mean'], 'product_name':['first']})\n",
    "# compras_vendedora"
   ]
  },
  {
   "cell_type": "code",
   "execution_count": null,
   "metadata": {},
   "outputs": [],
   "source": [
    "compras_sayer = df.loc[df['prod_linea'].isin(['00SAY', '0SAYC', '0SAYG', '0SAYL'])]\n",
    "compras_sayer_vendedora = compras_sayer.groupby(['name', 'prod_linea', 'prod_codigo']).agg({'quantity':['count', 'sum', 'max', 'min', 'mean'], 'product_name':['first']})\n",
    "# compras_sayer_vendedora"
   ]
  },
  {
   "cell_type": "code",
   "execution_count": null,
   "metadata": {},
   "outputs": [],
   "source": [
    "match mes:\n",
    "    case 1:\n",
    "        nombre_mes = 'Enero'\n",
    "    case 2:\n",
    "        nombre_mes = 'Febrero'\n",
    "    case 3:\n",
    "        nombre_mes = 'Marzo'\n",
    "    case 4:\n",
    "        nombre_mes = 'Abril'\n",
    "    case 5:\n",
    "        nombre_mes = 'Mayo'\n",
    "    case 6:\n",
    "        nombre_mes = 'Junio'\n",
    "    case 7:\n",
    "        nombre_mes = 'Julio'\n",
    "    case 8:\n",
    "        nombre_mes = 'Agosto'\n",
    "    case 9:\n",
    "        nombre_mes = 'Septiembre'\n",
    "    case 10:\n",
    "        nombre_mes = 'Octubre'\n",
    "    case 11:\n",
    "        nombre_mes = 'Noviembre'\n",
    "    case 12:\n",
    "        nombre_mes = 'Diciembre'\n",
    "    "
   ]
  },
  {
   "cell_type": "code",
   "execution_count": null,
   "metadata": {},
   "outputs": [],
   "source": [
    "desktop_path = Path.home().joinpath('desktop')\n",
    "archivo_path = desktop_path.joinpath(nombre_mes + '.xlsx')\n",
    "\n",
    "writer = pd.ExcelWriter(archivo_path, engine=\"openpyxl\")\n",
    "\n",
    "df.to_excel(writer, sheet_name='Total')\n",
    "compras_linea.to_excel(writer, sheet_name='linea')\n",
    "compras_linea_sale_team.to_excel(writer, sheet_name='linea_folio')\n",
    "compras_linea_vendedora.to_excel(writer, sheet_name='linea_vendedora')\n",
    "compras_almacen.to_excel(writer, sheet_name='almacen')\n",
    "compras_modelo_negocios.to_excel(writer, sheet_name='modelo_negocios')\n",
    "compras_folio_ventas.to_excel(writer, sheet_name='folio')\n",
    "compras_vendedora.to_excel(writer, sheet_name='vendedora')\n",
    "\n",
    "writer.close()\n",
    "writer.handles = None\n",
    "\n",
    "print('Se generó el archivo excel con éxito')"
   ]
  }
 ],
 "metadata": {
  "kernelspec": {
   "display_name": "env_algoritmo-comisiones-Odoo",
   "language": "python",
   "name": "python3"
  },
  "language_info": {
   "codemirror_mode": {
    "name": "ipython",
    "version": 3
   },
   "file_extension": ".py",
   "mimetype": "text/x-python",
   "name": "python",
   "nbconvert_exporter": "python",
   "pygments_lexer": "ipython3",
   "version": "3.11.5"
  }
 },
 "nbformat": 4,
 "nbformat_minor": 2
}
