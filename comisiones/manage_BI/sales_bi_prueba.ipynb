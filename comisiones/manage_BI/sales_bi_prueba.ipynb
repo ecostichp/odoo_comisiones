{
 "cells": [
  {
   "cell_type": "code",
   "execution_count": 1,
   "metadata": {},
   "outputs": [],
   "source": [
    "from sys import path\n",
    "from pathlib import Path\n",
    "\n",
    "import pandas as pd\n",
    "import numpy as np\n",
    "pd.options.display.float_format = '{:,.2f}'.format\n",
    "\n",
    "# Se genera la ruta absoluta al directorio \"Comisiones\"\n",
    "path_package = Path.cwd().parent.__str__()\n",
    "\n",
    "# Se agrega la ruta al directorio sys.path\n",
    "path.append(path_package)\n",
    "\n",
    "\n",
    "from algoritmos.algoritmo_ventas_mes import ventas_mes_func\n",
    "from algoritmos.algoritmo_cobranza_mes import cobranza_mes_func\n",
    "\n",
    "from descriptions.descriptions import descrip_sales_users_df, descrip_product_df, descrip_partner_df"
   ]
  },
  {
   "cell_type": "code",
   "execution_count": 3,
   "metadata": {},
   "outputs": [],
   "source": [
    "ventas_enero = ventas_mes_func(1)\n",
    "ventas_febrero = ventas_mes_func(2)\n",
    "ventas_marzo = ventas_mes_func(3)\n",
    "ventas_abril = ventas_mes_func(4)\n",
    "ventas_mayo = ventas_mes_func(5)\n",
    "\n",
    "ventas_año = pd.concat([ventas_enero, ventas_febrero, ventas_marzo, ventas_abril, ventas_mayo], ignore_index=True)"
   ]
  },
  {
   "cell_type": "code",
   "execution_count": 4,
   "metadata": {},
   "outputs": [
    {
     "data": {
      "text/plain": [
       "Index(['fact_doc_id', 'name', 'invoice_date', 'state', 'invoice_origin',\n",
       "       'module_origin', 'pos_doc_id', 'move_type', 'reversal_move_id',\n",
       "       'reversed_entry_id', 'journal_id', 'company_id', 'partner_id',\n",
       "       'invoice_user_id', 'fact_line_id', 'product_id', 'quantity',\n",
       "       'price_unit', 'discount', 'price_subtotal', 'salesperson_id'],\n",
       "      dtype='object')"
      ]
     },
     "execution_count": 4,
     "metadata": {},
     "output_type": "execute_result"
    }
   ],
   "source": [
    "ventas_enero.columns"
   ]
  },
  {
   "cell_type": "code",
   "execution_count": 5,
   "metadata": {},
   "outputs": [],
   "source": [
    "cols = ['fact_doc_id', 'name_x', 'quantity', 'price_subtotal', 'salesperson_id',\n",
    "       'name_y', 'sale_team_description',\n",
    "       'business_model', 'warehouse']\n",
    "\n",
    "ventas = (ventas_enero.merge(descrip_sales_users_df, how='left', left_on='salesperson_id', right_on='id'))[cols]"
   ]
  },
  {
   "cell_type": "code",
   "execution_count": 6,
   "metadata": {},
   "outputs": [
    {
     "data": {
      "text/html": [
       "<div>\n",
       "<style scoped>\n",
       "    .dataframe tbody tr th:only-of-type {\n",
       "        vertical-align: middle;\n",
       "    }\n",
       "\n",
       "    .dataframe tbody tr th {\n",
       "        vertical-align: top;\n",
       "    }\n",
       "\n",
       "    .dataframe thead th {\n",
       "        text-align: right;\n",
       "    }\n",
       "</style>\n",
       "<table border=\"1\" class=\"dataframe\">\n",
       "  <thead>\n",
       "    <tr style=\"text-align: right;\">\n",
       "      <th></th>\n",
       "      <th>quantity</th>\n",
       "      <th>price_subtotal</th>\n",
       "    </tr>\n",
       "    <tr>\n",
       "      <th>name_y</th>\n",
       "      <th></th>\n",
       "      <th></th>\n",
       "    </tr>\n",
       "  </thead>\n",
       "  <tbody>\n",
       "    <tr>\n",
       "      <th>Angela Carrillo Cárdenas</th>\n",
       "      <td>3,716.00</td>\n",
       "      <td>98,911.07</td>\n",
       "    </tr>\n",
       "    <tr>\n",
       "      <th>Brenda Luz Acosta Lopez</th>\n",
       "      <td>20,036.00</td>\n",
       "      <td>816,593.98</td>\n",
       "    </tr>\n",
       "    <tr>\n",
       "      <th>Gladiz Melisa Galvez Espinoza</th>\n",
       "      <td>9,943.78</td>\n",
       "      <td>214,343.07</td>\n",
       "    </tr>\n",
       "    <tr>\n",
       "      <th>Irma Carvajal Flores</th>\n",
       "      <td>27,399.00</td>\n",
       "      <td>1,162,969.62</td>\n",
       "    </tr>\n",
       "    <tr>\n",
       "      <th>Karla Jaqueline Rivera Hernández</th>\n",
       "      <td>32,087.70</td>\n",
       "      <td>662,497.42</td>\n",
       "    </tr>\n",
       "    <tr>\n",
       "      <th>Leticia Terán Salinas</th>\n",
       "      <td>10,201.31</td>\n",
       "      <td>180,748.29</td>\n",
       "    </tr>\n",
       "    <tr>\n",
       "      <th>Mariana Araceli Carvajal Flores</th>\n",
       "      <td>44.00</td>\n",
       "      <td>1,996.99</td>\n",
       "    </tr>\n",
       "    <tr>\n",
       "      <th>Mayra Angelica Parada Manjarrez</th>\n",
       "      <td>13,275.17</td>\n",
       "      <td>1,442,589.41</td>\n",
       "    </tr>\n",
       "    <tr>\n",
       "      <th>Nadia Santos Nava</th>\n",
       "      <td>8,715.00</td>\n",
       "      <td>324,790.45</td>\n",
       "    </tr>\n",
       "    <tr>\n",
       "      <th>Patricia Flores Pantaleón</th>\n",
       "      <td>11,714.85</td>\n",
       "      <td>192,397.13</td>\n",
       "    </tr>\n",
       "    <tr>\n",
       "      <th>Reyna Arriaga Flores</th>\n",
       "      <td>13,638.30</td>\n",
       "      <td>274,687.44</td>\n",
       "    </tr>\n",
       "    <tr>\n",
       "      <th>Viviana Montaño Inzunza</th>\n",
       "      <td>8,871.15</td>\n",
       "      <td>129,913.12</td>\n",
       "    </tr>\n",
       "    <tr>\n",
       "      <th>Yamilet Blanco Salas</th>\n",
       "      <td>3,032.00</td>\n",
       "      <td>315,472.17</td>\n",
       "    </tr>\n",
       "    <tr>\n",
       "      <th>Yanin Becerril Barriga</th>\n",
       "      <td>1,373.95</td>\n",
       "      <td>32,645.95</td>\n",
       "    </tr>\n",
       "    <tr>\n",
       "      <th>Yolanda Alejandra Rodriguez González</th>\n",
       "      <td>10,110.55</td>\n",
       "      <td>239,725.17</td>\n",
       "    </tr>\n",
       "  </tbody>\n",
       "</table>\n",
       "</div>"
      ],
      "text/plain": [
       "                                      quantity  price_subtotal\n",
       "name_y                                                        \n",
       "Angela Carrillo Cárdenas              3,716.00       98,911.07\n",
       "Brenda Luz Acosta Lopez              20,036.00      816,593.98\n",
       "Gladiz Melisa Galvez Espinoza         9,943.78      214,343.07\n",
       "Irma Carvajal Flores                 27,399.00    1,162,969.62\n",
       "Karla Jaqueline Rivera Hernández     32,087.70      662,497.42\n",
       "Leticia Terán Salinas                10,201.31      180,748.29\n",
       "Mariana Araceli Carvajal Flores          44.00        1,996.99\n",
       "Mayra Angelica Parada Manjarrez      13,275.17    1,442,589.41\n",
       "Nadia Santos Nava                     8,715.00      324,790.45\n",
       "Patricia Flores Pantaleón            11,714.85      192,397.13\n",
       "Reyna Arriaga Flores                 13,638.30      274,687.44\n",
       "Viviana Montaño Inzunza               8,871.15      129,913.12\n",
       "Yamilet Blanco Salas                  3,032.00      315,472.17\n",
       "Yanin Becerril Barriga                1,373.95       32,645.95\n",
       "Yolanda Alejandra Rodriguez González 10,110.55      239,725.17"
      ]
     },
     "execution_count": 6,
     "metadata": {},
     "output_type": "execute_result"
    }
   ],
   "source": [
    "ventas.groupby('name_y', dropna=False).sum()[['quantity', 'price_subtotal']]"
   ]
  },
  {
   "cell_type": "code",
   "execution_count": 7,
   "metadata": {},
   "outputs": [
    {
     "data": {
      "text/html": [
       "<div>\n",
       "<style scoped>\n",
       "    .dataframe tbody tr th:only-of-type {\n",
       "        vertical-align: middle;\n",
       "    }\n",
       "\n",
       "    .dataframe tbody tr th {\n",
       "        vertical-align: top;\n",
       "    }\n",
       "\n",
       "    .dataframe thead th {\n",
       "        text-align: right;\n",
       "    }\n",
       "</style>\n",
       "<table border=\"1\" class=\"dataframe\">\n",
       "  <thead>\n",
       "    <tr style=\"text-align: right;\">\n",
       "      <th></th>\n",
       "      <th>price_subtotal</th>\n",
       "    </tr>\n",
       "    <tr>\n",
       "      <th>name_x</th>\n",
       "      <th></th>\n",
       "    </tr>\n",
       "  </thead>\n",
       "  <tbody>\n",
       "    <tr>\n",
       "      <th>F1-CC/2024/00345</th>\n",
       "      <td>1,409.56</td>\n",
       "    </tr>\n",
       "    <tr>\n",
       "      <th>F1-CC/2024/00986</th>\n",
       "      <td>2,529.36</td>\n",
       "    </tr>\n",
       "    <tr>\n",
       "      <th>F1-CC/2024/01112</th>\n",
       "      <td>2,583.15</td>\n",
       "    </tr>\n",
       "    <tr>\n",
       "      <th>F1-VS/2024/00014</th>\n",
       "      <td>5,796.00</td>\n",
       "    </tr>\n",
       "    <tr>\n",
       "      <th>F1-VS/2024/00015</th>\n",
       "      <td>23,651.20</td>\n",
       "    </tr>\n",
       "    <tr>\n",
       "      <th>...</th>\n",
       "      <td>...</td>\n",
       "    </tr>\n",
       "    <tr>\n",
       "      <th>F1-VS/2024/00361</th>\n",
       "      <td>5,177.10</td>\n",
       "    </tr>\n",
       "    <tr>\n",
       "      <th>F1-VS/2024/00362</th>\n",
       "      <td>256.44</td>\n",
       "    </tr>\n",
       "    <tr>\n",
       "      <th>F2-VS/2024/00039</th>\n",
       "      <td>1,892.50</td>\n",
       "    </tr>\n",
       "    <tr>\n",
       "      <th>F2-VS/2024/00054</th>\n",
       "      <td>400.34</td>\n",
       "    </tr>\n",
       "    <tr>\n",
       "      <th>F2-VS/2024/00061</th>\n",
       "      <td>4,990.00</td>\n",
       "    </tr>\n",
       "  </tbody>\n",
       "</table>\n",
       "<p>147 rows × 1 columns</p>\n",
       "</div>"
      ],
      "text/plain": [
       "                  price_subtotal\n",
       "name_x                          \n",
       "F1-CC/2024/00345        1,409.56\n",
       "F1-CC/2024/00986        2,529.36\n",
       "F1-CC/2024/01112        2,583.15\n",
       "F1-VS/2024/00014        5,796.00\n",
       "F1-VS/2024/00015       23,651.20\n",
       "...                          ...\n",
       "F1-VS/2024/00361        5,177.10\n",
       "F1-VS/2024/00362          256.44\n",
       "F2-VS/2024/00039        1,892.50\n",
       "F2-VS/2024/00054          400.34\n",
       "F2-VS/2024/00061        4,990.00\n",
       "\n",
       "[147 rows x 1 columns]"
      ]
     },
     "execution_count": 7,
     "metadata": {},
     "output_type": "execute_result"
    }
   ],
   "source": [
    "facturas_mes_vendedora = ventas.loc[ventas['name_y'] == 'Mayra Angelica Parada Manjarrez', ['name_x', 'price_subtotal']].groupby(by='name_x').sum()\n",
    "facturas_mes_vendedora"
   ]
  },
  {
   "cell_type": "code",
   "execution_count": 8,
   "metadata": {},
   "outputs": [],
   "source": [
    "# facturas_mes_vendedora.to_excel('Facturas_mes_vendedora.xlsx')"
   ]
  },
  {
   "cell_type": "markdown",
   "metadata": {},
   "source": [
    "## Algo de <span style=\"color: steelblue\">BI</span>"
   ]
  },
  {
   "cell_type": "code",
   "execution_count": 9,
   "metadata": {},
   "outputs": [
    {
     "data": {
      "text/html": [
       "<div>\n",
       "<style scoped>\n",
       "    .dataframe tbody tr th:only-of-type {\n",
       "        vertical-align: middle;\n",
       "    }\n",
       "\n",
       "    .dataframe tbody tr th {\n",
       "        vertical-align: top;\n",
       "    }\n",
       "\n",
       "    .dataframe thead th {\n",
       "        text-align: right;\n",
       "    }\n",
       "</style>\n",
       "<table border=\"1\" class=\"dataframe\">\n",
       "  <thead>\n",
       "    <tr style=\"text-align: right;\">\n",
       "      <th></th>\n",
       "      <th>quantity</th>\n",
       "      <th>price_subtotal</th>\n",
       "    </tr>\n",
       "    <tr>\n",
       "      <th>business_model</th>\n",
       "      <th></th>\n",
       "      <th></th>\n",
       "    </tr>\n",
       "  </thead>\n",
       "  <tbody>\n",
       "    <tr>\n",
       "      <th>CE</th>\n",
       "      <td>63,742.17</td>\n",
       "      <td>3,737,625.18</td>\n",
       "    </tr>\n",
       "    <tr>\n",
       "      <th>Piso</th>\n",
       "      <td>110,416.59</td>\n",
       "      <td>2,352,656.10</td>\n",
       "    </tr>\n",
       "  </tbody>\n",
       "</table>\n",
       "</div>"
      ],
      "text/plain": [
       "                 quantity  price_subtotal\n",
       "business_model                           \n",
       "CE              63,742.17    3,737,625.18\n",
       "Piso           110,416.59    2,352,656.10"
      ]
     },
     "execution_count": 9,
     "metadata": {},
     "output_type": "execute_result"
    }
   ],
   "source": [
    "ventas.groupby('business_model', dropna=False).sum()[['quantity', 'price_subtotal']]"
   ]
  },
  {
   "cell_type": "code",
   "execution_count": 10,
   "metadata": {},
   "outputs": [
    {
     "data": {
      "text/html": [
       "<div>\n",
       "<style scoped>\n",
       "    .dataframe tbody tr th:only-of-type {\n",
       "        vertical-align: middle;\n",
       "    }\n",
       "\n",
       "    .dataframe tbody tr th {\n",
       "        vertical-align: top;\n",
       "    }\n",
       "\n",
       "    .dataframe thead th {\n",
       "        text-align: right;\n",
       "    }\n",
       "</style>\n",
       "<table border=\"1\" class=\"dataframe\">\n",
       "  <thead>\n",
       "    <tr style=\"text-align: right;\">\n",
       "      <th></th>\n",
       "      <th>quantity</th>\n",
       "      <th>price_subtotal</th>\n",
       "    </tr>\n",
       "    <tr>\n",
       "      <th>sale_team_description</th>\n",
       "      <th></th>\n",
       "      <th></th>\n",
       "    </tr>\n",
       "  </thead>\n",
       "  <tbody>\n",
       "    <tr>\n",
       "      <th>A1 CSL</th>\n",
       "      <td>44,072.49</td>\n",
       "      <td>834,334.86</td>\n",
       "    </tr>\n",
       "    <tr>\n",
       "      <th>A2 SJC</th>\n",
       "      <td>66,344.10</td>\n",
       "      <td>1,518,321.24</td>\n",
       "    </tr>\n",
       "    <tr>\n",
       "      <th>CE A1</th>\n",
       "      <td>40,674.17</td>\n",
       "      <td>2,605,559.03</td>\n",
       "    </tr>\n",
       "    <tr>\n",
       "      <th>CE A2</th>\n",
       "      <td>23,068.00</td>\n",
       "      <td>1,132,066.15</td>\n",
       "    </tr>\n",
       "  </tbody>\n",
       "</table>\n",
       "</div>"
      ],
      "text/plain": [
       "                       quantity  price_subtotal\n",
       "sale_team_description                          \n",
       "A1 CSL                44,072.49      834,334.86\n",
       "A2 SJC                66,344.10    1,518,321.24\n",
       "CE A1                 40,674.17    2,605,559.03\n",
       "CE A2                 23,068.00    1,132,066.15"
      ]
     },
     "execution_count": 10,
     "metadata": {},
     "output_type": "execute_result"
    }
   ],
   "source": [
    "ventas.groupby('sale_team_description', dropna=False).sum()[['quantity', 'price_subtotal']]"
   ]
  },
  {
   "cell_type": "code",
   "execution_count": 11,
   "metadata": {},
   "outputs": [
    {
     "data": {
      "text/html": [
       "<div>\n",
       "<style scoped>\n",
       "    .dataframe tbody tr th:only-of-type {\n",
       "        vertical-align: middle;\n",
       "    }\n",
       "\n",
       "    .dataframe tbody tr th {\n",
       "        vertical-align: top;\n",
       "    }\n",
       "\n",
       "    .dataframe thead th {\n",
       "        text-align: right;\n",
       "    }\n",
       "</style>\n",
       "<table border=\"1\" class=\"dataframe\">\n",
       "  <thead>\n",
       "    <tr style=\"text-align: right;\">\n",
       "      <th></th>\n",
       "      <th>quantity</th>\n",
       "      <th>price_subtotal</th>\n",
       "    </tr>\n",
       "    <tr>\n",
       "      <th>warehouse</th>\n",
       "      <th></th>\n",
       "      <th></th>\n",
       "    </tr>\n",
       "  </thead>\n",
       "  <tbody>\n",
       "    <tr>\n",
       "      <th>A1</th>\n",
       "      <td>84,746.66</td>\n",
       "      <td>3,439,893.89</td>\n",
       "    </tr>\n",
       "    <tr>\n",
       "      <th>A2</th>\n",
       "      <td>89,412.10</td>\n",
       "      <td>2,650,387.39</td>\n",
       "    </tr>\n",
       "  </tbody>\n",
       "</table>\n",
       "</div>"
      ],
      "text/plain": [
       "           quantity  price_subtotal\n",
       "warehouse                          \n",
       "A1        84,746.66    3,439,893.89\n",
       "A2        89,412.10    2,650,387.39"
      ]
     },
     "execution_count": 11,
     "metadata": {},
     "output_type": "execute_result"
    }
   ],
   "source": [
    "ventas.groupby('warehouse', dropna=False).sum()[['quantity', 'price_subtotal']]"
   ]
  },
  {
   "cell_type": "code",
   "execution_count": 12,
   "metadata": {},
   "outputs": [],
   "source": [
    "total_enero = pd.DataFrame(ventas_enero['price_subtotal'].sum(), columns=['Total de Venta'], index=[0])\n",
    "total_febrero = pd.DataFrame(ventas_febrero['price_subtotal'].sum(), columns=['Total de Venta'], index=[0])\n",
    "total_marzo = pd.DataFrame(ventas_marzo['price_subtotal'].sum(), columns=['Total de Venta'], index=[0])\n",
    "total_abril = pd.DataFrame(ventas_abril['price_subtotal'].sum(), columns=['Total de Venta'], index=[0])"
   ]
  },
  {
   "cell_type": "code",
   "execution_count": 13,
   "metadata": {},
   "outputs": [
    {
     "name": "stdout",
     "output_type": "stream",
     "text": [
      "Enero    Total de Venta\n",
      "0    6,090,281.28\n",
      "Febrero    Total de Venta\n",
      "0    5,829,759.26\n",
      "Marzo    Total de Venta\n",
      "0    7,048,084.64\n",
      "Abril    Total de Venta\n",
      "0    2,039,436.83\n",
      "Total    Total de Venta\n",
      "0   21,007,562.01\n"
     ]
    }
   ],
   "source": [
    "print('Enero', total_enero)\n",
    "print('Febrero', total_febrero)\n",
    "print('Marzo', total_marzo)\n",
    "print('Abril', total_abril)\n",
    "\n",
    "print('Total', total_enero + total_febrero + total_marzo + total_abril)"
   ]
  },
  {
   "cell_type": "code",
   "execution_count": 14,
   "metadata": {},
   "outputs": [
    {
     "data": {
      "text/html": [
       "<div>\n",
       "<style scoped>\n",
       "    .dataframe tbody tr th:only-of-type {\n",
       "        vertical-align: middle;\n",
       "    }\n",
       "\n",
       "    .dataframe tbody tr th {\n",
       "        vertical-align: top;\n",
       "    }\n",
       "\n",
       "    .dataframe thead th {\n",
       "        text-align: right;\n",
       "    }\n",
       "</style>\n",
       "<table border=\"1\" class=\"dataframe\">\n",
       "  <thead>\n",
       "    <tr style=\"text-align: right;\">\n",
       "      <th></th>\n",
       "      <th>fact_doc_id</th>\n",
       "      <th>name_x</th>\n",
       "      <th>quantity</th>\n",
       "      <th>price_subtotal</th>\n",
       "      <th>salesperson_id</th>\n",
       "      <th>name_y</th>\n",
       "      <th>sale_team_description</th>\n",
       "      <th>business_model</th>\n",
       "      <th>warehouse</th>\n",
       "    </tr>\n",
       "  </thead>\n",
       "  <tbody>\n",
       "  </tbody>\n",
       "</table>\n",
       "</div>"
      ],
      "text/plain": [
       "Empty DataFrame\n",
       "Columns: [fact_doc_id, name_x, quantity, price_subtotal, salesperson_id, name_y, sale_team_description, business_model, warehouse]\n",
       "Index: []"
      ]
     },
     "execution_count": 14,
     "metadata": {},
     "output_type": "execute_result"
    }
   ],
   "source": [
    "ventas.loc[ventas['sale_team_description'].isna()]"
   ]
  }
 ],
 "metadata": {
  "kernelspec": {
   "display_name": "env_algoritmo-comisiones-Odoo",
   "language": "python",
   "name": "python3"
  },
  "language_info": {
   "codemirror_mode": {
    "name": "ipython",
    "version": 3
   },
   "file_extension": ".py",
   "mimetype": "text/x-python",
   "name": "python",
   "nbconvert_exporter": "python",
   "pygments_lexer": "ipython3",
   "version": "3.11.5"
  }
 },
 "nbformat": 4,
 "nbformat_minor": 2
}
