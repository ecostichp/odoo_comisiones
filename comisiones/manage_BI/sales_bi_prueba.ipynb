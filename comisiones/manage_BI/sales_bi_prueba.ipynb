{
 "cells": [
  {
   "cell_type": "code",
   "execution_count": 4,
   "metadata": {},
   "outputs": [],
   "source": [
    "from sqlalchemy import create_engine\n",
    "from pathlib import Path\n",
    "\n",
    "import pandas as pd\n",
    "import numpy as np\n",
    "\n",
    "pd.options.display.float_format = '{:,.2f}'.format\n",
    "\n",
    "db_file = 'comisiones.db'\n",
    "db_file_path_str = str(Path().cwd().parent.parent.joinpath(f'data/{db_file}'))\n",
    "\n",
    "engine = create_engine(f'sqlite:///{db_file_path_str}')"
   ]
  },
  {
   "cell_type": "code",
   "execution_count": 5,
   "metadata": {},
   "outputs": [],
   "source": [
    "with engine.connect() as conn, conn.begin():  \n",
    "    ventas_enero = pd.read_sql_table('ventas_enero', conn)\n",
    "    ventas_febrero = pd.read_sql_table('ventas_febrero', conn)\n",
    "    ventas_marzo = pd.read_sql_table('ventas_marzo', conn)\n",
    "    ventas_abril = pd.read_sql_table('ventas_abril', conn)\n",
    "    ventas_mayo = pd.read_sql_table('ventas_mayo', conn)\n",
    "    ventas_año = pd.read_sql_table('ventas_año', conn)\n",
    "\n",
    "engine.dispose()"
   ]
  },
  {
   "cell_type": "code",
   "execution_count": 8,
   "metadata": {},
   "outputs": [],
   "source": [
    "ventas = ventas_enero"
   ]
  },
  {
   "cell_type": "code",
   "execution_count": 13,
   "metadata": {},
   "outputs": [
    {
     "data": {
      "text/html": [
       "<div>\n",
       "<style scoped>\n",
       "    .dataframe tbody tr th:only-of-type {\n",
       "        vertical-align: middle;\n",
       "    }\n",
       "\n",
       "    .dataframe tbody tr th {\n",
       "        vertical-align: top;\n",
       "    }\n",
       "\n",
       "    .dataframe thead th {\n",
       "        text-align: right;\n",
       "    }\n",
       "</style>\n",
       "<table border=\"1\" class=\"dataframe\">\n",
       "  <thead>\n",
       "    <tr style=\"text-align: right;\">\n",
       "      <th></th>\n",
       "      <th>quantity</th>\n",
       "      <th>price_subtotal</th>\n",
       "    </tr>\n",
       "    <tr>\n",
       "      <th>name</th>\n",
       "      <th></th>\n",
       "      <th></th>\n",
       "    </tr>\n",
       "  </thead>\n",
       "  <tbody>\n",
       "    <tr>\n",
       "      <th>F1-CC/2024/00001</th>\n",
       "      <td>20.00</td>\n",
       "      <td>129.40</td>\n",
       "    </tr>\n",
       "    <tr>\n",
       "      <th>F1-CC/2024/00002</th>\n",
       "      <td>7.00</td>\n",
       "      <td>390.02</td>\n",
       "    </tr>\n",
       "    <tr>\n",
       "      <th>F1-CC/2024/00003</th>\n",
       "      <td>40.00</td>\n",
       "      <td>299.00</td>\n",
       "    </tr>\n",
       "    <tr>\n",
       "      <th>F1-CC/2024/00004</th>\n",
       "      <td>12.00</td>\n",
       "      <td>126.44</td>\n",
       "    </tr>\n",
       "    <tr>\n",
       "      <th>F1-CC/2024/00008</th>\n",
       "      <td>5.00</td>\n",
       "      <td>573.85</td>\n",
       "    </tr>\n",
       "    <tr>\n",
       "      <th>...</th>\n",
       "      <td>...</td>\n",
       "      <td>...</td>\n",
       "    </tr>\n",
       "    <tr>\n",
       "      <th>RF1-CC/2024/00014</th>\n",
       "      <td>-4.00</td>\n",
       "      <td>-599.56</td>\n",
       "    </tr>\n",
       "    <tr>\n",
       "      <th>RF1-CC/2024/00015</th>\n",
       "      <td>-2.00</td>\n",
       "      <td>-114.34</td>\n",
       "    </tr>\n",
       "    <tr>\n",
       "      <th>RF2-CC/2024/00001</th>\n",
       "      <td>-12.00</td>\n",
       "      <td>-2,332.77</td>\n",
       "    </tr>\n",
       "    <tr>\n",
       "      <th>RF2-CC/2024/00002</th>\n",
       "      <td>-38.00</td>\n",
       "      <td>-972.92</td>\n",
       "    </tr>\n",
       "    <tr>\n",
       "      <th>RF2-CC/2024/00007</th>\n",
       "      <td>-7.00</td>\n",
       "      <td>-133.07</td>\n",
       "    </tr>\n",
       "  </tbody>\n",
       "</table>\n",
       "<p>4049 rows × 2 columns</p>\n",
       "</div>"
      ],
      "text/plain": [
       "                   quantity  price_subtotal\n",
       "name                                       \n",
       "F1-CC/2024/00001      20.00          129.40\n",
       "F1-CC/2024/00002       7.00          390.02\n",
       "F1-CC/2024/00003      40.00          299.00\n",
       "F1-CC/2024/00004      12.00          126.44\n",
       "F1-CC/2024/00008       5.00          573.85\n",
       "...                     ...             ...\n",
       "RF1-CC/2024/00014     -4.00         -599.56\n",
       "RF1-CC/2024/00015     -2.00         -114.34\n",
       "RF2-CC/2024/00001    -12.00       -2,332.77\n",
       "RF2-CC/2024/00002    -38.00         -972.92\n",
       "RF2-CC/2024/00007     -7.00         -133.07\n",
       "\n",
       "[4049 rows x 2 columns]"
      ]
     },
     "execution_count": 13,
     "metadata": {},
     "output_type": "execute_result"
    }
   ],
   "source": [
    "ventas[['name', 'quantity', 'price_subtotal']].groupby('name', dropna=False).sum()"
   ]
  },
  {
   "cell_type": "code",
   "execution_count": 16,
   "metadata": {},
   "outputs": [
    {
     "data": {
      "text/html": [
       "<div>\n",
       "<style scoped>\n",
       "    .dataframe tbody tr th:only-of-type {\n",
       "        vertical-align: middle;\n",
       "    }\n",
       "\n",
       "    .dataframe tbody tr th {\n",
       "        vertical-align: top;\n",
       "    }\n",
       "\n",
       "    .dataframe thead th {\n",
       "        text-align: right;\n",
       "    }\n",
       "</style>\n",
       "<table border=\"1\" class=\"dataframe\">\n",
       "  <thead>\n",
       "    <tr style=\"text-align: right;\">\n",
       "      <th></th>\n",
       "      <th>price_subtotal</th>\n",
       "    </tr>\n",
       "    <tr>\n",
       "      <th>salesperson_name</th>\n",
       "      <th></th>\n",
       "    </tr>\n",
       "  </thead>\n",
       "  <tbody>\n",
       "    <tr>\n",
       "      <th>Mayra Angelica Parada Manjarrez</th>\n",
       "      <td>1,442,589.41</td>\n",
       "    </tr>\n",
       "  </tbody>\n",
       "</table>\n",
       "</div>"
      ],
      "text/plain": [
       "                                 price_subtotal\n",
       "salesperson_name                               \n",
       "Mayra Angelica Parada Manjarrez    1,442,589.41"
      ]
     },
     "execution_count": 16,
     "metadata": {},
     "output_type": "execute_result"
    }
   ],
   "source": [
    "facturas_mes_vendedora = ventas.loc[ventas['salesperson_name'] == 'Mayra Angelica Parada Manjarrez', ['salesperson_name', 'price_subtotal']].groupby(by='salesperson_name').sum()\n",
    "facturas_mes_vendedora"
   ]
  },
  {
   "cell_type": "code",
   "execution_count": 8,
   "metadata": {},
   "outputs": [],
   "source": [
    "# facturas_mes_vendedora.to_excel('Facturas_mes_vendedora.xlsx')"
   ]
  },
  {
   "cell_type": "markdown",
   "metadata": {},
   "source": [
    "## Algo de <span style=\"color: steelblue\">BI</span>"
   ]
  },
  {
   "cell_type": "code",
   "execution_count": 18,
   "metadata": {},
   "outputs": [
    {
     "data": {
      "text/html": [
       "<div>\n",
       "<style scoped>\n",
       "    .dataframe tbody tr th:only-of-type {\n",
       "        vertical-align: middle;\n",
       "    }\n",
       "\n",
       "    .dataframe tbody tr th {\n",
       "        vertical-align: top;\n",
       "    }\n",
       "\n",
       "    .dataframe thead th {\n",
       "        text-align: right;\n",
       "    }\n",
       "</style>\n",
       "<table border=\"1\" class=\"dataframe\">\n",
       "  <thead>\n",
       "    <tr style=\"text-align: right;\">\n",
       "      <th></th>\n",
       "      <th>quantity</th>\n",
       "      <th>price_subtotal</th>\n",
       "    </tr>\n",
       "    <tr>\n",
       "      <th>business_model</th>\n",
       "      <th></th>\n",
       "      <th></th>\n",
       "    </tr>\n",
       "  </thead>\n",
       "  <tbody>\n",
       "    <tr>\n",
       "      <th>CE</th>\n",
       "      <td>63,375.17</td>\n",
       "      <td>3,699,932.44</td>\n",
       "    </tr>\n",
       "    <tr>\n",
       "      <th>Piso</th>\n",
       "      <td>100,171.49</td>\n",
       "      <td>2,190,097.03</td>\n",
       "    </tr>\n",
       "    <tr>\n",
       "      <th>NaN</th>\n",
       "      <td>10,245.10</td>\n",
       "      <td>162,559.07</td>\n",
       "    </tr>\n",
       "  </tbody>\n",
       "</table>\n",
       "</div>"
      ],
      "text/plain": [
       "                 quantity  price_subtotal\n",
       "business_model                           \n",
       "CE              63,375.17    3,699,932.44\n",
       "Piso           100,171.49    2,190,097.03\n",
       "NaN             10,245.10      162,559.07"
      ]
     },
     "execution_count": 18,
     "metadata": {},
     "output_type": "execute_result"
    }
   ],
   "source": [
    "ventas[['business_model', 'quantity', 'price_subtotal']].groupby('business_model', dropna=False).sum()"
   ]
  },
  {
   "cell_type": "code",
   "execution_count": 19,
   "metadata": {},
   "outputs": [
    {
     "data": {
      "text/html": [
       "<div>\n",
       "<style scoped>\n",
       "    .dataframe tbody tr th:only-of-type {\n",
       "        vertical-align: middle;\n",
       "    }\n",
       "\n",
       "    .dataframe tbody tr th {\n",
       "        vertical-align: top;\n",
       "    }\n",
       "\n",
       "    .dataframe thead th {\n",
       "        text-align: right;\n",
       "    }\n",
       "</style>\n",
       "<table border=\"1\" class=\"dataframe\">\n",
       "  <thead>\n",
       "    <tr style=\"text-align: right;\">\n",
       "      <th></th>\n",
       "      <th>quantity</th>\n",
       "      <th>price_subtotal</th>\n",
       "    </tr>\n",
       "    <tr>\n",
       "      <th>sale_team_description</th>\n",
       "      <th></th>\n",
       "      <th></th>\n",
       "    </tr>\n",
       "  </thead>\n",
       "  <tbody>\n",
       "    <tr>\n",
       "      <th>A1 CSL</th>\n",
       "      <td>33,827.39</td>\n",
       "      <td>671,775.79</td>\n",
       "    </tr>\n",
       "    <tr>\n",
       "      <th>A2 SJC</th>\n",
       "      <td>66,344.10</td>\n",
       "      <td>1,518,321.24</td>\n",
       "    </tr>\n",
       "    <tr>\n",
       "      <th>CE A1</th>\n",
       "      <td>40,673.17</td>\n",
       "      <td>2,597,777.03</td>\n",
       "    </tr>\n",
       "    <tr>\n",
       "      <th>CE A2</th>\n",
       "      <td>22,702.00</td>\n",
       "      <td>1,102,155.41</td>\n",
       "    </tr>\n",
       "    <tr>\n",
       "      <th>NaN</th>\n",
       "      <td>10,245.10</td>\n",
       "      <td>162,559.07</td>\n",
       "    </tr>\n",
       "  </tbody>\n",
       "</table>\n",
       "</div>"
      ],
      "text/plain": [
       "                       quantity  price_subtotal\n",
       "sale_team_description                          \n",
       "A1 CSL                33,827.39      671,775.79\n",
       "A2 SJC                66,344.10    1,518,321.24\n",
       "CE A1                 40,673.17    2,597,777.03\n",
       "CE A2                 22,702.00    1,102,155.41\n",
       "NaN                   10,245.10      162,559.07"
      ]
     },
     "execution_count": 19,
     "metadata": {},
     "output_type": "execute_result"
    }
   ],
   "source": [
    "ventas[['sale_team_description', 'quantity', 'price_subtotal']].groupby('sale_team_description', dropna=False).sum()"
   ]
  },
  {
   "cell_type": "code",
   "execution_count": 20,
   "metadata": {},
   "outputs": [
    {
     "data": {
      "text/html": [
       "<div>\n",
       "<style scoped>\n",
       "    .dataframe tbody tr th:only-of-type {\n",
       "        vertical-align: middle;\n",
       "    }\n",
       "\n",
       "    .dataframe tbody tr th {\n",
       "        vertical-align: top;\n",
       "    }\n",
       "\n",
       "    .dataframe thead th {\n",
       "        text-align: right;\n",
       "    }\n",
       "</style>\n",
       "<table border=\"1\" class=\"dataframe\">\n",
       "  <thead>\n",
       "    <tr style=\"text-align: right;\">\n",
       "      <th></th>\n",
       "      <th>quantity</th>\n",
       "      <th>price_subtotal</th>\n",
       "    </tr>\n",
       "    <tr>\n",
       "      <th>warehouse</th>\n",
       "      <th></th>\n",
       "      <th></th>\n",
       "    </tr>\n",
       "  </thead>\n",
       "  <tbody>\n",
       "    <tr>\n",
       "      <th>A1</th>\n",
       "      <td>74,500.56</td>\n",
       "      <td>3,269,552.82</td>\n",
       "    </tr>\n",
       "    <tr>\n",
       "      <th>A2</th>\n",
       "      <td>89,046.10</td>\n",
       "      <td>2,620,476.65</td>\n",
       "    </tr>\n",
       "    <tr>\n",
       "      <th>NaN</th>\n",
       "      <td>10,245.10</td>\n",
       "      <td>162,559.07</td>\n",
       "    </tr>\n",
       "  </tbody>\n",
       "</table>\n",
       "</div>"
      ],
      "text/plain": [
       "           quantity  price_subtotal\n",
       "warehouse                          \n",
       "A1        74,500.56    3,269,552.82\n",
       "A2        89,046.10    2,620,476.65\n",
       "NaN       10,245.10      162,559.07"
      ]
     },
     "execution_count": 20,
     "metadata": {},
     "output_type": "execute_result"
    }
   ],
   "source": [
    "ventas[['warehouse', 'quantity', 'price_subtotal']].groupby('warehouse', dropna=False).sum()"
   ]
  },
  {
   "cell_type": "code",
   "execution_count": 21,
   "metadata": {},
   "outputs": [],
   "source": [
    "total_enero = pd.DataFrame(ventas_enero['price_subtotal'].sum(), columns=['Total de Venta'], index=[0])\n",
    "total_febrero = pd.DataFrame(ventas_febrero['price_subtotal'].sum(), columns=['Total de Venta'], index=[0])\n",
    "total_marzo = pd.DataFrame(ventas_marzo['price_subtotal'].sum(), columns=['Total de Venta'], index=[0])\n",
    "total_abril = pd.DataFrame(ventas_abril['price_subtotal'].sum(), columns=['Total de Venta'], index=[0])"
   ]
  },
  {
   "cell_type": "code",
   "execution_count": 22,
   "metadata": {},
   "outputs": [
    {
     "name": "stdout",
     "output_type": "stream",
     "text": [
      "Enero    Total de Venta\n",
      "0    6,052,588.54\n",
      "Febrero    Total de Venta\n",
      "0    5,824,480.79\n",
      "Marzo    Total de Venta\n",
      "0    7,041,388.79\n",
      "Abril    Total de Venta\n",
      "0    6,732,557.43\n",
      "Total    Total de Venta\n",
      "0   25,651,015.55\n"
     ]
    }
   ],
   "source": [
    "print('Enero', total_enero)\n",
    "print('Febrero', total_febrero)\n",
    "print('Marzo', total_marzo)\n",
    "print('Abril', total_abril)\n",
    "\n",
    "print('Total', total_enero + total_febrero + total_marzo + total_abril)"
   ]
  },
  {
   "cell_type": "code",
   "execution_count": 27,
   "metadata": {},
   "outputs": [
    {
     "data": {
      "text/plain": [
       "array([219, 234], dtype=int64)"
      ]
     },
     "execution_count": 27,
     "metadata": {},
     "output_type": "execute_result"
    }
   ],
   "source": [
    "ventas.loc[ventas['sale_team_description'].isna(), 'salesperson_id'].unique()"
   ]
  }
 ],
 "metadata": {
  "kernelspec": {
   "display_name": "env_algoritmo-comisiones-Odoo",
   "language": "python",
   "name": "python3"
  },
  "language_info": {
   "codemirror_mode": {
    "name": "ipython",
    "version": 3
   },
   "file_extension": ".py",
   "mimetype": "text/x-python",
   "name": "python",
   "nbconvert_exporter": "python",
   "pygments_lexer": "ipython3",
   "version": "3.11.5"
  }
 },
 "nbformat": 4,
 "nbformat_minor": 2
}
