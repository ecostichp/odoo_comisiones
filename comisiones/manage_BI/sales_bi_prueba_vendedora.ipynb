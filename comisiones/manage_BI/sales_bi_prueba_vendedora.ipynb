{
 "cells": [
  {
   "cell_type": "code",
   "execution_count": 11,
   "metadata": {},
   "outputs": [],
   "source": [
    "from sys import path\n",
    "from pathlib import Path\n",
    "from sqlalchemy import create_engine\n",
    "\n",
    "import pandas as pd\n",
    "import numpy as np\n",
    "pd.options.display.float_format = '{:,.2f}'.format\n",
    "\n",
    "db_file = 'comisiones.db'\n",
    "db_file_path_str = str(Path().cwd().parent.parent.joinpath(f'data/{db_file}'))\n",
    "\n",
    "engine = create_engine(f'sqlite:///{db_file_path_str}')"
   ]
  },
  {
   "cell_type": "code",
   "execution_count": 13,
   "metadata": {},
   "outputs": [],
   "source": [
    "with engine.connect() as conn, conn.begin():  \n",
    "    ventas_enero = pd.read_sql_table('ventas_enero', conn, dtype_backend='numpy_nullable')\n",
    "    ventas_febrero = pd.read_sql_table('ventas_febrero', conn, dtype_backend='numpy_nullable')\n",
    "    ventas_marzo = pd.read_sql_table('ventas_marzo', conn, dtype_backend='numpy_nullable')\n",
    "    ventas_abril = pd.read_sql_table('ventas_abril', conn, dtype_backend='numpy_nullable')\n",
    "    ventas_mayo = pd.read_sql_table('ventas_mayo', conn, dtype_backend='numpy_nullable')\n",
    "    ventas_año = pd.read_sql_table('ventas_año', conn, dtype_backend='numpy_nullable')\n",
    "\n",
    "engine.dispose()"
   ]
  },
  {
   "cell_type": "code",
   "execution_count": 23,
   "metadata": {},
   "outputs": [
    {
     "data": {
      "text/html": [
       "<div>\n",
       "<style scoped>\n",
       "    .dataframe tbody tr th:only-of-type {\n",
       "        vertical-align: middle;\n",
       "    }\n",
       "\n",
       "    .dataframe tbody tr th {\n",
       "        vertical-align: top;\n",
       "    }\n",
       "\n",
       "    .dataframe thead th {\n",
       "        text-align: right;\n",
       "    }\n",
       "</style>\n",
       "<table border=\"1\" class=\"dataframe\">\n",
       "  <thead>\n",
       "    <tr style=\"text-align: right;\">\n",
       "      <th></th>\n",
       "      <th>fact_doc_id</th>\n",
       "      <th>name</th>\n",
       "      <th>invoice_date</th>\n",
       "      <th>state</th>\n",
       "      <th>invoice_origin</th>\n",
       "      <th>module_origin</th>\n",
       "      <th>pos_doc_id</th>\n",
       "      <th>move_type</th>\n",
       "      <th>reversal_move_id</th>\n",
       "      <th>reversed_entry_id</th>\n",
       "      <th>...</th>\n",
       "      <th>warehouse</th>\n",
       "      <th>fact_line_id</th>\n",
       "      <th>product_id</th>\n",
       "      <th>product_name</th>\n",
       "      <th>prod_código</th>\n",
       "      <th>prod_línea</th>\n",
       "      <th>quantity</th>\n",
       "      <th>price_unit</th>\n",
       "      <th>discount</th>\n",
       "      <th>price_subtotal</th>\n",
       "    </tr>\n",
       "  </thead>\n",
       "  <tbody>\n",
       "    <tr>\n",
       "      <th>11</th>\n",
       "      <td>130</td>\n",
       "      <td>F2-CC/2024/00002</td>\n",
       "      <td>2024-01-02</td>\n",
       "      <td>posted</td>\n",
       "      <td>PdV SJC/0010</td>\n",
       "      <td>PdV</td>\n",
       "      <td>23</td>\n",
       "      <td>out_invoice</td>\n",
       "      <td>&lt;NA&gt;</td>\n",
       "      <td>&lt;NA&gt;</td>\n",
       "      <td>...</td>\n",
       "      <td>A2</td>\n",
       "      <td>361</td>\n",
       "      <td>8764</td>\n",
       "      <td>Dis.Metal MK D-71685 (D-18409) 4.5\" *11465*</td>\n",
       "      <td>11465</td>\n",
       "      <td>0MAKA</td>\n",
       "      <td>9.00</td>\n",
       "      <td>21.13</td>\n",
       "      <td>0.00</td>\n",
       "      <td>190.17</td>\n",
       "    </tr>\n",
       "    <tr>\n",
       "      <th>26</th>\n",
       "      <td>158</td>\n",
       "      <td>F2-CC/2024/00008</td>\n",
       "      <td>2024-01-02</td>\n",
       "      <td>posted</td>\n",
       "      <td>PdV SJC/0018</td>\n",
       "      <td>PdV</td>\n",
       "      <td>37</td>\n",
       "      <td>out_invoice</td>\n",
       "      <td>&lt;NA&gt;</td>\n",
       "      <td>&lt;NA&gt;</td>\n",
       "      <td>...</td>\n",
       "      <td>A2</td>\n",
       "      <td>462</td>\n",
       "      <td>11462</td>\n",
       "      <td>Cincel Corte Frio 1x8\" #12160 Truper *121600*</td>\n",
       "      <td>121600</td>\n",
       "      <td>00TRU</td>\n",
       "      <td>1.00</td>\n",
       "      <td>124.82</td>\n",
       "      <td>0.00</td>\n",
       "      <td>124.82</td>\n",
       "    </tr>\n",
       "    <tr>\n",
       "      <th>27</th>\n",
       "      <td>160</td>\n",
       "      <td>F2-CC/2024/00009</td>\n",
       "      <td>2024-01-02</td>\n",
       "      <td>posted</td>\n",
       "      <td>PdV SJC/0019</td>\n",
       "      <td>PdV</td>\n",
       "      <td>38</td>\n",
       "      <td>out_invoice</td>\n",
       "      <td>&lt;NA&gt;</td>\n",
       "      <td>&lt;NA&gt;</td>\n",
       "      <td>...</td>\n",
       "      <td>A2</td>\n",
       "      <td>469</td>\n",
       "      <td>9113</td>\n",
       "      <td>Cepillo D/Alamb C/M Trup CEA-10 C #11540 *9585*</td>\n",
       "      <td>9585</td>\n",
       "      <td>00TRU</td>\n",
       "      <td>1.00</td>\n",
       "      <td>28.36</td>\n",
       "      <td>0.00</td>\n",
       "      <td>28.36</td>\n",
       "    </tr>\n",
       "    <tr>\n",
       "      <th>30</th>\n",
       "      <td>164</td>\n",
       "      <td>F2-CC/2024/00011</td>\n",
       "      <td>2024-01-02</td>\n",
       "      <td>posted</td>\n",
       "      <td>PdV SJC/0021</td>\n",
       "      <td>PdV</td>\n",
       "      <td>43</td>\n",
       "      <td>out_invoice</td>\n",
       "      <td>&lt;NA&gt;</td>\n",
       "      <td>&lt;NA&gt;</td>\n",
       "      <td>...</td>\n",
       "      <td>A2</td>\n",
       "      <td>482</td>\n",
       "      <td>9350</td>\n",
       "      <td>Cincho Volteck 35cm Negro #44329 (25pz) *13635*</td>\n",
       "      <td>13635</td>\n",
       "      <td>00TRU</td>\n",
       "      <td>10.00</td>\n",
       "      <td>34.04</td>\n",
       "      <td>0.00</td>\n",
       "      <td>340.40</td>\n",
       "    </tr>\n",
       "    <tr>\n",
       "      <th>31</th>\n",
       "      <td>164</td>\n",
       "      <td>F2-CC/2024/00011</td>\n",
       "      <td>2024-01-02</td>\n",
       "      <td>posted</td>\n",
       "      <td>PdV SJC/0021</td>\n",
       "      <td>PdV</td>\n",
       "      <td>43</td>\n",
       "      <td>out_invoice</td>\n",
       "      <td>&lt;NA&gt;</td>\n",
       "      <td>&lt;NA&gt;</td>\n",
       "      <td>...</td>\n",
       "      <td>A2</td>\n",
       "      <td>483</td>\n",
       "      <td>9077</td>\n",
       "      <td>Cincho Volteck 20cm Negro #44324 (50Pz) *18648*</td>\n",
       "      <td>18648</td>\n",
       "      <td>00TRU</td>\n",
       "      <td>10.00</td>\n",
       "      <td>27.74</td>\n",
       "      <td>0.00</td>\n",
       "      <td>277.40</td>\n",
       "    </tr>\n",
       "  </tbody>\n",
       "</table>\n",
       "<p>5 rows × 30 columns</p>\n",
       "</div>"
      ],
      "text/plain": [
       "    fact_doc_id              name invoice_date   state invoice_origin  \\\n",
       "11          130  F2-CC/2024/00002   2024-01-02  posted   PdV SJC/0010   \n",
       "26          158  F2-CC/2024/00008   2024-01-02  posted   PdV SJC/0018   \n",
       "27          160  F2-CC/2024/00009   2024-01-02  posted   PdV SJC/0019   \n",
       "30          164  F2-CC/2024/00011   2024-01-02  posted   PdV SJC/0021   \n",
       "31          164  F2-CC/2024/00011   2024-01-02  posted   PdV SJC/0021   \n",
       "\n",
       "   module_origin  pos_doc_id    move_type  reversal_move_id  \\\n",
       "11           PdV          23  out_invoice              <NA>   \n",
       "26           PdV          37  out_invoice              <NA>   \n",
       "27           PdV          38  out_invoice              <NA>   \n",
       "30           PdV          43  out_invoice              <NA>   \n",
       "31           PdV          43  out_invoice              <NA>   \n",
       "\n",
       "    reversed_entry_id  ...  warehouse  fact_line_id  product_id  \\\n",
       "11               <NA>  ...         A2           361        8764   \n",
       "26               <NA>  ...         A2           462       11462   \n",
       "27               <NA>  ...         A2           469        9113   \n",
       "30               <NA>  ...         A2           482        9350   \n",
       "31               <NA>  ...         A2           483        9077   \n",
       "\n",
       "                                       product_name  prod_código prod_línea  \\\n",
       "11      Dis.Metal MK D-71685 (D-18409) 4.5\" *11465*        11465      0MAKA   \n",
       "26    Cincel Corte Frio 1x8\" #12160 Truper *121600*       121600      00TRU   \n",
       "27  Cepillo D/Alamb C/M Trup CEA-10 C #11540 *9585*         9585      00TRU   \n",
       "30  Cincho Volteck 35cm Negro #44329 (25pz) *13635*        13635      00TRU   \n",
       "31  Cincho Volteck 20cm Negro #44324 (50Pz) *18648*        18648      00TRU   \n",
       "\n",
       "    quantity  price_unit discount price_subtotal  \n",
       "11      9.00       21.13     0.00         190.17  \n",
       "26      1.00      124.82     0.00         124.82  \n",
       "27      1.00       28.36     0.00          28.36  \n",
       "30     10.00       34.04     0.00         340.40  \n",
       "31     10.00       27.74     0.00         277.40  \n",
       "\n",
       "[5 rows x 30 columns]"
      ]
     },
     "execution_count": 23,
     "metadata": {},
     "output_type": "execute_result"
    }
   ],
   "source": [
    "ventas = ventas_enero\n",
    "vend_id = 227\n",
    "\n",
    "vend_nom = ventas[ventas['salesperson_id'] == vend_id].iloc[0,15]\n",
    "\n",
    "ventas[ventas['salesperson_id'] == vend_id].head()"
   ]
  },
  {
   "cell_type": "markdown",
   "metadata": {},
   "source": [
    "¿Cuál es la órden de venta dónde más vendió y cuánto?"
   ]
  },
  {
   "cell_type": "code",
   "execution_count": null,
   "metadata": {},
   "outputs": [],
   "source": [
    "wep = vendedora_df[['invoice_origin','price_subtotal']].groupby('invoice_origin').sum().sort_values(by=['price_subtotal'],ascending=False).iloc[0]\n",
    "\n",
    "f\"{vend_nom} vendió ${wep['price_subtotal']:,.2f} en la orden {wep.name}\""
   ]
  },
  {
   "cell_type": "markdown",
   "metadata": {},
   "source": [
    "Dame la orden de venta mas grande por vendedora"
   ]
  },
  {
   "cell_type": "code",
   "execution_count": null,
   "metadata": {},
   "outputs": [],
   "source": [
    "for id in descrip_sales_users_df['id']:\n",
    "    vend_id_for = id\n",
    "    vend_nom_for = descrip_sales_users_df.loc[descrip_sales_users_df['id'] == vend_id_for]['name'].iloc[0]\n",
    "\n",
    "    vendedora_df_for = ventas[ventas['salesperson_id'] == vend_id_for]\n",
    "    if not vendedora_df_for[['invoice_origin','price_subtotal']].groupby('invoice_origin').sum().sort_values(by=['price_subtotal'],ascending=False).empty:\n",
    "        wep = vendedora_df_for[['invoice_origin','price_subtotal']].groupby('invoice_origin').sum().sort_values(by=['price_subtotal'],ascending=False).iloc[0]\n",
    "        print(f\"{vend_nom_for} vendió ${wep['price_subtotal']:,.2f} en la orden {wep.name}\")"
   ]
  },
  {
   "cell_type": "markdown",
   "metadata": {},
   "source": [
    "¿Cuáles son los 5 artículos que más vende? Por Cantidad"
   ]
  },
  {
   "cell_type": "code",
   "execution_count": null,
   "metadata": {},
   "outputs": [],
   "source": [
    "wep = vendedora_df[['product_id','quantity']].groupby('product_id').sum().sort_values(by=['quantity'],ascending=False).iloc[0:5]\n",
    "print(f\"{vend_nom}\")"
   ]
  },
  {
   "cell_type": "markdown",
   "metadata": {},
   "source": [
    "¿Cuáles son los 5 artículos que más vende? Por precio"
   ]
  },
  {
   "cell_type": "code",
   "execution_count": null,
   "metadata": {},
   "outputs": [],
   "source": [
    "wep = vendedora_df[['product_id','price_subtotal']].groupby('product_id').sum().sort_values(by=['price_subtotal'],ascending=False).iloc[0:5]\n",
    "print(f\"{vend_nom}\")"
   ]
  },
  {
   "cell_type": "markdown",
   "metadata": {},
   "source": [
    "¿Cuáles son los mejores 3 clientes de la vendedora? 1ro por cantidad de productos vendidos, 2do por subtotal de venta y el último por cantidad de OV en el mes."
   ]
  },
  {
   "cell_type": "code",
   "execution_count": null,
   "metadata": {},
   "outputs": [],
   "source": [
    "wep = vendedora_df[['partner_id','quantity','price_subtotal']].groupby('partner_id').agg({'quantity':['sum',],'price_subtotal':['sum',]})\n",
    "\n",
    "cprod = wep[('quantity', 'sum')].sort_values(ascending=False)\n",
    "cprod_name = cprod.keys()[0]\n",
    "cprod_cant = cprod.loc[cprod_name]\n",
    "csub = wep[('price_subtotal', 'sum')].sort_values(ascending=False)\n",
    "csub_name = csub.keys()[0]\n",
    "csub_cant = csub.loc[csub_name]\n",
    "\n",
    "\n",
    "wep = vendedora_df[['partner_id','invoice_origin']].groupby(['partner_id', 'invoice_origin']).count().reset_index().groupby('partner_id').count()\n",
    "\n",
    "cov = wep['invoice_origin'].sort_values(ascending=False)\n",
    "cov_name = cov.keys()[0]\n",
    "cov_cant = cov.loc[cov_name]\n"
   ]
  },
  {
   "cell_type": "code",
   "execution_count": null,
   "metadata": {},
   "outputs": [],
   "source": [
    "print(f'La vendedora {vend_nom} tiene a sus 3 mejores clientes de la siguiente manera:')\n",
    "print(f'\\tEl cliente {cov_name} es el cliente que más órdenes de venta tiene, siendo un total de {cov_cant:,.2f} órdenes')\n",
    "print(f'\\tEl cliente {cprod_name} es el cliente que más cantidad de producto, siendo un total de {cprod_cant:,.2f} artículos vendidos')\n",
    "print(f'\\tEl cliente {csub_name} es el cliente que más facturó, siendo un total de ${csub_cant:,.2f} pesos en el mes de enero')"
   ]
  },
  {
   "cell_type": "markdown",
   "metadata": {},
   "source": [
    "Ahora resuelve de nuevo la pregunta anterir, sin tomar al cliente MOSTRADOR"
   ]
  },
  {
   "cell_type": "code",
   "execution_count": null,
   "metadata": {},
   "outputs": [],
   "source": [
    "wep = vendedora_df.loc[vendedora_df['partner_id'] != 16253, ['partner_id','quantity','price_subtotal']].groupby('partner_id').agg({'quantity':['sum',],'price_subtotal':['sum',]})\n",
    "\n",
    "cprod = wep[('quantity', 'sum')].sort_values(ascending=False)\n",
    "cprod_name = cprod.keys()[0]\n",
    "cprod_cant = cprod.loc[cprod_name]\n",
    "csub = wep[('price_subtotal', 'sum')].sort_values(ascending=False)\n",
    "csub_name = csub.keys()[0]\n",
    "csub_cant = csub.loc[csub_name]\n",
    "\n",
    "\n",
    "wep = vendedora_df.loc[vendedora_df['partner_id'] != 16253, ['partner_id','invoice_origin']].groupby(['partner_id', 'invoice_origin']).count().reset_index().groupby('partner_id').count()\n",
    "\n",
    "cov = wep['invoice_origin'].sort_values(ascending=False)\n",
    "cov_name = cov.keys()[0]\n",
    "cov_cant = cov.loc[cov_name]\n"
   ]
  },
  {
   "cell_type": "code",
   "execution_count": null,
   "metadata": {},
   "outputs": [],
   "source": [
    "print(f'La vendedora {vend_nom} tiene a sus 3 mejores clientes de la siguiente manera:')\n",
    "print(f'\\tEl cliente {cov_name} es el cliente que más órdenes de venta tiene, siendo un total de {cov_cant:,.2f} órdenes')\n",
    "print(f'\\tEl cliente {cprod_name} es el cliente que más cantidad de producto, siendo un total de {cprod_cant:,.2f} artículos vendidos')\n",
    "print(f'\\tEl cliente {csub_name} es el cliente que más facturó, siendo un total de ${csub_cant:,.2f} pesos en el mes de enero')"
   ]
  }
 ],
 "metadata": {
  "kernelspec": {
   "display_name": "env_algoritmo-comisiones-Odoo",
   "language": "python",
   "name": "python3"
  },
  "language_info": {
   "codemirror_mode": {
    "name": "ipython",
    "version": 3
   },
   "file_extension": ".py",
   "mimetype": "text/x-python",
   "name": "python",
   "nbconvert_exporter": "python",
   "pygments_lexer": "ipython3",
   "version": "3.11.5"
  }
 },
 "nbformat": 4,
 "nbformat_minor": 2
}
