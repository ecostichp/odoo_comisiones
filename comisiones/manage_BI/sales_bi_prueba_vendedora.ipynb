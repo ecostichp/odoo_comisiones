{
 "cells": [
  {
   "cell_type": "code",
   "execution_count": null,
   "metadata": {},
   "outputs": [],
   "source": [
    "from sys import path\n",
    "from pathlib import Path\n",
    "from sqlalchemy import create_engine\n",
    "\n",
    "import pandas as pd\n",
    "import numpy as np\n",
    "pd.options.display.float_format = '{:,.2f}'.format\n",
    "\n",
    "db_file = 'comisiones.db'\n",
    "db_file_path_str = str(Path().cwd().parent.parent.joinpath(f'data/{db_file}'))\n",
    "\n",
    "engine = create_engine(f'sqlite:///{db_file_path_str}')"
   ]
  },
  {
   "cell_type": "code",
   "execution_count": null,
   "metadata": {},
   "outputs": [],
   "source": [
    "with engine.connect() as conn, conn.begin():  \n",
    "    ventas_enero = pd.read_sql_table('ventas_enero', conn, dtype_backend='numpy_nullable')\n",
    "    ventas_febrero = pd.read_sql_table('ventas_febrero', conn, dtype_backend='numpy_nullable')\n",
    "    ventas_marzo = pd.read_sql_table('ventas_marzo', conn, dtype_backend='numpy_nullable')\n",
    "    ventas_abril = pd.read_sql_table('ventas_abril', conn, dtype_backend='numpy_nullable')\n",
    "    ventas_mayo = pd.read_sql_table('ventas_mayo', conn, dtype_backend='numpy_nullable')\n",
    "    ventas_junio = pd.read_sql_table('ventas_junio', conn, dtype_backend='numpy_nullable')\n",
    "    # ventas_julio = pd.read_sql_table('ventas_julio', conn, dtype_backend='numpy_nullable')\n",
    "    ventas_año = pd.read_sql_table('ventas_año', conn, dtype_backend='numpy_nullable')\n",
    "\n",
    "engine.dispose()"
   ]
  },
  {
   "cell_type": "code",
   "execution_count": null,
   "metadata": {},
   "outputs": [],
   "source": [
    "ventas = ventas_enero\n",
    "vend_id = 227\n",
    "vend_nom = ventas[ventas['salesperson_id'] == vend_id].iloc[0,15]\n",
    "\n",
    "print(f'Escogiste a la vendedora \"{vend_nom}\" para el siguiente estudio de ventas')"
   ]
  },
  {
   "cell_type": "markdown",
   "metadata": {},
   "source": [
    "Genera una tabla con todas las facturas vendidas en el mes de la vendedora"
   ]
  },
  {
   "cell_type": "code",
   "execution_count": null,
   "metadata": {},
   "outputs": [],
   "source": [
    "# ventas[ventas['salesperson_id'] == vend_id].to_excel(f'Facturas {vend_nom}.xlsx')\n",
    "ventas[ventas['salesperson_id'] == vend_id].head()"
   ]
  },
  {
   "cell_type": "markdown",
   "metadata": {},
   "source": [
    "¿Cuál es el total vendido en el mes?"
   ]
  },
  {
   "cell_type": "code",
   "execution_count": null,
   "metadata": {},
   "outputs": [],
   "source": [
    "ventas.loc[ventas['salesperson_id'] == vend_id, ['salesperson_name', 'price_subtotal']].groupby(by='salesperson_name').sum()"
   ]
  },
  {
   "cell_type": "markdown",
   "metadata": {},
   "source": [
    "¿Cuál es la órden de venta dónde más vendió y cuánto?"
   ]
  },
  {
   "cell_type": "code",
   "execution_count": null,
   "metadata": {},
   "outputs": [],
   "source": [
    "wep = ventas[['invoice_origin','price_subtotal']].groupby('invoice_origin').sum().sort_values(by=['price_subtotal'],ascending=False).iloc[0]\n",
    "\n",
    "f\"{vend_nom} vendió ${wep['price_subtotal']:,.2f} en la orden {wep.name}\""
   ]
  },
  {
   "cell_type": "markdown",
   "metadata": {},
   "source": [
    "¿Cuáles son los 5 artículos que más vende? Por Cantidad"
   ]
  },
  {
   "cell_type": "code",
   "execution_count": null,
   "metadata": {},
   "outputs": [],
   "source": [
    "wep = ventas[['prod_código','product_name', 'quantity']].groupby('prod_código').sum().sort_values(by=['quantity'],ascending=False).iloc[0:5]\n",
    "print(f\"{vend_nom}\")\n",
    "wep"
   ]
  },
  {
   "cell_type": "markdown",
   "metadata": {},
   "source": [
    "¿Cuáles son los 5 artículos que más vende? Por precio"
   ]
  },
  {
   "cell_type": "code",
   "execution_count": null,
   "metadata": {},
   "outputs": [],
   "source": [
    "wep = ventas[['prod_código','product_name', 'price_subtotal']].groupby('prod_código').sum().sort_values(by=['price_subtotal'],ascending=False).iloc[0:5]\n",
    "print(f\"{vend_nom}\")\n",
    "wep"
   ]
  },
  {
   "cell_type": "markdown",
   "metadata": {},
   "source": [
    "¿Cuáles son los mejores 3 clientes de la vendedora? 1ro por cantidad de productos vendidos, 2do por subtotal de venta y el último por cantidad de OV en el mes."
   ]
  },
  {
   "cell_type": "code",
   "execution_count": null,
   "metadata": {},
   "outputs": [],
   "source": [
    "wep = ventas[['partner_id','quantity','price_subtotal']].groupby('partner_id').agg({'quantity':['sum',],'price_subtotal':['sum',]})\n",
    "\n",
    "cprod = wep[('quantity', 'sum')].sort_values(ascending=False)\n",
    "cprod_name = cprod.keys()[0]\n",
    "cprod_cant = cprod.loc[cprod_name]\n",
    "csub = wep[('price_subtotal', 'sum')].sort_values(ascending=False)\n",
    "csub_name = csub.keys()[0]\n",
    "csub_cant = csub.loc[csub_name]\n",
    "\n",
    "\n",
    "wep = ventas[['partner_id','invoice_origin']].groupby(['partner_id', 'invoice_origin']).count().reset_index().groupby('partner_id').count()\n",
    "\n",
    "cov = wep['invoice_origin'].sort_values(ascending=False)\n",
    "cov_name = cov.keys()[0]\n",
    "cov_cant = cov.loc[cov_name]\n",
    "\n",
    "print(f'La vendedora {vend_nom} tiene a sus 3 mejores clientes de la siguiente manera:')\n",
    "print(f'\\tEl cliente {cov_name} es el cliente que más órdenes de venta tiene, siendo un total de {cov_cant:,.2f} órdenes')\n",
    "print(f'\\tEl cliente {cprod_name} es el cliente que más cantidad de producto, siendo un total de {cprod_cant:,.2f} artículos vendidos')\n",
    "print(f'\\tEl cliente {csub_name} es el cliente que más facturó, siendo un total de ${csub_cant:,.2f} pesos en el mes de enero')\n"
   ]
  },
  {
   "cell_type": "markdown",
   "metadata": {},
   "source": [
    "Ahora resuelve de nuevo la pregunta anterir, sin tomar al cliente MOSTRADOR"
   ]
  },
  {
   "cell_type": "code",
   "execution_count": null,
   "metadata": {},
   "outputs": [],
   "source": [
    "wep = ventas.loc[ventas['partner_id'] != 16253, ['partner_id','quantity','price_subtotal']].groupby('partner_id').agg({'quantity':['sum',],'price_subtotal':['sum',]})\n",
    "\n",
    "cprod = wep[('quantity', 'sum')].sort_values(ascending=False)\n",
    "cprod_name = cprod.keys()[0]\n",
    "cprod_cant = cprod.loc[cprod_name]\n",
    "csub = wep[('price_subtotal', 'sum')].sort_values(ascending=False)\n",
    "csub_name = csub.keys()[0]\n",
    "csub_cant = csub.loc[csub_name]\n",
    "\n",
    "\n",
    "wep = ventas.loc[ventas['partner_id'] != 16253, ['partner_id','invoice_origin']].groupby(['partner_id', 'invoice_origin']).count().reset_index().groupby('partner_id').count()\n",
    "\n",
    "cov = wep['invoice_origin'].sort_values(ascending=False)\n",
    "cov_name = cov.keys()[0]\n",
    "cov_cant = cov.loc[cov_name]\n",
    "\n",
    "print(f'La vendedora {vend_nom} tiene a sus 3 mejores clientes de la siguiente manera:')\n",
    "print(f'\\tEl cliente {cov_name} es el cliente que más órdenes de venta tiene, siendo un total de {cov_cant:,.2f} órdenes')\n",
    "print(f'\\tEl cliente {cprod_name} es el cliente que más cantidad de producto, siendo un total de {cprod_cant:,.2f} artículos vendidos')\n",
    "print(f'\\tEl cliente {csub_name} es el cliente que más facturó, siendo un total de ${csub_cant:,.2f} pesos en el mes de enero')"
   ]
  }
 ],
 "metadata": {
  "kernelspec": {
   "display_name": "env_algoritmo-comisiones-Odoo",
   "language": "python",
   "name": "python3"
  },
  "language_info": {
   "codemirror_mode": {
    "name": "ipython",
    "version": 3
   },
   "file_extension": ".py",
   "mimetype": "text/x-python",
   "name": "python",
   "nbconvert_exporter": "python",
   "pygments_lexer": "ipython3",
   "version": "3.11.5"
  }
 },
 "nbformat": 4,
 "nbformat_minor": 2
}
