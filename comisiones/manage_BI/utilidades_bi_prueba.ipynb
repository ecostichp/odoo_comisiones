{
 "cells": [
  {
   "cell_type": "code",
   "execution_count": null,
   "metadata": {},
   "outputs": [],
   "source": [
    "from sqlalchemy import create_engine\n",
    "from pathlib import Path\n",
    "\n",
    "import pandas as pd\n",
    "pd.options.display.float_format = '{:,.2f}'.format\n",
    "\n",
    "project_name = Path.cwd().parent.parent.name\n",
    "data_projetc_path = Path.home().joinpath(f'Dropbox/La Casa Del Carpintero/Departamento de Programación/data_projects_git/data_{project_name}')\n",
    "db_file = 'comisiones.db'\n",
    "db_file_path_str = str(data_projetc_path.joinpath(db_file))\n",
    "\n",
    "engine = create_engine(f'sqlite:///{db_file_path_str}')"
   ]
  },
  {
   "cell_type": "code",
   "execution_count": null,
   "metadata": {},
   "outputs": [],
   "source": [
    "with engine.connect() as conn, conn.begin():  \n",
    "    costo_ventas_enero = pd.read_sql_table('costo_ventas_1_2024', conn, dtype_backend='numpy_nullable')\n",
    "    costo_ventas_febrero = pd.read_sql_table('costo_ventas_2_2024', conn, dtype_backend='numpy_nullable')\n",
    "    costo_ventas_marzo = pd.read_sql_table('costo_ventas_3_2024', conn, dtype_backend='numpy_nullable')\n",
    "    costo_ventas_abril = pd.read_sql_table('costo_ventas_4_2024', conn, dtype_backend='numpy_nullable')\n",
    "    costo_ventas_mayo = pd.read_sql_table('costo_ventas_5_2024', conn, dtype_backend='numpy_nullable')\n",
    "    costo_ventas_junio = pd.read_sql_table('costo_ventas_6_2024', conn, dtype_backend='numpy_nullable')\n",
    "    costo_ventas_julio = pd.read_sql_table('costo_ventas_7_2024', conn, dtype_backend='numpy_nullable')\n",
    "    # costo_ventas_año_2024 = pd.read_sql_table('costo_ventas_año_2024', conn, dtype_backend='numpy_nullable')\n",
    "\n",
    "engine.dispose()\n",
    "\n",
    "costo_ventas_año = pd.concat([costo_ventas_enero, costo_ventas_febrero, costo_ventas_marzo, costo_ventas_abril, costo_ventas_mayo, costo_ventas_junio, costo_ventas_julio])"
   ]
  },
  {
   "cell_type": "code",
   "execution_count": null,
   "metadata": {},
   "outputs": [],
   "source": [
    "cols_costo_ventas =[\n",
    "        # Documento de factura\n",
    "        'name', 'invoice_date', 'partner_name_x', \n",
    "        # Vendedora\n",
    "        'salesperson_id', 'salesperson_name',\n",
    "        # Producto\n",
    "        'product_name_x',\n",
    "        # Precio de la partida\n",
    "        'quantity', 'price_unit', 'discount', 'price_subtotal',\n",
    "        # Documento de compra\n",
    "        'order_name', 'order_date', 'partner_name_y',\n",
    "        # Costo de la partida\n",
    "        'product_cost', 'cost_subtotal',\n",
    "        # Utilidad\n",
    "        'utilidad_partida_$', 'utilidad_%',\n",
    "        # Comision clientes\n",
    "        '%_comision_cliente', 'cost_cliente_comision',\n",
    "        # Utilidad después de comisión clientes\n",
    "        'utilidad_partida_$_after_cc',\n",
    "    ]"
   ]
  },
  {
   "cell_type": "code",
   "execution_count": null,
   "metadata": {},
   "outputs": [],
   "source": [
    "costo_ventas = costo_ventas_julio"
   ]
  },
  {
   "cell_type": "markdown",
   "metadata": {},
   "source": [
    "## Algo de <span style=\"color: steelblue\">BI</span>"
   ]
  },
  {
   "cell_type": "code",
   "execution_count": null,
   "metadata": {},
   "outputs": [],
   "source": [
    "utilidades = costo_ventas[['salesperson_name', 'price_subtotal', 'cost_subtotal_after_cc', 'utilidad_partida_$_after_cc']].groupby('salesperson_name', dropna=False).sum()\n",
    "\n",
    "utilidades['utilidad_%_after_cc'] = ((utilidades['price_subtotal'] / (utilidades['cost_subtotal_after_cc']) - 1) * 100).round(2)\n",
    "utilidades['margen_contribución_%_after_cc'] = (utilidades['utilidad_partida_$_after_cc'] / utilidades['price_subtotal'] * 100).round(2)\n",
    "\n",
    "utilidades"
   ]
  },
  {
   "cell_type": "code",
   "execution_count": null,
   "metadata": {},
   "outputs": [],
   "source": [
    "utilidades_mes = utilidades.agg({'price_subtotal':['sum'], 'cost_subtotal_after_cc':['sum'], 'utilidad_partida_$_after_cc':['sum']})\n",
    "\n",
    "utilidades_mes['utilidad_%_after_cc'] = ((utilidades_mes['price_subtotal'] / (utilidades_mes['cost_subtotal_after_cc']) - 1) * 100).round(2)\n",
    "utilidades_mes['margen_contribución_%_after_cc'] = (utilidades_mes['utilidad_partida_$_after_cc'] / utilidades_mes['price_subtotal'] * 100).round(2)\n",
    "\n",
    "utilidades_mes"
   ]
  }
 ],
 "metadata": {
  "kernelspec": {
   "display_name": "env_algoritmo-comisiones-Odoo",
   "language": "python",
   "name": "python3"
  },
  "language_info": {
   "codemirror_mode": {
    "name": "ipython",
    "version": 3
   },
   "file_extension": ".py",
   "mimetype": "text/x-python",
   "name": "python",
   "nbconvert_exporter": "python",
   "pygments_lexer": "ipython3",
   "version": "3.11.5"
  }
 },
 "nbformat": 4,
 "nbformat_minor": 2
}
