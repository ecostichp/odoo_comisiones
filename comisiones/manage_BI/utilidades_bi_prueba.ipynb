{
 "cells": [
  {
   "cell_type": "code",
   "execution_count": 1,
   "metadata": {},
   "outputs": [],
   "source": [
    "from sqlalchemy import create_engine\n",
    "from pathlib import Path\n",
    "\n",
    "import pandas as pd\n",
    "\n",
    "pd.options.display.float_format = '{:,.2f}'.format\n",
    "\n",
    "db_file = 'comisiones.db'\n",
    "db_file_path_str = str(Path().cwd().parent.parent.joinpath(f'data/{db_file}'))\n",
    "\n",
    "engine = create_engine(f'sqlite:///{db_file_path_str}')"
   ]
  },
  {
   "cell_type": "code",
   "execution_count": null,
   "metadata": {},
   "outputs": [],
   "source": [
    "with engine.connect() as conn, conn.begin():  \n",
    "    costo_ventas_1_2024 = pd.read_sql_table('costo_ventas_1_2024', conn, dtype_backend='numpy_nullable')\n",
    "    costo_ventas_2_2024 = pd.read_sql_table('costo_ventas_2_2024', conn, dtype_backend='numpy_nullable')\n",
    "    costo_ventas_3_2024 = pd.read_sql_table('costo_ventas_3_2024', conn, dtype_backend='numpy_nullable')\n",
    "    costo_ventas_4_2024 = pd.read_sql_table('costo_ventas_4_2024', conn, dtype_backend='numpy_nullable')\n",
    "    costo_ventas_5_2024 = pd.read_sql_table('costo_ventas_5_2024', conn, dtype_backend='numpy_nullable')\n",
    "    costo_ventas_6_2024 = pd.read_sql_table('costo_ventas_6_2024', conn, dtype_backend='numpy_nullable')\n",
    "    costo_ventas_7_2024 = pd.read_sql_table('costo_ventas_7_2024', conn, dtype_backend='numpy_nullable')\n",
    "    costo_ventas_año_2024 = pd.read_sql_table('costo_ventas_año_2024', conn, dtype_backend='numpy_nullable')\n",
    "\n",
    "engine.dispose()"
   ]
  },
  {
   "cell_type": "code",
   "execution_count": null,
   "metadata": {},
   "outputs": [],
   "source": [
    "costo_ventas = costo_ventas_7_2024"
   ]
  },
  {
   "cell_type": "markdown",
   "metadata": {},
   "source": [
    "## Algo de <span style=\"color: steelblue\">BI</span>"
   ]
  },
  {
   "cell_type": "code",
   "execution_count": null,
   "metadata": {},
   "outputs": [],
   "source": [
    "utilidades = costo_ventas[['salesperson_name', 'price_subtotal', 'cost_subtotal', 'utilidad_partida_$']].groupby('salesperson_name', dropna=False).sum()\n",
    "\n",
    "utilidades['utilidad_%'] = ((utilidades['price_subtotal'] / (utilidades['cost_subtotal']) - 1) * 100).round(2)\n",
    "utilidades['margen_contribución_%'] = (utilidades['utilidad_partida_$'] / utilidades['price_subtotal'] * 100).round(2)\n",
    "\n",
    "utilidades"
   ]
  },
  {
   "cell_type": "code",
   "execution_count": null,
   "metadata": {},
   "outputs": [],
   "source": [
    "utilidades_mes = utilidades.agg({'price_subtotal':['sum'], 'cost_subtotal':['sum'], 'utilidad_partida_$':['sum']})\n",
    "\n",
    "utilidades['utilidad_%'] = ((utilidades['price_subtotal'] / (utilidades['cost_subtotal']) - 1) * 100).round(2)\n",
    "utilidades['margen_contribución_%'] = (utilidades['utilidad_partida_$'] / utilidades['price_subtotal'] * 100).round(2)\n",
    "\n",
    "utilidades"
   ]
  }
 ],
 "metadata": {
  "kernelspec": {
   "display_name": "env_algoritmo-comisiones-Odoo",
   "language": "python",
   "name": "python3"
  },
  "language_info": {
   "codemirror_mode": {
    "name": "ipython",
    "version": 3
   },
   "file_extension": ".py",
   "mimetype": "text/x-python",
   "name": "python",
   "nbconvert_exporter": "python",
   "pygments_lexer": "ipython3",
   "version": "3.11.5"
  }
 },
 "nbformat": 4,
 "nbformat_minor": 2
}
