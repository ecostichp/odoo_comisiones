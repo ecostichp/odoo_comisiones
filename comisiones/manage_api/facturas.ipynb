{
 "cells": [
  {
   "cell_type": "code",
   "execution_count": null,
   "metadata": {},
   "outputs": [],
   "source": [
    "import xmlrpc.client\n",
    "import os\n",
    "\n",
    "api_url = os.environ.get('ODOO_URL_API')\n",
    "# api_db = os.environ.get('ODOO_DB_API')\n",
    "api_db = os.environ.get('ODOO_DB_PRUEBA_API')\n",
    "api_username = os.environ.get('ODOO_USERNAME_API')\n",
    "api_clave = os.environ.get('ODOO_CLAVE_API')\n",
    "\n",
    "common = xmlrpc.client.ServerProxy(f'{api_url}/xmlrpc/2/common')\n",
    "uid = common.authenticate(api_db, api_username, api_clave, {})\n",
    "models = xmlrpc.client.ServerProxy(f'{api_url}/xmlrpc/2/object')"
   ]
  },
  {
   "cell_type": "code",
   "execution_count": null,
   "metadata": {},
   "outputs": [],
   "source": [
    "# ids = models.execute_kw(api_db, uid, api_clave, 'account.move', 'search', [[(\"pos_order_ids\", \"=\", 13559)]])\n",
    "wep = models.execute_kw(api_db, uid, api_clave, 'account.move', 'read', [[80372]])\n",
    "wep"
   ]
  },
  {
   "cell_type": "code",
   "execution_count": null,
   "metadata": {},
   "outputs": [],
   "source": [
    "account_move_line_fields = models.execute_kw(api_db, uid, api_clave, 'account.move.line', 'fields_get', [])\n",
    "\n",
    "list_fields = list(account_move_line_fields.keys())\n",
    "list_fields.remove('compute_all_tax')"
   ]
  },
  {
   "cell_type": "code",
   "execution_count": null,
   "metadata": {},
   "outputs": [],
   "source": [
    "ids2 = models.execute_kw(api_db, uid, api_clave, 'account.move.line', 'search', [['&', (\"move_id\", \"=\", 64115), (\"partner_id\", \"=\", 15408)]])\n",
    "wep2 = models.execute_kw(api_db, uid, api_clave, 'account.move.line', 'read', [ids2], {'fields': list_fields})\n",
    "wep2"
   ]
  },
  {
   "cell_type": "code",
   "execution_count": null,
   "metadata": {},
   "outputs": [],
   "source": [
    "ids3 = models.execute_kw(api_db, uid, api_clave, 'account.move.line', 'search', [['&', (\"move_type\", \"=\", \"out_invoice\"), (\"matching_number\", \"=\", \"P19535\")]])\n",
    "wep3 = models.execute_kw(api_db, uid, api_clave, 'account.move.line', 'read', [ids3], {'fields': list_fields})\n",
    "wep3"
   ]
  }
 ],
 "metadata": {
  "kernelspec": {
   "display_name": "env_algoritmo-comisiones-Odoo",
   "language": "python",
   "name": "python3"
  },
  "language_info": {
   "codemirror_mode": {
    "name": "ipython",
    "version": 3
   },
   "file_extension": ".py",
   "mimetype": "text/x-python",
   "name": "python",
   "nbconvert_exporter": "python",
   "pygments_lexer": "ipython3",
   "version": "3.11.5"
  }
 },
 "nbformat": 4,
 "nbformat_minor": 2
}
