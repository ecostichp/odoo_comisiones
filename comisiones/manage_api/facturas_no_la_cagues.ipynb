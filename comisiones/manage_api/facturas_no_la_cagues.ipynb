{
 "cells": [
  {
   "cell_type": "code",
   "execution_count": null,
   "metadata": {},
   "outputs": [],
   "source": [
    "import xmlrpc.client\n",
    "import os\n",
    "\n",
    "api_url = os.environ.get('ODOO_URL_API')\n",
    "api_db = os.environ.get('ODOO_DB_API')\n",
    "api_username = os.environ.get('ODOO_USERNAME_API')\n",
    "api_clave = os.environ.get('ODOO_CLAVE_API')\n",
    "\n",
    "common = xmlrpc.client.ServerProxy(f'{api_url}/xmlrpc/2/common')\n",
    "uid = common.authenticate(api_db, api_username, api_clave, {})\n",
    "models = xmlrpc.client.ServerProxy(f'{api_url}/xmlrpc/2/object')"
   ]
  },
  {
   "cell_type": "markdown",
   "metadata": {},
   "source": [
    "Obtener datos del Json del pago"
   ]
  },
  {
   "cell_type": "code",
   "execution_count": null,
   "metadata": {},
   "outputs": [],
   "source": [
    "payment_id = 1555\n",
    "\n",
    "[payment_json] = models.execute_kw(api_db, uid, api_clave, 'account.payment', 'read', [[payment_id]])\n",
    "payment_json"
   ]
  },
  {
   "cell_type": "markdown",
   "metadata": {},
   "source": [
    "No avances si alguno de los siguientes keys es False o una lista vacía"
   ]
  },
  {
   "cell_type": "code",
   "execution_count": null,
   "metadata": {},
   "outputs": [],
   "source": [
    "print(payment_json['move_id'][0])\n",
    "print(payment_json['attachment_ids'])\n",
    "print(payment_json['l10n_mx_edi_payment_document_ids'])\n",
    "print(payment_json['l10n_mx_edi_document_ids'])"
   ]
  },
  {
   "cell_type": "markdown",
   "metadata": {},
   "source": [
    "Encontrar el json de edi_payment_document o generarlo si no existe"
   ]
  },
  {
   "cell_type": "code",
   "execution_count": null,
   "metadata": {},
   "outputs": [],
   "source": [
    "[some_fact_w_edi] = models.execute_kw(api_db, uid, api_clave, 'account.move', 'read', [[86937]])\n",
    "\n",
    "some_fact_w_edi['l10n_mx_edi_document_ids']"
   ]
  },
  {
   "cell_type": "code",
   "execution_count": null,
   "metadata": {},
   "outputs": [],
   "source": [
    "edi_document_ids = 25296"
   ]
  },
  {
   "cell_type": "code",
   "execution_count": null,
   "metadata": {},
   "outputs": [],
   "source": [
    "models.execute_kw(api_db, uid, api_clave, 'l10n_mx_edi.document', 'read', [[edi_document_ids]])"
   ]
  },
  {
   "cell_type": "markdown",
   "metadata": {},
   "source": [
    "Buscar el attachment en el \"Bucket\""
   ]
  },
  {
   "cell_type": "code",
   "execution_count": null,
   "metadata": {},
   "outputs": [],
   "source": [
    "attachment_founds = models.execute_kw(api_db, uid, api_clave, 'ir.attachment', 'search', [[(\"name\", \"ilike\", \"PP13\")]])\n",
    "attachment_founds"
   ]
  },
  {
   "cell_type": "code",
   "execution_count": null,
   "metadata": {},
   "outputs": [],
   "source": [
    "id_attachment = 89410"
   ]
  },
  {
   "cell_type": "code",
   "execution_count": null,
   "metadata": {},
   "outputs": [],
   "source": [
    "[attachment_json] = models.execute_kw(api_db, uid, api_clave, 'ir.attachment', 'read', [id_attachment])\n",
    "attachment_json"
   ]
  },
  {
   "cell_type": "markdown",
   "metadata": {},
   "source": [
    "Corregir el Json del attachment encontrado"
   ]
  },
  {
   "cell_type": "code",
   "execution_count": null,
   "metadata": {},
   "outputs": [],
   "source": [
    "text_index_content = attachment_json['raw'][:-1]\n",
    "\n",
    "pos = text_index_content.find('UUID=')\n",
    "if pos == -1:\n",
    "    print('corrige el \"uuid\"')\n",
    "    uuid = False\n",
    "else:\n",
    "    uuid = text_index_content[pos+6:pos+5+37]"
   ]
  },
  {
   "cell_type": "code",
   "execution_count": null,
   "metadata": {},
   "outputs": [],
   "source": [
    "attachment_keys_to_modify = {\n",
    "  'description': 'CFDI',\n",
    "  'res_model': 'account.move',\n",
    "  'res_id': payment_json['move_id'][0],\n",
    "  'mimetype': 'text/plain',\n",
    "  'index_content': text_index_content,\n",
    "}    \n",
    "\n",
    "models.execute_kw(api_db, uid, api_clave, 'ir.attachment', 'write', [[id_attachment], attachment_keys_to_modify])"
   ]
  },
  {
   "cell_type": "markdown",
   "metadata": {},
   "source": [
    "Corrige json del payment"
   ]
  },
  {
   "cell_type": "code",
   "execution_count": null,
   "metadata": {},
   "outputs": [],
   "source": [
    "payment_keys_to_modify = {'l10n_mx_edi_payment_document_ids': [edi_document_ids],\n",
    "        'l10n_mx_edi_document_ids': [edi_document_ids],\n",
    "        'l10n_mx_edi_cfdi_attachment_id': [attachment_json['id'], attachment_json['name']],\n",
    "        'attachment_ids': [id_attachment]\n",
    "    }\n",
    "\n",
    "models.execute_kw(api_db, uid, api_clave, 'account.payment', 'write', [[payment_id], payment_keys_to_modify])"
   ]
  },
  {
   "cell_type": "code",
   "execution_count": null,
   "metadata": {},
   "outputs": [],
   "source": [
    "models.execute_kw(api_db, uid, api_clave, 'l10n_mx_edi.document', 'read', [[edi_document_ids]])"
   ]
  },
  {
   "cell_type": "code",
   "execution_count": null,
   "metadata": {},
   "outputs": [],
   "source": [
    "edi_document_keys_to_modify = {\n",
    "        'attachment_uuid': uuid\n",
    "    }\n",
    "\n",
    "models.execute_kw(api_db, uid, api_clave, 'l10n_mx_edi.document', 'write', [[edi_document_ids], edi_document_keys_to_modify])"
   ]
  }
 ],
 "metadata": {
  "kernelspec": {
   "display_name": "env_algoritmo-comisiones-Odoo",
   "language": "python",
   "name": "python3"
  },
  "language_info": {
   "codemirror_mode": {
    "name": "ipython",
    "version": 3
   },
   "file_extension": ".py",
   "mimetype": "text/x-python",
   "name": "python",
   "nbconvert_exporter": "python",
   "pygments_lexer": "ipython3",
   "version": "3.11.5"
  }
 },
 "nbformat": 4,
 "nbformat_minor": 2
}
