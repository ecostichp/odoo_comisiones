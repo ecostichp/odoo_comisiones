{
 "cells": [
  {
   "cell_type": "code",
   "execution_count": 1,
   "metadata": {},
   "outputs": [],
   "source": [
    "import xmlrpc.client\n",
    "import os\n",
    "\n",
    "api_url = os.environ.get('ODOO_URL_API')\n",
    "api_db = os.environ.get('ODOO_DB_API')\n",
    "# api_db = os.environ.get('ODOO_DB_PRUEBA_API')\n",
    "api_username = os.environ.get('ODOO_USERNAME_API')\n",
    "api_clave = os.environ.get('ODOO_CLAVE_API')\n",
    "\n",
    "common = xmlrpc.client.ServerProxy(f'{api_url}/xmlrpc/2/common')\n",
    "uid = common.authenticate(api_db, api_username, api_clave, {})\n",
    "models = xmlrpc.client.ServerProxy(f'{api_url}/xmlrpc/2/object')"
   ]
  },
  {
   "cell_type": "code",
   "execution_count": 2,
   "metadata": {},
   "outputs": [
    {
     "data": {
      "text/plain": [
       "[{'id': 16835,\n",
       "  'access_url': '#',\n",
       "  'access_token': '4ba1635c-e1ff-4cde-858b-72c3c62ceb2b',\n",
       "  'access_warning': '',\n",
       "  'name': 'PdV CSL/7158',\n",
       "  'last_order_preparation_change': '{}',\n",
       "  'date_order': '2024-05-13 15:42:48',\n",
       "  'user_id': [212, 'Reyna Arriaga Flores'],\n",
       "  'amount_tax': 127.54,\n",
       "  'amount_total': 924.67,\n",
       "  'amount_paid': 924.6700000000001,\n",
       "  'amount_return': 0.0,\n",
       "  'margin': 308.13,\n",
       "  'margin_percent': 0.3865,\n",
       "  'is_total_cost_computed': True,\n",
       "  'lines': [42145, 42146],\n",
       "  'company_id': [1, 'La Casa Del Carpintero De Los Cabos'],\n",
       "  'country_code': 'MX',\n",
       "  'pricelist_id': False,\n",
       "  'partner_id': [16918, 'DIMADEK'],\n",
       "  'sequence_number': 5,\n",
       "  'session_id': [238, 'POS/00238'],\n",
       "  'config_id': [1, 'PdV CSL (Sheyla Camila Cervantes Armenta)'],\n",
       "  'currency_id': [32, 'MXN'],\n",
       "  'currency_rate': 1.0,\n",
       "  'state': 'invoiced',\n",
       "  'account_move': False,\n",
       "  'picking_ids': [40537],\n",
       "  'picking_count': 1,\n",
       "  'failed_pickings': False,\n",
       "  'picking_type_id': [12, 'Almacén 1 - Cabo San Lucas: Órdenes de PdV'],\n",
       "  'procurement_group_id': False,\n",
       "  'note': False,\n",
       "  'nb_print': 0,\n",
       "  'pos_reference': 'Orden 00238-002-0005',\n",
       "  'sale_journal': [19, 'Punto De Venta A1'],\n",
       "  'fiscal_position_id': False,\n",
       "  'payment_ids': [24031],\n",
       "  'session_move_id': [81278, 'PV1A1/2024/05/1017 (POS/00238)'],\n",
       "  'to_invoice': True,\n",
       "  'shipping_date': False,\n",
       "  'is_invoiced': False,\n",
       "  'is_tipped': False,\n",
       "  'tip_amount': 0.0,\n",
       "  'refund_orders_count': 0,\n",
       "  'is_refunded': False,\n",
       "  'refunded_order_ids': [],\n",
       "  'has_refundable_lines': True,\n",
       "  'refunded_orders_count': 0,\n",
       "  'ticket_code': 'm1575',\n",
       "  'tracking_number': '805',\n",
       "  'display_name': 'PdV CSL/7158',\n",
       "  'create_uid': [212, 'Reyna Arriaga Flores'],\n",
       "  'create_date': '2024-05-13 15:42:49',\n",
       "  'write_uid': [212, 'Reyna Arriaga Flores'],\n",
       "  'write_date': '2024-05-13 15:42:49',\n",
       "  'l10n_mx_edi_is_cfdi_needed': True,\n",
       "  'l10n_mx_edi_document_ids': [],\n",
       "  'l10n_mx_edi_cfdi_state': False,\n",
       "  'l10n_mx_edi_cfdi_sat_state': False,\n",
       "  'l10n_mx_edi_cfdi_attachment_id': False,\n",
       "  'l10n_mx_edi_update_sat_needed': False,\n",
       "  'l10n_mx_edi_cfdi_to_public': False,\n",
       "  'l10n_mx_edi_usage': 'G03',\n",
       "  'l10n_mx_edi_cfdi_uuid': False,\n",
       "  'l10n_mx_edi_payment_method_id': [4, 'Tarjeta de Crédito'],\n",
       "  'employee_id': [224, 'Cajera CSL A1'],\n",
       "  'cashier': 'Cajera CSL A1',\n",
       "  'online_payment_method_id': False,\n",
       "  'next_online_payment_amount': 0.0,\n",
       "  'crm_team_id': [5, 'A1 CSL'],\n",
       "  'sale_order_count': 1}]"
      ]
     },
     "execution_count": 2,
     "metadata": {},
     "output_type": "execute_result"
    }
   ],
   "source": [
    "# ids = models.execute_kw(api_db, uid, api_clave, 'pos.order', 'search', [[(\"name\", \"ilike\", \"PdV SJC/4362\")]])\n",
    "wep = models.execute_kw(api_db, uid, api_clave, 'pos.order', 'read', [[16835]])\n",
    "wep"
   ]
  },
  {
   "cell_type": "code",
   "execution_count": null,
   "metadata": {},
   "outputs": [],
   "source": [
    "ids2 = wep[0]['lines']\n",
    "wep2 = models.execute_kw(api_db, uid, api_clave, 'pos.order.line', 'read', [ids2])\n",
    "wep2"
   ]
  }
 ],
 "metadata": {
  "kernelspec": {
   "display_name": "env_algoritmo-comisiones-Odoo",
   "language": "python",
   "name": "python3"
  },
  "language_info": {
   "codemirror_mode": {
    "name": "ipython",
    "version": 3
   },
   "file_extension": ".py",
   "mimetype": "text/x-python",
   "name": "python",
   "nbconvert_exporter": "python",
   "pygments_lexer": "ipython3",
   "version": "3.11.5"
  }
 },
 "nbformat": 4,
 "nbformat_minor": 2
}
