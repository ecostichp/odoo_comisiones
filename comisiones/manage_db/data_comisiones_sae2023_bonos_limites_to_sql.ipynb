{
 "cells": [
  {
   "cell_type": "code",
   "execution_count": null,
   "metadata": {},
   "outputs": [],
   "source": [
    "from sqlalchemy import create_engine\n",
    "from pathlib import Path\n",
    "\n",
    "import pandas as pd\n",
    "import numpy as np\n",
    "pd.options.display.float_format = '{:,.2f}'.format\n",
    "\n",
    "project_name = Path.cwd().parent.parent.name\n",
    "data_projetc_path = Path.home().joinpath(f'Dropbox/La Casa Del Carpintero/Departamento de Programación/data_projects_git/data_{project_name}')\n",
    "db_file = 'comisiones.db'\n",
    "db_file_path_str = str(data_projetc_path.joinpath(db_file))\n",
    "\n",
    "engine = create_engine(f'sqlite:///{db_file_path_str}')"
   ]
  },
  {
   "cell_type": "code",
   "execution_count": null,
   "metadata": {},
   "outputs": [],
   "source": [
    "file01 = 'datos_com_2023'\n",
    "file01_path_str = str(data_projetc_path.joinpath(f'comisiones/{file01}.xlsx'))\n",
    "datos_com_2023 = pd.read_excel(file01_path_str, dtype_backend='numpy_nullable')"
   ]
  },
  {
   "cell_type": "code",
   "execution_count": null,
   "metadata": {},
   "outputs": [],
   "source": [
    "file02 = 'bonos_limites_comisiones'\n",
    "file02_path_str = str(data_projetc_path.joinpath(f'comisiones/{file02}.xlsx'))\n",
    "bonos_limites_comisiones = pd.read_excel(file02_path_str, dtype_backend='numpy_nullable')\n",
    "\n",
    "bonos_limites_comisiones.replace({'lim_sup': pd.NA}, np.inf, inplace=True)"
   ]
  },
  {
   "cell_type": "code",
   "execution_count": null,
   "metadata": {},
   "outputs": [],
   "source": [
    "with engine.connect() as conn, conn.begin():  \n",
    "    datos_com_2023.to_sql(name = 'datos_com_2023', index= False, con = conn, if_exists = 'replace')\n",
    "    bonos_limites_comisiones.to_sql(name = 'bonos_limites_comisiones', index= False, con = conn, if_exists = 'replace')\n",
    "\n",
    "engine.dispose()\n",
    "\n",
    "print('Las tablas se registraron con éxito en la base de datos')"
   ]
  }
 ],
 "metadata": {
  "kernelspec": {
   "display_name": "env_algoritmo-comisiones-Odoo",
   "language": "python",
   "name": "python3"
  },
  "language_info": {
   "codemirror_mode": {
    "name": "ipython",
    "version": 3
   },
   "file_extension": ".py",
   "mimetype": "text/x-python",
   "name": "python",
   "nbconvert_exporter": "python",
   "pygments_lexer": "ipython3",
   "version": "3.11.5"
  }
 },
 "nbformat": 4,
 "nbformat_minor": 2
}
