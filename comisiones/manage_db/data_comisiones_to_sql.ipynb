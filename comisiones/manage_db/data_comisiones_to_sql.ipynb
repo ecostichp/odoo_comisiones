{
 "cells": [
  {
   "cell_type": "code",
   "execution_count": 11,
   "metadata": {},
   "outputs": [],
   "source": [
    "from sqlalchemy import create_engine\n",
    "from pathlib import Path\n",
    "import pandas as pd\n",
    "\n",
    "pd.options.display.float_format = '{:,.2f}'.format\n",
    "\n",
    "\n",
    "db_file = 'comisiones.db'\n",
    "db_file_path_str = str(Path().cwd().parent.parent.joinpath(f'data/{db_file}'))\n",
    "\n",
    "engine = create_engine(f'sqlite:///{db_file_path_str}')"
   ]
  },
  {
   "cell_type": "code",
   "execution_count": 18,
   "metadata": {},
   "outputs": [],
   "source": [
    "file01 = 'venta_2023_comisiones'\n",
    "file01_path_str = str(Path().cwd().parent.parent.joinpath(f'data/comisiones/{file01}.xlsx'))\n",
    "\n",
    "datos_com_2023 = pd.read_excel(file01_path_str, sheet_name = 'datos_com_2023', dtype_backend='numpy_nullable')\n",
    "ut_ce_vend = pd.read_excel(file01_path_str, sheet_name = 'ut_ce_vend', dtype_backend='numpy_nullable')\n",
    "ut_ce_ger = pd.read_excel(file01_path_str, sheet_name = 'ut_ce_ger', dtype_backend='numpy_nullable')\n",
    "ut_piso_vend = pd.read_excel(file01_path_str, sheet_name = 'ut_piso_vend', dtype_backend='numpy_nullable')\n",
    "ut_piso_ger = pd.read_excel(file01_path_str, sheet_name = 'ut_piso_ger', dtype_backend='numpy_nullable')"
   ]
  },
  {
   "cell_type": "code",
   "execution_count": 22,
   "metadata": {},
   "outputs": [],
   "source": [
    "with engine.connect() as conn, conn.begin():  \n",
    "    datos_com_2023.to_sql(name = 'datos_com_2023', index= False, con = conn, if_exists = 'replace')\n",
    "    ut_ce_vend.to_sql(name = 'ut_ce_vend', index= False, con = conn, if_exists = 'replace')\n",
    "    ut_ce_ger.to_sql(name = 'ut_ce_ger', index= False, con = conn, if_exists = 'replace')\n",
    "    ut_piso_vend.to_sql(name = 'ut_piso_vend', index= False, con = conn, if_exists = 'replace')\n",
    "    ut_piso_ger.to_sql(name = 'ut_piso_ger', index= False, con = conn, if_exists = 'replace')\n",
    "\n",
    "engine.dispose()"
   ]
  },
  {
   "cell_type": "code",
   "execution_count": 23,
   "metadata": {},
   "outputs": [],
   "source": [
    "engine.dispose()"
   ]
  }
 ],
 "metadata": {
  "kernelspec": {
   "display_name": "env_algoritmo-comisiones-Odoo",
   "language": "python",
   "name": "python3"
  },
  "language_info": {
   "codemirror_mode": {
    "name": "ipython",
    "version": 3
   },
   "file_extension": ".py",
   "mimetype": "text/x-python",
   "name": "python",
   "nbconvert_exporter": "python",
   "pygments_lexer": "ipython3",
   "version": "3.11.5"
  }
 },
 "nbformat": 4,
 "nbformat_minor": 2
}
