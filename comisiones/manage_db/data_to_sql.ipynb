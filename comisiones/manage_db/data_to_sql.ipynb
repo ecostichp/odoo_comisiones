{
 "cells": [
  {
   "cell_type": "code",
   "execution_count": null,
   "metadata": {},
   "outputs": [],
   "source": [
    "from sys import path\n",
    "from pathlib import Path\n",
    "\n",
    "# Se genera la ruta absoluta al directorio \"Comisiones\"\n",
    "path_package = Path.cwd().parent.__str__()\n",
    "\n",
    "# Se agrega la ruta al directorio sys.path\n",
    "path.append(path_package)\n",
    "\n",
    "from algoritmos.algoritmo_ventas_mes import ventas_mes_func\n",
    "from algoritmos.algoritmo_cobranza_mes import cobranza_mes_func\n",
    "\n",
    "from descriptions.descriptions import descrip_sales_users_df, descrip_product_df, descrip_partner_df\n",
    "\n",
    "\n",
    "\n",
    "import pandas as pd\n",
    "import numpy as np\n",
    "pd.options.display.float_format = '{:,.2f}'.format\n",
    "\n",
    "\n",
    "from sqlalchemy import create_engine\n",
    "db_file = 'comisiones.db'\n",
    "db_file_path_str = str(Path().cwd().parent.parent.joinpath(f'data/{db_file}'))\n",
    "\n",
    "engine = create_engine(f'sqlite:///{db_file_path_str}')"
   ]
  },
  {
   "cell_type": "code",
   "execution_count": null,
   "metadata": {},
   "outputs": [],
   "source": [
    "file01 = 'datos_2023_venta_comisión'\n",
    "file01_path_str = str(Path().cwd().parent.parent.joinpath(f'data/comisiones/{file01}.xlsx'))\n",
    "sheet01 = \"wep\"\n",
    "\n",
    "df = pd.read_excel(file01_path_str, sheet01)\n",
    "\n",
    "df"
   ]
  },
  {
   "cell_type": "code",
   "execution_count": null,
   "metadata": {},
   "outputs": [],
   "source": [
    "ventas_enero = ventas_mes_func(1)\n",
    "ventas_febrero = ventas_mes_func(2)\n",
    "ventas_marzo = ventas_mes_func(3)\n",
    "ventas_abril = ventas_mes_func(4)\n",
    "\n",
    "ventas_global = pd.concat([ventas_enero, ventas_febrero, ventas_marzo, ventas_abril], ignore_index=True)\n",
    "\n",
    "cobranza_enero = cobranza_mes_func(1)\n",
    "cobranza_febrero = cobranza_mes_func(2)\n",
    "cobranza_marzo = cobranza_mes_func(3)\n",
    "cobranza_abril = cobranza_mes_func(4)\n",
    "\n",
    "cobranza_global = pd.concat([cobranza_enero, cobranza_febrero, cobranza_marzo, cobranza_abril], ignore_index=True)"
   ]
  },
  {
   "cell_type": "code",
   "execution_count": null,
   "metadata": {},
   "outputs": [],
   "source": [
    "# with engine.connect() as conn, conn.begin():  \n",
    "#     ventas_enero.to_sql(name = 'ventas_enero', index= False, con = conn, if_exists = 'replace')\n",
    "#     ventas_febrero.to_sql(name = 'ventas_febrero', index= False, con = conn, if_exists = 'replace')\n",
    "#     ventas_marzo.to_sql(name = 'ventas_marzo', index= False, con = conn, if_exists = 'replace')\n",
    "#     ventas_abril.to_sql(name = 'ventas_abril', index= False, con = conn, if_exists = 'replace')\n",
    "#     ventas_global.to_sql(name = 'ventas_global', index= False, con = conn, if_exists = 'replace')\n",
    "#     cobranza_enero.to_sql(name = 'cobranza_enero', index= False, con = conn, if_exists = 'replace')\n",
    "#     cobranza_febrero.to_sql(name = 'cobranza_febrero', index= False, con = conn, if_exists = 'replace')\n",
    "#     cobranza_marzo.to_sql(name = 'cobranza_marzo', index= False, con = conn, if_exists = 'replace')\n",
    "#     cobranza_abril.to_sql(name = 'cobranza_abril', index= False, con = conn, if_exists = 'replace')\n",
    "#     cobranza_global.to_sql(name = 'cobranza_global', index= False, con = conn, if_exists = 'replace')"
   ]
  },
  {
   "cell_type": "code",
   "execution_count": null,
   "metadata": {},
   "outputs": [],
   "source": [
    "with engine.connect() as conn, conn.begin():  \n",
    "    ventas_enero = pd.read_sql_table('ventas_enero', conn)\n",
    "    ventas_febrero = pd.read_sql_table('ventas_febrero', conn)\n",
    "    ventas_marzo = pd.read_sql_table('ventas_marzo', conn)\n",
    "    ventas_abril = pd.read_sql_table('ventas_abril', conn)\n",
    "    ventas_global = pd.read_sql_table('ventas_global', conn)\n",
    "    cobranza_enero = pd.read_sql_table('cobranza_enero', conn)\n",
    "    cobranza_febrero = pd.read_sql_table('cobranza_febrero', conn)\n",
    "    cobranza_marzo = pd.read_sql_table('cobranza_marzo', conn)\n",
    "    cobranza_abril = pd.read_sql_table('cobranza_abril', conn)\n",
    "    cobranza_global = pd.read_sql_table('cobranza_global', conn)"
   ]
  },
  {
   "cell_type": "code",
   "execution_count": null,
   "metadata": {},
   "outputs": [],
   "source": [
    "engine.dispose()"
   ]
  }
 ],
 "metadata": {
  "kernelspec": {
   "display_name": "env_algoritmo-comisiones-Odoo",
   "language": "python",
   "name": "python3"
  },
  "language_info": {
   "codemirror_mode": {
    "name": "ipython",
    "version": 3
   },
   "file_extension": ".py",
   "mimetype": "text/x-python",
   "name": "python",
   "nbconvert_exporter": "python",
   "pygments_lexer": "ipython3",
   "version": "3.11.5"
  }
 },
 "nbformat": 4,
 "nbformat_minor": 2
}
