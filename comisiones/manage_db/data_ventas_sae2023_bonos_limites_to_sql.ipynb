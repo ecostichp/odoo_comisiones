{
 "cells": [
  {
   "cell_type": "code",
   "execution_count": 1,
   "metadata": {},
   "outputs": [],
   "source": [
    "from sqlalchemy import create_engine\n",
    "from pathlib import Path\n",
    "\n",
    "import pandas as pd\n",
    "pd.options.display.float_format = '{:,.2f}'.format\n",
    "\n",
    "project_name = Path.cwd().parent.parent.name\n",
    "data_projetc_path = Path.home().joinpath(f'Dropbox/La Casa Del Carpintero/Departamento de Programación/data_projects_git/data_{project_name}')\n",
    "db_file = 'comisiones.db'\n",
    "db_file_path_str = str(data_projetc_path.joinpath(db_file))\n",
    "\n",
    "engine = create_engine(f'sqlite:///{db_file_path_str}')"
   ]
  },
  {
   "cell_type": "code",
   "execution_count": 18,
   "metadata": {},
   "outputs": [],
   "source": [
    "file01 = 'venta_2023_comisiones'\n",
    "file01_path_str = str(Path().cwd().parent.parent.joinpath(f'data/comisiones/{file01}.xlsx'))\n",
    "\n",
    "datos_com_2023 = pd.read_excel(file01_path_str, sheet_name = 'datos_com_2023', dtype_backend='numpy_nullable')\n",
    "ut_ce_vend = pd.read_excel(file01_path_str, sheet_name = 'ut_ce_vend', dtype_backend='numpy_nullable')\n",
    "ut_ce_ger = pd.read_excel(file01_path_str, sheet_name = 'ut_ce_ger', dtype_backend='numpy_nullable')\n",
    "ut_piso_vend = pd.read_excel(file01_path_str, sheet_name = 'ut_piso_vend', dtype_backend='numpy_nullable')\n",
    "ut_piso_ger = pd.read_excel(file01_path_str, sheet_name = 'ut_piso_ger', dtype_backend='numpy_nullable')"
   ]
  },
  {
   "cell_type": "code",
   "execution_count": 22,
   "metadata": {},
   "outputs": [],
   "source": [
    "with engine.connect() as conn, conn.begin():  \n",
    "    datos_com_2023.to_sql(name = 'datos_com_2023', index= False, con = conn, if_exists = 'replace')\n",
    "    ut_ce_vend.to_sql(name = 'ut_ce_vend', index= False, con = conn, if_exists = 'replace')\n",
    "    ut_ce_ger.to_sql(name = 'ut_ce_ger', index= False, con = conn, if_exists = 'replace')\n",
    "    ut_piso_vend.to_sql(name = 'ut_piso_vend', index= False, con = conn, if_exists = 'replace')\n",
    "    ut_piso_ger.to_sql(name = 'ut_piso_ger', index= False, con = conn, if_exists = 'replace')\n",
    "\n",
    "engine.dispose()"
   ]
  },
  {
   "cell_type": "markdown",
   "metadata": {},
   "source": [
    "# Para mandar a llamar las tablas desde SQL"
   ]
  },
  {
   "cell_type": "code",
   "execution_count": 2,
   "metadata": {},
   "outputs": [],
   "source": [
    "with engine.connect() as conn, conn.begin():  \n",
    "    datos_com_2023 = pd.read_sql_table('datos_com_2023', conn, dtype_backend='numpy_nullable')\n",
    "    ut_ce_vend = pd.read_sql_table('ut_ce_vend', conn, dtype_backend='numpy_nullable')\n",
    "    ut_ce_ger = pd.read_sql_table('ut_ce_ger', conn, dtype_backend='numpy_nullable')\n",
    "    ut_piso_vend = pd.read_sql_table('ut_piso_vend', conn, dtype_backend='numpy_nullable')\n",
    "    ut_piso_ger = pd.read_sql_table('ut_piso_ger', conn, dtype_backend='numpy_nullable')\n",
    "\n",
    "engine.dispose()"
   ]
  }
 ],
 "metadata": {
  "kernelspec": {
   "display_name": "env_algoritmo-comisiones-Odoo",
   "language": "python",
   "name": "python3"
  },
  "language_info": {
   "codemirror_mode": {
    "name": "ipython",
    "version": 3
   },
   "file_extension": ".py",
   "mimetype": "text/x-python",
   "name": "python",
   "nbconvert_exporter": "python",
   "pygments_lexer": "ipython3",
   "version": "3.11.5"
  }
 },
 "nbformat": 4,
 "nbformat_minor": 2
}
