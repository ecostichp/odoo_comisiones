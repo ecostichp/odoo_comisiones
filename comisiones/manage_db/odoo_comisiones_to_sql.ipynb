{
 "cells": [
  {
   "cell_type": "code",
   "execution_count": null,
   "metadata": {},
   "outputs": [],
   "source": [
    "from sys import path\n",
    "from pathlib import Path\n",
    "from sqlalchemy import create_engine\n",
    "\n",
    "import pandas as pd\n",
    "pd.options.display.float_format = '{:,.2f}'.format\n",
    "\n",
    "# Se genera la ruta absoluta al directorio \"Comisiones\"\n",
    "path_package = str(Path.cwd().parent)\n",
    "\n",
    "# Se agrega la ruta al directorio sys.path\n",
    "path.append(path_package)\n",
    "\n",
    "# Se define la ruta para la base de datos local SQLite\n",
    "db_file = 'comisiones.db'\n",
    "db_file_path_str = str(Path().cwd().parent.parent.joinpath(f'data/{db_file}'))\n",
    "\n",
    "# Se crea el objeto engine para trabajarlo con los metodos de pandas\n",
    "engine = create_engine(f'sqlite:///{db_file_path_str}')"
   ]
  },
  {
   "cell_type": "code",
   "execution_count": null,
   "metadata": {},
   "outputs": [],
   "source": [
    "file01 = 'clientes_regalos'\n",
    "file01_path_str = str(Path().cwd().parent.parent.joinpath(f'data/comisiones/{file01}.xlsx'))\n",
    "clientes_regalos = pd.read_excel(file01_path_str, dtype_backend='numpy_nullable')\n",
    "\n",
    "file02 = 'refacturaciones'\n",
    "file02_path_str = str(Path().cwd().parent.parent.joinpath(f'data/costo_ventas/{file02}.xlsx'))\n",
    "refacturaciones = pd.read_excel(file02_path_str, dtype_backend='numpy_nullable')"
   ]
  },
  {
   "cell_type": "code",
   "execution_count": null,
   "metadata": {},
   "outputs": [],
   "source": [
    "with engine.connect() as conn, conn.begin():\n",
    "\n",
    "    cobranza_enero = pd.read_sql_table('cobranza_1_2024', conn, dtype_backend='numpy_nullable')\n",
    "    cobranza_febrero = pd.read_sql_table('cobranza_2_2024', conn, dtype_backend='numpy_nullable')\n",
    "    cobranza_marzo = pd.read_sql_table('cobranza_3_2024', conn, dtype_backend='numpy_nullable')\n",
    "    cobranza_abril = pd.read_sql_table('cobranza_4_2024', conn, dtype_backend='numpy_nullable')\n",
    "    cobranza_mayo = pd.read_sql_table('cobranza_5_2024', conn, dtype_backend='numpy_nullable')\n",
    "    cobranza_junio = pd.read_sql_table('cobranza_6_2024', conn, dtype_backend='numpy_nullable')\n",
    "    cobranza_julio = pd.read_sql_table('cobranza_7_2024', conn, dtype_backend='numpy_nullable')\n",
    "    cobranza_año = pd.read_sql_table('cobranza_año_2024', conn, dtype_backend='numpy_nullable')\n",
    "\n",
    "    costo_ventas_enero = pd.read_sql_table('costo_ventas_1_2024', conn, dtype_backend='numpy_nullable')\n",
    "    costo_ventas_febrero = pd.read_sql_table('costo_ventas_2_2024', conn, dtype_backend='numpy_nullable')\n",
    "    costo_ventas_marzo = pd.read_sql_table('costo_ventas_3_2024', conn, dtype_backend='numpy_nullable')\n",
    "    costo_ventas_abril = pd.read_sql_table('costo_ventas_4_2024', conn, dtype_backend='numpy_nullable')\n",
    "    costo_ventas_mayo = pd.read_sql_table('costo_ventas_5_2024', conn, dtype_backend='numpy_nullable')\n",
    "    costo_ventas_junio = pd.read_sql_table('costo_ventas_6_2024', conn, dtype_backend='numpy_nullable')\n",
    "    costo_ventas_julio = pd.read_sql_table('costo_ventas_7_2024', conn, dtype_backend='numpy_nullable')\n",
    "\n",
    "engine.dispose()\n",
    "\n",
    "costo_ventas_año = pd.concat([costo_ventas_enero, costo_ventas_febrero, costo_ventas_marzo, costo_ventas_abril, costo_ventas_mayo, costo_ventas_junio, costo_ventas_julio])"
   ]
  },
  {
   "cell_type": "code",
   "execution_count": null,
   "metadata": {},
   "outputs": [],
   "source": [
    "costo_ventas_año['mes'] = costo_ventas_año['invoice_date'].dt.month\n",
    "\n",
    "(costo_ventas_año.loc[\n",
    "        (costo_ventas_año['salesperson_id'] == 211)\n",
    "        ,[\n",
    "            'mes',\n",
    "            'utilidad_partida_$_after_cc'\n",
    "        ]\n",
    "    ]\n",
    "    .groupby('mes')\n",
    "    .sum()\n",
    ")"
   ]
  }
 ],
 "metadata": {
  "kernelspec": {
   "display_name": "env_algoritmo-comisiones-Odoo",
   "language": "python",
   "name": "python3"
  },
  "language_info": {
   "codemirror_mode": {
    "name": "ipython",
    "version": 3
   },
   "file_extension": ".py",
   "mimetype": "text/x-python",
   "name": "python",
   "nbconvert_exporter": "python",
   "pygments_lexer": "ipython3",
   "version": "3.11.5"
  }
 },
 "nbformat": 4,
 "nbformat_minor": 2
}
