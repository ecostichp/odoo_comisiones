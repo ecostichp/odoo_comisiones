{
 "cells": [
  {
   "cell_type": "code",
   "execution_count": 1,
   "metadata": {},
   "outputs": [],
   "source": [
    "from sys import path\n",
    "from pathlib import Path\n",
    "from sqlalchemy import create_engine\n",
    "\n",
    "import pandas as pd\n",
    "\n",
    "# Se genera la ruta absoluta al directorio \"Comisiones\"\n",
    "path_package = str(Path.cwd().parent)\n",
    "\n",
    "# Se agrega la ruta al directorio sys.path\n",
    "path.append(path_package)\n",
    "\n",
    "from descriptions.descriptions import descrip_sales_users_df, descrip_product_df, descrip_partner_df\n",
    "\n",
    "# Se define la ruta para la base de datos local SQLite\n",
    "db_file = 'comisiones.db'\n",
    "db_file_path_str = str(Path().cwd().parent.parent.joinpath(f'data/{db_file}'))\n",
    "\n",
    "# Se crea el objeto engine para trabajarlo con los metodos de pandas\n",
    "engine = create_engine(f'sqlite:///{db_file_path_str}')"
   ]
  },
  {
   "cell_type": "code",
   "execution_count": 2,
   "metadata": {},
   "outputs": [],
   "source": [
    "file01 = 'clientes_regalos'\n",
    "file01_path_str = str(Path().cwd().parent.parent.joinpath(f'data/comisiones/{file01}.xlsx'))\n",
    "\n",
    "clientes_regalos = pd.read_excel(file01_path_str, dtype_backend='numpy_nullable')"
   ]
  },
  {
   "cell_type": "code",
   "execution_count": 4,
   "metadata": {},
   "outputs": [
    {
     "data": {
      "text/html": [
       "<div>\n",
       "<style scoped>\n",
       "    .dataframe tbody tr th:only-of-type {\n",
       "        vertical-align: middle;\n",
       "    }\n",
       "\n",
       "    .dataframe tbody tr th {\n",
       "        vertical-align: top;\n",
       "    }\n",
       "\n",
       "    .dataframe thead th {\n",
       "        text-align: right;\n",
       "    }\n",
       "</style>\n",
       "<table border=\"1\" class=\"dataframe\">\n",
       "  <thead>\n",
       "    <tr style=\"text-align: right;\">\n",
       "      <th></th>\n",
       "      <th>partner_id_x</th>\n",
       "      <th>partner_name_x</th>\n",
       "      <th>hotel</th>\n",
       "      <th>comprador_name</th>\n",
       "      <th>salesperson_id</th>\n",
       "      <th>salesperson_name</th>\n",
       "      <th>costo_regalo_$</th>\n",
       "      <th>fecha_regalo</th>\n",
       "      <th>comentario_regalo</th>\n",
       "    </tr>\n",
       "  </thead>\n",
       "  <tbody>\n",
       "    <tr>\n",
       "      <th>0</th>\n",
       "      <td>15853</td>\n",
       "      <td>PRESTADORA DE SERVICIOS TURISTICOS Y DE GOLF</td>\n",
       "      <td>Diamante</td>\n",
       "      <td>Paulina Flores</td>\n",
       "      <td>211</td>\n",
       "      <td>Mayra Angelica Parada Manjarrez</td>\n",
       "      <td>720.0</td>\n",
       "      <td>2024-02-14</td>\n",
       "      <td>Se compró comida, el efectivo salió de caja y ...</td>\n",
       "    </tr>\n",
       "    <tr>\n",
       "      <th>1</th>\n",
       "      <td>15853</td>\n",
       "      <td>PRESTADORA DE SERVICIOS TURISTICOS Y DE GOLF</td>\n",
       "      <td>Diamante</td>\n",
       "      <td>Paulina Flores</td>\n",
       "      <td>211</td>\n",
       "      <td>Mayra Angelica Parada Manjarrez</td>\n",
       "      <td>1992.61</td>\n",
       "      <td>2024-03-12</td>\n",
       "      <td>Se regaló un Kit Compresor 20L 2 1/2Hp Pretul ...</td>\n",
       "    </tr>\n",
       "  </tbody>\n",
       "</table>\n",
       "</div>"
      ],
      "text/plain": [
       "   partner_id_x                                partner_name_x     hotel  \\\n",
       "0         15853  PRESTADORA DE SERVICIOS TURISTICOS Y DE GOLF  Diamante   \n",
       "1         15853  PRESTADORA DE SERVICIOS TURISTICOS Y DE GOLF  Diamante   \n",
       "\n",
       "   comprador_name  salesperson_id                 salesperson_name  \\\n",
       "0  Paulina Flores             211  Mayra Angelica Parada Manjarrez   \n",
       "1  Paulina Flores             211  Mayra Angelica Parada Manjarrez   \n",
       "\n",
       "   costo_regalo_$ fecha_regalo  \\\n",
       "0           720.0   2024-02-14   \n",
       "1         1992.61   2024-03-12   \n",
       "\n",
       "                                   comentario_regalo  \n",
       "0  Se compró comida, el efectivo salió de caja y ...  \n",
       "1  Se regaló un Kit Compresor 20L 2 1/2Hp Pretul ...  "
      ]
     },
     "execution_count": 4,
     "metadata": {},
     "output_type": "execute_result"
    }
   ],
   "source": [
    "clientes_regalos"
   ]
  },
  {
   "cell_type": "code",
   "execution_count": null,
   "metadata": {},
   "outputs": [],
   "source": [
    "adfasdfasdfasdfasdfasdfsadfadsfasdf"
   ]
  },
  {
   "cell_type": "code",
   "execution_count": null,
   "metadata": {},
   "outputs": [],
   "source": [
    "with engine.connect() as conn, conn.begin():\n",
    "\n",
    "    cobranza_enero = pd.read_sql_table('cobranza_1_2024', conn, dtype_backend='numpy_nullable')\n",
    "    cobranza_febrero = pd.read_sql_table('cobranza_2_2024', conn, dtype_backend='numpy_nullable')\n",
    "    cobranza_marzo = pd.read_sql_table('cobranza_3_2024', conn, dtype_backend='numpy_nullable')\n",
    "    cobranza_abril = pd.read_sql_table('cobranza_4_2024', conn, dtype_backend='numpy_nullable')\n",
    "    cobranza_mayo = pd.read_sql_table('cobranza_5_2024', conn, dtype_backend='numpy_nullable')\n",
    "    cobranza_junio = pd.read_sql_table('cobranza_6_2024', conn, dtype_backend='numpy_nullable')\n",
    "    cobranza_julio = pd.read_sql_table('cobranza_7_2024', conn, dtype_backend='numpy_nullable')\n",
    "    cobranza_año = pd.read_sql_table('cobranza_año_2024', conn, dtype_backend='numpy_nullable')\n",
    "\n",
    "    costo_ventas_enero = pd.read_sql_table('costo_ventas_1_2024', conn, dtype_backend='numpy_nullable')\n",
    "    costo_ventas_febrero = pd.read_sql_table('costo_ventas_2_2024', conn, dtype_backend='numpy_nullable')\n",
    "    costo_ventas_marzo = pd.read_sql_table('costo_ventas_3_2024', conn, dtype_backend='numpy_nullable')\n",
    "    costo_ventas_abril = pd.read_sql_table('costo_ventas_4_2024', conn, dtype_backend='numpy_nullable')\n",
    "    costo_ventas_mayo = pd.read_sql_table('costo_ventas_5_2024', conn, dtype_backend='numpy_nullable')\n",
    "    costo_ventas_junio = pd.read_sql_table('costo_ventas_6_2024', conn, dtype_backend='numpy_nullable')\n",
    "    costo_ventas_julio = pd.read_sql_table('costo_ventas_7_2024', conn, dtype_backend='numpy_nullable')\n",
    "    costo_ventas_año = pd.read_sql_table('costo_ventas_año_2024', conn, dtype_backend='numpy_nullable')\n",
    "\n",
    "engine.dispose()"
   ]
  }
 ],
 "metadata": {
  "kernelspec": {
   "display_name": "env_algoritmo-comisiones-Odoo",
   "language": "python",
   "name": "python3"
  },
  "language_info": {
   "codemirror_mode": {
    "name": "ipython",
    "version": 3
   },
   "file_extension": ".py",
   "mimetype": "text/x-python",
   "name": "python",
   "nbconvert_exporter": "python",
   "pygments_lexer": "ipython3",
   "version": "3.11.5"
  }
 },
 "nbformat": 4,
 "nbformat_minor": 2
}
