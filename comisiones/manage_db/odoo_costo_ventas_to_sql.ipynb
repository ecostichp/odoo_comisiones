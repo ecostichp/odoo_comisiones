{
 "cells": [
  {
   "cell_type": "code",
   "execution_count": 1,
   "metadata": {},
   "outputs": [],
   "source": [
    "from pathlib import Path\n",
    "from sqlalchemy import create_engine\n",
    "\n",
    "import pandas as pd\n",
    "\n",
    "from iacele import costo_ventas_mes_func\n",
    "\n",
    "# Se define la ruta para la base de datos local SQLite\n",
    "project_name = Path.cwd().parent.parent.name\n",
    "data_projetc_path = Path.home().joinpath(f'Dropbox/La Casa Del Carpintero/Departamento de Programación/data_projects_git/data_{project_name}')\n",
    "db_file = 'comisiones.db'\n",
    "db_file_path_str = str(data_projetc_path.joinpath(db_file))\n",
    "\n",
    "# Se crea el objeto engine para trabajarlo con los metodos de pandas\n",
    "engine = create_engine(f'sqlite:///{db_file_path_str}')"
   ]
  },
  {
   "cell_type": "code",
   "execution_count": null,
   "metadata": {},
   "outputs": [],
   "source": [
    "for mes in [10]:\n",
    "# for i in range(8):\n",
    "    # mes = i+1\n",
    "    \n",
    "    print(f'\\nSe inicia función para el mes {mes}')\n",
    "\n",
    "    costo_ventas_after_comisiones_clientes, especiales_sin_usar, ultimo_costo = costo_ventas_mes_func(mes, 'local')\n",
    "\n",
    "\n",
    "    if type(costo_ventas_after_comisiones_clientes) == pd.DataFrame and type(especiales_sin_usar) == pd.DataFrame and type(ultimo_costo) == pd.DataFrame:\n",
    "\n",
    "        with engine.connect() as conn, conn.begin():\n",
    "            costo_ventas_after_comisiones_clientes.to_sql(name = f'costo_ventas_{mes}_2024', index= False, con = conn, if_exists = 'replace')\n",
    "            ultimo_costo.to_sql(name = f'ultimo_costo_{mes}_2024', index= False, con = conn, if_exists = 'replace')\n",
    "            especiales_sin_usar.to_sql(name = f'compras_especiales_sin_usar_{mes}_2024', index= False, con = conn, if_exists = 'replace')\n",
    "\n",
    "        engine.dispose()\n",
    "\n",
    "        \n",
    "        costo_ventas_after_comisiones_clientes['short_salesperson_name'] = costo_ventas_after_comisiones_clientes['salesperson_name'].str.split(\" \").str.get(0)\n",
    "        excel_data_drive_comisiones = costo_ventas_after_comisiones_clientes[[\n",
    "                                'name',\n",
    "                                'short_salesperson_name',\n",
    "                                'sale_team_description',\n",
    "                                'business_model',\n",
    "                                'utilidad_partida_$_after_cc',\n",
    "                            ]]\n",
    "\n",
    "        \n",
    "        excel_ventas_name = f'ventas_{mes}_2024.xlsx'\n",
    "        costo_ventas_after_comisiones_clientes.to_excel(str(Path.home().joinpath(f'desktop/{excel_ventas_name}')))\n",
    "        print(f'\\nSe escribió con éxito el archivo \"{excel_ventas_name}\" en el escritorio')\n",
    "        \n",
    "        excel_data_drive_comisiones_name = f'data_drive_comisiones_{mes}_2024.xlsx'\n",
    "        excel_data_drive_comisiones.to_excel(str(Path.home().joinpath(f'desktop/{excel_data_drive_comisiones_name}')))\n",
    "        print(f'\\nSe escribió con éxito el archivo \"{excel_data_drive_comisiones_name}\" en el escritorio')\n",
    "\n",
    "        print('\\nSe registró con éxito en la base de datos las siguientes tablas:')\n",
    "        print(f'   -> costo_ventas_{mes}_2024')\n",
    "        print(f'   -> ultimo_costo_{mes}_2024' )\n",
    "        print(f'   -> compras_especiales_sin_usar_{mes}_2024')\n",
    "\n",
    "    else:\n",
    "        print(f'Fallaron algunos checks. No se guardó nada en la base de datos.')"
   ]
  }
 ],
 "metadata": {
  "kernelspec": {
   "display_name": "env_algoritmo-comisiones-Odoo",
   "language": "python",
   "name": "python3"
  },
  "language_info": {
   "codemirror_mode": {
    "name": "ipython",
    "version": 3
   },
   "file_extension": ".py",
   "mimetype": "text/x-python",
   "name": "python",
   "nbconvert_exporter": "python",
   "pygments_lexer": "ipython3",
   "version": "3.11.5"
  }
 },
 "nbformat": 4,
 "nbformat_minor": 2
}
