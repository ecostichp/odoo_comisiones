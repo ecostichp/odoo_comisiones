{
 "cells": [
  {
   "cell_type": "code",
   "execution_count": null,
   "metadata": {},
   "outputs": [],
   "source": [
    "from sys import path\n",
    "from pathlib import Path\n",
    "from sqlalchemy import create_engine\n",
    "\n",
    "import pandas as pd\n",
    "\n",
    "from iacele import ventas_mes_func\n",
    "\n",
    "# Se genera la ruta absoluta al directorio \"Comisiones\"\n",
    "path_package = str(Path.cwd().parent)\n",
    "\n",
    "# Se agrega la ruta al directorio sys.path\n",
    "path.append(path_package)\n",
    "\n",
    "from descriptions.descriptions import descrip_sales_users_df, descrip_product_df, descrip_partner_df\n",
    "\n",
    "# Se define la ruta para la base de datos local SQLite\n",
    "project_name = Path.cwd().parent.parent.name\n",
    "data_projetc_path = Path.home().joinpath(f'Dropbox/La Casa Del Carpintero/Departamento de Programación/data_projects_git/data_{project_name}')\n",
    "db_file = 'comisiones.db'\n",
    "db_file_path_str = str(data_projetc_path.joinpath(db_file))\n",
    "\n",
    "# Se crea el objeto engine para trabajarlo con los metodos de pandas\n",
    "engine = create_engine(f'sqlite:///{db_file_path_str}')"
   ]
  },
  {
   "cell_type": "code",
   "execution_count": null,
   "metadata": {},
   "outputs": [],
   "source": [
    "ventas_1_2024 = ventas_mes_func(1)\n",
    "ventas_2_2024 = ventas_mes_func(2)\n",
    "ventas_3_2024 = ventas_mes_func(3)\n",
    "ventas_4_2024 = ventas_mes_func(4)\n",
    "ventas_5_2024 = ventas_mes_func(5)\n",
    "ventas_6_2024 = ventas_mes_func(6)\n",
    "ventas_7_2024 = ventas_mes_func(7)\n",
    "ventas_8_2024 = ventas_mes_func(8)\n",
    "ventas_9_2024 = ventas_mes_func(9)"
   ]
  },
  {
   "cell_type": "code",
   "execution_count": null,
   "metadata": {},
   "outputs": [],
   "source": [
    "cols_df = ['fact_doc_id', 'name', 'invoice_date', 'state', 'invoice_origin', 'module_origin', 'pos_doc_id', 'move_type', 'reversal_move_id', 'reversed_entry_id', \n",
    "           'journal_id', 'company_id', 'partner_id', 'partner_name', 'salesperson_id', 'salesperson_name', 'active', 'sale_team_id', 'sale_team_description', \n",
    "           'business_model', 'warehouse', 'fact_line_id', 'product_id', 'product_name', 'prod_codigo', 'prod_linea', 'quantity', 'price_unit', 'discount', 'price_subtotal']\n",
    "\n",
    "ventas_1_2024_descript = pd.merge(pd.merge(pd.merge(ventas_1_2024, descrip_sales_users_df, how='left', on='salesperson_id'), descrip_product_df, how='left', on='product_id'), descrip_partner_df, how='left', on='partner_id')[cols_df]\n",
    "ventas_2_2024_descript = pd.merge(pd.merge(pd.merge(ventas_2_2024, descrip_sales_users_df, how='left', on='salesperson_id'), descrip_product_df, how='left', on='product_id'), descrip_partner_df, how='left', on='partner_id')[cols_df]\n",
    "ventas_3_2024_descript = pd.merge(pd.merge(pd.merge(ventas_3_2024, descrip_sales_users_df, how='left', on='salesperson_id'), descrip_product_df, how='left', on='product_id'), descrip_partner_df, how='left', on='partner_id')[cols_df]\n",
    "ventas_4_2024_descript = pd.merge(pd.merge(pd.merge(ventas_4_2024, descrip_sales_users_df, how='left', on='salesperson_id'), descrip_product_df, how='left', on='product_id'), descrip_partner_df, how='left', on='partner_id')[cols_df]\n",
    "ventas_5_2024_descript = pd.merge(pd.merge(pd.merge(ventas_5_2024, descrip_sales_users_df, how='left', on='salesperson_id'), descrip_product_df, how='left', on='product_id'), descrip_partner_df, how='left', on='partner_id')[cols_df]\n",
    "ventas_6_2024_descript = pd.merge(pd.merge(pd.merge(ventas_6_2024, descrip_sales_users_df, how='left', on='salesperson_id'), descrip_product_df, how='left', on='product_id'), descrip_partner_df, how='left', on='partner_id')[cols_df]\n",
    "ventas_7_2024_descript = pd.merge(pd.merge(pd.merge(ventas_7_2024, descrip_sales_users_df, how='left', on='salesperson_id'), descrip_product_df, how='left', on='product_id'), descrip_partner_df, how='left', on='partner_id')[cols_df]\n",
    "ventas_8_2024_descript = pd.merge(pd.merge(pd.merge(ventas_8_2024, descrip_sales_users_df, how='left', on='salesperson_id'), descrip_product_df, how='left', on='product_id'), descrip_partner_df, how='left', on='partner_id')[cols_df]\n",
    "ventas_9_2024_descript = pd.merge(pd.merge(pd.merge(ventas_9_2024, descrip_sales_users_df, how='left', on='salesperson_id'), descrip_product_df, how='left', on='product_id'), descrip_partner_df, how='left', on='partner_id')[cols_df]\n",
    "\n",
    "ventas_año_2024_descript = pd.concat([\n",
    "                                ventas_1_2024_descript,\n",
    "                                ventas_2_2024_descript,\n",
    "                                ventas_3_2024_descript,\n",
    "                                ventas_4_2024_descript,\n",
    "                                ventas_5_2024_descript,\n",
    "                                ventas_6_2024_descript,\n",
    "                                ventas_7_2024_descript,\n",
    "                                ventas_8_2024_descript,\n",
    "                                ventas_9_2024_descript,\n",
    "                                ],\n",
    "                                ignore_index=True)\n"
   ]
  },
  {
   "cell_type": "code",
   "execution_count": null,
   "metadata": {},
   "outputs": [],
   "source": [
    "with engine.connect() as conn, conn.begin():  \n",
    "    ventas_1_2024_descript.to_sql(name = 'ventas_1_2024', index= False, con = conn, if_exists = 'replace')\n",
    "    ventas_2_2024_descript.to_sql(name = 'ventas_2_2024', index= False, con = conn, if_exists = 'replace')\n",
    "    ventas_3_2024_descript.to_sql(name = 'ventas_3_2024', index= False, con = conn, if_exists = 'replace')\n",
    "    ventas_4_2024_descript.to_sql(name = 'ventas_4_2024', index= False, con = conn, if_exists = 'replace')\n",
    "    ventas_5_2024_descript.to_sql(name = 'ventas_5_2024', index= False, con = conn, if_exists = 'replace')\n",
    "    ventas_6_2024_descript.to_sql(name = 'ventas_6_2024', index= False, con = conn, if_exists = 'replace')\n",
    "    ventas_7_2024_descript.to_sql(name = 'ventas_7_2024', index= False, con = conn, if_exists = 'replace')\n",
    "    ventas_8_2024_descript.to_sql(name = 'ventas_8_2024', index= False, con = conn, if_exists = 'replace')\n",
    "    ventas_9_2024_descript.to_sql(name = 'ventas_9_2024', index= False, con = conn, if_exists = 'replace')\n",
    "    ventas_año_2024_descript.to_sql(name = 'ventas_año_2024', index= False, con = conn, if_exists = 'replace')\n",
    "\n",
    "engine.dispose()\n",
    "\n",
    "print('Se registró con éxito en la base de datos')"
   ]
  }
 ],
 "metadata": {
  "kernelspec": {
   "display_name": "env_algoritmo-comisiones-Odoo",
   "language": "python",
   "name": "python3"
  },
  "language_info": {
   "codemirror_mode": {
    "name": "ipython",
    "version": 3
   },
   "file_extension": ".py",
   "mimetype": "text/x-python",
   "name": "python",
   "nbconvert_exporter": "python",
   "pygments_lexer": "ipython3",
   "version": "3.11.5"
  }
 },
 "nbformat": 4,
 "nbformat_minor": 2
}
