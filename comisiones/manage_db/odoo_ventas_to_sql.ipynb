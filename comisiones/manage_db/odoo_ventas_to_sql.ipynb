{
 "cells": [
  {
   "cell_type": "code",
   "execution_count": 1,
   "metadata": {},
   "outputs": [],
   "source": [
    "from sys import path\n",
    "from pathlib import Path\n",
    "from sqlalchemy import create_engine\n",
    "\n",
    "import pandas as pd\n",
    "import numpy as np\n",
    "pd.options.display.float_format = '{:,.2f}'.format\n",
    "\n",
    "# Se genera la ruta absoluta al directorio \"Comisiones\"\n",
    "path_package = str(Path.cwd().parent)\n",
    "\n",
    "# Se agrega la ruta al directorio sys.path\n",
    "path.append(path_package)\n",
    "\n",
    "# Se define la ruta para la base de datos local SQLite\n",
    "db_file = 'comisiones.db'\n",
    "db_file_path_str = str(Path().cwd().parent.parent.joinpath(f'data/{db_file}'))\n",
    "\n",
    "# Se crea el objeto engine para trabajarlo con los metodos de pandas\n",
    "engine = create_engine(f'sqlite:///{db_file_path_str}')\n",
    "\n",
    "\n",
    "from algoritmos.algoritmo_ventas_mes import ventas_mes_func\n",
    "from descriptions.descriptions import descrip_sales_users_df, descrip_product_df, descrip_partner_df"
   ]
  },
  {
   "cell_type": "code",
   "execution_count": 2,
   "metadata": {},
   "outputs": [],
   "source": [
    "ventas_enero = ventas_mes_func(1)\n",
    "ventas_febrero = ventas_mes_func(2)\n",
    "ventas_marzo = ventas_mes_func(3)\n",
    "ventas_abril = ventas_mes_func(4)\n",
    "ventas_mayo = ventas_mes_func(5)\n",
    "\n",
    "cols_df = ['fact_doc_id', 'name', 'invoice_date', 'state', 'invoice_origin', 'module_origin', 'pos_doc_id', 'move_type', 'reversal_move_id', 'reversed_entry_id', \n",
    "           'journal_id', 'company_id', 'partner_id', 'partner_name', 'salesperson_id', 'salesperson_name', 'active', 'sale_team_id', 'sale_team_description', \n",
    "           'business_model', 'warehouse', 'fact_line_id', 'product_id', 'product_name', 'prod_código', 'prod_línea', 'quantity', 'price_unit', 'discount', 'price_subtotal']\n",
    "\n",
    "ventas_enero_descript = pd.merge(pd.merge(pd.merge(ventas_enero, descrip_sales_users_df, how='left', on='salesperson_id'), descrip_product_df, how='left', on='product_id'), descrip_partner_df, how='left', on='partner_id')[cols_df]\n",
    "ventas_febrero_descript = pd.merge(pd.merge(pd.merge(ventas_febrero, descrip_sales_users_df, how='left', on='salesperson_id'), descrip_product_df, how='left', on='product_id'), descrip_partner_df, how='left', on='partner_id')[cols_df]\n",
    "ventas_marzo_descript = pd.merge(pd.merge(pd.merge(ventas_marzo, descrip_sales_users_df, how='left', on='salesperson_id'), descrip_product_df, how='left', on='product_id'), descrip_partner_df, how='left', on='partner_id')[cols_df]\n",
    "ventas_abril_descript = pd.merge(pd.merge(pd.merge(ventas_abril, descrip_sales_users_df, how='left', on='salesperson_id'), descrip_product_df, how='left', on='product_id'), descrip_partner_df, how='left', on='partner_id')[cols_df]\n",
    "ventas_mayo_descript = pd.merge(pd.merge(pd.merge(ventas_mayo, descrip_sales_users_df, how='left', on='salesperson_id'), descrip_product_df, how='left', on='product_id'), descrip_partner_df, how='left', on='partner_id')[cols_df]\n",
    "\n",
    "ventas_año_descript = pd.concat([\n",
    "                                ventas_enero_descript,\n",
    "                                ventas_febrero_descript,\n",
    "                                ventas_marzo_descript,\n",
    "                                ventas_abril_descript,\n",
    "                                ventas_mayo_descript\n",
    "                                ]\n",
    "                                , ignore_index=True)\n"
   ]
  },
  {
   "cell_type": "code",
   "execution_count": 3,
   "metadata": {},
   "outputs": [],
   "source": [
    "with engine.connect() as conn, conn.begin():  \n",
    "    ventas_enero_descript.to_sql(name = 'ventas_enero', index= False, con = conn, if_exists = 'replace')\n",
    "    ventas_febrero_descript.to_sql(name = 'ventas_febrero', index= False, con = conn, if_exists = 'replace')\n",
    "    ventas_marzo_descript.to_sql(name = 'ventas_marzo', index= False, con = conn, if_exists = 'replace')\n",
    "    ventas_abril_descript.to_sql(name = 'ventas_abril', index= False, con = conn, if_exists = 'replace')\n",
    "    ventas_mayo_descript.to_sql(name = 'ventas_mayo', index= False, con = conn, if_exists = 'replace')\n",
    "    ventas_año_descript.to_sql(name = 'ventas_año', index= False, con = conn, if_exists = 'replace')\n",
    "\n",
    "engine.dispose()"
   ]
  }
 ],
 "metadata": {
  "kernelspec": {
   "display_name": "env_algoritmo-comisiones-Odoo",
   "language": "python",
   "name": "python3"
  },
  "language_info": {
   "codemirror_mode": {
    "name": "ipython",
    "version": 3
   },
   "file_extension": ".py",
   "mimetype": "text/x-python",
   "name": "python",
   "nbconvert_exporter": "python",
   "pygments_lexer": "ipython3",
   "version": "3.11.5"
  }
 },
 "nbformat": 4,
 "nbformat_minor": 2
}
