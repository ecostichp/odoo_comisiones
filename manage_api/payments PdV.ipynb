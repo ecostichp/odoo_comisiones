{
 "cells": [
  {
   "cell_type": "code",
   "execution_count": 9,
   "metadata": {},
   "outputs": [],
   "source": [
    "import xmlrpc.client\n",
    "import os\n",
    "\n",
    "api_url = os.environ.get('ODOO_URL_API')\n",
    "# api_db = os.environ.get('ODOO_DB_API')\n",
    "api_db = os.environ.get('ODOO_DB_PRUEBA_API')\n",
    "api_username = os.environ.get('ODOO_USERNAME_API')\n",
    "api_clave = os.environ.get('ODOO_CLAVE_API')\n",
    "\n",
    "common = xmlrpc.client.ServerProxy(f'{api_url}/xmlrpc/2/common')\n",
    "uid = common.authenticate(api_db, api_username, api_clave, {})\n",
    "models = xmlrpc.client.ServerProxy(f'{api_url}/xmlrpc/2/object')"
   ]
  },
  {
   "cell_type": "code",
   "execution_count": 36,
   "metadata": {},
   "outputs": [
    {
     "data": {
      "text/plain": [
       "[{'id': 19306,\n",
       "  'name': False,\n",
       "  'pos_order_id': [13560, 'PdV CSL/5667'],\n",
       "  'amount': 50.0,\n",
       "  'payment_method_id': [28, 'Efectivo A1'],\n",
       "  'payment_date': '2024-04-20 05:25:50',\n",
       "  'currency_id': [32, 'MXN'],\n",
       "  'currency_rate': 1.0,\n",
       "  'partner_id': [15408, 'GUADALUPE (SR.PINACHO)'],\n",
       "  'session_id': [194, 'POS/00194'],\n",
       "  'company_id': [1, 'La Casa Del Carpintero De Los Cabos'],\n",
       "  'card_type': '',\n",
       "  'cardholder_name': '',\n",
       "  'transaction_id': '',\n",
       "  'payment_status': '',\n",
       "  'ticket': '',\n",
       "  'is_change': False,\n",
       "  'account_move_id': False,\n",
       "  'display_name': '$\\xa050.00',\n",
       "  'create_uid': [2, 'Lic. Costich'],\n",
       "  'create_date': '2024-04-20 05:25:51',\n",
       "  'write_uid': [2, 'Lic. Costich'],\n",
       "  'write_date': '2024-04-20 05:25:51',\n",
       "  'online_account_payment_id': False}]"
      ]
     },
     "execution_count": 36,
     "metadata": {},
     "output_type": "execute_result"
    }
   ],
   "source": [
    "# ids = models.execute_kw(api_db, uid, api_clave, 'pos.payment', 'search', [[(\"session_id.id\", \"=\", 193)]])\n",
    "wep = models.execute_kw(api_db, uid, api_clave, 'pos.payment', 'read', [[19306]])\n",
    "wep"
   ]
  }
 ],
 "metadata": {
  "kernelspec": {
   "display_name": "env_algoritmo-comisiones-Odoo",
   "language": "python",
   "name": "python3"
  },
  "language_info": {
   "codemirror_mode": {
    "name": "ipython",
    "version": 3
   },
   "file_extension": ".py",
   "mimetype": "text/x-python",
   "name": "python",
   "nbconvert_exporter": "python",
   "pygments_lexer": "ipython3",
   "version": "3.11.5"
  }
 },
 "nbformat": 4,
 "nbformat_minor": 2
}
