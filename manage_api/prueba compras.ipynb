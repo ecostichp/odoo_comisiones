{
 "cells": [
  {
   "cell_type": "code",
   "execution_count": 1,
   "metadata": {},
   "outputs": [],
   "source": [
    "import xmlrpc.client\n",
    "import os\n",
    "\n",
    "api_url = os.environ.get('ODOO_URL_API')\n",
    "# api_db = os.environ.get('ODOO_DB_API')\n",
    "api_db = os.environ.get('ODOO_DB_PRUEBA_API')\n",
    "api_username = os.environ.get('ODOO_USERNAME_API')\n",
    "api_clave = os.environ.get('ODOO_CLAVE_API')\n",
    "\n",
    "common = xmlrpc.client.ServerProxy(f'{api_url}/xmlrpc/2/common')\n",
    "uid = common.authenticate(api_db, api_username, api_clave, {})\n",
    "models = xmlrpc.client.ServerProxy(f'{api_url}/xmlrpc/2/object')"
   ]
  },
  {
   "cell_type": "code",
   "execution_count": 2,
   "metadata": {},
   "outputs": [
    {
     "data": {
      "text/plain": [
       "[{'id': 10146,\n",
       "  'analytic_distribution': False,\n",
       "  'analytic_distribution_search': False,\n",
       "  'analytic_precision': 2,\n",
       "  'name': '[100056] Cinta D/Espuma 1/2x75 S-10056 CE *100056*',\n",
       "  'sequence': 10,\n",
       "  'product_qty': 5.0,\n",
       "  'product_uom_qty': 5.0,\n",
       "  'date_planned': '2024-04-16 05:04:45',\n",
       "  'discount': 50.0,\n",
       "  'taxes_id': [23],\n",
       "  'product_uom': [1, 'Unidades'],\n",
       "  'product_uom_category_id': [1, 'Unit'],\n",
       "  'product_id': [12432, '[100056] Cinta D/Espuma 1/2x75 S-10056 CE *100056*'],\n",
       "  'product_type': 'product',\n",
       "  'price_unit': 132.93,\n",
       "  'price_unit_discounted': 66.465,\n",
       "  'price_subtotal': 332.33,\n",
       "  'price_total': 385.5,\n",
       "  'price_tax': 53.17,\n",
       "  'order_id': [1704, 'P01691'],\n",
       "  'company_id': [1, 'La Casa Del Carpintero De Los Cabos'],\n",
       "  'state': 'purchase',\n",
       "  'invoice_lines': [235127],\n",
       "  'qty_invoiced': 5.0,\n",
       "  'qty_received_method': 'stock_moves',\n",
       "  'qty_received': 5.0,\n",
       "  'qty_received_manual': 0.0,\n",
       "  'qty_to_invoice': 0.0,\n",
       "  'partner_id': [413, 'Emilio Costich Lopez'],\n",
       "  'currency_id': [32, 'MXN'],\n",
       "  'date_order': '2024-04-16 05:04:45',\n",
       "  'date_approve': '2024-04-16 05:05:31',\n",
       "  'product_packaging_id': False,\n",
       "  'product_packaging_qty': 0.0,\n",
       "  'tax_calculation_rounding_method': 'round_per_line',\n",
       "  'display_type': False,\n",
       "  'display_name': '[100056] Cinta D/Espuma 1/2x75 S-10056 CE *100056*',\n",
       "  'create_uid': [2, 'Lic. Costich'],\n",
       "  'create_date': '2024-04-16 05:05:31',\n",
       "  'write_uid': [2, 'Lic. Costich'],\n",
       "  'write_date': '2024-04-16 05:05:43',\n",
       "  'move_ids': [244147],\n",
       "  'orderpoint_id': False,\n",
       "  'move_dest_ids': [],\n",
       "  'product_description_variants': False,\n",
       "  'propagate_cancel': True,\n",
       "  'forecasted_issue': False,\n",
       "  'sale_order_id': False,\n",
       "  'sale_line_id': False}]"
      ]
     },
     "execution_count": 2,
     "metadata": {},
     "output_type": "execute_result"
    }
   ],
   "source": [
    "ids = models.execute_kw(api_db, uid, api_clave, 'purchase.order.line', 'search', [[(\"order_id.name\", \"=\", \"P01691\")]])\n",
    "wep = models.execute_kw(api_db, uid, api_clave, 'purchase.order.line', 'read', [ids])\n",
    "wep"
   ]
  },
  {
   "cell_type": "code",
   "execution_count": 3,
   "metadata": {},
   "outputs": [
    {
     "name": "stdout",
     "output_type": "stream",
     "text": [
      "[1933] Estopa (Bolsa 1Kg) \"Ardilla\" *1933*\n",
      "[1933] Estopa (Bolsa 1Kg) \"Ardilla\" *1933*\n",
      "[1933] Estopa (Bolsa 1Kg) \"Ardilla\" *1933*\n",
      "[1933] Estopa (Bolsa 1Kg) \"Ardilla\" *1933*\n",
      "[1933] Estopa (Bolsa 1Kg) \"Ardilla\" *1933*\n",
      "[1933] Estopa (Bolsa 1Kg) \"Ardilla\" *1933*\n",
      "[1933] Estopa (Bolsa 1Kg) \"Ardilla\" *1933*\n",
      "[1933] Estopa (Bolsa 1Kg) \"Ardilla\" *1933*\n",
      "[1933] Estopa (Bolsa 1Kg) \"Ardilla\" *1933*\n",
      "[1933] Estopa (Bolsa 1Kg) \"Ardilla\" *1933*\n",
      "[1933] Estopa (Bolsa 1Kg) \"Ardilla\" *1933*\n",
      "[1933] Estopa (Bolsa 1Kg) \"Ardilla\" *1933*\n"
     ]
    }
   ],
   "source": [
    "for i in wep:\n",
    "    print(i['name'])"
   ]
  }
 ],
 "metadata": {
  "kernelspec": {
   "display_name": "env_algoritmo-comisiones-Odoo",
   "language": "python",
   "name": "python3"
  },
  "language_info": {
   "codemirror_mode": {
    "name": "ipython",
    "version": 3
   },
   "file_extension": ".py",
   "mimetype": "text/x-python",
   "name": "python",
   "nbconvert_exporter": "python",
   "pygments_lexer": "ipython3",
   "version": "3.11.5"
  }
 },
 "nbformat": 4,
 "nbformat_minor": 2
}
