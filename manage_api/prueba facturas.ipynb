{
 "cells": [
  {
   "cell_type": "code",
   "execution_count": null,
   "metadata": {},
   "outputs": [],
   "source": [
    "import xmlrpc.client\n",
    "import os\n",
    "\n",
    "api_url = os.environ.get('ODOO_URL_API')\n",
    "# api_db = os.environ.get('ODOO_DB_API')\n",
    "api_db = os.environ.get('ODOO_DB_PRUEBA_API')\n",
    "api_username = os.environ.get('ODOO_USERNAME_API')\n",
    "api_clave = os.environ.get('ODOO_CLAVE_API')\n",
    "\n",
    "common = xmlrpc.client.ServerProxy(f'{api_url}/xmlrpc/2/common')\n",
    "uid = common.authenticate(api_db, api_username, api_clave, {})\n",
    "models = xmlrpc.client.ServerProxy(f'{api_url}/xmlrpc/2/object')"
   ]
  },
  {
   "cell_type": "code",
   "execution_count": null,
   "metadata": {},
   "outputs": [],
   "source": [
    "# ids = models.execute_kw(api_db, uid, api_clave, 'account.move', 'search_count', [[\"&\", (\"state\", \"=\", \"posted\"), \"&\", (\"date\", \">\", \"2024-04-01\"), (\"move_type\", \"=\", \"entry\")]])\n",
    "# ids = models.execute_kw(api_db, uid, api_clave, 'account.move', 'search', [[\"&\", (\"state\", \"=\", \"posted\"), \"&\", (\"date\", \">\", \"2024-04-01\"), (\"move_type\", \"=\", \"entry\")]])\n",
    "wep = models.execute_kw(api_db, uid, api_clave, 'account.move', 'read', [[46343, 46524, 52977]])"
   ]
  },
  {
   "cell_type": "code",
   "execution_count": null,
   "metadata": {},
   "outputs": [],
   "source": [
    "ids = models.execute_kw(api_db, uid, api_clave, 'account.move', 'search', [[(\"pos_order_ids\", \"=\", 13435)]])\n",
    "wep = models.execute_kw(api_db, uid, api_clave, 'account.move', 'read', [ids])\n",
    "wep"
   ]
  },
  {
   "cell_type": "code",
   "execution_count": null,
   "metadata": {},
   "outputs": [],
   "source": [
    "account_move_line_fields = models.execute_kw(api_db, uid, api_clave, 'account.move.line', 'fields_get', [])"
   ]
  },
  {
   "cell_type": "code",
   "execution_count": null,
   "metadata": {},
   "outputs": [],
   "source": [
    "for i in account_move_line_fields.keys():\n",
    "    try:\n",
    "        models.execute_kw(api_db, uid, api_clave, 'account.move.line', 'read', [126870], {'fields': [i]})\n",
    "    except:\n",
    "        print(i)"
   ]
  },
  {
   "cell_type": "code",
   "execution_count": null,
   "metadata": {},
   "outputs": [],
   "source": [
    "list_fields = list(account_move_line_fields.keys())\n",
    "list_fields.remove('compute_all_tax')"
   ]
  },
  {
   "cell_type": "code",
   "execution_count": null,
   "metadata": {},
   "outputs": [],
   "source": [
    "# facts_line_odoo = models.execute_kw(api_db, uid, api_clave, 'account.move.line', 'read', [wep[0]['line_ids']], {'fields': list_fields})\n",
    "facts_line_odoo = models.execute_kw(api_db, uid, api_clave, 'account.move.line', 'read', [[172865]], {'fields': list_fields})"
   ]
  },
  {
   "cell_type": "code",
   "execution_count": null,
   "metadata": {},
   "outputs": [],
   "source": [
    "facts_line_odoo"
   ]
  }
 ],
 "metadata": {
  "kernelspec": {
   "display_name": "env_algoritmo-comisiones-Odoo",
   "language": "python",
   "name": "python3"
  },
  "language_info": {
   "codemirror_mode": {
    "name": "ipython",
    "version": 3
   },
   "file_extension": ".py",
   "mimetype": "text/x-python",
   "name": "python",
   "nbconvert_exporter": "python",
   "pygments_lexer": "ipython3",
   "version": "3.11.5"
  }
 },
 "nbformat": 4,
 "nbformat_minor": 2
}
