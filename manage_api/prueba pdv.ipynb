{
 "cells": [
  {
   "cell_type": "code",
   "execution_count": 2,
   "metadata": {},
   "outputs": [],
   "source": [
    "import xmlrpc.client\n",
    "import os\n",
    "import pandas as pd\n",
    "import numpy as np\n",
    "import matplotlib.pyplot as plt\n",
    "import seaborn as sns\n",
    "\n",
    "api_url = os.environ.get('ODOO_URL_API')\n",
    "api_db = os.environ.get('ODOO_DB_API')\n",
    "api_username = os.environ.get('ODOO_USERNAME_API')\n",
    "api_clave = os.environ.get('ODOO_CLAVE_API')\n",
    "\n",
    "common = xmlrpc.client.ServerProxy(f'{api_url}/xmlrpc/2/common')\n",
    "uid = common.authenticate(api_db, api_username, api_clave, {})\n",
    "models = xmlrpc.client.ServerProxy(f'{api_url}/xmlrpc/2/object')"
   ]
  },
  {
   "cell_type": "code",
   "execution_count": 3,
   "metadata": {},
   "outputs": [],
   "source": [
    "ids = models.execute_kw(api_db, uid, api_clave, 'pos.order', 'search', [[(\"name\", \"ilike\", \"PdV SJC/4362\")]])\n",
    "wep = models.execute_kw(api_db, uid, api_clave, 'pos.order', 'read', [ids])"
   ]
  },
  {
   "cell_type": "code",
   "execution_count": 4,
   "metadata": {},
   "outputs": [
    {
     "data": {
      "text/plain": [
       "[{'id': 7579,\n",
       "  'access_url': '#',\n",
       "  'access_token': '59133c23-7deb-4256-80ae-3de5490d3a9e',\n",
       "  'access_warning': '',\n",
       "  'name': 'PdV SJC/4362',\n",
       "  'last_order_preparation_change': '{}',\n",
       "  'date_order': '2024-03-01 00:47:35',\n",
       "  'user_id': [238, 'Karely Guadalupe Green Ceseña'],\n",
       "  'amount_tax': 37.32,\n",
       "  'amount_total': 270.56,\n",
       "  'amount_paid': 270.56,\n",
       "  'amount_return': 0.0,\n",
       "  'margin': 88.68,\n",
       "  'margin_percent': 0.38020000000000004,\n",
       "  'is_total_cost_computed': True,\n",
       "  'lines': [18933],\n",
       "  'company_id': [1, 'La Casa Del Carpintero De Los Cabos'],\n",
       "  'country_code': 'MX',\n",
       "  'pricelist_id': False,\n",
       "  'partner_id': [14807, 'PROMOTORA LOS ANGELES CABOS'],\n",
       "  'sequence_number': 120,\n",
       "  'session_id': [114, 'POS/00114'],\n",
       "  'config_id': [7, 'PdV SJC (Karely Guadalupe Green Ceseña)'],\n",
       "  'currency_id': [32, 'MXN'],\n",
       "  'currency_rate': 1.0,\n",
       "  'state': 'invoiced',\n",
       "  'account_move': [34070, 'F2-CC/2024/04270 (PdV SJC/4362)'],\n",
       "  'picking_ids': [18378],\n",
       "  'picking_count': 1,\n",
       "  'failed_pickings': False,\n",
       "  'picking_type_id': [18, 'Almacén 2 - San José Del Cabo: Órdenes de PdV'],\n",
       "  'procurement_group_id': False,\n",
       "  'note': False,\n",
       "  'nb_print': 0,\n",
       "  'pos_reference': 'Orden 00114-003-0120',\n",
       "  'sale_journal': [92, 'Punto De Venta A2'],\n",
       "  'fiscal_position_id': False,\n",
       "  'payment_ids': [10809],\n",
       "  'session_move_id': [34142, 'PV1A2/2024/02/3059 (POS/00114)'],\n",
       "  'to_invoice': True,\n",
       "  'shipping_date': False,\n",
       "  'is_invoiced': True,\n",
       "  'is_tipped': False,\n",
       "  'tip_amount': 0.0,\n",
       "  'refund_orders_count': 0,\n",
       "  'is_refunded': False,\n",
       "  'refunded_order_ids': [],\n",
       "  'has_refundable_lines': True,\n",
       "  'refunded_orders_count': 0,\n",
       "  'ticket_code': 'p4i4a',\n",
       "  'tracking_number': '420',\n",
       "  'display_name': 'PdV SJC/4362',\n",
       "  'create_uid': [238, 'Karely Guadalupe Green Ceseña'],\n",
       "  'create_date': '2024-03-01 00:47:35',\n",
       "  'write_uid': [238, 'Karely Guadalupe Green Ceseña'],\n",
       "  'write_date': '2024-03-01 00:47:35',\n",
       "  'l10n_mx_edi_is_cfdi_needed': True,\n",
       "  'l10n_mx_edi_document_ids': [],\n",
       "  'l10n_mx_edi_cfdi_state': False,\n",
       "  'l10n_mx_edi_cfdi_sat_state': False,\n",
       "  'l10n_mx_edi_cfdi_attachment_id': False,\n",
       "  'l10n_mx_edi_update_sat_needed': False,\n",
       "  'l10n_mx_edi_cfdi_to_public': False,\n",
       "  'l10n_mx_edi_usage': 'G03',\n",
       "  'l10n_mx_edi_cfdi_uuid': False,\n",
       "  'l10n_mx_edi_payment_method_id': [22, 'Por definir'],\n",
       "  'employee_id': [222, 'Karely Guadalupe Green Ceseña'],\n",
       "  'cashier': 'Karely Guadalupe Green Ceseña',\n",
       "  'online_payment_method_id': False,\n",
       "  'next_online_payment_amount': 0.0,\n",
       "  'crm_team_id': [6, 'A2 SJC'],\n",
       "  'sale_order_count': 1}]"
      ]
     },
     "execution_count": 4,
     "metadata": {},
     "output_type": "execute_result"
    }
   ],
   "source": [
    "wep"
   ]
  },
  {
   "cell_type": "code",
   "execution_count": 4,
   "metadata": {},
   "outputs": [],
   "source": [
    "pos_order_line_fields = models.execute_kw(api_db, uid, api_clave, 'pos.order.line', 'fields_get', [])"
   ]
  },
  {
   "cell_type": "code",
   "execution_count": 5,
   "metadata": {},
   "outputs": [],
   "source": [
    "for i in pos_order_line_fields.keys():\n",
    "    try:\n",
    "        models.execute_kw(api_db, uid, api_clave, 'pos.order.line', 'read', [18933], {'fields': [i]})\n",
    "    except:\n",
    "        print(i)"
   ]
  },
  {
   "cell_type": "code",
   "execution_count": 6,
   "metadata": {},
   "outputs": [],
   "source": [
    "list_fields = list(pos_order_line_fields.keys())\n",
    "# list_fields.remove('wep')"
   ]
  },
  {
   "cell_type": "code",
   "execution_count": 8,
   "metadata": {},
   "outputs": [
    {
     "data": {
      "text/plain": [
       "[{'id': 18933,\n",
       "  'company_id': [1, 'La Casa Del Carpintero De Los Cabos'],\n",
       "  'name': 'PdV SJC/11248',\n",
       "  'skip_change': False,\n",
       "  'notice': False,\n",
       "  'product_id': [12561,\n",
       "   '[12386] Faja C/Tirantes y 3er Cint Mediana#14216 *12386*'],\n",
       "  'attribute_value_ids': [],\n",
       "  'custom_attribute_value_ids': [],\n",
       "  'price_unit': 233.24,\n",
       "  'qty': 1.0,\n",
       "  'price_subtotal': 233.24,\n",
       "  'price_subtotal_incl': 270.56,\n",
       "  'price_extra': 0.0,\n",
       "  'margin': 88.68,\n",
       "  'margin_percent': 0.38020000000000004,\n",
       "  'total_cost': 144.56,\n",
       "  'is_total_cost_computed': True,\n",
       "  'discount': 0.0,\n",
       "  'order_id': [7579, 'PdV SJC/4362'],\n",
       "  'tax_ids': [14],\n",
       "  'tax_ids_after_fiscal_position': [14],\n",
       "  'pack_lot_ids': [],\n",
       "  'product_uom_id': [1, 'Unidades'],\n",
       "  'currency_id': [32, 'MXN'],\n",
       "  'full_product_name': 'Faja C/Tirantes y 3er Cint Mediana#14216 *12386*',\n",
       "  'customer_note': False,\n",
       "  'refund_orderline_ids': [],\n",
       "  'refunded_orderline_id': False,\n",
       "  'refunded_qty': 0.0,\n",
       "  'uuid': 'b2f18f1f-347f-461c-bce4-684e7c554f9a',\n",
       "  'combo_parent_id': False,\n",
       "  'combo_line_ids': [],\n",
       "  'display_name': '[12386] Faja C/Tirantes y 3er Cint Mediana#14216 *12386*',\n",
       "  'create_uid': [238, 'Karely Guadalupe Green Ceseña'],\n",
       "  'create_date': '2024-03-01 00:47:35',\n",
       "  'write_uid': [238, 'Karely Guadalupe Green Ceseña'],\n",
       "  'write_date': '2024-03-01 00:47:35',\n",
       "  'sale_order_origin_id': [10640, 'S10640'],\n",
       "  'sale_order_line_id': [29031,\n",
       "   'S10640 - [12386] Faja C/Tirantes y 3er Cint Mediana#14216 *12386* (PROMOTORA LOS ANGELES CABOS)'],\n",
       "  'down_payment_details': False}]"
      ]
     },
     "execution_count": 8,
     "metadata": {},
     "output_type": "execute_result"
    }
   ],
   "source": [
    "ids2 = wep[0]['lines']\n",
    "wep2 = models.execute_kw(api_db, uid, api_clave, 'pos.order.line', 'read', [ids2], {'fields': list_fields})\n",
    "wep2"
   ]
  }
 ],
 "metadata": {
  "kernelspec": {
   "display_name": "env_algoritmo-comisiones-Odoo",
   "language": "python",
   "name": "python3"
  },
  "language_info": {
   "codemirror_mode": {
    "name": "ipython",
    "version": 3
   },
   "file_extension": ".py",
   "mimetype": "text/x-python",
   "name": "python",
   "nbconvert_exporter": "python",
   "pygments_lexer": "ipython3",
   "version": "3.11.5"
  }
 },
 "nbformat": 4,
 "nbformat_minor": 2
}
