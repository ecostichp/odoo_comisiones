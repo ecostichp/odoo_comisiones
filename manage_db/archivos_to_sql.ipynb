{
 "cells": [
  {
   "cell_type": "code",
   "execution_count": 1,
   "metadata": {},
   "outputs": [],
   "source": [
    "import pandas as pd\n",
    "from sqlalchemy import create_engine\n",
    "from pathlib import Path\n",
    "\n",
    "db_file = 'localdb_algoritmo_comisiones.db'\n",
    "db_file_path_str = str(Path().cwd().parent.joinpath(f'data/{db_file}'))\n",
    "\n",
    "engine = create_engine(f'sqlite:///{db_file_path_str}')"
   ]
  },
  {
   "cell_type": "markdown",
   "metadata": {},
   "source": [
    "Crear los DataFrames desde los archivos excel"
   ]
  },
  {
   "cell_type": "code",
   "execution_count": 13,
   "metadata": {},
   "outputs": [],
   "source": [
    "file1 = \"../data/Lineas Proveedores.xlsx\"\n",
    "sheet1 = \"Hoja1\"\n",
    "df1 = pd.read_excel(file1, sheet1)\n",
    "df1.columns = ['prod_código', 'prod_descripción', 'prod_línea']\n",
    "\n",
    "# file2 = \"../data/Lineas Proveedores.xlsx\"\n",
    "# sheet2 = \"Hoja1\"\n",
    "# df2 = pd.read_excel(file2, sheet2)\n",
    "\n",
    "# file3 = \"../data/Lineas Proveedores.xlsx\"\n",
    "# sheet3 = \"Hoja1\"\n",
    "# df3 = pd.read_excel(file3, sheet3)"
   ]
  },
  {
   "cell_type": "markdown",
   "metadata": {},
   "source": [
    "Guardar los DataFrames en SQLite"
   ]
  },
  {
   "cell_type": "code",
   "execution_count": 14,
   "metadata": {},
   "outputs": [],
   "source": [
    "with engine.connect() as conn, conn.begin():  \n",
    "    df1.to_sql(name = 'lineas_proveedores', index= False, con = conn, if_exists = 'replace')\n",
    "    # df2.to_sql(name = '_', index= False, con = conn, if_exists = 'replace')\n",
    "    # df3.to_sql(name = '_', index= False, con = conn, if_exists = 'replace')"
   ]
  },
  {
   "cell_type": "markdown",
   "metadata": {},
   "source": [
    "Cerrar el engine de manera correcta"
   ]
  },
  {
   "cell_type": "code",
   "execution_count": 3,
   "metadata": {},
   "outputs": [],
   "source": [
    "engine.dispose()"
   ]
  }
 ],
 "metadata": {
  "kernelspec": {
   "display_name": ".venv",
   "language": "python",
   "name": "python3"
  },
  "language_info": {
   "codemirror_mode": {
    "name": "ipython",
    "version": 3
   },
   "file_extension": ".py",
   "mimetype": "text/x-python",
   "name": "python",
   "nbconvert_exporter": "python",
   "pygments_lexer": "ipython3",
   "version": "3.11.5"
  },
  "orig_nbformat": 4
 },
 "nbformat": 4,
 "nbformat_minor": 2
}
