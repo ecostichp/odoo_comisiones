{
 "cells": [
  {
   "cell_type": "code",
   "execution_count": null,
   "metadata": {},
   "outputs": [],
   "source": [
    "import os\n",
    "import xmlrpc.client\n",
    "import pandas as pd\n",
    "from pathlib import Path\n",
    "\n",
    "api_url = os.environ.get('ODOO_URL_API')\n",
    "api_db = os.environ.get('ODOO_DB_API')\n",
    "api_username = os.environ.get('ODOO_USERNAME_API')\n",
    "api_clave = os.environ.get('ODOO_CLAVE_API')\n",
    "\n",
    "common = xmlrpc.client.ServerProxy(f'{api_url}/xmlrpc/2/common')\n",
    "uid = common.authenticate(api_db, api_username, api_clave, {})\n",
    "models = xmlrpc.client.ServerProxy(f'{api_url}/xmlrpc/2/object')"
   ]
  },
  {
   "cell_type": "code",
   "execution_count": null,
   "metadata": {},
   "outputs": [],
   "source": [
    "search_fact = [\"&\", \"&\", \"&\",\n",
    "          (\"state\", \"=\", \"posted\"),\n",
    "          (\"invoice_date\", \">=\", \"2024-04-01\"), \n",
    "          (\"invoice_date\", \"<=\", \"2024-04-30\"), \n",
    "          (\"journal_id\", \"in\", [10, 90, 30, 97])]\n",
    "\n",
    "fact_doc_fields = [\n",
    "          'name',\n",
    "          'invoice_date',\n",
    "          'state',\n",
    "          'reversed_entry_id',\n",
    "          'reversal_move_id',\n",
    "          'move_type',\n",
    "          ]\n",
    "\n",
    "fact_doc_new_ids = models.execute_kw(api_db, uid, api_clave, 'account.move', 'search', [search_fact])\n",
    "fact_doc_new_json = models.execute_kw(api_db, uid, api_clave, 'account.move', 'read', [fact_doc_new_ids], {'fields': fact_doc_fields})\n",
    "fact_doc_new_df = pd.DataFrame(fact_doc_new_json)\n",
    "\n",
    "fact_doc_new_df.loc[:, 'reversed_entry_id'] = fact_doc_new_df.loc[:, 'reversed_entry_id'].str.get(0).astype('Int64')\n",
    "\n",
    "fact_doc_new_df"
   ]
  },
  {
   "cell_type": "code",
   "execution_count": null,
   "metadata": {},
   "outputs": [],
   "source": [
    "fact_doc_new_df.loc[fact_doc_new_df['move_type'] == 'out_refund']"
   ]
  },
  {
   "cell_type": "code",
   "execution_count": null,
   "metadata": {},
   "outputs": [],
   "source": [
    "fact_doc_new_df.loc[(fact_doc_new_df['move_type'] == 'out_refund') & (fact_doc_new_df['reversed_entry_id'].isna())]"
   ]
  },
  {
   "cell_type": "code",
   "execution_count": null,
   "metadata": {},
   "outputs": [],
   "source": [
    "NCdf = fact_doc_new_df.loc[(fact_doc_new_df['move_type'] == 'out_refund') & (~fact_doc_new_df['reversed_entry_id'].isna())]\n",
    "NCdf"
   ]
  },
  {
   "cell_type": "code",
   "execution_count": null,
   "metadata": {},
   "outputs": [],
   "source": [
    "reversed_entry_ids = NCdf['reversed_entry_id']\n",
    "\n",
    "rev_ids_list = []\n",
    "for rid in reversed_entry_ids:\n",
    "    rev_ids_list.append(int(rid))\n",
    "\n",
    "rev_ids_list\n",
    "\n",
    "fact_doc_from_reversed_json = models.execute_kw(api_db, uid, api_clave, 'account.move', 'read', [rev_ids_list], {'fields': fact_doc_fields})\n",
    "fact_doc_from_reversed_df = pd.DataFrame(fact_doc_from_reversed_json)\n",
    "fact_doc_from_reversed_df.loc[:, 'reversal_move_id'] = fact_doc_from_reversed_df.loc[:, 'reversal_move_id'].str.get(0).astype('Int64')\n",
    "\n",
    "fact_doc_from_reversed_df"
   ]
  },
  {
   "cell_type": "code",
   "execution_count": null,
   "metadata": {},
   "outputs": [],
   "source": [
    "dffull = NCdf.merge(fact_doc_from_reversed_df.loc[fact_doc_from_reversed_df['state'] == 'cancel'], how='right', left_on='id', right_on='reversal_move_id')\n",
    "df = dffull[['id_x', 'name_x', 'invoice_date_x', 'state_x', 'id_y', 'name_y', 'invoice_date_y',\n",
    "       'state_y']]\n",
    "df"
   ]
  },
  {
   "cell_type": "code",
   "execution_count": null,
   "metadata": {},
   "outputs": [],
   "source": [
    "archivo = \"Notas de Crédito Vigentes vs Facturas Canceladas\"\n",
    "\n",
    "path = Path.home().joinpath('Desktop').joinpath(archivo +  \".xlsx\")\n",
    "\n",
    "df.to_excel(path)"
   ]
  }
 ],
 "metadata": {
  "kernelspec": {
   "display_name": "env_algoritmo-comisiones-Odoo",
   "language": "python",
   "name": "python3"
  },
  "language_info": {
   "codemirror_mode": {
    "name": "ipython",
    "version": 3
   },
   "file_extension": ".py",
   "mimetype": "text/x-python",
   "name": "python",
   "nbconvert_exporter": "python",
   "pygments_lexer": "ipython3",
   "version": "3.11.5"
  }
 },
 "nbformat": 4,
 "nbformat_minor": 2
}
