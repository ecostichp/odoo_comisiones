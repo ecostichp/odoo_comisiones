{
 "cells": [
  {
   "cell_type": "code",
   "execution_count": 1,
   "metadata": {},
   "outputs": [],
   "source": [
    "import pandas as pd\n",
    "import numpy as np\n",
    "from sqlalchemy import create_engine\n",
    "from datetime import datetime\n",
    "\n",
    "engine = create_engine(f'sqlite:///../data/algoritmo_comisiones_odoo.db')"
   ]
  },
  {
   "cell_type": "code",
   "execution_count": 2,
   "metadata": {},
   "outputs": [],
   "source": [
    "with engine.connect() as conn, conn.begin():  \n",
    "    dfven_Original = pd.read_sql_table('ven_Original', conn)\n",
    "\n",
    "engine.dispose()"
   ]
  },
  {
   "cell_type": "code",
   "execution_count": 3,
   "metadata": {},
   "outputs": [],
   "source": [
    "lista_vendedoras_ce = ['Mayra Angelica Parada Manjarrez','Irma Carvajal Flores','Brenda Luz Acosta Lopez','Yamilet B. Blanco Salas']"
   ]
  },
  {
   "cell_type": "code",
   "execution_count": 7,
   "metadata": {},
   "outputs": [],
   "source": [
    "def almacen(Almacén: str) -> str:\n",
    "    if 'Almacén 1' in Almacén:\n",
    "        return 1\n",
    "    elif 'Almacén 2' in Almacén:\n",
    "        return 2\n",
    "    else:\n",
    "        return Almacén\n",
    "\n",
    "def CE_Piso(Vendedor: str) -> str:\n",
    "    if Vendedor in lista_vendedoras_ce:\n",
    "        return 'CE'\n",
    "    else:\n",
    "        return 'Piso'\n",
    "\n",
    "dfven = dfven_Original.copy()\n",
    "dfven['Almacén'] = dfven['Almacén'].apply(almacen)\n",
    "dfven['CE_Piso'] = dfven['Vendedor'].apply(CE_Piso)\n"
   ]
  },
  {
   "cell_type": "markdown",
   "metadata": {},
   "source": [
    "¿Cuál es la órden de venta de Paty dónde más vendió y cuánto?"
   ]
  },
  {
   "cell_type": "code",
   "execution_count": 184,
   "metadata": {},
   "outputs": [
    {
     "data": {
      "text/plain": [
       "'Paty vendió $26,189.54 en la orden S05321'"
      ]
     },
     "execution_count": 184,
     "metadata": {},
     "output_type": "execute_result"
    }
   ],
   "source": [
    "vendedora = 'Patricia Flores Pantaleón'\n",
    "\n",
    "paty = dfven[dfven['Vendedor'] == vendedora]\n",
    "\n",
    "wep = paty[['Referencia de la orden','Subtotal']].groupby('Referencia de la orden').sum().sort_values(by=['Subtotal'],ascending=False).iloc[0]\n",
    "\n",
    "f\"Paty vendió ${wep['Subtotal']:,.2f} en la orden {wep.name}\""
   ]
  },
  {
   "cell_type": "markdown",
   "metadata": {},
   "source": [
    "¿Cuáles son los 5 artículos que más vende Paty?"
   ]
  },
  {
   "cell_type": "code",
   "execution_count": 111,
   "metadata": {},
   "outputs": [
    {
     "data": {
      "text/html": [
       "<div>\n",
       "<style scoped>\n",
       "    .dataframe tbody tr th:only-of-type {\n",
       "        vertical-align: middle;\n",
       "    }\n",
       "\n",
       "    .dataframe tbody tr th {\n",
       "        vertical-align: top;\n",
       "    }\n",
       "\n",
       "    .dataframe thead th {\n",
       "        text-align: right;\n",
       "    }\n",
       "</style>\n",
       "<table border=\"1\" class=\"dataframe\">\n",
       "  <thead>\n",
       "    <tr style=\"text-align: right;\">\n",
       "      <th></th>\n",
       "      <th>Producto</th>\n",
       "      <th>Cantidad</th>\n",
       "    </tr>\n",
       "    <tr>\n",
       "      <th>Producto/Referencia interna</th>\n",
       "      <th></th>\n",
       "      <th></th>\n",
       "    </tr>\n",
       "  </thead>\n",
       "  <tbody>\n",
       "    <tr>\n",
       "      <th>13154</th>\n",
       "      <td>[13154] Pija Autorr. C/Rondana 8*2\" Galv. (Kla...</td>\n",
       "      <td>4700.0</td>\n",
       "    </tr>\n",
       "    <tr>\n",
       "      <th>9917</th>\n",
       "      <td>[9917] Pija C/Pl 6*5/8 P/Bisagra (Fhsb658) *99...</td>\n",
       "      <td>2217.0</td>\n",
       "    </tr>\n",
       "    <tr>\n",
       "      <th>6528</th>\n",
       "      <td>[6528] Pija Autorr. C/Rondana 8\"*1/2\" Galv. *6...</td>\n",
       "      <td>1500.0</td>\n",
       "    </tr>\n",
       "    <tr>\n",
       "      <th>10179</th>\n",
       "      <td>[10179] Taq. Plastico El-Pro 1/4\" Blanco TQ-01...</td>\n",
       "      <td>1220.0</td>\n",
       "    </tr>\n",
       "    <tr>\n",
       "      <th>49507</th>\n",
       "      <td>[49507] Cubrebocas 3 capas quirúrgico Negro (P...</td>\n",
       "      <td>500.0</td>\n",
       "    </tr>\n",
       "  </tbody>\n",
       "</table>\n",
       "</div>"
      ],
      "text/plain": [
       "                                                                      Producto  \\\n",
       "Producto/Referencia interna                                                      \n",
       "13154                        [13154] Pija Autorr. C/Rondana 8*2\" Galv. (Kla...   \n",
       "9917                         [9917] Pija C/Pl 6*5/8 P/Bisagra (Fhsb658) *99...   \n",
       "6528                         [6528] Pija Autorr. C/Rondana 8\"*1/2\" Galv. *6...   \n",
       "10179                        [10179] Taq. Plastico El-Pro 1/4\" Blanco TQ-01...   \n",
       "49507                        [49507] Cubrebocas 3 capas quirúrgico Negro (P...   \n",
       "\n",
       "                             Cantidad  \n",
       "Producto/Referencia interna            \n",
       "13154                          4700.0  \n",
       "9917                           2217.0  \n",
       "6528                           1500.0  \n",
       "10179                          1220.0  \n",
       "49507                           500.0  "
      ]
     },
     "execution_count": 111,
     "metadata": {},
     "output_type": "execute_result"
    }
   ],
   "source": [
    "wep = paty[['Producto/Referencia interna','Producto','Cantidad']].groupby('Producto/Referencia interna').sum().sort_values(by=['Cantidad'],ascending=False).iloc[0:5]\n",
    "wep"
   ]
  },
  {
   "cell_type": "code",
   "execution_count": 112,
   "metadata": {},
   "outputs": [
    {
     "data": {
      "text/html": [
       "<div>\n",
       "<style scoped>\n",
       "    .dataframe tbody tr th:only-of-type {\n",
       "        vertical-align: middle;\n",
       "    }\n",
       "\n",
       "    .dataframe tbody tr th {\n",
       "        vertical-align: top;\n",
       "    }\n",
       "\n",
       "    .dataframe thead th {\n",
       "        text-align: right;\n",
       "    }\n",
       "</style>\n",
       "<table border=\"1\" class=\"dataframe\">\n",
       "  <thead>\n",
       "    <tr style=\"text-align: right;\">\n",
       "      <th></th>\n",
       "      <th>Producto</th>\n",
       "      <th>Subtotal</th>\n",
       "    </tr>\n",
       "    <tr>\n",
       "      <th>Producto/Referencia interna</th>\n",
       "      <th></th>\n",
       "      <th></th>\n",
       "    </tr>\n",
       "  </thead>\n",
       "  <tbody>\n",
       "    <tr>\n",
       "      <th>0</th>\n",
       "      <td>[0] Nuevo *0*[0] Nuevo *0*[0] Nuevo *0*[0] Nue...</td>\n",
       "      <td>65426.65</td>\n",
       "    </tr>\n",
       "    <tr>\n",
       "      <th>33661</th>\n",
       "      <td>[33661] Masking Tape 3M 1\"  #2090 *33661*[3366...</td>\n",
       "      <td>22872.18</td>\n",
       "    </tr>\n",
       "    <tr>\n",
       "      <th>1846</th>\n",
       "      <td>[1846] Termometro digital para alimentos Taylo...</td>\n",
       "      <td>12607.65</td>\n",
       "    </tr>\n",
       "    <tr>\n",
       "      <th>3034</th>\n",
       "      <td>[3034] Lija Ban. 4*24 Gd. 80 *3034*[3034] Lija...</td>\n",
       "      <td>7949.76</td>\n",
       "    </tr>\n",
       "    <tr>\n",
       "      <th>24610</th>\n",
       "      <td>[24610] Martillo sds plus 1* 800w M8701B-1 MAK...</td>\n",
       "      <td>6398.53</td>\n",
       "    </tr>\n",
       "  </tbody>\n",
       "</table>\n",
       "</div>"
      ],
      "text/plain": [
       "                                                                      Producto  \\\n",
       "Producto/Referencia interna                                                      \n",
       "0                            [0] Nuevo *0*[0] Nuevo *0*[0] Nuevo *0*[0] Nue...   \n",
       "33661                        [33661] Masking Tape 3M 1\"  #2090 *33661*[3366...   \n",
       "1846                         [1846] Termometro digital para alimentos Taylo...   \n",
       "3034                         [3034] Lija Ban. 4*24 Gd. 80 *3034*[3034] Lija...   \n",
       "24610                        [24610] Martillo sds plus 1* 800w M8701B-1 MAK...   \n",
       "\n",
       "                             Subtotal  \n",
       "Producto/Referencia interna            \n",
       "0                            65426.65  \n",
       "33661                        22872.18  \n",
       "1846                         12607.65  \n",
       "3034                          7949.76  \n",
       "24610                         6398.53  "
      ]
     },
     "execution_count": 112,
     "metadata": {},
     "output_type": "execute_result"
    }
   ],
   "source": [
    "wep = paty[['Producto/Referencia interna','Producto','Subtotal']].groupby('Producto/Referencia interna').sum().sort_values(by=['Subtotal'],ascending=False).iloc[0:5]\n",
    "wep"
   ]
  },
  {
   "cell_type": "markdown",
   "metadata": {},
   "source": [
    "¿Cuáles son los mejores 3 clientes de Paty? 1ro por cantidad de productos vendidos, 2do por subtotal de venta y el último por cantidad de OV en el mes."
   ]
  },
  {
   "cell_type": "code",
   "execution_count": 167,
   "metadata": {},
   "outputs": [],
   "source": [
    "wep = paty[['Cliente','Cantidad','Subtotal','Referencia de la orden']].groupby('Cliente').agg({'Referencia de la orden':['count',],'Cantidad':['sum',],'Subtotal':['sum',]})\n",
    "\n",
    "cov = wep[('Referencia de la orden', 'count')].sort_values(ascending=False)\n",
    "cov_name = cov.keys()[0]\n",
    "cov_cant = cov.loc[cov_name]\n",
    "\n",
    "ccant = wep[('Cantidad', 'sum')].sort_values(ascending=False)\n",
    "ccant_name = ccant.keys()[0]\n",
    "ccant_cant = ccant.loc[ccant_name]\n",
    "\n",
    "csub = wep[('Subtotal', 'sum')].sort_values(ascending=False)\n",
    "csub_name = csub.keys()[0]\n",
    "csub_cant = csub.loc[csub_name]\n"
   ]
  },
  {
   "cell_type": "code",
   "execution_count": 187,
   "metadata": {},
   "outputs": [
    {
     "name": "stdout",
     "output_type": "stream",
     "text": [
      "La vendedora Patricia Flores Pantaleón tiene a sus 3 mejores clientes de la siguiente manera:\n",
      "\tEl cliente Mostrador es el cliente que más órdenes de venta tiene, siendo un total de 740.00 órdenes\n",
      "\tEl cliente Mostrador es el cliente que más cantidad de producto, siendo un total de 5,743.25 artículos vendidos\n",
      "\tEl cliente Mostrador es el cliente que más facturó, siendo un total de $126,723.03 pesos en el mes de enero\n"
     ]
    }
   ],
   "source": [
    "print(f'La vendedora {vendedora} tiene a sus 3 mejores clientes de la siguiente manera:')\n",
    "print(f'\\tEl cliente {cov_name} es el cliente que más órdenes de venta tiene, siendo un total de {cov_cant:,.2f} órdenes')\n",
    "print(f'\\tEl cliente {ccant_name} es el cliente que más cantidad de producto, siendo un total de {ccant_cant:,.2f} artículos vendidos')\n",
    "print(f'\\tEl cliente {csub_name} es el cliente que más facturó, siendo un total de ${csub_cant:,.2f} pesos en el mes de enero')"
   ]
  }
 ],
 "metadata": {
  "kernelspec": {
   "display_name": ".venv",
   "language": "python",
   "name": "python3"
  },
  "language_info": {
   "codemirror_mode": {
    "name": "ipython",
    "version": 3
   },
   "file_extension": ".py",
   "mimetype": "text/x-python",
   "name": "python",
   "nbconvert_exporter": "python",
   "pygments_lexer": "ipython3",
   "version": "3.11.5"
  },
  "orig_nbformat": 4
 },
 "nbformat": 4,
 "nbformat_minor": 2
}
